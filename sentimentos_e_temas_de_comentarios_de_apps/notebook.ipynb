{
 "cells": [
  {
   "cell_type": "markdown",
   "id": "10f7e140",
   "metadata": {},
   "source": [
    "**Bibliotecas**"
   ]
  },
  {
   "cell_type": "code",
   "execution_count": null,
   "id": "eaed7d80",
   "metadata": {},
   "outputs": [],
   "source": [
    "#Coletados Comentários\n",
    "from google_play_scraper import Sort, reviews\n",
    "\n",
    "#Armazenamento em DF\n",
    "import pandas as pd\n",
    "pd.set_option('display.max_rows', None)\n",
    "pd.set_option('display.max_columns', None)\n",
    "\n",
    "#Transformar a coluna de versões para fazer filtro melhores\n",
    "from packaging.version import parse\n",
    "\n",
    "#Para realizar paralelismo\n",
    "import swifter\n",
    "\n",
    "#Tratamentos\n",
    "import re\n",
    "import emoji\n",
    "import nltk\n",
    "from nltk.corpus import stopwords\n",
    "import stanza\n",
    "\n",
    "#Sentimentos dos Comentários\n",
    "from pysentimiento import create_analyzer\n",
    "\n",
    "#Gráficos\n",
    "import matplotlib.pyplot as plt\n",
    "import seaborn as sns\n",
    "import plotly.graph_objects as go\n",
    "from plotly.subplots import make_subplots\n",
    "import plotly.express as px"
   ]
  },
  {
   "cell_type": "code",
   "execution_count": 17,
   "id": "f3ef61de",
   "metadata": {},
   "outputs": [
    {
     "name": "stderr",
     "output_type": "stream",
     "text": [
      "[nltk_data] Downloading package stopwords to\n",
      "[nltk_data]     C:\\Users\\Computador\\AppData\\Roaming\\nltk_data...\n",
      "[nltk_data]   Package stopwords is already up-to-date!\n",
      "Downloading https://raw.githubusercontent.com/stanfordnlp/stanza-resources/main/resources_1.10.0.json: 428kB [00:00, 50.3MB/s]                    \n",
      "2025-06-10 16:24:06 INFO: Downloaded file to C:\\Users\\Computador\\stanza_resources\\resources.json\n",
      "2025-06-10 16:24:06 INFO: Downloading default packages for language: pt (Portuguese) ...\n",
      "2025-06-10 16:24:07 INFO: File exists: C:\\Users\\Computador\\stanza_resources\\pt\\default.zip\n",
      "2025-06-10 16:24:10 INFO: Finished downloading models and saved to C:\\Users\\Computador\\stanza_resources\n",
      "2025-06-10 16:24:10 INFO: Checking for updates to resources.json in case models have been updated.  Note: this behavior can be turned off with download_method=None or download_method=DownloadMethod.REUSE_RESOURCES\n",
      "Downloading https://raw.githubusercontent.com/stanfordnlp/stanza-resources/main/resources_1.10.0.json: 428kB [00:00, 24.7MB/s]                    \n",
      "2025-06-10 16:24:10 INFO: Downloaded file to C:\\Users\\Computador\\stanza_resources\\resources.json\n",
      "2025-06-10 16:24:11 INFO: Loading these models for language: pt (Portuguese):\n",
      "===============================\n",
      "| Processor | Package         |\n",
      "-------------------------------\n",
      "| tokenize  | bosque          |\n",
      "| mwt       | bosque          |\n",
      "| pos       | bosque_charlm   |\n",
      "| lemma     | bosque_nocharlm |\n",
      "===============================\n",
      "\n",
      "2025-06-10 16:24:11 INFO: Using device: cpu\n",
      "2025-06-10 16:24:11 INFO: Loading: tokenize\n",
      "2025-06-10 16:24:11 INFO: Loading: mwt\n",
      "2025-06-10 16:24:11 INFO: Loading: pos\n",
      "2025-06-10 16:24:14 INFO: Loading: lemma\n",
      "2025-06-10 16:24:15 INFO: Done loading processors!\n"
     ]
    }
   ],
   "source": [
    "#Download de pacotes\n",
    "nltk.download(\"stopwords\")\n",
    "stanza.download('pt')\n",
    "\n",
    "nlp = stanza.Pipeline(lang='pt', processors='tokenize,mwt,pos,lemma')"
   ]
  },
  {
   "cell_type": "markdown",
   "id": "87ebd0fd",
   "metadata": {},
   "source": [
    "**Funções**"
   ]
  },
  {
   "cell_type": "code",
   "execution_count": 18,
   "id": "8c42cce8",
   "metadata": {},
   "outputs": [],
   "source": [
    "stopwords_pt = set(stopwords.words(\"portuguese\"))"
   ]
  },
  {
   "cell_type": "code",
   "execution_count": 19,
   "id": "3df3e4ff",
   "metadata": {},
   "outputs": [],
   "source": [
    "def tratamento_de_texto(texto):\n",
    "    texto = emoji.demojize(texto, language=\"pt\")\n",
    "    texto = texto.lower()\n",
    "    texto = re.sub(r'\\b(vivo|claro|tim)\\b', 'operadora', texto)\n",
    "    texto = re.sub(r'(:[^:\\s]+:)', r' \\1 ', texto)\n",
    "    texto = re.sub(r\"http\\S+|www\\S+|https\\S+\", \"\", texto)\n",
    "    texto = re.sub(r\"[^a-zá-úà-üç\\s]\", \"\", texto)\n",
    "    texto = re.sub(r'\\s+', ' ', texto).strip()\n",
    "\n",
    "    doc = nlp(texto)\n",
    "    \n",
    "    lemmas = [word.lemma for sent in doc.sentences for word in sent.words if word.lemma not in stopwords_pt and len(word.lemma) > 2]\n",
    "    \n",
    "    return \" \".join(lemmas)"
   ]
  },
  {
   "cell_type": "code",
   "execution_count": 56,
   "id": "eaad442b",
   "metadata": {},
   "outputs": [],
   "source": [
    "temas_manuais = {\n",
    "    \"Operadora\": [r\"operadora\"],\n",
    "    \"App\": [r\"\\bapp\\b\", r\"\\baplicativo\\b\"],\n",
    "    \"Login\": [r\"logar\", r\"\\blogin\\b\", r\"acessar\", r\"entrar\", r\"cadastrar\", r\"cadastro\"],\n",
    "    \"Atualização\": [r\"atualização\", r\"atualizei\", r\"versão\", r\"nova versão\", r\"última atualização\"],\n",
    "    \"Atendimento\": [r\"atendimento\", r\"chat\", r\"suporte\", r\"atendente\", r\"fale conosco\", r\"não responde\", r\"reclame\"],\n",
    "    \"Usabilidade\": [r\"interface\", r\"usabilidade\", r\"navegação\", r\"botão\", r\"menu\", r\"layout\", r\"tela\", r\"confuso\", r\"difícil\"],\n",
    "    \"Conta\": [r\"fatura\", r\"boleto\", r\"cobrança\", r\"pagamento\", r\"conta\", r\"valor indevido\", r\"preço errado\"],\n",
    "    \"Plano\": [r\"serviço\", r\"plano\", r\"contrato\", r\"assinatura\", r\"benefício\", r\"pacote\"],\n",
    "    \"Internet\": [r\"internet\", r\"sinal\", r\"conexão\", r\"velocidade\", r\"3g\", r\"4g\", r\"5g\", r\"wi[- ]?fi\", r\"queda\"],\n",
    "    \"Recarga\": [r\"recarga\", r\"créditos\", r\"saldo\"],\n",
    "    \"Benefícios\": [r\"promoção\", r\"desconto\", r\"benefício\", r\"cashback\", r\"oferta\"],\n",
    "    \"Desempenho\": [r\"bug\", r\"erro\", r\"trava\", r\"lento\", r\"crash\", r\"problema\", r\"instabilidade\"],\n",
    "    \"Notificações\": [r\"notificação\", r\"alerta\", r\"mensagem push\", r\"aviso\", r\"push\", r\"mensagem\", r\"sms\"]\n",
    "}\n"
   ]
  },
  {
   "cell_type": "code",
   "execution_count": 61,
   "id": "9e22df22",
   "metadata": {},
   "outputs": [],
   "source": [
    "def classificar_tema(texto, temas_dict):\n",
    "    texto = texto.lower()\n",
    "    temas_encontrados = []\n",
    "    for tema, padroes in temas_dict.items():\n",
    "        for padrao in padroes:\n",
    "            if re.search(padrao, texto):\n",
    "                temas_encontrados.append(tema)\n",
    "                break  # Evita múltiplas adições do mesmo tema\n",
    "    return temas_encontrados  # Sem categoria 'Outro'"
   ]
  },
  {
   "cell_type": "code",
   "execution_count": 22,
   "id": "4079f315",
   "metadata": {},
   "outputs": [],
   "source": [
    "analyzers = {\n",
    "    \"sentiment\": create_analyzer(task=\"sentiment\", lang=\"pt\"),\n",
    "    \"emotion\": create_analyzer(task=\"emotion\", lang=\"pt\"),\n",
    "}\n",
    "\n",
    "# Grupos para emoções resumidas\n",
    "grupos_emocoes = {\n",
    "    \"alegria\": [\"admiration\", \"amusement\", \"approval\", \"excitement\",\n",
    "                \"gratitude\", \"joy\", \"love\", \"optimism\", \"pride\"],\n",
    "    \"tristeza\": [\"disappointment\", \"remorse\", \"sadness\"],\n",
    "    \"raiva\": [\"anger\", \"annoyance\", \"disapproval\", \"disgust\"],\n",
    "    \"medo\": [\"fear\", \"nervousness\", \"embarrassment\"],\n",
    "    \"surpresa\": [\"surprise\", \"realization\"],\n",
    "    \"confianca\": [\"curiosity\", \"desire\", \"caring\"],\n",
    "    \"confusao\": [\"confusion\"],\n",
    "    \"neutro\": [\"neutral\", None]\n",
    "}\n",
    "\n",
    "def analisar_sentimento_todos(texto, analyzers=analyzers):\n",
    "    if not isinstance(texto, str) or not texto.strip():\n",
    "        return pd.Series()\n",
    "\n",
    "    dados = {}\n",
    "\n",
    "    for tipo, analyzer in analyzers.items():\n",
    "        resultado = analyzer.predict(texto)\n",
    "\n",
    "        # Ajuste seguro do output\n",
    "        if isinstance(resultado.output, list):\n",
    "            saida = resultado.output[0] if resultado.output else None\n",
    "        else:\n",
    "            saida = resultado.output\n",
    "\n",
    "        # Para emoção, substituir output pela categoria agregada\n",
    "        if tipo == \"emotion\":\n",
    "            # Pós-processamento: agregando emoções\n",
    "            grupo_probs = {}\n",
    "            for grupo, emocoes in grupos_emocoes.items():\n",
    "                soma = sum(resultado.probas.get(e, 0) for e in emocoes)\n",
    "                dados[f\"{tipo}_{grupo}\"] = soma\n",
    "                grupo_probs[grupo] = soma\n",
    "            \n",
    "            # Encontrar o grupo com maior probabilidade\n",
    "            if grupo_probs:\n",
    "                grupo_principal = max(grupo_probs, key=grupo_probs.get)\n",
    "            else:\n",
    "                grupo_principal = None\n",
    "\n",
    "            dados[f\"{tipo}_output\"] = grupo_principal\n",
    "        else:\n",
    "            # Mantém output original\n",
    "            dados[f\"{tipo}_output\"] = saida\n",
    "            # Mantém probas originais\n",
    "            for k, v in resultado.probas.items():\n",
    "                dados[f\"{tipo}_{k}\"] = v\n",
    "\n",
    "    return pd.Series(dados)\n"
   ]
  },
  {
   "cell_type": "markdown",
   "id": "df0cb6d8",
   "metadata": {},
   "source": [
    "# Extração de Comentários"
   ]
  },
  {
   "cell_type": "code",
   "execution_count": 23,
   "id": "08603872",
   "metadata": {},
   "outputs": [],
   "source": [
    "qtd_comentarios = 15000\n",
    "\n",
    "dados_android = []\n",
    "\n",
    "apps = {\n",
    "    \"Claro\": \"com.nvt.cs\",\n",
    "    \"TIM\": \"br.com.timbrasil.meutim\",\n",
    "    \"Vivo\": \"br.com.vivo\"\n",
    "}"
   ]
  },
  {
   "cell_type": "code",
   "execution_count": 24,
   "id": "f0aea699",
   "metadata": {},
   "outputs": [],
   "source": [
    "for app, app_id in apps.items():\n",
    "    result, _ = reviews(\n",
    "        app_id,\n",
    "        lang='pt',\n",
    "        country='br',\n",
    "        sort=Sort.NEWEST,\n",
    "        count=qtd_comentarios\n",
    "    )\n",
    "        \n",
    "    for review in result:\n",
    "        dados_android.append({\n",
    "            \"app\": app,\n",
    "            \"score\": review.get(\"score\", None),\n",
    "            \"content\": review.get(\"content\", None),\n",
    "            \"app_version\": review.get(\"appVersion\", None),\n",
    "            \"date\": review.get(\"at\", None),\n",
    "            \"reply_content\": review.get(\"replyContent\", None),\n",
    "            \"reply_date\": review.get(\"repliedAt\", None)\n",
    "        })"
   ]
  },
  {
   "cell_type": "code",
   "execution_count": 25,
   "id": "a879ccc5",
   "metadata": {},
   "outputs": [
    {
     "data": {
      "text/plain": [
       "(45000, 5)"
      ]
     },
     "execution_count": 25,
     "metadata": {},
     "output_type": "execute_result"
    }
   ],
   "source": [
    "comentarios_android = pd.DataFrame(dados_android, columns=[\"date\", \"score\", \"app_version\", \"app\",  \"content\"])\n",
    "comentarios_android.to_csv(\"comentarios.csv\", index=False)\n",
    "comentarios_android.shape"
   ]
  },
  {
   "cell_type": "markdown",
   "id": "c5cf1980",
   "metadata": {},
   "source": [
    "# Análise de Sentimento"
   ]
  },
  {
   "cell_type": "markdown",
   "id": "645ebdbf",
   "metadata": {},
   "source": [
    "## Análises"
   ]
  },
  {
   "cell_type": "code",
   "execution_count": 26,
   "id": "9acff674",
   "metadata": {},
   "outputs": [
    {
     "name": "stderr",
     "output_type": "stream",
     "text": [
      "Pandas Apply: 100%|██████████| 45000/45000 [1:12:54<00:00, 10.29it/s]\n"
     ]
    }
   ],
   "source": [
    "comentarios_android[\"content_proc\"] = comentarios_android[\"content\"].swifter.apply(tratamento_de_texto)"
   ]
  },
  {
   "cell_type": "code",
   "execution_count": 27,
   "id": "ef44563f",
   "metadata": {},
   "outputs": [
    {
     "name": "stderr",
     "output_type": "stream",
     "text": [
      "Pandas Apply: 100%|██████████| 45000/45000 [51:36<00:00, 14.53it/s]  \n"
     ]
    }
   ],
   "source": [
    "resultados = comentarios_android[\"content_proc\"].swifter.apply(analisar_sentimento_todos)\n",
    "df = pd.concat([comentarios_android, resultados], axis=1)"
   ]
  },
  {
   "cell_type": "code",
   "execution_count": 28,
   "id": "3f1a5ab7",
   "metadata": {},
   "outputs": [],
   "source": [
    "df.to_csv(\"comentarios_processados.csv\", index=False)"
   ]
  },
  {
   "cell_type": "code",
   "execution_count": 29,
   "id": "f07f0130",
   "metadata": {},
   "outputs": [
    {
     "name": "stdout",
     "output_type": "stream",
     "text": [
      "Data mínima da Claro:  2024-12-11 11:32:18\n",
      "Data mínima da TIM:  2024-12-12 11:37:05\n",
      "Data mínima da Vivo:  2024-12-11 11:32:18\n",
      "Data máxima da Claro:  2025-06-09 16:14:31\n",
      "Data máxima da TIM:  2025-06-09 16:05:37\n",
      "Data máxima da Vivo:  2025-06-09 16:14:31\n"
     ]
    }
   ],
   "source": [
    "print(\"Data mínima da Claro: \", df[df['app']=='Claro']['date'].min())\n",
    "print(\"Data mínima da TIM: \", df[df['app']=='TIM']['date'].min())\n",
    "print(\"Data mínima da Vivo: \", df[df['app']=='Claro']['date'].min())\n",
    "print(\"Data máxima da Claro: \", df[df['app']=='Claro']['date'].max())\n",
    "print(\"Data máxima da TIM: \", df[df['app']=='TIM']['date'].max())\n",
    "print(\"Data máxima da Vivo: \", df[df['app']=='Claro']['date'].max())"
   ]
  },
  {
   "cell_type": "markdown",
   "id": "ebc9cb96",
   "metadata": {},
   "source": [
    "### Notas"
   ]
  },
  {
   "cell_type": "code",
   "execution_count": 30,
   "id": "7c1994df",
   "metadata": {},
   "outputs": [
    {
     "data": {
      "image/png": "[encoded data removed]",
      "text/plain": [
       "<Figure size 1000x600 with 1 Axes>"
      ]
     },
     "metadata": {},
     "output_type": "display_data"
    }
   ],
   "source": [
    "sns.set_style(\"darkgrid\")\n",
    "plt.figure(figsize=(10, 6))\n",
    "\n",
    "# Plotar gráfico com hue simplificado\n",
    "sns.countplot(\n",
    "    data=df,\n",
    "    x='app',\n",
    "    hue='score',\n",
    "    palette={1: '#FF4C4C', 2: '#FFA500', 3: \"#FFFB00\", 4: \"#A0E95C\", 5: '#4CAF50'},\n",
    "    hue_order=[1, 2, 3, 4, 5]\n",
    ")\n",
    "\n",
    "plt.title(\"Notas dos Comentários Recentes por Operadora\", loc=\"center\")\n",
    "plt.xlabel(\"Operadora\")\n",
    "plt.ylabel(\"Qtd Comentários por Nota\")\n",
    "plt.legend(title=\"Nota\")\n",
    "\n",
    "plt.show()"
   ]
  },
  {
   "cell_type": "code",
   "execution_count": 31,
   "id": "a54a626e",
   "metadata": {},
   "outputs": [
    {
     "data": {
      "image/png": "[encoded data removed]",
      "text/plain": [
       "<Figure size 1200x600 with 1 Axes>"
      ]
     },
     "metadata": {},
     "output_type": "display_data"
    }
   ],
   "source": [
    "def agrupa_versao(v):\n",
    "    if pd.isnull(v):\n",
    "        return 'Outros'\n",
    "    try:\n",
    "        return v if parse(str(v)) >= parse('17.0') else 'Outros'\n",
    "    except:\n",
    "        return 'Outros'\n",
    "\n",
    "resultado = df[df['app'] == 'Claro'].copy()\n",
    "resultado['app_version'] = resultado['app_version'].fillna('0')\n",
    "resultado['app_version_agrupada'] = resultado['app_version'].apply(agrupa_versao)\n",
    "\n",
    "media_por_versao = resultado.groupby('app_version_agrupada')['score'].mean().reset_index()\n",
    "\n",
    "# 4. Gráfico de barras da nota média por versão\n",
    "plt.figure(figsize=(12,6))\n",
    "sns.barplot(data=media_por_versao, x='app_version_agrupada', y='score', palette='viridis')\n",
    "\n",
    "plt.xticks(rotation=45, ha='right')  # gira as labels para melhor visualização\n",
    "plt.xlabel('Versão do App')\n",
    "plt.ylabel('Nota Média')\n",
    "plt.title('Nota Média por Versão do App - Claro')\n",
    "plt.tight_layout()\n",
    "plt.show()\n"
   ]
  },
  {
   "cell_type": "code",
   "execution_count": 32,
   "id": "a05ff96d",
   "metadata": {},
   "outputs": [
    {
     "data": {
      "image/png": "[encoded data removed]",
      "text/plain": [
       "<Figure size 1200x600 with 1 Axes>"
      ]
     },
     "metadata": {},
     "output_type": "display_data"
    }
   ],
   "source": [
    "def agrupa_versao(v):\n",
    "    if pd.isnull(v):\n",
    "        return 'Outros'\n",
    "    try:\n",
    "        return v if parse(str(v)) >= parse('7.0') else 'Outros'\n",
    "    except:\n",
    "        return 'Outros'\n",
    "\n",
    "resultado = df[df['app'] == 'TIM'].copy()\n",
    "resultado['app_version'] = resultado['app_version'].fillna('0')\n",
    "resultado['app_version_agrupada'] = resultado['app_version'].apply(agrupa_versao)\n",
    "\n",
    "media_por_versao = resultado.groupby('app_version_agrupada')['score'].mean().reset_index()\n",
    "\n",
    "# 4. Gráfico de barras da nota média por versão\n",
    "plt.figure(figsize=(12,6))\n",
    "sns.barplot(data=media_por_versao, x='app_version_agrupada', y='score', palette='viridis')\n",
    "\n",
    "plt.xticks(rotation=45, ha='right')  # gira as labels para melhor visualização\n",
    "plt.xlabel('Versão do App')\n",
    "plt.ylabel('Nota Média')\n",
    "plt.title('Nota Média por Versão do App - TIM')\n",
    "plt.tight_layout()\n",
    "plt.show()"
   ]
  },
  {
   "cell_type": "code",
   "execution_count": 33,
   "id": "e99efc76",
   "metadata": {},
   "outputs": [
    {
     "data": {
      "image/png": "[encoded data removed]",
      "text/plain": [
       "<Figure size 1200x600 with 1 Axes>"
      ]
     },
     "metadata": {},
     "output_type": "display_data"
    }
   ],
   "source": [
    "def agrupa_versao(v):\n",
    "    if pd.isnull(v):\n",
    "        return 'Outros'\n",
    "    try:\n",
    "        return v if parse(str(v)) >= parse('20.0') else 'Outros'\n",
    "    except:\n",
    "        return 'Outros'\n",
    "\n",
    "resultado = df[df['app'] == 'Vivo'].copy()\n",
    "resultado['app_version'] = resultado['app_version'].fillna('0')\n",
    "resultado['app_version_agrupada'] = resultado['app_version'].apply(agrupa_versao)\n",
    "\n",
    "media_por_versao = resultado.groupby('app_version_agrupada')['score'].mean().reset_index()\n",
    "\n",
    "# 4. Gráfico de barras da nota média por versão\n",
    "plt.figure(figsize=(12,6))\n",
    "sns.barplot(data=media_por_versao, x='app_version_agrupada', y='score', palette='viridis')\n",
    "\n",
    "plt.xticks(rotation=45, ha='right')  # gira as labels para melhor visualização\n",
    "plt.xlabel('Versão do App')\n",
    "plt.ylabel('Nota Média')\n",
    "plt.title('Nota Média por Versão do App - Vivo')\n",
    "plt.tight_layout()\n",
    "plt.show()"
   ]
  },
  {
   "cell_type": "markdown",
   "id": "5fe94cf6",
   "metadata": {},
   "source": [
    "### Sentimentos por Versão"
   ]
  },
  {
   "cell_type": "markdown",
   "id": "8c19ca2a",
   "metadata": {},
   "source": [
    "#### Claro"
   ]
  },
  {
   "cell_type": "code",
   "execution_count": 34,
   "id": "21f45263",
   "metadata": {},
   "outputs": [
    {
     "data": {
      "text/html": [
       "<div>\n",
       "<style scoped>\n",
       "    .dataframe tbody tr th:only-of-type {\n",
       "        vertical-align: middle;\n",
       "    }\n",
       "\n",
       "    .dataframe tbody tr th {\n",
       "        vertical-align: top;\n",
       "    }\n",
       "\n",
       "    .dataframe thead th {\n",
       "        text-align: right;\n",
       "    }\n",
       "</style>\n",
       "<table border=\"1\" class=\"dataframe\">\n",
       "  <thead>\n",
       "    <tr style=\"text-align: right;\">\n",
       "      <th>app_version_agrupada</th>\n",
       "      <th>17.10.0</th>\n",
       "      <th>17.10.2</th>\n",
       "      <th>17.13.0</th>\n",
       "      <th>17.14.0</th>\n",
       "      <th>17.14.1</th>\n",
       "      <th>17.16.0</th>\n",
       "      <th>17.17.0</th>\n",
       "      <th>17.17.1</th>\n",
       "      <th>17.18.0</th>\n",
       "      <th>17.19.2</th>\n",
       "      <th>17.20.1</th>\n",
       "      <th>17.21.0</th>\n",
       "      <th>17.22.0</th>\n",
       "      <th>17.22.1</th>\n",
       "      <th>17.23.0</th>\n",
       "      <th>17.24.0</th>\n",
       "      <th>17.25.0</th>\n",
       "      <th>17.26.0</th>\n",
       "      <th>17.27.0</th>\n",
       "      <th>17.29.0</th>\n",
       "      <th>17.3.0</th>\n",
       "      <th>17.30.0</th>\n",
       "      <th>17.31.0</th>\n",
       "      <th>17.33.0</th>\n",
       "      <th>17.34.0</th>\n",
       "      <th>17.35.0</th>\n",
       "      <th>17.36.0</th>\n",
       "      <th>17.37.0</th>\n",
       "      <th>17.39.0</th>\n",
       "      <th>17.41.0</th>\n",
       "      <th>17.42.0</th>\n",
       "      <th>17.43.0</th>\n",
       "      <th>17.44.0</th>\n",
       "      <th>17.44.1</th>\n",
       "      <th>17.45.0</th>\n",
       "      <th>17.45.2</th>\n",
       "      <th>17.46.0</th>\n",
       "      <th>17.47.1</th>\n",
       "      <th>17.48.0</th>\n",
       "      <th>17.49.0</th>\n",
       "      <th>17.5.0</th>\n",
       "      <th>17.50.0</th>\n",
       "      <th>17.51.0</th>\n",
       "      <th>17.52.0</th>\n",
       "      <th>17.53.0</th>\n",
       "      <th>17.54.0</th>\n",
       "      <th>17.55.0</th>\n",
       "      <th>17.56.0</th>\n",
       "      <th>17.6.0</th>\n",
       "      <th>17.7.0</th>\n",
       "      <th>18.0.0</th>\n",
       "      <th>18.1.0</th>\n",
       "      <th>18.2.0</th>\n",
       "      <th>18.3.0</th>\n",
       "      <th>18.4.0</th>\n",
       "      <th>18.5.0</th>\n",
       "      <th>18.6.0</th>\n",
       "      <th>18.7.0</th>\n",
       "      <th>18.8.0</th>\n",
       "      <th>18.9.0</th>\n",
       "      <th>Outros</th>\n",
       "    </tr>\n",
       "    <tr>\n",
       "      <th>sentiment_output</th>\n",
       "      <th></th>\n",
       "      <th></th>\n",
       "      <th></th>\n",
       "      <th></th>\n",
       "      <th></th>\n",
       "      <th></th>\n",
       "      <th></th>\n",
       "      <th></th>\n",
       "      <th></th>\n",
       "      <th></th>\n",
       "      <th></th>\n",
       "      <th></th>\n",
       "      <th></th>\n",
       "      <th></th>\n",
       "      <th></th>\n",
       "      <th></th>\n",
       "      <th></th>\n",
       "      <th></th>\n",
       "      <th></th>\n",
       "      <th></th>\n",
       "      <th></th>\n",
       "      <th></th>\n",
       "      <th></th>\n",
       "      <th></th>\n",
       "      <th></th>\n",
       "      <th></th>\n",
       "      <th></th>\n",
       "      <th></th>\n",
       "      <th></th>\n",
       "      <th></th>\n",
       "      <th></th>\n",
       "      <th></th>\n",
       "      <th></th>\n",
       "      <th></th>\n",
       "      <th></th>\n",
       "      <th></th>\n",
       "      <th></th>\n",
       "      <th></th>\n",
       "      <th></th>\n",
       "      <th></th>\n",
       "      <th></th>\n",
       "      <th></th>\n",
       "      <th></th>\n",
       "      <th></th>\n",
       "      <th></th>\n",
       "      <th></th>\n",
       "      <th></th>\n",
       "      <th></th>\n",
       "      <th></th>\n",
       "      <th></th>\n",
       "      <th></th>\n",
       "      <th></th>\n",
       "      <th></th>\n",
       "      <th></th>\n",
       "      <th></th>\n",
       "      <th></th>\n",
       "      <th></th>\n",
       "      <th></th>\n",
       "      <th></th>\n",
       "      <th></th>\n",
       "      <th></th>\n",
       "    </tr>\n",
       "  </thead>\n",
       "  <tbody>\n",
       "    <tr>\n",
       "      <th>NEG</th>\n",
       "      <td>0.0</td>\n",
       "      <td>0.0</td>\n",
       "      <td>0.0</td>\n",
       "      <td>0.0</td>\n",
       "      <td>0.0</td>\n",
       "      <td>1.0</td>\n",
       "      <td>2.0</td>\n",
       "      <td>1.0</td>\n",
       "      <td>0.0</td>\n",
       "      <td>0.0</td>\n",
       "      <td>0.0</td>\n",
       "      <td>2.0</td>\n",
       "      <td>2.0</td>\n",
       "      <td>0.0</td>\n",
       "      <td>1.0</td>\n",
       "      <td>0.0</td>\n",
       "      <td>0.0</td>\n",
       "      <td>1.0</td>\n",
       "      <td>2.0</td>\n",
       "      <td>1.0</td>\n",
       "      <td>3.0</td>\n",
       "      <td>2.0</td>\n",
       "      <td>0.0</td>\n",
       "      <td>2.0</td>\n",
       "      <td>2.0</td>\n",
       "      <td>0.0</td>\n",
       "      <td>2.0</td>\n",
       "      <td>7.0</td>\n",
       "      <td>6.0</td>\n",
       "      <td>0.0</td>\n",
       "      <td>3.0</td>\n",
       "      <td>9.0</td>\n",
       "      <td>0.0</td>\n",
       "      <td>81.0</td>\n",
       "      <td>11.0</td>\n",
       "      <td>40.0</td>\n",
       "      <td>43.0</td>\n",
       "      <td>137.0</td>\n",
       "      <td>189.0</td>\n",
       "      <td>105.0</td>\n",
       "      <td>1.0</td>\n",
       "      <td>59.0</td>\n",
       "      <td>19.0</td>\n",
       "      <td>61.0</td>\n",
       "      <td>79.0</td>\n",
       "      <td>188.0</td>\n",
       "      <td>59.0</td>\n",
       "      <td>138.0</td>\n",
       "      <td>0.0</td>\n",
       "      <td>1.0</td>\n",
       "      <td>86.0</td>\n",
       "      <td>24.0</td>\n",
       "      <td>41.0</td>\n",
       "      <td>75.0</td>\n",
       "      <td>124.0</td>\n",
       "      <td>121.0</td>\n",
       "      <td>71.0</td>\n",
       "      <td>41.0</td>\n",
       "      <td>71.0</td>\n",
       "      <td>3.0</td>\n",
       "      <td>400.0</td>\n",
       "    </tr>\n",
       "    <tr>\n",
       "      <th>NEU</th>\n",
       "      <td>2.0</td>\n",
       "      <td>1.0</td>\n",
       "      <td>1.0</td>\n",
       "      <td>2.0</td>\n",
       "      <td>3.0</td>\n",
       "      <td>1.0</td>\n",
       "      <td>1.0</td>\n",
       "      <td>1.0</td>\n",
       "      <td>3.0</td>\n",
       "      <td>1.0</td>\n",
       "      <td>2.0</td>\n",
       "      <td>2.0</td>\n",
       "      <td>0.0</td>\n",
       "      <td>2.0</td>\n",
       "      <td>0.0</td>\n",
       "      <td>3.0</td>\n",
       "      <td>2.0</td>\n",
       "      <td>2.0</td>\n",
       "      <td>3.0</td>\n",
       "      <td>3.0</td>\n",
       "      <td>0.0</td>\n",
       "      <td>8.0</td>\n",
       "      <td>2.0</td>\n",
       "      <td>7.0</td>\n",
       "      <td>1.0</td>\n",
       "      <td>1.0</td>\n",
       "      <td>2.0</td>\n",
       "      <td>9.0</td>\n",
       "      <td>11.0</td>\n",
       "      <td>0.0</td>\n",
       "      <td>7.0</td>\n",
       "      <td>23.0</td>\n",
       "      <td>2.0</td>\n",
       "      <td>332.0</td>\n",
       "      <td>17.0</td>\n",
       "      <td>173.0</td>\n",
       "      <td>192.0</td>\n",
       "      <td>518.0</td>\n",
       "      <td>522.0</td>\n",
       "      <td>419.0</td>\n",
       "      <td>3.0</td>\n",
       "      <td>209.0</td>\n",
       "      <td>88.0</td>\n",
       "      <td>226.0</td>\n",
       "      <td>325.0</td>\n",
       "      <td>637.0</td>\n",
       "      <td>176.0</td>\n",
       "      <td>432.0</td>\n",
       "      <td>2.0</td>\n",
       "      <td>0.0</td>\n",
       "      <td>325.0</td>\n",
       "      <td>74.0</td>\n",
       "      <td>171.0</td>\n",
       "      <td>275.0</td>\n",
       "      <td>460.0</td>\n",
       "      <td>365.0</td>\n",
       "      <td>269.0</td>\n",
       "      <td>134.0</td>\n",
       "      <td>315.0</td>\n",
       "      <td>18.0</td>\n",
       "      <td>456.0</td>\n",
       "    </tr>\n",
       "    <tr>\n",
       "      <th>POS</th>\n",
       "      <td>2.0</td>\n",
       "      <td>2.0</td>\n",
       "      <td>0.0</td>\n",
       "      <td>2.0</td>\n",
       "      <td>0.0</td>\n",
       "      <td>1.0</td>\n",
       "      <td>1.0</td>\n",
       "      <td>0.0</td>\n",
       "      <td>1.0</td>\n",
       "      <td>0.0</td>\n",
       "      <td>3.0</td>\n",
       "      <td>0.0</td>\n",
       "      <td>0.0</td>\n",
       "      <td>2.0</td>\n",
       "      <td>0.0</td>\n",
       "      <td>0.0</td>\n",
       "      <td>0.0</td>\n",
       "      <td>0.0</td>\n",
       "      <td>2.0</td>\n",
       "      <td>1.0</td>\n",
       "      <td>1.0</td>\n",
       "      <td>3.0</td>\n",
       "      <td>0.0</td>\n",
       "      <td>3.0</td>\n",
       "      <td>1.0</td>\n",
       "      <td>0.0</td>\n",
       "      <td>1.0</td>\n",
       "      <td>5.0</td>\n",
       "      <td>2.0</td>\n",
       "      <td>2.0</td>\n",
       "      <td>3.0</td>\n",
       "      <td>11.0</td>\n",
       "      <td>1.0</td>\n",
       "      <td>266.0</td>\n",
       "      <td>26.0</td>\n",
       "      <td>130.0</td>\n",
       "      <td>161.0</td>\n",
       "      <td>425.0</td>\n",
       "      <td>356.0</td>\n",
       "      <td>317.0</td>\n",
       "      <td>1.0</td>\n",
       "      <td>169.0</td>\n",
       "      <td>71.0</td>\n",
       "      <td>182.0</td>\n",
       "      <td>193.0</td>\n",
       "      <td>495.0</td>\n",
       "      <td>138.0</td>\n",
       "      <td>367.0</td>\n",
       "      <td>1.0</td>\n",
       "      <td>0.0</td>\n",
       "      <td>237.0</td>\n",
       "      <td>48.0</td>\n",
       "      <td>114.0</td>\n",
       "      <td>206.0</td>\n",
       "      <td>348.0</td>\n",
       "      <td>298.0</td>\n",
       "      <td>178.0</td>\n",
       "      <td>95.0</td>\n",
       "      <td>189.0</td>\n",
       "      <td>9.0</td>\n",
       "      <td>254.0</td>\n",
       "    </tr>\n",
       "  </tbody>\n",
       "</table>\n",
       "</div>"
      ],
      "text/plain": [
       "app_version_agrupada  17.10.0  17.10.2  17.13.0  17.14.0  17.14.1  17.16.0  \\\n",
       "sentiment_output                                                             \n",
       "NEG                       0.0      0.0      0.0      0.0      0.0      1.0   \n",
       "NEU                       2.0      1.0      1.0      2.0      3.0      1.0   \n",
       "POS                       2.0      2.0      0.0      2.0      0.0      1.0   \n",
       "\n",
       "app_version_agrupada  17.17.0  17.17.1  17.18.0  17.19.2  17.20.1  17.21.0  \\\n",
       "sentiment_output                                                             \n",
       "NEG                       2.0      1.0      0.0      0.0      0.0      2.0   \n",
       "NEU                       1.0      1.0      3.0      1.0      2.0      2.0   \n",
       "POS                       1.0      0.0      1.0      0.0      3.0      0.0   \n",
       "\n",
       "app_version_agrupada  17.22.0  17.22.1  17.23.0  17.24.0  17.25.0  17.26.0  \\\n",
       "sentiment_output                                                             \n",
       "NEG                       2.0      0.0      1.0      0.0      0.0      1.0   \n",
       "NEU                       0.0      2.0      0.0      3.0      2.0      2.0   \n",
       "POS                       0.0      2.0      0.0      0.0      0.0      0.0   \n",
       "\n",
       "app_version_agrupada  17.27.0  17.29.0  17.3.0  17.30.0  17.31.0  17.33.0  \\\n",
       "sentiment_output                                                            \n",
       "NEG                       2.0      1.0     3.0      2.0      0.0      2.0   \n",
       "NEU                       3.0      3.0     0.0      8.0      2.0      7.0   \n",
       "POS                       2.0      1.0     1.0      3.0      0.0      3.0   \n",
       "\n",
       "app_version_agrupada  17.34.0  17.35.0  17.36.0  17.37.0  17.39.0  17.41.0  \\\n",
       "sentiment_output                                                             \n",
       "NEG                       2.0      0.0      2.0      7.0      6.0      0.0   \n",
       "NEU                       1.0      1.0      2.0      9.0     11.0      0.0   \n",
       "POS                       1.0      0.0      1.0      5.0      2.0      2.0   \n",
       "\n",
       "app_version_agrupada  17.42.0  17.43.0  17.44.0  17.44.1  17.45.0  17.45.2  \\\n",
       "sentiment_output                                                             \n",
       "NEG                       3.0      9.0      0.0     81.0     11.0     40.0   \n",
       "NEU                       7.0     23.0      2.0    332.0     17.0    173.0   \n",
       "POS                       3.0     11.0      1.0    266.0     26.0    130.0   \n",
       "\n",
       "app_version_agrupada  17.46.0  17.47.1  17.48.0  17.49.0  17.5.0  17.50.0  \\\n",
       "sentiment_output                                                            \n",
       "NEG                      43.0    137.0    189.0    105.0     1.0     59.0   \n",
       "NEU                     192.0    518.0    522.0    419.0     3.0    209.0   \n",
       "POS                     161.0    425.0    356.0    317.0     1.0    169.0   \n",
       "\n",
       "app_version_agrupada  17.51.0  17.52.0  17.53.0  17.54.0  17.55.0  17.56.0  \\\n",
       "sentiment_output                                                             \n",
       "NEG                      19.0     61.0     79.0    188.0     59.0    138.0   \n",
       "NEU                      88.0    226.0    325.0    637.0    176.0    432.0   \n",
       "POS                      71.0    182.0    193.0    495.0    138.0    367.0   \n",
       "\n",
       "app_version_agrupada  17.6.0  17.7.0  18.0.0  18.1.0  18.2.0  18.3.0  18.4.0  \\\n",
       "sentiment_output                                                               \n",
       "NEG                      0.0     1.0    86.0    24.0    41.0    75.0   124.0   \n",
       "NEU                      2.0     0.0   325.0    74.0   171.0   275.0   460.0   \n",
       "POS                      1.0     0.0   237.0    48.0   114.0   206.0   348.0   \n",
       "\n",
       "app_version_agrupada  18.5.0  18.6.0  18.7.0  18.8.0  18.9.0  Outros  \n",
       "sentiment_output                                                      \n",
       "NEG                    121.0    71.0    41.0    71.0     3.0   400.0  \n",
       "NEU                    365.0   269.0   134.0   315.0    18.0   456.0  \n",
       "POS                    298.0   178.0    95.0   189.0     9.0   254.0  "
      ]
     },
     "execution_count": 34,
     "metadata": {},
     "output_type": "execute_result"
    }
   ],
   "source": [
    "def agrupa_versao(v):\n",
    "    if pd.isnull(v):\n",
    "        return 'Outros'\n",
    "    try:\n",
    "        return v if parse(str(v)) >= parse('17.0.0') else 'Outros'\n",
    "    except:\n",
    "        return 'Outros'\n",
    "\n",
    "resultado = df[df['app'] == 'Claro'].copy()\n",
    "resultado['app_version'] = resultado['app_version'].fillna('0')\n",
    "resultado['app_version_agrupada'] = resultado['app_version'].apply(agrupa_versao)\n",
    "\n",
    "resultado_grouped = (resultado\n",
    "                     .groupby(['sentiment_output', 'app_version_agrupada'])\n",
    "                     .size()\n",
    "                     .reset_index(name='contagem'))\n",
    "\n",
    "tabela = resultado_grouped.pivot(index='sentiment_output',\n",
    "                                 columns='app_version_agrupada',\n",
    "                                 values='contagem').fillna(0)\n",
    "\n",
    "tabela"
   ]
  },
  {
   "cell_type": "code",
   "execution_count": 35,
   "id": "ae4b9115",
   "metadata": {},
   "outputs": [
    {
     "data": {
      "text/html": [
       "<div>\n",
       "<style scoped>\n",
       "    .dataframe tbody tr th:only-of-type {\n",
       "        vertical-align: middle;\n",
       "    }\n",
       "\n",
       "    .dataframe tbody tr th {\n",
       "        vertical-align: top;\n",
       "    }\n",
       "\n",
       "    .dataframe thead th {\n",
       "        text-align: right;\n",
       "    }\n",
       "</style>\n",
       "<table border=\"1\" class=\"dataframe\">\n",
       "  <thead>\n",
       "    <tr style=\"text-align: right;\">\n",
       "      <th>app_version_agrupada</th>\n",
       "      <th>17.44.1</th>\n",
       "      <th>17.45.2</th>\n",
       "      <th>17.46.0</th>\n",
       "      <th>17.47.1</th>\n",
       "      <th>17.48.0</th>\n",
       "      <th>17.49.0</th>\n",
       "      <th>17.50.0</th>\n",
       "      <th>17.52.0</th>\n",
       "      <th>17.53.0</th>\n",
       "      <th>17.54.0</th>\n",
       "      <th>17.55.0</th>\n",
       "      <th>17.56.0</th>\n",
       "      <th>18.0.0</th>\n",
       "      <th>18.2.0</th>\n",
       "      <th>18.3.0</th>\n",
       "      <th>18.4.0</th>\n",
       "      <th>18.5.0</th>\n",
       "      <th>18.6.0</th>\n",
       "      <th>18.7.0</th>\n",
       "      <th>18.8.0</th>\n",
       "      <th>Outros</th>\n",
       "    </tr>\n",
       "    <tr>\n",
       "      <th>sentiment_output</th>\n",
       "      <th></th>\n",
       "      <th></th>\n",
       "      <th></th>\n",
       "      <th></th>\n",
       "      <th></th>\n",
       "      <th></th>\n",
       "      <th></th>\n",
       "      <th></th>\n",
       "      <th></th>\n",
       "      <th></th>\n",
       "      <th></th>\n",
       "      <th></th>\n",
       "      <th></th>\n",
       "      <th></th>\n",
       "      <th></th>\n",
       "      <th></th>\n",
       "      <th></th>\n",
       "      <th></th>\n",
       "      <th></th>\n",
       "      <th></th>\n",
       "      <th></th>\n",
       "    </tr>\n",
       "  </thead>\n",
       "  <tbody>\n",
       "    <tr>\n",
       "      <th>NEG</th>\n",
       "      <td>81</td>\n",
       "      <td>40</td>\n",
       "      <td>43</td>\n",
       "      <td>137</td>\n",
       "      <td>189</td>\n",
       "      <td>105</td>\n",
       "      <td>59</td>\n",
       "      <td>61</td>\n",
       "      <td>79</td>\n",
       "      <td>188</td>\n",
       "      <td>59</td>\n",
       "      <td>138</td>\n",
       "      <td>86</td>\n",
       "      <td>41</td>\n",
       "      <td>75</td>\n",
       "      <td>124</td>\n",
       "      <td>121</td>\n",
       "      <td>71</td>\n",
       "      <td>41</td>\n",
       "      <td>71</td>\n",
       "      <td>167</td>\n",
       "    </tr>\n",
       "    <tr>\n",
       "      <th>NEU</th>\n",
       "      <td>332</td>\n",
       "      <td>173</td>\n",
       "      <td>192</td>\n",
       "      <td>518</td>\n",
       "      <td>522</td>\n",
       "      <td>419</td>\n",
       "      <td>209</td>\n",
       "      <td>226</td>\n",
       "      <td>325</td>\n",
       "      <td>637</td>\n",
       "      <td>176</td>\n",
       "      <td>432</td>\n",
       "      <td>325</td>\n",
       "      <td>171</td>\n",
       "      <td>275</td>\n",
       "      <td>460</td>\n",
       "      <td>365</td>\n",
       "      <td>269</td>\n",
       "      <td>134</td>\n",
       "      <td>315</td>\n",
       "      <td>353</td>\n",
       "    </tr>\n",
       "    <tr>\n",
       "      <th>POS</th>\n",
       "      <td>266</td>\n",
       "      <td>130</td>\n",
       "      <td>161</td>\n",
       "      <td>425</td>\n",
       "      <td>356</td>\n",
       "      <td>317</td>\n",
       "      <td>169</td>\n",
       "      <td>182</td>\n",
       "      <td>193</td>\n",
       "      <td>495</td>\n",
       "      <td>138</td>\n",
       "      <td>367</td>\n",
       "      <td>237</td>\n",
       "      <td>114</td>\n",
       "      <td>206</td>\n",
       "      <td>348</td>\n",
       "      <td>298</td>\n",
       "      <td>178</td>\n",
       "      <td>95</td>\n",
       "      <td>189</td>\n",
       "      <td>234</td>\n",
       "    </tr>\n",
       "  </tbody>\n",
       "</table>\n",
       "</div>"
      ],
      "text/plain": [
       "app_version_agrupada  17.44.1  17.45.2  17.46.0  17.47.1  17.48.0  17.49.0  \\\n",
       "sentiment_output                                                             \n",
       "NEG                        81       40       43      137      189      105   \n",
       "NEU                       332      173      192      518      522      419   \n",
       "POS                       266      130      161      425      356      317   \n",
       "\n",
       "app_version_agrupada  17.50.0  17.52.0  17.53.0  17.54.0  17.55.0  17.56.0  \\\n",
       "sentiment_output                                                             \n",
       "NEG                        59       61       79      188       59      138   \n",
       "NEU                       209      226      325      637      176      432   \n",
       "POS                       169      182      193      495      138      367   \n",
       "\n",
       "app_version_agrupada  18.0.0  18.2.0  18.3.0  18.4.0  18.5.0  18.6.0  18.7.0  \\\n",
       "sentiment_output                                                               \n",
       "NEG                       86      41      75     124     121      71      41   \n",
       "NEU                      325     171     275     460     365     269     134   \n",
       "POS                      237     114     206     348     298     178      95   \n",
       "\n",
       "app_version_agrupada  18.8.0  Outros  \n",
       "sentiment_output                      \n",
       "NEG                       71     167  \n",
       "NEU                      315     353  \n",
       "POS                      189     234  "
      ]
     },
     "execution_count": 35,
     "metadata": {},
     "output_type": "execute_result"
    }
   ],
   "source": [
    "frequencias = df[df['app'] == 'Claro']['app_version'].value_counts()\n",
    "\n",
    "limiar = 200\n",
    "versoes_rare = frequencias[frequencias < limiar].index\n",
    "\n",
    "df['app_version_agrupada'] = df['app_version'].where(~df['app_version'].isin(versoes_rare), 'Outros')\n",
    "\n",
    "resultado = (df[df['app'] == 'Claro']\n",
    "             .groupby(['sentiment_output', 'app_version_agrupada'])\n",
    "             .size()\n",
    "             .reset_index(name='contagem'))\n",
    "\n",
    "tabela = resultado.pivot(index='sentiment_output', columns='app_version_agrupada', values='contagem').fillna(0)\n",
    "tabela\n"
   ]
  },
  {
   "cell_type": "markdown",
   "id": "e168d7a0",
   "metadata": {},
   "source": [
    "#### TIM"
   ]
  },
  {
   "cell_type": "code",
   "execution_count": 36,
   "id": "d8d20213",
   "metadata": {},
   "outputs": [
    {
     "data": {
      "text/html": [
       "<div>\n",
       "<style scoped>\n",
       "    .dataframe tbody tr th:only-of-type {\n",
       "        vertical-align: middle;\n",
       "    }\n",
       "\n",
       "    .dataframe tbody tr th {\n",
       "        vertical-align: top;\n",
       "    }\n",
       "\n",
       "    .dataframe thead th {\n",
       "        text-align: right;\n",
       "    }\n",
       "</style>\n",
       "<table border=\"1\" class=\"dataframe\">\n",
       "  <thead>\n",
       "    <tr style=\"text-align: right;\">\n",
       "      <th>app_version_agrupada</th>\n",
       "      <th>7.1.4</th>\n",
       "      <th>7.2.25</th>\n",
       "      <th>7.2.30</th>\n",
       "      <th>7.2.34</th>\n",
       "      <th>7.2.39</th>\n",
       "      <th>7.4.21</th>\n",
       "      <th>7.4.31</th>\n",
       "      <th>7.4.39</th>\n",
       "      <th>7.5.13</th>\n",
       "      <th>7.5.14</th>\n",
       "      <th>7.5.16</th>\n",
       "      <th>7.5.18</th>\n",
       "      <th>7.5.19</th>\n",
       "      <th>7.5.7</th>\n",
       "      <th>7.5.9</th>\n",
       "      <th>7.6.0</th>\n",
       "      <th>7.6.3</th>\n",
       "      <th>7.7.5</th>\n",
       "      <th>7.7.9</th>\n",
       "      <th>7.8.4</th>\n",
       "      <th>7.9.0</th>\n",
       "      <th>7.9.12</th>\n",
       "      <th>7.9.13</th>\n",
       "      <th>7.9.14</th>\n",
       "      <th>7.9.15</th>\n",
       "      <th>7.9.16</th>\n",
       "      <th>7.9.18</th>\n",
       "      <th>7.9.20</th>\n",
       "      <th>7.9.3</th>\n",
       "      <th>7.9.6</th>\n",
       "      <th>8.0.0</th>\n",
       "      <th>8.0.2</th>\n",
       "      <th>8.1.0</th>\n",
       "      <th>8.2.0</th>\n",
       "      <th>8.4.0</th>\n",
       "      <th>8.5.0</th>\n",
       "      <th>8.6.0</th>\n",
       "      <th>8.7.0</th>\n",
       "      <th>8.8.1</th>\n",
       "      <th>8.8.2</th>\n",
       "      <th>Outros</th>\n",
       "    </tr>\n",
       "    <tr>\n",
       "      <th>sentiment_output</th>\n",
       "      <th></th>\n",
       "      <th></th>\n",
       "      <th></th>\n",
       "      <th></th>\n",
       "      <th></th>\n",
       "      <th></th>\n",
       "      <th></th>\n",
       "      <th></th>\n",
       "      <th></th>\n",
       "      <th></th>\n",
       "      <th></th>\n",
       "      <th></th>\n",
       "      <th></th>\n",
       "      <th></th>\n",
       "      <th></th>\n",
       "      <th></th>\n",
       "      <th></th>\n",
       "      <th></th>\n",
       "      <th></th>\n",
       "      <th></th>\n",
       "      <th></th>\n",
       "      <th></th>\n",
       "      <th></th>\n",
       "      <th></th>\n",
       "      <th></th>\n",
       "      <th></th>\n",
       "      <th></th>\n",
       "      <th></th>\n",
       "      <th></th>\n",
       "      <th></th>\n",
       "      <th></th>\n",
       "      <th></th>\n",
       "      <th></th>\n",
       "      <th></th>\n",
       "      <th></th>\n",
       "      <th></th>\n",
       "      <th></th>\n",
       "      <th></th>\n",
       "      <th></th>\n",
       "      <th></th>\n",
       "      <th></th>\n",
       "    </tr>\n",
       "  </thead>\n",
       "  <tbody>\n",
       "    <tr>\n",
       "      <th>NEG</th>\n",
       "      <td>4.0</td>\n",
       "      <td>2.0</td>\n",
       "      <td>1.0</td>\n",
       "      <td>6.0</td>\n",
       "      <td>2.0</td>\n",
       "      <td>5.0</td>\n",
       "      <td>15.0</td>\n",
       "      <td>17.0</td>\n",
       "      <td>1.0</td>\n",
       "      <td>19.0</td>\n",
       "      <td>2.0</td>\n",
       "      <td>9.0</td>\n",
       "      <td>11.0</td>\n",
       "      <td>6.0</td>\n",
       "      <td>35.0</td>\n",
       "      <td>13.0</td>\n",
       "      <td>6.0</td>\n",
       "      <td>3.0</td>\n",
       "      <td>3.0</td>\n",
       "      <td>7.0</td>\n",
       "      <td>0.0</td>\n",
       "      <td>0.0</td>\n",
       "      <td>0.0</td>\n",
       "      <td>3.0</td>\n",
       "      <td>31.0</td>\n",
       "      <td>277.0</td>\n",
       "      <td>312.0</td>\n",
       "      <td>508.0</td>\n",
       "      <td>46.0</td>\n",
       "      <td>2.0</td>\n",
       "      <td>4.0</td>\n",
       "      <td>1127.0</td>\n",
       "      <td>559.0</td>\n",
       "      <td>955.0</td>\n",
       "      <td>310.0</td>\n",
       "      <td>196.0</td>\n",
       "      <td>490.0</td>\n",
       "      <td>294.0</td>\n",
       "      <td>91.0</td>\n",
       "      <td>5.0</td>\n",
       "      <td>1277.0</td>\n",
       "    </tr>\n",
       "    <tr>\n",
       "      <th>NEU</th>\n",
       "      <td>3.0</td>\n",
       "      <td>1.0</td>\n",
       "      <td>0.0</td>\n",
       "      <td>6.0</td>\n",
       "      <td>5.0</td>\n",
       "      <td>6.0</td>\n",
       "      <td>5.0</td>\n",
       "      <td>6.0</td>\n",
       "      <td>3.0</td>\n",
       "      <td>13.0</td>\n",
       "      <td>1.0</td>\n",
       "      <td>9.0</td>\n",
       "      <td>12.0</td>\n",
       "      <td>3.0</td>\n",
       "      <td>12.0</td>\n",
       "      <td>6.0</td>\n",
       "      <td>12.0</td>\n",
       "      <td>1.0</td>\n",
       "      <td>6.0</td>\n",
       "      <td>13.0</td>\n",
       "      <td>1.0</td>\n",
       "      <td>2.0</td>\n",
       "      <td>0.0</td>\n",
       "      <td>5.0</td>\n",
       "      <td>31.0</td>\n",
       "      <td>316.0</td>\n",
       "      <td>501.0</td>\n",
       "      <td>784.0</td>\n",
       "      <td>40.0</td>\n",
       "      <td>0.0</td>\n",
       "      <td>2.0</td>\n",
       "      <td>512.0</td>\n",
       "      <td>250.0</td>\n",
       "      <td>641.0</td>\n",
       "      <td>281.0</td>\n",
       "      <td>224.0</td>\n",
       "      <td>681.0</td>\n",
       "      <td>332.0</td>\n",
       "      <td>186.0</td>\n",
       "      <td>5.0</td>\n",
       "      <td>898.0</td>\n",
       "    </tr>\n",
       "    <tr>\n",
       "      <th>POS</th>\n",
       "      <td>3.0</td>\n",
       "      <td>1.0</td>\n",
       "      <td>0.0</td>\n",
       "      <td>0.0</td>\n",
       "      <td>1.0</td>\n",
       "      <td>2.0</td>\n",
       "      <td>1.0</td>\n",
       "      <td>6.0</td>\n",
       "      <td>2.0</td>\n",
       "      <td>1.0</td>\n",
       "      <td>2.0</td>\n",
       "      <td>3.0</td>\n",
       "      <td>4.0</td>\n",
       "      <td>2.0</td>\n",
       "      <td>4.0</td>\n",
       "      <td>3.0</td>\n",
       "      <td>3.0</td>\n",
       "      <td>2.0</td>\n",
       "      <td>2.0</td>\n",
       "      <td>4.0</td>\n",
       "      <td>0.0</td>\n",
       "      <td>0.0</td>\n",
       "      <td>1.0</td>\n",
       "      <td>3.0</td>\n",
       "      <td>14.0</td>\n",
       "      <td>104.0</td>\n",
       "      <td>279.0</td>\n",
       "      <td>436.0</td>\n",
       "      <td>19.0</td>\n",
       "      <td>1.0</td>\n",
       "      <td>0.0</td>\n",
       "      <td>147.0</td>\n",
       "      <td>60.0</td>\n",
       "      <td>174.0</td>\n",
       "      <td>158.0</td>\n",
       "      <td>102.0</td>\n",
       "      <td>323.0</td>\n",
       "      <td>203.0</td>\n",
       "      <td>66.0</td>\n",
       "      <td>1.0</td>\n",
       "      <td>316.0</td>\n",
       "    </tr>\n",
       "  </tbody>\n",
       "</table>\n",
       "</div>"
      ],
      "text/plain": [
       "app_version_agrupada  7.1.4  7.2.25  7.2.30  7.2.34  7.2.39  7.4.21  7.4.31  \\\n",
       "sentiment_output                                                              \n",
       "NEG                     4.0     2.0     1.0     6.0     2.0     5.0    15.0   \n",
       "NEU                     3.0     1.0     0.0     6.0     5.0     6.0     5.0   \n",
       "POS                     3.0     1.0     0.0     0.0     1.0     2.0     1.0   \n",
       "\n",
       "app_version_agrupada  7.4.39  7.5.13  7.5.14  7.5.16  7.5.18  7.5.19  7.5.7  \\\n",
       "sentiment_output                                                              \n",
       "NEG                     17.0     1.0    19.0     2.0     9.0    11.0    6.0   \n",
       "NEU                      6.0     3.0    13.0     1.0     9.0    12.0    3.0   \n",
       "POS                      6.0     2.0     1.0     2.0     3.0     4.0    2.0   \n",
       "\n",
       "app_version_agrupada  7.5.9  7.6.0  7.6.3  7.7.5  7.7.9  7.8.4  7.9.0  7.9.12  \\\n",
       "sentiment_output                                                                \n",
       "NEG                    35.0   13.0    6.0    3.0    3.0    7.0    0.0     0.0   \n",
       "NEU                    12.0    6.0   12.0    1.0    6.0   13.0    1.0     2.0   \n",
       "POS                     4.0    3.0    3.0    2.0    2.0    4.0    0.0     0.0   \n",
       "\n",
       "app_version_agrupada  7.9.13  7.9.14  7.9.15  7.9.16  7.9.18  7.9.20  7.9.3  \\\n",
       "sentiment_output                                                              \n",
       "NEG                      0.0     3.0    31.0   277.0   312.0   508.0   46.0   \n",
       "NEU                      0.0     5.0    31.0   316.0   501.0   784.0   40.0   \n",
       "POS                      1.0     3.0    14.0   104.0   279.0   436.0   19.0   \n",
       "\n",
       "app_version_agrupada  7.9.6  8.0.0   8.0.2  8.1.0  8.2.0  8.4.0  8.5.0  8.6.0  \\\n",
       "sentiment_output                                                                \n",
       "NEG                     2.0    4.0  1127.0  559.0  955.0  310.0  196.0  490.0   \n",
       "NEU                     0.0    2.0   512.0  250.0  641.0  281.0  224.0  681.0   \n",
       "POS                     1.0    0.0   147.0   60.0  174.0  158.0  102.0  323.0   \n",
       "\n",
       "app_version_agrupada  8.7.0  8.8.1  8.8.2  Outros  \n",
       "sentiment_output                                   \n",
       "NEG                   294.0   91.0    5.0  1277.0  \n",
       "NEU                   332.0  186.0    5.0   898.0  \n",
       "POS                   203.0   66.0    1.0   316.0  "
      ]
     },
     "execution_count": 36,
     "metadata": {},
     "output_type": "execute_result"
    }
   ],
   "source": [
    "def agrupa_versao(v):\n",
    "    if pd.isnull(v):\n",
    "        return 'Outros'\n",
    "    try:\n",
    "        return v if parse(str(v)) >= parse('7.0') else 'Outros'\n",
    "    except:\n",
    "        return 'Outros'\n",
    "\n",
    "resultado = df[df['app'] == 'TIM'].copy()\n",
    "resultado['app_version'] = resultado['app_version'].fillna('0')\n",
    "resultado['app_version_agrupada'] = resultado['app_version'].apply(agrupa_versao)\n",
    "\n",
    "resultado_grouped = (resultado\n",
    "                     .groupby(['sentiment_output', 'app_version_agrupada'])\n",
    "                     .size()\n",
    "                     .reset_index(name='contagem'))\n",
    "\n",
    "tabela = resultado_grouped.pivot(index='sentiment_output',\n",
    "                                 columns='app_version_agrupada',\n",
    "                                 values='contagem').fillna(0)\n",
    "\n",
    "tabela"
   ]
  },
  {
   "cell_type": "code",
   "execution_count": 37,
   "id": "8a9f7f13",
   "metadata": {},
   "outputs": [
    {
     "data": {
      "text/html": [
       "<div>\n",
       "<style scoped>\n",
       "    .dataframe tbody tr th:only-of-type {\n",
       "        vertical-align: middle;\n",
       "    }\n",
       "\n",
       "    .dataframe tbody tr th {\n",
       "        vertical-align: top;\n",
       "    }\n",
       "\n",
       "    .dataframe thead th {\n",
       "        text-align: right;\n",
       "    }\n",
       "</style>\n",
       "<table border=\"1\" class=\"dataframe\">\n",
       "  <thead>\n",
       "    <tr style=\"text-align: right;\">\n",
       "      <th>app_version_agrupada</th>\n",
       "      <th>7.9.16</th>\n",
       "      <th>7.9.18</th>\n",
       "      <th>7.9.20</th>\n",
       "      <th>8.0.2</th>\n",
       "      <th>8.1.0</th>\n",
       "      <th>8.2.0</th>\n",
       "      <th>8.4.0</th>\n",
       "      <th>8.5.0</th>\n",
       "      <th>8.6.0</th>\n",
       "      <th>8.7.0</th>\n",
       "      <th>8.8.1</th>\n",
       "      <th>Outros</th>\n",
       "    </tr>\n",
       "    <tr>\n",
       "      <th>sentiment_output</th>\n",
       "      <th></th>\n",
       "      <th></th>\n",
       "      <th></th>\n",
       "      <th></th>\n",
       "      <th></th>\n",
       "      <th></th>\n",
       "      <th></th>\n",
       "      <th></th>\n",
       "      <th></th>\n",
       "      <th></th>\n",
       "      <th></th>\n",
       "      <th></th>\n",
       "    </tr>\n",
       "  </thead>\n",
       "  <tbody>\n",
       "    <tr>\n",
       "      <th>NEG</th>\n",
       "      <td>277</td>\n",
       "      <td>312</td>\n",
       "      <td>508</td>\n",
       "      <td>1127</td>\n",
       "      <td>559</td>\n",
       "      <td>955</td>\n",
       "      <td>310</td>\n",
       "      <td>196</td>\n",
       "      <td>490</td>\n",
       "      <td>294</td>\n",
       "      <td>91</td>\n",
       "      <td>433</td>\n",
       "    </tr>\n",
       "    <tr>\n",
       "      <th>NEU</th>\n",
       "      <td>316</td>\n",
       "      <td>501</td>\n",
       "      <td>784</td>\n",
       "      <td>512</td>\n",
       "      <td>250</td>\n",
       "      <td>641</td>\n",
       "      <td>281</td>\n",
       "      <td>224</td>\n",
       "      <td>681</td>\n",
       "      <td>332</td>\n",
       "      <td>186</td>\n",
       "      <td>317</td>\n",
       "    </tr>\n",
       "    <tr>\n",
       "      <th>POS</th>\n",
       "      <td>104</td>\n",
       "      <td>279</td>\n",
       "      <td>436</td>\n",
       "      <td>147</td>\n",
       "      <td>60</td>\n",
       "      <td>174</td>\n",
       "      <td>158</td>\n",
       "      <td>102</td>\n",
       "      <td>323</td>\n",
       "      <td>203</td>\n",
       "      <td>66</td>\n",
       "      <td>128</td>\n",
       "    </tr>\n",
       "  </tbody>\n",
       "</table>\n",
       "</div>"
      ],
      "text/plain": [
       "app_version_agrupada  7.9.16  7.9.18  7.9.20  8.0.2  8.1.0  8.2.0  8.4.0  \\\n",
       "sentiment_output                                                           \n",
       "NEG                      277     312     508   1127    559    955    310   \n",
       "NEU                      316     501     784    512    250    641    281   \n",
       "POS                      104     279     436    147     60    174    158   \n",
       "\n",
       "app_version_agrupada  8.5.0  8.6.0  8.7.0  8.8.1  Outros  \n",
       "sentiment_output                                          \n",
       "NEG                     196    490    294     91     433  \n",
       "NEU                     224    681    332    186     317  \n",
       "POS                     102    323    203     66     128  "
      ]
     },
     "execution_count": 37,
     "metadata": {},
     "output_type": "execute_result"
    }
   ],
   "source": [
    "frequencias = df[df['app'] == 'TIM']['app_version'].value_counts()\n",
    "\n",
    "limiar = 200\n",
    "versoes_rare = frequencias[frequencias < limiar].index\n",
    "\n",
    "df['app_version_agrupada'] = df['app_version'].where(~df['app_version'].isin(versoes_rare), 'Outros')\n",
    "\n",
    "resultado = (df[df['app'] == 'TIM']\n",
    "             .groupby(['sentiment_output', 'app_version_agrupada'])\n",
    "             .size()\n",
    "             .reset_index(name='contagem'))\n",
    "\n",
    "tabela = resultado.pivot(index='sentiment_output', columns='app_version_agrupada', values='contagem').fillna(0)\n",
    "tabela\n"
   ]
  },
  {
   "cell_type": "markdown",
   "id": "cd29f441",
   "metadata": {},
   "source": [
    "#### Vivo"
   ]
  },
  {
   "cell_type": "code",
   "execution_count": 38,
   "id": "193f6d32",
   "metadata": {},
   "outputs": [
    {
     "data": {
      "text/html": [
       "<div>\n",
       "<style scoped>\n",
       "    .dataframe tbody tr th:only-of-type {\n",
       "        vertical-align: middle;\n",
       "    }\n",
       "\n",
       "    .dataframe tbody tr th {\n",
       "        vertical-align: top;\n",
       "    }\n",
       "\n",
       "    .dataframe thead th {\n",
       "        text-align: right;\n",
       "    }\n",
       "</style>\n",
       "<table border=\"1\" class=\"dataframe\">\n",
       "  <thead>\n",
       "    <tr style=\"text-align: right;\">\n",
       "      <th>app_version_agrupada</th>\n",
       "      <th>24.0.30</th>\n",
       "      <th>24.1.20</th>\n",
       "      <th>24.10.26</th>\n",
       "      <th>24.11.19</th>\n",
       "      <th>24.12.17</th>\n",
       "      <th>24.2.15</th>\n",
       "      <th>24.2.16</th>\n",
       "      <th>24.3.19</th>\n",
       "      <th>24.4.22</th>\n",
       "      <th>24.5.20</th>\n",
       "      <th>24.6.22</th>\n",
       "      <th>24.7.14</th>\n",
       "      <th>24.9.24</th>\n",
       "      <th>25.1.29</th>\n",
       "      <th>25.1.30</th>\n",
       "      <th>25.2.24</th>\n",
       "      <th>25.3.18</th>\n",
       "      <th>25.4.24</th>\n",
       "      <th>25.5.23</th>\n",
       "      <th>Outros</th>\n",
       "    </tr>\n",
       "    <tr>\n",
       "      <th>sentiment_output</th>\n",
       "      <th></th>\n",
       "      <th></th>\n",
       "      <th></th>\n",
       "      <th></th>\n",
       "      <th></th>\n",
       "      <th></th>\n",
       "      <th></th>\n",
       "      <th></th>\n",
       "      <th></th>\n",
       "      <th></th>\n",
       "      <th></th>\n",
       "      <th></th>\n",
       "      <th></th>\n",
       "      <th></th>\n",
       "      <th></th>\n",
       "      <th></th>\n",
       "      <th></th>\n",
       "      <th></th>\n",
       "      <th></th>\n",
       "      <th></th>\n",
       "    </tr>\n",
       "  </thead>\n",
       "  <tbody>\n",
       "    <tr>\n",
       "      <th>NEG</th>\n",
       "      <td>1.0</td>\n",
       "      <td>1.0</td>\n",
       "      <td>8.0</td>\n",
       "      <td>12.0</td>\n",
       "      <td>10.0</td>\n",
       "      <td>0.0</td>\n",
       "      <td>0.0</td>\n",
       "      <td>2.0</td>\n",
       "      <td>1.0</td>\n",
       "      <td>4.0</td>\n",
       "      <td>0.0</td>\n",
       "      <td>6.0</td>\n",
       "      <td>11.0</td>\n",
       "      <td>1.0</td>\n",
       "      <td>28.0</td>\n",
       "      <td>44.0</td>\n",
       "      <td>792.0</td>\n",
       "      <td>550.0</td>\n",
       "      <td>538.0</td>\n",
       "      <td>486.0</td>\n",
       "    </tr>\n",
       "    <tr>\n",
       "      <th>NEU</th>\n",
       "      <td>4.0</td>\n",
       "      <td>2.0</td>\n",
       "      <td>8.0</td>\n",
       "      <td>15.0</td>\n",
       "      <td>19.0</td>\n",
       "      <td>1.0</td>\n",
       "      <td>1.0</td>\n",
       "      <td>6.0</td>\n",
       "      <td>5.0</td>\n",
       "      <td>7.0</td>\n",
       "      <td>6.0</td>\n",
       "      <td>7.0</td>\n",
       "      <td>10.0</td>\n",
       "      <td>3.0</td>\n",
       "      <td>55.0</td>\n",
       "      <td>83.0</td>\n",
       "      <td>2483.0</td>\n",
       "      <td>1916.0</td>\n",
       "      <td>1985.0</td>\n",
       "      <td>999.0</td>\n",
       "    </tr>\n",
       "    <tr>\n",
       "      <th>POS</th>\n",
       "      <td>1.0</td>\n",
       "      <td>0.0</td>\n",
       "      <td>0.0</td>\n",
       "      <td>4.0</td>\n",
       "      <td>7.0</td>\n",
       "      <td>3.0</td>\n",
       "      <td>1.0</td>\n",
       "      <td>1.0</td>\n",
       "      <td>4.0</td>\n",
       "      <td>3.0</td>\n",
       "      <td>1.0</td>\n",
       "      <td>2.0</td>\n",
       "      <td>6.0</td>\n",
       "      <td>0.0</td>\n",
       "      <td>25.0</td>\n",
       "      <td>54.0</td>\n",
       "      <td>1516.0</td>\n",
       "      <td>1225.0</td>\n",
       "      <td>1317.0</td>\n",
       "      <td>587.0</td>\n",
       "    </tr>\n",
       "  </tbody>\n",
       "</table>\n",
       "</div>"
      ],
      "text/plain": [
       "app_version_agrupada  24.0.30  24.1.20  24.10.26  24.11.19  24.12.17  24.2.15  \\\n",
       "sentiment_output                                                                \n",
       "NEG                       1.0      1.0       8.0      12.0      10.0      0.0   \n",
       "NEU                       4.0      2.0       8.0      15.0      19.0      1.0   \n",
       "POS                       1.0      0.0       0.0       4.0       7.0      3.0   \n",
       "\n",
       "app_version_agrupada  24.2.16  24.3.19  24.4.22  24.5.20  24.6.22  24.7.14  \\\n",
       "sentiment_output                                                             \n",
       "NEG                       0.0      2.0      1.0      4.0      0.0      6.0   \n",
       "NEU                       1.0      6.0      5.0      7.0      6.0      7.0   \n",
       "POS                       1.0      1.0      4.0      3.0      1.0      2.0   \n",
       "\n",
       "app_version_agrupada  24.9.24  25.1.29  25.1.30  25.2.24  25.3.18  25.4.24  \\\n",
       "sentiment_output                                                             \n",
       "NEG                      11.0      1.0     28.0     44.0    792.0    550.0   \n",
       "NEU                      10.0      3.0     55.0     83.0   2483.0   1916.0   \n",
       "POS                       6.0      0.0     25.0     54.0   1516.0   1225.0   \n",
       "\n",
       "app_version_agrupada  25.5.23  Outros  \n",
       "sentiment_output                       \n",
       "NEG                     538.0   486.0  \n",
       "NEU                    1985.0   999.0  \n",
       "POS                    1317.0   587.0  "
      ]
     },
     "execution_count": 38,
     "metadata": {},
     "output_type": "execute_result"
    }
   ],
   "source": [
    "def agrupa_versao(v):\n",
    "    if pd.isnull(v):\n",
    "        return 'Outros'\n",
    "    try:\n",
    "        return v if parse(str(v)) >= parse('20.0') else 'Outros'\n",
    "    except:\n",
    "        return 'Outros'\n",
    "\n",
    "resultado = df[df['app'] == 'Vivo'].copy()\n",
    "resultado['app_version'] = resultado['app_version'].fillna('0')\n",
    "resultado['app_version_agrupada'] = resultado['app_version'].apply(agrupa_versao)\n",
    "\n",
    "resultado_grouped = (resultado\n",
    "                     .groupby(['sentiment_output', 'app_version_agrupada'])\n",
    "                     .size()\n",
    "                     .reset_index(name='contagem'))\n",
    "\n",
    "tabela = resultado_grouped.pivot(index='sentiment_output',\n",
    "                                 columns='app_version_agrupada',\n",
    "                                 values='contagem').fillna(0)\n",
    "\n",
    "tabela"
   ]
  },
  {
   "cell_type": "code",
   "execution_count": 39,
   "id": "ac2305fb",
   "metadata": {},
   "outputs": [
    {
     "data": {
      "text/html": [
       "<div>\n",
       "<style scoped>\n",
       "    .dataframe tbody tr th:only-of-type {\n",
       "        vertical-align: middle;\n",
       "    }\n",
       "\n",
       "    .dataframe tbody tr th {\n",
       "        vertical-align: top;\n",
       "    }\n",
       "\n",
       "    .dataframe thead th {\n",
       "        text-align: right;\n",
       "    }\n",
       "</style>\n",
       "<table border=\"1\" class=\"dataframe\">\n",
       "  <thead>\n",
       "    <tr style=\"text-align: right;\">\n",
       "      <th>app_version_agrupada</th>\n",
       "      <th>25.1.30</th>\n",
       "      <th>25.2.24</th>\n",
       "      <th>25.3.18</th>\n",
       "      <th>25.4.24</th>\n",
       "      <th>25.5.23</th>\n",
       "      <th>Outros</th>\n",
       "    </tr>\n",
       "    <tr>\n",
       "      <th>sentiment_output</th>\n",
       "      <th></th>\n",
       "      <th></th>\n",
       "      <th></th>\n",
       "      <th></th>\n",
       "      <th></th>\n",
       "      <th></th>\n",
       "    </tr>\n",
       "  </thead>\n",
       "  <tbody>\n",
       "    <tr>\n",
       "      <th>NEG</th>\n",
       "      <td>28</td>\n",
       "      <td>44</td>\n",
       "      <td>792</td>\n",
       "      <td>550</td>\n",
       "      <td>538</td>\n",
       "      <td>116</td>\n",
       "    </tr>\n",
       "    <tr>\n",
       "      <th>NEU</th>\n",
       "      <td>55</td>\n",
       "      <td>83</td>\n",
       "      <td>2483</td>\n",
       "      <td>1916</td>\n",
       "      <td>1985</td>\n",
       "      <td>159</td>\n",
       "    </tr>\n",
       "    <tr>\n",
       "      <th>POS</th>\n",
       "      <td>25</td>\n",
       "      <td>54</td>\n",
       "      <td>1516</td>\n",
       "      <td>1225</td>\n",
       "      <td>1317</td>\n",
       "      <td>74</td>\n",
       "    </tr>\n",
       "  </tbody>\n",
       "</table>\n",
       "</div>"
      ],
      "text/plain": [
       "app_version_agrupada  25.1.30  25.2.24  25.3.18  25.4.24  25.5.23  Outros\n",
       "sentiment_output                                                         \n",
       "NEG                        28       44      792      550      538     116\n",
       "NEU                        55       83     2483     1916     1985     159\n",
       "POS                        25       54     1516     1225     1317      74"
      ]
     },
     "execution_count": 39,
     "metadata": {},
     "output_type": "execute_result"
    }
   ],
   "source": [
    "frequencias = df[df['app'] == 'Vivo']['app_version'].value_counts()\n",
    "\n",
    "limiar = 50\n",
    "versoes_rare = frequencias[frequencias < limiar].index\n",
    "\n",
    "df['app_version_agrupada'] = df['app_version'].where(~df['app_version'].isin(versoes_rare), 'Outros')\n",
    "\n",
    "resultado = (df[df['app'] == 'Vivo']\n",
    "             .groupby(['sentiment_output', 'app_version_agrupada'])\n",
    "             .size()\n",
    "             .reset_index(name='contagem'))\n",
    "\n",
    "tabela = resultado.pivot(index='sentiment_output', columns='app_version_agrupada', values='contagem').fillna(0)\n",
    "tabela\n"
   ]
  },
  {
   "cell_type": "markdown",
   "id": "ee3d5305",
   "metadata": {},
   "source": [
    "### Sentimentos"
   ]
  },
  {
   "cell_type": "code",
   "execution_count": 40,
   "id": "68b3f5a8",
   "metadata": {},
   "outputs": [
    {
     "data": {
      "image/png": "[encoded data removed]",
      "text/plain": [
       "<Figure size 1000x600 with 1 Axes>"
      ]
     },
     "metadata": {},
     "output_type": "display_data"
    }
   ],
   "source": [
    "def map_sentiment(sent):\n",
    "    if sent in ['NEG', 'negativo']:\n",
    "        return 'Negativo'\n",
    "    elif sent in ['NEU', 'neutro']:\n",
    "        return 'Neutro'\n",
    "    elif sent in ['POS', 'positivo']:\n",
    "        return 'Positivo'\n",
    "    else:\n",
    "        return 'Outro'\n",
    "\n",
    "df['sentimento_simplificado'] = df['sentiment_output'].apply(map_sentiment)\n",
    "\n",
    "sns.set_style(\"darkgrid\")\n",
    "plt.figure(figsize=(10, 6))\n",
    "\n",
    "sns.countplot(\n",
    "    data=df,\n",
    "    x='app',\n",
    "    hue='sentimento_simplificado',\n",
    "    palette={'Negativo': '#FF4C4C', 'Neutro': '#FFFB00', 'Positivo': '#4CAF50'},\n",
    "    hue_order=['Negativo', 'Neutro', 'Positivo']\n",
    ")\n",
    "\n",
    "plt.title(\"Distribuição de Sentimentos por Operadora\", loc=\"center\")\n",
    "plt.xlabel(\"Operadora\")\n",
    "plt.ylabel(\"Quantidade de Comentários\")\n",
    "plt.legend(title=\"Sentimento\")\n",
    "\n",
    "plt.show()\n"
   ]
  },
  {
   "cell_type": "code",
   "execution_count": 41,
   "id": "4dc979bb",
   "metadata": {},
   "outputs": [
    {
     "data": {
      "image/png": "[encoded data removed]",
      "text/plain": [
       "<Figure size 1000x600 with 1 Axes>"
      ]
     },
     "metadata": {},
     "output_type": "display_data"
    }
   ],
   "source": [
    "def map_sentiment(row, limiar_neu=0.7):\n",
    "    sentiment = row.get('sentiment_output', '')\n",
    "    if sentiment == 'NEG':\n",
    "        return 'Negativo'\n",
    "    elif sentiment == 'POS':\n",
    "        return 'Positivo'\n",
    "    elif sentiment == 'NEU':\n",
    "        prob_pos = row.get('sentiment_POS', 0)\n",
    "        prob_neu = row.get('sentiment_NEU', 0)\n",
    "        prob_neg = row.get('sentiment_NEG', 0)\n",
    "        if prob_neu >= limiar_neu:\n",
    "            return \"Neutro\"\n",
    "        return \"Positivo\" if prob_pos > prob_neg else \"Negativo\"\n",
    "    else:\n",
    "        return sentiment\n",
    "\n",
    "df['sentimento_simplificado'] = df.apply(map_sentiment, axis=1)\n",
    "\n",
    "sns.set_style(\"darkgrid\")\n",
    "plt.figure(figsize=(10, 6))\n",
    "\n",
    "sns.countplot(\n",
    "    data=df,\n",
    "    x='app',\n",
    "    hue='sentimento_simplificado',\n",
    "    palette={'Negativo': '#FF4C4C', 'Neutro': '#FFFB00', 'Positivo': '#4CAF50'},\n",
    "    hue_order=['Negativo', 'Neutro', 'Positivo']\n",
    ")\n",
    "\n",
    "plt.title(\"Distribuição de Sentimentos por Operadora\", loc=\"center\")\n",
    "plt.xlabel(\"Operadora\")\n",
    "plt.ylabel(\"Quantidade de Comentários\")\n",
    "plt.legend(title=\"Sentimento\")\n",
    "\n",
    "plt.show()"
   ]
  },
  {
   "cell_type": "code",
   "execution_count": 42,
   "id": "a3951862",
   "metadata": {},
   "outputs": [
    {
     "data": {
      "image/png": "[encoded data removed]",
      "text/plain": [
       "<Figure size 1000x600 with 1 Axes>"
      ]
     },
     "metadata": {},
     "output_type": "display_data"
    }
   ],
   "source": [
    "def map_sentiment(row):\n",
    "    sentiment = row['sentiment_output']\n",
    "    if sentiment == \"NEG\":\n",
    "        prob = row.get('sentiment_NEG', 0)\n",
    "        if prob < 0.8:\n",
    "            return \"Negativo\"\n",
    "        else:\n",
    "            return \"Muito Negativo\"\n",
    "    elif sentiment == \"POS\":\n",
    "        prob = row.get('sentiment_POS', 0)\n",
    "        if prob < 0.8:\n",
    "            return \"Positivo\"\n",
    "        else:\n",
    "            return \"Muito Positivo\"\n",
    "    elif sentiment == \"NEU\":\n",
    "        return \"Neutro\"\n",
    "    else:\n",
    "        return sentiment\n",
    "df['sentimento_complexo'] = df.apply(map_sentiment, axis=1)\n",
    "\n",
    "sns.set_style(\"darkgrid\")\n",
    "plt.figure(figsize=(10, 6))\n",
    "\n",
    "sns.countplot(\n",
    "    data=df,\n",
    "    x='app',\n",
    "    hue='sentimento_complexo',\n",
    "    palette={'Muito Negativo': '#FF4C4C', 'Negativo': '#FFA500', 'Neutro': \"#FFFB00\",\n",
    "             'Positivo': \"#A0E95C\", 'Muito Positivo': '#4CAF50'},\n",
    "    hue_order=['Muito Negativo', 'Negativo', 'Neutro', 'Positivo', 'Muito Positivo']\n",
    ")\n",
    "\n",
    "plt.title(\"Distribuição de Sentimentos por Operadora\", loc=\"center\")\n",
    "plt.xlabel(\"Operadora\")\n",
    "plt.ylabel(\"Quantidade de Comentários\")\n",
    "plt.legend(title=\"Sentimento\")\n",
    "\n",
    "plt.show()"
   ]
  },
  {
   "cell_type": "code",
   "execution_count": 43,
   "id": "0ec643c5",
   "metadata": {},
   "outputs": [
    {
     "data": {
      "text/html": [
       "<div>\n",
       "<style scoped>\n",
       "    .dataframe tbody tr th:only-of-type {\n",
       "        vertical-align: middle;\n",
       "    }\n",
       "\n",
       "    .dataframe tbody tr th {\n",
       "        vertical-align: top;\n",
       "    }\n",
       "\n",
       "    .dataframe thead th {\n",
       "        text-align: right;\n",
       "    }\n",
       "</style>\n",
       "<table border=\"1\" class=\"dataframe\">\n",
       "  <thead>\n",
       "    <tr style=\"text-align: right;\">\n",
       "      <th></th>\n",
       "      <th>date</th>\n",
       "      <th>score</th>\n",
       "      <th>app_version</th>\n",
       "      <th>app</th>\n",
       "      <th>content</th>\n",
       "      <th>content_proc</th>\n",
       "      <th>sentiment_output</th>\n",
       "      <th>sentiment_NEG</th>\n",
       "      <th>sentiment_NEU</th>\n",
       "      <th>sentiment_POS</th>\n",
       "      <th>emotion_alegria</th>\n",
       "      <th>emotion_tristeza</th>\n",
       "      <th>emotion_raiva</th>\n",
       "      <th>emotion_medo</th>\n",
       "      <th>emotion_surpresa</th>\n",
       "      <th>emotion_confianca</th>\n",
       "      <th>emotion_confusao</th>\n",
       "      <th>emotion_neutro</th>\n",
       "      <th>emotion_output</th>\n",
       "      <th>app_version_agrupada</th>\n",
       "      <th>sentimento_simplificado</th>\n",
       "      <th>sentimento_complexo</th>\n",
       "    </tr>\n",
       "  </thead>\n",
       "  <tbody>\n",
       "    <tr>\n",
       "      <th>107</th>\n",
       "      <td>2025-06-08 10:18:20</td>\n",
       "      <td>1</td>\n",
       "      <td>18.8.0</td>\n",
       "      <td>Claro</td>\n",
       "      <td>🤬</td>\n",
       "      <td>rostocomsímbolosnabo</td>\n",
       "      <td>NEU</td>\n",
       "      <td>0.469658</td>\n",
       "      <td>0.486660</td>\n",
       "      <td>0.043682</td>\n",
       "      <td>0.011143</td>\n",
       "      <td>0.006256</td>\n",
       "      <td>0.043007</td>\n",
       "      <td>0.002886</td>\n",
       "      <td>0.003275</td>\n",
       "      <td>0.003816</td>\n",
       "      <td>0.001498</td>\n",
       "      <td>0.957762</td>\n",
       "      <td>neutro</td>\n",
       "      <td>18.8.0</td>\n",
       "      <td>Negativo</td>\n",
       "      <td>Neutro</td>\n",
       "    </tr>\n",
       "    <tr>\n",
       "      <th>139</th>\n",
       "      <td>2025-06-07 20:05:26</td>\n",
       "      <td>5</td>\n",
       "      <td>18.8.0</td>\n",
       "      <td>Claro</td>\n",
       "      <td>gostei</td>\n",
       "      <td>gostar</td>\n",
       "      <td>NEU</td>\n",
       "      <td>0.103688</td>\n",
       "      <td>0.450769</td>\n",
       "      <td>0.445543</td>\n",
       "      <td>0.845733</td>\n",
       "      <td>0.003938</td>\n",
       "      <td>0.036336</td>\n",
       "      <td>0.000890</td>\n",
       "      <td>0.003317</td>\n",
       "      <td>0.009860</td>\n",
       "      <td>0.001083</td>\n",
       "      <td>0.141101</td>\n",
       "      <td>alegria</td>\n",
       "      <td>18.8.0</td>\n",
       "      <td>Positivo</td>\n",
       "      <td>Neutro</td>\n",
       "    </tr>\n",
       "    <tr>\n",
       "      <th>276</th>\n",
       "      <td>2025-06-06 10:15:30</td>\n",
       "      <td>1</td>\n",
       "      <td>None</td>\n",
       "      <td>Claro</td>\n",
       "      <td>ia fechar um plano pós, vendedora atendeu mal ...</td>\n",
       "      <td>fechar plano pós vendedor atender mal desistir...</td>\n",
       "      <td>NEU</td>\n",
       "      <td>0.449277</td>\n",
       "      <td>0.463483</td>\n",
       "      <td>0.087239</td>\n",
       "      <td>0.012236</td>\n",
       "      <td>0.006539</td>\n",
       "      <td>0.015041</td>\n",
       "      <td>0.001006</td>\n",
       "      <td>0.003241</td>\n",
       "      <td>0.005041</td>\n",
       "      <td>0.002441</td>\n",
       "      <td>0.987690</td>\n",
       "      <td>neutro</td>\n",
       "      <td>None</td>\n",
       "      <td>Negativo</td>\n",
       "      <td>Neutro</td>\n",
       "    </tr>\n",
       "    <tr>\n",
       "      <th>330</th>\n",
       "      <td>2025-06-05 18:03:24</td>\n",
       "      <td>4</td>\n",
       "      <td>18.8.0</td>\n",
       "      <td>Claro</td>\n",
       "      <td>estou gostando</td>\n",
       "      <td>gostar</td>\n",
       "      <td>NEU</td>\n",
       "      <td>0.103688</td>\n",
       "      <td>0.450769</td>\n",
       "      <td>0.445543</td>\n",
       "      <td>0.845733</td>\n",
       "      <td>0.003938</td>\n",
       "      <td>0.036336</td>\n",
       "      <td>0.000890</td>\n",
       "      <td>0.003317</td>\n",
       "      <td>0.009860</td>\n",
       "      <td>0.001083</td>\n",
       "      <td>0.141101</td>\n",
       "      <td>alegria</td>\n",
       "      <td>18.8.0</td>\n",
       "      <td>Positivo</td>\n",
       "      <td>Neutro</td>\n",
       "    </tr>\n",
       "    <tr>\n",
       "      <th>332</th>\n",
       "      <td>2025-06-05 17:22:28</td>\n",
       "      <td>2</td>\n",
       "      <td>18.8.0</td>\n",
       "      <td>Claro</td>\n",
       "      <td>Anúncios demais</td>\n",
       "      <td>anúncio demais</td>\n",
       "      <td>NEU</td>\n",
       "      <td>0.344070</td>\n",
       "      <td>0.409144</td>\n",
       "      <td>0.246785</td>\n",
       "      <td>0.009360</td>\n",
       "      <td>0.001540</td>\n",
       "      <td>0.007225</td>\n",
       "      <td>0.000583</td>\n",
       "      <td>0.003101</td>\n",
       "      <td>0.002983</td>\n",
       "      <td>0.001338</td>\n",
       "      <td>0.992796</td>\n",
       "      <td>neutro</td>\n",
       "      <td>18.8.0</td>\n",
       "      <td>Negativo</td>\n",
       "      <td>Neutro</td>\n",
       "    </tr>\n",
       "  </tbody>\n",
       "</table>\n",
       "</div>"
      ],
      "text/plain": [
       "                   date  score app_version    app  \\\n",
       "107 2025-06-08 10:18:20      1      18.8.0  Claro   \n",
       "139 2025-06-07 20:05:26      5      18.8.0  Claro   \n",
       "276 2025-06-06 10:15:30      1        None  Claro   \n",
       "330 2025-06-05 18:03:24      4      18.8.0  Claro   \n",
       "332 2025-06-05 17:22:28      2      18.8.0  Claro   \n",
       "\n",
       "                                               content  \\\n",
       "107                                                  🤬   \n",
       "139                                             gostei   \n",
       "276  ia fechar um plano pós, vendedora atendeu mal ...   \n",
       "330                                     estou gostando   \n",
       "332                                    Anúncios demais   \n",
       "\n",
       "                                          content_proc sentiment_output  \\\n",
       "107                               rostocomsímbolosnabo              NEU   \n",
       "139                                             gostar              NEU   \n",
       "276  fechar plano pós vendedor atender mal desistir...              NEU   \n",
       "330                                             gostar              NEU   \n",
       "332                                     anúncio demais              NEU   \n",
       "\n",
       "     sentiment_NEG  sentiment_NEU  sentiment_POS  emotion_alegria  \\\n",
       "107       0.469658       0.486660       0.043682         0.011143   \n",
       "139       0.103688       0.450769       0.445543         0.845733   \n",
       "276       0.449277       0.463483       0.087239         0.012236   \n",
       "330       0.103688       0.450769       0.445543         0.845733   \n",
       "332       0.344070       0.409144       0.246785         0.009360   \n",
       "\n",
       "     emotion_tristeza  emotion_raiva  emotion_medo  emotion_surpresa  \\\n",
       "107          0.006256       0.043007      0.002886          0.003275   \n",
       "139          0.003938       0.036336      0.000890          0.003317   \n",
       "276          0.006539       0.015041      0.001006          0.003241   \n",
       "330          0.003938       0.036336      0.000890          0.003317   \n",
       "332          0.001540       0.007225      0.000583          0.003101   \n",
       "\n",
       "     emotion_confianca  emotion_confusao  emotion_neutro emotion_output  \\\n",
       "107           0.003816          0.001498        0.957762         neutro   \n",
       "139           0.009860          0.001083        0.141101        alegria   \n",
       "276           0.005041          0.002441        0.987690         neutro   \n",
       "330           0.009860          0.001083        0.141101        alegria   \n",
       "332           0.002983          0.001338        0.992796         neutro   \n",
       "\n",
       "    app_version_agrupada sentimento_simplificado sentimento_complexo  \n",
       "107               18.8.0                Negativo              Neutro  \n",
       "139               18.8.0                Positivo              Neutro  \n",
       "276                 None                Negativo              Neutro  \n",
       "330               18.8.0                Positivo              Neutro  \n",
       "332               18.8.0                Negativo              Neutro  "
      ]
     },
     "execution_count": 43,
     "metadata": {},
     "output_type": "execute_result"
    }
   ],
   "source": [
    "df[(df[\"sentiment_output\"] == \"NEU\") & (df[\"sentiment_NEU\"] < 0.5)].head()"
   ]
  },
  {
   "cell_type": "code",
   "execution_count": 44,
   "id": "e560bad9",
   "metadata": {},
   "outputs": [
    {
     "data": {
      "image/png": "[encoded data removed]",
      "text/plain": [
       "<Figure size 1000x600 with 1 Axes>"
      ]
     },
     "metadata": {},
     "output_type": "display_data"
    }
   ],
   "source": [
    "def map_sentiment(row):\n",
    "    sentiment = row['sentiment_output']\n",
    "    if sentiment == \"NEG\":\n",
    "        prob = row.get('sentiment_NEG', 0)\n",
    "        if prob < 0.8:\n",
    "            return \"Negativo\"\n",
    "        else:\n",
    "            return \"Muito Negativo\"\n",
    "    elif sentiment == \"POS\":\n",
    "        prob = row.get('sentiment_POS', 0)\n",
    "        if prob < 0.8:\n",
    "            return \"Positivo\"\n",
    "        else:\n",
    "            return \"Muito Positivo\"\n",
    "    elif sentiment == \"NEU\":\n",
    "        prob_pos = row.get('sentiment_POS', 0)\n",
    "        prob_neu = row.get('sentiment_NEU', 0)\n",
    "        prob_neg = row.get('sentiment_NEG', 0)\n",
    "        if prob_neu >= 0.7:\n",
    "            return \"Neutro\"\n",
    "        return \"Positivo\" if prob_pos > prob_neg else \"Negativo\"\n",
    "    else:\n",
    "        return sentiment\n",
    "df['sentimento_complexo'] = df.apply(map_sentiment, axis=1)\n",
    "\n",
    "sns.set_style(\"darkgrid\")\n",
    "plt.figure(figsize=(10, 6))\n",
    "\n",
    "sns.countplot(\n",
    "    data=df,\n",
    "    x='app',\n",
    "    hue='sentimento_complexo',\n",
    "    palette={'Muito Negativo': '#FF4C4C', 'Negativo': '#FFA500', 'Neutro': \"#FFFB00\",\n",
    "             'Positivo': \"#A0E95C\", 'Muito Positivo': '#4CAF50'},\n",
    "    hue_order=['Muito Negativo', 'Negativo', 'Neutro', 'Positivo', 'Muito Positivo']\n",
    ")\n",
    "\n",
    "plt.title(\"Distribuição de Sentimentos por Operadora\", loc=\"center\")\n",
    "plt.xlabel(\"Operadora\")\n",
    "plt.ylabel(\"Quantidade de Comentários\")\n",
    "plt.legend(title=\"Sentimento\")\n",
    "\n",
    "plt.show()"
   ]
  },
  {
   "cell_type": "code",
   "execution_count": 45,
   "id": "239c269e",
   "metadata": {},
   "outputs": [
    {
     "data": {
      "application/vnd.plotly.v1+json": {
       "config": {
        "plotlyServerURL": "https://plot.ly"
       },
       "data": [
        {
         "fill": "toself",
         "line": {
          "color": "royalblue"
         },
         "name": "Vivo",
         "opacity": 0.7,
         "r": [
          0.642198329988818,
          0.033064733404463933,
          0.07468878946106383,
          0.01035696073072567,
          0.0062733046351856015,
          0.015257036251341605,
          0.00446751344720307,
          0.3222226550916255
         ],
         "subplot": "polar",
         "theta": [
          "Alegria",
          "Tristeza",
          "Raiva",
          "Medo",
          "Surpresa",
          "Confiança",
          "Confusão",
          "Neutro"
         ],
         "type": "scatterpolar"
        },
        {
         "fill": "toself",
         "line": {
          "color": "firebrick"
         },
         "name": "TIM",
         "opacity": 0.7,
         "r": [
          0.35472134708665004,
          0.07511301822698818,
          0.20640174111880139,
          0.03151445264690001,
          0.007720749251382766,
          0.014836837169390174,
          0.005971940929073072,
          0.4317885358965747
         ],
         "subplot": "polar2",
         "theta": [
          "Alegria",
          "Tristeza",
          "Raiva",
          "Medo",
          "Surpresa",
          "Confiança",
          "Confusão",
          "Neutro"
         ],
         "type": "scatterpolar"
        },
        {
         "fill": "toself",
         "line": {
          "color": "darkgreen"
         },
         "name": "Claro",
         "opacity": 0.7,
         "r": [
          0.650116683466629,
          0.03257462439255847,
          0.06714585141101274,
          0.008101047219656822,
          0.007337648664929765,
          0.01613103548520582,
          0.0035271888837484556,
          0.3219057177821145
         ],
         "subplot": "polar3",
         "theta": [
          "Alegria",
          "Tristeza",
          "Raiva",
          "Medo",
          "Surpresa",
          "Confiança",
          "Confusão",
          "Neutro"
         ],
         "type": "scatterpolar"
        }
       ],
       "layout": {
        "annotations": [
         {
          "font": {
           "size": 16
          },
          "showarrow": false,
          "text": "Vivo",
          "x": 0.13,
          "xref": "paper",
          "y": 1.1,
          "yref": "paper"
         },
         {
          "font": {
           "size": 16
          },
          "showarrow": false,
          "text": "TIM",
          "x": 0.5,
          "xref": "paper",
          "y": 1.1,
          "yref": "paper"
         },
         {
          "font": {
           "size": 16
          },
          "showarrow": false,
          "text": "Claro",
          "x": 0.87,
          "xref": "paper",
          "y": 1.1,
          "yref": "paper"
         }
        ],
        "height": 650,
        "polar": {
         "domain": {
          "x": [
           0,
           0.2888888888888889
          ],
          "y": [
           0,
           1
          ]
         },
         "radialaxis": {
          "visible": false
         }
        },
        "polar2": {
         "domain": {
          "x": [
           0.35555555555555557,
           0.6444444444444445
          ],
          "y": [
           0,
           1
          ]
         },
         "radialaxis": {
          "visible": false
         }
        },
        "polar3": {
         "domain": {
          "x": [
           0.7111111111111111,
           1
          ],
          "y": [
           0,
           1
          ]
         },
         "radialaxis": {
          "visible": false
         }
        },
        "showlegend": false,
        "template": {
         "data": {
          "bar": [
           {
            "error_x": {
             "color": "#2a3f5f"
            },
            "error_y": {
             "color": "#2a3f5f"
            },
            "marker": {
             "line": {
              "color": "#E5ECF6",
              "width": 0.5
             },
             "pattern": {
              "fillmode": "overlay",
              "size": 10,
              "solidity": 0.2
             }
            },
            "type": "bar"
           }
          ],
          "barpolar": [
           {
            "marker": {
             "line": {
              "color": "#E5ECF6",
              "width": 0.5
             },
             "pattern": {
              "fillmode": "overlay",
              "size": 10,
              "solidity": 0.2
             }
            },
            "type": "barpolar"
           }
          ],
          "carpet": [
           {
            "aaxis": {
             "endlinecolor": "#2a3f5f",
             "gridcolor": "white",
             "linecolor": "white",
             "minorgridcolor": "white",
             "startlinecolor": "#2a3f5f"
            },
            "baxis": {
             "endlinecolor": "#2a3f5f",
             "gridcolor": "white",
             "linecolor": "white",
             "minorgridcolor": "white",
             "startlinecolor": "#2a3f5f"
            },
            "type": "carpet"
           }
          ],
          "choropleth": [
           {
            "colorbar": {
             "outlinewidth": 0,
             "ticks": ""
            },
            "type": "choropleth"
           }
          ],
          "contour": [
           {
            "colorbar": {
             "outlinewidth": 0,
             "ticks": ""
            },
            "colorscale": [
             [
              0,
              "#0d0887"
             ],
             [
              0.1111111111111111,
              "#46039f"
             ],
             [
              0.2222222222222222,
              "#7201a8"
             ],
             [
              0.3333333333333333,
              "#9c179e"
             ],
             [
              0.4444444444444444,
              "#bd3786"
             ],
             [
              0.5555555555555556,
              "#d8576b"
             ],
             [
              0.6666666666666666,
              "#ed7953"
             ],
             [
              0.7777777777777778,
              "#fb9f3a"
             ],
             [
              0.8888888888888888,
              "#fdca26"
             ],
             [
              1,
              "#f0f921"
             ]
            ],
            "type": "contour"
           }
          ],
          "contourcarpet": [
           {
            "colorbar": {
             "outlinewidth": 0,
             "ticks": ""
            },
            "type": "contourcarpet"
           }
          ],
          "heatmap": [
           {
            "colorbar": {
             "outlinewidth": 0,
             "ticks": ""
            },
            "colorscale": [
             [
              0,
              "#0d0887"
             ],
             [
              0.1111111111111111,
              "#46039f"
             ],
             [
              0.2222222222222222,
              "#7201a8"
             ],
             [
              0.3333333333333333,
              "#9c179e"
             ],
             [
              0.4444444444444444,
              "#bd3786"
             ],
             [
              0.5555555555555556,
              "#d8576b"
             ],
             [
              0.6666666666666666,
              "#ed7953"
             ],
             [
              0.7777777777777778,
              "#fb9f3a"
             ],
             [
              0.8888888888888888,
              "#fdca26"
             ],
             [
              1,
              "#f0f921"
             ]
            ],
            "type": "heatmap"
           }
          ],
          "histogram": [
           {
            "marker": {
             "pattern": {
              "fillmode": "overlay",
              "size": 10,
              "solidity": 0.2
             }
            },
            "type": "histogram"
           }
          ],
          "histogram2d": [
           {
            "colorbar": {
             "outlinewidth": 0,
             "ticks": ""
            },
            "colorscale": [
             [
              0,
              "#0d0887"
             ],
             [
              0.1111111111111111,
              "#46039f"
             ],
             [
              0.2222222222222222,
              "#7201a8"
             ],
             [
              0.3333333333333333,
              "#9c179e"
             ],
             [
              0.4444444444444444,
              "#bd3786"
             ],
             [
              0.5555555555555556,
              "#d8576b"
             ],
             [
              0.6666666666666666,
              "#ed7953"
             ],
             [
              0.7777777777777778,
              "#fb9f3a"
             ],
             [
              0.8888888888888888,
              "#fdca26"
             ],
             [
              1,
              "#f0f921"
             ]
            ],
            "type": "histogram2d"
           }
          ],
          "histogram2dcontour": [
           {
            "colorbar": {
             "outlinewidth": 0,
             "ticks": ""
            },
            "colorscale": [
             [
              0,
              "#0d0887"
             ],
             [
              0.1111111111111111,
              "#46039f"
             ],
             [
              0.2222222222222222,
              "#7201a8"
             ],
             [
              0.3333333333333333,
              "#9c179e"
             ],
             [
              0.4444444444444444,
              "#bd3786"
             ],
             [
              0.5555555555555556,
              "#d8576b"
             ],
             [
              0.6666666666666666,
              "#ed7953"
             ],
             [
              0.7777777777777778,
              "#fb9f3a"
             ],
             [
              0.8888888888888888,
              "#fdca26"
             ],
             [
              1,
              "#f0f921"
             ]
            ],
            "type": "histogram2dcontour"
           }
          ],
          "mesh3d": [
           {
            "colorbar": {
             "outlinewidth": 0,
             "ticks": ""
            },
            "type": "mesh3d"
           }
          ],
          "parcoords": [
           {
            "line": {
             "colorbar": {
              "outlinewidth": 0,
              "ticks": ""
             }
            },
            "type": "parcoords"
           }
          ],
          "pie": [
           {
            "automargin": true,
            "type": "pie"
           }
          ],
          "scatter": [
           {
            "fillpattern": {
             "fillmode": "overlay",
             "size": 10,
             "solidity": 0.2
            },
            "type": "scatter"
           }
          ],
          "scatter3d": [
           {
            "line": {
             "colorbar": {
              "outlinewidth": 0,
              "ticks": ""
             }
            },
            "marker": {
             "colorbar": {
              "outlinewidth": 0,
              "ticks": ""
             }
            },
            "type": "scatter3d"
           }
          ],
          "scattercarpet": [
           {
            "marker": {
             "colorbar": {
              "outlinewidth": 0,
              "ticks": ""
             }
            },
            "type": "scattercarpet"
           }
          ],
          "scattergeo": [
           {
            "marker": {
             "colorbar": {
              "outlinewidth": 0,
              "ticks": ""
             }
            },
            "type": "scattergeo"
           }
          ],
          "scattergl": [
           {
            "marker": {
             "colorbar": {
              "outlinewidth": 0,
              "ticks": ""
             }
            },
            "type": "scattergl"
           }
          ],
          "scattermap": [
           {
            "marker": {
             "colorbar": {
              "outlinewidth": 0,
              "ticks": ""
             }
            },
            "type": "scattermap"
           }
          ],
          "scattermapbox": [
           {
            "marker": {
             "colorbar": {
              "outlinewidth": 0,
              "ticks": ""
             }
            },
            "type": "scattermapbox"
           }
          ],
          "scatterpolar": [
           {
            "marker": {
             "colorbar": {
              "outlinewidth": 0,
              "ticks": ""
             }
            },
            "type": "scatterpolar"
           }
          ],
          "scatterpolargl": [
           {
            "marker": {
             "colorbar": {
              "outlinewidth": 0,
              "ticks": ""
             }
            },
            "type": "scatterpolargl"
           }
          ],
          "scatterternary": [
           {
            "marker": {
             "colorbar": {
              "outlinewidth": 0,
              "ticks": ""
             }
            },
            "type": "scatterternary"
           }
          ],
          "surface": [
           {
            "colorbar": {
             "outlinewidth": 0,
             "ticks": ""
            },
            "colorscale": [
             [
              0,
              "#0d0887"
             ],
             [
              0.1111111111111111,
              "#46039f"
             ],
             [
              0.2222222222222222,
              "#7201a8"
             ],
             [
              0.3333333333333333,
              "#9c179e"
             ],
             [
              0.4444444444444444,
              "#bd3786"
             ],
             [
              0.5555555555555556,
              "#d8576b"
             ],
             [
              0.6666666666666666,
              "#ed7953"
             ],
             [
              0.7777777777777778,
              "#fb9f3a"
             ],
             [
              0.8888888888888888,
              "#fdca26"
             ],
             [
              1,
              "#f0f921"
             ]
            ],
            "type": "surface"
           }
          ],
          "table": [
           {
            "cells": {
             "fill": {
              "color": "#EBF0F8"
             },
             "line": {
              "color": "white"
             }
            },
            "header": {
             "fill": {
              "color": "#C8D4E3"
             },
             "line": {
              "color": "white"
             }
            },
            "type": "table"
           }
          ]
         },
         "layout": {
          "annotationdefaults": {
           "arrowcolor": "#2a3f5f",
           "arrowhead": 0,
           "arrowwidth": 1
          },
          "autotypenumbers": "strict",
          "coloraxis": {
           "colorbar": {
            "outlinewidth": 0,
            "ticks": ""
           }
          },
          "colorscale": {
           "diverging": [
            [
             0,
             "#8e0152"
            ],
            [
             0.1,
             "#c51b7d"
            ],
            [
             0.2,
             "#de77ae"
            ],
            [
             0.3,
             "#f1b6da"
            ],
            [
             0.4,
             "#fde0ef"
            ],
            [
             0.5,
             "#f7f7f7"
            ],
            [
             0.6,
             "#e6f5d0"
            ],
            [
             0.7,
             "#b8e186"
            ],
            [
             0.8,
             "#7fbc41"
            ],
            [
             0.9,
             "#4d9221"
            ],
            [
             1,
             "#276419"
            ]
           ],
           "sequential": [
            [
             0,
             "#0d0887"
            ],
            [
             0.1111111111111111,
             "#46039f"
            ],
            [
             0.2222222222222222,
             "#7201a8"
            ],
            [
             0.3333333333333333,
             "#9c179e"
            ],
            [
             0.4444444444444444,
             "#bd3786"
            ],
            [
             0.5555555555555556,
             "#d8576b"
            ],
            [
             0.6666666666666666,
             "#ed7953"
            ],
            [
             0.7777777777777778,
             "#fb9f3a"
            ],
            [
             0.8888888888888888,
             "#fdca26"
            ],
            [
             1,
             "#f0f921"
            ]
           ],
           "sequentialminus": [
            [
             0,
             "#0d0887"
            ],
            [
             0.1111111111111111,
             "#46039f"
            ],
            [
             0.2222222222222222,
             "#7201a8"
            ],
            [
             0.3333333333333333,
             "#9c179e"
            ],
            [
             0.4444444444444444,
             "#bd3786"
            ],
            [
             0.5555555555555556,
             "#d8576b"
            ],
            [
             0.6666666666666666,
             "#ed7953"
            ],
            [
             0.7777777777777778,
             "#fb9f3a"
            ],
            [
             0.8888888888888888,
             "#fdca26"
            ],
            [
             1,
             "#f0f921"
            ]
           ]
          },
          "colorway": [
           "#636efa",
           "#EF553B",
           "#00cc96",
           "#ab63fa",
           "#FFA15A",
           "#19d3f3",
           "#FF6692",
           "#B6E880",
           "#FF97FF",
           "#FECB52"
          ],
          "font": {
           "color": "#2a3f5f"
          },
          "geo": {
           "bgcolor": "white",
           "lakecolor": "white",
           "landcolor": "#E5ECF6",
           "showlakes": true,
           "showland": true,
           "subunitcolor": "white"
          },
          "hoverlabel": {
           "align": "left"
          },
          "hovermode": "closest",
          "mapbox": {
           "style": "light"
          },
          "paper_bgcolor": "white",
          "plot_bgcolor": "#E5ECF6",
          "polar": {
           "angularaxis": {
            "gridcolor": "white",
            "linecolor": "white",
            "ticks": ""
           },
           "bgcolor": "#E5ECF6",
           "radialaxis": {
            "gridcolor": "white",
            "linecolor": "white",
            "ticks": ""
           }
          },
          "scene": {
           "xaxis": {
            "backgroundcolor": "#E5ECF6",
            "gridcolor": "white",
            "gridwidth": 2,
            "linecolor": "white",
            "showbackground": true,
            "ticks": "",
            "zerolinecolor": "white"
           },
           "yaxis": {
            "backgroundcolor": "#E5ECF6",
            "gridcolor": "white",
            "gridwidth": 2,
            "linecolor": "white",
            "showbackground": true,
            "ticks": "",
            "zerolinecolor": "white"
           },
           "zaxis": {
            "backgroundcolor": "#E5ECF6",
            "gridcolor": "white",
            "gridwidth": 2,
            "linecolor": "white",
            "showbackground": true,
            "ticks": "",
            "zerolinecolor": "white"
           }
          },
          "shapedefaults": {
           "line": {
            "color": "#2a3f5f"
           }
          },
          "ternary": {
           "aaxis": {
            "gridcolor": "white",
            "linecolor": "white",
            "ticks": ""
           },
           "baxis": {
            "gridcolor": "white",
            "linecolor": "white",
            "ticks": ""
           },
           "bgcolor": "#E5ECF6",
           "caxis": {
            "gridcolor": "white",
            "linecolor": "white",
            "ticks": ""
           }
          },
          "title": {
           "x": 0.05
          },
          "xaxis": {
           "automargin": true,
           "gridcolor": "white",
           "linecolor": "white",
           "ticks": "",
           "title": {
            "standoff": 15
           },
           "zerolinecolor": "white",
           "zerolinewidth": 2
          },
          "yaxis": {
           "automargin": true,
           "gridcolor": "white",
           "linecolor": "white",
           "ticks": "",
           "title": {
            "standoff": 15
           },
           "zerolinecolor": "white",
           "zerolinewidth": 2
          }
         }
        },
        "title": {
         "text": "Distribuição de Emoções por Operadora"
        },
        "width": 1800
       }
      }
     },
     "metadata": {},
     "output_type": "display_data"
    }
   ],
   "source": [
    "values_claro = df[df['app'] == 'Claro'][['emotion_alegria', 'emotion_tristeza', 'emotion_raiva',\n",
    "              'emotion_medo', 'emotion_surpresa', 'emotion_confianca',\n",
    "              'emotion_confusao', 'emotion_neutro']].mean().tolist()\n",
    "\n",
    "values_tim = df[df['app'] == 'TIM'][['emotion_alegria', 'emotion_tristeza', 'emotion_raiva',\n",
    "              'emotion_medo', 'emotion_surpresa', 'emotion_confianca',\n",
    "              'emotion_confusao', 'emotion_neutro']].mean().tolist()\n",
    "\n",
    "values_vivo = df[df['app'] == 'Vivo'][['emotion_alegria', 'emotion_tristeza', 'emotion_raiva',\n",
    "              'emotion_medo', 'emotion_surpresa', 'emotion_confianca',\n",
    "              'emotion_confusao', 'emotion_neutro']].mean().tolist()\n",
    "\n",
    "categories = ['Alegria', 'Tristeza', 'Raiva', 'Medo', 'Surpresa', 'Confiança', 'Confusão', 'Neutro']\n",
    "\n",
    "# Valores de exemplo para cada operadora\n",
    "values_vivo = values_vivo\n",
    "values_tim = values_tim\n",
    "values_claro = values_claro\n",
    "\n",
    "# Criar subplots\n",
    "fig = make_subplots(\n",
    "    rows=1, cols=3,\n",
    "    specs=[[{'type': 'polar'}, {'type': 'polar'}, {'type': 'polar'}]]\n",
    ")\n",
    "\n",
    "# Gráfico Vivo\n",
    "fig.add_trace(go.Scatterpolar(\n",
    "    r=values_vivo,  # Não fechando a linha\n",
    "    theta=categories,\n",
    "    fill='toself',\n",
    "    name='Vivo',\n",
    "    line=dict(color='royalblue'),\n",
    "    opacity=0.7\n",
    "), row=1, col=1)\n",
    "\n",
    "# Gráfico TIM\n",
    "fig.add_trace(go.Scatterpolar(\n",
    "    r=values_tim,\n",
    "    theta=categories,\n",
    "    fill='toself',\n",
    "    name='TIM',\n",
    "    line=dict(color='firebrick'),\n",
    "    opacity=0.7\n",
    "), row=1, col=2)\n",
    "\n",
    "# Gráfico Claro\n",
    "fig.add_trace(go.Scatterpolar(\n",
    "    r=values_claro,\n",
    "    theta=categories,\n",
    "    fill='toself',\n",
    "    name='Claro',\n",
    "    line=dict(color='darkgreen'),\n",
    "    opacity=0.7\n",
    "), row=1, col=3)\n",
    "\n",
    "# Ajustar o layout geral\n",
    "fig.update_layout(\n",
    "    showlegend=False,\n",
    "    title_text=\"Distribuição de Emoções por Operadora\",\n",
    "    height=650, width=1800,\n",
    ")\n",
    "\n",
    "fig.update_layout(\n",
    "    polar=dict(radialaxis=dict(visible=False)),\n",
    "    polar2=dict(radialaxis=dict(visible=False)),\n",
    "    polar3=dict(radialaxis=dict(visible=False))\n",
    ")\n",
    "\n",
    "\n",
    "# Ajuste do posicionamento dos títulos: mais para cima\n",
    "fig.add_annotation(dict(font=dict(size=16),\n",
    "                        x=0.13,\n",
    "                        y=1.1,\n",
    "                        showarrow=False,\n",
    "                        text=\"Vivo\",\n",
    "                        xref=\"paper\",\n",
    "                        yref=\"paper\"))\n",
    "\n",
    "fig.add_annotation(dict(font=dict(size=16),\n",
    "                        x=0.5,\n",
    "                        y=1.1,\n",
    "                        showarrow=False,\n",
    "                        text=\"TIM\",\n",
    "                        xref=\"paper\",\n",
    "                        yref=\"paper\"))\n",
    "\n",
    "fig.add_annotation(dict(font=dict(size=16),\n",
    "                        x=0.87,\n",
    "                        y=1.1,\n",
    "                        showarrow=False,\n",
    "                        text=\"Claro\",\n",
    "                        xref=\"paper\",\n",
    "                        yref=\"paper\"))\n",
    "\n",
    "fig.show()\n"
   ]
  },
  {
   "cell_type": "markdown",
   "id": "4c620f72",
   "metadata": {},
   "source": [
    "# Classificação de Temas\n",
    "\n",
    "passar todo o tratamento no NLTK ou outras libs para fazer uma word cloud e saber os principais temas aboradas nos comentários\n"
   ]
  },
  {
   "cell_type": "code",
   "execution_count": null,
   "id": "84efa4e4",
   "metadata": {},
   "outputs": [],
   "source": [
    "# Aplica a função de classificação de temas manuais\n",
    "df['tema_manual'] = df['content_proc'].swifter.apply(lambda x: classificar_tema(x, temas_manuais))\n",
    "\n",
    "# Explode os temas para analisar por linha\n",
    "df_explodido = df.explode('tema_manual').dropna(subset=['tema_manual'])\n",
    "\n",
    "# Calcula o sentimento contínuo ponderado\n",
    "df_explodido['sentimento_continuo'] = (\n",
    "    df_explodido['sentiment_POS'] * 1 +\n",
    "    df_explodido['sentiment_NEU'] * 0 +\n",
    "    df_explodido['sentiment_NEG'] * -1\n",
    ")"
   ]
  },
  {
   "cell_type": "code",
   "execution_count": 75,
   "id": "29599a42",
   "metadata": {},
   "outputs": [
    {
     "data": {
      "application/vnd.plotly.v1+json": {
       "config": {
        "plotlyServerURL": "https://plot.ly"
       },
       "data": [
        {
         "hovertemplate": "volume=%{x}<br>sentimento_medio=%{marker.color}<br>tamanho=%{marker.size}<br>tema_manual=%{text}<extra></extra>",
         "legendgroup": "",
         "marker": {
          "color": {
           "bdata": "pwKI2VHYoz/C4W2JA9LLvzv0m4HlgdO/Pu47rBmkub9Rbhxn3KnTvyEHPCDl5uG/3/ZorN4Qx795GNuw+cHgv9N+0uWet+K/RGmH9kMmqj9F0BQflSLAv71P0VNREdq/dYvUXMpw3b8=",
           "dtype": "f8"
          },
          "coloraxis": "coloraxis",
          "size": {
           "bdata": "BLUAAFwmAADMBgAAhA0AAKQ9AABYQwAACFwAAHwzAACECAAAOJ8AAMBJAABMDgAAFBQAAA==",
           "dtype": "i4"
          },
          "sizemode": "area",
          "sizeref": 115.85,
          "symbol": "circle"
         },
         "mode": "markers+text",
         "name": "",
         "orientation": "v",
         "showlegend": false,
         "text": [
          "App",
          "Atendimento",
          "Atualização",
          "Benefícios",
          "Conta",
          "Desempenho",
          "Internet",
          "Login",
          "Notificações",
          "Operadora",
          "Plano",
          "Recarga",
          "Usabilidade"
         ],
         "textposition": "top center",
         "type": "scatter",
         "x": {
          "bdata": "DQnrAVcArQAVA14DmgSTAm0A9gewA7cAAQE=",
          "dtype": "i2"
         },
         "xaxis": "x",
         "y": {
          "bdata": "pwKI2VHYoz/C4W2JA9LLvzv0m4HlgdO/Pu47rBmkub9Rbhxn3KnTvyEHPCDl5uG/3/ZorN4Qx795GNuw+cHgv9N+0uWet+K/RGmH9kMmqj9F0BQflSLAv71P0VNREdq/dYvUXMpw3b8=",
          "dtype": "f8"
         },
         "yaxis": "y"
        }
       ],
       "layout": {
        "coloraxis": {
         "colorbar": {
          "title": {
           "text": "Sentimento"
          }
         },
         "colorscale": [
          [
           0,
           "rgb(103,0,31)"
          ],
          [
           0.1,
           "rgb(178,24,43)"
          ],
          [
           0.2,
           "rgb(214,96,77)"
          ],
          [
           0.3,
           "rgb(244,165,130)"
          ],
          [
           0.4,
           "rgb(253,219,199)"
          ],
          [
           0.5,
           "rgb(247,247,247)"
          ],
          [
           0.6,
           "rgb(209,229,240)"
          ],
          [
           0.7,
           "rgb(146,197,222)"
          ],
          [
           0.8,
           "rgb(67,147,195)"
          ],
          [
           0.9,
           "rgb(33,102,172)"
          ],
          [
           1,
           "rgb(5,48,97)"
          ]
         ]
        },
        "height": 700,
        "legend": {
         "itemsizing": "constant",
         "tracegroupgap": 0
        },
        "template": {
         "data": {
          "bar": [
           {
            "error_x": {
             "color": "#2a3f5f"
            },
            "error_y": {
             "color": "#2a3f5f"
            },
            "marker": {
             "line": {
              "color": "white",
              "width": 0.5
             },
             "pattern": {
              "fillmode": "overlay",
              "size": 10,
              "solidity": 0.2
             }
            },
            "type": "bar"
           }
          ],
          "barpolar": [
           {
            "marker": {
             "line": {
              "color": "white",
              "width": 0.5
             },
             "pattern": {
              "fillmode": "overlay",
              "size": 10,
              "solidity": 0.2
             }
            },
            "type": "barpolar"
           }
          ],
          "carpet": [
           {
            "aaxis": {
             "endlinecolor": "#2a3f5f",
             "gridcolor": "#C8D4E3",
             "linecolor": "#C8D4E3",
             "minorgridcolor": "#C8D4E3",
             "startlinecolor": "#2a3f5f"
            },
            "baxis": {
             "endlinecolor": "#2a3f5f",
             "gridcolor": "#C8D4E3",
             "linecolor": "#C8D4E3",
             "minorgridcolor": "#C8D4E3",
             "startlinecolor": "#2a3f5f"
            },
            "type": "carpet"
           }
          ],
          "choropleth": [
           {
            "colorbar": {
             "outlinewidth": 0,
             "ticks": ""
            },
            "type": "choropleth"
           }
          ],
          "contour": [
           {
            "colorbar": {
             "outlinewidth": 0,
             "ticks": ""
            },
            "colorscale": [
             [
              0,
              "#0d0887"
             ],
             [
              0.1111111111111111,
              "#46039f"
             ],
             [
              0.2222222222222222,
              "#7201a8"
             ],
             [
              0.3333333333333333,
              "#9c179e"
             ],
             [
              0.4444444444444444,
              "#bd3786"
             ],
             [
              0.5555555555555556,
              "#d8576b"
             ],
             [
              0.6666666666666666,
              "#ed7953"
             ],
             [
              0.7777777777777778,
              "#fb9f3a"
             ],
             [
              0.8888888888888888,
              "#fdca26"
             ],
             [
              1,
              "#f0f921"
             ]
            ],
            "type": "contour"
           }
          ],
          "contourcarpet": [
           {
            "colorbar": {
             "outlinewidth": 0,
             "ticks": ""
            },
            "type": "contourcarpet"
           }
          ],
          "heatmap": [
           {
            "colorbar": {
             "outlinewidth": 0,
             "ticks": ""
            },
            "colorscale": [
             [
              0,
              "#0d0887"
             ],
             [
              0.1111111111111111,
              "#46039f"
             ],
             [
              0.2222222222222222,
              "#7201a8"
             ],
             [
              0.3333333333333333,
              "#9c179e"
             ],
             [
              0.4444444444444444,
              "#bd3786"
             ],
             [
              0.5555555555555556,
              "#d8576b"
             ],
             [
              0.6666666666666666,
              "#ed7953"
             ],
             [
              0.7777777777777778,
              "#fb9f3a"
             ],
             [
              0.8888888888888888,
              "#fdca26"
             ],
             [
              1,
              "#f0f921"
             ]
            ],
            "type": "heatmap"
           }
          ],
          "histogram": [
           {
            "marker": {
             "pattern": {
              "fillmode": "overlay",
              "size": 10,
              "solidity": 0.2
             }
            },
            "type": "histogram"
           }
          ],
          "histogram2d": [
           {
            "colorbar": {
             "outlinewidth": 0,
             "ticks": ""
            },
            "colorscale": [
             [
              0,
              "#0d0887"
             ],
             [
              0.1111111111111111,
              "#46039f"
             ],
             [
              0.2222222222222222,
              "#7201a8"
             ],
             [
              0.3333333333333333,
              "#9c179e"
             ],
             [
              0.4444444444444444,
              "#bd3786"
             ],
             [
              0.5555555555555556,
              "#d8576b"
             ],
             [
              0.6666666666666666,
              "#ed7953"
             ],
             [
              0.7777777777777778,
              "#fb9f3a"
             ],
             [
              0.8888888888888888,
              "#fdca26"
             ],
             [
              1,
              "#f0f921"
             ]
            ],
            "type": "histogram2d"
           }
          ],
          "histogram2dcontour": [
           {
            "colorbar": {
             "outlinewidth": 0,
             "ticks": ""
            },
            "colorscale": [
             [
              0,
              "#0d0887"
             ],
             [
              0.1111111111111111,
              "#46039f"
             ],
             [
              0.2222222222222222,
              "#7201a8"
             ],
             [
              0.3333333333333333,
              "#9c179e"
             ],
             [
              0.4444444444444444,
              "#bd3786"
             ],
             [
              0.5555555555555556,
              "#d8576b"
             ],
             [
              0.6666666666666666,
              "#ed7953"
             ],
             [
              0.7777777777777778,
              "#fb9f3a"
             ],
             [
              0.8888888888888888,
              "#fdca26"
             ],
             [
              1,
              "#f0f921"
             ]
            ],
            "type": "histogram2dcontour"
           }
          ],
          "mesh3d": [
           {
            "colorbar": {
             "outlinewidth": 0,
             "ticks": ""
            },
            "type": "mesh3d"
           }
          ],
          "parcoords": [
           {
            "line": {
             "colorbar": {
              "outlinewidth": 0,
              "ticks": ""
             }
            },
            "type": "parcoords"
           }
          ],
          "pie": [
           {
            "automargin": true,
            "type": "pie"
           }
          ],
          "scatter": [
           {
            "fillpattern": {
             "fillmode": "overlay",
             "size": 10,
             "solidity": 0.2
            },
            "type": "scatter"
           }
          ],
          "scatter3d": [
           {
            "line": {
             "colorbar": {
              "outlinewidth": 0,
              "ticks": ""
             }
            },
            "marker": {
             "colorbar": {
              "outlinewidth": 0,
              "ticks": ""
             }
            },
            "type": "scatter3d"
           }
          ],
          "scattercarpet": [
           {
            "marker": {
             "colorbar": {
              "outlinewidth": 0,
              "ticks": ""
             }
            },
            "type": "scattercarpet"
           }
          ],
          "scattergeo": [
           {
            "marker": {
             "colorbar": {
              "outlinewidth": 0,
              "ticks": ""
             }
            },
            "type": "scattergeo"
           }
          ],
          "scattergl": [
           {
            "marker": {
             "colorbar": {
              "outlinewidth": 0,
              "ticks": ""
             }
            },
            "type": "scattergl"
           }
          ],
          "scattermap": [
           {
            "marker": {
             "colorbar": {
              "outlinewidth": 0,
              "ticks": ""
             }
            },
            "type": "scattermap"
           }
          ],
          "scattermapbox": [
           {
            "marker": {
             "colorbar": {
              "outlinewidth": 0,
              "ticks": ""
             }
            },
            "type": "scattermapbox"
           }
          ],
          "scatterpolar": [
           {
            "marker": {
             "colorbar": {
              "outlinewidth": 0,
              "ticks": ""
             }
            },
            "type": "scatterpolar"
           }
          ],
          "scatterpolargl": [
           {
            "marker": {
             "colorbar": {
              "outlinewidth": 0,
              "ticks": ""
             }
            },
            "type": "scatterpolargl"
           }
          ],
          "scatterternary": [
           {
            "marker": {
             "colorbar": {
              "outlinewidth": 0,
              "ticks": ""
             }
            },
            "type": "scatterternary"
           }
          ],
          "surface": [
           {
            "colorbar": {
             "outlinewidth": 0,
             "ticks": ""
            },
            "colorscale": [
             [
              0,
              "#0d0887"
             ],
             [
              0.1111111111111111,
              "#46039f"
             ],
             [
              0.2222222222222222,
              "#7201a8"
             ],
             [
              0.3333333333333333,
              "#9c179e"
             ],
             [
              0.4444444444444444,
              "#bd3786"
             ],
             [
              0.5555555555555556,
              "#d8576b"
             ],
             [
              0.6666666666666666,
              "#ed7953"
             ],
             [
              0.7777777777777778,
              "#fb9f3a"
             ],
             [
              0.8888888888888888,
              "#fdca26"
             ],
             [
              1,
              "#f0f921"
             ]
            ],
            "type": "surface"
           }
          ],
          "table": [
           {
            "cells": {
             "fill": {
              "color": "#EBF0F8"
             },
             "line": {
              "color": "white"
             }
            },
            "header": {
             "fill": {
              "color": "#C8D4E3"
             },
             "line": {
              "color": "white"
             }
            },
            "type": "table"
           }
          ]
         },
         "layout": {
          "annotationdefaults": {
           "arrowcolor": "#2a3f5f",
           "arrowhead": 0,
           "arrowwidth": 1
          },
          "autotypenumbers": "strict",
          "coloraxis": {
           "colorbar": {
            "outlinewidth": 0,
            "ticks": ""
           }
          },
          "colorscale": {
           "diverging": [
            [
             0,
             "#8e0152"
            ],
            [
             0.1,
             "#c51b7d"
            ],
            [
             0.2,
             "#de77ae"
            ],
            [
             0.3,
             "#f1b6da"
            ],
            [
             0.4,
             "#fde0ef"
            ],
            [
             0.5,
             "#f7f7f7"
            ],
            [
             0.6,
             "#e6f5d0"
            ],
            [
             0.7,
             "#b8e186"
            ],
            [
             0.8,
             "#7fbc41"
            ],
            [
             0.9,
             "#4d9221"
            ],
            [
             1,
             "#276419"
            ]
           ],
           "sequential": [
            [
             0,
             "#0d0887"
            ],
            [
             0.1111111111111111,
             "#46039f"
            ],
            [
             0.2222222222222222,
             "#7201a8"
            ],
            [
             0.3333333333333333,
             "#9c179e"
            ],
            [
             0.4444444444444444,
             "#bd3786"
            ],
            [
             0.5555555555555556,
             "#d8576b"
            ],
            [
             0.6666666666666666,
             "#ed7953"
            ],
            [
             0.7777777777777778,
             "#fb9f3a"
            ],
            [
             0.8888888888888888,
             "#fdca26"
            ],
            [
             1,
             "#f0f921"
            ]
           ],
           "sequentialminus": [
            [
             0,
             "#0d0887"
            ],
            [
             0.1111111111111111,
             "#46039f"
            ],
            [
             0.2222222222222222,
             "#7201a8"
            ],
            [
             0.3333333333333333,
             "#9c179e"
            ],
            [
             0.4444444444444444,
             "#bd3786"
            ],
            [
             0.5555555555555556,
             "#d8576b"
            ],
            [
             0.6666666666666666,
             "#ed7953"
            ],
            [
             0.7777777777777778,
             "#fb9f3a"
            ],
            [
             0.8888888888888888,
             "#fdca26"
            ],
            [
             1,
             "#f0f921"
            ]
           ]
          },
          "colorway": [
           "#636efa",
           "#EF553B",
           "#00cc96",
           "#ab63fa",
           "#FFA15A",
           "#19d3f3",
           "#FF6692",
           "#B6E880",
           "#FF97FF",
           "#FECB52"
          ],
          "font": {
           "color": "#2a3f5f"
          },
          "geo": {
           "bgcolor": "white",
           "lakecolor": "white",
           "landcolor": "white",
           "showlakes": true,
           "showland": true,
           "subunitcolor": "#C8D4E3"
          },
          "hoverlabel": {
           "align": "left"
          },
          "hovermode": "closest",
          "mapbox": {
           "style": "light"
          },
          "paper_bgcolor": "white",
          "plot_bgcolor": "white",
          "polar": {
           "angularaxis": {
            "gridcolor": "#EBF0F8",
            "linecolor": "#EBF0F8",
            "ticks": ""
           },
           "bgcolor": "white",
           "radialaxis": {
            "gridcolor": "#EBF0F8",
            "linecolor": "#EBF0F8",
            "ticks": ""
           }
          },
          "scene": {
           "xaxis": {
            "backgroundcolor": "white",
            "gridcolor": "#DFE8F3",
            "gridwidth": 2,
            "linecolor": "#EBF0F8",
            "showbackground": true,
            "ticks": "",
            "zerolinecolor": "#EBF0F8"
           },
           "yaxis": {
            "backgroundcolor": "white",
            "gridcolor": "#DFE8F3",
            "gridwidth": 2,
            "linecolor": "#EBF0F8",
            "showbackground": true,
            "ticks": "",
            "zerolinecolor": "#EBF0F8"
           },
           "zaxis": {
            "backgroundcolor": "white",
            "gridcolor": "#DFE8F3",
            "gridwidth": 2,
            "linecolor": "#EBF0F8",
            "showbackground": true,
            "ticks": "",
            "zerolinecolor": "#EBF0F8"
           }
          },
          "shapedefaults": {
           "line": {
            "color": "#2a3f5f"
           }
          },
          "ternary": {
           "aaxis": {
            "gridcolor": "#DFE8F3",
            "linecolor": "#A2B1C6",
            "ticks": ""
           },
           "baxis": {
            "gridcolor": "#DFE8F3",
            "linecolor": "#A2B1C6",
            "ticks": ""
           },
           "bgcolor": "white",
           "caxis": {
            "gridcolor": "#DFE8F3",
            "linecolor": "#A2B1C6",
            "ticks": ""
           }
          },
          "title": {
           "x": 0.05
          },
          "xaxis": {
           "automargin": true,
           "gridcolor": "#EBF0F8",
           "linecolor": "#EBF0F8",
           "ticks": "",
           "title": {
            "standoff": 15
           },
           "zerolinecolor": "#EBF0F8",
           "zerolinewidth": 2
          },
          "yaxis": {
           "automargin": true,
           "gridcolor": "#EBF0F8",
           "linecolor": "#EBF0F8",
           "ticks": "",
           "title": {
            "standoff": 15
           },
           "zerolinecolor": "#EBF0F8",
           "zerolinewidth": 2
          }
         }
        },
        "title": {
         "text": "Sentimento Médio Ponderado vs Volume por Tema"
        },
        "width": 700,
        "xaxis": {
         "anchor": "y",
         "domain": [
          0,
          1
         ],
         "title": {
          "text": "Volume de Comentários"
         }
        },
        "yaxis": {
         "anchor": "x",
         "domain": [
          0,
          1
         ],
         "range": [
          -1,
          1
         ],
         "title": {
          "text": "Sentimento Médio Ponderado"
         }
        }
       }
      }
     },
     "metadata": {},
     "output_type": "display_data"
    }
   ],
   "source": [
    "df_claro = df_explodido[df_explodido[\"app\"] == \"Claro\"]\n",
    "\n",
    "#Agrupamento por tema\n",
    "df_tema = df_claro.groupby('tema_manual').agg(\n",
    "    volume=('tema_manual', 'count'),\n",
    "    sentimento_medio=('sentimento_continuo', 'mean')\n",
    ").reset_index()\n",
    "\n",
    "# Normaliza o volume para tamanho dos pontos no gráfico\n",
    "df_tema['tamanho'] = df_tema['volume'] * 20  # Ajuste conforme necessário\n",
    "\n",
    "fig = px.scatter(\n",
    "    df_tema,\n",
    "    x=\"volume\",\n",
    "    y=\"sentimento_medio\",\n",
    "    size=\"tamanho\",\n",
    "    color=\"sentimento_medio\",\n",
    "    text=\"tema_manual\",\n",
    "    color_continuous_scale=\"RdBu\",\n",
    "    range_y=[-1, 1],  # Limite do eixo Y entre -1 e +1\n",
    "    title=\"Sentimento Médio Ponderado vs Volume por Tema\"\n",
    ")\n",
    "\n",
    "# Ajustes visuais\n",
    "fig.update_traces(textposition='top center')\n",
    "fig.update_layout(\n",
    "    width=700,\n",
    "    height=700,\n",
    "    xaxis_title=\"Volume de Comentários\",\n",
    "    yaxis_title=\"Sentimento Médio Ponderado\",\n",
    "    coloraxis_colorbar=dict(title=\"Sentimento\"),\n",
    "    template=\"plotly_white\"\n",
    ")\n",
    "\n",
    "fig.show()"
   ]
  },
  {
   "cell_type": "code",
   "execution_count": 76,
   "id": "071edc58",
   "metadata": {},
   "outputs": [
    {
     "data": {
      "application/vnd.plotly.v1+json": {
       "config": {
        "plotlyServerURL": "https://plot.ly"
       },
       "data": [
        {
         "hovertemplate": "volume=%{x}<br>sentimento_medio=%{marker.color}<br>tamanho=%{marker.size}<br>tema_manual=%{text}<extra></extra>",
         "legendgroup": "",
         "marker": {
          "color": {
           "bdata": "EtSrxhS84b8QqqtxCbvkvwPGRs7viea/egi9lNCh3L9ZiVNb0oPiv2tJNGLQ0+a/03L9O89q5L9jlU+Ji/vjvzpiANzIDuW/Md2S4J6b279u2yY+Nu3hv9Ptrm27ON+/cSvcQbPp5r8=",
           "dtype": "f8"
          },
          "coloraxis": "coloraxis",
          "size": {
           "bdata": "fF8BAERNAAAgcQAAmBcAAHigAACEZwAAfJIAAAxdAACUIAAAnO8AADCOAACEJgAAkDMAAA==",
           "dtype": "i4"
          },
          "sizemode": "area",
          "sizeref": 224.95,
          "symbol": "circle"
         },
         "mode": "markers+text",
         "name": "",
         "orientation": "v",
         "showlegend": false,
         "text": [
          "App",
          "Atendimento",
          "Atualização",
          "Benefícios",
          "Conta",
          "Desempenho",
          "Internet",
          "Login",
          "Notificações",
          "Operadora",
          "Plano",
          "Recarga",
          "Usabilidade"
         ],
         "textposition": "top center",
         "type": "scatter",
         "x": {
          "bdata": "kxHdA6gFLgEGCC0FUwenBKEB+wscB+0BlAI=",
          "dtype": "i2"
         },
         "xaxis": "x",
         "y": {
          "bdata": "EtSrxhS84b8QqqtxCbvkvwPGRs7viea/egi9lNCh3L9ZiVNb0oPiv2tJNGLQ0+a/03L9O89q5L9jlU+Ji/vjvzpiANzIDuW/Md2S4J6b279u2yY+Nu3hv9Ptrm27ON+/cSvcQbPp5r8=",
          "dtype": "f8"
         },
         "yaxis": "y"
        }
       ],
       "layout": {
        "coloraxis": {
         "colorbar": {
          "title": {
           "text": "Sentimento"
          }
         },
         "colorscale": [
          [
           0,
           "rgb(103,0,31)"
          ],
          [
           0.1,
           "rgb(178,24,43)"
          ],
          [
           0.2,
           "rgb(214,96,77)"
          ],
          [
           0.3,
           "rgb(244,165,130)"
          ],
          [
           0.4,
           "rgb(253,219,199)"
          ],
          [
           0.5,
           "rgb(247,247,247)"
          ],
          [
           0.6,
           "rgb(209,229,240)"
          ],
          [
           0.7,
           "rgb(146,197,222)"
          ],
          [
           0.8,
           "rgb(67,147,195)"
          ],
          [
           0.9,
           "rgb(33,102,172)"
          ],
          [
           1,
           "rgb(5,48,97)"
          ]
         ]
        },
        "height": 700,
        "legend": {
         "itemsizing": "constant",
         "tracegroupgap": 0
        },
        "template": {
         "data": {
          "bar": [
           {
            "error_x": {
             "color": "#2a3f5f"
            },
            "error_y": {
             "color": "#2a3f5f"
            },
            "marker": {
             "line": {
              "color": "white",
              "width": 0.5
             },
             "pattern": {
              "fillmode": "overlay",
              "size": 10,
              "solidity": 0.2
             }
            },
            "type": "bar"
           }
          ],
          "barpolar": [
           {
            "marker": {
             "line": {
              "color": "white",
              "width": 0.5
             },
             "pattern": {
              "fillmode": "overlay",
              "size": 10,
              "solidity": 0.2
             }
            },
            "type": "barpolar"
           }
          ],
          "carpet": [
           {
            "aaxis": {
             "endlinecolor": "#2a3f5f",
             "gridcolor": "#C8D4E3",
             "linecolor": "#C8D4E3",
             "minorgridcolor": "#C8D4E3",
             "startlinecolor": "#2a3f5f"
            },
            "baxis": {
             "endlinecolor": "#2a3f5f",
             "gridcolor": "#C8D4E3",
             "linecolor": "#C8D4E3",
             "minorgridcolor": "#C8D4E3",
             "startlinecolor": "#2a3f5f"
            },
            "type": "carpet"
           }
          ],
          "choropleth": [
           {
            "colorbar": {
             "outlinewidth": 0,
             "ticks": ""
            },
            "type": "choropleth"
           }
          ],
          "contour": [
           {
            "colorbar": {
             "outlinewidth": 0,
             "ticks": ""
            },
            "colorscale": [
             [
              0,
              "#0d0887"
             ],
             [
              0.1111111111111111,
              "#46039f"
             ],
             [
              0.2222222222222222,
              "#7201a8"
             ],
             [
              0.3333333333333333,
              "#9c179e"
             ],
             [
              0.4444444444444444,
              "#bd3786"
             ],
             [
              0.5555555555555556,
              "#d8576b"
             ],
             [
              0.6666666666666666,
              "#ed7953"
             ],
             [
              0.7777777777777778,
              "#fb9f3a"
             ],
             [
              0.8888888888888888,
              "#fdca26"
             ],
             [
              1,
              "#f0f921"
             ]
            ],
            "type": "contour"
           }
          ],
          "contourcarpet": [
           {
            "colorbar": {
             "outlinewidth": 0,
             "ticks": ""
            },
            "type": "contourcarpet"
           }
          ],
          "heatmap": [
           {
            "colorbar": {
             "outlinewidth": 0,
             "ticks": ""
            },
            "colorscale": [
             [
              0,
              "#0d0887"
             ],
             [
              0.1111111111111111,
              "#46039f"
             ],
             [
              0.2222222222222222,
              "#7201a8"
             ],
             [
              0.3333333333333333,
              "#9c179e"
             ],
             [
              0.4444444444444444,
              "#bd3786"
             ],
             [
              0.5555555555555556,
              "#d8576b"
             ],
             [
              0.6666666666666666,
              "#ed7953"
             ],
             [
              0.7777777777777778,
              "#fb9f3a"
             ],
             [
              0.8888888888888888,
              "#fdca26"
             ],
             [
              1,
              "#f0f921"
             ]
            ],
            "type": "heatmap"
           }
          ],
          "histogram": [
           {
            "marker": {
             "pattern": {
              "fillmode": "overlay",
              "size": 10,
              "solidity": 0.2
             }
            },
            "type": "histogram"
           }
          ],
          "histogram2d": [
           {
            "colorbar": {
             "outlinewidth": 0,
             "ticks": ""
            },
            "colorscale": [
             [
              0,
              "#0d0887"
             ],
             [
              0.1111111111111111,
              "#46039f"
             ],
             [
              0.2222222222222222,
              "#7201a8"
             ],
             [
              0.3333333333333333,
              "#9c179e"
             ],
             [
              0.4444444444444444,
              "#bd3786"
             ],
             [
              0.5555555555555556,
              "#d8576b"
             ],
             [
              0.6666666666666666,
              "#ed7953"
             ],
             [
              0.7777777777777778,
              "#fb9f3a"
             ],
             [
              0.8888888888888888,
              "#fdca26"
             ],
             [
              1,
              "#f0f921"
             ]
            ],
            "type": "histogram2d"
           }
          ],
          "histogram2dcontour": [
           {
            "colorbar": {
             "outlinewidth": 0,
             "ticks": ""
            },
            "colorscale": [
             [
              0,
              "#0d0887"
             ],
             [
              0.1111111111111111,
              "#46039f"
             ],
             [
              0.2222222222222222,
              "#7201a8"
             ],
             [
              0.3333333333333333,
              "#9c179e"
             ],
             [
              0.4444444444444444,
              "#bd3786"
             ],
             [
              0.5555555555555556,
              "#d8576b"
             ],
             [
              0.6666666666666666,
              "#ed7953"
             ],
             [
              0.7777777777777778,
              "#fb9f3a"
             ],
             [
              0.8888888888888888,
              "#fdca26"
             ],
             [
              1,
              "#f0f921"
             ]
            ],
            "type": "histogram2dcontour"
           }
          ],
          "mesh3d": [
           {
            "colorbar": {
             "outlinewidth": 0,
             "ticks": ""
            },
            "type": "mesh3d"
           }
          ],
          "parcoords": [
           {
            "line": {
             "colorbar": {
              "outlinewidth": 0,
              "ticks": ""
             }
            },
            "type": "parcoords"
           }
          ],
          "pie": [
           {
            "automargin": true,
            "type": "pie"
           }
          ],
          "scatter": [
           {
            "fillpattern": {
             "fillmode": "overlay",
             "size": 10,
             "solidity": 0.2
            },
            "type": "scatter"
           }
          ],
          "scatter3d": [
           {
            "line": {
             "colorbar": {
              "outlinewidth": 0,
              "ticks": ""
             }
            },
            "marker": {
             "colorbar": {
              "outlinewidth": 0,
              "ticks": ""
             }
            },
            "type": "scatter3d"
           }
          ],
          "scattercarpet": [
           {
            "marker": {
             "colorbar": {
              "outlinewidth": 0,
              "ticks": ""
             }
            },
            "type": "scattercarpet"
           }
          ],
          "scattergeo": [
           {
            "marker": {
             "colorbar": {
              "outlinewidth": 0,
              "ticks": ""
             }
            },
            "type": "scattergeo"
           }
          ],
          "scattergl": [
           {
            "marker": {
             "colorbar": {
              "outlinewidth": 0,
              "ticks": ""
             }
            },
            "type": "scattergl"
           }
          ],
          "scattermap": [
           {
            "marker": {
             "colorbar": {
              "outlinewidth": 0,
              "ticks": ""
             }
            },
            "type": "scattermap"
           }
          ],
          "scattermapbox": [
           {
            "marker": {
             "colorbar": {
              "outlinewidth": 0,
              "ticks": ""
             }
            },
            "type": "scattermapbox"
           }
          ],
          "scatterpolar": [
           {
            "marker": {
             "colorbar": {
              "outlinewidth": 0,
              "ticks": ""
             }
            },
            "type": "scatterpolar"
           }
          ],
          "scatterpolargl": [
           {
            "marker": {
             "colorbar": {
              "outlinewidth": 0,
              "ticks": ""
             }
            },
            "type": "scatterpolargl"
           }
          ],
          "scatterternary": [
           {
            "marker": {
             "colorbar": {
              "outlinewidth": 0,
              "ticks": ""
             }
            },
            "type": "scatterternary"
           }
          ],
          "surface": [
           {
            "colorbar": {
             "outlinewidth": 0,
             "ticks": ""
            },
            "colorscale": [
             [
              0,
              "#0d0887"
             ],
             [
              0.1111111111111111,
              "#46039f"
             ],
             [
              0.2222222222222222,
              "#7201a8"
             ],
             [
              0.3333333333333333,
              "#9c179e"
             ],
             [
              0.4444444444444444,
              "#bd3786"
             ],
             [
              0.5555555555555556,
              "#d8576b"
             ],
             [
              0.6666666666666666,
              "#ed7953"
             ],
             [
              0.7777777777777778,
              "#fb9f3a"
             ],
             [
              0.8888888888888888,
              "#fdca26"
             ],
             [
              1,
              "#f0f921"
             ]
            ],
            "type": "surface"
           }
          ],
          "table": [
           {
            "cells": {
             "fill": {
              "color": "#EBF0F8"
             },
             "line": {
              "color": "white"
             }
            },
            "header": {
             "fill": {
              "color": "#C8D4E3"
             },
             "line": {
              "color": "white"
             }
            },
            "type": "table"
           }
          ]
         },
         "layout": {
          "annotationdefaults": {
           "arrowcolor": "#2a3f5f",
           "arrowhead": 0,
           "arrowwidth": 1
          },
          "autotypenumbers": "strict",
          "coloraxis": {
           "colorbar": {
            "outlinewidth": 0,
            "ticks": ""
           }
          },
          "colorscale": {
           "diverging": [
            [
             0,
             "#8e0152"
            ],
            [
             0.1,
             "#c51b7d"
            ],
            [
             0.2,
             "#de77ae"
            ],
            [
             0.3,
             "#f1b6da"
            ],
            [
             0.4,
             "#fde0ef"
            ],
            [
             0.5,
             "#f7f7f7"
            ],
            [
             0.6,
             "#e6f5d0"
            ],
            [
             0.7,
             "#b8e186"
            ],
            [
             0.8,
             "#7fbc41"
            ],
            [
             0.9,
             "#4d9221"
            ],
            [
             1,
             "#276419"
            ]
           ],
           "sequential": [
            [
             0,
             "#0d0887"
            ],
            [
             0.1111111111111111,
             "#46039f"
            ],
            [
             0.2222222222222222,
             "#7201a8"
            ],
            [
             0.3333333333333333,
             "#9c179e"
            ],
            [
             0.4444444444444444,
             "#bd3786"
            ],
            [
             0.5555555555555556,
             "#d8576b"
            ],
            [
             0.6666666666666666,
             "#ed7953"
            ],
            [
             0.7777777777777778,
             "#fb9f3a"
            ],
            [
             0.8888888888888888,
             "#fdca26"
            ],
            [
             1,
             "#f0f921"
            ]
           ],
           "sequentialminus": [
            [
             0,
             "#0d0887"
            ],
            [
             0.1111111111111111,
             "#46039f"
            ],
            [
             0.2222222222222222,
             "#7201a8"
            ],
            [
             0.3333333333333333,
             "#9c179e"
            ],
            [
             0.4444444444444444,
             "#bd3786"
            ],
            [
             0.5555555555555556,
             "#d8576b"
            ],
            [
             0.6666666666666666,
             "#ed7953"
            ],
            [
             0.7777777777777778,
             "#fb9f3a"
            ],
            [
             0.8888888888888888,
             "#fdca26"
            ],
            [
             1,
             "#f0f921"
            ]
           ]
          },
          "colorway": [
           "#636efa",
           "#EF553B",
           "#00cc96",
           "#ab63fa",
           "#FFA15A",
           "#19d3f3",
           "#FF6692",
           "#B6E880",
           "#FF97FF",
           "#FECB52"
          ],
          "font": {
           "color": "#2a3f5f"
          },
          "geo": {
           "bgcolor": "white",
           "lakecolor": "white",
           "landcolor": "white",
           "showlakes": true,
           "showland": true,
           "subunitcolor": "#C8D4E3"
          },
          "hoverlabel": {
           "align": "left"
          },
          "hovermode": "closest",
          "mapbox": {
           "style": "light"
          },
          "paper_bgcolor": "white",
          "plot_bgcolor": "white",
          "polar": {
           "angularaxis": {
            "gridcolor": "#EBF0F8",
            "linecolor": "#EBF0F8",
            "ticks": ""
           },
           "bgcolor": "white",
           "radialaxis": {
            "gridcolor": "#EBF0F8",
            "linecolor": "#EBF0F8",
            "ticks": ""
           }
          },
          "scene": {
           "xaxis": {
            "backgroundcolor": "white",
            "gridcolor": "#DFE8F3",
            "gridwidth": 2,
            "linecolor": "#EBF0F8",
            "showbackground": true,
            "ticks": "",
            "zerolinecolor": "#EBF0F8"
           },
           "yaxis": {
            "backgroundcolor": "white",
            "gridcolor": "#DFE8F3",
            "gridwidth": 2,
            "linecolor": "#EBF0F8",
            "showbackground": true,
            "ticks": "",
            "zerolinecolor": "#EBF0F8"
           },
           "zaxis": {
            "backgroundcolor": "white",
            "gridcolor": "#DFE8F3",
            "gridwidth": 2,
            "linecolor": "#EBF0F8",
            "showbackground": true,
            "ticks": "",
            "zerolinecolor": "#EBF0F8"
           }
          },
          "shapedefaults": {
           "line": {
            "color": "#2a3f5f"
           }
          },
          "ternary": {
           "aaxis": {
            "gridcolor": "#DFE8F3",
            "linecolor": "#A2B1C6",
            "ticks": ""
           },
           "baxis": {
            "gridcolor": "#DFE8F3",
            "linecolor": "#A2B1C6",
            "ticks": ""
           },
           "bgcolor": "white",
           "caxis": {
            "gridcolor": "#DFE8F3",
            "linecolor": "#A2B1C6",
            "ticks": ""
           }
          },
          "title": {
           "x": 0.05
          },
          "xaxis": {
           "automargin": true,
           "gridcolor": "#EBF0F8",
           "linecolor": "#EBF0F8",
           "ticks": "",
           "title": {
            "standoff": 15
           },
           "zerolinecolor": "#EBF0F8",
           "zerolinewidth": 2
          },
          "yaxis": {
           "automargin": true,
           "gridcolor": "#EBF0F8",
           "linecolor": "#EBF0F8",
           "ticks": "",
           "title": {
            "standoff": 15
           },
           "zerolinecolor": "#EBF0F8",
           "zerolinewidth": 2
          }
         }
        },
        "title": {
         "text": "Sentimento Médio Ponderado vs Volume por Tema"
        },
        "width": 700,
        "xaxis": {
         "anchor": "y",
         "domain": [
          0,
          1
         ],
         "title": {
          "text": "Volume de Comentários"
         }
        },
        "yaxis": {
         "anchor": "x",
         "domain": [
          0,
          1
         ],
         "range": [
          -1,
          1
         ],
         "title": {
          "text": "Sentimento Médio Ponderado"
         }
        }
       }
      }
     },
     "metadata": {},
     "output_type": "display_data"
    }
   ],
   "source": [
    "df_tim = df_explodido[df_explodido[\"app\"] == \"TIM\"]\n",
    "\n",
    "#Agrupamento por tema\n",
    "df_tema = df_tim.groupby('tema_manual').agg(\n",
    "    volume=('tema_manual', 'count'),\n",
    "    sentimento_medio=('sentimento_continuo', 'mean')\n",
    ").reset_index()\n",
    "\n",
    "# Normaliza o volume para tamanho dos pontos no gráfico\n",
    "df_tema['tamanho'] = df_tema['volume'] * 20  # Ajuste conforme necessário\n",
    "\n",
    "fig = px.scatter(\n",
    "    df_tema,\n",
    "    x=\"volume\",\n",
    "    y=\"sentimento_medio\",\n",
    "    size=\"tamanho\",\n",
    "    color=\"sentimento_medio\",\n",
    "    text=\"tema_manual\",\n",
    "    color_continuous_scale=\"RdBu\",\n",
    "    range_y=[-1, 1],  # Limite do eixo Y entre -1 e +1\n",
    "    title=\"Sentimento Médio Ponderado vs Volume por Tema\"\n",
    ")\n",
    "\n",
    "# Ajustes visuais\n",
    "fig.update_traces(textposition='top center')\n",
    "fig.update_layout(\n",
    "    width=700,\n",
    "    height=700,\n",
    "    xaxis_title=\"Volume de Comentários\",\n",
    "    yaxis_title=\"Sentimento Médio Ponderado\",\n",
    "    coloraxis_colorbar=dict(title=\"Sentimento\"),\n",
    "    template=\"plotly_white\"\n",
    ")\n",
    "\n",
    "fig.show()"
   ]
  },
  {
   "cell_type": "code",
   "execution_count": 79,
   "id": "2960f2b0",
   "metadata": {},
   "outputs": [
    {
     "data": {
      "application/vnd.plotly.v1+json": {
       "config": {
        "plotlyServerURL": "https://plot.ly"
       },
       "data": [
        {
         "hovertemplate": "volume=%{x}<br>sentimento_medio=%{marker.color}<br>tamanho=%{marker.size}<br>tema_manual=%{text}<extra></extra>",
         "legendgroup": "",
         "marker": {
          "color": {
           "bdata": "jW/aY3fIo7/9VMKiz1q7v5tsIp5gmeO/Llu2Pe6Pxr8Nei0hBIvWv0GWAm/nOOO/ztvLL0tG1b8WkuBeqwHfvz80ZjFwE+a/cOFt2+q6lb9/0uj5AKfQv1mBcBBRDNy/VlBbhi0A378=",
           "dtype": "f8"
          },
          "coloraxis": "coloraxis",
          "size": {
           "bdata": "WOMAAJgmAABQCgAAaAsAALRVAACMRgAAhEQAAPQ4AACoBwAAbIkAAJxAAADYDgAArBIAAA==",
           "dtype": "i4"
          },
          "sizemode": "area",
          "sizeref": 145.5,
          "symbol": "circle"
         },
         "mode": "markers+text",
         "name": "",
         "orientation": "v",
         "showlegend": false,
         "text": [
          "App",
          "Atendimento",
          "Atualização",
          "Benefícios",
          "Conta",
          "Desempenho",
          "Internet",
          "Login",
          "Notificações",
          "Operadora",
          "Plano",
          "Recarga",
          "Usabilidade"
         ],
         "textposition": "top center",
         "type": "scatter",
         "x": {
          "bdata": "XgvuAYQAkgBJBIcDbQPZAmIA3wY7A74A7wA=",
          "dtype": "i2"
         },
         "xaxis": "x",
         "y": {
          "bdata": "jW/aY3fIo7/9VMKiz1q7v5tsIp5gmeO/Llu2Pe6Pxr8Nei0hBIvWv0GWAm/nOOO/ztvLL0tG1b8WkuBeqwHfvz80ZjFwE+a/cOFt2+q6lb9/0uj5AKfQv1mBcBBRDNy/VlBbhi0A378=",
          "dtype": "f8"
         },
         "yaxis": "y"
        }
       ],
       "layout": {
        "coloraxis": {
         "colorbar": {
          "title": {
           "text": "Sentimento"
          }
         },
         "colorscale": [
          [
           0,
           "rgb(103,0,31)"
          ],
          [
           0.1,
           "rgb(178,24,43)"
          ],
          [
           0.2,
           "rgb(214,96,77)"
          ],
          [
           0.3,
           "rgb(244,165,130)"
          ],
          [
           0.4,
           "rgb(253,219,199)"
          ],
          [
           0.5,
           "rgb(247,247,247)"
          ],
          [
           0.6,
           "rgb(209,229,240)"
          ],
          [
           0.7,
           "rgb(146,197,222)"
          ],
          [
           0.8,
           "rgb(67,147,195)"
          ],
          [
           0.9,
           "rgb(33,102,172)"
          ],
          [
           1,
           "rgb(5,48,97)"
          ]
         ]
        },
        "height": 700,
        "legend": {
         "itemsizing": "constant",
         "tracegroupgap": 0
        },
        "template": {
         "data": {
          "bar": [
           {
            "error_x": {
             "color": "#2a3f5f"
            },
            "error_y": {
             "color": "#2a3f5f"
            },
            "marker": {
             "line": {
              "color": "white",
              "width": 0.5
             },
             "pattern": {
              "fillmode": "overlay",
              "size": 10,
              "solidity": 0.2
             }
            },
            "type": "bar"
           }
          ],
          "barpolar": [
           {
            "marker": {
             "line": {
              "color": "white",
              "width": 0.5
             },
             "pattern": {
              "fillmode": "overlay",
              "size": 10,
              "solidity": 0.2
             }
            },
            "type": "barpolar"
           }
          ],
          "carpet": [
           {
            "aaxis": {
             "endlinecolor": "#2a3f5f",
             "gridcolor": "#C8D4E3",
             "linecolor": "#C8D4E3",
             "minorgridcolor": "#C8D4E3",
             "startlinecolor": "#2a3f5f"
            },
            "baxis": {
             "endlinecolor": "#2a3f5f",
             "gridcolor": "#C8D4E3",
             "linecolor": "#C8D4E3",
             "minorgridcolor": "#C8D4E3",
             "startlinecolor": "#2a3f5f"
            },
            "type": "carpet"
           }
          ],
          "choropleth": [
           {
            "colorbar": {
             "outlinewidth": 0,
             "ticks": ""
            },
            "type": "choropleth"
           }
          ],
          "contour": [
           {
            "colorbar": {
             "outlinewidth": 0,
             "ticks": ""
            },
            "colorscale": [
             [
              0,
              "#0d0887"
             ],
             [
              0.1111111111111111,
              "#46039f"
             ],
             [
              0.2222222222222222,
              "#7201a8"
             ],
             [
              0.3333333333333333,
              "#9c179e"
             ],
             [
              0.4444444444444444,
              "#bd3786"
             ],
             [
              0.5555555555555556,
              "#d8576b"
             ],
             [
              0.6666666666666666,
              "#ed7953"
             ],
             [
              0.7777777777777778,
              "#fb9f3a"
             ],
             [
              0.8888888888888888,
              "#fdca26"
             ],
             [
              1,
              "#f0f921"
             ]
            ],
            "type": "contour"
           }
          ],
          "contourcarpet": [
           {
            "colorbar": {
             "outlinewidth": 0,
             "ticks": ""
            },
            "type": "contourcarpet"
           }
          ],
          "heatmap": [
           {
            "colorbar": {
             "outlinewidth": 0,
             "ticks": ""
            },
            "colorscale": [
             [
              0,
              "#0d0887"
             ],
             [
              0.1111111111111111,
              "#46039f"
             ],
             [
              0.2222222222222222,
              "#7201a8"
             ],
             [
              0.3333333333333333,
              "#9c179e"
             ],
             [
              0.4444444444444444,
              "#bd3786"
             ],
             [
              0.5555555555555556,
              "#d8576b"
             ],
             [
              0.6666666666666666,
              "#ed7953"
             ],
             [
              0.7777777777777778,
              "#fb9f3a"
             ],
             [
              0.8888888888888888,
              "#fdca26"
             ],
             [
              1,
              "#f0f921"
             ]
            ],
            "type": "heatmap"
           }
          ],
          "histogram": [
           {
            "marker": {
             "pattern": {
              "fillmode": "overlay",
              "size": 10,
              "solidity": 0.2
             }
            },
            "type": "histogram"
           }
          ],
          "histogram2d": [
           {
            "colorbar": {
             "outlinewidth": 0,
             "ticks": ""
            },
            "colorscale": [
             [
              0,
              "#0d0887"
             ],
             [
              0.1111111111111111,
              "#46039f"
             ],
             [
              0.2222222222222222,
              "#7201a8"
             ],
             [
              0.3333333333333333,
              "#9c179e"
             ],
             [
              0.4444444444444444,
              "#bd3786"
             ],
             [
              0.5555555555555556,
              "#d8576b"
             ],
             [
              0.6666666666666666,
              "#ed7953"
             ],
             [
              0.7777777777777778,
              "#fb9f3a"
             ],
             [
              0.8888888888888888,
              "#fdca26"
             ],
             [
              1,
              "#f0f921"
             ]
            ],
            "type": "histogram2d"
           }
          ],
          "histogram2dcontour": [
           {
            "colorbar": {
             "outlinewidth": 0,
             "ticks": ""
            },
            "colorscale": [
             [
              0,
              "#0d0887"
             ],
             [
              0.1111111111111111,
              "#46039f"
             ],
             [
              0.2222222222222222,
              "#7201a8"
             ],
             [
              0.3333333333333333,
              "#9c179e"
             ],
             [
              0.4444444444444444,
              "#bd3786"
             ],
             [
              0.5555555555555556,
              "#d8576b"
             ],
             [
              0.6666666666666666,
              "#ed7953"
             ],
             [
              0.7777777777777778,
              "#fb9f3a"
             ],
             [
              0.8888888888888888,
              "#fdca26"
             ],
             [
              1,
              "#f0f921"
             ]
            ],
            "type": "histogram2dcontour"
           }
          ],
          "mesh3d": [
           {
            "colorbar": {
             "outlinewidth": 0,
             "ticks": ""
            },
            "type": "mesh3d"
           }
          ],
          "parcoords": [
           {
            "line": {
             "colorbar": {
              "outlinewidth": 0,
              "ticks": ""
             }
            },
            "type": "parcoords"
           }
          ],
          "pie": [
           {
            "automargin": true,
            "type": "pie"
           }
          ],
          "scatter": [
           {
            "fillpattern": {
             "fillmode": "overlay",
             "size": 10,
             "solidity": 0.2
            },
            "type": "scatter"
           }
          ],
          "scatter3d": [
           {
            "line": {
             "colorbar": {
              "outlinewidth": 0,
              "ticks": ""
             }
            },
            "marker": {
             "colorbar": {
              "outlinewidth": 0,
              "ticks": ""
             }
            },
            "type": "scatter3d"
           }
          ],
          "scattercarpet": [
           {
            "marker": {
             "colorbar": {
              "outlinewidth": 0,
              "ticks": ""
             }
            },
            "type": "scattercarpet"
           }
          ],
          "scattergeo": [
           {
            "marker": {
             "colorbar": {
              "outlinewidth": 0,
              "ticks": ""
             }
            },
            "type": "scattergeo"
           }
          ],
          "scattergl": [
           {
            "marker": {
             "colorbar": {
              "outlinewidth": 0,
              "ticks": ""
             }
            },
            "type": "scattergl"
           }
          ],
          "scattermap": [
           {
            "marker": {
             "colorbar": {
              "outlinewidth": 0,
              "ticks": ""
             }
            },
            "type": "scattermap"
           }
          ],
          "scattermapbox": [
           {
            "marker": {
             "colorbar": {
              "outlinewidth": 0,
              "ticks": ""
             }
            },
            "type": "scattermapbox"
           }
          ],
          "scatterpolar": [
           {
            "marker": {
             "colorbar": {
              "outlinewidth": 0,
              "ticks": ""
             }
            },
            "type": "scatterpolar"
           }
          ],
          "scatterpolargl": [
           {
            "marker": {
             "colorbar": {
              "outlinewidth": 0,
              "ticks": ""
             }
            },
            "type": "scatterpolargl"
           }
          ],
          "scatterternary": [
           {
            "marker": {
             "colorbar": {
              "outlinewidth": 0,
              "ticks": ""
             }
            },
            "type": "scatterternary"
           }
          ],
          "surface": [
           {
            "colorbar": {
             "outlinewidth": 0,
             "ticks": ""
            },
            "colorscale": [
             [
              0,
              "#0d0887"
             ],
             [
              0.1111111111111111,
              "#46039f"
             ],
             [
              0.2222222222222222,
              "#7201a8"
             ],
             [
              0.3333333333333333,
              "#9c179e"
             ],
             [
              0.4444444444444444,
              "#bd3786"
             ],
             [
              0.5555555555555556,
              "#d8576b"
             ],
             [
              0.6666666666666666,
              "#ed7953"
             ],
             [
              0.7777777777777778,
              "#fb9f3a"
             ],
             [
              0.8888888888888888,
              "#fdca26"
             ],
             [
              1,
              "#f0f921"
             ]
            ],
            "type": "surface"
           }
          ],
          "table": [
           {
            "cells": {
             "fill": {
              "color": "#EBF0F8"
             },
             "line": {
              "color": "white"
             }
            },
            "header": {
             "fill": {
              "color": "#C8D4E3"
             },
             "line": {
              "color": "white"
             }
            },
            "type": "table"
           }
          ]
         },
         "layout": {
          "annotationdefaults": {
           "arrowcolor": "#2a3f5f",
           "arrowhead": 0,
           "arrowwidth": 1
          },
          "autotypenumbers": "strict",
          "coloraxis": {
           "colorbar": {
            "outlinewidth": 0,
            "ticks": ""
           }
          },
          "colorscale": {
           "diverging": [
            [
             0,
             "#8e0152"
            ],
            [
             0.1,
             "#c51b7d"
            ],
            [
             0.2,
             "#de77ae"
            ],
            [
             0.3,
             "#f1b6da"
            ],
            [
             0.4,
             "#fde0ef"
            ],
            [
             0.5,
             "#f7f7f7"
            ],
            [
             0.6,
             "#e6f5d0"
            ],
            [
             0.7,
             "#b8e186"
            ],
            [
             0.8,
             "#7fbc41"
            ],
            [
             0.9,
             "#4d9221"
            ],
            [
             1,
             "#276419"
            ]
           ],
           "sequential": [
            [
             0,
             "#0d0887"
            ],
            [
             0.1111111111111111,
             "#46039f"
            ],
            [
             0.2222222222222222,
             "#7201a8"
            ],
            [
             0.3333333333333333,
             "#9c179e"
            ],
            [
             0.4444444444444444,
             "#bd3786"
            ],
            [
             0.5555555555555556,
             "#d8576b"
            ],
            [
             0.6666666666666666,
             "#ed7953"
            ],
            [
             0.7777777777777778,
             "#fb9f3a"
            ],
            [
             0.8888888888888888,
             "#fdca26"
            ],
            [
             1,
             "#f0f921"
            ]
           ],
           "sequentialminus": [
            [
             0,
             "#0d0887"
            ],
            [
             0.1111111111111111,
             "#46039f"
            ],
            [
             0.2222222222222222,
             "#7201a8"
            ],
            [
             0.3333333333333333,
             "#9c179e"
            ],
            [
             0.4444444444444444,
             "#bd3786"
            ],
            [
             0.5555555555555556,
             "#d8576b"
            ],
            [
             0.6666666666666666,
             "#ed7953"
            ],
            [
             0.7777777777777778,
             "#fb9f3a"
            ],
            [
             0.8888888888888888,
             "#fdca26"
            ],
            [
             1,
             "#f0f921"
            ]
           ]
          },
          "colorway": [
           "#636efa",
           "#EF553B",
           "#00cc96",
           "#ab63fa",
           "#FFA15A",
           "#19d3f3",
           "#FF6692",
           "#B6E880",
           "#FF97FF",
           "#FECB52"
          ],
          "font": {
           "color": "#2a3f5f"
          },
          "geo": {
           "bgcolor": "white",
           "lakecolor": "white",
           "landcolor": "white",
           "showlakes": true,
           "showland": true,
           "subunitcolor": "#C8D4E3"
          },
          "hoverlabel": {
           "align": "left"
          },
          "hovermode": "closest",
          "mapbox": {
           "style": "light"
          },
          "paper_bgcolor": "white",
          "plot_bgcolor": "white",
          "polar": {
           "angularaxis": {
            "gridcolor": "#EBF0F8",
            "linecolor": "#EBF0F8",
            "ticks": ""
           },
           "bgcolor": "white",
           "radialaxis": {
            "gridcolor": "#EBF0F8",
            "linecolor": "#EBF0F8",
            "ticks": ""
           }
          },
          "scene": {
           "xaxis": {
            "backgroundcolor": "white",
            "gridcolor": "#DFE8F3",
            "gridwidth": 2,
            "linecolor": "#EBF0F8",
            "showbackground": true,
            "ticks": "",
            "zerolinecolor": "#EBF0F8"
           },
           "yaxis": {
            "backgroundcolor": "white",
            "gridcolor": "#DFE8F3",
            "gridwidth": 2,
            "linecolor": "#EBF0F8",
            "showbackground": true,
            "ticks": "",
            "zerolinecolor": "#EBF0F8"
           },
           "zaxis": {
            "backgroundcolor": "white",
            "gridcolor": "#DFE8F3",
            "gridwidth": 2,
            "linecolor": "#EBF0F8",
            "showbackground": true,
            "ticks": "",
            "zerolinecolor": "#EBF0F8"
           }
          },
          "shapedefaults": {
           "line": {
            "color": "#2a3f5f"
           }
          },
          "ternary": {
           "aaxis": {
            "gridcolor": "#DFE8F3",
            "linecolor": "#A2B1C6",
            "ticks": ""
           },
           "baxis": {
            "gridcolor": "#DFE8F3",
            "linecolor": "#A2B1C6",
            "ticks": ""
           },
           "bgcolor": "white",
           "caxis": {
            "gridcolor": "#DFE8F3",
            "linecolor": "#A2B1C6",
            "ticks": ""
           }
          },
          "title": {
           "x": 0.05
          },
          "xaxis": {
           "automargin": true,
           "gridcolor": "#EBF0F8",
           "linecolor": "#EBF0F8",
           "ticks": "",
           "title": {
            "standoff": 15
           },
           "zerolinecolor": "#EBF0F8",
           "zerolinewidth": 2
          },
          "yaxis": {
           "automargin": true,
           "gridcolor": "#EBF0F8",
           "linecolor": "#EBF0F8",
           "ticks": "",
           "title": {
            "standoff": 15
           },
           "zerolinecolor": "#EBF0F8",
           "zerolinewidth": 2
          }
         }
        },
        "title": {
         "text": "Sentimento Médio Ponderado vs Volume por Tema"
        },
        "width": 700,
        "xaxis": {
         "anchor": "y",
         "domain": [
          0,
          1
         ],
         "title": {
          "text": "Volume de Comentários"
         }
        },
        "yaxis": {
         "anchor": "x",
         "domain": [
          0,
          1
         ],
         "range": [
          -1,
          1
         ],
         "title": {
          "text": "Sentimento Médio Ponderado"
         }
        }
       }
      }
     },
     "metadata": {},
     "output_type": "display_data"
    }
   ],
   "source": [
    "df_vivo = df_explodido[df_explodido[\"app\"] == \"Vivo\"]\n",
    "\n",
    "#Agrupamento por tema\n",
    "df_tema = df_vivo.groupby('tema_manual').agg(\n",
    "    volume=('tema_manual', 'count'),\n",
    "    sentimento_medio=('sentimento_continuo', 'mean')\n",
    ").reset_index()\n",
    "\n",
    "# Normaliza o volume para tamanho dos pontos no gráfico\n",
    "df_tema['tamanho'] = df_tema['volume'] * 20  # Ajuste conforme necessário\n",
    "\n",
    "fig = px.scatter(\n",
    "    df_tema,\n",
    "    x=\"volume\",\n",
    "    y=\"sentimento_medio\",\n",
    "    size=\"tamanho\",\n",
    "    color=\"sentimento_medio\",\n",
    "    text=\"tema_manual\",\n",
    "    color_continuous_scale=\"RdBu\",\n",
    "    range_y=[-1, 1],  # Limite do eixo Y entre -1 e +1\n",
    "    title=\"Sentimento Médio Ponderado vs Volume por Tema\"\n",
    ")\n",
    "\n",
    "# Ajustes visuais\n",
    "fig.update_traces(textposition='top center')\n",
    "fig.update_layout(\n",
    "    width=700,\n",
    "    height=700,\n",
    "    xaxis_title=\"Volume de Comentários\",\n",
    "    yaxis_title=\"Sentimento Médio Ponderado\",\n",
    "    coloraxis_colorbar=dict(title=\"Sentimento\"),\n",
    "    template=\"plotly_white\"\n",
    ")\n",
    "\n",
    "fig.show()"
   ]
  },
  {
   "cell_type": "markdown",
   "id": "c0534cab",
   "metadata": {},
   "source": [
    "# Próximas Etapas a serem feitas\n",
    "\n",
    "### Tratamentos\n",
    "- **OK** - Extração 10k comentários\n",
    "- **OK** - Apenas comentários de Android\n",
    "- **OK** - Data mínima e máxima dos comentários de cada app, estão coesas\n",
    "- **OK** - Ortográfia\n",
    "- **OK** - Emoji\n",
    "- **NOTOK** - Abreviações e gírias - Muito complicado para fazer\n",
    "\n",
    "### Análise Exploratória\n",
    "- **OK** - Data mínima e máxima dos comentários de cada app, estão coesas\n",
    "- **OK** - Sentimento Geral por versão\n",
    "- **OK** - Volume geral por versão do app\n",
    "- **OK** - Nota média dos comentários por versão\n",
    "- **NOTOK** - Ironia, classificou tudo como ironia\n",
    "- **OK** - Os sentimentos como neutros tem a classificação entre 0,3 e 1,0. Não teria como classficar em positivos ou negativos\n",
    "- **OK** - Separação de positivos e negativos fortes e fracos\n",
    "- **WIP** - Periodicidade dos comentários para realizar uma análise ao decorrer do tempo de sentimento\n",
    "\n",
    "### Análise Exploratória\n",
    "- **WIP** - classificar os temas gerais\n",
    "- **WIP** - classificar os temas de neutros\n",
    "- **WIP** - scatterplot vendo o volume de temas\n",
    "- **WIP** - mapa de wordcloud"
   ]
  }
 ],
 "metadata": {
  "kernelspec": {
   "display_name": "Python 3",
   "language": "python",
   "name": "python3"
  },
  "language_info": {
   "codemirror_mode": {
    "name": "ipython",
    "version": 3
   },
   "file_extension": ".py",
   "mimetype": "text/x-python",
   "name": "python",
   "nbconvert_exporter": "python",
   "pygments_lexer": "ipython3",
   "version": "3.10.0"
  }
 },
 "nbformat": 4,
 "nbformat_minor": 5
}
