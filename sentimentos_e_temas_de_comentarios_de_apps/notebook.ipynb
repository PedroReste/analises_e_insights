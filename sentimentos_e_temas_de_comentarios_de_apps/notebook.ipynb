{
 "cells": [
  {
   "cell_type": "markdown",
   "id": "a5ed314f",
   "metadata": {},
   "source": [
    "O PySentimiento é uma das bibliotecas mais interessantes atualmente para análise de sentimentos e emoções com suporte a vários idiomas, incluindo português.\n",
    "\n",
    "Ele foi criado sobre modelos BERT e RoBERTa já pré-treinados e afinados (fine-tuned) para tarefas de NLP social, como:\n",
    "✅ Análise de sentimentos\n",
    "✅ Análise de emoções\n",
    "✅ Detecção de ódio\n",
    "✅ Detecção de ironia\n",
    "\n",
    "| Recurso                | Descrição                              |\n",
    "| ---------------------- | -------------------------------------- |\n",
    "| **Idiomas suportados** | en, es, it, pt, fr, ca, eu, gl         |\n",
    "| **Tarefas**            | Sentiment, Emotion, Hate Speech, Irony |\n",
    "| **Base**               | Modelos BERT/RoBERTa fine-tuned        |\n",
    "| **Instalação**         | `pip install pysentimiento`            |\n"
   ]
  },
  {
   "cell_type": "code",
   "execution_count": 4,
   "id": "eaed7d80",
   "metadata": {},
   "outputs": [],
   "source": [
    "import pandas as pd\n",
    "\n",
    "import emoji\n",
    "from pysentimiento import create_analyzer\n",
    "\n",
    "from joblib import Parallel, delayed\n",
    "\n",
    "\n",
    "import spacy\n",
    "\n",
    "import vader\n",
    "import textblob\n",
    "\n",
    "import matplotlib.pyplot as plt\n",
    "import seaborn as sns\n",
    "import wordcloud\n",
    "import plotly.graph_objects as go"
   ]
  },
  {
   "cell_type": "code",
   "execution_count": 14,
   "id": "13f06883",
   "metadata": {},
   "outputs": [
    {
     "data": {
      "text/html": [
       "<div>\n",
       "<style scoped>\n",
       "    .dataframe tbody tr th:only-of-type {\n",
       "        vertical-align: middle;\n",
       "    }\n",
       "\n",
       "    .dataframe tbody tr th {\n",
       "        vertical-align: top;\n",
       "    }\n",
       "\n",
       "    .dataframe thead th {\n",
       "        text-align: right;\n",
       "    }\n",
       "</style>\n",
       "<table border=\"1\" class=\"dataframe\">\n",
       "  <thead>\n",
       "    <tr style=\"text-align: right;\">\n",
       "      <th></th>\n",
       "      <th>date</th>\n",
       "      <th>app_version</th>\n",
       "      <th>score</th>\n",
       "      <th>system</th>\n",
       "      <th>app</th>\n",
       "      <th>content</th>\n",
       "    </tr>\n",
       "  </thead>\n",
       "  <tbody>\n",
       "    <tr>\n",
       "      <th>0</th>\n",
       "      <td>2025-05-27 18:54:37</td>\n",
       "      <td>18.7.0</td>\n",
       "      <td>5</td>\n",
       "      <td>Android</td>\n",
       "      <td>Claro</td>\n",
       "      <td>legal 😎</td>\n",
       "    </tr>\n",
       "    <tr>\n",
       "      <th>1</th>\n",
       "      <td>2025-05-27 18:10:04</td>\n",
       "      <td>18.6.0</td>\n",
       "      <td>5</td>\n",
       "      <td>Android</td>\n",
       "      <td>Claro</td>\n",
       "      <td>Encontro facilidade por aqui 👏</td>\n",
       "    </tr>\n",
       "    <tr>\n",
       "      <th>2</th>\n",
       "      <td>2025-05-27 17:49:18</td>\n",
       "      <td>18.7.0</td>\n",
       "      <td>5</td>\n",
       "      <td>Android</td>\n",
       "      <td>Claro</td>\n",
       "      <td>muito bom</td>\n",
       "    </tr>\n",
       "    <tr>\n",
       "      <th>3</th>\n",
       "      <td>2025-05-27 17:46:20</td>\n",
       "      <td>NaN</td>\n",
       "      <td>1</td>\n",
       "      <td>Android</td>\n",
       "      <td>Claro</td>\n",
       "      <td>ruim que vc deseja não tem informações</td>\n",
       "    </tr>\n",
       "    <tr>\n",
       "      <th>4</th>\n",
       "      <td>2025-05-27 17:20:22</td>\n",
       "      <td>18.7.0</td>\n",
       "      <td>5</td>\n",
       "      <td>Android</td>\n",
       "      <td>Claro</td>\n",
       "      <td>melhor do mundo</td>\n",
       "    </tr>\n",
       "  </tbody>\n",
       "</table>\n",
       "</div>"
      ],
      "text/plain": [
       "                  date app_version  score   system    app  \\\n",
       "0  2025-05-27 18:54:37      18.7.0      5  Android  Claro   \n",
       "1  2025-05-27 18:10:04      18.6.0      5  Android  Claro   \n",
       "2  2025-05-27 17:49:18      18.7.0      5  Android  Claro   \n",
       "3  2025-05-27 17:46:20         NaN      1  Android  Claro   \n",
       "4  2025-05-27 17:20:22      18.7.0      5  Android  Claro   \n",
       "\n",
       "                                  content  \n",
       "0                                 legal 😎  \n",
       "1          Encontro facilidade por aqui 👏  \n",
       "2                               muito bom  \n",
       "3  ruim que vc deseja não tem informações  \n",
       "4                         melhor do mundo  "
      ]
     },
     "execution_count": 14,
     "metadata": {},
     "output_type": "execute_result"
    }
   ],
   "source": [
    "comentarios = pd.read_csv(\"comentarios.csv\")\n",
    "comentarios = comentarios[[\"date\", \"app_version\", \"score\", \"system\", \"app\", \"content\"]]\n",
    "comentarios.head()"
   ]
  },
  {
   "cell_type": "code",
   "execution_count": 16,
   "id": "ac87fd9d",
   "metadata": {},
   "outputs": [],
   "source": [
    "#Tenho 50k de comentários por app, mas vou usar apenas 5k\n",
    "comentarios_claro = comentarios[comentarios[\"app\"] == \"Claro\"][:5000]\n",
    "comentarios_tim = comentarios[comentarios[\"app\"] == \"TIM\"][:5000]\n",
    "comentarios_vivo = comentarios[comentarios[\"app\"] == \"Vivo\"][:5000]"
   ]
  },
  {
   "cell_type": "markdown",
   "id": "a53bc32e",
   "metadata": {},
   "source": [
    "**Processamento dos Emojis**"
   ]
  },
  {
   "cell_type": "code",
   "execution_count": 17,
   "id": "aaf2e000",
   "metadata": {},
   "outputs": [],
   "source": [
    "def remover_emojis(texto):\n",
    "    return emoji.demojize(texto, language='pt')\n",
    "\n",
    "comentarios_claro[\"comentario_sem_emoji\"] = comentarios_claro[\"content\"].apply(remover_emojis)\n",
    "comentarios_tim[\"comentario_sem_emoji\"] = comentarios_tim[\"content\"].apply(remover_emojis)\n",
    "comentarios_vivo[\"comentario_sem_emoji\"] = comentarios_vivo[\"content\"].apply(remover_emojis)\n"
   ]
  },
  {
   "cell_type": "markdown",
   "id": "59ad7702",
   "metadata": {},
   "source": [
    "|Tipo de Análise | Informativo |\n",
    "|----------------|-------------|\n",
    "| emotion        | aaaa        |\n",
    "| irony          | aaaa        |\n",
    "| hate_speech    | aaaa        |\n",
    "| sentiment      | aaaa        |"
   ]
  },
  {
   "cell_type": "markdown",
   "id": "c5cf1980",
   "metadata": {},
   "source": [
    "# Análise de Sentimento"
   ]
  },
  {
   "cell_type": "markdown",
   "id": "4aaeeed2",
   "metadata": {},
   "source": [
    "**pysentimiento**\n",
    "- Biblioteca que oferece modelos baseados em BERT, fine-tunados para emoções e sentimento em português.\n",
    "- Usa modelos robustos, prontos para uso.\n",
    "\n",
    "✅ Pontos positivos:\n",
    "Muito mais preciso.\n",
    "\n",
    "Entende contexto, ironia, gírias e até alguns emojis.\n",
    "\n",
    "Modelos modernos.\n",
    "\n",
    "❌ Pontos negativos:\n",
    "Mais pesado.\n",
    "\n",
    "Pode exigir mais tempo de execução.\n",
    "\n",
    "Não personalizável facilmente."
   ]
  },
  {
   "cell_type": "markdown",
   "id": "4c23d034",
   "metadata": {},
   "source": [
    "## Funções"
   ]
  },
  {
   "cell_type": "code",
   "execution_count": 56,
   "id": "fa76f326",
   "metadata": {},
   "outputs": [],
   "source": [
    "#Função para realizar todas as análises\n",
    "analyzers = {\n",
    "    \"irony\": create_analyzer(task=\"irony\", lang=\"pt\"),\n",
    "    \"hate_speech\": create_analyzer(task=\"hate_speech\", lang=\"pt\"),\n",
    "    \"sentiment\": create_analyzer(task=\"sentiment\", lang=\"pt\"),\n",
    "    \"emotion\": create_analyzer(task=\"emotion\", lang=\"pt\")\n",
    "}\n",
    "\n",
    "def analisar_sentimento_todos(texto, analyzers=analyzers):\n",
    "\n",
    "    if not isinstance(texto, str) or not texto.strip():\n",
    "        return pd.Series()\n",
    "\n",
    "    dados = {}\n",
    "\n",
    "    for tipo, analyzer in analyzers.items():\n",
    "        resultado = analyzer.predict(texto)\n",
    "\n",
    "        # Ajuste seguro do output\n",
    "        if isinstance(resultado.output, list):\n",
    "            saida = resultado.output[0] if resultado.output else None\n",
    "        else:\n",
    "            saida = resultado.output\n",
    "\n",
    "        dados[f\"{tipo}_output\"] = saida\n",
    "\n",
    "        for k, v in resultado.probas.items():\n",
    "            dados[f\"{tipo}_{k}\"] = v\n",
    "\n",
    "    return pd.Series(dados)\n"
   ]
  },
  {
   "cell_type": "code",
   "execution_count": 73,
   "id": "bc12b062",
   "metadata": {},
   "outputs": [],
   "source": [
    "#TESTE\n",
    "# Criando os analyzers\n",
    "analyzers = {\n",
    "    \"irony\": create_analyzer(task=\"irony\", lang=\"pt\"),\n",
    "    \"hate_speech\": create_analyzer(task=\"hate_speech\", lang=\"pt\"),\n",
    "    \"sentiment\": create_analyzer(task=\"sentiment\", lang=\"pt\"),\n",
    "    \"emotion\": create_analyzer(task=\"emotion\", lang=\"pt\")\n",
    "}\n",
    "\n",
    "# Grupos para emoções resumidas\n",
    "grupos_emocoes = {\n",
    "    \"alegria\": [\"admiration\", \"amusement\", \"approval\", \"excitement\",\n",
    "        \"gratitude\", \"joy\", \"love\", \"optimism\", \"pride\"],\n",
    "    \"tristeza\": [\"disappointment\", \"remorse\", \"sadness\"],\n",
    "    \"raiva\": [\"anger\", \"annoyance\", \"disapproval\", \"disgust\"],\n",
    "    \"medo\": [\"fear\", \"nervousness\", \"embarrassment\"],\n",
    "    \"surpresa\": [\"surprise\", \"realization\"],\n",
    "    \"confianca_interesse\": [\"curiosity\", \"desire\", \"caring\"],\n",
    "    \"confusao\": [\"confusion\"],\n",
    "    \"neutro\": [\"neutral\", None]\n",
    "}\n",
    "\n",
    "\n",
    "\n",
    "def analisar_sentimento_todos(texto, analyzers=analyzers):\n",
    "\n",
    "    if not isinstance(texto, str) or not texto.strip():\n",
    "        return pd.Series()\n",
    "\n",
    "    dados = {}\n",
    "\n",
    "    for tipo, analyzer in analyzers.items():\n",
    "        resultado = analyzer.predict(texto)\n",
    "\n",
    "        # Ajuste seguro do output\n",
    "        if isinstance(resultado.output, list):\n",
    "            saida = resultado.output[0] if resultado.output else None\n",
    "        else:\n",
    "            saida = resultado.output\n",
    "\n",
    "        dados[f\"{tipo}_output\"] = saida\n",
    "\n",
    "        if tipo == \"emotion\":\n",
    "            # Pós-processamento: agregando emoções\n",
    "            for grupo, emocoes in grupos_emocoes.items():\n",
    "                soma = sum(resultado.probas.get(e, 0) for e in emocoes)\n",
    "                dados[f\"{tipo}_{grupo}\"] = soma\n",
    "        else:\n",
    "            # Para outras tasks, mantém probas originais\n",
    "            for k, v in resultado.probas.items():\n",
    "                dados[f\"{tipo}_{k}\"] = v\n",
    "\n",
    "    return pd.Series(dados)\n"
   ]
  },
  {
   "cell_type": "code",
   "execution_count": 76,
   "id": "ca1b69bf",
   "metadata": {},
   "outputs": [],
   "source": [
    "analyzers = {\n",
    "    \"irony\": create_analyzer(task=\"irony\", lang=\"pt\"),\n",
    "    \"hate_speech\": create_analyzer(task=\"hate_speech\", lang=\"pt\"),\n",
    "    \"sentiment\": create_analyzer(task=\"sentiment\", lang=\"pt\"),\n",
    "    \"emotion\": create_analyzer(task=\"emotion\", lang=\"pt\")\n",
    "}\n",
    "\n",
    "# Grupos para emoções resumidas\n",
    "grupos_emocoes = {\n",
    "    \"alegria\": [\"admiration\", \"amusement\", \"approval\", \"excitement\",\n",
    "                \"gratitude\", \"joy\", \"love\", \"optimism\", \"pride\"],\n",
    "    \"tristeza\": [\"disappointment\", \"remorse\", \"sadness\"],\n",
    "    \"raiva\": [\"anger\", \"annoyance\", \"disapproval\", \"disgust\"],\n",
    "    \"medo\": [\"fear\", \"nervousness\", \"embarrassment\"],\n",
    "    \"surpresa\": [\"surprise\", \"realization\"],\n",
    "    \"confianca_interesse\": [\"curiosity\", \"desire\", \"caring\"],\n",
    "    \"confusao\": [\"confusion\"],\n",
    "    \"neutro\": [\"neutral\", None]\n",
    "}\n",
    "\n",
    "def analisar_sentimento_todos(texto, analyzers=analyzers):\n",
    "    if not isinstance(texto, str) or not texto.strip():\n",
    "        return pd.Series()\n",
    "\n",
    "    dados = {}\n",
    "\n",
    "    for tipo, analyzer in analyzers.items():\n",
    "        resultado = analyzer.predict(texto)\n",
    "\n",
    "        # Ajuste seguro do output\n",
    "        if isinstance(resultado.output, list):\n",
    "            saida = resultado.output[0] if resultado.output else None\n",
    "        else:\n",
    "            saida = resultado.output\n",
    "\n",
    "        # Para emoção, substituir output pela categoria agregada\n",
    "        if tipo == \"emotion\":\n",
    "            # Pós-processamento: agregando emoções\n",
    "            grupo_probs = {}\n",
    "            for grupo, emocoes in grupos_emocoes.items():\n",
    "                soma = sum(resultado.probas.get(e, 0) for e in emocoes)\n",
    "                dados[f\"{tipo}_{grupo}\"] = soma\n",
    "                grupo_probs[grupo] = soma\n",
    "            \n",
    "            # Encontrar o grupo com maior probabilidade\n",
    "            if grupo_probs:\n",
    "                grupo_principal = max(grupo_probs, key=grupo_probs.get)\n",
    "            else:\n",
    "                grupo_principal = None\n",
    "\n",
    "            dados[f\"{tipo}_output\"] = grupo_principal\n",
    "        else:\n",
    "            # Mantém output original\n",
    "            dados[f\"{tipo}_output\"] = saida\n",
    "            # Mantém probas originais\n",
    "            for k, v in resultado.probas.items():\n",
    "                dados[f\"{tipo}_{k}\"] = v\n",
    "\n",
    "    return pd.Series(dados)\n"
   ]
  },
  {
   "cell_type": "code",
   "execution_count": 7,
   "id": "61fc093f",
   "metadata": {},
   "outputs": [],
   "source": [
    "#Função para realizar apenas uma análise\n",
    "def analisar_sentimento(texto):\n",
    "    resultado = analyzer.predict(texto)\n",
    "\n",
    "    if resultado.output:\n",
    "        saida = resultado.output[0]\n",
    "    else:\n",
    "        saida = None\n",
    "\n",
    "    dados = {'output':  saida}\n",
    "\n",
    "    for emocao, prob in resultado.probas.items():\n",
    "        dados[emocao] = prob\n",
    "\n",
    "    return pd.Series(dados)"
   ]
  },
  {
   "cell_type": "markdown",
   "id": "645ebdbf",
   "metadata": {},
   "source": [
    "## Análises"
   ]
  },
  {
   "cell_type": "code",
   "execution_count": 77,
   "id": "ef44563f",
   "metadata": {},
   "outputs": [
    {
     "data": {
      "text/html": [
       "<div>\n",
       "<style scoped>\n",
       "    .dataframe tbody tr th:only-of-type {\n",
       "        vertical-align: middle;\n",
       "    }\n",
       "\n",
       "    .dataframe tbody tr th {\n",
       "        vertical-align: top;\n",
       "    }\n",
       "\n",
       "    .dataframe thead th {\n",
       "        text-align: right;\n",
       "    }\n",
       "</style>\n",
       "<table border=\"1\" class=\"dataframe\">\n",
       "  <thead>\n",
       "    <tr style=\"text-align: right;\">\n",
       "      <th></th>\n",
       "      <th>date</th>\n",
       "      <th>app_version</th>\n",
       "      <th>score</th>\n",
       "      <th>system</th>\n",
       "      <th>app</th>\n",
       "      <th>content</th>\n",
       "      <th>comentario_sem_emoji</th>\n",
       "      <th>irony_output</th>\n",
       "      <th>irony_not ironic</th>\n",
       "      <th>irony_ironic</th>\n",
       "      <th>...</th>\n",
       "      <th>sentiment_POS</th>\n",
       "      <th>emotion_alegria</th>\n",
       "      <th>emotion_tristeza</th>\n",
       "      <th>emotion_raiva</th>\n",
       "      <th>emotion_medo</th>\n",
       "      <th>emotion_surpresa</th>\n",
       "      <th>emotion_confianca_interesse</th>\n",
       "      <th>emotion_confusao</th>\n",
       "      <th>emotion_neutro</th>\n",
       "      <th>emotion_output</th>\n",
       "    </tr>\n",
       "  </thead>\n",
       "  <tbody>\n",
       "    <tr>\n",
       "      <th>0</th>\n",
       "      <td>2025-05-27 18:54:37</td>\n",
       "      <td>18.7.0</td>\n",
       "      <td>5</td>\n",
       "      <td>Android</td>\n",
       "      <td>Claro</td>\n",
       "      <td>legal 😎</td>\n",
       "      <td>legal :rosto_sorridente_com_óculos_escuros:</td>\n",
       "      <td>ironic</td>\n",
       "      <td>0.000037</td>\n",
       "      <td>0.999963</td>\n",
       "      <td>...</td>\n",
       "      <td>0.961111</td>\n",
       "      <td>1.283742</td>\n",
       "      <td>0.002332</td>\n",
       "      <td>0.002309</td>\n",
       "      <td>0.000413</td>\n",
       "      <td>0.002898</td>\n",
       "      <td>0.004247</td>\n",
       "      <td>0.000313</td>\n",
       "      <td>0.015898</td>\n",
       "      <td>alegria</td>\n",
       "    </tr>\n",
       "    <tr>\n",
       "      <th>1</th>\n",
       "      <td>2025-05-27 18:10:04</td>\n",
       "      <td>18.6.0</td>\n",
       "      <td>5</td>\n",
       "      <td>Android</td>\n",
       "      <td>Claro</td>\n",
       "      <td>Encontro facilidade por aqui 👏</td>\n",
       "      <td>Encontro facilidade por aqui :mãos_aplaudindo:</td>\n",
       "      <td>ironic</td>\n",
       "      <td>0.000038</td>\n",
       "      <td>0.999962</td>\n",
       "      <td>...</td>\n",
       "      <td>0.961130</td>\n",
       "      <td>0.148274</td>\n",
       "      <td>0.002687</td>\n",
       "      <td>0.005374</td>\n",
       "      <td>0.000407</td>\n",
       "      <td>0.008645</td>\n",
       "      <td>0.004322</td>\n",
       "      <td>0.000552</td>\n",
       "      <td>0.913299</td>\n",
       "      <td>neutro</td>\n",
       "    </tr>\n",
       "    <tr>\n",
       "      <th>2</th>\n",
       "      <td>2025-05-27 17:49:18</td>\n",
       "      <td>18.7.0</td>\n",
       "      <td>5</td>\n",
       "      <td>Android</td>\n",
       "      <td>Claro</td>\n",
       "      <td>muito bom</td>\n",
       "      <td>muito bom</td>\n",
       "      <td>ironic</td>\n",
       "      <td>0.000039</td>\n",
       "      <td>0.999961</td>\n",
       "      <td>...</td>\n",
       "      <td>0.993020</td>\n",
       "      <td>1.026943</td>\n",
       "      <td>0.001751</td>\n",
       "      <td>0.002410</td>\n",
       "      <td>0.000696</td>\n",
       "      <td>0.002040</td>\n",
       "      <td>0.002979</td>\n",
       "      <td>0.000661</td>\n",
       "      <td>0.006966</td>\n",
       "      <td>alegria</td>\n",
       "    </tr>\n",
       "    <tr>\n",
       "      <th>3</th>\n",
       "      <td>2025-05-27 17:46:20</td>\n",
       "      <td>NaN</td>\n",
       "      <td>1</td>\n",
       "      <td>Android</td>\n",
       "      <td>Claro</td>\n",
       "      <td>ruim que vc deseja não tem informações</td>\n",
       "      <td>ruim que vc deseja não tem informações</td>\n",
       "      <td>ironic</td>\n",
       "      <td>0.000037</td>\n",
       "      <td>0.999963</td>\n",
       "      <td>...</td>\n",
       "      <td>0.016130</td>\n",
       "      <td>0.010556</td>\n",
       "      <td>0.492551</td>\n",
       "      <td>0.410869</td>\n",
       "      <td>0.005484</td>\n",
       "      <td>0.004519</td>\n",
       "      <td>0.004077</td>\n",
       "      <td>0.004247</td>\n",
       "      <td>0.294686</td>\n",
       "      <td>tristeza</td>\n",
       "    </tr>\n",
       "    <tr>\n",
       "      <th>4</th>\n",
       "      <td>2025-05-27 17:20:22</td>\n",
       "      <td>18.7.0</td>\n",
       "      <td>5</td>\n",
       "      <td>Android</td>\n",
       "      <td>Claro</td>\n",
       "      <td>melhor do mundo</td>\n",
       "      <td>melhor do mundo</td>\n",
       "      <td>ironic</td>\n",
       "      <td>0.000038</td>\n",
       "      <td>0.999962</td>\n",
       "      <td>...</td>\n",
       "      <td>0.986870</td>\n",
       "      <td>1.035333</td>\n",
       "      <td>0.001484</td>\n",
       "      <td>0.003026</td>\n",
       "      <td>0.000532</td>\n",
       "      <td>0.001318</td>\n",
       "      <td>0.003655</td>\n",
       "      <td>0.000242</td>\n",
       "      <td>0.013483</td>\n",
       "      <td>alegria</td>\n",
       "    </tr>\n",
       "  </tbody>\n",
       "</table>\n",
       "<p>5 rows × 29 columns</p>\n",
       "</div>"
      ],
      "text/plain": [
       "                  date app_version  score   system    app  \\\n",
       "0  2025-05-27 18:54:37      18.7.0      5  Android  Claro   \n",
       "1  2025-05-27 18:10:04      18.6.0      5  Android  Claro   \n",
       "2  2025-05-27 17:49:18      18.7.0      5  Android  Claro   \n",
       "3  2025-05-27 17:46:20         NaN      1  Android  Claro   \n",
       "4  2025-05-27 17:20:22      18.7.0      5  Android  Claro   \n",
       "\n",
       "                                  content  \\\n",
       "0                                 legal 😎   \n",
       "1          Encontro facilidade por aqui 👏   \n",
       "2                               muito bom   \n",
       "3  ruim que vc deseja não tem informações   \n",
       "4                         melhor do mundo   \n",
       "\n",
       "                             comentario_sem_emoji irony_output  \\\n",
       "0     legal :rosto_sorridente_com_óculos_escuros:       ironic   \n",
       "1  Encontro facilidade por aqui :mãos_aplaudindo:       ironic   \n",
       "2                                       muito bom       ironic   \n",
       "3          ruim que vc deseja não tem informações       ironic   \n",
       "4                                 melhor do mundo       ironic   \n",
       "\n",
       "   irony_not ironic  irony_ironic  ... sentiment_POS  emotion_alegria  \\\n",
       "0          0.000037      0.999963  ...      0.961111         1.283742   \n",
       "1          0.000038      0.999962  ...      0.961130         0.148274   \n",
       "2          0.000039      0.999961  ...      0.993020         1.026943   \n",
       "3          0.000037      0.999963  ...      0.016130         0.010556   \n",
       "4          0.000038      0.999962  ...      0.986870         1.035333   \n",
       "\n",
       "   emotion_tristeza  emotion_raiva  emotion_medo  emotion_surpresa  \\\n",
       "0          0.002332       0.002309      0.000413          0.002898   \n",
       "1          0.002687       0.005374      0.000407          0.008645   \n",
       "2          0.001751       0.002410      0.000696          0.002040   \n",
       "3          0.492551       0.410869      0.005484          0.004519   \n",
       "4          0.001484       0.003026      0.000532          0.001318   \n",
       "\n",
       "  emotion_confianca_interesse  emotion_confusao  emotion_neutro  \\\n",
       "0                    0.004247          0.000313        0.015898   \n",
       "1                    0.004322          0.000552        0.913299   \n",
       "2                    0.002979          0.000661        0.006966   \n",
       "3                    0.004077          0.004247        0.294686   \n",
       "4                    0.003655          0.000242        0.013483   \n",
       "\n",
       "   emotion_output  \n",
       "0         alegria  \n",
       "1          neutro  \n",
       "2         alegria  \n",
       "3        tristeza  \n",
       "4         alegria  \n",
       "\n",
       "[5 rows x 29 columns]"
      ]
     },
     "execution_count": 77,
     "metadata": {},
     "output_type": "execute_result"
    }
   ],
   "source": [
    "resultados = comentarios_claro[\"comentario_sem_emoji\"].apply(analisar_sentimento_todos)\n",
    "df_claro2 = pd.concat([comentarios_claro, resultados], axis=1)\n",
    "df_claro2.head()\n"
   ]
  },
  {
   "cell_type": "code",
   "execution_count": 78,
   "id": "1516ffec",
   "metadata": {},
   "outputs": [
    {
     "data": {
      "text/html": [
       "<div>\n",
       "<style scoped>\n",
       "    .dataframe tbody tr th:only-of-type {\n",
       "        vertical-align: middle;\n",
       "    }\n",
       "\n",
       "    .dataframe tbody tr th {\n",
       "        vertical-align: top;\n",
       "    }\n",
       "\n",
       "    .dataframe thead th {\n",
       "        text-align: right;\n",
       "    }\n",
       "</style>\n",
       "<table border=\"1\" class=\"dataframe\">\n",
       "  <thead>\n",
       "    <tr style=\"text-align: right;\">\n",
       "      <th></th>\n",
       "      <th>date</th>\n",
       "      <th>app_version</th>\n",
       "      <th>score</th>\n",
       "      <th>system</th>\n",
       "      <th>app</th>\n",
       "      <th>content</th>\n",
       "      <th>comentario_sem_emoji</th>\n",
       "      <th>irony_output</th>\n",
       "      <th>irony_not ironic</th>\n",
       "      <th>irony_ironic</th>\n",
       "      <th>...</th>\n",
       "      <th>sentiment_POS</th>\n",
       "      <th>emotion_alegria</th>\n",
       "      <th>emotion_tristeza</th>\n",
       "      <th>emotion_raiva</th>\n",
       "      <th>emotion_medo</th>\n",
       "      <th>emotion_surpresa</th>\n",
       "      <th>emotion_confianca_interesse</th>\n",
       "      <th>emotion_confusao</th>\n",
       "      <th>emotion_neutro</th>\n",
       "      <th>emotion_output</th>\n",
       "    </tr>\n",
       "  </thead>\n",
       "  <tbody>\n",
       "    <tr>\n",
       "      <th>50000</th>\n",
       "      <td>2025-05-27 18:54:19</td>\n",
       "      <td>8.6.0</td>\n",
       "      <td>4</td>\n",
       "      <td>Android</td>\n",
       "      <td>TIM</td>\n",
       "      <td>boa</td>\n",
       "      <td>boa</td>\n",
       "      <td>ironic</td>\n",
       "      <td>0.000040</td>\n",
       "      <td>0.999960</td>\n",
       "      <td>...</td>\n",
       "      <td>0.327882</td>\n",
       "      <td>1.025841</td>\n",
       "      <td>0.001754</td>\n",
       "      <td>0.002995</td>\n",
       "      <td>0.000476</td>\n",
       "      <td>0.001520</td>\n",
       "      <td>0.005665</td>\n",
       "      <td>0.000402</td>\n",
       "      <td>0.029051</td>\n",
       "      <td>alegria</td>\n",
       "    </tr>\n",
       "    <tr>\n",
       "      <th>50001</th>\n",
       "      <td>2025-05-27 18:50:55</td>\n",
       "      <td>8.6.0</td>\n",
       "      <td>5</td>\n",
       "      <td>Android</td>\n",
       "      <td>TIM</td>\n",
       "      <td>ótimo</td>\n",
       "      <td>ótimo</td>\n",
       "      <td>ironic</td>\n",
       "      <td>0.000038</td>\n",
       "      <td>0.999962</td>\n",
       "      <td>...</td>\n",
       "      <td>0.987748</td>\n",
       "      <td>1.013204</td>\n",
       "      <td>0.001223</td>\n",
       "      <td>0.002282</td>\n",
       "      <td>0.000558</td>\n",
       "      <td>0.001696</td>\n",
       "      <td>0.002882</td>\n",
       "      <td>0.000630</td>\n",
       "      <td>0.009268</td>\n",
       "      <td>alegria</td>\n",
       "    </tr>\n",
       "    <tr>\n",
       "      <th>50002</th>\n",
       "      <td>2025-05-27 18:46:49</td>\n",
       "      <td>8.7.0</td>\n",
       "      <td>5</td>\n",
       "      <td>Android</td>\n",
       "      <td>TIM</td>\n",
       "      <td>precisa simplificar o site e o aplicativo, col...</td>\n",
       "      <td>precisa simplificar o site e o aplicativo, col...</td>\n",
       "      <td>ironic</td>\n",
       "      <td>0.000060</td>\n",
       "      <td>0.999939</td>\n",
       "      <td>...</td>\n",
       "      <td>0.062640</td>\n",
       "      <td>0.011865</td>\n",
       "      <td>0.001357</td>\n",
       "      <td>0.005398</td>\n",
       "      <td>0.000581</td>\n",
       "      <td>0.002849</td>\n",
       "      <td>0.006411</td>\n",
       "      <td>0.001522</td>\n",
       "      <td>0.991875</td>\n",
       "      <td>neutro</td>\n",
       "    </tr>\n",
       "    <tr>\n",
       "      <th>50003</th>\n",
       "      <td>2025-05-27 18:45:21</td>\n",
       "      <td>8.2.0</td>\n",
       "      <td>5</td>\n",
       "      <td>Android</td>\n",
       "      <td>TIM</td>\n",
       "      <td>Muito boa, parabéns!!</td>\n",
       "      <td>Muito boa, parabéns!!</td>\n",
       "      <td>ironic</td>\n",
       "      <td>0.000037</td>\n",
       "      <td>0.999963</td>\n",
       "      <td>...</td>\n",
       "      <td>0.990093</td>\n",
       "      <td>1.518033</td>\n",
       "      <td>0.001365</td>\n",
       "      <td>0.002874</td>\n",
       "      <td>0.000810</td>\n",
       "      <td>0.005114</td>\n",
       "      <td>0.005551</td>\n",
       "      <td>0.000825</td>\n",
       "      <td>0.007311</td>\n",
       "      <td>alegria</td>\n",
       "    </tr>\n",
       "    <tr>\n",
       "      <th>50004</th>\n",
       "      <td>2025-05-27 18:38:02</td>\n",
       "      <td>8.7.0</td>\n",
       "      <td>5</td>\n",
       "      <td>Android</td>\n",
       "      <td>TIM</td>\n",
       "      <td>Tudo okay</td>\n",
       "      <td>Tudo okay</td>\n",
       "      <td>ironic</td>\n",
       "      <td>0.000040</td>\n",
       "      <td>0.999960</td>\n",
       "      <td>...</td>\n",
       "      <td>0.175979</td>\n",
       "      <td>0.028290</td>\n",
       "      <td>0.001109</td>\n",
       "      <td>0.008622</td>\n",
       "      <td>0.000597</td>\n",
       "      <td>0.003663</td>\n",
       "      <td>0.003064</td>\n",
       "      <td>0.001390</td>\n",
       "      <td>0.990481</td>\n",
       "      <td>neutro</td>\n",
       "    </tr>\n",
       "  </tbody>\n",
       "</table>\n",
       "<p>5 rows × 29 columns</p>\n",
       "</div>"
      ],
      "text/plain": [
       "                      date app_version  score   system  app  \\\n",
       "50000  2025-05-27 18:54:19       8.6.0      4  Android  TIM   \n",
       "50001  2025-05-27 18:50:55       8.6.0      5  Android  TIM   \n",
       "50002  2025-05-27 18:46:49       8.7.0      5  Android  TIM   \n",
       "50003  2025-05-27 18:45:21       8.2.0      5  Android  TIM   \n",
       "50004  2025-05-27 18:38:02       8.7.0      5  Android  TIM   \n",
       "\n",
       "                                                 content  \\\n",
       "50000                                                boa   \n",
       "50001                                              ótimo   \n",
       "50002  precisa simplificar o site e o aplicativo, col...   \n",
       "50003                              Muito boa, parabéns!!   \n",
       "50004                                          Tudo okay   \n",
       "\n",
       "                                    comentario_sem_emoji irony_output  \\\n",
       "50000                                                boa       ironic   \n",
       "50001                                              ótimo       ironic   \n",
       "50002  precisa simplificar o site e o aplicativo, col...       ironic   \n",
       "50003                              Muito boa, parabéns!!       ironic   \n",
       "50004                                          Tudo okay       ironic   \n",
       "\n",
       "       irony_not ironic  irony_ironic  ... sentiment_POS  emotion_alegria  \\\n",
       "50000          0.000040      0.999960  ...      0.327882         1.025841   \n",
       "50001          0.000038      0.999962  ...      0.987748         1.013204   \n",
       "50002          0.000060      0.999939  ...      0.062640         0.011865   \n",
       "50003          0.000037      0.999963  ...      0.990093         1.518033   \n",
       "50004          0.000040      0.999960  ...      0.175979         0.028290   \n",
       "\n",
       "       emotion_tristeza  emotion_raiva  emotion_medo  emotion_surpresa  \\\n",
       "50000          0.001754       0.002995      0.000476          0.001520   \n",
       "50001          0.001223       0.002282      0.000558          0.001696   \n",
       "50002          0.001357       0.005398      0.000581          0.002849   \n",
       "50003          0.001365       0.002874      0.000810          0.005114   \n",
       "50004          0.001109       0.008622      0.000597          0.003663   \n",
       "\n",
       "      emotion_confianca_interesse  emotion_confusao  emotion_neutro  \\\n",
       "50000                    0.005665          0.000402        0.029051   \n",
       "50001                    0.002882          0.000630        0.009268   \n",
       "50002                    0.006411          0.001522        0.991875   \n",
       "50003                    0.005551          0.000825        0.007311   \n",
       "50004                    0.003064          0.001390        0.990481   \n",
       "\n",
       "       emotion_output  \n",
       "50000         alegria  \n",
       "50001         alegria  \n",
       "50002          neutro  \n",
       "50003         alegria  \n",
       "50004          neutro  \n",
       "\n",
       "[5 rows x 29 columns]"
      ]
     },
     "execution_count": 78,
     "metadata": {},
     "output_type": "execute_result"
    }
   ],
   "source": [
    "resultados = comentarios_tim[\"comentario_sem_emoji\"].apply(analisar_sentimento_todos)\n",
    "df_tim2 = pd.concat([comentarios_tim, resultados], axis=1)\n",
    "df_tim2.head()"
   ]
  },
  {
   "cell_type": "code",
   "execution_count": 79,
   "id": "8092c3c7",
   "metadata": {},
   "outputs": [
    {
     "data": {
      "text/html": [
       "<div>\n",
       "<style scoped>\n",
       "    .dataframe tbody tr th:only-of-type {\n",
       "        vertical-align: middle;\n",
       "    }\n",
       "\n",
       "    .dataframe tbody tr th {\n",
       "        vertical-align: top;\n",
       "    }\n",
       "\n",
       "    .dataframe thead th {\n",
       "        text-align: right;\n",
       "    }\n",
       "</style>\n",
       "<table border=\"1\" class=\"dataframe\">\n",
       "  <thead>\n",
       "    <tr style=\"text-align: right;\">\n",
       "      <th></th>\n",
       "      <th>date</th>\n",
       "      <th>app_version</th>\n",
       "      <th>score</th>\n",
       "      <th>system</th>\n",
       "      <th>app</th>\n",
       "      <th>content</th>\n",
       "      <th>comentario_sem_emoji</th>\n",
       "      <th>irony_output</th>\n",
       "      <th>irony_not ironic</th>\n",
       "      <th>irony_ironic</th>\n",
       "      <th>...</th>\n",
       "      <th>sentiment_POS</th>\n",
       "      <th>emotion_alegria</th>\n",
       "      <th>emotion_tristeza</th>\n",
       "      <th>emotion_raiva</th>\n",
       "      <th>emotion_medo</th>\n",
       "      <th>emotion_surpresa</th>\n",
       "      <th>emotion_confianca_interesse</th>\n",
       "      <th>emotion_confusao</th>\n",
       "      <th>emotion_neutro</th>\n",
       "      <th>emotion_output</th>\n",
       "    </tr>\n",
       "  </thead>\n",
       "  <tbody>\n",
       "    <tr>\n",
       "      <th>100000</th>\n",
       "      <td>2025-05-27 18:54:39</td>\n",
       "      <td>25.5.23</td>\n",
       "      <td>5</td>\n",
       "      <td>Android</td>\n",
       "      <td>Vivo</td>\n",
       "      <td>boa</td>\n",
       "      <td>boa</td>\n",
       "      <td>ironic</td>\n",
       "      <td>0.000040</td>\n",
       "      <td>0.999960</td>\n",
       "      <td>...</td>\n",
       "      <td>0.327882</td>\n",
       "      <td>1.025841</td>\n",
       "      <td>0.001754</td>\n",
       "      <td>0.002995</td>\n",
       "      <td>0.000476</td>\n",
       "      <td>0.001520</td>\n",
       "      <td>0.005665</td>\n",
       "      <td>0.000402</td>\n",
       "      <td>0.029051</td>\n",
       "      <td>alegria</td>\n",
       "    </tr>\n",
       "    <tr>\n",
       "      <th>100001</th>\n",
       "      <td>2025-05-27 18:54:34</td>\n",
       "      <td>25.5.23</td>\n",
       "      <td>5</td>\n",
       "      <td>Android</td>\n",
       "      <td>Vivo</td>\n",
       "      <td>0Timo App</td>\n",
       "      <td>0Timo App</td>\n",
       "      <td>ironic</td>\n",
       "      <td>0.000039</td>\n",
       "      <td>0.999961</td>\n",
       "      <td>...</td>\n",
       "      <td>0.065411</td>\n",
       "      <td>0.009420</td>\n",
       "      <td>0.001996</td>\n",
       "      <td>0.008734</td>\n",
       "      <td>0.000631</td>\n",
       "      <td>0.002603</td>\n",
       "      <td>0.003127</td>\n",
       "      <td>0.001214</td>\n",
       "      <td>0.992873</td>\n",
       "      <td>neutro</td>\n",
       "    </tr>\n",
       "    <tr>\n",
       "      <th>100002</th>\n",
       "      <td>2025-05-27 18:49:40</td>\n",
       "      <td>NaN</td>\n",
       "      <td>5</td>\n",
       "      <td>Android</td>\n",
       "      <td>Vivo</td>\n",
       "      <td>maravilha</td>\n",
       "      <td>maravilha</td>\n",
       "      <td>ironic</td>\n",
       "      <td>0.000039</td>\n",
       "      <td>0.999961</td>\n",
       "      <td>...</td>\n",
       "      <td>0.990637</td>\n",
       "      <td>1.084059</td>\n",
       "      <td>0.001656</td>\n",
       "      <td>0.008191</td>\n",
       "      <td>0.004347</td>\n",
       "      <td>0.183161</td>\n",
       "      <td>0.010515</td>\n",
       "      <td>0.001666</td>\n",
       "      <td>0.018717</td>\n",
       "      <td>alegria</td>\n",
       "    </tr>\n",
       "    <tr>\n",
       "      <th>100003</th>\n",
       "      <td>2025-05-27 18:46:14</td>\n",
       "      <td>25.5.23</td>\n",
       "      <td>5</td>\n",
       "      <td>Android</td>\n",
       "      <td>Vivo</td>\n",
       "      <td>ótima</td>\n",
       "      <td>ótima</td>\n",
       "      <td>ironic</td>\n",
       "      <td>0.000039</td>\n",
       "      <td>0.999961</td>\n",
       "      <td>...</td>\n",
       "      <td>0.991625</td>\n",
       "      <td>1.013267</td>\n",
       "      <td>0.001185</td>\n",
       "      <td>0.002276</td>\n",
       "      <td>0.000554</td>\n",
       "      <td>0.001840</td>\n",
       "      <td>0.002836</td>\n",
       "      <td>0.000611</td>\n",
       "      <td>0.009068</td>\n",
       "      <td>alegria</td>\n",
       "    </tr>\n",
       "    <tr>\n",
       "      <th>100004</th>\n",
       "      <td>2025-05-27 18:44:38</td>\n",
       "      <td>25.5.23</td>\n",
       "      <td>5</td>\n",
       "      <td>Android</td>\n",
       "      <td>Vivo</td>\n",
       "      <td>Muito dinâmico o aplicativo.</td>\n",
       "      <td>Muito dinâmico o aplicativo.</td>\n",
       "      <td>ironic</td>\n",
       "      <td>0.000037</td>\n",
       "      <td>0.999963</td>\n",
       "      <td>...</td>\n",
       "      <td>0.986226</td>\n",
       "      <td>0.287255</td>\n",
       "      <td>0.001303</td>\n",
       "      <td>0.005000</td>\n",
       "      <td>0.000865</td>\n",
       "      <td>0.007250</td>\n",
       "      <td>0.009570</td>\n",
       "      <td>0.004661</td>\n",
       "      <td>0.751270</td>\n",
       "      <td>neutro</td>\n",
       "    </tr>\n",
       "  </tbody>\n",
       "</table>\n",
       "<p>5 rows × 29 columns</p>\n",
       "</div>"
      ],
      "text/plain": [
       "                       date app_version  score   system   app  \\\n",
       "100000  2025-05-27 18:54:39     25.5.23      5  Android  Vivo   \n",
       "100001  2025-05-27 18:54:34     25.5.23      5  Android  Vivo   \n",
       "100002  2025-05-27 18:49:40         NaN      5  Android  Vivo   \n",
       "100003  2025-05-27 18:46:14     25.5.23      5  Android  Vivo   \n",
       "100004  2025-05-27 18:44:38     25.5.23      5  Android  Vivo   \n",
       "\n",
       "                             content          comentario_sem_emoji  \\\n",
       "100000                           boa                           boa   \n",
       "100001                     0Timo App                     0Timo App   \n",
       "100002                     maravilha                     maravilha   \n",
       "100003                         ótima                         ótima   \n",
       "100004  Muito dinâmico o aplicativo.  Muito dinâmico o aplicativo.   \n",
       "\n",
       "       irony_output  irony_not ironic  irony_ironic  ... sentiment_POS  \\\n",
       "100000       ironic          0.000040      0.999960  ...      0.327882   \n",
       "100001       ironic          0.000039      0.999961  ...      0.065411   \n",
       "100002       ironic          0.000039      0.999961  ...      0.990637   \n",
       "100003       ironic          0.000039      0.999961  ...      0.991625   \n",
       "100004       ironic          0.000037      0.999963  ...      0.986226   \n",
       "\n",
       "        emotion_alegria  emotion_tristeza  emotion_raiva  emotion_medo  \\\n",
       "100000         1.025841          0.001754       0.002995      0.000476   \n",
       "100001         0.009420          0.001996       0.008734      0.000631   \n",
       "100002         1.084059          0.001656       0.008191      0.004347   \n",
       "100003         1.013267          0.001185       0.002276      0.000554   \n",
       "100004         0.287255          0.001303       0.005000      0.000865   \n",
       "\n",
       "        emotion_surpresa emotion_confianca_interesse  emotion_confusao  \\\n",
       "100000          0.001520                    0.005665          0.000402   \n",
       "100001          0.002603                    0.003127          0.001214   \n",
       "100002          0.183161                    0.010515          0.001666   \n",
       "100003          0.001840                    0.002836          0.000611   \n",
       "100004          0.007250                    0.009570          0.004661   \n",
       "\n",
       "        emotion_neutro  emotion_output  \n",
       "100000        0.029051         alegria  \n",
       "100001        0.992873          neutro  \n",
       "100002        0.018717         alegria  \n",
       "100003        0.009068         alegria  \n",
       "100004        0.751270          neutro  \n",
       "\n",
       "[5 rows x 29 columns]"
      ]
     },
     "execution_count": 79,
     "metadata": {},
     "output_type": "execute_result"
    }
   ],
   "source": [
    "resultados = comentarios_vivo[\"comentario_sem_emoji\"].apply(analisar_sentimento_todos)\n",
    "df_vivo2 = pd.concat([comentarios_vivo, resultados], axis=1)\n",
    "df_vivo2.head()"
   ]
  },
  {
   "cell_type": "code",
   "execution_count": 80,
   "id": "df95cdad",
   "metadata": {},
   "outputs": [],
   "source": [
    "df_claro2.to_csv(\"df_claro2.csv\")\n",
    "df_tim2.to_csv(\"df_tim2.csv\")\n",
    "df_vivo2.to_csv(\"df_vivo2.csv\")"
   ]
  },
  {
   "cell_type": "markdown",
   "id": "bfb0dfcf",
   "metadata": {},
   "source": [
    "trust, disgust, anger, surprise, fear, anteciption, joy, sadness"
   ]
  },
  {
   "cell_type": "code",
   "execution_count": 81,
   "id": "331aeecd",
   "metadata": {},
   "outputs": [
    {
     "data": {
      "text/html": [
       "<div>\n",
       "<style scoped>\n",
       "    .dataframe tbody tr th:only-of-type {\n",
       "        vertical-align: middle;\n",
       "    }\n",
       "\n",
       "    .dataframe tbody tr th {\n",
       "        vertical-align: top;\n",
       "    }\n",
       "\n",
       "    .dataframe thead th {\n",
       "        text-align: right;\n",
       "    }\n",
       "</style>\n",
       "<table border=\"1\" class=\"dataframe\">\n",
       "  <thead>\n",
       "    <tr style=\"text-align: right;\">\n",
       "      <th></th>\n",
       "      <th></th>\n",
       "      <th>emotion_output</th>\n",
       "    </tr>\n",
       "    <tr>\n",
       "      <th>sentiment_output</th>\n",
       "      <th>emotion_output</th>\n",
       "      <th></th>\n",
       "    </tr>\n",
       "  </thead>\n",
       "  <tbody>\n",
       "    <tr>\n",
       "      <th rowspan=\"24\" valign=\"top\">NEG</th>\n",
       "      <th>admiration</th>\n",
       "      <td>46</td>\n",
       "    </tr>\n",
       "    <tr>\n",
       "      <th>amusement</th>\n",
       "      <td>24</td>\n",
       "    </tr>\n",
       "    <tr>\n",
       "      <th>anger</th>\n",
       "      <td>61</td>\n",
       "    </tr>\n",
       "    <tr>\n",
       "      <th>annoyance</th>\n",
       "      <td>386</td>\n",
       "    </tr>\n",
       "    <tr>\n",
       "      <th>approval</th>\n",
       "      <td>12</td>\n",
       "    </tr>\n",
       "    <tr>\n",
       "      <th>caring</th>\n",
       "      <td>2</td>\n",
       "    </tr>\n",
       "    <tr>\n",
       "      <th>confusion</th>\n",
       "      <td>55</td>\n",
       "    </tr>\n",
       "    <tr>\n",
       "      <th>curiosity</th>\n",
       "      <td>57</td>\n",
       "    </tr>\n",
       "    <tr>\n",
       "      <th>desire</th>\n",
       "      <td>16</td>\n",
       "    </tr>\n",
       "    <tr>\n",
       "      <th>disappointment</th>\n",
       "      <td>408</td>\n",
       "    </tr>\n",
       "    <tr>\n",
       "      <th>disapproval</th>\n",
       "      <td>181</td>\n",
       "    </tr>\n",
       "    <tr>\n",
       "      <th>disgust</th>\n",
       "      <td>346</td>\n",
       "    </tr>\n",
       "    <tr>\n",
       "      <th>embarrassment</th>\n",
       "      <td>15</td>\n",
       "    </tr>\n",
       "    <tr>\n",
       "      <th>fear</th>\n",
       "      <td>69</td>\n",
       "    </tr>\n",
       "    <tr>\n",
       "      <th>gratitude</th>\n",
       "      <td>18</td>\n",
       "    </tr>\n",
       "    <tr>\n",
       "      <th>joy</th>\n",
       "      <td>2</td>\n",
       "    </tr>\n",
       "    <tr>\n",
       "      <th>love</th>\n",
       "      <td>4</td>\n",
       "    </tr>\n",
       "    <tr>\n",
       "      <th>nervousness</th>\n",
       "      <td>3</td>\n",
       "    </tr>\n",
       "    <tr>\n",
       "      <th>neutral</th>\n",
       "      <td>557</td>\n",
       "    </tr>\n",
       "    <tr>\n",
       "      <th>optimism</th>\n",
       "      <td>13</td>\n",
       "    </tr>\n",
       "    <tr>\n",
       "      <th>realization</th>\n",
       "      <td>4</td>\n",
       "    </tr>\n",
       "    <tr>\n",
       "      <th>remorse</th>\n",
       "      <td>17</td>\n",
       "    </tr>\n",
       "    <tr>\n",
       "      <th>sadness</th>\n",
       "      <td>13</td>\n",
       "    </tr>\n",
       "    <tr>\n",
       "      <th>surprise</th>\n",
       "      <td>5</td>\n",
       "    </tr>\n",
       "    <tr>\n",
       "      <th rowspan=\"19\" valign=\"top\">NEU</th>\n",
       "      <th>admiration</th>\n",
       "      <td>211</td>\n",
       "    </tr>\n",
       "    <tr>\n",
       "      <th>amusement</th>\n",
       "      <td>5</td>\n",
       "    </tr>\n",
       "    <tr>\n",
       "      <th>anger</th>\n",
       "      <td>1</td>\n",
       "    </tr>\n",
       "    <tr>\n",
       "      <th>annoyance</th>\n",
       "      <td>4</td>\n",
       "    </tr>\n",
       "    <tr>\n",
       "      <th>approval</th>\n",
       "      <td>50</td>\n",
       "    </tr>\n",
       "    <tr>\n",
       "      <th>caring</th>\n",
       "      <td>2</td>\n",
       "    </tr>\n",
       "    <tr>\n",
       "      <th>confusion</th>\n",
       "      <td>9</td>\n",
       "    </tr>\n",
       "    <tr>\n",
       "      <th>curiosity</th>\n",
       "      <td>21</td>\n",
       "    </tr>\n",
       "    <tr>\n",
       "      <th>desire</th>\n",
       "      <td>20</td>\n",
       "    </tr>\n",
       "    <tr>\n",
       "      <th>disappointment</th>\n",
       "      <td>25</td>\n",
       "    </tr>\n",
       "    <tr>\n",
       "      <th>disapproval</th>\n",
       "      <td>21</td>\n",
       "    </tr>\n",
       "    <tr>\n",
       "      <th>gratitude</th>\n",
       "      <td>19</td>\n",
       "    </tr>\n",
       "    <tr>\n",
       "      <th>joy</th>\n",
       "      <td>3</td>\n",
       "    </tr>\n",
       "    <tr>\n",
       "      <th>neutral</th>\n",
       "      <td>346</td>\n",
       "    </tr>\n",
       "    <tr>\n",
       "      <th>optimism</th>\n",
       "      <td>15</td>\n",
       "    </tr>\n",
       "    <tr>\n",
       "      <th>realization</th>\n",
       "      <td>1</td>\n",
       "    </tr>\n",
       "    <tr>\n",
       "      <th>remorse</th>\n",
       "      <td>1</td>\n",
       "    </tr>\n",
       "    <tr>\n",
       "      <th>sadness</th>\n",
       "      <td>2</td>\n",
       "    </tr>\n",
       "    <tr>\n",
       "      <th>surprise</th>\n",
       "      <td>2</td>\n",
       "    </tr>\n",
       "    <tr>\n",
       "      <th rowspan=\"17\" valign=\"top\">POS</th>\n",
       "      <th>admiration</th>\n",
       "      <td>1120</td>\n",
       "    </tr>\n",
       "    <tr>\n",
       "      <th>amusement</th>\n",
       "      <td>2</td>\n",
       "    </tr>\n",
       "    <tr>\n",
       "      <th>annoyance</th>\n",
       "      <td>1</td>\n",
       "    </tr>\n",
       "    <tr>\n",
       "      <th>approval</th>\n",
       "      <td>43</td>\n",
       "    </tr>\n",
       "    <tr>\n",
       "      <th>caring</th>\n",
       "      <td>3</td>\n",
       "    </tr>\n",
       "    <tr>\n",
       "      <th>confusion</th>\n",
       "      <td>1</td>\n",
       "    </tr>\n",
       "    <tr>\n",
       "      <th>desire</th>\n",
       "      <td>2</td>\n",
       "    </tr>\n",
       "    <tr>\n",
       "      <th>disappointment</th>\n",
       "      <td>3</td>\n",
       "    </tr>\n",
       "    <tr>\n",
       "      <th>disapproval</th>\n",
       "      <td>2</td>\n",
       "    </tr>\n",
       "    <tr>\n",
       "      <th>excitement</th>\n",
       "      <td>2</td>\n",
       "    </tr>\n",
       "    <tr>\n",
       "      <th>gratitude</th>\n",
       "      <td>42</td>\n",
       "    </tr>\n",
       "    <tr>\n",
       "      <th>joy</th>\n",
       "      <td>35</td>\n",
       "    </tr>\n",
       "    <tr>\n",
       "      <th>love</th>\n",
       "      <td>48</td>\n",
       "    </tr>\n",
       "    <tr>\n",
       "      <th>neutral</th>\n",
       "      <td>105</td>\n",
       "    </tr>\n",
       "    <tr>\n",
       "      <th>optimism</th>\n",
       "      <td>44</td>\n",
       "    </tr>\n",
       "    <tr>\n",
       "      <th>pride</th>\n",
       "      <td>1</td>\n",
       "    </tr>\n",
       "    <tr>\n",
       "      <th>sadness</th>\n",
       "      <td>1</td>\n",
       "    </tr>\n",
       "  </tbody>\n",
       "</table>\n",
       "</div>"
      ],
      "text/plain": [
       "                                 emotion_output\n",
       "sentiment_output emotion_output                \n",
       "NEG              admiration                  46\n",
       "                 amusement                   24\n",
       "                 anger                       61\n",
       "                 annoyance                  386\n",
       "                 approval                    12\n",
       "                 caring                       2\n",
       "                 confusion                   55\n",
       "                 curiosity                   57\n",
       "                 desire                      16\n",
       "                 disappointment             408\n",
       "                 disapproval                181\n",
       "                 disgust                    346\n",
       "                 embarrassment               15\n",
       "                 fear                        69\n",
       "                 gratitude                   18\n",
       "                 joy                          2\n",
       "                 love                         4\n",
       "                 nervousness                  3\n",
       "                 neutral                    557\n",
       "                 optimism                    13\n",
       "                 realization                  4\n",
       "                 remorse                     17\n",
       "                 sadness                     13\n",
       "                 surprise                     5\n",
       "NEU              admiration                 211\n",
       "                 amusement                    5\n",
       "                 anger                        1\n",
       "                 annoyance                    4\n",
       "                 approval                    50\n",
       "                 caring                       2\n",
       "                 confusion                    9\n",
       "                 curiosity                   21\n",
       "                 desire                      20\n",
       "                 disappointment              25\n",
       "                 disapproval                 21\n",
       "                 gratitude                   19\n",
       "                 joy                          3\n",
       "                 neutral                    346\n",
       "                 optimism                    15\n",
       "                 realization                  1\n",
       "                 remorse                      1\n",
       "                 sadness                      2\n",
       "                 surprise                     2\n",
       "POS              admiration                1120\n",
       "                 amusement                    2\n",
       "                 annoyance                    1\n",
       "                 approval                    43\n",
       "                 caring                       3\n",
       "                 confusion                    1\n",
       "                 desire                       2\n",
       "                 disappointment               3\n",
       "                 disapproval                  2\n",
       "                 excitement                   2\n",
       "                 gratitude                   42\n",
       "                 joy                         35\n",
       "                 love                        48\n",
       "                 neutral                    105\n",
       "                 optimism                    44\n",
       "                 pride                        1\n",
       "                 sadness                      1"
      ]
     },
     "execution_count": 81,
     "metadata": {},
     "output_type": "execute_result"
    }
   ],
   "source": [
    "df_tim.groupby(['sentiment_output','emotion_output']).agg({'emotion_output':'count'})"
   ]
  },
  {
   "cell_type": "code",
   "execution_count": 82,
   "id": "3b7970a1",
   "metadata": {},
   "outputs": [
    {
     "data": {
      "text/html": [
       "<div>\n",
       "<style scoped>\n",
       "    .dataframe tbody tr th:only-of-type {\n",
       "        vertical-align: middle;\n",
       "    }\n",
       "\n",
       "    .dataframe tbody tr th {\n",
       "        vertical-align: top;\n",
       "    }\n",
       "\n",
       "    .dataframe thead th {\n",
       "        text-align: right;\n",
       "    }\n",
       "</style>\n",
       "<table border=\"1\" class=\"dataframe\">\n",
       "  <thead>\n",
       "    <tr style=\"text-align: right;\">\n",
       "      <th></th>\n",
       "      <th></th>\n",
       "      <th>emotion_output</th>\n",
       "    </tr>\n",
       "    <tr>\n",
       "      <th>sentiment_output</th>\n",
       "      <th>emotion_output</th>\n",
       "      <th></th>\n",
       "    </tr>\n",
       "  </thead>\n",
       "  <tbody>\n",
       "    <tr>\n",
       "      <th rowspan=\"8\" valign=\"top\">NEG</th>\n",
       "      <th>alegria</th>\n",
       "      <td>134</td>\n",
       "    </tr>\n",
       "    <tr>\n",
       "      <th>confianca_interesse</th>\n",
       "      <td>85</td>\n",
       "    </tr>\n",
       "    <tr>\n",
       "      <th>confusao</th>\n",
       "      <td>53</td>\n",
       "    </tr>\n",
       "    <tr>\n",
       "      <th>medo</th>\n",
       "      <td>99</td>\n",
       "    </tr>\n",
       "    <tr>\n",
       "      <th>neutro</th>\n",
       "      <td>607</td>\n",
       "    </tr>\n",
       "    <tr>\n",
       "      <th>raiva</th>\n",
       "      <td>1241</td>\n",
       "    </tr>\n",
       "    <tr>\n",
       "      <th>surpresa</th>\n",
       "      <td>14</td>\n",
       "    </tr>\n",
       "    <tr>\n",
       "      <th>tristeza</th>\n",
       "      <td>472</td>\n",
       "    </tr>\n",
       "    <tr>\n",
       "      <th rowspan=\"7\" valign=\"top\">NEU</th>\n",
       "      <th>alegria</th>\n",
       "      <td>310</td>\n",
       "    </tr>\n",
       "    <tr>\n",
       "      <th>confianca_interesse</th>\n",
       "      <td>53</td>\n",
       "    </tr>\n",
       "    <tr>\n",
       "      <th>confusao</th>\n",
       "      <td>9</td>\n",
       "    </tr>\n",
       "    <tr>\n",
       "      <th>neutro</th>\n",
       "      <td>360</td>\n",
       "    </tr>\n",
       "    <tr>\n",
       "      <th>raiva</th>\n",
       "      <td>41</td>\n",
       "    </tr>\n",
       "    <tr>\n",
       "      <th>surpresa</th>\n",
       "      <td>5</td>\n",
       "    </tr>\n",
       "    <tr>\n",
       "      <th>tristeza</th>\n",
       "      <td>33</td>\n",
       "    </tr>\n",
       "    <tr>\n",
       "      <th rowspan=\"6\" valign=\"top\">POS</th>\n",
       "      <th>alegria</th>\n",
       "      <td>1360</td>\n",
       "    </tr>\n",
       "    <tr>\n",
       "      <th>confianca_interesse</th>\n",
       "      <td>5</td>\n",
       "    </tr>\n",
       "    <tr>\n",
       "      <th>confusao</th>\n",
       "      <td>1</td>\n",
       "    </tr>\n",
       "    <tr>\n",
       "      <th>neutro</th>\n",
       "      <td>109</td>\n",
       "    </tr>\n",
       "    <tr>\n",
       "      <th>raiva</th>\n",
       "      <td>4</td>\n",
       "    </tr>\n",
       "    <tr>\n",
       "      <th>tristeza</th>\n",
       "      <td>5</td>\n",
       "    </tr>\n",
       "  </tbody>\n",
       "</table>\n",
       "</div>"
      ],
      "text/plain": [
       "                                      emotion_output\n",
       "sentiment_output emotion_output                     \n",
       "NEG              alegria                         134\n",
       "                 confianca_interesse              85\n",
       "                 confusao                         53\n",
       "                 medo                             99\n",
       "                 neutro                          607\n",
       "                 raiva                          1241\n",
       "                 surpresa                         14\n",
       "                 tristeza                        472\n",
       "NEU              alegria                         310\n",
       "                 confianca_interesse              53\n",
       "                 confusao                          9\n",
       "                 neutro                          360\n",
       "                 raiva                            41\n",
       "                 surpresa                          5\n",
       "                 tristeza                         33\n",
       "POS              alegria                        1360\n",
       "                 confianca_interesse               5\n",
       "                 confusao                          1\n",
       "                 neutro                          109\n",
       "                 raiva                             4\n",
       "                 tristeza                          5"
      ]
     },
     "execution_count": 82,
     "metadata": {},
     "output_type": "execute_result"
    }
   ],
   "source": [
    "df_tim2.groupby(['sentiment_output','emotion_output']).agg({'emotion_output':'count'})"
   ]
  },
  {
   "cell_type": "markdown",
   "id": "46efa968",
   "metadata": {},
   "source": [
    "GRÁFICO HORRÍVELMENTE CHATO DE FAZER"
   ]
  },
  {
   "cell_type": "code",
   "execution_count": null,
   "id": "963f3e5f",
   "metadata": {},
   "outputs": [
    {
     "data": {
      "application/vnd.plotly.v1+json": {
       "config": {
        "plotlyServerURL": "https://plot.ly"
       },
       "data": [
        {
         "link": {
          "source": [
           0,
           1,
           2,
           3,
           4,
           5,
           6,
           7,
           8,
           9,
           10,
           0,
           3,
           8,
           10,
           11,
           9,
           12
          ],
          "target": [
           13,
           13,
           13,
           13,
           13,
           13,
           13,
           13,
           13,
           13,
           13,
           14,
           14,
           14,
           14,
           14,
           14,
           14
          ],
          "value": [
           11,
           1,
           1,
           2,
           1,
           2,
           4,
           5,
           1,
           11,
           1,
           45,
           2,
           1,
           1,
           1,
           5,
           1
          ]
         },
         "node": {
          "label": [
           "Admiration",
           "Anger",
           "Annoyance",
           "Approval",
           "CaringDesire",
           "Disappointment",
           "Disapproval",
           "Gratitude",
           "Neutro",
           "Remorse",
           "Joy",
           "Love",
           "Optimism",
           "Neutro",
           "Positive"
          ],
          "line": {
           "color": "black",
           "width": 0.5
          },
          "pad": 15,
          "thickness": 20
         },
         "type": "sankey"
        }
       ],
       "layout": {
        "font": {
         "size": 10
        },
        "template": {
         "data": {
          "bar": [
           {
            "error_x": {
             "color": "#2a3f5f"
            },
            "error_y": {
             "color": "#2a3f5f"
            },
            "marker": {
             "line": {
              "color": "#E5ECF6",
              "width": 0.5
             },
             "pattern": {
              "fillmode": "overlay",
              "size": 10,
              "solidity": 0.2
             }
            },
            "type": "bar"
           }
          ],
          "barpolar": [
           {
            "marker": {
             "line": {
              "color": "#E5ECF6",
              "width": 0.5
             },
             "pattern": {
              "fillmode": "overlay",
              "size": 10,
              "solidity": 0.2
             }
            },
            "type": "barpolar"
           }
          ],
          "carpet": [
           {
            "aaxis": {
             "endlinecolor": "#2a3f5f",
             "gridcolor": "white",
             "linecolor": "white",
             "minorgridcolor": "white",
             "startlinecolor": "#2a3f5f"
            },
            "baxis": {
             "endlinecolor": "#2a3f5f",
             "gridcolor": "white",
             "linecolor": "white",
             "minorgridcolor": "white",
             "startlinecolor": "#2a3f5f"
            },
            "type": "carpet"
           }
          ],
          "choropleth": [
           {
            "colorbar": {
             "outlinewidth": 0,
             "ticks": ""
            },
            "type": "choropleth"
           }
          ],
          "contour": [
           {
            "colorbar": {
             "outlinewidth": 0,
             "ticks": ""
            },
            "colorscale": [
             [
              0,
              "#0d0887"
             ],
             [
              0.1111111111111111,
              "#46039f"
             ],
             [
              0.2222222222222222,
              "#7201a8"
             ],
             [
              0.3333333333333333,
              "#9c179e"
             ],
             [
              0.4444444444444444,
              "#bd3786"
             ],
             [
              0.5555555555555556,
              "#d8576b"
             ],
             [
              0.6666666666666666,
              "#ed7953"
             ],
             [
              0.7777777777777778,
              "#fb9f3a"
             ],
             [
              0.8888888888888888,
              "#fdca26"
             ],
             [
              1,
              "#f0f921"
             ]
            ],
            "type": "contour"
           }
          ],
          "contourcarpet": [
           {
            "colorbar": {
             "outlinewidth": 0,
             "ticks": ""
            },
            "type": "contourcarpet"
           }
          ],
          "heatmap": [
           {
            "colorbar": {
             "outlinewidth": 0,
             "ticks": ""
            },
            "colorscale": [
             [
              0,
              "#0d0887"
             ],
             [
              0.1111111111111111,
              "#46039f"
             ],
             [
              0.2222222222222222,
              "#7201a8"
             ],
             [
              0.3333333333333333,
              "#9c179e"
             ],
             [
              0.4444444444444444,
              "#bd3786"
             ],
             [
              0.5555555555555556,
              "#d8576b"
             ],
             [
              0.6666666666666666,
              "#ed7953"
             ],
             [
              0.7777777777777778,
              "#fb9f3a"
             ],
             [
              0.8888888888888888,
              "#fdca26"
             ],
             [
              1,
              "#f0f921"
             ]
            ],
            "type": "heatmap"
           }
          ],
          "histogram": [
           {
            "marker": {
             "pattern": {
              "fillmode": "overlay",
              "size": 10,
              "solidity": 0.2
             }
            },
            "type": "histogram"
           }
          ],
          "histogram2d": [
           {
            "colorbar": {
             "outlinewidth": 0,
             "ticks": ""
            },
            "colorscale": [
             [
              0,
              "#0d0887"
             ],
             [
              0.1111111111111111,
              "#46039f"
             ],
             [
              0.2222222222222222,
              "#7201a8"
             ],
             [
              0.3333333333333333,
              "#9c179e"
             ],
             [
              0.4444444444444444,
              "#bd3786"
             ],
             [
              0.5555555555555556,
              "#d8576b"
             ],
             [
              0.6666666666666666,
              "#ed7953"
             ],
             [
              0.7777777777777778,
              "#fb9f3a"
             ],
             [
              0.8888888888888888,
              "#fdca26"
             ],
             [
              1,
              "#f0f921"
             ]
            ],
            "type": "histogram2d"
           }
          ],
          "histogram2dcontour": [
           {
            "colorbar": {
             "outlinewidth": 0,
             "ticks": ""
            },
            "colorscale": [
             [
              0,
              "#0d0887"
             ],
             [
              0.1111111111111111,
              "#46039f"
             ],
             [
              0.2222222222222222,
              "#7201a8"
             ],
             [
              0.3333333333333333,
              "#9c179e"
             ],
             [
              0.4444444444444444,
              "#bd3786"
             ],
             [
              0.5555555555555556,
              "#d8576b"
             ],
             [
              0.6666666666666666,
              "#ed7953"
             ],
             [
              0.7777777777777778,
              "#fb9f3a"
             ],
             [
              0.8888888888888888,
              "#fdca26"
             ],
             [
              1,
              "#f0f921"
             ]
            ],
            "type": "histogram2dcontour"
           }
          ],
          "mesh3d": [
           {
            "colorbar": {
             "outlinewidth": 0,
             "ticks": ""
            },
            "type": "mesh3d"
           }
          ],
          "parcoords": [
           {
            "line": {
             "colorbar": {
              "outlinewidth": 0,
              "ticks": ""
             }
            },
            "type": "parcoords"
           }
          ],
          "pie": [
           {
            "automargin": true,
            "type": "pie"
           }
          ],
          "scatter": [
           {
            "fillpattern": {
             "fillmode": "overlay",
             "size": 10,
             "solidity": 0.2
            },
            "type": "scatter"
           }
          ],
          "scatter3d": [
           {
            "line": {
             "colorbar": {
              "outlinewidth": 0,
              "ticks": ""
             }
            },
            "marker": {
             "colorbar": {
              "outlinewidth": 0,
              "ticks": ""
             }
            },
            "type": "scatter3d"
           }
          ],
          "scattercarpet": [
           {
            "marker": {
             "colorbar": {
              "outlinewidth": 0,
              "ticks": ""
             }
            },
            "type": "scattercarpet"
           }
          ],
          "scattergeo": [
           {
            "marker": {
             "colorbar": {
              "outlinewidth": 0,
              "ticks": ""
             }
            },
            "type": "scattergeo"
           }
          ],
          "scattergl": [
           {
            "marker": {
             "colorbar": {
              "outlinewidth": 0,
              "ticks": ""
             }
            },
            "type": "scattergl"
           }
          ],
          "scattermap": [
           {
            "marker": {
             "colorbar": {
              "outlinewidth": 0,
              "ticks": ""
             }
            },
            "type": "scattermap"
           }
          ],
          "scattermapbox": [
           {
            "marker": {
             "colorbar": {
              "outlinewidth": 0,
              "ticks": ""
             }
            },
            "type": "scattermapbox"
           }
          ],
          "scatterpolar": [
           {
            "marker": {
             "colorbar": {
              "outlinewidth": 0,
              "ticks": ""
             }
            },
            "type": "scatterpolar"
           }
          ],
          "scatterpolargl": [
           {
            "marker": {
             "colorbar": {
              "outlinewidth": 0,
              "ticks": ""
             }
            },
            "type": "scatterpolargl"
           }
          ],
          "scatterternary": [
           {
            "marker": {
             "colorbar": {
              "outlinewidth": 0,
              "ticks": ""
             }
            },
            "type": "scatterternary"
           }
          ],
          "surface": [
           {
            "colorbar": {
             "outlinewidth": 0,
             "ticks": ""
            },
            "colorscale": [
             [
              0,
              "#0d0887"
             ],
             [
              0.1111111111111111,
              "#46039f"
             ],
             [
              0.2222222222222222,
              "#7201a8"
             ],
             [
              0.3333333333333333,
              "#9c179e"
             ],
             [
              0.4444444444444444,
              "#bd3786"
             ],
             [
              0.5555555555555556,
              "#d8576b"
             ],
             [
              0.6666666666666666,
              "#ed7953"
             ],
             [
              0.7777777777777778,
              "#fb9f3a"
             ],
             [
              0.8888888888888888,
              "#fdca26"
             ],
             [
              1,
              "#f0f921"
             ]
            ],
            "type": "surface"
           }
          ],
          "table": [
           {
            "cells": {
             "fill": {
              "color": "#EBF0F8"
             },
             "line": {
              "color": "white"
             }
            },
            "header": {
             "fill": {
              "color": "#C8D4E3"
             },
             "line": {
              "color": "white"
             }
            },
            "type": "table"
           }
          ]
         },
         "layout": {
          "annotationdefaults": {
           "arrowcolor": "#2a3f5f",
           "arrowhead": 0,
           "arrowwidth": 1
          },
          "autotypenumbers": "strict",
          "coloraxis": {
           "colorbar": {
            "outlinewidth": 0,
            "ticks": ""
           }
          },
          "colorscale": {
           "diverging": [
            [
             0,
             "#8e0152"
            ],
            [
             0.1,
             "#c51b7d"
            ],
            [
             0.2,
             "#de77ae"
            ],
            [
             0.3,
             "#f1b6da"
            ],
            [
             0.4,
             "#fde0ef"
            ],
            [
             0.5,
             "#f7f7f7"
            ],
            [
             0.6,
             "#e6f5d0"
            ],
            [
             0.7,
             "#b8e186"
            ],
            [
             0.8,
             "#7fbc41"
            ],
            [
             0.9,
             "#4d9221"
            ],
            [
             1,
             "#276419"
            ]
           ],
           "sequential": [
            [
             0,
             "#0d0887"
            ],
            [
             0.1111111111111111,
             "#46039f"
            ],
            [
             0.2222222222222222,
             "#7201a8"
            ],
            [
             0.3333333333333333,
             "#9c179e"
            ],
            [
             0.4444444444444444,
             "#bd3786"
            ],
            [
             0.5555555555555556,
             "#d8576b"
            ],
            [
             0.6666666666666666,
             "#ed7953"
            ],
            [
             0.7777777777777778,
             "#fb9f3a"
            ],
            [
             0.8888888888888888,
             "#fdca26"
            ],
            [
             1,
             "#f0f921"
            ]
           ],
           "sequentialminus": [
            [
             0,
             "#0d0887"
            ],
            [
             0.1111111111111111,
             "#46039f"
            ],
            [
             0.2222222222222222,
             "#7201a8"
            ],
            [
             0.3333333333333333,
             "#9c179e"
            ],
            [
             0.4444444444444444,
             "#bd3786"
            ],
            [
             0.5555555555555556,
             "#d8576b"
            ],
            [
             0.6666666666666666,
             "#ed7953"
            ],
            [
             0.7777777777777778,
             "#fb9f3a"
            ],
            [
             0.8888888888888888,
             "#fdca26"
            ],
            [
             1,
             "#f0f921"
            ]
           ]
          },
          "colorway": [
           "#636efa",
           "#EF553B",
           "#00cc96",
           "#ab63fa",
           "#FFA15A",
           "#19d3f3",
           "#FF6692",
           "#B6E880",
           "#FF97FF",
           "#FECB52"
          ],
          "font": {
           "color": "#2a3f5f"
          },
          "geo": {
           "bgcolor": "white",
           "lakecolor": "white",
           "landcolor": "#E5ECF6",
           "showlakes": true,
           "showland": true,
           "subunitcolor": "white"
          },
          "hoverlabel": {
           "align": "left"
          },
          "hovermode": "closest",
          "mapbox": {
           "style": "light"
          },
          "paper_bgcolor": "white",
          "plot_bgcolor": "#E5ECF6",
          "polar": {
           "angularaxis": {
            "gridcolor": "white",
            "linecolor": "white",
            "ticks": ""
           },
           "bgcolor": "#E5ECF6",
           "radialaxis": {
            "gridcolor": "white",
            "linecolor": "white",
            "ticks": ""
           }
          },
          "scene": {
           "xaxis": {
            "backgroundcolor": "#E5ECF6",
            "gridcolor": "white",
            "gridwidth": 2,
            "linecolor": "white",
            "showbackground": true,
            "ticks": "",
            "zerolinecolor": "white"
           },
           "yaxis": {
            "backgroundcolor": "#E5ECF6",
            "gridcolor": "white",
            "gridwidth": 2,
            "linecolor": "white",
            "showbackground": true,
            "ticks": "",
            "zerolinecolor": "white"
           },
           "zaxis": {
            "backgroundcolor": "#E5ECF6",
            "gridcolor": "white",
            "gridwidth": 2,
            "linecolor": "white",
            "showbackground": true,
            "ticks": "",
            "zerolinecolor": "white"
           }
          },
          "shapedefaults": {
           "line": {
            "color": "#2a3f5f"
           }
          },
          "ternary": {
           "aaxis": {
            "gridcolor": "white",
            "linecolor": "white",
            "ticks": ""
           },
           "baxis": {
            "gridcolor": "white",
            "linecolor": "white",
            "ticks": ""
           },
           "bgcolor": "#E5ECF6",
           "caxis": {
            "gridcolor": "white",
            "linecolor": "white",
            "ticks": ""
           }
          },
          "title": {
           "x": 0.05
          },
          "xaxis": {
           "automargin": true,
           "gridcolor": "white",
           "linecolor": "white",
           "ticks": "",
           "title": {
            "standoff": 15
           },
           "zerolinecolor": "white",
           "zerolinewidth": 2
          },
          "yaxis": {
           "automargin": true,
           "gridcolor": "white",
           "linecolor": "white",
           "ticks": "",
           "title": {
            "standoff": 15
           },
           "zerolinecolor": "white",
           "zerolinewidth": 2
          }
         }
        },
        "title": {
         "text": "Sankey: Emoções para Sentimentos Diversos"
        }
       }
      }
     },
     "metadata": {},
     "output_type": "display_data"
    }
   ],
   "source": [
    "# Labels: nós do Sankey\n",
    "labels = ['Admiration', 'Anger', 'Annoyance', 'Approval', 'Caring'\n",
    "          'Desire', 'Disappointment', 'Disapproval', 'Gratitude', 'Neutro',\n",
    "          'Remorse', 'Joy', 'Love', 'Optimism',\n",
    "          'Neutro', 'Positive']\n",
    "\n",
    "# Fonte (emoções) - índices\n",
    "source = [0, 1, 2, 3, 4, 5, 6, 7, 8, 9, 10, # Destino para Neutro\n",
    "          0, 3, 8, 10, 11, 9, 12]  # Destino para Positivo\n",
    "\n",
    "# Destino (sentimentos) - índices\n",
    "target = [13, 13, 13, 13, 13, 13, 13, 13, 13, 13, 13, # Destino para Neutro\n",
    "          14, 14, 14, 14, 14, 14, 14]  # Destino para Positivo\n",
    "\n",
    "# Valores dos fluxos\n",
    "value = [11, 1, 1, 2, 1, 2, 4, 5, 1, 11, 1, # Destino para Neutro\n",
    "         45, 2, 1, 1, 1, 5, 1] # Destino para Positivo\n",
    "\n",
    "# Criar Sankey\n",
    "fig = go.Figure(data=[go.Sankey(\n",
    "    node=dict(\n",
    "      pad=15,\n",
    "      thickness=20,\n",
    "      line=dict(color=\"black\", width=0.5),\n",
    "      label=labels\n",
    "    ),\n",
    "    link=dict(\n",
    "      source=source,\n",
    "      target=target,\n",
    "      value=value\n",
    "  ))])\n",
    "\n",
    "fig.update_layout(title_text=\"Sankey: Emoções para Sentimentos Diversos\", font_size=10)\n",
    "fig.show()"
   ]
  },
  {
   "cell_type": "code",
   "execution_count": null,
   "id": "87b33882",
   "metadata": {},
   "outputs": [
    {
     "data": {
      "image/png": "[encoded data removed]",
      "text/plain": [
       "<Figure size 1800x500 with 1 Axes>"
      ]
     },
     "metadata": {},
     "output_type": "display_data"
    }
   ],
   "source": [
    "grafico = df_resultado[df_resultado[\"app\"] == \"Claro\"]\n",
    "grafico = grafico[\"output\"].value_counts().sort_index()\n",
    "\n",
    "sns.set_style(\"darkgrid\")\n",
    "fig, axes = plt.subplots(figsize=(18, 5))\n",
    "\n",
    "_ = sns.barplot(grafico)\n",
    "_ = plt.title(\"Vivo Sentimento\", loc=\"left\")\n",
    "_ = plt.xlabel(\"\")\n",
    "_ = plt.ylabel(\"\")"
   ]
  },
  {
   "cell_type": "code",
   "execution_count": 62,
   "id": "08d35f14",
   "metadata": {},
   "outputs": [
    {
     "data": {
      "image/png": "[encoded data removed]",
      "text/plain": [
       "<Figure size 600x600 with 1 Axes>"
      ]
     },
     "metadata": {},
     "output_type": "display_data"
    }
   ],
   "source": [
    "import numpy as np\n",
    "import pandas as pd\n",
    "import matplotlib.pyplot as plt\n",
    "import seaborn as sns\n",
    "\n",
    "# Exemplo de dados: emoções e seus scores\n",
    "data = {\n",
    "    'emoções': ['alegria', 'tristeza', 'raiva', 'surpresa', 'medo', 'desprezo'],\n",
    "    'score': [0.8, 0.1, 0.05, 0.3, 0.2, 0.05]\n",
    "}\n",
    "\n",
    "df = pd.DataFrame(data)\n",
    "\n",
    "# Número de variáveis\n",
    "categories = list(df['emoções'])\n",
    "N = len(categories)\n",
    "\n",
    "# Repetir o primeiro valor para fechar o gráfico\n",
    "values = df['score'].tolist()\n",
    "values += values[:1]\n",
    "\n",
    "# Ângulos para cada eixo\n",
    "angles = [n / float(N) * 2 * np.pi for n in range(N)]\n",
    "angles += angles[:1]\n",
    "\n",
    "# Estilo Seaborn\n",
    "sns.set(style=\"whitegrid\")\n",
    "\n",
    "# Inicializa o radar\n",
    "fig, ax = plt.subplots(figsize=(6, 6), subplot_kw=dict(polar=True))\n",
    "\n",
    "# Desenha a linha\n",
    "ax.plot(angles, values, linewidth=2, linestyle='solid', color='b')\n",
    "ax.fill(angles, values, 'b', alpha=0.25)\n",
    "\n",
    "# Ajuste dos rótulos\n",
    "ax.set_xticks(angles[:-1])\n",
    "ax.set_xticklabels(categories, fontsize=12)\n",
    "\n",
    "# Título\n",
    "plt.title('Exemplo de Gráfico Spider', size=15, y=1.1)\n",
    "\n",
    "plt.show()\n"
   ]
  },
  {
   "cell_type": "code",
   "execution_count": 63,
   "id": "26963faf",
   "metadata": {},
   "outputs": [
    {
     "data": {
      "application/vnd.plotly.v1+json": {
       "config": {
        "plotlyServerURL": "https://plot.ly"
       },
       "data": [
        {
         "fill": "toself",
         "r": [
          0.8,
          0.1,
          0.05,
          0.3,
          0.2,
          0.8
         ],
         "theta": [
          "alegria",
          "tristeza",
          "raiva",
          "surpresa",
          "medo",
          "alegria"
         ],
         "type": "scatterpolar"
        }
       ],
       "layout": {
        "polar": {
         "radialaxis": {
          "visible": true
         }
        },
        "showlegend": false,
        "template": {
         "data": {
          "bar": [
           {
            "error_x": {
             "color": "#2a3f5f"
            },
            "error_y": {
             "color": "#2a3f5f"
            },
            "marker": {
             "line": {
              "color": "#E5ECF6",
              "width": 0.5
             },
             "pattern": {
              "fillmode": "overlay",
              "size": 10,
              "solidity": 0.2
             }
            },
            "type": "bar"
           }
          ],
          "barpolar": [
           {
            "marker": {
             "line": {
              "color": "#E5ECF6",
              "width": 0.5
             },
             "pattern": {
              "fillmode": "overlay",
              "size": 10,
              "solidity": 0.2
             }
            },
            "type": "barpolar"
           }
          ],
          "carpet": [
           {
            "aaxis": {
             "endlinecolor": "#2a3f5f",
             "gridcolor": "white",
             "linecolor": "white",
             "minorgridcolor": "white",
             "startlinecolor": "#2a3f5f"
            },
            "baxis": {
             "endlinecolor": "#2a3f5f",
             "gridcolor": "white",
             "linecolor": "white",
             "minorgridcolor": "white",
             "startlinecolor": "#2a3f5f"
            },
            "type": "carpet"
           }
          ],
          "choropleth": [
           {
            "colorbar": {
             "outlinewidth": 0,
             "ticks": ""
            },
            "type": "choropleth"
           }
          ],
          "contour": [
           {
            "colorbar": {
             "outlinewidth": 0,
             "ticks": ""
            },
            "colorscale": [
             [
              0,
              "#0d0887"
             ],
             [
              0.1111111111111111,
              "#46039f"
             ],
             [
              0.2222222222222222,
              "#7201a8"
             ],
             [
              0.3333333333333333,
              "#9c179e"
             ],
             [
              0.4444444444444444,
              "#bd3786"
             ],
             [
              0.5555555555555556,
              "#d8576b"
             ],
             [
              0.6666666666666666,
              "#ed7953"
             ],
             [
              0.7777777777777778,
              "#fb9f3a"
             ],
             [
              0.8888888888888888,
              "#fdca26"
             ],
             [
              1,
              "#f0f921"
             ]
            ],
            "type": "contour"
           }
          ],
          "contourcarpet": [
           {
            "colorbar": {
             "outlinewidth": 0,
             "ticks": ""
            },
            "type": "contourcarpet"
           }
          ],
          "heatmap": [
           {
            "colorbar": {
             "outlinewidth": 0,
             "ticks": ""
            },
            "colorscale": [
             [
              0,
              "#0d0887"
             ],
             [
              0.1111111111111111,
              "#46039f"
             ],
             [
              0.2222222222222222,
              "#7201a8"
             ],
             [
              0.3333333333333333,
              "#9c179e"
             ],
             [
              0.4444444444444444,
              "#bd3786"
             ],
             [
              0.5555555555555556,
              "#d8576b"
             ],
             [
              0.6666666666666666,
              "#ed7953"
             ],
             [
              0.7777777777777778,
              "#fb9f3a"
             ],
             [
              0.8888888888888888,
              "#fdca26"
             ],
             [
              1,
              "#f0f921"
             ]
            ],
            "type": "heatmap"
           }
          ],
          "histogram": [
           {
            "marker": {
             "pattern": {
              "fillmode": "overlay",
              "size": 10,
              "solidity": 0.2
             }
            },
            "type": "histogram"
           }
          ],
          "histogram2d": [
           {
            "colorbar": {
             "outlinewidth": 0,
             "ticks": ""
            },
            "colorscale": [
             [
              0,
              "#0d0887"
             ],
             [
              0.1111111111111111,
              "#46039f"
             ],
             [
              0.2222222222222222,
              "#7201a8"
             ],
             [
              0.3333333333333333,
              "#9c179e"
             ],
             [
              0.4444444444444444,
              "#bd3786"
             ],
             [
              0.5555555555555556,
              "#d8576b"
             ],
             [
              0.6666666666666666,
              "#ed7953"
             ],
             [
              0.7777777777777778,
              "#fb9f3a"
             ],
             [
              0.8888888888888888,
              "#fdca26"
             ],
             [
              1,
              "#f0f921"
             ]
            ],
            "type": "histogram2d"
           }
          ],
          "histogram2dcontour": [
           {
            "colorbar": {
             "outlinewidth": 0,
             "ticks": ""
            },
            "colorscale": [
             [
              0,
              "#0d0887"
             ],
             [
              0.1111111111111111,
              "#46039f"
             ],
             [
              0.2222222222222222,
              "#7201a8"
             ],
             [
              0.3333333333333333,
              "#9c179e"
             ],
             [
              0.4444444444444444,
              "#bd3786"
             ],
             [
              0.5555555555555556,
              "#d8576b"
             ],
             [
              0.6666666666666666,
              "#ed7953"
             ],
             [
              0.7777777777777778,
              "#fb9f3a"
             ],
             [
              0.8888888888888888,
              "#fdca26"
             ],
             [
              1,
              "#f0f921"
             ]
            ],
            "type": "histogram2dcontour"
           }
          ],
          "mesh3d": [
           {
            "colorbar": {
             "outlinewidth": 0,
             "ticks": ""
            },
            "type": "mesh3d"
           }
          ],
          "parcoords": [
           {
            "line": {
             "colorbar": {
              "outlinewidth": 0,
              "ticks": ""
             }
            },
            "type": "parcoords"
           }
          ],
          "pie": [
           {
            "automargin": true,
            "type": "pie"
           }
          ],
          "scatter": [
           {
            "fillpattern": {
             "fillmode": "overlay",
             "size": 10,
             "solidity": 0.2
            },
            "type": "scatter"
           }
          ],
          "scatter3d": [
           {
            "line": {
             "colorbar": {
              "outlinewidth": 0,
              "ticks": ""
             }
            },
            "marker": {
             "colorbar": {
              "outlinewidth": 0,
              "ticks": ""
             }
            },
            "type": "scatter3d"
           }
          ],
          "scattercarpet": [
           {
            "marker": {
             "colorbar": {
              "outlinewidth": 0,
              "ticks": ""
             }
            },
            "type": "scattercarpet"
           }
          ],
          "scattergeo": [
           {
            "marker": {
             "colorbar": {
              "outlinewidth": 0,
              "ticks": ""
             }
            },
            "type": "scattergeo"
           }
          ],
          "scattergl": [
           {
            "marker": {
             "colorbar": {
              "outlinewidth": 0,
              "ticks": ""
             }
            },
            "type": "scattergl"
           }
          ],
          "scattermap": [
           {
            "marker": {
             "colorbar": {
              "outlinewidth": 0,
              "ticks": ""
             }
            },
            "type": "scattermap"
           }
          ],
          "scattermapbox": [
           {
            "marker": {
             "colorbar": {
              "outlinewidth": 0,
              "ticks": ""
             }
            },
            "type": "scattermapbox"
           }
          ],
          "scatterpolar": [
           {
            "marker": {
             "colorbar": {
              "outlinewidth": 0,
              "ticks": ""
             }
            },
            "type": "scatterpolar"
           }
          ],
          "scatterpolargl": [
           {
            "marker": {
             "colorbar": {
              "outlinewidth": 0,
              "ticks": ""
             }
            },
            "type": "scatterpolargl"
           }
          ],
          "scatterternary": [
           {
            "marker": {
             "colorbar": {
              "outlinewidth": 0,
              "ticks": ""
             }
            },
            "type": "scatterternary"
           }
          ],
          "surface": [
           {
            "colorbar": {
             "outlinewidth": 0,
             "ticks": ""
            },
            "colorscale": [
             [
              0,
              "#0d0887"
             ],
             [
              0.1111111111111111,
              "#46039f"
             ],
             [
              0.2222222222222222,
              "#7201a8"
             ],
             [
              0.3333333333333333,
              "#9c179e"
             ],
             [
              0.4444444444444444,
              "#bd3786"
             ],
             [
              0.5555555555555556,
              "#d8576b"
             ],
             [
              0.6666666666666666,
              "#ed7953"
             ],
             [
              0.7777777777777778,
              "#fb9f3a"
             ],
             [
              0.8888888888888888,
              "#fdca26"
             ],
             [
              1,
              "#f0f921"
             ]
            ],
            "type": "surface"
           }
          ],
          "table": [
           {
            "cells": {
             "fill": {
              "color": "#EBF0F8"
             },
             "line": {
              "color": "white"
             }
            },
            "header": {
             "fill": {
              "color": "#C8D4E3"
             },
             "line": {
              "color": "white"
             }
            },
            "type": "table"
           }
          ]
         },
         "layout": {
          "annotationdefaults": {
           "arrowcolor": "#2a3f5f",
           "arrowhead": 0,
           "arrowwidth": 1
          },
          "autotypenumbers": "strict",
          "coloraxis": {
           "colorbar": {
            "outlinewidth": 0,
            "ticks": ""
           }
          },
          "colorscale": {
           "diverging": [
            [
             0,
             "#8e0152"
            ],
            [
             0.1,
             "#c51b7d"
            ],
            [
             0.2,
             "#de77ae"
            ],
            [
             0.3,
             "#f1b6da"
            ],
            [
             0.4,
             "#fde0ef"
            ],
            [
             0.5,
             "#f7f7f7"
            ],
            [
             0.6,
             "#e6f5d0"
            ],
            [
             0.7,
             "#b8e186"
            ],
            [
             0.8,
             "#7fbc41"
            ],
            [
             0.9,
             "#4d9221"
            ],
            [
             1,
             "#276419"
            ]
           ],
           "sequential": [
            [
             0,
             "#0d0887"
            ],
            [
             0.1111111111111111,
             "#46039f"
            ],
            [
             0.2222222222222222,
             "#7201a8"
            ],
            [
             0.3333333333333333,
             "#9c179e"
            ],
            [
             0.4444444444444444,
             "#bd3786"
            ],
            [
             0.5555555555555556,
             "#d8576b"
            ],
            [
             0.6666666666666666,
             "#ed7953"
            ],
            [
             0.7777777777777778,
             "#fb9f3a"
            ],
            [
             0.8888888888888888,
             "#fdca26"
            ],
            [
             1,
             "#f0f921"
            ]
           ],
           "sequentialminus": [
            [
             0,
             "#0d0887"
            ],
            [
             0.1111111111111111,
             "#46039f"
            ],
            [
             0.2222222222222222,
             "#7201a8"
            ],
            [
             0.3333333333333333,
             "#9c179e"
            ],
            [
             0.4444444444444444,
             "#bd3786"
            ],
            [
             0.5555555555555556,
             "#d8576b"
            ],
            [
             0.6666666666666666,
             "#ed7953"
            ],
            [
             0.7777777777777778,
             "#fb9f3a"
            ],
            [
             0.8888888888888888,
             "#fdca26"
            ],
            [
             1,
             "#f0f921"
            ]
           ]
          },
          "colorway": [
           "#636efa",
           "#EF553B",
           "#00cc96",
           "#ab63fa",
           "#FFA15A",
           "#19d3f3",
           "#FF6692",
           "#B6E880",
           "#FF97FF",
           "#FECB52"
          ],
          "font": {
           "color": "#2a3f5f"
          },
          "geo": {
           "bgcolor": "white",
           "lakecolor": "white",
           "landcolor": "#E5ECF6",
           "showlakes": true,
           "showland": true,
           "subunitcolor": "white"
          },
          "hoverlabel": {
           "align": "left"
          },
          "hovermode": "closest",
          "mapbox": {
           "style": "light"
          },
          "paper_bgcolor": "white",
          "plot_bgcolor": "#E5ECF6",
          "polar": {
           "angularaxis": {
            "gridcolor": "white",
            "linecolor": "white",
            "ticks": ""
           },
           "bgcolor": "#E5ECF6",
           "radialaxis": {
            "gridcolor": "white",
            "linecolor": "white",
            "ticks": ""
           }
          },
          "scene": {
           "xaxis": {
            "backgroundcolor": "#E5ECF6",
            "gridcolor": "white",
            "gridwidth": 2,
            "linecolor": "white",
            "showbackground": true,
            "ticks": "",
            "zerolinecolor": "white"
           },
           "yaxis": {
            "backgroundcolor": "#E5ECF6",
            "gridcolor": "white",
            "gridwidth": 2,
            "linecolor": "white",
            "showbackground": true,
            "ticks": "",
            "zerolinecolor": "white"
           },
           "zaxis": {
            "backgroundcolor": "#E5ECF6",
            "gridcolor": "white",
            "gridwidth": 2,
            "linecolor": "white",
            "showbackground": true,
            "ticks": "",
            "zerolinecolor": "white"
           }
          },
          "shapedefaults": {
           "line": {
            "color": "#2a3f5f"
           }
          },
          "ternary": {
           "aaxis": {
            "gridcolor": "white",
            "linecolor": "white",
            "ticks": ""
           },
           "baxis": {
            "gridcolor": "white",
            "linecolor": "white",
            "ticks": ""
           },
           "bgcolor": "#E5ECF6",
           "caxis": {
            "gridcolor": "white",
            "linecolor": "white",
            "ticks": ""
           }
          },
          "title": {
           "x": 0.05
          },
          "xaxis": {
           "automargin": true,
           "gridcolor": "white",
           "linecolor": "white",
           "ticks": "",
           "title": {
            "standoff": 15
           },
           "zerolinecolor": "white",
           "zerolinewidth": 2
          },
          "yaxis": {
           "automargin": true,
           "gridcolor": "white",
           "linecolor": "white",
           "ticks": "",
           "title": {
            "standoff": 15
           },
           "zerolinecolor": "white",
           "zerolinewidth": 2
          }
         }
        }
       }
      }
     },
     "metadata": {},
     "output_type": "display_data"
    }
   ],
   "source": [
    "import plotly.graph_objects as go\n",
    "\n",
    "categories = ['alegria', 'tristeza', 'raiva', 'surpresa', 'medo']\n",
    "values = [0.8, 0.1, 0.05, 0.3, 0.2]\n",
    "\n",
    "fig = go.Figure(data=go.Scatterpolar(\n",
    "    r=values + [values[0]],  # fechar a curva\n",
    "    theta=categories + [categories[0]],\n",
    "    fill='toself'\n",
    "))\n",
    "\n",
    "fig.update_layout(\n",
    "    polar=dict(radialaxis=dict(visible=True)),\n",
    "    showlegend=False\n",
    ")\n",
    "\n",
    "fig.show()\n"
   ]
  },
  {
   "cell_type": "markdown",
   "id": "4c620f72",
   "metadata": {},
   "source": [
    "# Classificação de Temas"
   ]
  },
  {
   "cell_type": "code",
   "execution_count": null,
   "id": "239c269e",
   "metadata": {},
   "outputs": [],
   "source": []
  }
 ],
 "metadata": {
  "kernelspec": {
   "display_name": "Python 3",
   "language": "python",
   "name": "python3"
  },
  "language_info": {
   "codemirror_mode": {
    "name": "ipython",
    "version": 3
   },
   "file_extension": ".py",
   "mimetype": "text/x-python",
   "name": "python",
   "nbconvert_exporter": "python",
   "pygments_lexer": "ipython3",
   "version": "3.13.3"
  }
 },
 "nbformat": 4,
 "nbformat_minor": 5
}
