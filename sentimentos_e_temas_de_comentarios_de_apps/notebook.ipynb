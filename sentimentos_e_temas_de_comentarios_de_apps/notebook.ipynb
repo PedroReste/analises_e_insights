{
 "cells": [
  {
   "cell_type": "markdown",
   "id": "10f7e140",
   "metadata": {},
   "source": [
    "**Bibliotecas**"
   ]
  },
  {
   "cell_type": "code",
   "execution_count": null,
   "id": "eaed7d80",
   "metadata": {},
   "outputs": [
    {
     "name": "stderr",
     "output_type": "stream",
     "text": [
      "c:\\Users\\Computador\\AppData\\Local\\Programs\\Python\\Python310\\lib\\site-packages\\tqdm\\auto.py:21: TqdmWarning: IProgress not found. Please update jupyter and ipywidgets. See https://ipywidgets.readthedocs.io/en/stable/user_install.html\n",
      "  from .autonotebook import tqdm as notebook_tqdm\n"
     ]
    }
   ],
   "source": [
    "#Coletados Comentários\n",
    "from google_play_scraper import Sort, reviews\n",
    "\n",
    "#Armazenamento em DF\n",
    "import pandas as pd\n",
    "pd.set_option('display.max_rows', None)\n",
    "pd.set_option('display.max_columns', None)\n",
    "\n",
    "#Transformar a coluna de versões para fazer filtro melhores\n",
    "from packaging.version import parse\n",
    "\n",
    "#Para realizar paralelismo\n",
    "import swifter\n",
    "\n",
    "#Tratamentos\n",
    "import re\n",
    "import emoji\n",
    "import nltk\n",
    "from nltk.corpus import stopwords\n",
    "import stanza\n",
    "\n",
    "#Sentimentos dos Comentários\n",
    "from pysentimiento import create_analyzer\n",
    "\n",
    "#Temas dos Comentários\n",
    "from bertopic import BERTopic\n",
    "\n",
    "#Gráficos\n",
    "import matplotlib.pyplot as plt\n",
    "import seaborn as sns\n",
    "import plotly.graph_objects as go\n",
    "from plotly.subplots import make_subplots"
   ]
  },
  {
   "cell_type": "code",
   "execution_count": null,
   "id": "f3ef61de",
   "metadata": {},
   "outputs": [
    {
     "name": "stderr",
     "output_type": "stream",
     "text": [
      "[nltk_data] Downloading package stopwords to\n",
      "[nltk_data]     C:\\Users\\Computador\\AppData\\Roaming\\nltk_data...\n",
      "[nltk_data]   Package stopwords is already up-to-date!\n",
      "[nltk_data] Downloading package vader_lexicon to\n",
      "[nltk_data]     C:\\Users\\Computador\\AppData\\Roaming\\nltk_data...\n",
      "[nltk_data]   Package vader_lexicon is already up-to-date!\n",
      "Downloading https://raw.githubusercontent.com/stanfordnlp/stanza-resources/main/resources_1.10.0.json: 428kB [00:00, 65.8MB/s]                    \n",
      "2025-06-09 20:01:19 INFO: Downloaded file to C:\\Users\\Computador\\stanza_resources\\resources.json\n",
      "2025-06-09 20:01:19 INFO: Downloading default packages for language: pt (Portuguese) ...\n",
      "2025-06-09 20:01:22 INFO: File exists: C:\\Users\\Computador\\stanza_resources\\pt\\default.zip\n",
      "2025-06-09 20:01:25 INFO: Finished downloading models and saved to C:\\Users\\Computador\\stanza_resources\n",
      "2025-06-09 20:01:25 INFO: Checking for updates to resources.json in case models have been updated.  Note: this behavior can be turned off with download_method=None or download_method=DownloadMethod.REUSE_RESOURCES\n",
      "Downloading https://raw.githubusercontent.com/stanfordnlp/stanza-resources/main/resources_1.10.0.json: 428kB [00:00, 44.9MB/s]                    \n",
      "2025-06-09 20:01:25 INFO: Downloaded file to C:\\Users\\Computador\\stanza_resources\\resources.json\n",
      "2025-06-09 20:01:25 INFO: Loading these models for language: pt (Portuguese):\n",
      "===============================\n",
      "| Processor | Package         |\n",
      "-------------------------------\n",
      "| tokenize  | bosque          |\n",
      "| mwt       | bosque          |\n",
      "| pos       | bosque_charlm   |\n",
      "| lemma     | bosque_nocharlm |\n",
      "===============================\n",
      "\n",
      "2025-06-09 20:01:25 INFO: Using device: cpu\n",
      "2025-06-09 20:01:25 INFO: Loading: tokenize\n",
      "2025-06-09 20:01:25 INFO: Loading: mwt\n",
      "2025-06-09 20:01:25 INFO: Loading: pos\n",
      "2025-06-09 20:01:30 INFO: Loading: lemma\n",
      "2025-06-09 20:01:31 INFO: Done loading processors!\n"
     ]
    }
   ],
   "source": [
    "#Download de pacotes\n",
    "nltk.download(\"stopwords\")\n",
    "stanza.download('pt')\n",
    "\n",
    "nlp = stanza.Pipeline(lang='pt', processors='tokenize,mwt,pos,lemma')"
   ]
  },
  {
   "cell_type": "markdown",
   "id": "87ebd0fd",
   "metadata": {},
   "source": [
    "**Funções**"
   ]
  },
  {
   "cell_type": "code",
   "execution_count": 44,
   "id": "8c42cce8",
   "metadata": {},
   "outputs": [],
   "source": [
    "stopwords_pt = set(stopwords.words(\"portuguese\"))\n",
    "stopwords_pt.update({\n",
    "    'tim', 'vivo', 'claro'\n",
    "})"
   ]
  },
  {
   "cell_type": "code",
   "execution_count": 46,
   "id": "3df3e4ff",
   "metadata": {},
   "outputs": [],
   "source": [
    "def tratamento_de_texto(texto):\n",
    "    texto = emoji.demojize(texto, language=\"pt\")\n",
    "    texto = texto.lower()\n",
    "    texto = re.sub(r'(:[^:\\s]+:)', r' \\1 ', texto)\n",
    "    texto = re.sub(r\"http\\S+|www\\S+|https\\S+\", \"\", texto)\n",
    "    texto = re.sub(r\"[^a-zá-úà-üç\\s]\", \"\", texto)\n",
    "    texto = re.sub(r'\\s+', ' ', texto).strip()\n",
    "\n",
    "    doc = nlp(texto)\n",
    "    \n",
    "    lemmas = [word.lemma for sent in doc.sentences for word in sent.words if word.lemma not in stopwords_pt and len(word.lemma) > 2]\n",
    "    \n",
    "    return \" \".join(lemmas)"
   ]
  },
  {
   "cell_type": "code",
   "execution_count": 47,
   "id": "4079f315",
   "metadata": {},
   "outputs": [],
   "source": [
    "analyzers = {\n",
    "    \"sentiment\": create_analyzer(task=\"sentiment\", lang=\"pt\"),\n",
    "    \"emotion\": create_analyzer(task=\"emotion\", lang=\"pt\"),\n",
    "}\n",
    "\n",
    "# Grupos para emoções resumidas\n",
    "grupos_emocoes = {\n",
    "    \"alegria\": [\"admiration\", \"amusement\", \"approval\", \"excitement\",\n",
    "                \"gratitude\", \"joy\", \"love\", \"optimism\", \"pride\"],\n",
    "    \"tristeza\": [\"disappointment\", \"remorse\", \"sadness\"],\n",
    "    \"raiva\": [\"anger\", \"annoyance\", \"disapproval\", \"disgust\"],\n",
    "    \"medo\": [\"fear\", \"nervousness\", \"embarrassment\"],\n",
    "    \"surpresa\": [\"surprise\", \"realization\"],\n",
    "    \"confianca\": [\"curiosity\", \"desire\", \"caring\"],\n",
    "    \"confusao\": [\"confusion\"],\n",
    "    \"neutro\": [\"neutral\", None]\n",
    "}\n",
    "\n",
    "def analisar_sentimento_todos(texto, analyzers=analyzers):\n",
    "    if not isinstance(texto, str) or not texto.strip():\n",
    "        return pd.Series()\n",
    "\n",
    "    dados = {}\n",
    "\n",
    "    for tipo, analyzer in analyzers.items():\n",
    "        resultado = analyzer.predict(texto)\n",
    "\n",
    "        # Ajuste seguro do output\n",
    "        if isinstance(resultado.output, list):\n",
    "            saida = resultado.output[0] if resultado.output else None\n",
    "        else:\n",
    "            saida = resultado.output\n",
    "\n",
    "        # Para emoção, substituir output pela categoria agregada\n",
    "        if tipo == \"emotion\":\n",
    "            # Pós-processamento: agregando emoções\n",
    "            grupo_probs = {}\n",
    "            for grupo, emocoes in grupos_emocoes.items():\n",
    "                soma = sum(resultado.probas.get(e, 0) for e in emocoes)\n",
    "                dados[f\"{tipo}_{grupo}\"] = soma\n",
    "                grupo_probs[grupo] = soma\n",
    "            \n",
    "            # Encontrar o grupo com maior probabilidade\n",
    "            if grupo_probs:\n",
    "                grupo_principal = max(grupo_probs, key=grupo_probs.get)\n",
    "            else:\n",
    "                grupo_principal = None\n",
    "\n",
    "            dados[f\"{tipo}_output\"] = grupo_principal\n",
    "        else:\n",
    "            # Mantém output original\n",
    "            dados[f\"{tipo}_output\"] = saida\n",
    "            # Mantém probas originais\n",
    "            for k, v in resultado.probas.items():\n",
    "                dados[f\"{tipo}_{k}\"] = v\n",
    "\n",
    "    return pd.Series(dados)\n"
   ]
  },
  {
   "cell_type": "markdown",
   "id": "df0cb6d8",
   "metadata": {},
   "source": [
    "# Extração de Comentários"
   ]
  },
  {
   "cell_type": "code",
   "execution_count": 50,
   "id": "08603872",
   "metadata": {},
   "outputs": [],
   "source": [
    "qtd_comentarios = 5000\n",
    "\n",
    "dados_android = []\n",
    "\n",
    "apps = {\n",
    "    \"Claro\": \"com.nvt.cs\",\n",
    "    \"TIM\": \"br.com.timbrasil.meutim\",\n",
    "    \"Vivo\": \"br.com.vivo\"\n",
    "}"
   ]
  },
  {
   "cell_type": "code",
   "execution_count": 51,
   "id": "f0aea699",
   "metadata": {},
   "outputs": [],
   "source": [
    "for app, app_id in apps.items():\n",
    "    result, _ = reviews(\n",
    "        app_id,\n",
    "        lang='pt',\n",
    "        country='br',\n",
    "        sort=Sort.NEWEST,\n",
    "        count=qtd_comentarios\n",
    "    )\n",
    "        \n",
    "    for review in result:\n",
    "        dados_android.append({\n",
    "            \"app\": app,\n",
    "            \"score\": review.get(\"score\", None),\n",
    "            \"content\": review.get(\"content\", None),\n",
    "            \"app_version\": review.get(\"appVersion\", None),\n",
    "            \"date\": review.get(\"at\", None),\n",
    "            \"reply_content\": review.get(\"replyContent\", None),\n",
    "            \"reply_date\": review.get(\"repliedAt\", None)\n",
    "        })"
   ]
  },
  {
   "cell_type": "code",
   "execution_count": 52,
   "id": "a879ccc5",
   "metadata": {},
   "outputs": [
    {
     "data": {
      "text/html": [
       "<div>\n",
       "<style scoped>\n",
       "    .dataframe tbody tr th:only-of-type {\n",
       "        vertical-align: middle;\n",
       "    }\n",
       "\n",
       "    .dataframe tbody tr th {\n",
       "        vertical-align: top;\n",
       "    }\n",
       "\n",
       "    .dataframe thead th {\n",
       "        text-align: right;\n",
       "    }\n",
       "</style>\n",
       "<table border=\"1\" class=\"dataframe\">\n",
       "  <thead>\n",
       "    <tr style=\"text-align: right;\">\n",
       "      <th></th>\n",
       "      <th>date</th>\n",
       "      <th>score</th>\n",
       "      <th>app_version</th>\n",
       "      <th>app</th>\n",
       "      <th>content</th>\n",
       "    </tr>\n",
       "  </thead>\n",
       "  <tbody>\n",
       "    <tr>\n",
       "      <th>0</th>\n",
       "      <td>2025-06-08 18:03:33</td>\n",
       "      <td>5</td>\n",
       "      <td>18.6.0</td>\n",
       "      <td>Claro</td>\n",
       "      <td>muito bom</td>\n",
       "    </tr>\n",
       "    <tr>\n",
       "      <th>1</th>\n",
       "      <td>2025-06-08 17:37:27</td>\n",
       "      <td>1</td>\n",
       "      <td>None</td>\n",
       "      <td>Claro</td>\n",
       "      <td>horrível</td>\n",
       "    </tr>\n",
       "    <tr>\n",
       "      <th>2</th>\n",
       "      <td>2025-06-08 17:27:33</td>\n",
       "      <td>4</td>\n",
       "      <td>18.9.0</td>\n",
       "      <td>Claro</td>\n",
       "      <td>serviço atende as minhas expectativas.</td>\n",
       "    </tr>\n",
       "    <tr>\n",
       "      <th>3</th>\n",
       "      <td>2025-06-08 17:17:43</td>\n",
       "      <td>1</td>\n",
       "      <td>18.8.0</td>\n",
       "      <td>Claro</td>\n",
       "      <td>A Claro é um LIXO, fujam de tudo deles.</td>\n",
       "    </tr>\n",
       "    <tr>\n",
       "      <th>4</th>\n",
       "      <td>2025-06-08 17:06:50</td>\n",
       "      <td>5</td>\n",
       "      <td>18.8.0</td>\n",
       "      <td>Claro</td>\n",
       "      <td>excelente</td>\n",
       "    </tr>\n",
       "  </tbody>\n",
       "</table>\n",
       "</div>"
      ],
      "text/plain": [
       "                 date  score app_version    app  \\\n",
       "0 2025-06-08 18:03:33      5      18.6.0  Claro   \n",
       "1 2025-06-08 17:37:27      1        None  Claro   \n",
       "2 2025-06-08 17:27:33      4      18.9.0  Claro   \n",
       "3 2025-06-08 17:17:43      1      18.8.0  Claro   \n",
       "4 2025-06-08 17:06:50      5      18.8.0  Claro   \n",
       "\n",
       "                                   content  \n",
       "0                                muito bom  \n",
       "1                                 horrível  \n",
       "2   serviço atende as minhas expectativas.  \n",
       "3  A Claro é um LIXO, fujam de tudo deles.  \n",
       "4                                excelente  "
      ]
     },
     "execution_count": 52,
     "metadata": {},
     "output_type": "execute_result"
    }
   ],
   "source": [
    "comentarios_android = pd.DataFrame(dados_android, columns=[\"date\", \"score\", \"app_version\", \"app\",  \"content\"])\n",
    "\n",
    "comentarios_android.to_csv(\"comentarios.csv\", index=False)\n",
    "comentarios_android.head()"
   ]
  },
  {
   "cell_type": "markdown",
   "id": "c5cf1980",
   "metadata": {},
   "source": [
    "# Análise de Sentimento"
   ]
  },
  {
   "cell_type": "markdown",
   "id": "645ebdbf",
   "metadata": {},
   "source": [
    "## Análises"
   ]
  },
  {
   "cell_type": "code",
   "execution_count": 48,
   "id": "9af855d9",
   "metadata": {},
   "outputs": [],
   "source": [
    "comentarios_android = pd.read_csv(\"comentarios.csv\")"
   ]
  },
  {
   "cell_type": "code",
   "execution_count": 53,
   "id": "9acff674",
   "metadata": {},
   "outputs": [
    {
     "name": "stderr",
     "output_type": "stream",
     "text": [
      "Pandas Apply: 100%|██████████| 15000/15000 [32:19<00:00,  7.73it/s] \n"
     ]
    }
   ],
   "source": [
    "comentarios_android[\"content_proc\"] = comentarios_android[\"content\"].swifter.apply(tratamento_de_texto)"
   ]
  },
  {
   "cell_type": "code",
   "execution_count": 54,
   "id": "ef44563f",
   "metadata": {},
   "outputs": [
    {
     "name": "stderr",
     "output_type": "stream",
     "text": [
      "Pandas Apply: 100%|██████████| 15000/15000 [22:11<00:00, 11.26it/s] \n"
     ]
    }
   ],
   "source": [
    "resultados = comentarios_android[\"content_proc\"].swifter.apply(analisar_sentimento_todos)\n",
    "df = pd.concat([comentarios_android, resultados], axis=1)"
   ]
  },
  {
   "cell_type": "code",
   "execution_count": 55,
   "id": "3f1a5ab7",
   "metadata": {},
   "outputs": [],
   "source": [
    "df.to_csv(\"comentarios_processados.csv\", index=False)"
   ]
  },
  {
   "cell_type": "code",
   "execution_count": 56,
   "id": "f07f0130",
   "metadata": {},
   "outputs": [
    {
     "name": "stdout",
     "output_type": "stream",
     "text": [
      "Data mínima da Claro:  2025-04-07 12:36:14\n",
      "Data mínima da TIM:  2025-04-10 09:55:15\n",
      "Data mínima da Vivo:  2025-04-07 12:36:14\n",
      "Data máxima da Claro:  2025-06-08 18:03:33\n",
      "Data máxima da TIM:  2025-06-08 18:18:48\n",
      "Data máxima da Vivo:  2025-06-08 18:03:33\n"
     ]
    }
   ],
   "source": [
    "print(\"Data mínima da Claro: \", df[df['app']=='Claro']['date'].min())\n",
    "print(\"Data mínima da TIM: \", df[df['app']=='TIM']['date'].min())\n",
    "print(\"Data mínima da Vivo: \", df[df['app']=='Claro']['date'].min())\n",
    "print(\"Data máxima da Claro: \", df[df['app']=='Claro']['date'].max())\n",
    "print(\"Data máxima da TIM: \", df[df['app']=='TIM']['date'].max())\n",
    "print(\"Data máxima da Vivo: \", df[df['app']=='Claro']['date'].max())"
   ]
  },
  {
   "cell_type": "markdown",
   "id": "ebc9cb96",
   "metadata": {},
   "source": [
    "### Notas"
   ]
  },
  {
   "cell_type": "code",
   "execution_count": 57,
   "id": "7c1994df",
   "metadata": {},
   "outputs": [
    {
     "data": {
      "image/png": "[encoded data removed]",
      "text/plain": [
       "<Figure size 1000x600 with 1 Axes>"
      ]
     },
     "metadata": {},
     "output_type": "display_data"
    }
   ],
   "source": [
    "sns.set_style(\"darkgrid\")\n",
    "plt.figure(figsize=(10, 6))\n",
    "\n",
    "# Plotar gráfico com hue simplificado\n",
    "sns.countplot(\n",
    "    data=df,\n",
    "    x='app',\n",
    "    hue='score',\n",
    "    palette={1: '#FF4C4C', 2: '#FFA500', 3: \"#FFFB00\", 4: \"#A0E95C\", 5: '#4CAF50'},\n",
    "    hue_order=[1, 2, 3, 4, 5]\n",
    ")\n",
    "\n",
    "plt.title(\"Notas dos Comentários Recentes por Operadora\", loc=\"center\")\n",
    "plt.xlabel(\"Operadora\")\n",
    "plt.ylabel(\"Qtd Comentários por Nota\")\n",
    "plt.legend(title=\"Nota\")\n",
    "\n",
    "plt.show()"
   ]
  },
  {
   "cell_type": "code",
   "execution_count": 58,
   "id": "a54a626e",
   "metadata": {},
   "outputs": [
    {
     "data": {
      "image/png": "[encoded data removed]",
      "text/plain": [
       "<Figure size 1200x600 with 1 Axes>"
      ]
     },
     "metadata": {},
     "output_type": "display_data"
    }
   ],
   "source": [
    "def agrupa_versao(v):\n",
    "    if pd.isnull(v):\n",
    "        return 'Outros'\n",
    "    try:\n",
    "        return v if parse(str(v)) >= parse('17.0') else 'Outros'\n",
    "    except:\n",
    "        return 'Outros'\n",
    "\n",
    "resultado = df[df['app'] == 'Claro'].copy()\n",
    "resultado['app_version'] = resultado['app_version'].fillna('0')\n",
    "resultado['app_version_agrupada'] = resultado['app_version'].apply(agrupa_versao)\n",
    "\n",
    "media_por_versao = resultado.groupby('app_version_agrupada')['score'].mean().reset_index()\n",
    "\n",
    "# 4. Gráfico de barras da nota média por versão\n",
    "plt.figure(figsize=(12,6))\n",
    "sns.barplot(data=media_por_versao, x='app_version_agrupada', y='score', palette='viridis')\n",
    "\n",
    "plt.xticks(rotation=45, ha='right')  # gira as labels para melhor visualização\n",
    "plt.xlabel('Versão do App')\n",
    "plt.ylabel('Nota Média')\n",
    "plt.title('Nota Média por Versão do App - Claro')\n",
    "plt.tight_layout()\n",
    "plt.show()\n"
   ]
  },
  {
   "cell_type": "code",
   "execution_count": 59,
   "id": "a05ff96d",
   "metadata": {},
   "outputs": [
    {
     "data": {
      "image/png": "[encoded data removed]",
      "text/plain": [
       "<Figure size 1200x600 with 1 Axes>"
      ]
     },
     "metadata": {},
     "output_type": "display_data"
    }
   ],
   "source": [
    "def agrupa_versao(v):\n",
    "    if pd.isnull(v):\n",
    "        return 'Outros'\n",
    "    try:\n",
    "        return v if parse(str(v)) >= parse('7.0') else 'Outros'\n",
    "    except:\n",
    "        return 'Outros'\n",
    "\n",
    "resultado = df[df['app'] == 'TIM'].copy()\n",
    "resultado['app_version'] = resultado['app_version'].fillna('0')\n",
    "resultado['app_version_agrupada'] = resultado['app_version'].apply(agrupa_versao)\n",
    "\n",
    "media_por_versao = resultado.groupby('app_version_agrupada')['score'].mean().reset_index()\n",
    "\n",
    "# 4. Gráfico de barras da nota média por versão\n",
    "plt.figure(figsize=(12,6))\n",
    "sns.barplot(data=media_por_versao, x='app_version_agrupada', y='score', palette='viridis')\n",
    "\n",
    "plt.xticks(rotation=45, ha='right')  # gira as labels para melhor visualização\n",
    "plt.xlabel('Versão do App')\n",
    "plt.ylabel('Nota Média')\n",
    "plt.title('Nota Média por Versão do App - TIM')\n",
    "plt.tight_layout()\n",
    "plt.show()"
   ]
  },
  {
   "cell_type": "code",
   "execution_count": 60,
   "id": "e99efc76",
   "metadata": {},
   "outputs": [
    {
     "data": {
      "image/png": "[encoded data removed]",
      "text/plain": [
       "<Figure size 1200x600 with 1 Axes>"
      ]
     },
     "metadata": {},
     "output_type": "display_data"
    }
   ],
   "source": [
    "def agrupa_versao(v):\n",
    "    if pd.isnull(v):\n",
    "        return 'Outros'\n",
    "    try:\n",
    "        return v if parse(str(v)) >= parse('20.0') else 'Outros'\n",
    "    except:\n",
    "        return 'Outros'\n",
    "\n",
    "resultado = df[df['app'] == 'Vivo'].copy()\n",
    "resultado['app_version'] = resultado['app_version'].fillna('0')\n",
    "resultado['app_version_agrupada'] = resultado['app_version'].apply(agrupa_versao)\n",
    "\n",
    "media_por_versao = resultado.groupby('app_version_agrupada')['score'].mean().reset_index()\n",
    "\n",
    "# 4. Gráfico de barras da nota média por versão\n",
    "plt.figure(figsize=(12,6))\n",
    "sns.barplot(data=media_por_versao, x='app_version_agrupada', y='score', palette='viridis')\n",
    "\n",
    "plt.xticks(rotation=45, ha='right')  # gira as labels para melhor visualização\n",
    "plt.xlabel('Versão do App')\n",
    "plt.ylabel('Nota Média')\n",
    "plt.title('Nota Média por Versão do App - Vivo')\n",
    "plt.tight_layout()\n",
    "plt.show()"
   ]
  },
  {
   "cell_type": "markdown",
   "id": "5fe94cf6",
   "metadata": {},
   "source": [
    "### Sentimentos por Versão"
   ]
  },
  {
   "cell_type": "markdown",
   "id": "8c19ca2a",
   "metadata": {},
   "source": [
    "#### Claro"
   ]
  },
  {
   "cell_type": "code",
   "execution_count": 61,
   "id": "21f45263",
   "metadata": {},
   "outputs": [
    {
     "data": {
      "text/html": [
       "<div>\n",
       "<style scoped>\n",
       "    .dataframe tbody tr th:only-of-type {\n",
       "        vertical-align: middle;\n",
       "    }\n",
       "\n",
       "    .dataframe tbody tr th {\n",
       "        vertical-align: top;\n",
       "    }\n",
       "\n",
       "    .dataframe thead th {\n",
       "        text-align: right;\n",
       "    }\n",
       "</style>\n",
       "<table border=\"1\" class=\"dataframe\">\n",
       "  <thead>\n",
       "    <tr style=\"text-align: right;\">\n",
       "      <th>app_version_agrupada</th>\n",
       "      <th>17.14.0</th>\n",
       "      <th>17.14.1</th>\n",
       "      <th>17.16.0</th>\n",
       "      <th>17.17.0</th>\n",
       "      <th>17.17.1</th>\n",
       "      <th>17.18.0</th>\n",
       "      <th>17.19.2</th>\n",
       "      <th>17.20.1</th>\n",
       "      <th>17.21.0</th>\n",
       "      <th>17.22.1</th>\n",
       "      <th>17.26.0</th>\n",
       "      <th>17.27.0</th>\n",
       "      <th>17.29.0</th>\n",
       "      <th>17.30.0</th>\n",
       "      <th>17.33.0</th>\n",
       "      <th>17.37.0</th>\n",
       "      <th>17.39.0</th>\n",
       "      <th>17.43.0</th>\n",
       "      <th>17.44.1</th>\n",
       "      <th>17.45.2</th>\n",
       "      <th>17.46.0</th>\n",
       "      <th>17.47.1</th>\n",
       "      <th>17.48.0</th>\n",
       "      <th>17.49.0</th>\n",
       "      <th>17.5.0</th>\n",
       "      <th>17.50.0</th>\n",
       "      <th>17.52.0</th>\n",
       "      <th>17.53.0</th>\n",
       "      <th>17.54.0</th>\n",
       "      <th>17.55.0</th>\n",
       "      <th>17.56.0</th>\n",
       "      <th>17.6.0</th>\n",
       "      <th>18.0.0</th>\n",
       "      <th>18.1.0</th>\n",
       "      <th>18.2.0</th>\n",
       "      <th>18.3.0</th>\n",
       "      <th>18.4.0</th>\n",
       "      <th>18.5.0</th>\n",
       "      <th>18.6.0</th>\n",
       "      <th>18.7.0</th>\n",
       "      <th>18.8.0</th>\n",
       "      <th>18.9.0</th>\n",
       "      <th>Outros</th>\n",
       "    </tr>\n",
       "    <tr>\n",
       "      <th>sentiment_output</th>\n",
       "      <th></th>\n",
       "      <th></th>\n",
       "      <th></th>\n",
       "      <th></th>\n",
       "      <th></th>\n",
       "      <th></th>\n",
       "      <th></th>\n",
       "      <th></th>\n",
       "      <th></th>\n",
       "      <th></th>\n",
       "      <th></th>\n",
       "      <th></th>\n",
       "      <th></th>\n",
       "      <th></th>\n",
       "      <th></th>\n",
       "      <th></th>\n",
       "      <th></th>\n",
       "      <th></th>\n",
       "      <th></th>\n",
       "      <th></th>\n",
       "      <th></th>\n",
       "      <th></th>\n",
       "      <th></th>\n",
       "      <th></th>\n",
       "      <th></th>\n",
       "      <th></th>\n",
       "      <th></th>\n",
       "      <th></th>\n",
       "      <th></th>\n",
       "      <th></th>\n",
       "      <th></th>\n",
       "      <th></th>\n",
       "      <th></th>\n",
       "      <th></th>\n",
       "      <th></th>\n",
       "      <th></th>\n",
       "      <th></th>\n",
       "      <th></th>\n",
       "      <th></th>\n",
       "      <th></th>\n",
       "      <th></th>\n",
       "      <th></th>\n",
       "      <th></th>\n",
       "    </tr>\n",
       "  </thead>\n",
       "  <tbody>\n",
       "    <tr>\n",
       "      <th>NEG</th>\n",
       "      <td>0.0</td>\n",
       "      <td>0.0</td>\n",
       "      <td>1.0</td>\n",
       "      <td>2.0</td>\n",
       "      <td>1.0</td>\n",
       "      <td>0.0</td>\n",
       "      <td>0.0</td>\n",
       "      <td>0.0</td>\n",
       "      <td>0.0</td>\n",
       "      <td>0.0</td>\n",
       "      <td>1.0</td>\n",
       "      <td>1.0</td>\n",
       "      <td>1.0</td>\n",
       "      <td>0.0</td>\n",
       "      <td>0.0</td>\n",
       "      <td>1.0</td>\n",
       "      <td>1.0</td>\n",
       "      <td>0.0</td>\n",
       "      <td>1.0</td>\n",
       "      <td>2.0</td>\n",
       "      <td>0.0</td>\n",
       "      <td>0.0</td>\n",
       "      <td>2.0</td>\n",
       "      <td>2.0</td>\n",
       "      <td>0.0</td>\n",
       "      <td>0.0</td>\n",
       "      <td>0.0</td>\n",
       "      <td>4.0</td>\n",
       "      <td>6.0</td>\n",
       "      <td>2.0</td>\n",
       "      <td>9.0</td>\n",
       "      <td>0.0</td>\n",
       "      <td>56.0</td>\n",
       "      <td>22.0</td>\n",
       "      <td>41.0</td>\n",
       "      <td>73.0</td>\n",
       "      <td>125.0</td>\n",
       "      <td>121.0</td>\n",
       "      <td>70.0</td>\n",
       "      <td>40.0</td>\n",
       "      <td>63.0</td>\n",
       "      <td>2.0</td>\n",
       "      <td>136.0</td>\n",
       "    </tr>\n",
       "    <tr>\n",
       "      <th>NEU</th>\n",
       "      <td>1.0</td>\n",
       "      <td>1.0</td>\n",
       "      <td>0.0</td>\n",
       "      <td>0.0</td>\n",
       "      <td>1.0</td>\n",
       "      <td>2.0</td>\n",
       "      <td>1.0</td>\n",
       "      <td>0.0</td>\n",
       "      <td>2.0</td>\n",
       "      <td>0.0</td>\n",
       "      <td>0.0</td>\n",
       "      <td>0.0</td>\n",
       "      <td>1.0</td>\n",
       "      <td>2.0</td>\n",
       "      <td>1.0</td>\n",
       "      <td>3.0</td>\n",
       "      <td>1.0</td>\n",
       "      <td>1.0</td>\n",
       "      <td>1.0</td>\n",
       "      <td>7.0</td>\n",
       "      <td>0.0</td>\n",
       "      <td>1.0</td>\n",
       "      <td>2.0</td>\n",
       "      <td>4.0</td>\n",
       "      <td>1.0</td>\n",
       "      <td>4.0</td>\n",
       "      <td>0.0</td>\n",
       "      <td>5.0</td>\n",
       "      <td>12.0</td>\n",
       "      <td>3.0</td>\n",
       "      <td>14.0</td>\n",
       "      <td>1.0</td>\n",
       "      <td>184.0</td>\n",
       "      <td>76.0</td>\n",
       "      <td>172.0</td>\n",
       "      <td>278.0</td>\n",
       "      <td>469.0</td>\n",
       "      <td>366.0</td>\n",
       "      <td>274.0</td>\n",
       "      <td>134.0</td>\n",
       "      <td>288.0</td>\n",
       "      <td>15.0</td>\n",
       "      <td>168.0</td>\n",
       "    </tr>\n",
       "    <tr>\n",
       "      <th>POS</th>\n",
       "      <td>1.0</td>\n",
       "      <td>0.0</td>\n",
       "      <td>0.0</td>\n",
       "      <td>1.0</td>\n",
       "      <td>0.0</td>\n",
       "      <td>0.0</td>\n",
       "      <td>0.0</td>\n",
       "      <td>1.0</td>\n",
       "      <td>0.0</td>\n",
       "      <td>1.0</td>\n",
       "      <td>0.0</td>\n",
       "      <td>0.0</td>\n",
       "      <td>0.0</td>\n",
       "      <td>0.0</td>\n",
       "      <td>0.0</td>\n",
       "      <td>0.0</td>\n",
       "      <td>0.0</td>\n",
       "      <td>1.0</td>\n",
       "      <td>1.0</td>\n",
       "      <td>4.0</td>\n",
       "      <td>1.0</td>\n",
       "      <td>0.0</td>\n",
       "      <td>2.0</td>\n",
       "      <td>1.0</td>\n",
       "      <td>0.0</td>\n",
       "      <td>0.0</td>\n",
       "      <td>1.0</td>\n",
       "      <td>1.0</td>\n",
       "      <td>6.0</td>\n",
       "      <td>4.0</td>\n",
       "      <td>20.0</td>\n",
       "      <td>1.0</td>\n",
       "      <td>105.0</td>\n",
       "      <td>48.0</td>\n",
       "      <td>113.0</td>\n",
       "      <td>203.0</td>\n",
       "      <td>337.0</td>\n",
       "      <td>295.0</td>\n",
       "      <td>174.0</td>\n",
       "      <td>95.0</td>\n",
       "      <td>172.0</td>\n",
       "      <td>6.0</td>\n",
       "      <td>88.0</td>\n",
       "    </tr>\n",
       "  </tbody>\n",
       "</table>\n",
       "</div>"
      ],
      "text/plain": [
       "app_version_agrupada  17.14.0  17.14.1  17.16.0  17.17.0  17.17.1  17.18.0  \\\n",
       "sentiment_output                                                             \n",
       "NEG                       0.0      0.0      1.0      2.0      1.0      0.0   \n",
       "NEU                       1.0      1.0      0.0      0.0      1.0      2.0   \n",
       "POS                       1.0      0.0      0.0      1.0      0.0      0.0   \n",
       "\n",
       "app_version_agrupada  17.19.2  17.20.1  17.21.0  17.22.1  17.26.0  17.27.0  \\\n",
       "sentiment_output                                                             \n",
       "NEG                       0.0      0.0      0.0      0.0      1.0      1.0   \n",
       "NEU                       1.0      0.0      2.0      0.0      0.0      0.0   \n",
       "POS                       0.0      1.0      0.0      1.0      0.0      0.0   \n",
       "\n",
       "app_version_agrupada  17.29.0  17.30.0  17.33.0  17.37.0  17.39.0  17.43.0  \\\n",
       "sentiment_output                                                             \n",
       "NEG                       1.0      0.0      0.0      1.0      1.0      0.0   \n",
       "NEU                       1.0      2.0      1.0      3.0      1.0      1.0   \n",
       "POS                       0.0      0.0      0.0      0.0      0.0      1.0   \n",
       "\n",
       "app_version_agrupada  17.44.1  17.45.2  17.46.0  17.47.1  17.48.0  17.49.0  \\\n",
       "sentiment_output                                                             \n",
       "NEG                       1.0      2.0      0.0      0.0      2.0      2.0   \n",
       "NEU                       1.0      7.0      0.0      1.0      2.0      4.0   \n",
       "POS                       1.0      4.0      1.0      0.0      2.0      1.0   \n",
       "\n",
       "app_version_agrupada  17.5.0  17.50.0  17.52.0  17.53.0  17.54.0  17.55.0  \\\n",
       "sentiment_output                                                            \n",
       "NEG                      0.0      0.0      0.0      4.0      6.0      2.0   \n",
       "NEU                      1.0      4.0      0.0      5.0     12.0      3.0   \n",
       "POS                      0.0      0.0      1.0      1.0      6.0      4.0   \n",
       "\n",
       "app_version_agrupada  17.56.0  17.6.0  18.0.0  18.1.0  18.2.0  18.3.0  18.4.0  \\\n",
       "sentiment_output                                                                \n",
       "NEG                       9.0     0.0    56.0    22.0    41.0    73.0   125.0   \n",
       "NEU                      14.0     1.0   184.0    76.0   172.0   278.0   469.0   \n",
       "POS                      20.0     1.0   105.0    48.0   113.0   203.0   337.0   \n",
       "\n",
       "app_version_agrupada  18.5.0  18.6.0  18.7.0  18.8.0  18.9.0  Outros  \n",
       "sentiment_output                                                      \n",
       "NEG                    121.0    70.0    40.0    63.0     2.0   136.0  \n",
       "NEU                    366.0   274.0   134.0   288.0    15.0   168.0  \n",
       "POS                    295.0   174.0    95.0   172.0     6.0    88.0  "
      ]
     },
     "execution_count": 61,
     "metadata": {},
     "output_type": "execute_result"
    }
   ],
   "source": [
    "def agrupa_versao(v):\n",
    "    if pd.isnull(v):\n",
    "        return 'Outros'\n",
    "    try:\n",
    "        return v if parse(str(v)) >= parse('17.0.0') else 'Outros'\n",
    "    except:\n",
    "        return 'Outros'\n",
    "\n",
    "resultado = df[df['app'] == 'Claro'].copy()\n",
    "resultado['app_version'] = resultado['app_version'].fillna('0')\n",
    "resultado['app_version_agrupada'] = resultado['app_version'].apply(agrupa_versao)\n",
    "\n",
    "resultado_grouped = (resultado\n",
    "                     .groupby(['sentiment_output', 'app_version_agrupada'])\n",
    "                     .size()\n",
    "                     .reset_index(name='contagem'))\n",
    "\n",
    "tabela = resultado_grouped.pivot(index='sentiment_output',\n",
    "                                 columns='app_version_agrupada',\n",
    "                                 values='contagem').fillna(0)\n",
    "\n",
    "tabela"
   ]
  },
  {
   "cell_type": "code",
   "execution_count": 62,
   "id": "ae4b9115",
   "metadata": {},
   "outputs": [
    {
     "data": {
      "text/html": [
       "<div>\n",
       "<style scoped>\n",
       "    .dataframe tbody tr th:only-of-type {\n",
       "        vertical-align: middle;\n",
       "    }\n",
       "\n",
       "    .dataframe tbody tr th {\n",
       "        vertical-align: top;\n",
       "    }\n",
       "\n",
       "    .dataframe thead th {\n",
       "        text-align: right;\n",
       "    }\n",
       "</style>\n",
       "<table border=\"1\" class=\"dataframe\">\n",
       "  <thead>\n",
       "    <tr style=\"text-align: right;\">\n",
       "      <th>app_version_agrupada</th>\n",
       "      <th>18.0.0</th>\n",
       "      <th>18.2.0</th>\n",
       "      <th>18.3.0</th>\n",
       "      <th>18.4.0</th>\n",
       "      <th>18.5.0</th>\n",
       "      <th>18.6.0</th>\n",
       "      <th>18.7.0</th>\n",
       "      <th>18.8.0</th>\n",
       "      <th>Outros</th>\n",
       "    </tr>\n",
       "    <tr>\n",
       "      <th>sentiment_output</th>\n",
       "      <th></th>\n",
       "      <th></th>\n",
       "      <th></th>\n",
       "      <th></th>\n",
       "      <th></th>\n",
       "      <th></th>\n",
       "      <th></th>\n",
       "      <th></th>\n",
       "      <th></th>\n",
       "    </tr>\n",
       "  </thead>\n",
       "  <tbody>\n",
       "    <tr>\n",
       "      <th>NEG</th>\n",
       "      <td>56</td>\n",
       "      <td>41</td>\n",
       "      <td>73</td>\n",
       "      <td>125</td>\n",
       "      <td>121</td>\n",
       "      <td>70</td>\n",
       "      <td>40</td>\n",
       "      <td>63</td>\n",
       "      <td>81</td>\n",
       "    </tr>\n",
       "    <tr>\n",
       "      <th>NEU</th>\n",
       "      <td>184</td>\n",
       "      <td>172</td>\n",
       "      <td>278</td>\n",
       "      <td>469</td>\n",
       "      <td>366</td>\n",
       "      <td>274</td>\n",
       "      <td>134</td>\n",
       "      <td>288</td>\n",
       "      <td>180</td>\n",
       "    </tr>\n",
       "    <tr>\n",
       "      <th>POS</th>\n",
       "      <td>105</td>\n",
       "      <td>113</td>\n",
       "      <td>203</td>\n",
       "      <td>337</td>\n",
       "      <td>295</td>\n",
       "      <td>174</td>\n",
       "      <td>95</td>\n",
       "      <td>172</td>\n",
       "      <td>107</td>\n",
       "    </tr>\n",
       "  </tbody>\n",
       "</table>\n",
       "</div>"
      ],
      "text/plain": [
       "app_version_agrupada  18.0.0  18.2.0  18.3.0  18.4.0  18.5.0  18.6.0  18.7.0  \\\n",
       "sentiment_output                                                               \n",
       "NEG                       56      41      73     125     121      70      40   \n",
       "NEU                      184     172     278     469     366     274     134   \n",
       "POS                      105     113     203     337     295     174      95   \n",
       "\n",
       "app_version_agrupada  18.8.0  Outros  \n",
       "sentiment_output                      \n",
       "NEG                       63      81  \n",
       "NEU                      288     180  \n",
       "POS                      172     107  "
      ]
     },
     "execution_count": 62,
     "metadata": {},
     "output_type": "execute_result"
    }
   ],
   "source": [
    "frequencias = df[df['app'] == 'Claro']['app_version'].value_counts()\n",
    "\n",
    "limiar = 200\n",
    "versoes_rare = frequencias[frequencias < limiar].index\n",
    "\n",
    "df['app_version_agrupada'] = df['app_version'].where(~df['app_version'].isin(versoes_rare), 'Outros')\n",
    "\n",
    "resultado = (df[df['app'] == 'Claro']\n",
    "             .groupby(['sentiment_output', 'app_version_agrupada'])\n",
    "             .size()\n",
    "             .reset_index(name='contagem'))\n",
    "\n",
    "tabela = resultado.pivot(index='sentiment_output', columns='app_version_agrupada', values='contagem').fillna(0)\n",
    "tabela\n"
   ]
  },
  {
   "cell_type": "markdown",
   "id": "e168d7a0",
   "metadata": {},
   "source": [
    "#### TIM"
   ]
  },
  {
   "cell_type": "code",
   "execution_count": 63,
   "id": "d8d20213",
   "metadata": {},
   "outputs": [
    {
     "data": {
      "text/html": [
       "<div>\n",
       "<style scoped>\n",
       "    .dataframe tbody tr th:only-of-type {\n",
       "        vertical-align: middle;\n",
       "    }\n",
       "\n",
       "    .dataframe tbody tr th {\n",
       "        vertical-align: top;\n",
       "    }\n",
       "\n",
       "    .dataframe thead th {\n",
       "        text-align: right;\n",
       "    }\n",
       "</style>\n",
       "<table border=\"1\" class=\"dataframe\">\n",
       "  <thead>\n",
       "    <tr style=\"text-align: right;\">\n",
       "      <th>app_version_agrupada</th>\n",
       "      <th>7.1.4</th>\n",
       "      <th>7.2.34</th>\n",
       "      <th>7.2.39</th>\n",
       "      <th>7.4.21</th>\n",
       "      <th>7.4.31</th>\n",
       "      <th>7.4.39</th>\n",
       "      <th>7.5.13</th>\n",
       "      <th>7.5.14</th>\n",
       "      <th>7.5.16</th>\n",
       "      <th>7.5.18</th>\n",
       "      <th>7.5.19</th>\n",
       "      <th>7.5.7</th>\n",
       "      <th>7.5.9</th>\n",
       "      <th>7.6.0</th>\n",
       "      <th>7.6.3</th>\n",
       "      <th>7.7.5</th>\n",
       "      <th>7.7.9</th>\n",
       "      <th>7.8.4</th>\n",
       "      <th>7.9.0</th>\n",
       "      <th>7.9.14</th>\n",
       "      <th>7.9.15</th>\n",
       "      <th>7.9.16</th>\n",
       "      <th>7.9.18</th>\n",
       "      <th>7.9.20</th>\n",
       "      <th>7.9.3</th>\n",
       "      <th>7.9.6</th>\n",
       "      <th>8.0.0</th>\n",
       "      <th>8.0.2</th>\n",
       "      <th>8.1.0</th>\n",
       "      <th>8.2.0</th>\n",
       "      <th>8.4.0</th>\n",
       "      <th>8.5.0</th>\n",
       "      <th>8.6.0</th>\n",
       "      <th>8.7.0</th>\n",
       "      <th>8.8.1</th>\n",
       "      <th>8.8.2</th>\n",
       "      <th>Outros</th>\n",
       "    </tr>\n",
       "    <tr>\n",
       "      <th>sentiment_output</th>\n",
       "      <th></th>\n",
       "      <th></th>\n",
       "      <th></th>\n",
       "      <th></th>\n",
       "      <th></th>\n",
       "      <th></th>\n",
       "      <th></th>\n",
       "      <th></th>\n",
       "      <th></th>\n",
       "      <th></th>\n",
       "      <th></th>\n",
       "      <th></th>\n",
       "      <th></th>\n",
       "      <th></th>\n",
       "      <th></th>\n",
       "      <th></th>\n",
       "      <th></th>\n",
       "      <th></th>\n",
       "      <th></th>\n",
       "      <th></th>\n",
       "      <th></th>\n",
       "      <th></th>\n",
       "      <th></th>\n",
       "      <th></th>\n",
       "      <th></th>\n",
       "      <th></th>\n",
       "      <th></th>\n",
       "      <th></th>\n",
       "      <th></th>\n",
       "      <th></th>\n",
       "      <th></th>\n",
       "      <th></th>\n",
       "      <th></th>\n",
       "      <th></th>\n",
       "      <th></th>\n",
       "      <th></th>\n",
       "      <th></th>\n",
       "    </tr>\n",
       "  </thead>\n",
       "  <tbody>\n",
       "    <tr>\n",
       "      <th>NEG</th>\n",
       "      <td>2.0</td>\n",
       "      <td>2.0</td>\n",
       "      <td>1.0</td>\n",
       "      <td>1.0</td>\n",
       "      <td>1.0</td>\n",
       "      <td>6.0</td>\n",
       "      <td>0.0</td>\n",
       "      <td>1.0</td>\n",
       "      <td>0.0</td>\n",
       "      <td>2.0</td>\n",
       "      <td>2.0</td>\n",
       "      <td>1.0</td>\n",
       "      <td>7.0</td>\n",
       "      <td>3.0</td>\n",
       "      <td>1.0</td>\n",
       "      <td>1.0</td>\n",
       "      <td>0.0</td>\n",
       "      <td>0.0</td>\n",
       "      <td>0.0</td>\n",
       "      <td>1.0</td>\n",
       "      <td>2.0</td>\n",
       "      <td>3.0</td>\n",
       "      <td>13.0</td>\n",
       "      <td>12.0</td>\n",
       "      <td>9.0</td>\n",
       "      <td>1.0</td>\n",
       "      <td>1.0</td>\n",
       "      <td>9.0</td>\n",
       "      <td>8.0</td>\n",
       "      <td>83.0</td>\n",
       "      <td>252.0</td>\n",
       "      <td>196.0</td>\n",
       "      <td>486.0</td>\n",
       "      <td>279.0</td>\n",
       "      <td>90.0</td>\n",
       "      <td>3.0</td>\n",
       "      <td>354.0</td>\n",
       "    </tr>\n",
       "    <tr>\n",
       "      <th>NEU</th>\n",
       "      <td>1.0</td>\n",
       "      <td>1.0</td>\n",
       "      <td>2.0</td>\n",
       "      <td>4.0</td>\n",
       "      <td>2.0</td>\n",
       "      <td>3.0</td>\n",
       "      <td>1.0</td>\n",
       "      <td>4.0</td>\n",
       "      <td>0.0</td>\n",
       "      <td>0.0</td>\n",
       "      <td>3.0</td>\n",
       "      <td>1.0</td>\n",
       "      <td>5.0</td>\n",
       "      <td>1.0</td>\n",
       "      <td>5.0</td>\n",
       "      <td>0.0</td>\n",
       "      <td>3.0</td>\n",
       "      <td>5.0</td>\n",
       "      <td>1.0</td>\n",
       "      <td>0.0</td>\n",
       "      <td>1.0</td>\n",
       "      <td>5.0</td>\n",
       "      <td>3.0</td>\n",
       "      <td>7.0</td>\n",
       "      <td>7.0</td>\n",
       "      <td>0.0</td>\n",
       "      <td>0.0</td>\n",
       "      <td>16.0</td>\n",
       "      <td>8.0</td>\n",
       "      <td>105.0</td>\n",
       "      <td>228.0</td>\n",
       "      <td>224.0</td>\n",
       "      <td>682.0</td>\n",
       "      <td>318.0</td>\n",
       "      <td>187.0</td>\n",
       "      <td>4.0</td>\n",
       "      <td>323.0</td>\n",
       "    </tr>\n",
       "    <tr>\n",
       "      <th>POS</th>\n",
       "      <td>1.0</td>\n",
       "      <td>0.0</td>\n",
       "      <td>0.0</td>\n",
       "      <td>1.0</td>\n",
       "      <td>1.0</td>\n",
       "      <td>3.0</td>\n",
       "      <td>2.0</td>\n",
       "      <td>0.0</td>\n",
       "      <td>1.0</td>\n",
       "      <td>1.0</td>\n",
       "      <td>0.0</td>\n",
       "      <td>1.0</td>\n",
       "      <td>3.0</td>\n",
       "      <td>1.0</td>\n",
       "      <td>1.0</td>\n",
       "      <td>0.0</td>\n",
       "      <td>1.0</td>\n",
       "      <td>1.0</td>\n",
       "      <td>0.0</td>\n",
       "      <td>1.0</td>\n",
       "      <td>0.0</td>\n",
       "      <td>0.0</td>\n",
       "      <td>2.0</td>\n",
       "      <td>2.0</td>\n",
       "      <td>2.0</td>\n",
       "      <td>0.0</td>\n",
       "      <td>0.0</td>\n",
       "      <td>4.0</td>\n",
       "      <td>0.0</td>\n",
       "      <td>34.0</td>\n",
       "      <td>132.0</td>\n",
       "      <td>101.0</td>\n",
       "      <td>319.0</td>\n",
       "      <td>180.0</td>\n",
       "      <td>66.0</td>\n",
       "      <td>0.0</td>\n",
       "      <td>111.0</td>\n",
       "    </tr>\n",
       "  </tbody>\n",
       "</table>\n",
       "</div>"
      ],
      "text/plain": [
       "app_version_agrupada  7.1.4  7.2.34  7.2.39  7.4.21  7.4.31  7.4.39  7.5.13  \\\n",
       "sentiment_output                                                              \n",
       "NEG                     2.0     2.0     1.0     1.0     1.0     6.0     0.0   \n",
       "NEU                     1.0     1.0     2.0     4.0     2.0     3.0     1.0   \n",
       "POS                     1.0     0.0     0.0     1.0     1.0     3.0     2.0   \n",
       "\n",
       "app_version_agrupada  7.5.14  7.5.16  7.5.18  7.5.19  7.5.7  7.5.9  7.6.0  \\\n",
       "sentiment_output                                                            \n",
       "NEG                      1.0     0.0     2.0     2.0    1.0    7.0    3.0   \n",
       "NEU                      4.0     0.0     0.0     3.0    1.0    5.0    1.0   \n",
       "POS                      0.0     1.0     1.0     0.0    1.0    3.0    1.0   \n",
       "\n",
       "app_version_agrupada  7.6.3  7.7.5  7.7.9  7.8.4  7.9.0  7.9.14  7.9.15  \\\n",
       "sentiment_output                                                          \n",
       "NEG                     1.0    1.0    0.0    0.0    0.0     1.0     2.0   \n",
       "NEU                     5.0    0.0    3.0    5.0    1.0     0.0     1.0   \n",
       "POS                     1.0    0.0    1.0    1.0    0.0     1.0     0.0   \n",
       "\n",
       "app_version_agrupada  7.9.16  7.9.18  7.9.20  7.9.3  7.9.6  8.0.0  8.0.2  \\\n",
       "sentiment_output                                                           \n",
       "NEG                      3.0    13.0    12.0    9.0    1.0    1.0    9.0   \n",
       "NEU                      5.0     3.0     7.0    7.0    0.0    0.0   16.0   \n",
       "POS                      0.0     2.0     2.0    2.0    0.0    0.0    4.0   \n",
       "\n",
       "app_version_agrupada  8.1.0  8.2.0  8.4.0  8.5.0  8.6.0  8.7.0  8.8.1  8.8.2  \\\n",
       "sentiment_output                                                               \n",
       "NEG                     8.0   83.0  252.0  196.0  486.0  279.0   90.0    3.0   \n",
       "NEU                     8.0  105.0  228.0  224.0  682.0  318.0  187.0    4.0   \n",
       "POS                     0.0   34.0  132.0  101.0  319.0  180.0   66.0    0.0   \n",
       "\n",
       "app_version_agrupada  Outros  \n",
       "sentiment_output              \n",
       "NEG                    354.0  \n",
       "NEU                    323.0  \n",
       "POS                    111.0  "
      ]
     },
     "execution_count": 63,
     "metadata": {},
     "output_type": "execute_result"
    }
   ],
   "source": [
    "def agrupa_versao(v):\n",
    "    if pd.isnull(v):\n",
    "        return 'Outros'\n",
    "    try:\n",
    "        return v if parse(str(v)) >= parse('7.0') else 'Outros'\n",
    "    except:\n",
    "        return 'Outros'\n",
    "\n",
    "resultado = df[df['app'] == 'TIM'].copy()\n",
    "resultado['app_version'] = resultado['app_version'].fillna('0')\n",
    "resultado['app_version_agrupada'] = resultado['app_version'].apply(agrupa_versao)\n",
    "\n",
    "resultado_grouped = (resultado\n",
    "                     .groupby(['sentiment_output', 'app_version_agrupada'])\n",
    "                     .size()\n",
    "                     .reset_index(name='contagem'))\n",
    "\n",
    "tabela = resultado_grouped.pivot(index='sentiment_output',\n",
    "                                 columns='app_version_agrupada',\n",
    "                                 values='contagem').fillna(0)\n",
    "\n",
    "tabela"
   ]
  },
  {
   "cell_type": "code",
   "execution_count": 64,
   "id": "8a9f7f13",
   "metadata": {},
   "outputs": [
    {
     "data": {
      "text/html": [
       "<div>\n",
       "<style scoped>\n",
       "    .dataframe tbody tr th:only-of-type {\n",
       "        vertical-align: middle;\n",
       "    }\n",
       "\n",
       "    .dataframe tbody tr th {\n",
       "        vertical-align: top;\n",
       "    }\n",
       "\n",
       "    .dataframe thead th {\n",
       "        text-align: right;\n",
       "    }\n",
       "</style>\n",
       "<table border=\"1\" class=\"dataframe\">\n",
       "  <thead>\n",
       "    <tr style=\"text-align: right;\">\n",
       "      <th>app_version_agrupada</th>\n",
       "      <th>8.2.0</th>\n",
       "      <th>8.4.0</th>\n",
       "      <th>8.5.0</th>\n",
       "      <th>8.6.0</th>\n",
       "      <th>8.7.0</th>\n",
       "      <th>8.8.1</th>\n",
       "      <th>Outros</th>\n",
       "    </tr>\n",
       "    <tr>\n",
       "      <th>sentiment_output</th>\n",
       "      <th></th>\n",
       "      <th></th>\n",
       "      <th></th>\n",
       "      <th></th>\n",
       "      <th></th>\n",
       "      <th></th>\n",
       "      <th></th>\n",
       "    </tr>\n",
       "  </thead>\n",
       "  <tbody>\n",
       "    <tr>\n",
       "      <th>NEG</th>\n",
       "      <td>83</td>\n",
       "      <td>252</td>\n",
       "      <td>196</td>\n",
       "      <td>486</td>\n",
       "      <td>279</td>\n",
       "      <td>90</td>\n",
       "      <td>141</td>\n",
       "    </tr>\n",
       "    <tr>\n",
       "      <th>NEU</th>\n",
       "      <td>105</td>\n",
       "      <td>228</td>\n",
       "      <td>224</td>\n",
       "      <td>682</td>\n",
       "      <td>318</td>\n",
       "      <td>187</td>\n",
       "      <td>121</td>\n",
       "    </tr>\n",
       "    <tr>\n",
       "      <th>POS</th>\n",
       "      <td>34</td>\n",
       "      <td>132</td>\n",
       "      <td>101</td>\n",
       "      <td>319</td>\n",
       "      <td>180</td>\n",
       "      <td>66</td>\n",
       "      <td>39</td>\n",
       "    </tr>\n",
       "  </tbody>\n",
       "</table>\n",
       "</div>"
      ],
      "text/plain": [
       "app_version_agrupada  8.2.0  8.4.0  8.5.0  8.6.0  8.7.0  8.8.1  Outros\n",
       "sentiment_output                                                      \n",
       "NEG                      83    252    196    486    279     90     141\n",
       "NEU                     105    228    224    682    318    187     121\n",
       "POS                      34    132    101    319    180     66      39"
      ]
     },
     "execution_count": 64,
     "metadata": {},
     "output_type": "execute_result"
    }
   ],
   "source": [
    "frequencias = df[df['app'] == 'TIM']['app_version'].value_counts()\n",
    "\n",
    "limiar = 200\n",
    "versoes_rare = frequencias[frequencias < limiar].index\n",
    "\n",
    "df['app_version_agrupada'] = df['app_version'].where(~df['app_version'].isin(versoes_rare), 'Outros')\n",
    "\n",
    "resultado = (df[df['app'] == 'TIM']\n",
    "             .groupby(['sentiment_output', 'app_version_agrupada'])\n",
    "             .size()\n",
    "             .reset_index(name='contagem'))\n",
    "\n",
    "tabela = resultado.pivot(index='sentiment_output', columns='app_version_agrupada', values='contagem').fillna(0)\n",
    "tabela\n"
   ]
  },
  {
   "cell_type": "markdown",
   "id": "cd29f441",
   "metadata": {},
   "source": [
    "#### Vivo"
   ]
  },
  {
   "cell_type": "code",
   "execution_count": 65,
   "id": "193f6d32",
   "metadata": {},
   "outputs": [
    {
     "data": {
      "text/html": [
       "<div>\n",
       "<style scoped>\n",
       "    .dataframe tbody tr th:only-of-type {\n",
       "        vertical-align: middle;\n",
       "    }\n",
       "\n",
       "    .dataframe tbody tr th {\n",
       "        vertical-align: top;\n",
       "    }\n",
       "\n",
       "    .dataframe thead th {\n",
       "        text-align: right;\n",
       "    }\n",
       "</style>\n",
       "<table border=\"1\" class=\"dataframe\">\n",
       "  <thead>\n",
       "    <tr style=\"text-align: right;\">\n",
       "      <th>app_version_agrupada</th>\n",
       "      <th>24.0.30</th>\n",
       "      <th>24.1.20</th>\n",
       "      <th>24.10.26</th>\n",
       "      <th>24.11.19</th>\n",
       "      <th>24.12.17</th>\n",
       "      <th>24.2.15</th>\n",
       "      <th>24.3.19</th>\n",
       "      <th>24.4.22</th>\n",
       "      <th>24.5.20</th>\n",
       "      <th>24.6.22</th>\n",
       "      <th>24.7.14</th>\n",
       "      <th>24.9.24</th>\n",
       "      <th>25.1.29</th>\n",
       "      <th>25.1.30</th>\n",
       "      <th>25.2.24</th>\n",
       "      <th>25.3.18</th>\n",
       "      <th>25.4.24</th>\n",
       "      <th>25.5.23</th>\n",
       "      <th>Outros</th>\n",
       "    </tr>\n",
       "    <tr>\n",
       "      <th>sentiment_output</th>\n",
       "      <th></th>\n",
       "      <th></th>\n",
       "      <th></th>\n",
       "      <th></th>\n",
       "      <th></th>\n",
       "      <th></th>\n",
       "      <th></th>\n",
       "      <th></th>\n",
       "      <th></th>\n",
       "      <th></th>\n",
       "      <th></th>\n",
       "      <th></th>\n",
       "      <th></th>\n",
       "      <th></th>\n",
       "      <th></th>\n",
       "      <th></th>\n",
       "      <th></th>\n",
       "      <th></th>\n",
       "      <th></th>\n",
       "    </tr>\n",
       "  </thead>\n",
       "  <tbody>\n",
       "    <tr>\n",
       "      <th>NEG</th>\n",
       "      <td>0.0</td>\n",
       "      <td>0.0</td>\n",
       "      <td>2.0</td>\n",
       "      <td>1.0</td>\n",
       "      <td>3.0</td>\n",
       "      <td>0.0</td>\n",
       "      <td>1.0</td>\n",
       "      <td>0.0</td>\n",
       "      <td>0.0</td>\n",
       "      <td>0.0</td>\n",
       "      <td>2.0</td>\n",
       "      <td>2.0</td>\n",
       "      <td>1.0</td>\n",
       "      <td>4.0</td>\n",
       "      <td>12.0</td>\n",
       "      <td>26.0</td>\n",
       "      <td>63.0</td>\n",
       "      <td>507.0</td>\n",
       "      <td>149.0</td>\n",
       "    </tr>\n",
       "    <tr>\n",
       "      <th>NEU</th>\n",
       "      <td>2.0</td>\n",
       "      <td>2.0</td>\n",
       "      <td>3.0</td>\n",
       "      <td>3.0</td>\n",
       "      <td>7.0</td>\n",
       "      <td>1.0</td>\n",
       "      <td>2.0</td>\n",
       "      <td>3.0</td>\n",
       "      <td>2.0</td>\n",
       "      <td>4.0</td>\n",
       "      <td>1.0</td>\n",
       "      <td>3.0</td>\n",
       "      <td>1.0</td>\n",
       "      <td>7.0</td>\n",
       "      <td>18.0</td>\n",
       "      <td>65.0</td>\n",
       "      <td>255.0</td>\n",
       "      <td>1846.0</td>\n",
       "      <td>329.0</td>\n",
       "    </tr>\n",
       "    <tr>\n",
       "      <th>POS</th>\n",
       "      <td>0.0</td>\n",
       "      <td>0.0</td>\n",
       "      <td>0.0</td>\n",
       "      <td>1.0</td>\n",
       "      <td>4.0</td>\n",
       "      <td>2.0</td>\n",
       "      <td>0.0</td>\n",
       "      <td>3.0</td>\n",
       "      <td>0.0</td>\n",
       "      <td>1.0</td>\n",
       "      <td>1.0</td>\n",
       "      <td>3.0</td>\n",
       "      <td>0.0</td>\n",
       "      <td>7.0</td>\n",
       "      <td>7.0</td>\n",
       "      <td>18.0</td>\n",
       "      <td>144.0</td>\n",
       "      <td>1229.0</td>\n",
       "      <td>204.0</td>\n",
       "    </tr>\n",
       "  </tbody>\n",
       "</table>\n",
       "</div>"
      ],
      "text/plain": [
       "app_version_agrupada  24.0.30  24.1.20  24.10.26  24.11.19  24.12.17  24.2.15  \\\n",
       "sentiment_output                                                                \n",
       "NEG                       0.0      0.0       2.0       1.0       3.0      0.0   \n",
       "NEU                       2.0      2.0       3.0       3.0       7.0      1.0   \n",
       "POS                       0.0      0.0       0.0       1.0       4.0      2.0   \n",
       "\n",
       "app_version_agrupada  24.3.19  24.4.22  24.5.20  24.6.22  24.7.14  24.9.24  \\\n",
       "sentiment_output                                                             \n",
       "NEG                       1.0      0.0      0.0      0.0      2.0      2.0   \n",
       "NEU                       2.0      3.0      2.0      4.0      1.0      3.0   \n",
       "POS                       0.0      3.0      0.0      1.0      1.0      3.0   \n",
       "\n",
       "app_version_agrupada  25.1.29  25.1.30  25.2.24  25.3.18  25.4.24  25.5.23  \\\n",
       "sentiment_output                                                             \n",
       "NEG                       1.0      4.0     12.0     26.0     63.0    507.0   \n",
       "NEU                       1.0      7.0     18.0     65.0    255.0   1846.0   \n",
       "POS                       0.0      7.0      7.0     18.0    144.0   1229.0   \n",
       "\n",
       "app_version_agrupada  Outros  \n",
       "sentiment_output              \n",
       "NEG                    149.0  \n",
       "NEU                    329.0  \n",
       "POS                    204.0  "
      ]
     },
     "execution_count": 65,
     "metadata": {},
     "output_type": "execute_result"
    }
   ],
   "source": [
    "def agrupa_versao(v):\n",
    "    if pd.isnull(v):\n",
    "        return 'Outros'\n",
    "    try:\n",
    "        return v if parse(str(v)) >= parse('20.0') else 'Outros'\n",
    "    except:\n",
    "        return 'Outros'\n",
    "\n",
    "resultado = df[df['app'] == 'Vivo'].copy()\n",
    "resultado['app_version'] = resultado['app_version'].fillna('0')\n",
    "resultado['app_version_agrupada'] = resultado['app_version'].apply(agrupa_versao)\n",
    "\n",
    "resultado_grouped = (resultado\n",
    "                     .groupby(['sentiment_output', 'app_version_agrupada'])\n",
    "                     .size()\n",
    "                     .reset_index(name='contagem'))\n",
    "\n",
    "tabela = resultado_grouped.pivot(index='sentiment_output',\n",
    "                                 columns='app_version_agrupada',\n",
    "                                 values='contagem').fillna(0)\n",
    "\n",
    "tabela"
   ]
  },
  {
   "cell_type": "code",
   "execution_count": 66,
   "id": "ac2305fb",
   "metadata": {},
   "outputs": [
    {
     "data": {
      "text/html": [
       "<div>\n",
       "<style scoped>\n",
       "    .dataframe tbody tr th:only-of-type {\n",
       "        vertical-align: middle;\n",
       "    }\n",
       "\n",
       "    .dataframe tbody tr th {\n",
       "        vertical-align: top;\n",
       "    }\n",
       "\n",
       "    .dataframe thead th {\n",
       "        text-align: right;\n",
       "    }\n",
       "</style>\n",
       "<table border=\"1\" class=\"dataframe\">\n",
       "  <thead>\n",
       "    <tr style=\"text-align: right;\">\n",
       "      <th>app_version_agrupada</th>\n",
       "      <th>25.3.18</th>\n",
       "      <th>25.4.24</th>\n",
       "      <th>25.5.23</th>\n",
       "      <th>Outros</th>\n",
       "    </tr>\n",
       "    <tr>\n",
       "      <th>sentiment_output</th>\n",
       "      <th></th>\n",
       "      <th></th>\n",
       "      <th></th>\n",
       "      <th></th>\n",
       "    </tr>\n",
       "  </thead>\n",
       "  <tbody>\n",
       "    <tr>\n",
       "      <th>NEG</th>\n",
       "      <td>26</td>\n",
       "      <td>63</td>\n",
       "      <td>507</td>\n",
       "      <td>44</td>\n",
       "    </tr>\n",
       "    <tr>\n",
       "      <th>NEU</th>\n",
       "      <td>65</td>\n",
       "      <td>255</td>\n",
       "      <td>1846</td>\n",
       "      <td>76</td>\n",
       "    </tr>\n",
       "    <tr>\n",
       "      <th>POS</th>\n",
       "      <td>18</td>\n",
       "      <td>144</td>\n",
       "      <td>1229</td>\n",
       "      <td>42</td>\n",
       "    </tr>\n",
       "  </tbody>\n",
       "</table>\n",
       "</div>"
      ],
      "text/plain": [
       "app_version_agrupada  25.3.18  25.4.24  25.5.23  Outros\n",
       "sentiment_output                                       \n",
       "NEG                        26       63      507      44\n",
       "NEU                        65      255     1846      76\n",
       "POS                        18      144     1229      42"
      ]
     },
     "execution_count": 66,
     "metadata": {},
     "output_type": "execute_result"
    }
   ],
   "source": [
    "frequencias = df[df['app'] == 'Vivo']['app_version'].value_counts()\n",
    "\n",
    "limiar = 50\n",
    "versoes_rare = frequencias[frequencias < limiar].index\n",
    "\n",
    "df['app_version_agrupada'] = df['app_version'].where(~df['app_version'].isin(versoes_rare), 'Outros')\n",
    "\n",
    "resultado = (df[df['app'] == 'Vivo']\n",
    "             .groupby(['sentiment_output', 'app_version_agrupada'])\n",
    "             .size()\n",
    "             .reset_index(name='contagem'))\n",
    "\n",
    "tabela = resultado.pivot(index='sentiment_output', columns='app_version_agrupada', values='contagem').fillna(0)\n",
    "tabela\n"
   ]
  },
  {
   "cell_type": "markdown",
   "id": "ee3d5305",
   "metadata": {},
   "source": [
    "### Sentimentos"
   ]
  },
  {
   "cell_type": "code",
   "execution_count": 67,
   "id": "68b3f5a8",
   "metadata": {},
   "outputs": [
    {
     "data": {
      "image/png": "[encoded data removed]",
      "text/plain": [
       "<Figure size 1000x600 with 1 Axes>"
      ]
     },
     "metadata": {},
     "output_type": "display_data"
    }
   ],
   "source": [
    "def map_sentiment(sent):\n",
    "    if sent in ['NEG', 'negativo']:\n",
    "        return 'Negativo'\n",
    "    elif sent in ['NEU', 'neutro']:\n",
    "        return 'Neutro'\n",
    "    elif sent in ['POS', 'positivo']:\n",
    "        return 'Positivo'\n",
    "    else:\n",
    "        return 'Outro'\n",
    "\n",
    "df['sentimento_simplificado'] = df['sentiment_output'].apply(map_sentiment)\n",
    "\n",
    "sns.set_style(\"darkgrid\")\n",
    "plt.figure(figsize=(10, 6))\n",
    "\n",
    "sns.countplot(\n",
    "    data=df,\n",
    "    x='app',\n",
    "    hue='sentimento_simplificado',\n",
    "    palette={'Negativo': '#FF4C4C', 'Neutro': '#FFFB00', 'Positivo': '#4CAF50'},\n",
    "    hue_order=['Negativo', 'Neutro', 'Positivo']\n",
    ")\n",
    "\n",
    "plt.title(\"Distribuição de Sentimentos por Operadora\", loc=\"center\")\n",
    "plt.xlabel(\"Operadora\")\n",
    "plt.ylabel(\"Quantidade de Comentários\")\n",
    "plt.legend(title=\"Sentimento\")\n",
    "\n",
    "plt.show()\n"
   ]
  },
  {
   "cell_type": "code",
   "execution_count": 22,
   "id": "4dc979bb",
   "metadata": {},
   "outputs": [
    {
     "data": {
      "image/png": "[encoded data removed]",
      "text/plain": [
       "<Figure size 1000x600 with 1 Axes>"
      ]
     },
     "metadata": {},
     "output_type": "display_data"
    }
   ],
   "source": [
    "def map_sentiment(row, limiar_neu=0.7):\n",
    "    sentiment = row.get('sentiment_output', '')\n",
    "    if sentiment == 'NEG':\n",
    "        return 'Negativo'\n",
    "    elif sentiment == 'POS':\n",
    "        return 'Positivo'\n",
    "    elif sentiment == 'NEU':\n",
    "        prob_pos = row.get('sentiment_POS', 0)\n",
    "        prob_neu = row.get('sentiment_NEU', 0)\n",
    "        prob_neg = row.get('sentiment_NEG', 0)\n",
    "        if prob_neu >= limiar_neu:\n",
    "            return \"Neutro\"\n",
    "        return \"Positivo\" if prob_pos > prob_neg else \"Negativo\"\n",
    "    else:\n",
    "        return sentiment\n",
    "\n",
    "df['sentimento_simplificado'] = df.apply(map_sentiment, axis=1)\n",
    "\n",
    "sns.set_style(\"darkgrid\")\n",
    "plt.figure(figsize=(10, 6))\n",
    "\n",
    "sns.countplot(\n",
    "    data=df,\n",
    "    x='app',\n",
    "    hue='sentimento_simplificado',\n",
    "    palette={'Negativo': '#FF4C4C', 'Neutro': '#FFFB00', 'Positivo': '#4CAF50'},\n",
    "    hue_order=['Negativo', 'Neutro', 'Positivo']\n",
    ")\n",
    "\n",
    "plt.title(\"Distribuição de Sentimentos por Operadora\", loc=\"center\")\n",
    "plt.xlabel(\"Operadora\")\n",
    "plt.ylabel(\"Quantidade de Comentários\")\n",
    "plt.legend(title=\"Sentimento\")\n",
    "\n",
    "plt.show()"
   ]
  },
  {
   "cell_type": "code",
   "execution_count": 68,
   "id": "a3951862",
   "metadata": {},
   "outputs": [
    {
     "data": {
      "image/png": "[encoded data removed]",
      "text/plain": [
       "<Figure size 1000x600 with 1 Axes>"
      ]
     },
     "metadata": {},
     "output_type": "display_data"
    }
   ],
   "source": [
    "def map_sentiment(row):\n",
    "    sentiment = row['sentiment_output']\n",
    "    if sentiment == \"NEG\":\n",
    "        prob = row.get('sentiment_NEG', 0)\n",
    "        if prob < 0.8:\n",
    "            return \"Negativo\"\n",
    "        else:\n",
    "            return \"Muito Negativo\"\n",
    "    elif sentiment == \"POS\":\n",
    "        prob = row.get('sentiment_POS', 0)\n",
    "        if prob < 0.8:\n",
    "            return \"Positivo\"\n",
    "        else:\n",
    "            return \"Muito Positivo\"\n",
    "    elif sentiment == \"NEU\":\n",
    "        return \"Neutro\"\n",
    "    else:\n",
    "        return sentiment\n",
    "df['sentimento_complexo'] = df.apply(map_sentiment, axis=1)\n",
    "\n",
    "sns.set_style(\"darkgrid\")\n",
    "plt.figure(figsize=(10, 6))\n",
    "\n",
    "sns.countplot(\n",
    "    data=df,\n",
    "    x='app',\n",
    "    hue='sentimento_complexo',\n",
    "    palette={'Muito Negativo': '#FF4C4C', 'Negativo': '#FFA500', 'Neutro': \"#FFFB00\",\n",
    "             'Positivo': \"#A0E95C\", 'Muito Positivo': '#4CAF50'},\n",
    "    hue_order=['Muito Negativo', 'Negativo', 'Neutro', 'Positivo', 'Muito Positivo']\n",
    ")\n",
    "\n",
    "plt.title(\"Distribuição de Sentimentos por Operadora\", loc=\"center\")\n",
    "plt.xlabel(\"Operadora\")\n",
    "plt.ylabel(\"Quantidade de Comentários\")\n",
    "plt.legend(title=\"Sentimento\")\n",
    "\n",
    "plt.show()"
   ]
  },
  {
   "cell_type": "code",
   "execution_count": 6,
   "id": "0ec643c5",
   "metadata": {},
   "outputs": [
    {
     "data": {
      "text/html": [
       "<div>\n",
       "<style scoped>\n",
       "    .dataframe tbody tr th:only-of-type {\n",
       "        vertical-align: middle;\n",
       "    }\n",
       "\n",
       "    .dataframe tbody tr th {\n",
       "        vertical-align: top;\n",
       "    }\n",
       "\n",
       "    .dataframe thead th {\n",
       "        text-align: right;\n",
       "    }\n",
       "</style>\n",
       "<table border=\"1\" class=\"dataframe\">\n",
       "  <thead>\n",
       "    <tr style=\"text-align: right;\">\n",
       "      <th></th>\n",
       "      <th>date</th>\n",
       "      <th>score</th>\n",
       "      <th>app_version</th>\n",
       "      <th>app</th>\n",
       "      <th>content</th>\n",
       "      <th>content_proc</th>\n",
       "      <th>sentiment_output</th>\n",
       "      <th>sentiment_NEG</th>\n",
       "      <th>sentiment_NEU</th>\n",
       "      <th>sentiment_POS</th>\n",
       "      <th>emotion_alegria</th>\n",
       "      <th>emotion_tristeza</th>\n",
       "      <th>emotion_raiva</th>\n",
       "      <th>emotion_medo</th>\n",
       "      <th>emotion_surpresa</th>\n",
       "      <th>emotion_confianca</th>\n",
       "      <th>emotion_confusao</th>\n",
       "      <th>emotion_neutro</th>\n",
       "      <th>emotion_output</th>\n",
       "    </tr>\n",
       "  </thead>\n",
       "  <tbody>\n",
       "    <tr>\n",
       "      <th>28</th>\n",
       "      <td>2025-06-08 10:18:20</td>\n",
       "      <td>1</td>\n",
       "      <td>18.8.0</td>\n",
       "      <td>Claro</td>\n",
       "      <td>🤬</td>\n",
       "      <td>rostocomsímbolosnabo</td>\n",
       "      <td>NEU</td>\n",
       "      <td>0.469658</td>\n",
       "      <td>0.486660</td>\n",
       "      <td>0.043682</td>\n",
       "      <td>0.011143</td>\n",
       "      <td>0.006256</td>\n",
       "      <td>0.043007</td>\n",
       "      <td>0.002886</td>\n",
       "      <td>0.003275</td>\n",
       "      <td>0.003816</td>\n",
       "      <td>0.001498</td>\n",
       "      <td>0.957762</td>\n",
       "      <td>neutro</td>\n",
       "    </tr>\n",
       "    <tr>\n",
       "      <th>60</th>\n",
       "      <td>2025-06-07 20:05:26</td>\n",
       "      <td>5</td>\n",
       "      <td>18.8.0</td>\n",
       "      <td>Claro</td>\n",
       "      <td>gostei</td>\n",
       "      <td>gostar</td>\n",
       "      <td>NEU</td>\n",
       "      <td>0.103688</td>\n",
       "      <td>0.450769</td>\n",
       "      <td>0.445543</td>\n",
       "      <td>0.845733</td>\n",
       "      <td>0.003938</td>\n",
       "      <td>0.036336</td>\n",
       "      <td>0.000890</td>\n",
       "      <td>0.003317</td>\n",
       "      <td>0.009860</td>\n",
       "      <td>0.001083</td>\n",
       "      <td>0.141101</td>\n",
       "      <td>alegria</td>\n",
       "    </tr>\n",
       "    <tr>\n",
       "      <th>164</th>\n",
       "      <td>2025-06-06 17:37:32</td>\n",
       "      <td>5</td>\n",
       "      <td>18.8.0</td>\n",
       "      <td>Claro</td>\n",
       "      <td>Estou satisfeito com a Claro.</td>\n",
       "      <td>satisfeito</td>\n",
       "      <td>NEU</td>\n",
       "      <td>0.080643</td>\n",
       "      <td>0.490474</td>\n",
       "      <td>0.428882</td>\n",
       "      <td>0.880103</td>\n",
       "      <td>0.002172</td>\n",
       "      <td>0.004947</td>\n",
       "      <td>0.000531</td>\n",
       "      <td>0.005445</td>\n",
       "      <td>0.005122</td>\n",
       "      <td>0.000507</td>\n",
       "      <td>0.217801</td>\n",
       "      <td>alegria</td>\n",
       "    </tr>\n",
       "    <tr>\n",
       "      <th>197</th>\n",
       "      <td>2025-06-06 10:15:30</td>\n",
       "      <td>1</td>\n",
       "      <td>NaN</td>\n",
       "      <td>Claro</td>\n",
       "      <td>ia fechar um plano pós, vendedora atendeu mal ...</td>\n",
       "      <td>fechar plano pós vendedor atender mal desistir...</td>\n",
       "      <td>NEU</td>\n",
       "      <td>0.449277</td>\n",
       "      <td>0.463483</td>\n",
       "      <td>0.087239</td>\n",
       "      <td>0.012236</td>\n",
       "      <td>0.006539</td>\n",
       "      <td>0.015041</td>\n",
       "      <td>0.001006</td>\n",
       "      <td>0.003241</td>\n",
       "      <td>0.005041</td>\n",
       "      <td>0.002441</td>\n",
       "      <td>0.987690</td>\n",
       "      <td>neutro</td>\n",
       "    </tr>\n",
       "    <tr>\n",
       "      <th>251</th>\n",
       "      <td>2025-06-05 18:03:24</td>\n",
       "      <td>4</td>\n",
       "      <td>18.8.0</td>\n",
       "      <td>Claro</td>\n",
       "      <td>estou gostando</td>\n",
       "      <td>gostar</td>\n",
       "      <td>NEU</td>\n",
       "      <td>0.103688</td>\n",
       "      <td>0.450769</td>\n",
       "      <td>0.445543</td>\n",
       "      <td>0.845733</td>\n",
       "      <td>0.003938</td>\n",
       "      <td>0.036336</td>\n",
       "      <td>0.000890</td>\n",
       "      <td>0.003317</td>\n",
       "      <td>0.009860</td>\n",
       "      <td>0.001083</td>\n",
       "      <td>0.141101</td>\n",
       "      <td>alegria</td>\n",
       "    </tr>\n",
       "  </tbody>\n",
       "</table>\n",
       "</div>"
      ],
      "text/plain": [
       "                    date  score app_version    app  \\\n",
       "28   2025-06-08 10:18:20      1      18.8.0  Claro   \n",
       "60   2025-06-07 20:05:26      5      18.8.0  Claro   \n",
       "164  2025-06-06 17:37:32      5      18.8.0  Claro   \n",
       "197  2025-06-06 10:15:30      1         NaN  Claro   \n",
       "251  2025-06-05 18:03:24      4      18.8.0  Claro   \n",
       "\n",
       "                                               content  \\\n",
       "28                                                   🤬   \n",
       "60                                              gostei   \n",
       "164                      Estou satisfeito com a Claro.   \n",
       "197  ia fechar um plano pós, vendedora atendeu mal ...   \n",
       "251                                     estou gostando   \n",
       "\n",
       "                                          content_proc sentiment_output  \\\n",
       "28                                rostocomsímbolosnabo              NEU   \n",
       "60                                              gostar              NEU   \n",
       "164                                         satisfeito              NEU   \n",
       "197  fechar plano pós vendedor atender mal desistir...              NEU   \n",
       "251                                             gostar              NEU   \n",
       "\n",
       "     sentiment_NEG  sentiment_NEU  sentiment_POS  emotion_alegria  \\\n",
       "28        0.469658       0.486660       0.043682         0.011143   \n",
       "60        0.103688       0.450769       0.445543         0.845733   \n",
       "164       0.080643       0.490474       0.428882         0.880103   \n",
       "197       0.449277       0.463483       0.087239         0.012236   \n",
       "251       0.103688       0.450769       0.445543         0.845733   \n",
       "\n",
       "     emotion_tristeza  emotion_raiva  emotion_medo  emotion_surpresa  \\\n",
       "28           0.006256       0.043007      0.002886          0.003275   \n",
       "60           0.003938       0.036336      0.000890          0.003317   \n",
       "164          0.002172       0.004947      0.000531          0.005445   \n",
       "197          0.006539       0.015041      0.001006          0.003241   \n",
       "251          0.003938       0.036336      0.000890          0.003317   \n",
       "\n",
       "     emotion_confianca  emotion_confusao  emotion_neutro emotion_output  \n",
       "28            0.003816          0.001498        0.957762         neutro  \n",
       "60            0.009860          0.001083        0.141101        alegria  \n",
       "164           0.005122          0.000507        0.217801        alegria  \n",
       "197           0.005041          0.002441        0.987690         neutro  \n",
       "251           0.009860          0.001083        0.141101        alegria  "
      ]
     },
     "execution_count": 6,
     "metadata": {},
     "output_type": "execute_result"
    }
   ],
   "source": [
    "df[(df[\"sentiment_output\"] == \"NEU\") & (df[\"sentiment_NEU\"] < 0.5)].head()"
   ]
  },
  {
   "cell_type": "code",
   "execution_count": 23,
   "id": "e560bad9",
   "metadata": {},
   "outputs": [
    {
     "data": {
      "image/png": "[encoded data removed]",
      "text/plain": [
       "<Figure size 1000x600 with 1 Axes>"
      ]
     },
     "metadata": {},
     "output_type": "display_data"
    }
   ],
   "source": [
    "def map_sentiment(row):\n",
    "    sentiment = row['sentiment_output']\n",
    "    if sentiment == \"NEG\":\n",
    "        prob = row.get('sentiment_NEG', 0)\n",
    "        if prob < 0.8:\n",
    "            return \"Negativo\"\n",
    "        else:\n",
    "            return \"Muito Negativo\"\n",
    "    elif sentiment == \"POS\":\n",
    "        prob = row.get('sentiment_POS', 0)\n",
    "        if prob < 0.8:\n",
    "            return \"Positivo\"\n",
    "        else:\n",
    "            return \"Muito Positivo\"\n",
    "    elif sentiment == \"NEU\":\n",
    "        prob_pos = row.get('sentiment_POS', 0)\n",
    "        prob_neu = row.get('sentiment_NEU', 0)\n",
    "        prob_neg = row.get('sentiment_NEG', 0)\n",
    "        if prob_neu >= 0.7:\n",
    "            return \"Neutro\"\n",
    "        return \"Positivo\" if prob_pos > prob_neg else \"Negativo\"\n",
    "    else:\n",
    "        return sentiment\n",
    "df['sentimento_complexo'] = df.apply(map_sentiment, axis=1)\n",
    "\n",
    "sns.set_style(\"darkgrid\")\n",
    "plt.figure(figsize=(10, 6))\n",
    "\n",
    "sns.countplot(\n",
    "    data=df,\n",
    "    x='app',\n",
    "    hue='sentimento_complexo',\n",
    "    palette={'Muito Negativo': '#FF4C4C', 'Negativo': '#FFA500', 'Neutro': \"#FFFB00\",\n",
    "             'Positivo': \"#A0E95C\", 'Muito Positivo': '#4CAF50'},\n",
    "    hue_order=['Muito Negativo', 'Negativo', 'Neutro', 'Positivo', 'Muito Positivo']\n",
    ")\n",
    "\n",
    "plt.title(\"Distribuição de Sentimentos por Operadora\", loc=\"center\")\n",
    "plt.xlabel(\"Operadora\")\n",
    "plt.ylabel(\"Quantidade de Comentários\")\n",
    "plt.legend(title=\"Sentimento\")\n",
    "\n",
    "plt.show()"
   ]
  },
  {
   "cell_type": "code",
   "execution_count": 28,
   "id": "239c269e",
   "metadata": {},
   "outputs": [
    {
     "data": {
      "application/vnd.plotly.v1+json": {
       "config": {
        "plotlyServerURL": "https://plot.ly"
       },
       "data": [
        {
         "fill": "toself",
         "line": {
          "color": "royalblue"
         },
         "name": "Vivo",
         "opacity": 0.7,
         "r": [
          0.6627087284597093,
          0.032032489829703296,
          0.07299084048061066,
          0.008645929261142356,
          0.006801018111164523,
          0.01714994489247334,
          0.004965886735125738,
          0.30642905767869344
         ],
         "subplot": "polar",
         "theta": [
          "Alegria",
          "Tristeza",
          "Raiva",
          "Medo",
          "Surpresa",
          "Confiança",
          "Confusão",
          "Neutro"
         ],
         "type": "scatterpolar"
        },
        {
         "fill": "toself",
         "line": {
          "color": "firebrick"
         },
         "name": "TIM",
         "opacity": 0.7,
         "r": [
          0.4430601121334773,
          0.06480598528934146,
          0.18388378061558883,
          0.02721618251540154,
          0.0079541961337097,
          0.015550428330243758,
          0.004726519754789732,
          0.3781490675915569
         ],
         "subplot": "polar2",
         "theta": [
          "Alegria",
          "Tristeza",
          "Raiva",
          "Medo",
          "Surpresa",
          "Confiança",
          "Confusão",
          "Neutro"
         ],
         "type": "scatterpolar"
        },
        {
         "fill": "toself",
         "line": {
          "color": "darkgreen"
         },
         "name": "Claro",
         "opacity": 0.7,
         "r": [
          0.6474253303721789,
          0.03596642495811468,
          0.0717460172425167,
          0.009741578833948099,
          0.008318583889425754,
          0.016802577934339084,
          0.0035768644953162987,
          0.3148275406670092
         ],
         "subplot": "polar3",
         "theta": [
          "Alegria",
          "Tristeza",
          "Raiva",
          "Medo",
          "Surpresa",
          "Confiança",
          "Confusão",
          "Neutro"
         ],
         "type": "scatterpolar"
        }
       ],
       "layout": {
        "annotations": [
         {
          "font": {
           "size": 16
          },
          "showarrow": false,
          "text": "Vivo",
          "x": 0.13,
          "xref": "paper",
          "y": 1.1,
          "yref": "paper"
         },
         {
          "font": {
           "size": 16
          },
          "showarrow": false,
          "text": "TIM",
          "x": 0.5,
          "xref": "paper",
          "y": 1.1,
          "yref": "paper"
         },
         {
          "font": {
           "size": 16
          },
          "showarrow": false,
          "text": "Claro",
          "x": 0.87,
          "xref": "paper",
          "y": 1.1,
          "yref": "paper"
         }
        ],
        "height": 650,
        "polar": {
         "domain": {
          "x": [
           0,
           0.2888888888888889
          ],
          "y": [
           0,
           1
          ]
         },
         "radialaxis": {
          "visible": false
         }
        },
        "polar2": {
         "domain": {
          "x": [
           0.35555555555555557,
           0.6444444444444445
          ],
          "y": [
           0,
           1
          ]
         },
         "radialaxis": {
          "visible": false
         }
        },
        "polar3": {
         "domain": {
          "x": [
           0.7111111111111111,
           1
          ],
          "y": [
           0,
           1
          ]
         },
         "radialaxis": {
          "visible": false
         }
        },
        "showlegend": false,
        "template": {
         "data": {
          "bar": [
           {
            "error_x": {
             "color": "#2a3f5f"
            },
            "error_y": {
             "color": "#2a3f5f"
            },
            "marker": {
             "line": {
              "color": "#E5ECF6",
              "width": 0.5
             },
             "pattern": {
              "fillmode": "overlay",
              "size": 10,
              "solidity": 0.2
             }
            },
            "type": "bar"
           }
          ],
          "barpolar": [
           {
            "marker": {
             "line": {
              "color": "#E5ECF6",
              "width": 0.5
             },
             "pattern": {
              "fillmode": "overlay",
              "size": 10,
              "solidity": 0.2
             }
            },
            "type": "barpolar"
           }
          ],
          "carpet": [
           {
            "aaxis": {
             "endlinecolor": "#2a3f5f",
             "gridcolor": "white",
             "linecolor": "white",
             "minorgridcolor": "white",
             "startlinecolor": "#2a3f5f"
            },
            "baxis": {
             "endlinecolor": "#2a3f5f",
             "gridcolor": "white",
             "linecolor": "white",
             "minorgridcolor": "white",
             "startlinecolor": "#2a3f5f"
            },
            "type": "carpet"
           }
          ],
          "choropleth": [
           {
            "colorbar": {
             "outlinewidth": 0,
             "ticks": ""
            },
            "type": "choropleth"
           }
          ],
          "contour": [
           {
            "colorbar": {
             "outlinewidth": 0,
             "ticks": ""
            },
            "colorscale": [
             [
              0,
              "#0d0887"
             ],
             [
              0.1111111111111111,
              "#46039f"
             ],
             [
              0.2222222222222222,
              "#7201a8"
             ],
             [
              0.3333333333333333,
              "#9c179e"
             ],
             [
              0.4444444444444444,
              "#bd3786"
             ],
             [
              0.5555555555555556,
              "#d8576b"
             ],
             [
              0.6666666666666666,
              "#ed7953"
             ],
             [
              0.7777777777777778,
              "#fb9f3a"
             ],
             [
              0.8888888888888888,
              "#fdca26"
             ],
             [
              1,
              "#f0f921"
             ]
            ],
            "type": "contour"
           }
          ],
          "contourcarpet": [
           {
            "colorbar": {
             "outlinewidth": 0,
             "ticks": ""
            },
            "type": "contourcarpet"
           }
          ],
          "heatmap": [
           {
            "colorbar": {
             "outlinewidth": 0,
             "ticks": ""
            },
            "colorscale": [
             [
              0,
              "#0d0887"
             ],
             [
              0.1111111111111111,
              "#46039f"
             ],
             [
              0.2222222222222222,
              "#7201a8"
             ],
             [
              0.3333333333333333,
              "#9c179e"
             ],
             [
              0.4444444444444444,
              "#bd3786"
             ],
             [
              0.5555555555555556,
              "#d8576b"
             ],
             [
              0.6666666666666666,
              "#ed7953"
             ],
             [
              0.7777777777777778,
              "#fb9f3a"
             ],
             [
              0.8888888888888888,
              "#fdca26"
             ],
             [
              1,
              "#f0f921"
             ]
            ],
            "type": "heatmap"
           }
          ],
          "histogram": [
           {
            "marker": {
             "pattern": {
              "fillmode": "overlay",
              "size": 10,
              "solidity": 0.2
             }
            },
            "type": "histogram"
           }
          ],
          "histogram2d": [
           {
            "colorbar": {
             "outlinewidth": 0,
             "ticks": ""
            },
            "colorscale": [
             [
              0,
              "#0d0887"
             ],
             [
              0.1111111111111111,
              "#46039f"
             ],
             [
              0.2222222222222222,
              "#7201a8"
             ],
             [
              0.3333333333333333,
              "#9c179e"
             ],
             [
              0.4444444444444444,
              "#bd3786"
             ],
             [
              0.5555555555555556,
              "#d8576b"
             ],
             [
              0.6666666666666666,
              "#ed7953"
             ],
             [
              0.7777777777777778,
              "#fb9f3a"
             ],
             [
              0.8888888888888888,
              "#fdca26"
             ],
             [
              1,
              "#f0f921"
             ]
            ],
            "type": "histogram2d"
           }
          ],
          "histogram2dcontour": [
           {
            "colorbar": {
             "outlinewidth": 0,
             "ticks": ""
            },
            "colorscale": [
             [
              0,
              "#0d0887"
             ],
             [
              0.1111111111111111,
              "#46039f"
             ],
             [
              0.2222222222222222,
              "#7201a8"
             ],
             [
              0.3333333333333333,
              "#9c179e"
             ],
             [
              0.4444444444444444,
              "#bd3786"
             ],
             [
              0.5555555555555556,
              "#d8576b"
             ],
             [
              0.6666666666666666,
              "#ed7953"
             ],
             [
              0.7777777777777778,
              "#fb9f3a"
             ],
             [
              0.8888888888888888,
              "#fdca26"
             ],
             [
              1,
              "#f0f921"
             ]
            ],
            "type": "histogram2dcontour"
           }
          ],
          "mesh3d": [
           {
            "colorbar": {
             "outlinewidth": 0,
             "ticks": ""
            },
            "type": "mesh3d"
           }
          ],
          "parcoords": [
           {
            "line": {
             "colorbar": {
              "outlinewidth": 0,
              "ticks": ""
             }
            },
            "type": "parcoords"
           }
          ],
          "pie": [
           {
            "automargin": true,
            "type": "pie"
           }
          ],
          "scatter": [
           {
            "fillpattern": {
             "fillmode": "overlay",
             "size": 10,
             "solidity": 0.2
            },
            "type": "scatter"
           }
          ],
          "scatter3d": [
           {
            "line": {
             "colorbar": {
              "outlinewidth": 0,
              "ticks": ""
             }
            },
            "marker": {
             "colorbar": {
              "outlinewidth": 0,
              "ticks": ""
             }
            },
            "type": "scatter3d"
           }
          ],
          "scattercarpet": [
           {
            "marker": {
             "colorbar": {
              "outlinewidth": 0,
              "ticks": ""
             }
            },
            "type": "scattercarpet"
           }
          ],
          "scattergeo": [
           {
            "marker": {
             "colorbar": {
              "outlinewidth": 0,
              "ticks": ""
             }
            },
            "type": "scattergeo"
           }
          ],
          "scattergl": [
           {
            "marker": {
             "colorbar": {
              "outlinewidth": 0,
              "ticks": ""
             }
            },
            "type": "scattergl"
           }
          ],
          "scattermap": [
           {
            "marker": {
             "colorbar": {
              "outlinewidth": 0,
              "ticks": ""
             }
            },
            "type": "scattermap"
           }
          ],
          "scattermapbox": [
           {
            "marker": {
             "colorbar": {
              "outlinewidth": 0,
              "ticks": ""
             }
            },
            "type": "scattermapbox"
           }
          ],
          "scatterpolar": [
           {
            "marker": {
             "colorbar": {
              "outlinewidth": 0,
              "ticks": ""
             }
            },
            "type": "scatterpolar"
           }
          ],
          "scatterpolargl": [
           {
            "marker": {
             "colorbar": {
              "outlinewidth": 0,
              "ticks": ""
             }
            },
            "type": "scatterpolargl"
           }
          ],
          "scatterternary": [
           {
            "marker": {
             "colorbar": {
              "outlinewidth": 0,
              "ticks": ""
             }
            },
            "type": "scatterternary"
           }
          ],
          "surface": [
           {
            "colorbar": {
             "outlinewidth": 0,
             "ticks": ""
            },
            "colorscale": [
             [
              0,
              "#0d0887"
             ],
             [
              0.1111111111111111,
              "#46039f"
             ],
             [
              0.2222222222222222,
              "#7201a8"
             ],
             [
              0.3333333333333333,
              "#9c179e"
             ],
             [
              0.4444444444444444,
              "#bd3786"
             ],
             [
              0.5555555555555556,
              "#d8576b"
             ],
             [
              0.6666666666666666,
              "#ed7953"
             ],
             [
              0.7777777777777778,
              "#fb9f3a"
             ],
             [
              0.8888888888888888,
              "#fdca26"
             ],
             [
              1,
              "#f0f921"
             ]
            ],
            "type": "surface"
           }
          ],
          "table": [
           {
            "cells": {
             "fill": {
              "color": "#EBF0F8"
             },
             "line": {
              "color": "white"
             }
            },
            "header": {
             "fill": {
              "color": "#C8D4E3"
             },
             "line": {
              "color": "white"
             }
            },
            "type": "table"
           }
          ]
         },
         "layout": {
          "annotationdefaults": {
           "arrowcolor": "#2a3f5f",
           "arrowhead": 0,
           "arrowwidth": 1
          },
          "autotypenumbers": "strict",
          "coloraxis": {
           "colorbar": {
            "outlinewidth": 0,
            "ticks": ""
           }
          },
          "colorscale": {
           "diverging": [
            [
             0,
             "#8e0152"
            ],
            [
             0.1,
             "#c51b7d"
            ],
            [
             0.2,
             "#de77ae"
            ],
            [
             0.3,
             "#f1b6da"
            ],
            [
             0.4,
             "#fde0ef"
            ],
            [
             0.5,
             "#f7f7f7"
            ],
            [
             0.6,
             "#e6f5d0"
            ],
            [
             0.7,
             "#b8e186"
            ],
            [
             0.8,
             "#7fbc41"
            ],
            [
             0.9,
             "#4d9221"
            ],
            [
             1,
             "#276419"
            ]
           ],
           "sequential": [
            [
             0,
             "#0d0887"
            ],
            [
             0.1111111111111111,
             "#46039f"
            ],
            [
             0.2222222222222222,
             "#7201a8"
            ],
            [
             0.3333333333333333,
             "#9c179e"
            ],
            [
             0.4444444444444444,
             "#bd3786"
            ],
            [
             0.5555555555555556,
             "#d8576b"
            ],
            [
             0.6666666666666666,
             "#ed7953"
            ],
            [
             0.7777777777777778,
             "#fb9f3a"
            ],
            [
             0.8888888888888888,
             "#fdca26"
            ],
            [
             1,
             "#f0f921"
            ]
           ],
           "sequentialminus": [
            [
             0,
             "#0d0887"
            ],
            [
             0.1111111111111111,
             "#46039f"
            ],
            [
             0.2222222222222222,
             "#7201a8"
            ],
            [
             0.3333333333333333,
             "#9c179e"
            ],
            [
             0.4444444444444444,
             "#bd3786"
            ],
            [
             0.5555555555555556,
             "#d8576b"
            ],
            [
             0.6666666666666666,
             "#ed7953"
            ],
            [
             0.7777777777777778,
             "#fb9f3a"
            ],
            [
             0.8888888888888888,
             "#fdca26"
            ],
            [
             1,
             "#f0f921"
            ]
           ]
          },
          "colorway": [
           "#636efa",
           "#EF553B",
           "#00cc96",
           "#ab63fa",
           "#FFA15A",
           "#19d3f3",
           "#FF6692",
           "#B6E880",
           "#FF97FF",
           "#FECB52"
          ],
          "font": {
           "color": "#2a3f5f"
          },
          "geo": {
           "bgcolor": "white",
           "lakecolor": "white",
           "landcolor": "#E5ECF6",
           "showlakes": true,
           "showland": true,
           "subunitcolor": "white"
          },
          "hoverlabel": {
           "align": "left"
          },
          "hovermode": "closest",
          "mapbox": {
           "style": "light"
          },
          "paper_bgcolor": "white",
          "plot_bgcolor": "#E5ECF6",
          "polar": {
           "angularaxis": {
            "gridcolor": "white",
            "linecolor": "white",
            "ticks": ""
           },
           "bgcolor": "#E5ECF6",
           "radialaxis": {
            "gridcolor": "white",
            "linecolor": "white",
            "ticks": ""
           }
          },
          "scene": {
           "xaxis": {
            "backgroundcolor": "#E5ECF6",
            "gridcolor": "white",
            "gridwidth": 2,
            "linecolor": "white",
            "showbackground": true,
            "ticks": "",
            "zerolinecolor": "white"
           },
           "yaxis": {
            "backgroundcolor": "#E5ECF6",
            "gridcolor": "white",
            "gridwidth": 2,
            "linecolor": "white",
            "showbackground": true,
            "ticks": "",
            "zerolinecolor": "white"
           },
           "zaxis": {
            "backgroundcolor": "#E5ECF6",
            "gridcolor": "white",
            "gridwidth": 2,
            "linecolor": "white",
            "showbackground": true,
            "ticks": "",
            "zerolinecolor": "white"
           }
          },
          "shapedefaults": {
           "line": {
            "color": "#2a3f5f"
           }
          },
          "ternary": {
           "aaxis": {
            "gridcolor": "white",
            "linecolor": "white",
            "ticks": ""
           },
           "baxis": {
            "gridcolor": "white",
            "linecolor": "white",
            "ticks": ""
           },
           "bgcolor": "#E5ECF6",
           "caxis": {
            "gridcolor": "white",
            "linecolor": "white",
            "ticks": ""
           }
          },
          "title": {
           "x": 0.05
          },
          "xaxis": {
           "automargin": true,
           "gridcolor": "white",
           "linecolor": "white",
           "ticks": "",
           "title": {
            "standoff": 15
           },
           "zerolinecolor": "white",
           "zerolinewidth": 2
          },
          "yaxis": {
           "automargin": true,
           "gridcolor": "white",
           "linecolor": "white",
           "ticks": "",
           "title": {
            "standoff": 15
           },
           "zerolinecolor": "white",
           "zerolinewidth": 2
          }
         }
        },
        "title": {
         "text": "Distribuição de Emoções por Operadora"
        },
        "width": 1800
       }
      }
     },
     "metadata": {},
     "output_type": "display_data"
    }
   ],
   "source": [
    "values_claro = df[df['app'] == 'Claro'][['emotion_alegria', 'emotion_tristeza', 'emotion_raiva',\n",
    "              'emotion_medo', 'emotion_surpresa', 'emotion_confianca',\n",
    "              'emotion_confusao', 'emotion_neutro']].mean().tolist()\n",
    "\n",
    "values_tim = df[df['app'] == 'TIM'][['emotion_alegria', 'emotion_tristeza', 'emotion_raiva',\n",
    "              'emotion_medo', 'emotion_surpresa', 'emotion_confianca',\n",
    "              'emotion_confusao', 'emotion_neutro']].mean().tolist()\n",
    "\n",
    "values_vivo = df[df['app'] == 'Vivo'][['emotion_alegria', 'emotion_tristeza', 'emotion_raiva',\n",
    "              'emotion_medo', 'emotion_surpresa', 'emotion_confianca',\n",
    "              'emotion_confusao', 'emotion_neutro']].mean().tolist()\n",
    "\n",
    "categories = ['Alegria', 'Tristeza', 'Raiva', 'Medo', 'Surpresa', 'Confiança', 'Confusão', 'Neutro']\n",
    "\n",
    "# Valores de exemplo para cada operadora\n",
    "values_vivo = values_vivo\n",
    "values_tim = values_tim\n",
    "values_claro = values_claro\n",
    "\n",
    "# Criar subplots\n",
    "fig = make_subplots(\n",
    "    rows=1, cols=3,\n",
    "    specs=[[{'type': 'polar'}, {'type': 'polar'}, {'type': 'polar'}]]\n",
    ")\n",
    "\n",
    "# Gráfico Vivo\n",
    "fig.add_trace(go.Scatterpolar(\n",
    "    r=values_vivo,  # Não fechando a linha\n",
    "    theta=categories,\n",
    "    fill='toself',\n",
    "    name='Vivo',\n",
    "    line=dict(color='royalblue'),\n",
    "    opacity=0.7\n",
    "), row=1, col=1)\n",
    "\n",
    "# Gráfico TIM\n",
    "fig.add_trace(go.Scatterpolar(\n",
    "    r=values_tim,\n",
    "    theta=categories,\n",
    "    fill='toself',\n",
    "    name='TIM',\n",
    "    line=dict(color='firebrick'),\n",
    "    opacity=0.7\n",
    "), row=1, col=2)\n",
    "\n",
    "# Gráfico Claro\n",
    "fig.add_trace(go.Scatterpolar(\n",
    "    r=values_claro,\n",
    "    theta=categories,\n",
    "    fill='toself',\n",
    "    name='Claro',\n",
    "    line=dict(color='darkgreen'),\n",
    "    opacity=0.7\n",
    "), row=1, col=3)\n",
    "\n",
    "# Ajustar o layout geral\n",
    "fig.update_layout(\n",
    "    showlegend=False,\n",
    "    title_text=\"Distribuição de Emoções por Operadora\",\n",
    "    height=650, width=1800,\n",
    ")\n",
    "\n",
    "fig.update_layout(\n",
    "    polar=dict(radialaxis=dict(visible=False)),\n",
    "    polar2=dict(radialaxis=dict(visible=False)),\n",
    "    polar3=dict(radialaxis=dict(visible=False))\n",
    ")\n",
    "\n",
    "\n",
    "# Ajuste do posicionamento dos títulos: mais para cima\n",
    "fig.add_annotation(dict(font=dict(size=16),\n",
    "                        x=0.13,\n",
    "                        y=1.1,\n",
    "                        showarrow=False,\n",
    "                        text=\"Vivo\",\n",
    "                        xref=\"paper\",\n",
    "                        yref=\"paper\"))\n",
    "\n",
    "fig.add_annotation(dict(font=dict(size=16),\n",
    "                        x=0.5,\n",
    "                        y=1.1,\n",
    "                        showarrow=False,\n",
    "                        text=\"TIM\",\n",
    "                        xref=\"paper\",\n",
    "                        yref=\"paper\"))\n",
    "\n",
    "fig.add_annotation(dict(font=dict(size=16),\n",
    "                        x=0.87,\n",
    "                        y=1.1,\n",
    "                        showarrow=False,\n",
    "                        text=\"Claro\",\n",
    "                        xref=\"paper\",\n",
    "                        yref=\"paper\"))\n",
    "\n",
    "fig.show()\n"
   ]
  },
  {
   "cell_type": "markdown",
   "id": "4c620f72",
   "metadata": {},
   "source": [
    "# Classificação de Temas\n",
    "\n",
    "passar todo o tratamento no NLTK ou outras libs para fazer uma word cloud e saber os principais temas aboradas nos comentários\n"
   ]
  },
  {
   "cell_type": "code",
   "execution_count": 10,
   "id": "b82a7db9",
   "metadata": {},
   "outputs": [],
   "source": [
    "df = pd.read_csv(\"comentarios_processados.csv\")"
   ]
  },
  {
   "cell_type": "code",
   "execution_count": 46,
   "id": "506e4707",
   "metadata": {},
   "outputs": [
    {
     "data": {
      "text/plain": [
       "content_proc\n",
       "False    0.992067\n",
       "True     0.007933\n",
       "Name: proportion, dtype: float64"
      ]
     },
     "execution_count": 46,
     "metadata": {},
     "output_type": "execute_result"
    }
   ],
   "source": [
    "df['content_proc'].isnull().value_counts(normalize=True)"
   ]
  },
  {
   "cell_type": "code",
   "execution_count": 63,
   "id": "089fd521",
   "metadata": {},
   "outputs": [
    {
     "name": "stderr",
     "output_type": "stream",
     "text": [
      "2025-06-09 21:02:41,256 - BERTopic - Embedding - Transforming documents to embeddings.\n",
      "Batches: 100%|██████████| 466/466 [00:54<00:00,  8.48it/s]\n",
      "2025-06-09 21:03:39,754 - BERTopic - Embedding - Completed ✓\n",
      "2025-06-09 21:03:39,755 - BERTopic - Dimensionality - Fitting the dimensionality reduction algorithm\n",
      "2025-06-09 21:03:48,441 - BERTopic - Dimensionality - Completed ✓\n",
      "2025-06-09 21:03:48,444 - BERTopic - Cluster - Start clustering the reduced embeddings\n",
      "2025-06-09 21:04:43,189 - BERTopic - Cluster - Completed ✓\n",
      "2025-06-09 21:04:43,193 - BERTopic - Representation - Fine-tuning topics using representation models.\n",
      "2025-06-09 21:04:43,466 - BERTopic - Representation - Completed ✓\n"
     ]
    }
   ],
   "source": [
    "# Remover valores nulos e garantir que tudo é string\n",
    "docs = df['content_proc'].dropna().astype(str).tolist()\n",
    "\n",
    "# Agora sim, aplicar BERTopic\n",
    "topic_model = BERTopic(language=\"portuguese\", calculate_probabilities=True, verbose=True)\n",
    "temas_originais, _ = topic_model.fit_transform(docs)"
   ]
  },
  {
   "cell_type": "code",
   "execution_count": 64,
   "id": "63bdc836",
   "metadata": {},
   "outputs": [
    {
     "name": "stderr",
     "output_type": "stream",
     "text": [
      "2025-06-09 21:04:44,027 - BERTopic - Topic reduction - Reducing number of topics\n",
      "2025-06-09 21:04:44,045 - BERTopic - Representation - Fine-tuning topics using representation models.\n",
      "2025-06-09 21:04:44,125 - BERTopic - Representation - Completed ✓\n",
      "2025-06-09 21:04:44,128 - BERTopic - Topic reduction - Reduced number of topics from 226 to 10\n",
      "Batches: 100%|██████████| 466/466 [00:40<00:00, 11.41it/s]\n",
      "2025-06-09 21:05:25,196 - BERTopic - Dimensionality - Reducing dimensionality of input embeddings.\n",
      "2025-06-09 21:05:25,234 - BERTopic - Dimensionality - Completed ✓\n",
      "2025-06-09 21:05:25,235 - BERTopic - Clustering - Approximating new points with `hdbscan_model`\n",
      "2025-06-09 21:05:26,032 - BERTopic - Probabilities - Start calculation of probabilities with HDBSCAN\n",
      "2025-06-09 21:06:22,219 - BERTopic - Probabilities - Completed ✓\n",
      "2025-06-09 21:06:22,220 - BERTopic - Cluster - Completed ✓\n"
     ]
    }
   ],
   "source": [
    "topic_model.reduce_topics(docs, nr_topics=10)\n",
    "temas_reduzidos = topic_model.transform(docs)[0]"
   ]
  },
  {
   "cell_type": "code",
   "execution_count": 71,
   "id": "6f7911c6",
   "metadata": {},
   "outputs": [
    {
     "data": {
      "text/html": [
       "<div>\n",
       "<style scoped>\n",
       "    .dataframe tbody tr th:only-of-type {\n",
       "        vertical-align: middle;\n",
       "    }\n",
       "\n",
       "    .dataframe tbody tr th {\n",
       "        vertical-align: top;\n",
       "    }\n",
       "\n",
       "    .dataframe thead th {\n",
       "        text-align: right;\n",
       "    }\n",
       "</style>\n",
       "<table border=\"1\" class=\"dataframe\">\n",
       "  <thead>\n",
       "    <tr style=\"text-align: right;\">\n",
       "      <th></th>\n",
       "      <th>Topic</th>\n",
       "      <th>Count</th>\n",
       "      <th>Name</th>\n",
       "      <th>Representation</th>\n",
       "      <th>Representative_Docs</th>\n",
       "    </tr>\n",
       "  </thead>\n",
       "  <tbody>\n",
       "    <tr>\n",
       "      <th>0</th>\n",
       "      <td>-1</td>\n",
       "      <td>3300</td>\n",
       "      <td>-1_ter_app_aplicativo_conseguir</td>\n",
       "      <td>[ter, app, aplicativo, conseguir, fazer, inter...</td>\n",
       "      <td>[nada funcionar app fazer dois dia conseguir a...</td>\n",
       "    </tr>\n",
       "    <tr>\n",
       "      <th>1</th>\n",
       "      <td>0</td>\n",
       "      <td>8011</td>\n",
       "      <td>0_bom_excelente_top_gostar</td>\n",
       "      <td>[bom, excelente, top, gostar, otimo, polegarpa...</td>\n",
       "      <td>[bom, bom, bom]</td>\n",
       "    </tr>\n",
       "    <tr>\n",
       "      <th>2</th>\n",
       "      <td>1</td>\n",
       "      <td>1601</td>\n",
       "      <td>1_app_aplicativo_conseguir_chip</td>\n",
       "      <td>[app, aplicativo, conseguir, chip, ter, abrir,...</td>\n",
       "      <td>[bom app, app bom, bom app]</td>\n",
       "    </tr>\n",
       "    <tr>\n",
       "      <th>3</th>\n",
       "      <td>2</td>\n",
       "      <td>688</td>\n",
       "      <td>2_internet_ter_propaganda_whatsapp</td>\n",
       "      <td>[internet, ter, propaganda, whatsapp, celular,...</td>\n",
       "      <td>[internet bom, bom internet, internet]</td>\n",
       "    </tr>\n",
       "    <tr>\n",
       "      <th>4</th>\n",
       "      <td>3</td>\n",
       "      <td>598</td>\n",
       "      <td>3_péssimo_ruim_horrível_nada</td>\n",
       "      <td>[péssimo, ruim, horrível, nada, atualizar, res...</td>\n",
       "      <td>[péssimo, péssimo, péssimo]</td>\n",
       "    </tr>\n",
       "    <tr>\n",
       "      <th>5</th>\n",
       "      <td>4</td>\n",
       "      <td>491</td>\n",
       "      <td>4_pagar_fatura_pagamento_conta</td>\n",
       "      <td>[pagar, fatura, pagamento, conta, crédito, con...</td>\n",
       "      <td>[conseguir pagar fatura fazer, conseguir pagar...</td>\n",
       "    </tr>\n",
       "    <tr>\n",
       "      <th>6</th>\n",
       "      <td>5</td>\n",
       "      <td>90</td>\n",
       "      <td>5_brasil_melhor_operadora_maravilha</td>\n",
       "      <td>[brasil, melhor, operadora, maravilha, interne...</td>\n",
       "      <td>[melhor operadora brasil, melhor operadora bra...</td>\n",
       "    </tr>\n",
       "    <tr>\n",
       "      <th>7</th>\n",
       "      <td>6</td>\n",
       "      <td>46</td>\n",
       "      <td>6_fibra_youtube_ultro_ter</td>\n",
       "      <td>[fibra, youtube, ultro, ter, conseguir, app, n...</td>\n",
       "      <td>[abrir ultro fibra aplicativo, ter fibra opcao...</td>\n",
       "    </tr>\n",
       "    <tr>\n",
       "      <th>8</th>\n",
       "      <td>7</td>\n",
       "      <td>37</td>\n",
       "      <td>7_coração_vermelho_coraçãovermelho_coraçãoroxo</td>\n",
       "      <td>[coração, vermelho, coraçãovermelho, coraçãoro...</td>\n",
       "      <td>[coração vermelho, coração vermelho, coração v...</td>\n",
       "    </tr>\n",
       "    <tr>\n",
       "      <th>9</th>\n",
       "      <td>8</td>\n",
       "      <td>19</td>\n",
       "      <td>8_regular_normal_novidade_enquanto</td>\n",
       "      <td>[regular, normal, novidade, enquanto, experiên...</td>\n",
       "      <td>[regular, regular, regular]</td>\n",
       "    </tr>\n",
       "  </tbody>\n",
       "</table>\n",
       "</div>"
      ],
      "text/plain": [
       "   Topic  Count                                            Name  \\\n",
       "0     -1   3300                 -1_ter_app_aplicativo_conseguir   \n",
       "1      0   8011                      0_bom_excelente_top_gostar   \n",
       "2      1   1601                 1_app_aplicativo_conseguir_chip   \n",
       "3      2    688              2_internet_ter_propaganda_whatsapp   \n",
       "4      3    598                    3_péssimo_ruim_horrível_nada   \n",
       "5      4    491                  4_pagar_fatura_pagamento_conta   \n",
       "6      5     90             5_brasil_melhor_operadora_maravilha   \n",
       "7      6     46                       6_fibra_youtube_ultro_ter   \n",
       "8      7     37  7_coração_vermelho_coraçãovermelho_coraçãoroxo   \n",
       "9      8     19              8_regular_normal_novidade_enquanto   \n",
       "\n",
       "                                      Representation  \\\n",
       "0  [ter, app, aplicativo, conseguir, fazer, inter...   \n",
       "1  [bom, excelente, top, gostar, otimo, polegarpa...   \n",
       "2  [app, aplicativo, conseguir, chip, ter, abrir,...   \n",
       "3  [internet, ter, propaganda, whatsapp, celular,...   \n",
       "4  [péssimo, ruim, horrível, nada, atualizar, res...   \n",
       "5  [pagar, fatura, pagamento, conta, crédito, con...   \n",
       "6  [brasil, melhor, operadora, maravilha, interne...   \n",
       "7  [fibra, youtube, ultro, ter, conseguir, app, n...   \n",
       "8  [coração, vermelho, coraçãovermelho, coraçãoro...   \n",
       "9  [regular, normal, novidade, enquanto, experiên...   \n",
       "\n",
       "                                 Representative_Docs  \n",
       "0  [nada funcionar app fazer dois dia conseguir a...  \n",
       "1                                    [bom, bom, bom]  \n",
       "2                        [bom app, app bom, bom app]  \n",
       "3             [internet bom, bom internet, internet]  \n",
       "4                        [péssimo, péssimo, péssimo]  \n",
       "5  [conseguir pagar fatura fazer, conseguir pagar...  \n",
       "6  [melhor operadora brasil, melhor operadora bra...  \n",
       "7  [abrir ultro fibra aplicativo, ter fibra opcao...  \n",
       "8  [coração vermelho, coração vermelho, coração v...  \n",
       "9                        [regular, regular, regular]  "
      ]
     },
     "execution_count": 71,
     "metadata": {},
     "output_type": "execute_result"
    }
   ],
   "source": [
    "topic_model.get_topic_info()"
   ]
  },
  {
   "cell_type": "code",
   "execution_count": 77,
   "id": "bc9899be",
   "metadata": {},
   "outputs": [
    {
     "data": {
      "text/html": [
       "<div>\n",
       "<style scoped>\n",
       "    .dataframe tbody tr th:only-of-type {\n",
       "        vertical-align: middle;\n",
       "    }\n",
       "\n",
       "    .dataframe tbody tr th {\n",
       "        vertical-align: top;\n",
       "    }\n",
       "\n",
       "    .dataframe thead th {\n",
       "        text-align: right;\n",
       "    }\n",
       "</style>\n",
       "<table border=\"1\" class=\"dataframe\">\n",
       "  <thead>\n",
       "    <tr style=\"text-align: right;\">\n",
       "      <th></th>\n",
       "      <th>palavra</th>\n",
       "      <th>frequencia</th>\n",
       "    </tr>\n",
       "  </thead>\n",
       "  <tbody>\n",
       "    <tr>\n",
       "      <th>0</th>\n",
       "      <td>bom</td>\n",
       "      <td>5939</td>\n",
       "    </tr>\n",
       "    <tr>\n",
       "      <th>10</th>\n",
       "      <td>ter</td>\n",
       "      <td>2014</td>\n",
       "    </tr>\n",
       "    <tr>\n",
       "      <th>83</th>\n",
       "      <td>app</td>\n",
       "      <td>1933</td>\n",
       "    </tr>\n",
       "    <tr>\n",
       "      <th>17</th>\n",
       "      <td>aplicativo</td>\n",
       "      <td>1609</td>\n",
       "    </tr>\n",
       "    <tr>\n",
       "      <th>86</th>\n",
       "      <td>conseguir</td>\n",
       "      <td>1313</td>\n",
       "    </tr>\n",
       "  </tbody>\n",
       "</table>\n",
       "</div>"
      ],
      "text/plain": [
       "       palavra  frequencia\n",
       "0          bom        5939\n",
       "10         ter        2014\n",
       "83         app        1933\n",
       "17  aplicativo        1609\n",
       "86   conseguir        1313"
      ]
     },
     "execution_count": 77,
     "metadata": {},
     "output_type": "execute_result"
    }
   ],
   "source": [
    "from collections import Counter\n",
    "\n",
    "# Suponha que sua coluna se chame 'comentarios_tratados'\n",
    "# e que cada linha seja uma string com palavras separadas por espaço\n",
    "\n",
    "# 1. Juntar todos os comentários em uma única string\n",
    "todos_os_comentarios = ' '.join(df['content_proc'].dropna())\n",
    "\n",
    "# 2. Quebrar em palavras\n",
    "palavras = todos_os_comentarios.split()\n",
    "\n",
    "# 3. Contar com Counter\n",
    "contagem = Counter(palavras)\n",
    "\n",
    "# 4. Transformar em DataFrame, se quiser visualizar melhor\n",
    "contagem_df = pd.DataFrame(contagem.items(), columns=['palavra', 'frequencia']).sort_values(by='frequencia', ascending=False)\n",
    "\n",
    "contagem_df.head()\n"
   ]
  },
  {
   "cell_type": "markdown",
   "id": "1c757872",
   "metadata": {},
   "source": [
    "Passar um segundo filtro de palavras para a classificação\n",
    "\n",
    "'ter', 'app', 'aplicativo', 'app'"
   ]
  },
  {
   "cell_type": "code",
   "execution_count": 75,
   "id": "e4c24166",
   "metadata": {},
   "outputs": [
    {
     "name": "stdout",
     "output_type": "stream",
     "text": [
      "Tema -1:\n",
      "[('ter', np.float64(0.043290192137629385)), ('app', np.float64(0.039257660381894044)), ('aplicativo', np.float64(0.03270728933254445)), ('conseguir', np.float64(0.03269691941932076)), ('fazer', np.float64(0.03239264147999001)), ('internet', np.float64(0.0313278314659419)), ('pra', np.float64(0.031083853847296887)), ('plano', np.float64(0.029275983672813)), ('ficar', np.float64(0.024685846836367008)), ('nada', np.float64(0.02447786655786395))]\n",
      "----------------------------------------\n",
      "Tema 0:\n",
      "[('bom', np.float64(0.25333610657246414)), ('excelente', np.float64(0.08522282017278712)), ('top', np.float64(0.0614974925807147)), ('gostar', np.float64(0.05941282267235116)), ('otimo', np.float64(0.04885693110903545)), ('polegarparacima', np.float64(0.047366214380563834)), ('mãosaplaudindo', np.float64(0.04029346016194605)), ('prático', np.float64(0.03906652640189184)), ('parabéns', np.float64(0.036311521785832766)), ('melhor', np.float64(0.032713200076493636))]\n",
      "----------------------------------------\n",
      "Tema 1:\n",
      "[('app', np.float64(0.10795753767424326)), ('aplicativo', np.float64(0.10459952031420203)), ('conseguir', np.float64(0.04348725252593747)), ('chip', np.float64(0.03616245777526789)), ('ter', np.float64(0.03607481647519162)), ('abrir', np.float64(0.033765584848598464)), ('fazer', np.float64(0.032546448689697347)), ('horrível', np.float64(0.031979587051207785)), ('bom', np.float64(0.030988775477602915)), ('pra', np.float64(0.029681449335749302))]\n",
      "----------------------------------------\n",
      "Tema 2:\n",
      "[('internet', np.float64(0.10789639258281618)), ('ter', np.float64(0.049626652422944444)), ('propaganda', np.float64(0.0490019263634867)), ('whatsapp', np.float64(0.041385417798812)), ('celular', np.float64(0.033183331838087374)), ('pra', np.float64(0.03279434177179076)), ('conseguir', np.float64(0.03135410802755198)), ('acesso', np.float64(0.031174321110357346)), ('fazer', np.float64(0.028542359665803117)), ('ficar', np.float64(0.027409484914001483))]\n",
      "----------------------------------------\n",
      "Tema 3:\n",
      "[('péssimo', np.float64(0.20838963530797783)), ('ruim', np.float64(0.13679961965321183)), ('horrível', np.float64(0.11101444682271218)), ('nada', np.float64(0.09385423219411623)), ('atualizar', np.float64(0.0776461691977958)), ('resolver', np.float64(0.07623964544011685)), ('atualização', np.float64(0.06502425662740154)), ('atendimento', np.float64(0.054597575046560855)), ('problema', np.float64(0.047158788164049836)), ('pessimo', np.float64(0.04500074549517416))]\n",
      "----------------------------------------\n",
      "Tema 4:\n",
      "[('pagar', np.float64(0.1186022425936803)), ('fatura', np.float64(0.11792057221266392)), ('pagamento', np.float64(0.06359591623900405)), ('conta', np.float64(0.061347486033914475)), ('crédito', np.float64(0.06015721112696206)), ('conseguir', np.float64(0.053660534273917426)), ('mês', np.float64(0.0482500252612887)), ('querer', np.float64(0.046913479814859806)), ('cancelar', np.float64(0.046846936728515434)), ('plano', np.float64(0.04220686703041461))]\n",
      "----------------------------------------\n",
      "Tema 5:\n",
      "[('brasil', np.float64(0.3649428914088912)), ('melhor', np.float64(0.1691691500580234)), ('operadora', np.float64(0.10106786827125279)), ('maravilha', np.float64(0.05865389145225492)), ('internet', np.float64(0.051416384261078654)), ('pra', np.float64(0.04887190678448648)), ('ter', np.float64(0.04709483218170752)), ('pior', np.float64(0.03895059609395934)), ('telefonia', np.float64(0.038125077840947104)), ('brasileiro', np.float64(0.03758104480886069))]\n",
      "----------------------------------------\n",
      "Tema 6:\n",
      "[('fibra', np.float64(0.2594361203392883)), ('youtube', np.float64(0.13123793418951504)), ('ultro', np.float64(0.08335871766910788)), ('ter', np.float64(0.05721688748974504)), ('conseguir', np.float64(0.056768287224144315)), ('app', np.float64(0.049725106700579884)), ('netflix', np.float64(0.04664950775702345)), ('celular', np.float64(0.04551529896437474)), ('acessar', np.float64(0.03829669950847098)), ('aplicativo', np.float64(0.03771555577487993))]\n",
      "----------------------------------------\n",
      "Tema 7:\n",
      "[('coração', np.float64(0.9245624999649469)), ('vermelho', np.float64(0.8311941925884637)), ('coraçãovermelho', np.float64(0.3446486661580857)), ('coraçãoroxo', np.float64(0.24823609122851648)), ('melhor', np.float64(0.12489641423777424)), ('amar', np.float64(0.12472592153410154)), ('rostosorridentecomolhosdecoração', np.float64(0.106409696467182)), ('coraçãobranco', np.float64(0.08650229965386551)), ('coraçõesgirando', np.float64(0.08230181656913879)), ('amair', np.float64(0.0817833266182918))]\n",
      "----------------------------------------\n",
      "Tema 8:\n",
      "[('regular', np.float64(2.698738484537368)), ('normal', np.float64(2.0919119302957023)), ('novidade', np.float64(0.28079089728056045)), ('enquanto', np.float64(0.20306955995929576)), ('experiência', np.float64(0.16756324250935112)), ('uso', np.float64(0.16599978203919236)), ('bom', np.float64(0.03683414085198061)), ('', 1e-05), ('', 1e-05), ('', 1e-05)]\n",
      "----------------------------------------\n"
     ]
    }
   ],
   "source": [
    "for topic_num in topic_model.get_topics():\n",
    "    print(f\"Tema {topic_num}:\")\n",
    "    print(topic_model.get_topic(topic_num))\n",
    "    print(\"-\" * 40)\n"
   ]
  },
  {
   "cell_type": "code",
   "execution_count": 74,
   "id": "1a8d3e7d",
   "metadata": {},
   "outputs": [
    {
     "data": {
      "text/plain": [
       "[('ter', np.float64(0.043290192137629385)),\n",
       " ('app', np.float64(0.039257660381894044)),\n",
       " ('aplicativo', np.float64(0.03270728933254445)),\n",
       " ('conseguir', np.float64(0.03269691941932076)),\n",
       " ('fazer', np.float64(0.03239264147999001)),\n",
       " ('internet', np.float64(0.0313278314659419)),\n",
       " ('pra', np.float64(0.031083853847296887)),\n",
       " ('plano', np.float64(0.029275983672813)),\n",
       " ('ficar', np.float64(0.024685846836367008)),\n",
       " ('nada', np.float64(0.02447786655786395))]"
      ]
     },
     "execution_count": 74,
     "metadata": {},
     "output_type": "execute_result"
    }
   ],
   "source": [
    "topic_model.get_topic(-1)"
   ]
  },
  {
   "cell_type": "code",
   "execution_count": 66,
   "id": "c9183a21",
   "metadata": {},
   "outputs": [],
   "source": [
    "# Passo 4: Adicionar coluna 'tema' reduzido no DataFrame\n",
    "df[\"tema\"] = temas_reduzidos"
   ]
  },
  {
   "cell_type": "code",
   "execution_count": 68,
   "id": "fa9e5eca",
   "metadata": {},
   "outputs": [],
   "source": [
    "# Passo 6: Agregar por tema reduzido\n",
    "df_tema = (\n",
    "    df.groupby(\"tema\")\n",
    "    .agg(volume=(\"content_proc\", \"count\"), sentimento_medio=(\"sentiment_output\", lambda x: x.map({\"POS\": 1, \"NEU\": 0, \"NEG\": -1}).mean()))\n",
    "    .reset_index()\n",
    ")"
   ]
  },
  {
   "cell_type": "code",
   "execution_count": 69,
   "id": "52a89e24",
   "metadata": {},
   "outputs": [],
   "source": [
    "# Passo 7: Calcular percentual\n",
    "df_tema[\"volume_pct\"] = df_tema[\"volume\"] / df_tema[\"volume\"].sum() * 100\n",
    "\n",
    "# Passo 8: Obter rótulo mais representativo de cada grupo\n",
    "df_tema[\"tema_nome\"] = df_tema[\"tema\"].apply(lambda x: topic_model.get_topic_info().set_index(\"Topic\").loc[x][\"Name\"])"
   ]
  },
  {
   "cell_type": "code",
   "execution_count": 70,
   "id": "443829db",
   "metadata": {},
   "outputs": [
    {
     "data": {
      "image/png": "[encoded data removed]",
      "text/plain": [
       "<Figure size 1000x600 with 1 Axes>"
      ]
     },
     "metadata": {},
     "output_type": "display_data"
    }
   ],
   "source": [
    "# Passo 9: Plotar gráfico\n",
    "plt.figure(figsize=(10, 6))\n",
    "plt.scatter(df_tema[\"volume_pct\"], df_tema[\"sentimento_medio\"], s=100, alpha=0.7)\n",
    "\n",
    "# Anotar cada ponto\n",
    "for _, row in df_tema.iterrows():\n",
    "    plt.text(row[\"volume_pct\"] + 0.5, row[\"sentimento_medio\"], row[\"tema_nome\"], fontsize=9)\n",
    "\n",
    "plt.title(\"Temas mais representativos após redução (com sentimento)\")\n",
    "plt.xlabel(\"Volume (%)\")\n",
    "plt.ylabel(\"Sentimento médio (-1 a 1)\")\n",
    "plt.grid(True)\n",
    "plt.show()"
   ]
  },
  {
   "cell_type": "markdown",
   "id": "c0534cab",
   "metadata": {},
   "source": [
    "# Próximas Etapas a serem feitas\n",
    "\n",
    "### Tratamentos\n",
    "- **OK** - Extração 10k comentários\n",
    "- **OK** - Apenas comentários de Android\n",
    "- **OK** - Data mínima e máxima dos comentários de cada app, estão coesas\n",
    "- **OK** - Ortográfia\n",
    "- **OK** - Emoji\n",
    "- **NOTOK** - Abreviações e gírias - Muito complicado para fazer\n",
    "\n",
    "### Análise Exploratória\n",
    "- **OK** - Data mínima e máxima dos comentários de cada app, estão coesas\n",
    "- **OK** - Sentimento Geral por versão\n",
    "- **OK** - Volume geral por versão do app\n",
    "- **OK** - Nota média dos comentários por versão\n",
    "- **NOTOK** - Ironia, classificou tudo como ironia\n",
    "- **OK** - Os sentimentos como neutros tem a classificação entre 0,3 e 1,0. Não teria como classficar em positivos ou negativos\n",
    "- **OK** - Separação de positivos e negativos fortes e fracos\n",
    "- **WIP** - Periodicidade dos comentários para realizar uma análise ao decorrer do tempo de sentimento\n",
    "\n",
    "### Análise Exploratória\n",
    "- **WIP** - classificar os temas gerais\n",
    "- **WIP** - classificar os temas de neutros\n",
    "- **WIP** - scatterplot vendo o volume de temas\n",
    "- **WIP** - mapa de wordcloud"
   ]
  }
 ],
 "metadata": {
  "kernelspec": {
   "display_name": "Python 3",
   "language": "python",
   "name": "python3"
  },
  "language_info": {
   "codemirror_mode": {
    "name": "ipython",
    "version": 3
   },
   "file_extension": ".py",
   "mimetype": "text/x-python",
   "name": "python",
   "nbconvert_exporter": "python",
   "pygments_lexer": "ipython3",
   "version": "3.10.0"
  }
 },
 "nbformat": 4,
 "nbformat_minor": 5
}
