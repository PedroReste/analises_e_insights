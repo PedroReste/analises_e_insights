{
 "cells": [
  {
   "cell_type": "markdown",
   "id": "a5ed314f",
   "metadata": {},
   "source": [
    "O PySentimiento é uma das bibliotecas mais interessantes atualmente para análise de sentimentos e emoções com suporte a vários idiomas, incluindo português.\n",
    "\n",
    "Ele foi criado sobre modelos BERT e RoBERTa já pré-treinados e afinados (fine-tuned) para tarefas de NLP social, como:\n",
    "✅ Análise de sentimentos\n",
    "✅ Análise de emoções\n",
    "✅ Detecção de ódio\n",
    "✅ Detecção de ironia\n",
    "\n",
    "| Recurso                | Descrição                              |\n",
    "| ---------------------- | -------------------------------------- |\n",
    "| **Idiomas suportados** | en, es, it, pt, fr, ca, eu, gl         |\n",
    "| **Tarefas**            | Sentiment, Emotion, Hate Speech, Irony |\n",
    "| **Base**               | Modelos BERT/RoBERTa fine-tuned        |\n",
    "| **Instalação**         | `pip install pysentimiento`            |\n"
   ]
  },
  {
   "cell_type": "code",
   "execution_count": 96,
   "id": "eaed7d80",
   "metadata": {},
   "outputs": [],
   "source": [
    "import pandas as pd\n",
    "\n",
    "import emoji\n",
    "from pysentimiento import create_analyzer\n",
    "\n",
    "\n",
    "import spacy\n",
    "\n",
    "import vader\n",
    "import textblob\n",
    "\n",
    "import matplotlib.pyplot as plt\n",
    "import seaborn as sns\n",
    "import wordcloud\n",
    "import plotly.graph_objects as go"
   ]
  },
  {
   "cell_type": "code",
   "execution_count": 68,
   "id": "13f06883",
   "metadata": {},
   "outputs": [
    {
     "data": {
      "text/html": [
       "<div>\n",
       "<style scoped>\n",
       "    .dataframe tbody tr th:only-of-type {\n",
       "        vertical-align: middle;\n",
       "    }\n",
       "\n",
       "    .dataframe tbody tr th {\n",
       "        vertical-align: top;\n",
       "    }\n",
       "\n",
       "    .dataframe thead th {\n",
       "        text-align: right;\n",
       "    }\n",
       "</style>\n",
       "<table border=\"1\" class=\"dataframe\">\n",
       "  <thead>\n",
       "    <tr style=\"text-align: right;\">\n",
       "      <th></th>\n",
       "      <th>date</th>\n",
       "      <th>app_version</th>\n",
       "      <th>score</th>\n",
       "      <th>system</th>\n",
       "      <th>app</th>\n",
       "      <th>content</th>\n",
       "    </tr>\n",
       "  </thead>\n",
       "  <tbody>\n",
       "    <tr>\n",
       "      <th>0</th>\n",
       "      <td>2025-05-27 18:54:37</td>\n",
       "      <td>18.7.0</td>\n",
       "      <td>5</td>\n",
       "      <td>Android</td>\n",
       "      <td>Claro</td>\n",
       "      <td>legal 😎</td>\n",
       "    </tr>\n",
       "    <tr>\n",
       "      <th>1</th>\n",
       "      <td>2025-05-27 18:10:04</td>\n",
       "      <td>18.6.0</td>\n",
       "      <td>5</td>\n",
       "      <td>Android</td>\n",
       "      <td>Claro</td>\n",
       "      <td>Encontro facilidade por aqui 👏</td>\n",
       "    </tr>\n",
       "    <tr>\n",
       "      <th>2</th>\n",
       "      <td>2025-05-27 17:49:18</td>\n",
       "      <td>18.7.0</td>\n",
       "      <td>5</td>\n",
       "      <td>Android</td>\n",
       "      <td>Claro</td>\n",
       "      <td>muito bom</td>\n",
       "    </tr>\n",
       "    <tr>\n",
       "      <th>3</th>\n",
       "      <td>2025-05-27 17:46:20</td>\n",
       "      <td>NaN</td>\n",
       "      <td>1</td>\n",
       "      <td>Android</td>\n",
       "      <td>Claro</td>\n",
       "      <td>ruim que vc deseja não tem informações</td>\n",
       "    </tr>\n",
       "    <tr>\n",
       "      <th>4</th>\n",
       "      <td>2025-05-27 17:20:22</td>\n",
       "      <td>18.7.0</td>\n",
       "      <td>5</td>\n",
       "      <td>Android</td>\n",
       "      <td>Claro</td>\n",
       "      <td>melhor do mundo</td>\n",
       "    </tr>\n",
       "  </tbody>\n",
       "</table>\n",
       "</div>"
      ],
      "text/plain": [
       "                  date app_version  score   system    app  \\\n",
       "0  2025-05-27 18:54:37      18.7.0      5  Android  Claro   \n",
       "1  2025-05-27 18:10:04      18.6.0      5  Android  Claro   \n",
       "2  2025-05-27 17:49:18      18.7.0      5  Android  Claro   \n",
       "3  2025-05-27 17:46:20         NaN      1  Android  Claro   \n",
       "4  2025-05-27 17:20:22      18.7.0      5  Android  Claro   \n",
       "\n",
       "                                  content  \n",
       "0                                 legal 😎  \n",
       "1          Encontro facilidade por aqui 👏  \n",
       "2                               muito bom  \n",
       "3  ruim que vc deseja não tem informações  \n",
       "4                         melhor do mundo  "
      ]
     },
     "execution_count": 68,
     "metadata": {},
     "output_type": "execute_result"
    }
   ],
   "source": [
    "comentarios = pd.read_csv(\"comentarios.csv\")\n",
    "comentarios = comentarios[[\"date\", \"app_version\", \"score\", \"system\", \"app\", \"content\"]]\n",
    "comentarios.head()"
   ]
  },
  {
   "cell_type": "code",
   "execution_count": 69,
   "id": "5dc851a9",
   "metadata": {},
   "outputs": [],
   "source": [
    "comentarios = comentarios[:100]"
   ]
  },
  {
   "cell_type": "markdown",
   "id": "a53bc32e",
   "metadata": {},
   "source": [
    "**Processamento dos Emojis**"
   ]
  },
  {
   "cell_type": "code",
   "execution_count": 70,
   "id": "aaf2e000",
   "metadata": {},
   "outputs": [
    {
     "data": {
      "text/html": [
       "<div>\n",
       "<style scoped>\n",
       "    .dataframe tbody tr th:only-of-type {\n",
       "        vertical-align: middle;\n",
       "    }\n",
       "\n",
       "    .dataframe tbody tr th {\n",
       "        vertical-align: top;\n",
       "    }\n",
       "\n",
       "    .dataframe thead th {\n",
       "        text-align: right;\n",
       "    }\n",
       "</style>\n",
       "<table border=\"1\" class=\"dataframe\">\n",
       "  <thead>\n",
       "    <tr style=\"text-align: right;\">\n",
       "      <th></th>\n",
       "      <th>date</th>\n",
       "      <th>app_version</th>\n",
       "      <th>score</th>\n",
       "      <th>system</th>\n",
       "      <th>app</th>\n",
       "      <th>content</th>\n",
       "      <th>comentario_sem_emoji</th>\n",
       "    </tr>\n",
       "  </thead>\n",
       "  <tbody>\n",
       "    <tr>\n",
       "      <th>0</th>\n",
       "      <td>2025-05-27 18:54:37</td>\n",
       "      <td>18.7.0</td>\n",
       "      <td>5</td>\n",
       "      <td>Android</td>\n",
       "      <td>Claro</td>\n",
       "      <td>legal 😎</td>\n",
       "      <td>legal :rosto_sorridente_com_óculos_escuros:</td>\n",
       "    </tr>\n",
       "    <tr>\n",
       "      <th>1</th>\n",
       "      <td>2025-05-27 18:10:04</td>\n",
       "      <td>18.6.0</td>\n",
       "      <td>5</td>\n",
       "      <td>Android</td>\n",
       "      <td>Claro</td>\n",
       "      <td>Encontro facilidade por aqui 👏</td>\n",
       "      <td>Encontro facilidade por aqui :mãos_aplaudindo:</td>\n",
       "    </tr>\n",
       "    <tr>\n",
       "      <th>2</th>\n",
       "      <td>2025-05-27 17:49:18</td>\n",
       "      <td>18.7.0</td>\n",
       "      <td>5</td>\n",
       "      <td>Android</td>\n",
       "      <td>Claro</td>\n",
       "      <td>muito bom</td>\n",
       "      <td>muito bom</td>\n",
       "    </tr>\n",
       "    <tr>\n",
       "      <th>3</th>\n",
       "      <td>2025-05-27 17:46:20</td>\n",
       "      <td>NaN</td>\n",
       "      <td>1</td>\n",
       "      <td>Android</td>\n",
       "      <td>Claro</td>\n",
       "      <td>ruim que vc deseja não tem informações</td>\n",
       "      <td>ruim que vc deseja não tem informações</td>\n",
       "    </tr>\n",
       "    <tr>\n",
       "      <th>4</th>\n",
       "      <td>2025-05-27 17:20:22</td>\n",
       "      <td>18.7.0</td>\n",
       "      <td>5</td>\n",
       "      <td>Android</td>\n",
       "      <td>Claro</td>\n",
       "      <td>melhor do mundo</td>\n",
       "      <td>melhor do mundo</td>\n",
       "    </tr>\n",
       "  </tbody>\n",
       "</table>\n",
       "</div>"
      ],
      "text/plain": [
       "                  date app_version  score   system    app  \\\n",
       "0  2025-05-27 18:54:37      18.7.0      5  Android  Claro   \n",
       "1  2025-05-27 18:10:04      18.6.0      5  Android  Claro   \n",
       "2  2025-05-27 17:49:18      18.7.0      5  Android  Claro   \n",
       "3  2025-05-27 17:46:20         NaN      1  Android  Claro   \n",
       "4  2025-05-27 17:20:22      18.7.0      5  Android  Claro   \n",
       "\n",
       "                                  content  \\\n",
       "0                                 legal 😎   \n",
       "1          Encontro facilidade por aqui 👏   \n",
       "2                               muito bom   \n",
       "3  ruim que vc deseja não tem informações   \n",
       "4                         melhor do mundo   \n",
       "\n",
       "                             comentario_sem_emoji  \n",
       "0     legal :rosto_sorridente_com_óculos_escuros:  \n",
       "1  Encontro facilidade por aqui :mãos_aplaudindo:  \n",
       "2                                       muito bom  \n",
       "3          ruim que vc deseja não tem informações  \n",
       "4                                 melhor do mundo  "
      ]
     },
     "execution_count": 70,
     "metadata": {},
     "output_type": "execute_result"
    }
   ],
   "source": [
    "def remover_emojis(texto):\n",
    "    return emoji.demojize(texto, language='pt')\n",
    "\n",
    "comentarios[\"comentario_sem_emoji\"] = comentarios[\"content\"].apply(remover_emojis)\n",
    "comentarios.head()\n"
   ]
  },
  {
   "cell_type": "markdown",
   "id": "59ad7702",
   "metadata": {},
   "source": [
    "|Tipo de Análise | Informativo |\n",
    "|----------------|-------------|\n",
    "| emotion        | aaaa        |\n",
    "| irony          | aaaa        |\n",
    "| hate_speech    | aaaa        |\n",
    "| sentiment      | aaaa        |"
   ]
  },
  {
   "cell_type": "markdown",
   "id": "c5cf1980",
   "metadata": {},
   "source": [
    "# Análise de Sentimento"
   ]
  },
  {
   "cell_type": "markdown",
   "id": "4aaeeed2",
   "metadata": {},
   "source": [
    "**pysentimiento**\n",
    "- Biblioteca que oferece modelos baseados em BERT, fine-tunados para emoções e sentimento em português.\n",
    "- Usa modelos robustos, prontos para uso.\n",
    "\n",
    "✅ Pontos positivos:\n",
    "Muito mais preciso.\n",
    "\n",
    "Entende contexto, ironia, gírias e até alguns emojis.\n",
    "\n",
    "Modelos modernos.\n",
    "\n",
    "❌ Pontos negativos:\n",
    "Mais pesado.\n",
    "\n",
    "Pode exigir mais tempo de execução.\n",
    "\n",
    "Não personalizável facilmente."
   ]
  },
  {
   "cell_type": "markdown",
   "id": "4c23d034",
   "metadata": {},
   "source": [
    "## Funções"
   ]
  },
  {
   "cell_type": "code",
   "execution_count": 71,
   "id": "fa76f326",
   "metadata": {},
   "outputs": [],
   "source": [
    "#Função para realizar todas as análises\n",
    "analyzers = {\n",
    "    \"irony\": create_analyzer(task=\"irony\", lang=\"pt\"),\n",
    "    \"hate_speech\": create_analyzer(task=\"hate_speech\", lang=\"pt\"),\n",
    "    \"sentiment\": create_analyzer(task=\"sentiment\", lang=\"pt\"),\n",
    "    \"emotion\": create_analyzer(task=\"emotion\", lang=\"pt\")\n",
    "}\n",
    "\n",
    "def analisar_sentimento_todos(texto, analyzers=analyzers):\n",
    "\n",
    "    if not isinstance(texto, str) or not texto.strip():\n",
    "        return pd.Series()\n",
    "\n",
    "    dados = {}\n",
    "\n",
    "    for tipo, analyzer in analyzers.items():\n",
    "        resultado = analyzer.predict(texto)\n",
    "\n",
    "        saida = resultado.output[0] if resultado.output else None\n",
    "        dados[f\"{tipo}_output\"] = saida\n",
    "\n",
    "        for k, v in resultado.probas.items():\n",
    "            dados[f\"{tipo}_{k}\"] = v\n",
    "\n",
    "    return pd.Series(dados)\n"
   ]
  },
  {
   "cell_type": "code",
   "execution_count": 97,
   "id": "ef44563f",
   "metadata": {},
   "outputs": [
    {
     "data": {
      "text/html": [
       "<div>\n",
       "<style scoped>\n",
       "    .dataframe tbody tr th:only-of-type {\n",
       "        vertical-align: middle;\n",
       "    }\n",
       "\n",
       "    .dataframe tbody tr th {\n",
       "        vertical-align: top;\n",
       "    }\n",
       "\n",
       "    .dataframe thead th {\n",
       "        text-align: right;\n",
       "    }\n",
       "</style>\n",
       "<table border=\"1\" class=\"dataframe\">\n",
       "  <thead>\n",
       "    <tr style=\"text-align: right;\">\n",
       "      <th></th>\n",
       "      <th>date</th>\n",
       "      <th>app_version</th>\n",
       "      <th>score</th>\n",
       "      <th>system</th>\n",
       "      <th>app</th>\n",
       "      <th>content</th>\n",
       "      <th>comentario_sem_emoji</th>\n",
       "      <th>irony_output</th>\n",
       "      <th>irony_not ironic</th>\n",
       "      <th>irony_ironic</th>\n",
       "      <th>...</th>\n",
       "      <th>emotion_love</th>\n",
       "      <th>emotion_nervousness</th>\n",
       "      <th>emotion_optimism</th>\n",
       "      <th>emotion_pride</th>\n",
       "      <th>emotion_realization</th>\n",
       "      <th>emotion_relief</th>\n",
       "      <th>emotion_remorse</th>\n",
       "      <th>emotion_sadness</th>\n",
       "      <th>emotion_surprise</th>\n",
       "      <th>emotion_neutral</th>\n",
       "    </tr>\n",
       "  </thead>\n",
       "  <tbody>\n",
       "    <tr>\n",
       "      <th>0</th>\n",
       "      <td>2025-05-27 18:54:37</td>\n",
       "      <td>18.7.0</td>\n",
       "      <td>5</td>\n",
       "      <td>Android</td>\n",
       "      <td>Claro</td>\n",
       "      <td>legal 😎</td>\n",
       "      <td>legal :rosto_sorridente_com_óculos_escuros:</td>\n",
       "      <td>i</td>\n",
       "      <td>0.000037</td>\n",
       "      <td>0.999963</td>\n",
       "      <td>...</td>\n",
       "      <td>0.003169</td>\n",
       "      <td>0.000142</td>\n",
       "      <td>0.001385</td>\n",
       "      <td>0.005727</td>\n",
       "      <td>0.002231</td>\n",
       "      <td>0.003187</td>\n",
       "      <td>0.000266</td>\n",
       "      <td>0.001186</td>\n",
       "      <td>0.000667</td>\n",
       "      <td>0.015898</td>\n",
       "    </tr>\n",
       "    <tr>\n",
       "      <th>1</th>\n",
       "      <td>2025-05-27 18:10:04</td>\n",
       "      <td>18.6.0</td>\n",
       "      <td>5</td>\n",
       "      <td>Android</td>\n",
       "      <td>Claro</td>\n",
       "      <td>Encontro facilidade por aqui 👏</td>\n",
       "      <td>Encontro facilidade por aqui :mãos_aplaudindo:</td>\n",
       "      <td>i</td>\n",
       "      <td>0.000038</td>\n",
       "      <td>0.999962</td>\n",
       "      <td>...</td>\n",
       "      <td>0.000182</td>\n",
       "      <td>0.000161</td>\n",
       "      <td>0.004324</td>\n",
       "      <td>0.001628</td>\n",
       "      <td>0.008519</td>\n",
       "      <td>0.003262</td>\n",
       "      <td>0.000151</td>\n",
       "      <td>0.000789</td>\n",
       "      <td>0.000126</td>\n",
       "      <td>0.913299</td>\n",
       "    </tr>\n",
       "    <tr>\n",
       "      <th>2</th>\n",
       "      <td>2025-05-27 17:49:18</td>\n",
       "      <td>18.7.0</td>\n",
       "      <td>5</td>\n",
       "      <td>Android</td>\n",
       "      <td>Claro</td>\n",
       "      <td>muito bom</td>\n",
       "      <td>muito bom</td>\n",
       "      <td>i</td>\n",
       "      <td>0.000039</td>\n",
       "      <td>0.999961</td>\n",
       "      <td>...</td>\n",
       "      <td>0.001996</td>\n",
       "      <td>0.000083</td>\n",
       "      <td>0.002181</td>\n",
       "      <td>0.001921</td>\n",
       "      <td>0.001108</td>\n",
       "      <td>0.000428</td>\n",
       "      <td>0.000251</td>\n",
       "      <td>0.000656</td>\n",
       "      <td>0.000932</td>\n",
       "      <td>0.006966</td>\n",
       "    </tr>\n",
       "    <tr>\n",
       "      <th>3</th>\n",
       "      <td>2025-05-27 17:46:20</td>\n",
       "      <td>NaN</td>\n",
       "      <td>1</td>\n",
       "      <td>Android</td>\n",
       "      <td>Claro</td>\n",
       "      <td>ruim que vc deseja não tem informações</td>\n",
       "      <td>ruim que vc deseja não tem informações</td>\n",
       "      <td>i</td>\n",
       "      <td>0.000037</td>\n",
       "      <td>0.999963</td>\n",
       "      <td>...</td>\n",
       "      <td>0.000237</td>\n",
       "      <td>0.001636</td>\n",
       "      <td>0.003698</td>\n",
       "      <td>0.000424</td>\n",
       "      <td>0.004252</td>\n",
       "      <td>0.001461</td>\n",
       "      <td>0.000453</td>\n",
       "      <td>0.043749</td>\n",
       "      <td>0.000267</td>\n",
       "      <td>0.294686</td>\n",
       "    </tr>\n",
       "    <tr>\n",
       "      <th>4</th>\n",
       "      <td>2025-05-27 17:20:22</td>\n",
       "      <td>18.7.0</td>\n",
       "      <td>5</td>\n",
       "      <td>Android</td>\n",
       "      <td>Claro</td>\n",
       "      <td>melhor do mundo</td>\n",
       "      <td>melhor do mundo</td>\n",
       "      <td>i</td>\n",
       "      <td>0.000038</td>\n",
       "      <td>0.999962</td>\n",
       "      <td>...</td>\n",
       "      <td>0.001119</td>\n",
       "      <td>0.000077</td>\n",
       "      <td>0.004919</td>\n",
       "      <td>0.003593</td>\n",
       "      <td>0.001038</td>\n",
       "      <td>0.000635</td>\n",
       "      <td>0.000231</td>\n",
       "      <td>0.000503</td>\n",
       "      <td>0.000280</td>\n",
       "      <td>0.013483</td>\n",
       "    </tr>\n",
       "  </tbody>\n",
       "</table>\n",
       "<p>5 rows × 49 columns</p>\n",
       "</div>"
      ],
      "text/plain": [
       "                  date app_version  score   system    app  \\\n",
       "0  2025-05-27 18:54:37      18.7.0      5  Android  Claro   \n",
       "1  2025-05-27 18:10:04      18.6.0      5  Android  Claro   \n",
       "2  2025-05-27 17:49:18      18.7.0      5  Android  Claro   \n",
       "3  2025-05-27 17:46:20         NaN      1  Android  Claro   \n",
       "4  2025-05-27 17:20:22      18.7.0      5  Android  Claro   \n",
       "\n",
       "                                  content  \\\n",
       "0                                 legal 😎   \n",
       "1          Encontro facilidade por aqui 👏   \n",
       "2                               muito bom   \n",
       "3  ruim que vc deseja não tem informações   \n",
       "4                         melhor do mundo   \n",
       "\n",
       "                             comentario_sem_emoji irony_output  \\\n",
       "0     legal :rosto_sorridente_com_óculos_escuros:            i   \n",
       "1  Encontro facilidade por aqui :mãos_aplaudindo:            i   \n",
       "2                                       muito bom            i   \n",
       "3          ruim que vc deseja não tem informações            i   \n",
       "4                                 melhor do mundo            i   \n",
       "\n",
       "   irony_not ironic  irony_ironic  ... emotion_love  emotion_nervousness  \\\n",
       "0          0.000037      0.999963  ...     0.003169             0.000142   \n",
       "1          0.000038      0.999962  ...     0.000182             0.000161   \n",
       "2          0.000039      0.999961  ...     0.001996             0.000083   \n",
       "3          0.000037      0.999963  ...     0.000237             0.001636   \n",
       "4          0.000038      0.999962  ...     0.001119             0.000077   \n",
       "\n",
       "   emotion_optimism  emotion_pride  emotion_realization  emotion_relief  \\\n",
       "0          0.001385       0.005727             0.002231        0.003187   \n",
       "1          0.004324       0.001628             0.008519        0.003262   \n",
       "2          0.002181       0.001921             0.001108        0.000428   \n",
       "3          0.003698       0.000424             0.004252        0.001461   \n",
       "4          0.004919       0.003593             0.001038        0.000635   \n",
       "\n",
       "  emotion_remorse  emotion_sadness  emotion_surprise  emotion_neutral  \n",
       "0        0.000266         0.001186          0.000667         0.015898  \n",
       "1        0.000151         0.000789          0.000126         0.913299  \n",
       "2        0.000251         0.000656          0.000932         0.006966  \n",
       "3        0.000453         0.043749          0.000267         0.294686  \n",
       "4        0.000231         0.000503          0.000280         0.013483  \n",
       "\n",
       "[5 rows x 49 columns]"
      ]
     },
     "execution_count": 97,
     "metadata": {},
     "output_type": "execute_result"
    }
   ],
   "source": [
    "resultados = comentarios[\"comentario_sem_emoji\"].apply(analisar_sentimento_todos)\n",
    "\n",
    "df_resultado = pd.concat([comentarios, resultados], axis=1)\n",
    "\n",
    "df_resultado.head()"
   ]
  },
  {
   "cell_type": "code",
   "execution_count": 73,
   "id": "61fc093f",
   "metadata": {},
   "outputs": [],
   "source": [
    "#Função para realizar apenas uma análise\n",
    "def analisar_sentimento(texto):\n",
    "    resultado = analyzer.predict(texto)\n",
    "\n",
    "    if resultado.output:\n",
    "        saida = resultado.output[0]\n",
    "    else:\n",
    "        saida = None\n",
    "\n",
    "    dados = {'output':  saida}\n",
    "\n",
    "    for emocao, prob in resultado.probas.items():\n",
    "        dados[emocao] = prob\n",
    "\n",
    "    return pd.Series(dados)"
   ]
  },
  {
   "cell_type": "code",
   "execution_count": 82,
   "id": "d89b3669",
   "metadata": {},
   "outputs": [
    {
     "data": {
      "text/html": [
       "<div>\n",
       "<style scoped>\n",
       "    .dataframe tbody tr th:only-of-type {\n",
       "        vertical-align: middle;\n",
       "    }\n",
       "\n",
       "    .dataframe tbody tr th {\n",
       "        vertical-align: top;\n",
       "    }\n",
       "\n",
       "    .dataframe thead th {\n",
       "        text-align: right;\n",
       "    }\n",
       "</style>\n",
       "<table border=\"1\" class=\"dataframe\">\n",
       "  <thead>\n",
       "    <tr style=\"text-align: right;\">\n",
       "      <th></th>\n",
       "      <th>date</th>\n",
       "      <th>app_version</th>\n",
       "      <th>score</th>\n",
       "      <th>system</th>\n",
       "      <th>app</th>\n",
       "      <th>content</th>\n",
       "      <th>comentario_sem_emoji</th>\n",
       "      <th>output</th>\n",
       "      <th>NEG</th>\n",
       "      <th>NEU</th>\n",
       "      <th>POS</th>\n",
       "    </tr>\n",
       "  </thead>\n",
       "  <tbody>\n",
       "    <tr>\n",
       "      <th>0</th>\n",
       "      <td>2025-05-27 18:54:37</td>\n",
       "      <td>18.7.0</td>\n",
       "      <td>5</td>\n",
       "      <td>Android</td>\n",
       "      <td>Claro</td>\n",
       "      <td>legal 😎</td>\n",
       "      <td>legal :rosto_sorridente_com_óculos_escuros:</td>\n",
       "      <td>P</td>\n",
       "      <td>0.003867</td>\n",
       "      <td>0.035022</td>\n",
       "      <td>0.961111</td>\n",
       "    </tr>\n",
       "    <tr>\n",
       "      <th>1</th>\n",
       "      <td>2025-05-27 18:10:04</td>\n",
       "      <td>18.6.0</td>\n",
       "      <td>5</td>\n",
       "      <td>Android</td>\n",
       "      <td>Claro</td>\n",
       "      <td>Encontro facilidade por aqui 👏</td>\n",
       "      <td>Encontro facilidade por aqui :mãos_aplaudindo:</td>\n",
       "      <td>P</td>\n",
       "      <td>0.003249</td>\n",
       "      <td>0.035621</td>\n",
       "      <td>0.961130</td>\n",
       "    </tr>\n",
       "    <tr>\n",
       "      <th>2</th>\n",
       "      <td>2025-05-27 17:49:18</td>\n",
       "      <td>18.7.0</td>\n",
       "      <td>5</td>\n",
       "      <td>Android</td>\n",
       "      <td>Claro</td>\n",
       "      <td>muito bom</td>\n",
       "      <td>muito bom</td>\n",
       "      <td>P</td>\n",
       "      <td>0.001626</td>\n",
       "      <td>0.005355</td>\n",
       "      <td>0.993020</td>\n",
       "    </tr>\n",
       "    <tr>\n",
       "      <th>3</th>\n",
       "      <td>2025-05-27 17:46:20</td>\n",
       "      <td>NaN</td>\n",
       "      <td>1</td>\n",
       "      <td>Android</td>\n",
       "      <td>Claro</td>\n",
       "      <td>ruim que vc deseja não tem informações</td>\n",
       "      <td>ruim que vc deseja não tem informações</td>\n",
       "      <td>N</td>\n",
       "      <td>0.165725</td>\n",
       "      <td>0.818145</td>\n",
       "      <td>0.016130</td>\n",
       "    </tr>\n",
       "    <tr>\n",
       "      <th>4</th>\n",
       "      <td>2025-05-27 17:20:22</td>\n",
       "      <td>18.7.0</td>\n",
       "      <td>5</td>\n",
       "      <td>Android</td>\n",
       "      <td>Claro</td>\n",
       "      <td>melhor do mundo</td>\n",
       "      <td>melhor do mundo</td>\n",
       "      <td>P</td>\n",
       "      <td>0.002164</td>\n",
       "      <td>0.010966</td>\n",
       "      <td>0.986870</td>\n",
       "    </tr>\n",
       "  </tbody>\n",
       "</table>\n",
       "</div>"
      ],
      "text/plain": [
       "                  date app_version  score   system    app  \\\n",
       "0  2025-05-27 18:54:37      18.7.0      5  Android  Claro   \n",
       "1  2025-05-27 18:10:04      18.6.0      5  Android  Claro   \n",
       "2  2025-05-27 17:49:18      18.7.0      5  Android  Claro   \n",
       "3  2025-05-27 17:46:20         NaN      1  Android  Claro   \n",
       "4  2025-05-27 17:20:22      18.7.0      5  Android  Claro   \n",
       "\n",
       "                                  content  \\\n",
       "0                                 legal 😎   \n",
       "1          Encontro facilidade por aqui 👏   \n",
       "2                               muito bom   \n",
       "3  ruim que vc deseja não tem informações   \n",
       "4                         melhor do mundo   \n",
       "\n",
       "                             comentario_sem_emoji output       NEG       NEU  \\\n",
       "0     legal :rosto_sorridente_com_óculos_escuros:      P  0.003867  0.035022   \n",
       "1  Encontro facilidade por aqui :mãos_aplaudindo:      P  0.003249  0.035621   \n",
       "2                                       muito bom      P  0.001626  0.005355   \n",
       "3          ruim que vc deseja não tem informações      N  0.165725  0.818145   \n",
       "4                                 melhor do mundo      P  0.002164  0.010966   \n",
       "\n",
       "        POS  \n",
       "0  0.961111  \n",
       "1  0.961130  \n",
       "2  0.993020  \n",
       "3  0.016130  \n",
       "4  0.986870  "
      ]
     },
     "execution_count": 82,
     "metadata": {},
     "output_type": "execute_result"
    }
   ],
   "source": [
    "analyzer = create_analyzer(task=\"sentiment\", lang=\"pt\")\n",
    "\n",
    "resultados = comentarios[\"comentario_sem_emoji\"].apply(analisar_sentimento)\n",
    "\n",
    "df_resultado = pd.concat([comentarios, resultados], axis=1)\n",
    "\n",
    "df_resultado.head()"
   ]
  },
  {
   "cell_type": "markdown",
   "id": "645ebdbf",
   "metadata": {},
   "source": [
    "## Análises"
   ]
  },
  {
   "cell_type": "code",
   "execution_count": 98,
   "id": "b7a19320",
   "metadata": {},
   "outputs": [
    {
     "data": {
      "text/html": [
       "<div>\n",
       "<style scoped>\n",
       "    .dataframe tbody tr th:only-of-type {\n",
       "        vertical-align: middle;\n",
       "    }\n",
       "\n",
       "    .dataframe tbody tr th {\n",
       "        vertical-align: top;\n",
       "    }\n",
       "\n",
       "    .dataframe thead th {\n",
       "        text-align: right;\n",
       "    }\n",
       "</style>\n",
       "<table border=\"1\" class=\"dataframe\">\n",
       "  <thead>\n",
       "    <tr style=\"text-align: right;\">\n",
       "      <th></th>\n",
       "      <th>date</th>\n",
       "      <th>app_version</th>\n",
       "      <th>score</th>\n",
       "      <th>system</th>\n",
       "      <th>app</th>\n",
       "      <th>content</th>\n",
       "      <th>comentario_sem_emoji</th>\n",
       "      <th>irony_output</th>\n",
       "      <th>irony_not ironic</th>\n",
       "      <th>irony_ironic</th>\n",
       "      <th>...</th>\n",
       "      <th>emotion_love</th>\n",
       "      <th>emotion_nervousness</th>\n",
       "      <th>emotion_optimism</th>\n",
       "      <th>emotion_pride</th>\n",
       "      <th>emotion_realization</th>\n",
       "      <th>emotion_relief</th>\n",
       "      <th>emotion_remorse</th>\n",
       "      <th>emotion_sadness</th>\n",
       "      <th>emotion_surprise</th>\n",
       "      <th>emotion_neutral</th>\n",
       "    </tr>\n",
       "  </thead>\n",
       "  <tbody>\n",
       "    <tr>\n",
       "      <th>0</th>\n",
       "      <td>2025-05-27 18:54:37</td>\n",
       "      <td>18.7.0</td>\n",
       "      <td>5</td>\n",
       "      <td>Android</td>\n",
       "      <td>Claro</td>\n",
       "      <td>legal 😎</td>\n",
       "      <td>legal :rosto_sorridente_com_óculos_escuros:</td>\n",
       "      <td>i</td>\n",
       "      <td>0.000037</td>\n",
       "      <td>0.999963</td>\n",
       "      <td>...</td>\n",
       "      <td>0.003169</td>\n",
       "      <td>0.000142</td>\n",
       "      <td>0.001385</td>\n",
       "      <td>0.005727</td>\n",
       "      <td>0.002231</td>\n",
       "      <td>0.003187</td>\n",
       "      <td>0.000266</td>\n",
       "      <td>0.001186</td>\n",
       "      <td>0.000667</td>\n",
       "      <td>0.015898</td>\n",
       "    </tr>\n",
       "    <tr>\n",
       "      <th>1</th>\n",
       "      <td>2025-05-27 18:10:04</td>\n",
       "      <td>18.6.0</td>\n",
       "      <td>5</td>\n",
       "      <td>Android</td>\n",
       "      <td>Claro</td>\n",
       "      <td>Encontro facilidade por aqui 👏</td>\n",
       "      <td>Encontro facilidade por aqui :mãos_aplaudindo:</td>\n",
       "      <td>i</td>\n",
       "      <td>0.000038</td>\n",
       "      <td>0.999962</td>\n",
       "      <td>...</td>\n",
       "      <td>0.000182</td>\n",
       "      <td>0.000161</td>\n",
       "      <td>0.004324</td>\n",
       "      <td>0.001628</td>\n",
       "      <td>0.008519</td>\n",
       "      <td>0.003262</td>\n",
       "      <td>0.000151</td>\n",
       "      <td>0.000789</td>\n",
       "      <td>0.000126</td>\n",
       "      <td>0.913299</td>\n",
       "    </tr>\n",
       "    <tr>\n",
       "      <th>2</th>\n",
       "      <td>2025-05-27 17:49:18</td>\n",
       "      <td>18.7.0</td>\n",
       "      <td>5</td>\n",
       "      <td>Android</td>\n",
       "      <td>Claro</td>\n",
       "      <td>muito bom</td>\n",
       "      <td>muito bom</td>\n",
       "      <td>i</td>\n",
       "      <td>0.000039</td>\n",
       "      <td>0.999961</td>\n",
       "      <td>...</td>\n",
       "      <td>0.001996</td>\n",
       "      <td>0.000083</td>\n",
       "      <td>0.002181</td>\n",
       "      <td>0.001921</td>\n",
       "      <td>0.001108</td>\n",
       "      <td>0.000428</td>\n",
       "      <td>0.000251</td>\n",
       "      <td>0.000656</td>\n",
       "      <td>0.000932</td>\n",
       "      <td>0.006966</td>\n",
       "    </tr>\n",
       "    <tr>\n",
       "      <th>3</th>\n",
       "      <td>2025-05-27 17:46:20</td>\n",
       "      <td>NaN</td>\n",
       "      <td>1</td>\n",
       "      <td>Android</td>\n",
       "      <td>Claro</td>\n",
       "      <td>ruim que vc deseja não tem informações</td>\n",
       "      <td>ruim que vc deseja não tem informações</td>\n",
       "      <td>i</td>\n",
       "      <td>0.000037</td>\n",
       "      <td>0.999963</td>\n",
       "      <td>...</td>\n",
       "      <td>0.000237</td>\n",
       "      <td>0.001636</td>\n",
       "      <td>0.003698</td>\n",
       "      <td>0.000424</td>\n",
       "      <td>0.004252</td>\n",
       "      <td>0.001461</td>\n",
       "      <td>0.000453</td>\n",
       "      <td>0.043749</td>\n",
       "      <td>0.000267</td>\n",
       "      <td>0.294686</td>\n",
       "    </tr>\n",
       "    <tr>\n",
       "      <th>4</th>\n",
       "      <td>2025-05-27 17:20:22</td>\n",
       "      <td>18.7.0</td>\n",
       "      <td>5</td>\n",
       "      <td>Android</td>\n",
       "      <td>Claro</td>\n",
       "      <td>melhor do mundo</td>\n",
       "      <td>melhor do mundo</td>\n",
       "      <td>i</td>\n",
       "      <td>0.000038</td>\n",
       "      <td>0.999962</td>\n",
       "      <td>...</td>\n",
       "      <td>0.001119</td>\n",
       "      <td>0.000077</td>\n",
       "      <td>0.004919</td>\n",
       "      <td>0.003593</td>\n",
       "      <td>0.001038</td>\n",
       "      <td>0.000635</td>\n",
       "      <td>0.000231</td>\n",
       "      <td>0.000503</td>\n",
       "      <td>0.000280</td>\n",
       "      <td>0.013483</td>\n",
       "    </tr>\n",
       "  </tbody>\n",
       "</table>\n",
       "<p>5 rows × 49 columns</p>\n",
       "</div>"
      ],
      "text/plain": [
       "                  date app_version  score   system    app  \\\n",
       "0  2025-05-27 18:54:37      18.7.0      5  Android  Claro   \n",
       "1  2025-05-27 18:10:04      18.6.0      5  Android  Claro   \n",
       "2  2025-05-27 17:49:18      18.7.0      5  Android  Claro   \n",
       "3  2025-05-27 17:46:20         NaN      1  Android  Claro   \n",
       "4  2025-05-27 17:20:22      18.7.0      5  Android  Claro   \n",
       "\n",
       "                                  content  \\\n",
       "0                                 legal 😎   \n",
       "1          Encontro facilidade por aqui 👏   \n",
       "2                               muito bom   \n",
       "3  ruim que vc deseja não tem informações   \n",
       "4                         melhor do mundo   \n",
       "\n",
       "                             comentario_sem_emoji irony_output  \\\n",
       "0     legal :rosto_sorridente_com_óculos_escuros:            i   \n",
       "1  Encontro facilidade por aqui :mãos_aplaudindo:            i   \n",
       "2                                       muito bom            i   \n",
       "3          ruim que vc deseja não tem informações            i   \n",
       "4                                 melhor do mundo            i   \n",
       "\n",
       "   irony_not ironic  irony_ironic  ... emotion_love  emotion_nervousness  \\\n",
       "0          0.000037      0.999963  ...     0.003169             0.000142   \n",
       "1          0.000038      0.999962  ...     0.000182             0.000161   \n",
       "2          0.000039      0.999961  ...     0.001996             0.000083   \n",
       "3          0.000037      0.999963  ...     0.000237             0.001636   \n",
       "4          0.000038      0.999962  ...     0.001119             0.000077   \n",
       "\n",
       "   emotion_optimism  emotion_pride  emotion_realization  emotion_relief  \\\n",
       "0          0.001385       0.005727             0.002231        0.003187   \n",
       "1          0.004324       0.001628             0.008519        0.003262   \n",
       "2          0.002181       0.001921             0.001108        0.000428   \n",
       "3          0.003698       0.000424             0.004252        0.001461   \n",
       "4          0.004919       0.003593             0.001038        0.000635   \n",
       "\n",
       "  emotion_remorse  emotion_sadness  emotion_surprise  emotion_neutral  \n",
       "0        0.000266         0.001186          0.000667         0.015898  \n",
       "1        0.000151         0.000789          0.000126         0.913299  \n",
       "2        0.000251         0.000656          0.000932         0.006966  \n",
       "3        0.000453         0.043749          0.000267         0.294686  \n",
       "4        0.000231         0.000503          0.000280         0.013483  \n",
       "\n",
       "[5 rows x 49 columns]"
      ]
     },
     "execution_count": 98,
     "metadata": {},
     "output_type": "execute_result"
    }
   ],
   "source": [
    "df_resultado.head()"
   ]
  },
  {
   "cell_type": "code",
   "execution_count": 100,
   "id": "7703192c",
   "metadata": {},
   "outputs": [
    {
     "data": {
      "text/plain": [
       "Index(['date', 'app_version', 'score', 'system', 'app', 'content',\n",
       "       'comentario_sem_emoji', 'irony_output', 'irony_not ironic',\n",
       "       'irony_ironic', 'hate_speech_output', 'hate_speech_Sexism',\n",
       "       'hate_speech_Body', 'hate_speech_Racism', 'hate_speech_Ideology',\n",
       "       'hate_speech_Homophobia', 'sentiment_output', 'sentiment_NEG',\n",
       "       'sentiment_NEU', 'sentiment_POS', 'emotion_output',\n",
       "       'emotion_admiration', 'emotion_amusement', 'emotion_anger',\n",
       "       'emotion_annoyance', 'emotion_approval', 'emotion_caring',\n",
       "       'emotion_confusion', 'emotion_curiosity', 'emotion_desire',\n",
       "       'emotion_disappointment', 'emotion_disapproval', 'emotion_disgust',\n",
       "       'emotion_embarrassment', 'emotion_excitement', 'emotion_fear',\n",
       "       'emotion_gratitude', 'emotion_grief', 'emotion_joy', 'emotion_love',\n",
       "       'emotion_nervousness', 'emotion_optimism', 'emotion_pride',\n",
       "       'emotion_realization', 'emotion_relief', 'emotion_remorse',\n",
       "       'emotion_sadness', 'emotion_surprise', 'emotion_neutral'],\n",
       "      dtype='object')"
      ]
     },
     "execution_count": 100,
     "metadata": {},
     "output_type": "execute_result"
    }
   ],
   "source": [
    "df_resultado.columns"
   ]
  },
  {
   "cell_type": "code",
   "execution_count": 115,
   "id": "c900bbdb",
   "metadata": {},
   "outputs": [
    {
     "data": {
      "text/plain": [
       "(array(['admiration', 'neutral', None, 'disapproval', 'gratitude',\n",
       "        'disappointment', 'caring', 'annoyance', 'approval', 'remorse',\n",
       "        'love', 'desire', 'joy', 'optimism', 'anger'], dtype=object),\n",
       " array(['P', 'N'], dtype=object))"
      ]
     },
     "execution_count": 115,
     "metadata": {},
     "output_type": "execute_result"
    }
   ],
   "source": [
    "df_resultado['emotion_output'].unique(), df_resultado['sentiment_output'].unique()"
   ]
  },
  {
   "cell_type": "code",
   "execution_count": 111,
   "id": "331aeecd",
   "metadata": {},
   "outputs": [
    {
     "data": {
      "text/html": [
       "<div>\n",
       "<style scoped>\n",
       "    .dataframe tbody tr th:only-of-type {\n",
       "        vertical-align: middle;\n",
       "    }\n",
       "\n",
       "    .dataframe tbody tr th {\n",
       "        vertical-align: top;\n",
       "    }\n",
       "\n",
       "    .dataframe thead th {\n",
       "        text-align: right;\n",
       "    }\n",
       "</style>\n",
       "<table border=\"1\" class=\"dataframe\">\n",
       "  <thead>\n",
       "    <tr style=\"text-align: right;\">\n",
       "      <th></th>\n",
       "      <th></th>\n",
       "      <th>emotion_output</th>\n",
       "    </tr>\n",
       "    <tr>\n",
       "      <th>sentiment_output</th>\n",
       "      <th>emotion_output</th>\n",
       "      <th></th>\n",
       "    </tr>\n",
       "  </thead>\n",
       "  <tbody>\n",
       "    <tr>\n",
       "      <th rowspan=\"11\" valign=\"top\">N</th>\n",
       "      <th>admiration</th>\n",
       "      <td>11</td>\n",
       "    </tr>\n",
       "    <tr>\n",
       "      <th>anger</th>\n",
       "      <td>1</td>\n",
       "    </tr>\n",
       "    <tr>\n",
       "      <th>annoyance</th>\n",
       "      <td>1</td>\n",
       "    </tr>\n",
       "    <tr>\n",
       "      <th>approval</th>\n",
       "      <td>2</td>\n",
       "    </tr>\n",
       "    <tr>\n",
       "      <th>caring</th>\n",
       "      <td>1</td>\n",
       "    </tr>\n",
       "    <tr>\n",
       "      <th>desire</th>\n",
       "      <td>2</td>\n",
       "    </tr>\n",
       "    <tr>\n",
       "      <th>disappointment</th>\n",
       "      <td>4</td>\n",
       "    </tr>\n",
       "    <tr>\n",
       "      <th>disapproval</th>\n",
       "      <td>5</td>\n",
       "    </tr>\n",
       "    <tr>\n",
       "      <th>gratitude</th>\n",
       "      <td>1</td>\n",
       "    </tr>\n",
       "    <tr>\n",
       "      <th>neutral</th>\n",
       "      <td>11</td>\n",
       "    </tr>\n",
       "    <tr>\n",
       "      <th>remorse</th>\n",
       "      <td>1</td>\n",
       "    </tr>\n",
       "    <tr>\n",
       "      <th rowspan=\"7\" valign=\"top\">P</th>\n",
       "      <th>admiration</th>\n",
       "      <td>45</td>\n",
       "    </tr>\n",
       "    <tr>\n",
       "      <th>approval</th>\n",
       "      <td>2</td>\n",
       "    </tr>\n",
       "    <tr>\n",
       "      <th>gratitude</th>\n",
       "      <td>1</td>\n",
       "    </tr>\n",
       "    <tr>\n",
       "      <th>joy</th>\n",
       "      <td>1</td>\n",
       "    </tr>\n",
       "    <tr>\n",
       "      <th>love</th>\n",
       "      <td>1</td>\n",
       "    </tr>\n",
       "    <tr>\n",
       "      <th>neutral</th>\n",
       "      <td>5</td>\n",
       "    </tr>\n",
       "    <tr>\n",
       "      <th>optimism</th>\n",
       "      <td>1</td>\n",
       "    </tr>\n",
       "  </tbody>\n",
       "</table>\n",
       "</div>"
      ],
      "text/plain": [
       "                                 emotion_output\n",
       "sentiment_output emotion_output                \n",
       "N                admiration                  11\n",
       "                 anger                        1\n",
       "                 annoyance                    1\n",
       "                 approval                     2\n",
       "                 caring                       1\n",
       "                 desire                       2\n",
       "                 disappointment               4\n",
       "                 disapproval                  5\n",
       "                 gratitude                    1\n",
       "                 neutral                     11\n",
       "                 remorse                      1\n",
       "P                admiration                  45\n",
       "                 approval                     2\n",
       "                 gratitude                    1\n",
       "                 joy                          1\n",
       "                 love                         1\n",
       "                 neutral                      5\n",
       "                 optimism                     1"
      ]
     },
     "execution_count": 111,
     "metadata": {},
     "output_type": "execute_result"
    }
   ],
   "source": [
    "df_resultado.groupby(['sentiment_output','emotion_output']).agg({'emotion_output':'count'})"
   ]
  },
  {
   "cell_type": "code",
   "execution_count": null,
   "id": "04768854",
   "metadata": {},
   "outputs": [],
   "source": [
    "# Labels: nós do Sankey\n",
    "labels = ['Admiration', 'Anger', 'Annoyance', 'Approval', 'Caring'\n",
    "          'Desire', 'Disappointment', 'Disapproval', 'Gratitude', 'Neutro',\n",
    "          'Remorse', 'Joy', 'Love', 'Optimism',\n",
    "          'Pastel', 'Positive']\n",
    "\n",
    "# Fonte (emoções) - índices\n",
    "source = [0, 1, 2, 3, 4, 5, 6, 7, 8, 9, 10, # Destino para Neutro\n",
    "          0, 3, 8, 11, 12, 9, 13]  # Destino para Posito\n",
    "\n",
    "# Destino (sentimentos) - índices\n",
    "target = [14, 14, 14, 14, 14, 14, 14, 14, 14, 14, 14, # Destino para Neutro\n",
    "          15, 15, 15, 15, 15, 15, 15]  # Destino para Posito\n",
    "\n",
    "# Valores dos fluxos\n",
    "value = [11, 1, 1, 2, 1, 2, 4, 5, 1, 11, 1, # Destino para Neutro\n",
    "         45, 2, 1, 1, 1, 5, 1] # Destino para Posito"
   ]
  },
  {
   "cell_type": "markdown",
   "id": "46efa968",
   "metadata": {},
   "source": [
    "GRÁFICO HORRÍVELMENTE CHATO DE FAZER"
   ]
  },
  {
   "cell_type": "code",
   "execution_count": 127,
   "id": "963f3e5f",
   "metadata": {},
   "outputs": [
    {
     "data": {
      "application/vnd.plotly.v1+json": {
       "config": {
        "plotlyServerURL": "https://plot.ly"
       },
       "data": [
        {
         "link": {
          "source": [
           0,
           1,
           2,
           3,
           4,
           5,
           6,
           7,
           8,
           9,
           10,
           0,
           3,
           8,
           10,
           11,
           9,
           12
          ],
          "target": [
           13,
           13,
           13,
           13,
           13,
           13,
           13,
           13,
           13,
           13,
           13,
           14,
           14,
           14,
           14,
           14,
           14,
           14
          ],
          "value": [
           11,
           1,
           1,
           2,
           1,
           2,
           4,
           5,
           1,
           11,
           1,
           45,
           2,
           1,
           1,
           1,
           5,
           1
          ]
         },
         "node": {
          "label": [
           "Admiration",
           "Anger",
           "Annoyance",
           "Approval",
           "CaringDesire",
           "Disappointment",
           "Disapproval",
           "Gratitude",
           "Neutro",
           "Remorse",
           "Joy",
           "Love",
           "Optimism",
           "Neutro",
           "Positive"
          ],
          "line": {
           "color": "black",
           "width": 0.5
          },
          "pad": 15,
          "thickness": 20
         },
         "type": "sankey"
        }
       ],
       "layout": {
        "font": {
         "size": 10
        },
        "template": {
         "data": {
          "bar": [
           {
            "error_x": {
             "color": "#2a3f5f"
            },
            "error_y": {
             "color": "#2a3f5f"
            },
            "marker": {
             "line": {
              "color": "#E5ECF6",
              "width": 0.5
             },
             "pattern": {
              "fillmode": "overlay",
              "size": 10,
              "solidity": 0.2
             }
            },
            "type": "bar"
           }
          ],
          "barpolar": [
           {
            "marker": {
             "line": {
              "color": "#E5ECF6",
              "width": 0.5
             },
             "pattern": {
              "fillmode": "overlay",
              "size": 10,
              "solidity": 0.2
             }
            },
            "type": "barpolar"
           }
          ],
          "carpet": [
           {
            "aaxis": {
             "endlinecolor": "#2a3f5f",
             "gridcolor": "white",
             "linecolor": "white",
             "minorgridcolor": "white",
             "startlinecolor": "#2a3f5f"
            },
            "baxis": {
             "endlinecolor": "#2a3f5f",
             "gridcolor": "white",
             "linecolor": "white",
             "minorgridcolor": "white",
             "startlinecolor": "#2a3f5f"
            },
            "type": "carpet"
           }
          ],
          "choropleth": [
           {
            "colorbar": {
             "outlinewidth": 0,
             "ticks": ""
            },
            "type": "choropleth"
           }
          ],
          "contour": [
           {
            "colorbar": {
             "outlinewidth": 0,
             "ticks": ""
            },
            "colorscale": [
             [
              0,
              "#0d0887"
             ],
             [
              0.1111111111111111,
              "#46039f"
             ],
             [
              0.2222222222222222,
              "#7201a8"
             ],
             [
              0.3333333333333333,
              "#9c179e"
             ],
             [
              0.4444444444444444,
              "#bd3786"
             ],
             [
              0.5555555555555556,
              "#d8576b"
             ],
             [
              0.6666666666666666,
              "#ed7953"
             ],
             [
              0.7777777777777778,
              "#fb9f3a"
             ],
             [
              0.8888888888888888,
              "#fdca26"
             ],
             [
              1,
              "#f0f921"
             ]
            ],
            "type": "contour"
           }
          ],
          "contourcarpet": [
           {
            "colorbar": {
             "outlinewidth": 0,
             "ticks": ""
            },
            "type": "contourcarpet"
           }
          ],
          "heatmap": [
           {
            "colorbar": {
             "outlinewidth": 0,
             "ticks": ""
            },
            "colorscale": [
             [
              0,
              "#0d0887"
             ],
             [
              0.1111111111111111,
              "#46039f"
             ],
             [
              0.2222222222222222,
              "#7201a8"
             ],
             [
              0.3333333333333333,
              "#9c179e"
             ],
             [
              0.4444444444444444,
              "#bd3786"
             ],
             [
              0.5555555555555556,
              "#d8576b"
             ],
             [
              0.6666666666666666,
              "#ed7953"
             ],
             [
              0.7777777777777778,
              "#fb9f3a"
             ],
             [
              0.8888888888888888,
              "#fdca26"
             ],
             [
              1,
              "#f0f921"
             ]
            ],
            "type": "heatmap"
           }
          ],
          "histogram": [
           {
            "marker": {
             "pattern": {
              "fillmode": "overlay",
              "size": 10,
              "solidity": 0.2
             }
            },
            "type": "histogram"
           }
          ],
          "histogram2d": [
           {
            "colorbar": {
             "outlinewidth": 0,
             "ticks": ""
            },
            "colorscale": [
             [
              0,
              "#0d0887"
             ],
             [
              0.1111111111111111,
              "#46039f"
             ],
             [
              0.2222222222222222,
              "#7201a8"
             ],
             [
              0.3333333333333333,
              "#9c179e"
             ],
             [
              0.4444444444444444,
              "#bd3786"
             ],
             [
              0.5555555555555556,
              "#d8576b"
             ],
             [
              0.6666666666666666,
              "#ed7953"
             ],
             [
              0.7777777777777778,
              "#fb9f3a"
             ],
             [
              0.8888888888888888,
              "#fdca26"
             ],
             [
              1,
              "#f0f921"
             ]
            ],
            "type": "histogram2d"
           }
          ],
          "histogram2dcontour": [
           {
            "colorbar": {
             "outlinewidth": 0,
             "ticks": ""
            },
            "colorscale": [
             [
              0,
              "#0d0887"
             ],
             [
              0.1111111111111111,
              "#46039f"
             ],
             [
              0.2222222222222222,
              "#7201a8"
             ],
             [
              0.3333333333333333,
              "#9c179e"
             ],
             [
              0.4444444444444444,
              "#bd3786"
             ],
             [
              0.5555555555555556,
              "#d8576b"
             ],
             [
              0.6666666666666666,
              "#ed7953"
             ],
             [
              0.7777777777777778,
              "#fb9f3a"
             ],
             [
              0.8888888888888888,
              "#fdca26"
             ],
             [
              1,
              "#f0f921"
             ]
            ],
            "type": "histogram2dcontour"
           }
          ],
          "mesh3d": [
           {
            "colorbar": {
             "outlinewidth": 0,
             "ticks": ""
            },
            "type": "mesh3d"
           }
          ],
          "parcoords": [
           {
            "line": {
             "colorbar": {
              "outlinewidth": 0,
              "ticks": ""
             }
            },
            "type": "parcoords"
           }
          ],
          "pie": [
           {
            "automargin": true,
            "type": "pie"
           }
          ],
          "scatter": [
           {
            "fillpattern": {
             "fillmode": "overlay",
             "size": 10,
             "solidity": 0.2
            },
            "type": "scatter"
           }
          ],
          "scatter3d": [
           {
            "line": {
             "colorbar": {
              "outlinewidth": 0,
              "ticks": ""
             }
            },
            "marker": {
             "colorbar": {
              "outlinewidth": 0,
              "ticks": ""
             }
            },
            "type": "scatter3d"
           }
          ],
          "scattercarpet": [
           {
            "marker": {
             "colorbar": {
              "outlinewidth": 0,
              "ticks": ""
             }
            },
            "type": "scattercarpet"
           }
          ],
          "scattergeo": [
           {
            "marker": {
             "colorbar": {
              "outlinewidth": 0,
              "ticks": ""
             }
            },
            "type": "scattergeo"
           }
          ],
          "scattergl": [
           {
            "marker": {
             "colorbar": {
              "outlinewidth": 0,
              "ticks": ""
             }
            },
            "type": "scattergl"
           }
          ],
          "scattermap": [
           {
            "marker": {
             "colorbar": {
              "outlinewidth": 0,
              "ticks": ""
             }
            },
            "type": "scattermap"
           }
          ],
          "scattermapbox": [
           {
            "marker": {
             "colorbar": {
              "outlinewidth": 0,
              "ticks": ""
             }
            },
            "type": "scattermapbox"
           }
          ],
          "scatterpolar": [
           {
            "marker": {
             "colorbar": {
              "outlinewidth": 0,
              "ticks": ""
             }
            },
            "type": "scatterpolar"
           }
          ],
          "scatterpolargl": [
           {
            "marker": {
             "colorbar": {
              "outlinewidth": 0,
              "ticks": ""
             }
            },
            "type": "scatterpolargl"
           }
          ],
          "scatterternary": [
           {
            "marker": {
             "colorbar": {
              "outlinewidth": 0,
              "ticks": ""
             }
            },
            "type": "scatterternary"
           }
          ],
          "surface": [
           {
            "colorbar": {
             "outlinewidth": 0,
             "ticks": ""
            },
            "colorscale": [
             [
              0,
              "#0d0887"
             ],
             [
              0.1111111111111111,
              "#46039f"
             ],
             [
              0.2222222222222222,
              "#7201a8"
             ],
             [
              0.3333333333333333,
              "#9c179e"
             ],
             [
              0.4444444444444444,
              "#bd3786"
             ],
             [
              0.5555555555555556,
              "#d8576b"
             ],
             [
              0.6666666666666666,
              "#ed7953"
             ],
             [
              0.7777777777777778,
              "#fb9f3a"
             ],
             [
              0.8888888888888888,
              "#fdca26"
             ],
             [
              1,
              "#f0f921"
             ]
            ],
            "type": "surface"
           }
          ],
          "table": [
           {
            "cells": {
             "fill": {
              "color": "#EBF0F8"
             },
             "line": {
              "color": "white"
             }
            },
            "header": {
             "fill": {
              "color": "#C8D4E3"
             },
             "line": {
              "color": "white"
             }
            },
            "type": "table"
           }
          ]
         },
         "layout": {
          "annotationdefaults": {
           "arrowcolor": "#2a3f5f",
           "arrowhead": 0,
           "arrowwidth": 1
          },
          "autotypenumbers": "strict",
          "coloraxis": {
           "colorbar": {
            "outlinewidth": 0,
            "ticks": ""
           }
          },
          "colorscale": {
           "diverging": [
            [
             0,
             "#8e0152"
            ],
            [
             0.1,
             "#c51b7d"
            ],
            [
             0.2,
             "#de77ae"
            ],
            [
             0.3,
             "#f1b6da"
            ],
            [
             0.4,
             "#fde0ef"
            ],
            [
             0.5,
             "#f7f7f7"
            ],
            [
             0.6,
             "#e6f5d0"
            ],
            [
             0.7,
             "#b8e186"
            ],
            [
             0.8,
             "#7fbc41"
            ],
            [
             0.9,
             "#4d9221"
            ],
            [
             1,
             "#276419"
            ]
           ],
           "sequential": [
            [
             0,
             "#0d0887"
            ],
            [
             0.1111111111111111,
             "#46039f"
            ],
            [
             0.2222222222222222,
             "#7201a8"
            ],
            [
             0.3333333333333333,
             "#9c179e"
            ],
            [
             0.4444444444444444,
             "#bd3786"
            ],
            [
             0.5555555555555556,
             "#d8576b"
            ],
            [
             0.6666666666666666,
             "#ed7953"
            ],
            [
             0.7777777777777778,
             "#fb9f3a"
            ],
            [
             0.8888888888888888,
             "#fdca26"
            ],
            [
             1,
             "#f0f921"
            ]
           ],
           "sequentialminus": [
            [
             0,
             "#0d0887"
            ],
            [
             0.1111111111111111,
             "#46039f"
            ],
            [
             0.2222222222222222,
             "#7201a8"
            ],
            [
             0.3333333333333333,
             "#9c179e"
            ],
            [
             0.4444444444444444,
             "#bd3786"
            ],
            [
             0.5555555555555556,
             "#d8576b"
            ],
            [
             0.6666666666666666,
             "#ed7953"
            ],
            [
             0.7777777777777778,
             "#fb9f3a"
            ],
            [
             0.8888888888888888,
             "#fdca26"
            ],
            [
             1,
             "#f0f921"
            ]
           ]
          },
          "colorway": [
           "#636efa",
           "#EF553B",
           "#00cc96",
           "#ab63fa",
           "#FFA15A",
           "#19d3f3",
           "#FF6692",
           "#B6E880",
           "#FF97FF",
           "#FECB52"
          ],
          "font": {
           "color": "#2a3f5f"
          },
          "geo": {
           "bgcolor": "white",
           "lakecolor": "white",
           "landcolor": "#E5ECF6",
           "showlakes": true,
           "showland": true,
           "subunitcolor": "white"
          },
          "hoverlabel": {
           "align": "left"
          },
          "hovermode": "closest",
          "mapbox": {
           "style": "light"
          },
          "paper_bgcolor": "white",
          "plot_bgcolor": "#E5ECF6",
          "polar": {
           "angularaxis": {
            "gridcolor": "white",
            "linecolor": "white",
            "ticks": ""
           },
           "bgcolor": "#E5ECF6",
           "radialaxis": {
            "gridcolor": "white",
            "linecolor": "white",
            "ticks": ""
           }
          },
          "scene": {
           "xaxis": {
            "backgroundcolor": "#E5ECF6",
            "gridcolor": "white",
            "gridwidth": 2,
            "linecolor": "white",
            "showbackground": true,
            "ticks": "",
            "zerolinecolor": "white"
           },
           "yaxis": {
            "backgroundcolor": "#E5ECF6",
            "gridcolor": "white",
            "gridwidth": 2,
            "linecolor": "white",
            "showbackground": true,
            "ticks": "",
            "zerolinecolor": "white"
           },
           "zaxis": {
            "backgroundcolor": "#E5ECF6",
            "gridcolor": "white",
            "gridwidth": 2,
            "linecolor": "white",
            "showbackground": true,
            "ticks": "",
            "zerolinecolor": "white"
           }
          },
          "shapedefaults": {
           "line": {
            "color": "#2a3f5f"
           }
          },
          "ternary": {
           "aaxis": {
            "gridcolor": "white",
            "linecolor": "white",
            "ticks": ""
           },
           "baxis": {
            "gridcolor": "white",
            "linecolor": "white",
            "ticks": ""
           },
           "bgcolor": "#E5ECF6",
           "caxis": {
            "gridcolor": "white",
            "linecolor": "white",
            "ticks": ""
           }
          },
          "title": {
           "x": 0.05
          },
          "xaxis": {
           "automargin": true,
           "gridcolor": "white",
           "linecolor": "white",
           "ticks": "",
           "title": {
            "standoff": 15
           },
           "zerolinecolor": "white",
           "zerolinewidth": 2
          },
          "yaxis": {
           "automargin": true,
           "gridcolor": "white",
           "linecolor": "white",
           "ticks": "",
           "title": {
            "standoff": 15
           },
           "zerolinecolor": "white",
           "zerolinewidth": 2
          }
         }
        },
        "title": {
         "text": "Sankey: Emoções para Sentimentos Diversos"
        }
       }
      }
     },
     "metadata": {},
     "output_type": "display_data"
    }
   ],
   "source": [
    "import plotly.graph_objects as go\n",
    "\n",
    "# Labels: nós do Sankey\n",
    "labels = ['Admiration', 'Anger', 'Annoyance', 'Approval', 'Caring'\n",
    "          'Desire', 'Disappointment', 'Disapproval', 'Gratitude', 'Neutro',\n",
    "          'Remorse', 'Joy', 'Love', 'Optimism',\n",
    "          'Neutro', 'Positive']\n",
    "\n",
    "# Fonte (emoções) - índices\n",
    "source = [0, 1, 2, 3, 4, 5, 6, 7, 8, 9, 10, # Destino para Neutro\n",
    "          0, 3, 8, 10, 11, 9, 12]  # Destino para Positivo\n",
    "\n",
    "# Destino (sentimentos) - índices\n",
    "target = [13, 13, 13, 13, 13, 13, 13, 13, 13, 13, 13, # Destino para Neutro\n",
    "          14, 14, 14, 14, 14, 14, 14]  # Destino para Positivo\n",
    "\n",
    "# Valores dos fluxos\n",
    "value = [11, 1, 1, 2, 1, 2, 4, 5, 1, 11, 1, # Destino para Neutro\n",
    "         45, 2, 1, 1, 1, 5, 1] # Destino para Positivo\n",
    "\n",
    "# Criar Sankey\n",
    "fig = go.Figure(data=[go.Sankey(\n",
    "    node=dict(\n",
    "      pad=15,\n",
    "      thickness=20,\n",
    "      line=dict(color=\"black\", width=0.5),\n",
    "      label=labels\n",
    "    ),\n",
    "    link=dict(\n",
    "      source=source,\n",
    "      target=target,\n",
    "      value=value\n",
    "  ))])\n",
    "\n",
    "fig.update_layout(title_text=\"Sankey: Emoções para Sentimentos Diversos\", font_size=10)\n",
    "fig.show()"
   ]
  },
  {
   "cell_type": "code",
   "execution_count": 94,
   "id": "87b33882",
   "metadata": {},
   "outputs": [
    {
     "data": {
      "image/png": "[encoded data removed]",
      "text/plain": [
       "<Figure size 1800x500 with 1 Axes>"
      ]
     },
     "metadata": {},
     "output_type": "display_data"
    }
   ],
   "source": [
    "grafico = df_resultado[df_resultado[\"app\"] == \"Claro\"]\n",
    "grafico = grafico[\"output\"].value_counts().sort_index()\n",
    "\n",
    "sns.set_style(\"darkgrid\")\n",
    "fig, axes = plt.subplots(figsize=(18, 5))\n",
    "\n",
    "_ = sns.barplot(grafico)\n",
    "_ = plt.title(\"Vivo Sentimento\", loc=\"left\")\n",
    "_ = plt.xlabel(\"\")\n",
    "_ = plt.ylabel(\"\")"
   ]
  },
  {
   "cell_type": "code",
   "execution_count": null,
   "id": "26963faf",
   "metadata": {},
   "outputs": [],
   "source": []
  },
  {
   "cell_type": "markdown",
   "id": "4c620f72",
   "metadata": {},
   "source": [
    "# Classificação de Temas"
   ]
  },
  {
   "cell_type": "code",
   "execution_count": null,
   "id": "239c269e",
   "metadata": {},
   "outputs": [],
   "source": []
  }
 ],
 "metadata": {
  "kernelspec": {
   "display_name": "Python 3",
   "language": "python",
   "name": "python3"
  },
  "language_info": {
   "codemirror_mode": {
    "name": "ipython",
    "version": 3
   },
   "file_extension": ".py",
   "mimetype": "text/x-python",
   "name": "python",
   "nbconvert_exporter": "python",
   "pygments_lexer": "ipython3",
   "version": "3.13.3"
  }
 },
 "nbformat": 4,
 "nbformat_minor": 5
}
