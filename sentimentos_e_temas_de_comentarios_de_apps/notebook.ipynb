{
 "cells": [
  {
   "cell_type": "markdown",
   "id": "a5ed314f",
   "metadata": {},
   "source": [
    "O PySentimiento é uma das bibliotecas mais interessantes atualmente para análise de sentimentos e emoções com suporte a vários idiomas, incluindo português.\n",
    "\n",
    "Ele foi criado sobre modelos BERT e RoBERTa já pré-treinados e afinados (fine-tuned) para tarefas de NLP social, como:\n",
    "✅ Análise de sentimentos\n",
    "✅ Análise de emoções\n",
    "✅ Detecção de ódio\n",
    "✅ Detecção de ironia\n",
    "\n",
    "| Recurso                | Descrição                              |\n",
    "| ---------------------- | -------------------------------------- |\n",
    "| **Idiomas suportados** | en, es, it, pt, fr, ca, eu, gl         |\n",
    "| **Tarefas**            | Sentiment, Emotion, Hate Speech, Irony |\n",
    "| **Base**               | Modelos BERT/RoBERTa fine-tuned        |\n",
    "| **Instalação**         | `pip install pysentimiento`            |\n"
   ]
  },
  {
   "cell_type": "code",
   "execution_count": 7,
   "id": "eaed7d80",
   "metadata": {},
   "outputs": [
    {
     "name": "stderr",
     "output_type": "stream",
     "text": [
      "c:\\Users\\Computador\\AppData\\Local\\Programs\\Python\\Python310\\lib\\site-packages\\tqdm\\auto.py:21: TqdmWarning:\n",
      "\n",
      "IProgress not found. Please update jupyter and ipywidgets. See https://ipywidgets.readthedocs.io/en/stable/user_install.html\n",
      "\n"
     ]
    }
   ],
   "source": [
    "import pandas as pd\n",
    "\n",
    "import emoji\n",
    "from pysentimiento import create_analyzer\n",
    "\n",
    "import matplotlib.pyplot as plt\n",
    "import seaborn as sns\n",
    "import wordcloud\n",
    "import plotly.graph_objects as go"
   ]
  },
  {
   "cell_type": "code",
   "execution_count": 14,
   "id": "13f06883",
   "metadata": {},
   "outputs": [
    {
     "data": {
      "text/html": [
       "<div>\n",
       "<style scoped>\n",
       "    .dataframe tbody tr th:only-of-type {\n",
       "        vertical-align: middle;\n",
       "    }\n",
       "\n",
       "    .dataframe tbody tr th {\n",
       "        vertical-align: top;\n",
       "    }\n",
       "\n",
       "    .dataframe thead th {\n",
       "        text-align: right;\n",
       "    }\n",
       "</style>\n",
       "<table border=\"1\" class=\"dataframe\">\n",
       "  <thead>\n",
       "    <tr style=\"text-align: right;\">\n",
       "      <th></th>\n",
       "      <th>date</th>\n",
       "      <th>app_version</th>\n",
       "      <th>score</th>\n",
       "      <th>system</th>\n",
       "      <th>app</th>\n",
       "      <th>content</th>\n",
       "    </tr>\n",
       "  </thead>\n",
       "  <tbody>\n",
       "    <tr>\n",
       "      <th>0</th>\n",
       "      <td>2025-05-27 18:54:37</td>\n",
       "      <td>18.7.0</td>\n",
       "      <td>5</td>\n",
       "      <td>Android</td>\n",
       "      <td>Claro</td>\n",
       "      <td>legal 😎</td>\n",
       "    </tr>\n",
       "    <tr>\n",
       "      <th>1</th>\n",
       "      <td>2025-05-27 18:10:04</td>\n",
       "      <td>18.6.0</td>\n",
       "      <td>5</td>\n",
       "      <td>Android</td>\n",
       "      <td>Claro</td>\n",
       "      <td>Encontro facilidade por aqui 👏</td>\n",
       "    </tr>\n",
       "    <tr>\n",
       "      <th>2</th>\n",
       "      <td>2025-05-27 17:49:18</td>\n",
       "      <td>18.7.0</td>\n",
       "      <td>5</td>\n",
       "      <td>Android</td>\n",
       "      <td>Claro</td>\n",
       "      <td>muito bom</td>\n",
       "    </tr>\n",
       "    <tr>\n",
       "      <th>3</th>\n",
       "      <td>2025-05-27 17:46:20</td>\n",
       "      <td>NaN</td>\n",
       "      <td>1</td>\n",
       "      <td>Android</td>\n",
       "      <td>Claro</td>\n",
       "      <td>ruim que vc deseja não tem informações</td>\n",
       "    </tr>\n",
       "    <tr>\n",
       "      <th>4</th>\n",
       "      <td>2025-05-27 17:20:22</td>\n",
       "      <td>18.7.0</td>\n",
       "      <td>5</td>\n",
       "      <td>Android</td>\n",
       "      <td>Claro</td>\n",
       "      <td>melhor do mundo</td>\n",
       "    </tr>\n",
       "  </tbody>\n",
       "</table>\n",
       "</div>"
      ],
      "text/plain": [
       "                  date app_version  score   system    app  \\\n",
       "0  2025-05-27 18:54:37      18.7.0      5  Android  Claro   \n",
       "1  2025-05-27 18:10:04      18.6.0      5  Android  Claro   \n",
       "2  2025-05-27 17:49:18      18.7.0      5  Android  Claro   \n",
       "3  2025-05-27 17:46:20         NaN      1  Android  Claro   \n",
       "4  2025-05-27 17:20:22      18.7.0      5  Android  Claro   \n",
       "\n",
       "                                  content  \n",
       "0                                 legal 😎  \n",
       "1          Encontro facilidade por aqui 👏  \n",
       "2                               muito bom  \n",
       "3  ruim que vc deseja não tem informações  \n",
       "4                         melhor do mundo  "
      ]
     },
     "execution_count": 14,
     "metadata": {},
     "output_type": "execute_result"
    }
   ],
   "source": [
    "comentarios = pd.read_csv(\"comentarios.csv\")\n",
    "comentarios = comentarios[[\"date\", \"app_version\", \"score\", \"system\", \"app\", \"content\"]]\n",
    "comentarios.head()"
   ]
  },
  {
   "cell_type": "code",
   "execution_count": 16,
   "id": "ac87fd9d",
   "metadata": {},
   "outputs": [],
   "source": [
    "#Tenho 50k de comentários por app, mas vou usar apenas 5k\n",
    "comentarios_claro = comentarios[comentarios[\"app\"] == \"Claro\"][:5000]\n",
    "comentarios_tim = comentarios[comentarios[\"app\"] == \"TIM\"][:5000]\n",
    "comentarios_vivo = comentarios[comentarios[\"app\"] == \"Vivo\"][:5000]"
   ]
  },
  {
   "cell_type": "markdown",
   "id": "a53bc32e",
   "metadata": {},
   "source": [
    "**Processamento dos Emojis**"
   ]
  },
  {
   "cell_type": "code",
   "execution_count": 17,
   "id": "aaf2e000",
   "metadata": {},
   "outputs": [],
   "source": [
    "def remover_emojis(texto):\n",
    "    return emoji.demojize(texto, language='pt')\n",
    "\n",
    "comentarios_claro[\"comentario_sem_emoji\"] = comentarios_claro[\"content\"].apply(remover_emojis)\n",
    "comentarios_tim[\"comentario_sem_emoji\"] = comentarios_tim[\"content\"].apply(remover_emojis)\n",
    "comentarios_vivo[\"comentario_sem_emoji\"] = comentarios_vivo[\"content\"].apply(remover_emojis)\n"
   ]
  },
  {
   "cell_type": "markdown",
   "id": "59ad7702",
   "metadata": {},
   "source": [
    "|Tipo de Análise | Informativo |\n",
    "|----------------|-------------|\n",
    "| emotion        | aaaa        |\n",
    "| irony          | aaaa        |\n",
    "| hate_speech    | aaaa        |\n",
    "| sentiment      | aaaa        |"
   ]
  },
  {
   "cell_type": "markdown",
   "id": "c5cf1980",
   "metadata": {},
   "source": [
    "# Análise de Sentimento"
   ]
  },
  {
   "cell_type": "markdown",
   "id": "4aaeeed2",
   "metadata": {},
   "source": [
    "**pysentimiento**\n",
    "- Biblioteca que oferece modelos baseados em BERT, fine-tunados para emoções e sentimento em português.\n",
    "- Usa modelos robustos, prontos para uso.\n",
    "\n",
    "✅ Pontos positivos:\n",
    "Muito mais preciso.\n",
    "\n",
    "Entende contexto, ironia, gírias e até alguns emojis.\n",
    "\n",
    "Modelos modernos.\n",
    "\n",
    "❌ Pontos negativos:\n",
    "Mais pesado.\n",
    "\n",
    "Pode exigir mais tempo de execução.\n",
    "\n",
    "Não personalizável facilmente."
   ]
  },
  {
   "cell_type": "markdown",
   "id": "4c23d034",
   "metadata": {},
   "source": [
    "## Funções"
   ]
  },
  {
   "cell_type": "code",
   "execution_count": 56,
   "id": "fa76f326",
   "metadata": {},
   "outputs": [],
   "source": [
    "#Função para realizar todas as análises\n",
    "analyzers = {\n",
    "    \"irony\": create_analyzer(task=\"irony\", lang=\"pt\"),\n",
    "    \"hate_speech\": create_analyzer(task=\"hate_speech\", lang=\"pt\"),\n",
    "    \"sentiment\": create_analyzer(task=\"sentiment\", lang=\"pt\"),\n",
    "    \"emotion\": create_analyzer(task=\"emotion\", lang=\"pt\")\n",
    "}\n",
    "\n",
    "def analisar_sentimento_todos(texto, analyzers=analyzers):\n",
    "\n",
    "    if not isinstance(texto, str) or not texto.strip():\n",
    "        return pd.Series()\n",
    "\n",
    "    dados = {}\n",
    "\n",
    "    for tipo, analyzer in analyzers.items():\n",
    "        resultado = analyzer.predict(texto)\n",
    "\n",
    "        # Ajuste seguro do output\n",
    "        if isinstance(resultado.output, list):\n",
    "            saida = resultado.output[0] if resultado.output else None\n",
    "        else:\n",
    "            saida = resultado.output\n",
    "\n",
    "        dados[f\"{tipo}_output\"] = saida\n",
    "\n",
    "        for k, v in resultado.probas.items():\n",
    "            dados[f\"{tipo}_{k}\"] = v\n",
    "\n",
    "    return pd.Series(dados)\n"
   ]
  },
  {
   "cell_type": "code",
   "execution_count": 73,
   "id": "bc12b062",
   "metadata": {},
   "outputs": [],
   "source": [
    "#TESTE\n",
    "# Criando os analyzers\n",
    "analyzers = {\n",
    "    \"irony\": create_analyzer(task=\"irony\", lang=\"pt\"),\n",
    "    \"hate_speech\": create_analyzer(task=\"hate_speech\", lang=\"pt\"),\n",
    "    \"sentiment\": create_analyzer(task=\"sentiment\", lang=\"pt\"),\n",
    "    \"emotion\": create_analyzer(task=\"emotion\", lang=\"pt\")\n",
    "}\n",
    "\n",
    "# Grupos para emoções resumidas\n",
    "grupos_emocoes = {\n",
    "    \"alegria\": [\"admiration\", \"amusement\", \"approval\", \"excitement\",\n",
    "        \"gratitude\", \"joy\", \"love\", \"optimism\", \"pride\"],\n",
    "    \"tristeza\": [\"disappointment\", \"remorse\", \"sadness\"],\n",
    "    \"raiva\": [\"anger\", \"annoyance\", \"disapproval\", \"disgust\"],\n",
    "    \"medo\": [\"fear\", \"nervousness\", \"embarrassment\"],\n",
    "    \"surpresa\": [\"surprise\", \"realization\"],\n",
    "    \"confianca_interesse\": [\"curiosity\", \"desire\", \"caring\"],\n",
    "    \"confusao\": [\"confusion\"],\n",
    "    \"neutro\": [\"neutral\", None]\n",
    "}\n",
    "\n",
    "\n",
    "\n",
    "def analisar_sentimento_todos(texto, analyzers=analyzers):\n",
    "\n",
    "    if not isinstance(texto, str) or not texto.strip():\n",
    "        return pd.Series()\n",
    "\n",
    "    dados = {}\n",
    "\n",
    "    for tipo, analyzer in analyzers.items():\n",
    "        resultado = analyzer.predict(texto)\n",
    "\n",
    "        # Ajuste seguro do output\n",
    "        if isinstance(resultado.output, list):\n",
    "            saida = resultado.output[0] if resultado.output else None\n",
    "        else:\n",
    "            saida = resultado.output\n",
    "\n",
    "        dados[f\"{tipo}_output\"] = saida\n",
    "\n",
    "        if tipo == \"emotion\":\n",
    "            # Pós-processamento: agregando emoções\n",
    "            for grupo, emocoes in grupos_emocoes.items():\n",
    "                soma = sum(resultado.probas.get(e, 0) for e in emocoes)\n",
    "                dados[f\"{tipo}_{grupo}\"] = soma\n",
    "        else:\n",
    "            # Para outras tasks, mantém probas originais\n",
    "            for k, v in resultado.probas.items():\n",
    "                dados[f\"{tipo}_{k}\"] = v\n",
    "\n",
    "    return pd.Series(dados)\n"
   ]
  },
  {
   "cell_type": "code",
   "execution_count": null,
   "id": "ca1b69bf",
   "metadata": {},
   "outputs": [],
   "source": [
    "analyzers = {\n",
    "    \"irony\": create_analyzer(task=\"irony\", lang=\"pt\"),\n",
    "    \"hate_speech\": create_analyzer(task=\"hate_speech\", lang=\"pt\"),\n",
    "    \"sentiment\": create_analyzer(task=\"sentiment\", lang=\"pt\"),\n",
    "    \"emotion\": create_analyzer(task=\"emotion\", lang=\"pt\")\n",
    "}\n",
    "\n",
    "# Grupos para emoções resumidas\n",
    "grupos_emocoes = {\n",
    "    \"alegria\": [\"admiration\", \"amusement\", \"approval\", \"excitement\",\n",
    "                \"gratitude\", \"joy\", \"love\", \"optimism\", \"pride\"],\n",
    "    \"tristeza\": [\"disappointment\", \"remorse\", \"sadness\"],\n",
    "    \"raiva\": [\"anger\", \"annoyance\", \"disapproval\", \"disgust\"],\n",
    "    \"medo\": [\"fear\", \"nervousness\", \"embarrassment\"],\n",
    "    \"surpresa\": [\"surprise\", \"realization\"],\n",
    "    \"confianca\": [\"curiosity\", \"desire\", \"caring\"],\n",
    "    \"confusao\": [\"confusion\"],\n",
    "    \"neutro\": [\"neutral\", None]\n",
    "}\n",
    "\n",
    "def analisar_sentimento_todos(texto, analyzers=analyzers):\n",
    "    if not isinstance(texto, str) or not texto.strip():\n",
    "        return pd.Series()\n",
    "\n",
    "    dados = {}\n",
    "\n",
    "    for tipo, analyzer in analyzers.items():\n",
    "        resultado = analyzer.predict(texto)\n",
    "\n",
    "        # Ajuste seguro do output\n",
    "        if isinstance(resultado.output, list):\n",
    "            saida = resultado.output[0] if resultado.output else None\n",
    "        else:\n",
    "            saida = resultado.output\n",
    "\n",
    "        # Para emoção, substituir output pela categoria agregada\n",
    "        if tipo == \"emotion\":\n",
    "            # Pós-processamento: agregando emoções\n",
    "            grupo_probs = {}\n",
    "            for grupo, emocoes in grupos_emocoes.items():\n",
    "                soma = sum(resultado.probas.get(e, 0) for e in emocoes)\n",
    "                dados[f\"{tipo}_{grupo}\"] = soma\n",
    "                grupo_probs[grupo] = soma\n",
    "            \n",
    "            # Encontrar o grupo com maior probabilidade\n",
    "            if grupo_probs:\n",
    "                grupo_principal = max(grupo_probs, key=grupo_probs.get)\n",
    "            else:\n",
    "                grupo_principal = None\n",
    "\n",
    "            dados[f\"{tipo}_output\"] = grupo_principal\n",
    "        else:\n",
    "            # Mantém output original\n",
    "            dados[f\"{tipo}_output\"] = saida\n",
    "            # Mantém probas originais\n",
    "            for k, v in resultado.probas.items():\n",
    "                dados[f\"{tipo}_{k}\"] = v\n",
    "\n",
    "    return pd.Series(dados)\n"
   ]
  },
  {
   "cell_type": "code",
   "execution_count": 7,
   "id": "61fc093f",
   "metadata": {},
   "outputs": [],
   "source": [
    "#Função para realizar apenas uma análise\n",
    "def analisar_sentimento(texto):\n",
    "    resultado = analyzer.predict(texto)\n",
    "\n",
    "    if resultado.output:\n",
    "        saida = resultado.output[0]\n",
    "    else:\n",
    "        saida = None\n",
    "\n",
    "    dados = {'output':  saida}\n",
    "\n",
    "    for emocao, prob in resultado.probas.items():\n",
    "        dados[emocao] = prob\n",
    "\n",
    "    return pd.Series(dados)"
   ]
  },
  {
   "cell_type": "markdown",
   "id": "645ebdbf",
   "metadata": {},
   "source": [
    "## Análises"
   ]
  },
  {
   "cell_type": "code",
   "execution_count": 8,
   "id": "ef44563f",
   "metadata": {},
   "outputs": [
    {
     "ename": "NameError",
     "evalue": "name 'comentarios_claro' is not defined",
     "output_type": "error",
     "traceback": [
      "\u001b[1;31m---------------------------------------------------------------------------\u001b[0m",
      "\u001b[1;31mNameError\u001b[0m                                 Traceback (most recent call last)",
      "Cell \u001b[1;32mIn[8], line 1\u001b[0m\n\u001b[1;32m----> 1\u001b[0m resultados \u001b[38;5;241m=\u001b[39m \u001b[43mcomentarios_claro\u001b[49m[\u001b[38;5;124m\"\u001b[39m\u001b[38;5;124mcomentario_sem_emoji\u001b[39m\u001b[38;5;124m\"\u001b[39m]\u001b[38;5;241m.\u001b[39mapply(analisar_sentimento_todos)\n\u001b[0;32m      2\u001b[0m df_claro \u001b[38;5;241m=\u001b[39m pd\u001b[38;5;241m.\u001b[39mconcat([comentarios_claro, resultados], axis\u001b[38;5;241m=\u001b[39m\u001b[38;5;241m1\u001b[39m)\n",
      "\u001b[1;31mNameError\u001b[0m: name 'comentarios_claro' is not defined"
     ]
    }
   ],
   "source": [
    "resultados = comentarios_claro[\"comentario_sem_emoji\"].apply(analisar_sentimento_todos)\n",
    "df_claro = pd.concat([comentarios_claro, resultados], axis=1)"
   ]
  },
  {
   "cell_type": "code",
   "execution_count": null,
   "id": "1516ffec",
   "metadata": {},
   "outputs": [],
   "source": [
    "resultados = comentarios_tim[\"comentario_sem_emoji\"].apply(analisar_sentimento_todos)\n",
    "df_tim = pd.concat([comentarios_tim, resultados], axis=1)"
   ]
  },
  {
   "cell_type": "code",
   "execution_count": null,
   "id": "8092c3c7",
   "metadata": {},
   "outputs": [],
   "source": [
    "resultados = comentarios_vivo[\"comentario_sem_emoji\"].apply(analisar_sentimento_todos)\n",
    "df_vivo = pd.concat([comentarios_vivo, resultados], axis=1)"
   ]
  },
  {
   "cell_type": "code",
   "execution_count": 9,
   "id": "dc87b1bf",
   "metadata": {},
   "outputs": [],
   "source": [
    "df_claro = pd.read_csv(\"df_claro2.csv\")\n",
    "df_tim = pd.read_csv(\"df_tim2.csv\")\n",
    "df_vivo = pd.read_csv(\"df_vivo2.csv\")"
   ]
  },
  {
   "cell_type": "code",
   "execution_count": null,
   "id": "68b3f5a8",
   "metadata": {},
   "outputs": [
    {
     "data": {
      "image/png": "[encoded data removed]",
      "text/plain": [
       "<Figure size 1000x600 with 1 Axes>"
      ]
     },
     "metadata": {},
     "output_type": "display_data"
    }
   ],
   "source": [
    "# Mapear sentimentos para Negativo, Neutro e Positivo\n",
    "def map_sentiment(sent):\n",
    "    if sent in ['NEG', 'negativo']:\n",
    "        return 'Negativo'\n",
    "    elif sent in ['NEU', 'neutro']:\n",
    "        return 'Neutro'\n",
    "    elif sent in ['POS', 'positivo']:\n",
    "        return 'Positivo'\n",
    "    else:\n",
    "        return 'Outro'\n",
    "\n",
    "# Concatenar os DataFrames\n",
    "df_geral = pd.concat([df_vivo, df_tim, df_claro], ignore_index=True)\n",
    "df_geral['sentimento_simplificado'] = df_geral['sentiment_output'].apply(map_sentiment)\n",
    "\n",
    "# Ajustar o estilo\n",
    "sns.set_style(\"darkgrid\")\n",
    "plt.figure(figsize=(10, 6))\n",
    "\n",
    "# Plotar gráfico com hue simplificado\n",
    "sns.countplot(\n",
    "    data=df_geral,\n",
    "    x='app',\n",
    "    hue='sentimento_simplificado',\n",
    "    palette={'Negativo': '#FF4C4C', 'Neutro': '#FFA500', 'Positivo': '#4CAF50'},\n",
    "    hue_order=['Negativo', 'Neutro', 'Positivo']\n",
    ")\n",
    "\n",
    "plt.title(\"Distribuição de Sentimentos por Operadora\", loc=\"center\")\n",
    "plt.xlabel(\"Operadora\")\n",
    "plt.ylabel(\"Quantidade de Comentários\")\n",
    "plt.legend(title=\"Sentimento\")\n",
    "\n",
    "plt.show()\n"
   ]
  },
  {
   "cell_type": "code",
   "execution_count": 56,
   "id": "51313850",
   "metadata": {},
   "outputs": [],
   "source": [
    "values_claro = df_geral[df_geral['app'] == 'Claro'][['emotion_alegria', 'emotion_tristeza', 'emotion_raiva',\n",
    "              'emotion_medo', 'emotion_surpresa', 'emotion_confianca_interesse',\n",
    "              'emotion_confusao', 'emotion_neutro']].mean().tolist()\n",
    "\n",
    "values_tim = df_geral[df_geral['app'] == 'TIM'][['emotion_alegria', 'emotion_tristeza', 'emotion_raiva',\n",
    "              'emotion_medo', 'emotion_surpresa', 'emotion_confianca_interesse',\n",
    "              'emotion_confusao', 'emotion_neutro']].mean().tolist()\n",
    "\n",
    "values_vivo = df_geral[df_geral['app'] == 'Vivo'][['emotion_alegria', 'emotion_tristeza', 'emotion_raiva',\n",
    "              'emotion_medo', 'emotion_surpresa', 'emotion_confianca_interesse',\n",
    "              'emotion_confusao', 'emotion_neutro']].mean().tolist()\n"
   ]
  },
  {
   "cell_type": "code",
   "execution_count": 57,
   "id": "239c269e",
   "metadata": {},
   "outputs": [
    {
     "data": {
      "application/vnd.plotly.v1+json": {
       "config": {
        "plotlyServerURL": "https://plot.ly"
       },
       "data": [
        {
         "fill": "toself",
         "line": {
          "color": "royalblue"
         },
         "name": "Vivo",
         "opacity": 0.7,
         "r": [
          0.7169671464748492,
          0.0605275731071491,
          0.11397380103817263,
          0.011243614778492287,
          0.012484722283214745,
          0.02425978509625997,
          0.01256057885217301,
          0.19687194429864174
         ],
         "subplot": "polar",
         "theta": [
          "Alegria",
          "Tristeza",
          "Raiva",
          "Medo",
          "Surpresa",
          "Confiança",
          "Confusão",
          "Neutro"
         ],
         "type": "scatterpolar"
        },
        {
         "fill": "toself",
         "line": {
          "color": "firebrick"
         },
         "name": "TIM",
         "opacity": 0.7,
         "r": [
          0.40852146923624094,
          0.13971812278031642,
          0.3054232505774155,
          0.0353212702341159,
          0.01721962180388359,
          0.040544805134841544,
          0.022807547629438294,
          0.23312840640295762
         ],
         "subplot": "polar2",
         "theta": [
          "Alegria",
          "Tristeza",
          "Raiva",
          "Medo",
          "Surpresa",
          "Confiança",
          "Confusão",
          "Neutro"
         ],
         "type": "scatterpolar"
        },
        {
         "fill": "toself",
         "line": {
          "color": "darkgreen"
         },
         "name": "Claro",
         "opacity": 0.7,
         "r": [
          0.7415250697585761,
          0.051162092643432286,
          0.10585465412192276,
          0.009948424427616504,
          0.013660066870099349,
          0.025169435289523926,
          0.010700695005606347,
          0.1944239021373214
         ],
         "subplot": "polar3",
         "theta": [
          "Alegria",
          "Tristeza",
          "Raiva",
          "Medo",
          "Surpresa",
          "Confiança",
          "Confusão",
          "Neutro"
         ],
         "type": "scatterpolar"
        }
       ],
       "layout": {
        "annotations": [
         {
          "font": {
           "size": 16
          },
          "showarrow": false,
          "text": "Vivo",
          "x": 0.13,
          "xref": "paper",
          "y": 1.1,
          "yref": "paper"
         },
         {
          "font": {
           "size": 16
          },
          "showarrow": false,
          "text": "TIM",
          "x": 0.5,
          "xref": "paper",
          "y": 1.1,
          "yref": "paper"
         },
         {
          "font": {
           "size": 16
          },
          "showarrow": false,
          "text": "Claro",
          "x": 0.87,
          "xref": "paper",
          "y": 1.1,
          "yref": "paper"
         }
        ],
        "height": 650,
        "polar": {
         "domain": {
          "x": [
           0,
           0.2888888888888889
          ],
          "y": [
           0,
           1
          ]
         },
         "radialaxis": {
          "visible": false
         }
        },
        "polar2": {
         "domain": {
          "x": [
           0.35555555555555557,
           0.6444444444444445
          ],
          "y": [
           0,
           1
          ]
         },
         "radialaxis": {
          "visible": false
         }
        },
        "polar3": {
         "domain": {
          "x": [
           0.7111111111111111,
           1
          ],
          "y": [
           0,
           1
          ]
         },
         "radialaxis": {
          "visible": false
         }
        },
        "showlegend": false,
        "template": {
         "data": {
          "bar": [
           {
            "error_x": {
             "color": "#2a3f5f"
            },
            "error_y": {
             "color": "#2a3f5f"
            },
            "marker": {
             "line": {
              "color": "#E5ECF6",
              "width": 0.5
             },
             "pattern": {
              "fillmode": "overlay",
              "size": 10,
              "solidity": 0.2
             }
            },
            "type": "bar"
           }
          ],
          "barpolar": [
           {
            "marker": {
             "line": {
              "color": "#E5ECF6",
              "width": 0.5
             },
             "pattern": {
              "fillmode": "overlay",
              "size": 10,
              "solidity": 0.2
             }
            },
            "type": "barpolar"
           }
          ],
          "carpet": [
           {
            "aaxis": {
             "endlinecolor": "#2a3f5f",
             "gridcolor": "white",
             "linecolor": "white",
             "minorgridcolor": "white",
             "startlinecolor": "#2a3f5f"
            },
            "baxis": {
             "endlinecolor": "#2a3f5f",
             "gridcolor": "white",
             "linecolor": "white",
             "minorgridcolor": "white",
             "startlinecolor": "#2a3f5f"
            },
            "type": "carpet"
           }
          ],
          "choropleth": [
           {
            "colorbar": {
             "outlinewidth": 0,
             "ticks": ""
            },
            "type": "choropleth"
           }
          ],
          "contour": [
           {
            "colorbar": {
             "outlinewidth": 0,
             "ticks": ""
            },
            "colorscale": [
             [
              0,
              "#0d0887"
             ],
             [
              0.1111111111111111,
              "#46039f"
             ],
             [
              0.2222222222222222,
              "#7201a8"
             ],
             [
              0.3333333333333333,
              "#9c179e"
             ],
             [
              0.4444444444444444,
              "#bd3786"
             ],
             [
              0.5555555555555556,
              "#d8576b"
             ],
             [
              0.6666666666666666,
              "#ed7953"
             ],
             [
              0.7777777777777778,
              "#fb9f3a"
             ],
             [
              0.8888888888888888,
              "#fdca26"
             ],
             [
              1,
              "#f0f921"
             ]
            ],
            "type": "contour"
           }
          ],
          "contourcarpet": [
           {
            "colorbar": {
             "outlinewidth": 0,
             "ticks": ""
            },
            "type": "contourcarpet"
           }
          ],
          "heatmap": [
           {
            "colorbar": {
             "outlinewidth": 0,
             "ticks": ""
            },
            "colorscale": [
             [
              0,
              "#0d0887"
             ],
             [
              0.1111111111111111,
              "#46039f"
             ],
             [
              0.2222222222222222,
              "#7201a8"
             ],
             [
              0.3333333333333333,
              "#9c179e"
             ],
             [
              0.4444444444444444,
              "#bd3786"
             ],
             [
              0.5555555555555556,
              "#d8576b"
             ],
             [
              0.6666666666666666,
              "#ed7953"
             ],
             [
              0.7777777777777778,
              "#fb9f3a"
             ],
             [
              0.8888888888888888,
              "#fdca26"
             ],
             [
              1,
              "#f0f921"
             ]
            ],
            "type": "heatmap"
           }
          ],
          "histogram": [
           {
            "marker": {
             "pattern": {
              "fillmode": "overlay",
              "size": 10,
              "solidity": 0.2
             }
            },
            "type": "histogram"
           }
          ],
          "histogram2d": [
           {
            "colorbar": {
             "outlinewidth": 0,
             "ticks": ""
            },
            "colorscale": [
             [
              0,
              "#0d0887"
             ],
             [
              0.1111111111111111,
              "#46039f"
             ],
             [
              0.2222222222222222,
              "#7201a8"
             ],
             [
              0.3333333333333333,
              "#9c179e"
             ],
             [
              0.4444444444444444,
              "#bd3786"
             ],
             [
              0.5555555555555556,
              "#d8576b"
             ],
             [
              0.6666666666666666,
              "#ed7953"
             ],
             [
              0.7777777777777778,
              "#fb9f3a"
             ],
             [
              0.8888888888888888,
              "#fdca26"
             ],
             [
              1,
              "#f0f921"
             ]
            ],
            "type": "histogram2d"
           }
          ],
          "histogram2dcontour": [
           {
            "colorbar": {
             "outlinewidth": 0,
             "ticks": ""
            },
            "colorscale": [
             [
              0,
              "#0d0887"
             ],
             [
              0.1111111111111111,
              "#46039f"
             ],
             [
              0.2222222222222222,
              "#7201a8"
             ],
             [
              0.3333333333333333,
              "#9c179e"
             ],
             [
              0.4444444444444444,
              "#bd3786"
             ],
             [
              0.5555555555555556,
              "#d8576b"
             ],
             [
              0.6666666666666666,
              "#ed7953"
             ],
             [
              0.7777777777777778,
              "#fb9f3a"
             ],
             [
              0.8888888888888888,
              "#fdca26"
             ],
             [
              1,
              "#f0f921"
             ]
            ],
            "type": "histogram2dcontour"
           }
          ],
          "mesh3d": [
           {
            "colorbar": {
             "outlinewidth": 0,
             "ticks": ""
            },
            "type": "mesh3d"
           }
          ],
          "parcoords": [
           {
            "line": {
             "colorbar": {
              "outlinewidth": 0,
              "ticks": ""
             }
            },
            "type": "parcoords"
           }
          ],
          "pie": [
           {
            "automargin": true,
            "type": "pie"
           }
          ],
          "scatter": [
           {
            "fillpattern": {
             "fillmode": "overlay",
             "size": 10,
             "solidity": 0.2
            },
            "type": "scatter"
           }
          ],
          "scatter3d": [
           {
            "line": {
             "colorbar": {
              "outlinewidth": 0,
              "ticks": ""
             }
            },
            "marker": {
             "colorbar": {
              "outlinewidth": 0,
              "ticks": ""
             }
            },
            "type": "scatter3d"
           }
          ],
          "scattercarpet": [
           {
            "marker": {
             "colorbar": {
              "outlinewidth": 0,
              "ticks": ""
             }
            },
            "type": "scattercarpet"
           }
          ],
          "scattergeo": [
           {
            "marker": {
             "colorbar": {
              "outlinewidth": 0,
              "ticks": ""
             }
            },
            "type": "scattergeo"
           }
          ],
          "scattergl": [
           {
            "marker": {
             "colorbar": {
              "outlinewidth": 0,
              "ticks": ""
             }
            },
            "type": "scattergl"
           }
          ],
          "scattermap": [
           {
            "marker": {
             "colorbar": {
              "outlinewidth": 0,
              "ticks": ""
             }
            },
            "type": "scattermap"
           }
          ],
          "scattermapbox": [
           {
            "marker": {
             "colorbar": {
              "outlinewidth": 0,
              "ticks": ""
             }
            },
            "type": "scattermapbox"
           }
          ],
          "scatterpolar": [
           {
            "marker": {
             "colorbar": {
              "outlinewidth": 0,
              "ticks": ""
             }
            },
            "type": "scatterpolar"
           }
          ],
          "scatterpolargl": [
           {
            "marker": {
             "colorbar": {
              "outlinewidth": 0,
              "ticks": ""
             }
            },
            "type": "scatterpolargl"
           }
          ],
          "scatterternary": [
           {
            "marker": {
             "colorbar": {
              "outlinewidth": 0,
              "ticks": ""
             }
            },
            "type": "scatterternary"
           }
          ],
          "surface": [
           {
            "colorbar": {
             "outlinewidth": 0,
             "ticks": ""
            },
            "colorscale": [
             [
              0,
              "#0d0887"
             ],
             [
              0.1111111111111111,
              "#46039f"
             ],
             [
              0.2222222222222222,
              "#7201a8"
             ],
             [
              0.3333333333333333,
              "#9c179e"
             ],
             [
              0.4444444444444444,
              "#bd3786"
             ],
             [
              0.5555555555555556,
              "#d8576b"
             ],
             [
              0.6666666666666666,
              "#ed7953"
             ],
             [
              0.7777777777777778,
              "#fb9f3a"
             ],
             [
              0.8888888888888888,
              "#fdca26"
             ],
             [
              1,
              "#f0f921"
             ]
            ],
            "type": "surface"
           }
          ],
          "table": [
           {
            "cells": {
             "fill": {
              "color": "#EBF0F8"
             },
             "line": {
              "color": "white"
             }
            },
            "header": {
             "fill": {
              "color": "#C8D4E3"
             },
             "line": {
              "color": "white"
             }
            },
            "type": "table"
           }
          ]
         },
         "layout": {
          "annotationdefaults": {
           "arrowcolor": "#2a3f5f",
           "arrowhead": 0,
           "arrowwidth": 1
          },
          "autotypenumbers": "strict",
          "coloraxis": {
           "colorbar": {
            "outlinewidth": 0,
            "ticks": ""
           }
          },
          "colorscale": {
           "diverging": [
            [
             0,
             "#8e0152"
            ],
            [
             0.1,
             "#c51b7d"
            ],
            [
             0.2,
             "#de77ae"
            ],
            [
             0.3,
             "#f1b6da"
            ],
            [
             0.4,
             "#fde0ef"
            ],
            [
             0.5,
             "#f7f7f7"
            ],
            [
             0.6,
             "#e6f5d0"
            ],
            [
             0.7,
             "#b8e186"
            ],
            [
             0.8,
             "#7fbc41"
            ],
            [
             0.9,
             "#4d9221"
            ],
            [
             1,
             "#276419"
            ]
           ],
           "sequential": [
            [
             0,
             "#0d0887"
            ],
            [
             0.1111111111111111,
             "#46039f"
            ],
            [
             0.2222222222222222,
             "#7201a8"
            ],
            [
             0.3333333333333333,
             "#9c179e"
            ],
            [
             0.4444444444444444,
             "#bd3786"
            ],
            [
             0.5555555555555556,
             "#d8576b"
            ],
            [
             0.6666666666666666,
             "#ed7953"
            ],
            [
             0.7777777777777778,
             "#fb9f3a"
            ],
            [
             0.8888888888888888,
             "#fdca26"
            ],
            [
             1,
             "#f0f921"
            ]
           ],
           "sequentialminus": [
            [
             0,
             "#0d0887"
            ],
            [
             0.1111111111111111,
             "#46039f"
            ],
            [
             0.2222222222222222,
             "#7201a8"
            ],
            [
             0.3333333333333333,
             "#9c179e"
            ],
            [
             0.4444444444444444,
             "#bd3786"
            ],
            [
             0.5555555555555556,
             "#d8576b"
            ],
            [
             0.6666666666666666,
             "#ed7953"
            ],
            [
             0.7777777777777778,
             "#fb9f3a"
            ],
            [
             0.8888888888888888,
             "#fdca26"
            ],
            [
             1,
             "#f0f921"
            ]
           ]
          },
          "colorway": [
           "#636efa",
           "#EF553B",
           "#00cc96",
           "#ab63fa",
           "#FFA15A",
           "#19d3f3",
           "#FF6692",
           "#B6E880",
           "#FF97FF",
           "#FECB52"
          ],
          "font": {
           "color": "#2a3f5f"
          },
          "geo": {
           "bgcolor": "white",
           "lakecolor": "white",
           "landcolor": "#E5ECF6",
           "showlakes": true,
           "showland": true,
           "subunitcolor": "white"
          },
          "hoverlabel": {
           "align": "left"
          },
          "hovermode": "closest",
          "mapbox": {
           "style": "light"
          },
          "paper_bgcolor": "white",
          "plot_bgcolor": "#E5ECF6",
          "polar": {
           "angularaxis": {
            "gridcolor": "white",
            "linecolor": "white",
            "ticks": ""
           },
           "bgcolor": "#E5ECF6",
           "radialaxis": {
            "gridcolor": "white",
            "linecolor": "white",
            "ticks": ""
           }
          },
          "scene": {
           "xaxis": {
            "backgroundcolor": "#E5ECF6",
            "gridcolor": "white",
            "gridwidth": 2,
            "linecolor": "white",
            "showbackground": true,
            "ticks": "",
            "zerolinecolor": "white"
           },
           "yaxis": {
            "backgroundcolor": "#E5ECF6",
            "gridcolor": "white",
            "gridwidth": 2,
            "linecolor": "white",
            "showbackground": true,
            "ticks": "",
            "zerolinecolor": "white"
           },
           "zaxis": {
            "backgroundcolor": "#E5ECF6",
            "gridcolor": "white",
            "gridwidth": 2,
            "linecolor": "white",
            "showbackground": true,
            "ticks": "",
            "zerolinecolor": "white"
           }
          },
          "shapedefaults": {
           "line": {
            "color": "#2a3f5f"
           }
          },
          "ternary": {
           "aaxis": {
            "gridcolor": "white",
            "linecolor": "white",
            "ticks": ""
           },
           "baxis": {
            "gridcolor": "white",
            "linecolor": "white",
            "ticks": ""
           },
           "bgcolor": "#E5ECF6",
           "caxis": {
            "gridcolor": "white",
            "linecolor": "white",
            "ticks": ""
           }
          },
          "title": {
           "x": 0.05
          },
          "xaxis": {
           "automargin": true,
           "gridcolor": "white",
           "linecolor": "white",
           "ticks": "",
           "title": {
            "standoff": 15
           },
           "zerolinecolor": "white",
           "zerolinewidth": 2
          },
          "yaxis": {
           "automargin": true,
           "gridcolor": "white",
           "linecolor": "white",
           "ticks": "",
           "title": {
            "standoff": 15
           },
           "zerolinecolor": "white",
           "zerolinewidth": 2
          }
         }
        },
        "title": {
         "text": "Distribuição de Emoções por Operadora"
        },
        "width": 1800
       }
      }
     },
     "metadata": {},
     "output_type": "display_data"
    }
   ],
   "source": [
    "import plotly.graph_objects as go\n",
    "from plotly.subplots import make_subplots\n",
    "\n",
    "categories = ['Alegria', 'Tristeza', 'Raiva', 'Medo', 'Surpresa', 'Confiança', 'Confusão', 'Neutro']\n",
    "\n",
    "# Valores de exemplo para cada operadora\n",
    "values_vivo = values_vivo\n",
    "values_tim = values_tim\n",
    "values_claro = values_claro\n",
    "\n",
    "# Criar subplots\n",
    "fig = make_subplots(\n",
    "    rows=1, cols=3,\n",
    "    specs=[[{'type': 'polar'}, {'type': 'polar'}, {'type': 'polar'}]]\n",
    ")\n",
    "\n",
    "# Gráfico Vivo\n",
    "fig.add_trace(go.Scatterpolar(\n",
    "    r=values_vivo,  # Não fechando a linha\n",
    "    theta=categories,\n",
    "    fill='toself',\n",
    "    name='Vivo',\n",
    "    line=dict(color='royalblue'),\n",
    "    opacity=0.7\n",
    "), row=1, col=1)\n",
    "\n",
    "# Gráfico TIM\n",
    "fig.add_trace(go.Scatterpolar(\n",
    "    r=values_tim,\n",
    "    theta=categories,\n",
    "    fill='toself',\n",
    "    name='TIM',\n",
    "    line=dict(color='firebrick'),\n",
    "    opacity=0.7\n",
    "), row=1, col=2)\n",
    "\n",
    "# Gráfico Claro\n",
    "fig.add_trace(go.Scatterpolar(\n",
    "    r=values_claro,\n",
    "    theta=categories,\n",
    "    fill='toself',\n",
    "    name='Claro',\n",
    "    line=dict(color='darkgreen'),\n",
    "    opacity=0.7\n",
    "), row=1, col=3)\n",
    "\n",
    "# Ajustar o layout geral\n",
    "fig.update_layout(\n",
    "    showlegend=False,\n",
    "    title_text=\"Distribuição de Emoções por Operadora\",\n",
    "    height=650, width=1800,\n",
    ")\n",
    "\n",
    "fig.update_layout(\n",
    "    polar=dict(radialaxis=dict(visible=False)),\n",
    "    polar2=dict(radialaxis=dict(visible=False)),\n",
    "    polar3=dict(radialaxis=dict(visible=False))\n",
    ")\n",
    "\n",
    "\n",
    "# Ajuste do posicionamento dos títulos: mais para cima\n",
    "fig.add_annotation(dict(font=dict(size=16),\n",
    "                        x=0.13,\n",
    "                        y=1.1,\n",
    "                        showarrow=False,\n",
    "                        text=\"Vivo\",\n",
    "                        xref=\"paper\",\n",
    "                        yref=\"paper\"))\n",
    "\n",
    "fig.add_annotation(dict(font=dict(size=16),\n",
    "                        x=0.5,\n",
    "                        y=1.1,\n",
    "                        showarrow=False,\n",
    "                        text=\"TIM\",\n",
    "                        xref=\"paper\",\n",
    "                        yref=\"paper\"))\n",
    "\n",
    "fig.add_annotation(dict(font=dict(size=16),\n",
    "                        x=0.87,\n",
    "                        y=1.1,\n",
    "                        showarrow=False,\n",
    "                        text=\"Claro\",\n",
    "                        xref=\"paper\",\n",
    "                        yref=\"paper\"))\n",
    "\n",
    "fig.show()\n"
   ]
  },
  {
   "cell_type": "markdown",
   "id": "4c620f72",
   "metadata": {},
   "source": [
    "# Classificação de Temas"
   ]
  }
 ],
 "metadata": {
  "kernelspec": {
   "display_name": "Python 3",
   "language": "python",
   "name": "python3"
  },
  "language_info": {
   "codemirror_mode": {
    "name": "ipython",
    "version": 3
   },
   "file_extension": ".py",
   "mimetype": "text/x-python",
   "name": "python",
   "nbconvert_exporter": "python",
   "pygments_lexer": "ipython3",
   "version": "3.10.0"
  }
 },
 "nbformat": 4,
 "nbformat_minor": 5
}
