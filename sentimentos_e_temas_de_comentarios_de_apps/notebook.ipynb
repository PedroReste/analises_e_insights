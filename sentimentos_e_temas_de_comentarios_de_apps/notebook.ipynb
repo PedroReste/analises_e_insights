{
 "cells": [
  {
   "cell_type": "markdown",
   "id": "a5ed314f",
   "metadata": {},
   "source": [
    "O PySentimiento é uma das bibliotecas mais interessantes atualmente para análise de sentimentos e emoções com suporte a vários idiomas, incluindo português.\n",
    "\n",
    "Ele foi criado sobre modelos BERT e RoBERTa já pré-treinados e afinados (fine-tuned) para tarefas de NLP social, como:\n",
    "✅ Análise de sentimentos\n",
    "✅ Análise de emoções\n",
    "✅ Detecção de ódio\n",
    "✅ Detecção de ironia\n",
    "\n",
    "| Recurso                | Descrição                              |\n",
    "| ---------------------- | -------------------------------------- |\n",
    "| **Idiomas suportados** | en, es, it, pt, fr, ca, eu, gl         |\n",
    "| **Tarefas**            | Sentiment, Emotion, Hate Speech, Irony |\n",
    "| **Base**               | Modelos BERT/RoBERTa fine-tuned        |\n",
    "| **Instalação**         | `pip install pysentimiento`            |\n"
   ]
  },
  {
   "cell_type": "code",
   "execution_count": 90,
   "id": "eaed7d80",
   "metadata": {},
   "outputs": [],
   "source": [
    "#Coletados Comentários\n",
    "from google_play_scraper import Sort, reviews\n",
    "\n",
    "#Armazenamento em DF\n",
    "import pandas as pd\n",
    "pd.set_option('display.max_rows', None)\n",
    "pd.set_option('display.max_columns', None)\n",
    "\n",
    "#Transformar a coluna de versões para fazer filtro melhores\n",
    "from packaging.version import parse\n",
    "\n",
    "#Para realizar paralelismo\n",
    "import swifter\n",
    "\n",
    "#Tratamentos\n",
    "import emoji\n",
    "import language_tool_python\n",
    "\n",
    "#Sentimentos dos Comentários\n",
    "from pysentimiento import create_analyzer\n",
    "\n",
    "#Temas dos Comentários\n",
    "import wordcloud\n",
    "\n",
    "#Gráficos\n",
    "import matplotlib.pyplot as plt\n",
    "import seaborn as sns\n",
    "import plotly.graph_objects as go\n",
    "from plotly.subplots import make_subplots"
   ]
  },
  {
   "cell_type": "markdown",
   "id": "df0cb6d8",
   "metadata": {},
   "source": [
    "**Extração de Comentários**"
   ]
  },
  {
   "cell_type": "code",
   "execution_count": 5,
   "id": "f0aea699",
   "metadata": {},
   "outputs": [
    {
     "data": {
      "text/html": [
       "<div>\n",
       "<style scoped>\n",
       "    .dataframe tbody tr th:only-of-type {\n",
       "        vertical-align: middle;\n",
       "    }\n",
       "\n",
       "    .dataframe tbody tr th {\n",
       "        vertical-align: top;\n",
       "    }\n",
       "\n",
       "    .dataframe thead th {\n",
       "        text-align: right;\n",
       "    }\n",
       "</style>\n",
       "<table border=\"1\" class=\"dataframe\">\n",
       "  <thead>\n",
       "    <tr style=\"text-align: right;\">\n",
       "      <th></th>\n",
       "      <th>date</th>\n",
       "      <th>score</th>\n",
       "      <th>app_version</th>\n",
       "      <th>app</th>\n",
       "      <th>content</th>\n",
       "    </tr>\n",
       "  </thead>\n",
       "  <tbody>\n",
       "    <tr>\n",
       "      <th>0</th>\n",
       "      <td>2025-06-03 09:29:03</td>\n",
       "      <td>5</td>\n",
       "      <td>18.8.0</td>\n",
       "      <td>Claro</td>\n",
       "      <td>ok</td>\n",
       "    </tr>\n",
       "    <tr>\n",
       "      <th>1</th>\n",
       "      <td>2025-06-03 09:26:10</td>\n",
       "      <td>5</td>\n",
       "      <td>18.8.0</td>\n",
       "      <td>Claro</td>\n",
       "      <td>APP bom excelente fácil de usar</td>\n",
       "    </tr>\n",
       "    <tr>\n",
       "      <th>2</th>\n",
       "      <td>2025-06-03 09:21:24</td>\n",
       "      <td>5</td>\n",
       "      <td>18.8.0</td>\n",
       "      <td>Claro</td>\n",
       "      <td>gostei</td>\n",
       "    </tr>\n",
       "    <tr>\n",
       "      <th>3</th>\n",
       "      <td>2025-06-03 09:14:17</td>\n",
       "      <td>1</td>\n",
       "      <td>18.8.0</td>\n",
       "      <td>Claro</td>\n",
       "      <td>Bom dia. Não estou conseguindo adicionar um no...</td>\n",
       "    </tr>\n",
       "    <tr>\n",
       "      <th>4</th>\n",
       "      <td>2025-06-03 08:47:37</td>\n",
       "      <td>1</td>\n",
       "      <td>18.8.0</td>\n",
       "      <td>Claro</td>\n",
       "      <td>eu fico doente só de lembra que tenho essa ope...</td>\n",
       "    </tr>\n",
       "  </tbody>\n",
       "</table>\n",
       "</div>"
      ],
      "text/plain": [
       "                 date  score app_version    app  \\\n",
       "0 2025-06-03 09:29:03      5      18.8.0  Claro   \n",
       "1 2025-06-03 09:26:10      5      18.8.0  Claro   \n",
       "2 2025-06-03 09:21:24      5      18.8.0  Claro   \n",
       "3 2025-06-03 09:14:17      1      18.8.0  Claro   \n",
       "4 2025-06-03 08:47:37      1      18.8.0  Claro   \n",
       "\n",
       "                                             content  \n",
       "0                                                 ok  \n",
       "1                    APP bom excelente fácil de usar  \n",
       "2                                             gostei  \n",
       "3  Bom dia. Não estou conseguindo adicionar um no...  \n",
       "4  eu fico doente só de lembra que tenho essa ope...  "
      ]
     },
     "execution_count": 5,
     "metadata": {},
     "output_type": "execute_result"
    }
   ],
   "source": [
    "qtd_comentarios = 10000\n",
    "\n",
    "dados_android = []\n",
    "\n",
    "apps = {\n",
    "    \"Claro\": \"com.nvt.cs\",\n",
    "    \"TIM\": \"br.com.timbrasil.meutim\",\n",
    "    \"Vivo\": \"br.com.vivo\"\n",
    "}\n",
    "\n",
    "for app, app_id in apps.items():\n",
    "    result, _ = reviews(\n",
    "        app_id,\n",
    "        lang='pt',\n",
    "        country='br',\n",
    "        sort=Sort.NEWEST,\n",
    "        count=qtd_comentarios\n",
    "    )\n",
    "        \n",
    "    for review in result:\n",
    "        dados_android.append({\n",
    "            \"app\": app,\n",
    "            \"score\": review.get(\"score\", None),\n",
    "            \"content\": review.get(\"content\", None),\n",
    "            \"app_version\": review.get(\"appVersion\", None),\n",
    "            \"date\": review.get(\"at\", None),\n",
    "            \"reply_content\": review.get(\"replyContent\", None),\n",
    "            \"reply_date\": review.get(\"repliedAt\", None)\n",
    "        })\n",
    "\n",
    "comentarios_android = pd.DataFrame(dados_android, columns=[\"date\", \"score\", \"app_version\", \"app\",  \"content\"])\n",
    "\n",
    "comentarios_android.to_csv(\"comentarios.csv\", index=False)\n",
    "comentarios_android.head()"
   ]
  },
  {
   "cell_type": "markdown",
   "id": "1f310279",
   "metadata": {},
   "source": [
    "# Tratamento nos comentários"
   ]
  },
  {
   "cell_type": "markdown",
   "id": "a53bc32e",
   "metadata": {},
   "source": [
    "**Processamento dos Emojis**"
   ]
  },
  {
   "cell_type": "code",
   "execution_count": 7,
   "id": "aaf2e000",
   "metadata": {},
   "outputs": [
    {
     "name": "stderr",
     "output_type": "stream",
     "text": [
      "Pandas Apply: 100%|██████████| 30000/30000 [3:42:42<00:00,  2.25it/s]   \n"
     ]
    }
   ],
   "source": [
    "def remover_emojis(texto):\n",
    "    return emoji.demojize(texto, language='pt')\n",
    "\n",
    "tool = language_tool_python.LanguageTool('pt-BR')\n",
    "\n",
    "def ajuste_ortografico(texto):\n",
    "    matches = tool.check(texto)\n",
    "    return language_tool_python.utils.correct(texto, matches)\n",
    "\n",
    "def processamento_texto(texto):\n",
    "    texto_sem_emoji = remover_emojis(texto)\n",
    "    texto_corrigido = ajuste_ortografico(texto_sem_emoji)\n",
    "    return texto_corrigido\n",
    "\n",
    "comentarios_android[\"content_proc\"] = comentarios_android[\"content\"].swifter.apply(processamento_texto)"
   ]
  },
  {
   "cell_type": "markdown",
   "id": "c5cf1980",
   "metadata": {},
   "source": [
    "# Análise de Sentimento"
   ]
  },
  {
   "cell_type": "markdown",
   "id": "4aaeeed2",
   "metadata": {},
   "source": [
    "**pysentimiento**\n",
    "- Biblioteca que oferece modelos baseados em BERT, fine-tunados para emoções e sentimento em português.\n",
    "- Usa modelos robustos, prontos para uso.\n",
    "\n",
    "✅ Pontos positivos:\n",
    "Muito mais preciso.\n",
    "\n",
    "Entende contexto, ironia, gírias e até alguns emojis.\n",
    "\n",
    "Modelos modernos.\n",
    "\n",
    "❌ Pontos negativos:\n",
    "Mais pesado.\n",
    "\n",
    "Pode exigir mais tempo de execução.\n",
    "\n",
    "Não personalizável facilmente."
   ]
  },
  {
   "cell_type": "markdown",
   "id": "4c23d034",
   "metadata": {},
   "source": [
    "## Funções"
   ]
  },
  {
   "cell_type": "code",
   "execution_count": 10,
   "id": "ca1b69bf",
   "metadata": {},
   "outputs": [],
   "source": [
    "analyzers = {\n",
    "    \"irony\": create_analyzer(task=\"irony\", lang=\"pt\"),\n",
    "    \"sentiment\": create_analyzer(task=\"sentiment\", lang=\"pt\"),\n",
    "    \"emotion\": create_analyzer(task=\"emotion\", lang=\"pt\"),\n",
    "}\n",
    "\n",
    "# Grupos para emoções resumidas\n",
    "grupos_emocoes = {\n",
    "    \"alegria\": [\"admiration\", \"amusement\", \"approval\", \"excitement\",\n",
    "                \"gratitude\", \"joy\", \"love\", \"optimism\", \"pride\"],\n",
    "    \"tristeza\": [\"disappointment\", \"remorse\", \"sadness\"],\n",
    "    \"raiva\": [\"anger\", \"annoyance\", \"disapproval\", \"disgust\"],\n",
    "    \"medo\": [\"fear\", \"nervousness\", \"embarrassment\"],\n",
    "    \"surpresa\": [\"surprise\", \"realization\"],\n",
    "    \"confianca\": [\"curiosity\", \"desire\", \"caring\"],\n",
    "    \"confusao\": [\"confusion\"],\n",
    "    \"neutro\": [\"neutral\", None]\n",
    "}\n",
    "\n",
    "def analisar_sentimento_todos(texto, analyzers=analyzers):\n",
    "    if not isinstance(texto, str) or not texto.strip():\n",
    "        return pd.Series()\n",
    "\n",
    "    dados = {}\n",
    "\n",
    "    for tipo, analyzer in analyzers.items():\n",
    "        resultado = analyzer.predict(texto)\n",
    "\n",
    "        # Ajuste seguro do output\n",
    "        if isinstance(resultado.output, list):\n",
    "            saida = resultado.output[0] if resultado.output else None\n",
    "        else:\n",
    "            saida = resultado.output\n",
    "\n",
    "        # Para emoção, substituir output pela categoria agregada\n",
    "        if tipo == \"emotion\":\n",
    "            # Pós-processamento: agregando emoções\n",
    "            grupo_probs = {}\n",
    "            for grupo, emocoes in grupos_emocoes.items():\n",
    "                soma = sum(resultado.probas.get(e, 0) for e in emocoes)\n",
    "                dados[f\"{tipo}_{grupo}\"] = soma\n",
    "                grupo_probs[grupo] = soma\n",
    "            \n",
    "            # Encontrar o grupo com maior probabilidade\n",
    "            if grupo_probs:\n",
    "                grupo_principal = max(grupo_probs, key=grupo_probs.get)\n",
    "            else:\n",
    "                grupo_principal = None\n",
    "\n",
    "            dados[f\"{tipo}_output\"] = grupo_principal\n",
    "        else:\n",
    "            # Mantém output original\n",
    "            dados[f\"{tipo}_output\"] = saida\n",
    "            # Mantém probas originais\n",
    "            for k, v in resultado.probas.items():\n",
    "                dados[f\"{tipo}_{k}\"] = v\n",
    "\n",
    "    return pd.Series(dados)\n"
   ]
  },
  {
   "cell_type": "code",
   "execution_count": 7,
   "id": "61fc093f",
   "metadata": {},
   "outputs": [],
   "source": [
    "#Função para realizar apenas uma análise\n",
    "def analisar_sentimento(texto):\n",
    "    resultado = analyzer.predict(texto)\n",
    "\n",
    "    if resultado.output:\n",
    "        saida = resultado.output[0]\n",
    "    else:\n",
    "        saida = None\n",
    "\n",
    "    dados = {'output':  saida}\n",
    "\n",
    "    for emocao, prob in resultado.probas.items():\n",
    "        dados[emocao] = prob\n",
    "\n",
    "    return pd.Series(dados)"
   ]
  },
  {
   "cell_type": "markdown",
   "id": "645ebdbf",
   "metadata": {},
   "source": [
    "## Análises\n",
    "\n",
    "Meio inútil para esse caso as análises de Hate Speech e Irony, parece que os textos são muito curtos ou para comentários das Stores não são tão eficientes."
   ]
  },
  {
   "cell_type": "code",
   "execution_count": 12,
   "id": "ef44563f",
   "metadata": {},
   "outputs": [
    {
     "name": "stderr",
     "output_type": "stream",
     "text": [
      "Pandas Apply: 100%|██████████| 30000/30000 [1:08:03<00:00,  7.35it/s]\n"
     ]
    }
   ],
   "source": [
    "resultados = comentarios_android[\"content_proc\"].swifter.apply(analisar_sentimento_todos)\n",
    "df = pd.concat([comentarios_android, resultados], axis=1)"
   ]
  },
  {
   "cell_type": "code",
   "execution_count": null,
   "id": "f07f0130",
   "metadata": {},
   "outputs": [
    {
     "name": "stdout",
     "output_type": "stream",
     "text": [
      "Data mínima da Claro:  2025-02-01 22:26:00\n",
      "Data mínima da TIM:  2025-01-29 01:37:47\n",
      "Data mínima da Vivo:  2025-02-01 22:26:00\n",
      "Data máxima da Claro:  2025-06-03 09:29:03\n",
      "Data máxima da TIM:  2025-06-03 09:33:35\n",
      "Data máxima da Vivo:  2025-06-03 09:29:03\n"
     ]
    }
   ],
   "source": [
    "print(\"Data mínima da Claro: \", df[df['app']=='Claro']['date'].min())\n",
    "print(\"Data mínima da TIM: \", df[df['app']=='TIM']['date'].min())\n",
    "print(\"Data mínima da Vivo: \", df[df['app']=='Claro']['date'].min())\n",
    "print(\"Data máxima da Claro: \", df[df['app']=='Claro']['date'].max())\n",
    "print(\"Data máxima da TIM: \", df[df['app']=='TIM']['date'].max())\n",
    "print(\"Data máxima da Vivo: \", df[df['app']=='Claro']['date'].max())"
   ]
  },
  {
   "cell_type": "markdown",
   "id": "ebc9cb96",
   "metadata": {},
   "source": [
    "### Notas"
   ]
  },
  {
   "cell_type": "code",
   "execution_count": 27,
   "id": "7c1994df",
   "metadata": {},
   "outputs": [
    {
     "data": {
      "image/png": "[encoded data removed]",
      "text/plain": [
       "<Figure size 1000x600 with 1 Axes>"
      ]
     },
     "metadata": {},
     "output_type": "display_data"
    }
   ],
   "source": [
    "sns.set_style(\"darkgrid\")\n",
    "plt.figure(figsize=(10, 6))\n",
    "\n",
    "# Plotar gráfico com hue simplificado\n",
    "sns.countplot(\n",
    "    data=df,\n",
    "    x='app',\n",
    "    hue='score',\n",
    "    palette={1: '#FF4C4C', 2: '#FFA500', 3: \"#FFFB00\", 4: \"#A0E95C\", 5: '#4CAF50'},\n",
    "    hue_order=[1, 2, 3, 4, 5]\n",
    ")\n",
    "\n",
    "plt.title(\"Notas dos Comentários Recentes por Operadora\", loc=\"center\")\n",
    "plt.xlabel(\"Operadora\")\n",
    "plt.ylabel(\"Qtd Comentários por Nota\")\n",
    "plt.legend(title=\"Nota\")\n",
    "\n",
    "plt.show()"
   ]
  },
  {
   "cell_type": "code",
   "execution_count": 130,
   "id": "a54a626e",
   "metadata": {},
   "outputs": [
    {
     "data": {
      "image/png": "[encoded data removed]",
      "text/plain": [
       "<Figure size 1200x600 with 1 Axes>"
      ]
     },
     "metadata": {},
     "output_type": "display_data"
    }
   ],
   "source": [
    "def agrupa_versao(v):\n",
    "    if pd.isnull(v):\n",
    "        return 'Outros'\n",
    "    try:\n",
    "        return v if parse(str(v)) >= parse('17.0') else 'Outros'\n",
    "    except:\n",
    "        return 'Outros'\n",
    "\n",
    "resultado = df[df['app'] == 'Claro'].copy()\n",
    "resultado['app_version'] = resultado['app_version'].fillna('0')\n",
    "resultado['app_version_agrupada'] = resultado['app_version'].apply(agrupa_versao)\n",
    "\n",
    "media_por_versao = resultado.groupby('app_version_agrupada')['score'].mean().reset_index()\n",
    "\n",
    "# 4. Gráfico de barras da nota média por versão\n",
    "plt.figure(figsize=(12,6))\n",
    "sns.barplot(data=media_por_versao, x='app_version_agrupada', y='score', palette='viridis')\n",
    "\n",
    "plt.xticks(rotation=45, ha='right')  # gira as labels para melhor visualização\n",
    "plt.xlabel('Versão do App')\n",
    "plt.ylabel('Nota Média')\n",
    "plt.title('Nota Média por Versão do App - Claro')\n",
    "plt.tight_layout()\n",
    "plt.show()\n"
   ]
  },
  {
   "cell_type": "code",
   "execution_count": 129,
   "id": "a05ff96d",
   "metadata": {},
   "outputs": [
    {
     "data": {
      "image/png": "[encoded data removed]",
      "text/plain": [
       "<Figure size 1200x600 with 1 Axes>"
      ]
     },
     "metadata": {},
     "output_type": "display_data"
    }
   ],
   "source": [
    "def agrupa_versao(v):\n",
    "    if pd.isnull(v):\n",
    "        return 'Outros'\n",
    "    try:\n",
    "        return v if parse(str(v)) >= parse('7.0') else 'Outros'\n",
    "    except:\n",
    "        return 'Outros'\n",
    "\n",
    "resultado = df[df['app'] == 'TIM'].copy()\n",
    "resultado['app_version'] = resultado['app_version'].fillna('0')\n",
    "resultado['app_version_agrupada'] = resultado['app_version'].apply(agrupa_versao)\n",
    "\n",
    "media_por_versao = resultado.groupby('app_version_agrupada')['score'].mean().reset_index()\n",
    "\n",
    "# 4. Gráfico de barras da nota média por versão\n",
    "plt.figure(figsize=(12,6))\n",
    "sns.barplot(data=media_por_versao, x='app_version_agrupada', y='score', palette='viridis')\n",
    "\n",
    "plt.xticks(rotation=45, ha='right')  # gira as labels para melhor visualização\n",
    "plt.xlabel('Versão do App')\n",
    "plt.ylabel('Nota Média')\n",
    "plt.title('Nota Média por Versão do App - TIM')\n",
    "plt.tight_layout()\n",
    "plt.show()"
   ]
  },
  {
   "cell_type": "code",
   "execution_count": 127,
   "id": "e99efc76",
   "metadata": {},
   "outputs": [
    {
     "data": {
      "image/png": "[encoded data removed]",
      "text/plain": [
       "<Figure size 1200x600 with 1 Axes>"
      ]
     },
     "metadata": {},
     "output_type": "display_data"
    }
   ],
   "source": [
    "def agrupa_versao(v):\n",
    "    if pd.isnull(v):\n",
    "        return 'Outros'\n",
    "    try:\n",
    "        return v if parse(str(v)) >= parse('20.0') else 'Outros'\n",
    "    except:\n",
    "        return 'Outros'\n",
    "\n",
    "resultado = df[df['app'] == 'Vivo'].copy()\n",
    "resultado['app_version'] = resultado['app_version'].fillna('0')\n",
    "resultado['app_version_agrupada'] = resultado['app_version'].apply(agrupa_versao)\n",
    "\n",
    "media_por_versao = resultado.groupby('app_version_agrupada')['score'].mean().reset_index()\n",
    "\n",
    "# 4. Gráfico de barras da nota média por versão\n",
    "plt.figure(figsize=(12,6))\n",
    "sns.barplot(data=media_por_versao, x='app_version_agrupada', y='score', palette='viridis')\n",
    "\n",
    "plt.xticks(rotation=45, ha='right')  # gira as labels para melhor visualização\n",
    "plt.xlabel('Versão do App')\n",
    "plt.ylabel('Nota Média')\n",
    "plt.title('Nota Média por Versão do App - Vivo')\n",
    "plt.tight_layout()\n",
    "plt.show()"
   ]
  },
  {
   "cell_type": "markdown",
   "id": "5fe94cf6",
   "metadata": {},
   "source": [
    "### Sentimentos por Versão"
   ]
  },
  {
   "cell_type": "markdown",
   "id": "8c19ca2a",
   "metadata": {},
   "source": [
    "#### Claro"
   ]
  },
  {
   "cell_type": "code",
   "execution_count": null,
   "id": "21f45263",
   "metadata": {},
   "outputs": [
    {
     "data": {
      "text/html": [
       "<div>\n",
       "<style scoped>\n",
       "    .dataframe tbody tr th:only-of-type {\n",
       "        vertical-align: middle;\n",
       "    }\n",
       "\n",
       "    .dataframe tbody tr th {\n",
       "        vertical-align: top;\n",
       "    }\n",
       "\n",
       "    .dataframe thead th {\n",
       "        text-align: right;\n",
       "    }\n",
       "</style>\n",
       "<table border=\"1\" class=\"dataframe\">\n",
       "  <thead>\n",
       "    <tr style=\"text-align: right;\">\n",
       "      <th>app_version_agrupada</th>\n",
       "      <th>17.10.0</th>\n",
       "      <th>17.14.0</th>\n",
       "      <th>17.14.1</th>\n",
       "      <th>17.16.0</th>\n",
       "      <th>17.17.0</th>\n",
       "      <th>17.17.1</th>\n",
       "      <th>17.18.0</th>\n",
       "      <th>17.19.2</th>\n",
       "      <th>17.20.1</th>\n",
       "      <th>17.21.0</th>\n",
       "      <th>17.22.0</th>\n",
       "      <th>17.22.1</th>\n",
       "      <th>17.24.0</th>\n",
       "      <th>17.25.0</th>\n",
       "      <th>17.26.0</th>\n",
       "      <th>17.27.0</th>\n",
       "      <th>17.29.0</th>\n",
       "      <th>17.3.0</th>\n",
       "      <th>17.30.0</th>\n",
       "      <th>17.31.0</th>\n",
       "      <th>17.33.0</th>\n",
       "      <th>17.36.0</th>\n",
       "      <th>17.37.0</th>\n",
       "      <th>17.39.0</th>\n",
       "      <th>17.41.0</th>\n",
       "      <th>17.42.0</th>\n",
       "      <th>17.43.0</th>\n",
       "      <th>17.44.1</th>\n",
       "      <th>17.45.2</th>\n",
       "      <th>17.46.0</th>\n",
       "      <th>17.47.1</th>\n",
       "      <th>17.48.0</th>\n",
       "      <th>17.49.0</th>\n",
       "      <th>17.5.0</th>\n",
       "      <th>17.50.0</th>\n",
       "      <th>17.51.0</th>\n",
       "      <th>17.52.0</th>\n",
       "      <th>17.53.0</th>\n",
       "      <th>17.54.0</th>\n",
       "      <th>17.55.0</th>\n",
       "      <th>17.56.0</th>\n",
       "      <th>17.6.0</th>\n",
       "      <th>17.7.0</th>\n",
       "      <th>18.0.0</th>\n",
       "      <th>18.1.0</th>\n",
       "      <th>18.2.0</th>\n",
       "      <th>18.3.0</th>\n",
       "      <th>18.4.0</th>\n",
       "      <th>18.5.0</th>\n",
       "      <th>18.6.0</th>\n",
       "      <th>18.7.0</th>\n",
       "      <th>18.8.0</th>\n",
       "      <th>Outros</th>\n",
       "    </tr>\n",
       "    <tr>\n",
       "      <th>sentiment_output</th>\n",
       "      <th></th>\n",
       "      <th></th>\n",
       "      <th></th>\n",
       "      <th></th>\n",
       "      <th></th>\n",
       "      <th></th>\n",
       "      <th></th>\n",
       "      <th></th>\n",
       "      <th></th>\n",
       "      <th></th>\n",
       "      <th></th>\n",
       "      <th></th>\n",
       "      <th></th>\n",
       "      <th></th>\n",
       "      <th></th>\n",
       "      <th></th>\n",
       "      <th></th>\n",
       "      <th></th>\n",
       "      <th></th>\n",
       "      <th></th>\n",
       "      <th></th>\n",
       "      <th></th>\n",
       "      <th></th>\n",
       "      <th></th>\n",
       "      <th></th>\n",
       "      <th></th>\n",
       "      <th></th>\n",
       "      <th></th>\n",
       "      <th></th>\n",
       "      <th></th>\n",
       "      <th></th>\n",
       "      <th></th>\n",
       "      <th></th>\n",
       "      <th></th>\n",
       "      <th></th>\n",
       "      <th></th>\n",
       "      <th></th>\n",
       "      <th></th>\n",
       "      <th></th>\n",
       "      <th></th>\n",
       "      <th></th>\n",
       "      <th></th>\n",
       "      <th></th>\n",
       "      <th></th>\n",
       "      <th></th>\n",
       "      <th></th>\n",
       "      <th></th>\n",
       "      <th></th>\n",
       "      <th></th>\n",
       "      <th></th>\n",
       "      <th></th>\n",
       "      <th></th>\n",
       "      <th></th>\n",
       "    </tr>\n",
       "  </thead>\n",
       "  <tbody>\n",
       "    <tr>\n",
       "      <th>NEG</th>\n",
       "      <td>0.0</td>\n",
       "      <td>0.0</td>\n",
       "      <td>0.0</td>\n",
       "      <td>1.0</td>\n",
       "      <td>2.0</td>\n",
       "      <td>1.0</td>\n",
       "      <td>1.0</td>\n",
       "      <td>0.0</td>\n",
       "      <td>0.0</td>\n",
       "      <td>2.0</td>\n",
       "      <td>1.0</td>\n",
       "      <td>0.0</td>\n",
       "      <td>0.0</td>\n",
       "      <td>0.0</td>\n",
       "      <td>1.0</td>\n",
       "      <td>3.0</td>\n",
       "      <td>2.0</td>\n",
       "      <td>1.0</td>\n",
       "      <td>2.0</td>\n",
       "      <td>1.0</td>\n",
       "      <td>0.0</td>\n",
       "      <td>1.0</td>\n",
       "      <td>3.0</td>\n",
       "      <td>3.0</td>\n",
       "      <td>0.0</td>\n",
       "      <td>0.0</td>\n",
       "      <td>3.0</td>\n",
       "      <td>6.0</td>\n",
       "      <td>3.0</td>\n",
       "      <td>0.0</td>\n",
       "      <td>1.0</td>\n",
       "      <td>8.0</td>\n",
       "      <td>57.0</td>\n",
       "      <td>1.0</td>\n",
       "      <td>76.0</td>\n",
       "      <td>28.0</td>\n",
       "      <td>75.0</td>\n",
       "      <td>87.0</td>\n",
       "      <td>231.0</td>\n",
       "      <td>65.0</td>\n",
       "      <td>164.0</td>\n",
       "      <td>0.0</td>\n",
       "      <td>1.0</td>\n",
       "      <td>118.0</td>\n",
       "      <td>32.0</td>\n",
       "      <td>45.0</td>\n",
       "      <td>89.0</td>\n",
       "      <td>158.0</td>\n",
       "      <td>138.0</td>\n",
       "      <td>88.0</td>\n",
       "      <td>40.0</td>\n",
       "      <td>21.0</td>\n",
       "      <td>336.0</td>\n",
       "    </tr>\n",
       "    <tr>\n",
       "      <th>NEU</th>\n",
       "      <td>1.0</td>\n",
       "      <td>2.0</td>\n",
       "      <td>1.0</td>\n",
       "      <td>1.0</td>\n",
       "      <td>0.0</td>\n",
       "      <td>1.0</td>\n",
       "      <td>0.0</td>\n",
       "      <td>1.0</td>\n",
       "      <td>1.0</td>\n",
       "      <td>0.0</td>\n",
       "      <td>0.0</td>\n",
       "      <td>1.0</td>\n",
       "      <td>2.0</td>\n",
       "      <td>0.0</td>\n",
       "      <td>0.0</td>\n",
       "      <td>1.0</td>\n",
       "      <td>0.0</td>\n",
       "      <td>1.0</td>\n",
       "      <td>1.0</td>\n",
       "      <td>0.0</td>\n",
       "      <td>1.0</td>\n",
       "      <td>0.0</td>\n",
       "      <td>1.0</td>\n",
       "      <td>1.0</td>\n",
       "      <td>0.0</td>\n",
       "      <td>1.0</td>\n",
       "      <td>2.0</td>\n",
       "      <td>3.0</td>\n",
       "      <td>7.0</td>\n",
       "      <td>1.0</td>\n",
       "      <td>2.0</td>\n",
       "      <td>8.0</td>\n",
       "      <td>82.0</td>\n",
       "      <td>2.0</td>\n",
       "      <td>92.0</td>\n",
       "      <td>42.0</td>\n",
       "      <td>110.0</td>\n",
       "      <td>142.0</td>\n",
       "      <td>290.0</td>\n",
       "      <td>93.0</td>\n",
       "      <td>211.0</td>\n",
       "      <td>1.0</td>\n",
       "      <td>0.0</td>\n",
       "      <td>150.0</td>\n",
       "      <td>33.0</td>\n",
       "      <td>72.0</td>\n",
       "      <td>131.0</td>\n",
       "      <td>210.0</td>\n",
       "      <td>176.0</td>\n",
       "      <td>115.0</td>\n",
       "      <td>60.0</td>\n",
       "      <td>47.0</td>\n",
       "      <td>149.0</td>\n",
       "    </tr>\n",
       "    <tr>\n",
       "      <th>POS</th>\n",
       "      <td>1.0</td>\n",
       "      <td>2.0</td>\n",
       "      <td>2.0</td>\n",
       "      <td>0.0</td>\n",
       "      <td>1.0</td>\n",
       "      <td>0.0</td>\n",
       "      <td>2.0</td>\n",
       "      <td>0.0</td>\n",
       "      <td>3.0</td>\n",
       "      <td>1.0</td>\n",
       "      <td>0.0</td>\n",
       "      <td>1.0</td>\n",
       "      <td>1.0</td>\n",
       "      <td>1.0</td>\n",
       "      <td>0.0</td>\n",
       "      <td>1.0</td>\n",
       "      <td>1.0</td>\n",
       "      <td>0.0</td>\n",
       "      <td>2.0</td>\n",
       "      <td>0.0</td>\n",
       "      <td>1.0</td>\n",
       "      <td>0.0</td>\n",
       "      <td>5.0</td>\n",
       "      <td>0.0</td>\n",
       "      <td>1.0</td>\n",
       "      <td>2.0</td>\n",
       "      <td>4.0</td>\n",
       "      <td>3.0</td>\n",
       "      <td>15.0</td>\n",
       "      <td>1.0</td>\n",
       "      <td>9.0</td>\n",
       "      <td>30.0</td>\n",
       "      <td>231.0</td>\n",
       "      <td>0.0</td>\n",
       "      <td>276.0</td>\n",
       "      <td>110.0</td>\n",
       "      <td>288.0</td>\n",
       "      <td>374.0</td>\n",
       "      <td>807.0</td>\n",
       "      <td>217.0</td>\n",
       "      <td>570.0</td>\n",
       "      <td>0.0</td>\n",
       "      <td>0.0</td>\n",
       "      <td>391.0</td>\n",
       "      <td>83.0</td>\n",
       "      <td>209.0</td>\n",
       "      <td>335.0</td>\n",
       "      <td>577.0</td>\n",
       "      <td>476.0</td>\n",
       "      <td>310.0</td>\n",
       "      <td>160.0</td>\n",
       "      <td>96.0</td>\n",
       "      <td>255.0</td>\n",
       "    </tr>\n",
       "  </tbody>\n",
       "</table>\n",
       "</div>"
      ],
      "text/plain": [
       "app_version_agrupada  17.10.0  17.14.0  17.14.1  17.16.0  17.17.0  17.17.1  \\\n",
       "sentiment_output                                                             \n",
       "NEG                       0.0      0.0      0.0      1.0      2.0      1.0   \n",
       "NEU                       1.0      2.0      1.0      1.0      0.0      1.0   \n",
       "POS                       1.0      2.0      2.0      0.0      1.0      0.0   \n",
       "\n",
       "app_version_agrupada  17.18.0  17.19.2  17.20.1  17.21.0  17.22.0  17.22.1  \\\n",
       "sentiment_output                                                             \n",
       "NEG                       1.0      0.0      0.0      2.0      1.0      0.0   \n",
       "NEU                       0.0      1.0      1.0      0.0      0.0      1.0   \n",
       "POS                       2.0      0.0      3.0      1.0      0.0      1.0   \n",
       "\n",
       "app_version_agrupada  17.24.0  17.25.0  17.26.0  17.27.0  17.29.0  17.3.0  \\\n",
       "sentiment_output                                                            \n",
       "NEG                       0.0      0.0      1.0      3.0      2.0     1.0   \n",
       "NEU                       2.0      0.0      0.0      1.0      0.0     1.0   \n",
       "POS                       1.0      1.0      0.0      1.0      1.0     0.0   \n",
       "\n",
       "app_version_agrupada  17.30.0  17.31.0  17.33.0  17.36.0  17.37.0  17.39.0  \\\n",
       "sentiment_output                                                             \n",
       "NEG                       2.0      1.0      0.0      1.0      3.0      3.0   \n",
       "NEU                       1.0      0.0      1.0      0.0      1.0      1.0   \n",
       "POS                       2.0      0.0      1.0      0.0      5.0      0.0   \n",
       "\n",
       "app_version_agrupada  17.41.0  17.42.0  17.43.0  17.44.1  17.45.2  17.46.0  \\\n",
       "sentiment_output                                                             \n",
       "NEG                       0.0      0.0      3.0      6.0      3.0      0.0   \n",
       "NEU                       0.0      1.0      2.0      3.0      7.0      1.0   \n",
       "POS                       1.0      2.0      4.0      3.0     15.0      1.0   \n",
       "\n",
       "app_version_agrupada  17.47.1  17.48.0  17.49.0  17.5.0  17.50.0  17.51.0  \\\n",
       "sentiment_output                                                            \n",
       "NEG                       1.0      8.0     57.0     1.0     76.0     28.0   \n",
       "NEU                       2.0      8.0     82.0     2.0     92.0     42.0   \n",
       "POS                       9.0     30.0    231.0     0.0    276.0    110.0   \n",
       "\n",
       "app_version_agrupada  17.52.0  17.53.0  17.54.0  17.55.0  17.56.0  17.6.0  \\\n",
       "sentiment_output                                                            \n",
       "NEG                      75.0     87.0    231.0     65.0    164.0     0.0   \n",
       "NEU                     110.0    142.0    290.0     93.0    211.0     1.0   \n",
       "POS                     288.0    374.0    807.0    217.0    570.0     0.0   \n",
       "\n",
       "app_version_agrupada  17.7.0  18.0.0  18.1.0  18.2.0  18.3.0  18.4.0  18.5.0  \\\n",
       "sentiment_output                                                               \n",
       "NEG                      1.0   118.0    32.0    45.0    89.0   158.0   138.0   \n",
       "NEU                      0.0   150.0    33.0    72.0   131.0   210.0   176.0   \n",
       "POS                      0.0   391.0    83.0   209.0   335.0   577.0   476.0   \n",
       "\n",
       "app_version_agrupada  18.6.0  18.7.0  18.8.0  Outros  \n",
       "sentiment_output                                      \n",
       "NEG                     88.0    40.0    21.0   336.0  \n",
       "NEU                    115.0    60.0    47.0   149.0  \n",
       "POS                    310.0   160.0    96.0   255.0  "
      ]
     },
     "execution_count": 89,
     "metadata": {},
     "output_type": "execute_result"
    }
   ],
   "source": [
    "def agrupa_versao(v):\n",
    "    if pd.isnull(v):\n",
    "        return 'Outros'\n",
    "    try:\n",
    "        return v if parse(str(v)) >= parse('17.0.0') else 'Outros'\n",
    "    except:\n",
    "        return 'Outros'\n",
    "\n",
    "resultado = df[df['app'] == 'Claro'].copy()\n",
    "resultado['app_version'] = resultado['app_version'].fillna('0')\n",
    "resultado['app_version_agrupada'] = resultado['app_version'].apply(agrupa_versao)\n",
    "\n",
    "resultado_grouped = (resultado\n",
    "                     .groupby(['sentiment_output', 'app_version_agrupada'])\n",
    "                     .size()\n",
    "                     .reset_index(name='contagem'))\n",
    "\n",
    "tabela = resultado_grouped.pivot(index='sentiment_output',\n",
    "                                 columns='app_version_agrupada',\n",
    "                                 values='contagem').fillna(0)\n",
    "\n",
    "tabela"
   ]
  },
  {
   "cell_type": "code",
   "execution_count": null,
   "id": "ae4b9115",
   "metadata": {},
   "outputs": [
    {
     "data": {
      "text/html": [
       "<div>\n",
       "<style scoped>\n",
       "    .dataframe tbody tr th:only-of-type {\n",
       "        vertical-align: middle;\n",
       "    }\n",
       "\n",
       "    .dataframe tbody tr th {\n",
       "        vertical-align: top;\n",
       "    }\n",
       "\n",
       "    .dataframe thead th {\n",
       "        text-align: right;\n",
       "    }\n",
       "</style>\n",
       "<table border=\"1\" class=\"dataframe\">\n",
       "  <thead>\n",
       "    <tr style=\"text-align: right;\">\n",
       "      <th>app_version_agrupada</th>\n",
       "      <th>17.49.0</th>\n",
       "      <th>17.50.0</th>\n",
       "      <th>17.52.0</th>\n",
       "      <th>17.53.0</th>\n",
       "      <th>17.54.0</th>\n",
       "      <th>17.55.0</th>\n",
       "      <th>17.56.0</th>\n",
       "      <th>18.0.0</th>\n",
       "      <th>18.2.0</th>\n",
       "      <th>18.3.0</th>\n",
       "      <th>18.4.0</th>\n",
       "      <th>18.5.0</th>\n",
       "      <th>18.6.0</th>\n",
       "      <th>18.7.0</th>\n",
       "      <th>Outros</th>\n",
       "    </tr>\n",
       "    <tr>\n",
       "      <th>sentiment_output</th>\n",
       "      <th></th>\n",
       "      <th></th>\n",
       "      <th></th>\n",
       "      <th></th>\n",
       "      <th></th>\n",
       "      <th></th>\n",
       "      <th></th>\n",
       "      <th></th>\n",
       "      <th></th>\n",
       "      <th></th>\n",
       "      <th></th>\n",
       "      <th></th>\n",
       "      <th></th>\n",
       "      <th></th>\n",
       "      <th></th>\n",
       "    </tr>\n",
       "  </thead>\n",
       "  <tbody>\n",
       "    <tr>\n",
       "      <th>NEG</th>\n",
       "      <td>57</td>\n",
       "      <td>76</td>\n",
       "      <td>75</td>\n",
       "      <td>87</td>\n",
       "      <td>231</td>\n",
       "      <td>65</td>\n",
       "      <td>164</td>\n",
       "      <td>118</td>\n",
       "      <td>45</td>\n",
       "      <td>89</td>\n",
       "      <td>158</td>\n",
       "      <td>138</td>\n",
       "      <td>88</td>\n",
       "      <td>40</td>\n",
       "      <td>173</td>\n",
       "    </tr>\n",
       "    <tr>\n",
       "      <th>NEU</th>\n",
       "      <td>82</td>\n",
       "      <td>92</td>\n",
       "      <td>110</td>\n",
       "      <td>142</td>\n",
       "      <td>290</td>\n",
       "      <td>93</td>\n",
       "      <td>211</td>\n",
       "      <td>150</td>\n",
       "      <td>72</td>\n",
       "      <td>131</td>\n",
       "      <td>210</td>\n",
       "      <td>176</td>\n",
       "      <td>115</td>\n",
       "      <td>60</td>\n",
       "      <td>176</td>\n",
       "    </tr>\n",
       "    <tr>\n",
       "      <th>POS</th>\n",
       "      <td>231</td>\n",
       "      <td>276</td>\n",
       "      <td>288</td>\n",
       "      <td>374</td>\n",
       "      <td>807</td>\n",
       "      <td>217</td>\n",
       "      <td>570</td>\n",
       "      <td>391</td>\n",
       "      <td>209</td>\n",
       "      <td>335</td>\n",
       "      <td>577</td>\n",
       "      <td>476</td>\n",
       "      <td>310</td>\n",
       "      <td>160</td>\n",
       "      <td>397</td>\n",
       "    </tr>\n",
       "  </tbody>\n",
       "</table>\n",
       "</div>"
      ],
      "text/plain": [
       "app_version_agrupada  17.49.0  17.50.0  17.52.0  17.53.0  17.54.0  17.55.0  \\\n",
       "sentiment_output                                                             \n",
       "NEG                        57       76       75       87      231       65   \n",
       "NEU                        82       92      110      142      290       93   \n",
       "POS                       231      276      288      374      807      217   \n",
       "\n",
       "app_version_agrupada  17.56.0  18.0.0  18.2.0  18.3.0  18.4.0  18.5.0  18.6.0  \\\n",
       "sentiment_output                                                                \n",
       "NEG                       164     118      45      89     158     138      88   \n",
       "NEU                       211     150      72     131     210     176     115   \n",
       "POS                       570     391     209     335     577     476     310   \n",
       "\n",
       "app_version_agrupada  18.7.0  Outros  \n",
       "sentiment_output                      \n",
       "NEG                       40     173  \n",
       "NEU                       60     176  \n",
       "POS                      160     397  "
      ]
     },
     "execution_count": 87,
     "metadata": {},
     "output_type": "execute_result"
    }
   ],
   "source": [
    "frequencias = df[df['app'] == 'Claro']['app_version'].value_counts()\n",
    "\n",
    "limiar = 200\n",
    "versoes_rare = frequencias[frequencias < limiar].index\n",
    "\n",
    "df['app_version_agrupada'] = df['app_version'].where(~df['app_version'].isin(versoes_rare), 'Outros')\n",
    "\n",
    "resultado = (df[df['app'] == 'Claro']\n",
    "             .groupby(['sentiment_output', 'app_version_agrupada'])\n",
    "             .size()\n",
    "             .reset_index(name='contagem'))\n",
    "\n",
    "tabela = resultado.pivot(index='sentiment_output', columns='app_version_agrupada', values='contagem').fillna(0)\n",
    "tabela\n"
   ]
  },
  {
   "cell_type": "markdown",
   "id": "e168d7a0",
   "metadata": {},
   "source": [
    "#### TIM"
   ]
  },
  {
   "cell_type": "code",
   "execution_count": 93,
   "id": "d8d20213",
   "metadata": {},
   "outputs": [
    {
     "data": {
      "text/html": [
       "<div>\n",
       "<style scoped>\n",
       "    .dataframe tbody tr th:only-of-type {\n",
       "        vertical-align: middle;\n",
       "    }\n",
       "\n",
       "    .dataframe tbody tr th {\n",
       "        vertical-align: top;\n",
       "    }\n",
       "\n",
       "    .dataframe thead th {\n",
       "        text-align: right;\n",
       "    }\n",
       "</style>\n",
       "<table border=\"1\" class=\"dataframe\">\n",
       "  <thead>\n",
       "    <tr style=\"text-align: right;\">\n",
       "      <th>app_version_agrupada</th>\n",
       "      <th>7.1.4</th>\n",
       "      <th>7.2.25</th>\n",
       "      <th>7.2.30</th>\n",
       "      <th>7.2.34</th>\n",
       "      <th>7.2.39</th>\n",
       "      <th>7.4.21</th>\n",
       "      <th>7.4.31</th>\n",
       "      <th>7.4.39</th>\n",
       "      <th>7.5.13</th>\n",
       "      <th>7.5.14</th>\n",
       "      <th>7.5.16</th>\n",
       "      <th>7.5.18</th>\n",
       "      <th>7.5.19</th>\n",
       "      <th>7.5.7</th>\n",
       "      <th>7.5.9</th>\n",
       "      <th>7.6.0</th>\n",
       "      <th>7.6.3</th>\n",
       "      <th>7.7.5</th>\n",
       "      <th>7.7.9</th>\n",
       "      <th>7.8.4</th>\n",
       "      <th>7.9.0</th>\n",
       "      <th>7.9.12</th>\n",
       "      <th>7.9.14</th>\n",
       "      <th>7.9.15</th>\n",
       "      <th>7.9.16</th>\n",
       "      <th>7.9.18</th>\n",
       "      <th>7.9.20</th>\n",
       "      <th>7.9.3</th>\n",
       "      <th>7.9.6</th>\n",
       "      <th>8.0.0</th>\n",
       "      <th>8.0.2</th>\n",
       "      <th>8.1.0</th>\n",
       "      <th>8.2.0</th>\n",
       "      <th>8.4.0</th>\n",
       "      <th>8.5.0</th>\n",
       "      <th>8.6.0</th>\n",
       "      <th>8.7.0</th>\n",
       "      <th>8.8.1</th>\n",
       "      <th>Outros</th>\n",
       "    </tr>\n",
       "    <tr>\n",
       "      <th>sentiment_output</th>\n",
       "      <th></th>\n",
       "      <th></th>\n",
       "      <th></th>\n",
       "      <th></th>\n",
       "      <th></th>\n",
       "      <th></th>\n",
       "      <th></th>\n",
       "      <th></th>\n",
       "      <th></th>\n",
       "      <th></th>\n",
       "      <th></th>\n",
       "      <th></th>\n",
       "      <th></th>\n",
       "      <th></th>\n",
       "      <th></th>\n",
       "      <th></th>\n",
       "      <th></th>\n",
       "      <th></th>\n",
       "      <th></th>\n",
       "      <th></th>\n",
       "      <th></th>\n",
       "      <th></th>\n",
       "      <th></th>\n",
       "      <th></th>\n",
       "      <th></th>\n",
       "      <th></th>\n",
       "      <th></th>\n",
       "      <th></th>\n",
       "      <th></th>\n",
       "      <th></th>\n",
       "      <th></th>\n",
       "      <th></th>\n",
       "      <th></th>\n",
       "      <th></th>\n",
       "      <th></th>\n",
       "      <th></th>\n",
       "      <th></th>\n",
       "      <th></th>\n",
       "      <th></th>\n",
       "    </tr>\n",
       "  </thead>\n",
       "  <tbody>\n",
       "    <tr>\n",
       "      <th>NEG</th>\n",
       "      <td>3.0</td>\n",
       "      <td>1.0</td>\n",
       "      <td>1.0</td>\n",
       "      <td>8.0</td>\n",
       "      <td>5.0</td>\n",
       "      <td>5.0</td>\n",
       "      <td>14.0</td>\n",
       "      <td>14.0</td>\n",
       "      <td>2.0</td>\n",
       "      <td>16.0</td>\n",
       "      <td>2.0</td>\n",
       "      <td>10.0</td>\n",
       "      <td>9.0</td>\n",
       "      <td>6.0</td>\n",
       "      <td>31.0</td>\n",
       "      <td>10.0</td>\n",
       "      <td>4.0</td>\n",
       "      <td>3.0</td>\n",
       "      <td>4.0</td>\n",
       "      <td>5.0</td>\n",
       "      <td>1.0</td>\n",
       "      <td>0.0</td>\n",
       "      <td>2.0</td>\n",
       "      <td>11.0</td>\n",
       "      <td>17.0</td>\n",
       "      <td>37.0</td>\n",
       "      <td>134.0</td>\n",
       "      <td>29.0</td>\n",
       "      <td>1.0</td>\n",
       "      <td>1.0</td>\n",
       "      <td>1330.0</td>\n",
       "      <td>659.0</td>\n",
       "      <td>1193.0</td>\n",
       "      <td>354.0</td>\n",
       "      <td>220.0</td>\n",
       "      <td>602.0</td>\n",
       "      <td>185.0</td>\n",
       "      <td>1.0</td>\n",
       "      <td>1165.0</td>\n",
       "    </tr>\n",
       "    <tr>\n",
       "      <th>NEU</th>\n",
       "      <td>0.0</td>\n",
       "      <td>1.0</td>\n",
       "      <td>0.0</td>\n",
       "      <td>0.0</td>\n",
       "      <td>0.0</td>\n",
       "      <td>1.0</td>\n",
       "      <td>1.0</td>\n",
       "      <td>5.0</td>\n",
       "      <td>1.0</td>\n",
       "      <td>2.0</td>\n",
       "      <td>1.0</td>\n",
       "      <td>1.0</td>\n",
       "      <td>3.0</td>\n",
       "      <td>0.0</td>\n",
       "      <td>7.0</td>\n",
       "      <td>2.0</td>\n",
       "      <td>6.0</td>\n",
       "      <td>1.0</td>\n",
       "      <td>2.0</td>\n",
       "      <td>1.0</td>\n",
       "      <td>0.0</td>\n",
       "      <td>1.0</td>\n",
       "      <td>0.0</td>\n",
       "      <td>1.0</td>\n",
       "      <td>8.0</td>\n",
       "      <td>6.0</td>\n",
       "      <td>73.0</td>\n",
       "      <td>9.0</td>\n",
       "      <td>0.0</td>\n",
       "      <td>0.0</td>\n",
       "      <td>194.0</td>\n",
       "      <td>113.0</td>\n",
       "      <td>255.0</td>\n",
       "      <td>123.0</td>\n",
       "      <td>94.0</td>\n",
       "      <td>264.0</td>\n",
       "      <td>79.0</td>\n",
       "      <td>0.0</td>\n",
       "      <td>262.0</td>\n",
       "    </tr>\n",
       "    <tr>\n",
       "      <th>POS</th>\n",
       "      <td>2.0</td>\n",
       "      <td>1.0</td>\n",
       "      <td>0.0</td>\n",
       "      <td>0.0</td>\n",
       "      <td>0.0</td>\n",
       "      <td>3.0</td>\n",
       "      <td>0.0</td>\n",
       "      <td>4.0</td>\n",
       "      <td>3.0</td>\n",
       "      <td>3.0</td>\n",
       "      <td>1.0</td>\n",
       "      <td>3.0</td>\n",
       "      <td>4.0</td>\n",
       "      <td>3.0</td>\n",
       "      <td>4.0</td>\n",
       "      <td>3.0</td>\n",
       "      <td>2.0</td>\n",
       "      <td>0.0</td>\n",
       "      <td>0.0</td>\n",
       "      <td>6.0</td>\n",
       "      <td>0.0</td>\n",
       "      <td>0.0</td>\n",
       "      <td>3.0</td>\n",
       "      <td>3.0</td>\n",
       "      <td>6.0</td>\n",
       "      <td>21.0</td>\n",
       "      <td>189.0</td>\n",
       "      <td>19.0</td>\n",
       "      <td>0.0</td>\n",
       "      <td>0.0</td>\n",
       "      <td>205.0</td>\n",
       "      <td>96.0</td>\n",
       "      <td>324.0</td>\n",
       "      <td>258.0</td>\n",
       "      <td>210.0</td>\n",
       "      <td>525.0</td>\n",
       "      <td>134.0</td>\n",
       "      <td>0.0</td>\n",
       "      <td>353.0</td>\n",
       "    </tr>\n",
       "  </tbody>\n",
       "</table>\n",
       "</div>"
      ],
      "text/plain": [
       "app_version_agrupada  7.1.4  7.2.25  7.2.30  7.2.34  7.2.39  7.4.21  7.4.31  \\\n",
       "sentiment_output                                                              \n",
       "NEG                     3.0     1.0     1.0     8.0     5.0     5.0    14.0   \n",
       "NEU                     0.0     1.0     0.0     0.0     0.0     1.0     1.0   \n",
       "POS                     2.0     1.0     0.0     0.0     0.0     3.0     0.0   \n",
       "\n",
       "app_version_agrupada  7.4.39  7.5.13  7.5.14  7.5.16  7.5.18  7.5.19  7.5.7  \\\n",
       "sentiment_output                                                              \n",
       "NEG                     14.0     2.0    16.0     2.0    10.0     9.0    6.0   \n",
       "NEU                      5.0     1.0     2.0     1.0     1.0     3.0    0.0   \n",
       "POS                      4.0     3.0     3.0     1.0     3.0     4.0    3.0   \n",
       "\n",
       "app_version_agrupada  7.5.9  7.6.0  7.6.3  7.7.5  7.7.9  7.8.4  7.9.0  7.9.12  \\\n",
       "sentiment_output                                                                \n",
       "NEG                    31.0   10.0    4.0    3.0    4.0    5.0    1.0     0.0   \n",
       "NEU                     7.0    2.0    6.0    1.0    2.0    1.0    0.0     1.0   \n",
       "POS                     4.0    3.0    2.0    0.0    0.0    6.0    0.0     0.0   \n",
       "\n",
       "app_version_agrupada  7.9.14  7.9.15  7.9.16  7.9.18  7.9.20  7.9.3  7.9.6  \\\n",
       "sentiment_output                                                             \n",
       "NEG                      2.0    11.0    17.0    37.0   134.0   29.0    1.0   \n",
       "NEU                      0.0     1.0     8.0     6.0    73.0    9.0    0.0   \n",
       "POS                      3.0     3.0     6.0    21.0   189.0   19.0    0.0   \n",
       "\n",
       "app_version_agrupada  8.0.0   8.0.2  8.1.0   8.2.0  8.4.0  8.5.0  8.6.0  \\\n",
       "sentiment_output                                                          \n",
       "NEG                     1.0  1330.0  659.0  1193.0  354.0  220.0  602.0   \n",
       "NEU                     0.0   194.0  113.0   255.0  123.0   94.0  264.0   \n",
       "POS                     0.0   205.0   96.0   324.0  258.0  210.0  525.0   \n",
       "\n",
       "app_version_agrupada  8.7.0  8.8.1  Outros  \n",
       "sentiment_output                            \n",
       "NEG                   185.0    1.0  1165.0  \n",
       "NEU                    79.0    0.0   262.0  \n",
       "POS                   134.0    0.0   353.0  "
      ]
     },
     "execution_count": 93,
     "metadata": {},
     "output_type": "execute_result"
    }
   ],
   "source": [
    "def agrupa_versao(v):\n",
    "    if pd.isnull(v):\n",
    "        return 'Outros'\n",
    "    try:\n",
    "        return v if parse(str(v)) >= parse('7.0') else 'Outros'\n",
    "    except:\n",
    "        return 'Outros'\n",
    "\n",
    "resultado = df[df['app'] == 'TIM'].copy()\n",
    "resultado['app_version'] = resultado['app_version'].fillna('0')\n",
    "resultado['app_version_agrupada'] = resultado['app_version'].apply(agrupa_versao)\n",
    "\n",
    "resultado_grouped = (resultado\n",
    "                     .groupby(['sentiment_output', 'app_version_agrupada'])\n",
    "                     .size()\n",
    "                     .reset_index(name='contagem'))\n",
    "\n",
    "tabela = resultado_grouped.pivot(index='sentiment_output',\n",
    "                                 columns='app_version_agrupada',\n",
    "                                 values='contagem').fillna(0)\n",
    "\n",
    "tabela"
   ]
  },
  {
   "cell_type": "code",
   "execution_count": 107,
   "id": "8a9f7f13",
   "metadata": {},
   "outputs": [
    {
     "data": {
      "text/html": [
       "<div>\n",
       "<style scoped>\n",
       "    .dataframe tbody tr th:only-of-type {\n",
       "        vertical-align: middle;\n",
       "    }\n",
       "\n",
       "    .dataframe tbody tr th {\n",
       "        vertical-align: top;\n",
       "    }\n",
       "\n",
       "    .dataframe thead th {\n",
       "        text-align: right;\n",
       "    }\n",
       "</style>\n",
       "<table border=\"1\" class=\"dataframe\">\n",
       "  <thead>\n",
       "    <tr style=\"text-align: right;\">\n",
       "      <th>app_version_agrupada</th>\n",
       "      <th>7.9.20</th>\n",
       "      <th>8.0.2</th>\n",
       "      <th>8.1.0</th>\n",
       "      <th>8.2.0</th>\n",
       "      <th>8.4.0</th>\n",
       "      <th>8.5.0</th>\n",
       "      <th>8.6.0</th>\n",
       "      <th>8.7.0</th>\n",
       "      <th>Outros</th>\n",
       "    </tr>\n",
       "    <tr>\n",
       "      <th>sentiment_output</th>\n",
       "      <th></th>\n",
       "      <th></th>\n",
       "      <th></th>\n",
       "      <th></th>\n",
       "      <th></th>\n",
       "      <th></th>\n",
       "      <th></th>\n",
       "      <th></th>\n",
       "      <th></th>\n",
       "    </tr>\n",
       "  </thead>\n",
       "  <tbody>\n",
       "    <tr>\n",
       "      <th>NEG</th>\n",
       "      <td>134</td>\n",
       "      <td>1330</td>\n",
       "      <td>659</td>\n",
       "      <td>1193</td>\n",
       "      <td>354</td>\n",
       "      <td>220</td>\n",
       "      <td>602</td>\n",
       "      <td>185</td>\n",
       "      <td>417</td>\n",
       "    </tr>\n",
       "    <tr>\n",
       "      <th>NEU</th>\n",
       "      <td>73</td>\n",
       "      <td>194</td>\n",
       "      <td>113</td>\n",
       "      <td>255</td>\n",
       "      <td>123</td>\n",
       "      <td>94</td>\n",
       "      <td>264</td>\n",
       "      <td>79</td>\n",
       "      <td>89</td>\n",
       "    </tr>\n",
       "    <tr>\n",
       "      <th>POS</th>\n",
       "      <td>189</td>\n",
       "      <td>205</td>\n",
       "      <td>96</td>\n",
       "      <td>324</td>\n",
       "      <td>258</td>\n",
       "      <td>210</td>\n",
       "      <td>525</td>\n",
       "      <td>134</td>\n",
       "      <td>142</td>\n",
       "    </tr>\n",
       "  </tbody>\n",
       "</table>\n",
       "</div>"
      ],
      "text/plain": [
       "app_version_agrupada  7.9.20  8.0.2  8.1.0  8.2.0  8.4.0  8.5.0  8.6.0  8.7.0  \\\n",
       "sentiment_output                                                                \n",
       "NEG                      134   1330    659   1193    354    220    602    185   \n",
       "NEU                       73    194    113    255    123     94    264     79   \n",
       "POS                      189    205     96    324    258    210    525    134   \n",
       "\n",
       "app_version_agrupada  Outros  \n",
       "sentiment_output              \n",
       "NEG                      417  \n",
       "NEU                       89  \n",
       "POS                      142  "
      ]
     },
     "execution_count": 107,
     "metadata": {},
     "output_type": "execute_result"
    }
   ],
   "source": [
    "frequencias = df[df['app'] == 'TIM']['app_version'].value_counts()\n",
    "\n",
    "limiar = 200\n",
    "versoes_rare = frequencias[frequencias < limiar].index\n",
    "\n",
    "df['app_version_agrupada'] = df['app_version'].where(~df['app_version'].isin(versoes_rare), 'Outros')\n",
    "\n",
    "resultado = (df[df['app'] == 'TIM']\n",
    "             .groupby(['sentiment_output', 'app_version_agrupada'])\n",
    "             .size()\n",
    "             .reset_index(name='contagem'))\n",
    "\n",
    "tabela = resultado.pivot(index='sentiment_output', columns='app_version_agrupada', values='contagem').fillna(0)\n",
    "tabela\n"
   ]
  },
  {
   "cell_type": "markdown",
   "id": "cd29f441",
   "metadata": {},
   "source": [
    "#### Vivo"
   ]
  },
  {
   "cell_type": "code",
   "execution_count": 115,
   "id": "193f6d32",
   "metadata": {},
   "outputs": [
    {
     "data": {
      "text/html": [
       "<div>\n",
       "<style scoped>\n",
       "    .dataframe tbody tr th:only-of-type {\n",
       "        vertical-align: middle;\n",
       "    }\n",
       "\n",
       "    .dataframe tbody tr th {\n",
       "        vertical-align: top;\n",
       "    }\n",
       "\n",
       "    .dataframe thead th {\n",
       "        text-align: right;\n",
       "    }\n",
       "</style>\n",
       "<table border=\"1\" class=\"dataframe\">\n",
       "  <thead>\n",
       "    <tr style=\"text-align: right;\">\n",
       "      <th>app_version_agrupada</th>\n",
       "      <th>24.0.30</th>\n",
       "      <th>24.1.20</th>\n",
       "      <th>24.10.26</th>\n",
       "      <th>24.11.19</th>\n",
       "      <th>24.12.17</th>\n",
       "      <th>24.2.15</th>\n",
       "      <th>24.3.19</th>\n",
       "      <th>24.4.22</th>\n",
       "      <th>24.5.20</th>\n",
       "      <th>24.6.22</th>\n",
       "      <th>24.7.14</th>\n",
       "      <th>24.9.24</th>\n",
       "      <th>25.1.29</th>\n",
       "      <th>25.1.30</th>\n",
       "      <th>25.2.24</th>\n",
       "      <th>25.3.18</th>\n",
       "      <th>25.4.24</th>\n",
       "      <th>25.5.23</th>\n",
       "      <th>Outros</th>\n",
       "    </tr>\n",
       "    <tr>\n",
       "      <th>sentiment_output</th>\n",
       "      <th></th>\n",
       "      <th></th>\n",
       "      <th></th>\n",
       "      <th></th>\n",
       "      <th></th>\n",
       "      <th></th>\n",
       "      <th></th>\n",
       "      <th></th>\n",
       "      <th></th>\n",
       "      <th></th>\n",
       "      <th></th>\n",
       "      <th></th>\n",
       "      <th></th>\n",
       "      <th></th>\n",
       "      <th></th>\n",
       "      <th></th>\n",
       "      <th></th>\n",
       "      <th></th>\n",
       "      <th></th>\n",
       "    </tr>\n",
       "  </thead>\n",
       "  <tbody>\n",
       "    <tr>\n",
       "      <th>NEG</th>\n",
       "      <td>1.0</td>\n",
       "      <td>2.0</td>\n",
       "      <td>4.0</td>\n",
       "      <td>8.0</td>\n",
       "      <td>7.0</td>\n",
       "      <td>0.0</td>\n",
       "      <td>3.0</td>\n",
       "      <td>0.0</td>\n",
       "      <td>5.0</td>\n",
       "      <td>0.0</td>\n",
       "      <td>4.0</td>\n",
       "      <td>6.0</td>\n",
       "      <td>2.0</td>\n",
       "      <td>23.0</td>\n",
       "      <td>30.0</td>\n",
       "      <td>510.0</td>\n",
       "      <td>689.0</td>\n",
       "      <td>414.0</td>\n",
       "      <td>392.0</td>\n",
       "    </tr>\n",
       "    <tr>\n",
       "      <th>NEU</th>\n",
       "      <td>2.0</td>\n",
       "      <td>0.0</td>\n",
       "      <td>1.0</td>\n",
       "      <td>8.0</td>\n",
       "      <td>7.0</td>\n",
       "      <td>0.0</td>\n",
       "      <td>2.0</td>\n",
       "      <td>2.0</td>\n",
       "      <td>1.0</td>\n",
       "      <td>1.0</td>\n",
       "      <td>3.0</td>\n",
       "      <td>2.0</td>\n",
       "      <td>1.0</td>\n",
       "      <td>17.0</td>\n",
       "      <td>18.0</td>\n",
       "      <td>589.0</td>\n",
       "      <td>762.0</td>\n",
       "      <td>453.0</td>\n",
       "      <td>263.0</td>\n",
       "    </tr>\n",
       "    <tr>\n",
       "      <th>POS</th>\n",
       "      <td>2.0</td>\n",
       "      <td>0.0</td>\n",
       "      <td>5.0</td>\n",
       "      <td>4.0</td>\n",
       "      <td>13.0</td>\n",
       "      <td>3.0</td>\n",
       "      <td>1.0</td>\n",
       "      <td>3.0</td>\n",
       "      <td>5.0</td>\n",
       "      <td>4.0</td>\n",
       "      <td>3.0</td>\n",
       "      <td>4.0</td>\n",
       "      <td>0.0</td>\n",
       "      <td>37.0</td>\n",
       "      <td>43.0</td>\n",
       "      <td>1498.0</td>\n",
       "      <td>2166.0</td>\n",
       "      <td>1266.0</td>\n",
       "      <td>711.0</td>\n",
       "    </tr>\n",
       "  </tbody>\n",
       "</table>\n",
       "</div>"
      ],
      "text/plain": [
       "app_version_agrupada  24.0.30  24.1.20  24.10.26  24.11.19  24.12.17  24.2.15  \\\n",
       "sentiment_output                                                                \n",
       "NEG                       1.0      2.0       4.0       8.0       7.0      0.0   \n",
       "NEU                       2.0      0.0       1.0       8.0       7.0      0.0   \n",
       "POS                       2.0      0.0       5.0       4.0      13.0      3.0   \n",
       "\n",
       "app_version_agrupada  24.3.19  24.4.22  24.5.20  24.6.22  24.7.14  24.9.24  \\\n",
       "sentiment_output                                                             \n",
       "NEG                       3.0      0.0      5.0      0.0      4.0      6.0   \n",
       "NEU                       2.0      2.0      1.0      1.0      3.0      2.0   \n",
       "POS                       1.0      3.0      5.0      4.0      3.0      4.0   \n",
       "\n",
       "app_version_agrupada  25.1.29  25.1.30  25.2.24  25.3.18  25.4.24  25.5.23  \\\n",
       "sentiment_output                                                             \n",
       "NEG                       2.0     23.0     30.0    510.0    689.0    414.0   \n",
       "NEU                       1.0     17.0     18.0    589.0    762.0    453.0   \n",
       "POS                       0.0     37.0     43.0   1498.0   2166.0   1266.0   \n",
       "\n",
       "app_version_agrupada  Outros  \n",
       "sentiment_output              \n",
       "NEG                    392.0  \n",
       "NEU                    263.0  \n",
       "POS                    711.0  "
      ]
     },
     "execution_count": 115,
     "metadata": {},
     "output_type": "execute_result"
    }
   ],
   "source": [
    "def agrupa_versao(v):\n",
    "    if pd.isnull(v):\n",
    "        return 'Outros'\n",
    "    try:\n",
    "        return v if parse(str(v)) >= parse('20.0') else 'Outros'\n",
    "    except:\n",
    "        return 'Outros'\n",
    "\n",
    "resultado = df[df['app'] == 'Vivo'].copy()\n",
    "resultado['app_version'] = resultado['app_version'].fillna('0')\n",
    "resultado['app_version_agrupada'] = resultado['app_version'].apply(agrupa_versao)\n",
    "\n",
    "resultado_grouped = (resultado\n",
    "                     .groupby(['sentiment_output', 'app_version_agrupada'])\n",
    "                     .size()\n",
    "                     .reset_index(name='contagem'))\n",
    "\n",
    "tabela = resultado_grouped.pivot(index='sentiment_output',\n",
    "                                 columns='app_version_agrupada',\n",
    "                                 values='contagem').fillna(0)\n",
    "\n",
    "tabela"
   ]
  },
  {
   "cell_type": "code",
   "execution_count": 113,
   "id": "ac2305fb",
   "metadata": {},
   "outputs": [
    {
     "data": {
      "text/html": [
       "<div>\n",
       "<style scoped>\n",
       "    .dataframe tbody tr th:only-of-type {\n",
       "        vertical-align: middle;\n",
       "    }\n",
       "\n",
       "    .dataframe tbody tr th {\n",
       "        vertical-align: top;\n",
       "    }\n",
       "\n",
       "    .dataframe thead th {\n",
       "        text-align: right;\n",
       "    }\n",
       "</style>\n",
       "<table border=\"1\" class=\"dataframe\">\n",
       "  <thead>\n",
       "    <tr style=\"text-align: right;\">\n",
       "      <th>app_version_agrupada</th>\n",
       "      <th>25.1.30</th>\n",
       "      <th>25.2.24</th>\n",
       "      <th>25.3.18</th>\n",
       "      <th>25.4.24</th>\n",
       "      <th>25.5.23</th>\n",
       "      <th>Outros</th>\n",
       "    </tr>\n",
       "    <tr>\n",
       "      <th>sentiment_output</th>\n",
       "      <th></th>\n",
       "      <th></th>\n",
       "      <th></th>\n",
       "      <th></th>\n",
       "      <th></th>\n",
       "      <th></th>\n",
       "    </tr>\n",
       "  </thead>\n",
       "  <tbody>\n",
       "    <tr>\n",
       "      <th>NEG</th>\n",
       "      <td>23</td>\n",
       "      <td>30</td>\n",
       "      <td>510</td>\n",
       "      <td>689</td>\n",
       "      <td>414</td>\n",
       "      <td>87</td>\n",
       "    </tr>\n",
       "    <tr>\n",
       "      <th>NEU</th>\n",
       "      <td>17</td>\n",
       "      <td>18</td>\n",
       "      <td>589</td>\n",
       "      <td>762</td>\n",
       "      <td>453</td>\n",
       "      <td>50</td>\n",
       "    </tr>\n",
       "    <tr>\n",
       "      <th>POS</th>\n",
       "      <td>37</td>\n",
       "      <td>43</td>\n",
       "      <td>1498</td>\n",
       "      <td>2166</td>\n",
       "      <td>1266</td>\n",
       "      <td>91</td>\n",
       "    </tr>\n",
       "  </tbody>\n",
       "</table>\n",
       "</div>"
      ],
      "text/plain": [
       "app_version_agrupada  25.1.30  25.2.24  25.3.18  25.4.24  25.5.23  Outros\n",
       "sentiment_output                                                         \n",
       "NEG                        23       30      510      689      414      87\n",
       "NEU                        17       18      589      762      453      50\n",
       "POS                        37       43     1498     2166     1266      91"
      ]
     },
     "execution_count": 113,
     "metadata": {},
     "output_type": "execute_result"
    }
   ],
   "source": [
    "frequencias = df[df['app'] == 'Vivo']['app_version'].value_counts()\n",
    "\n",
    "limiar = 50\n",
    "versoes_rare = frequencias[frequencias < limiar].index\n",
    "\n",
    "df['app_version_agrupada'] = df['app_version'].where(~df['app_version'].isin(versoes_rare), 'Outros')\n",
    "\n",
    "resultado = (df[df['app'] == 'Vivo']\n",
    "             .groupby(['sentiment_output', 'app_version_agrupada'])\n",
    "             .size()\n",
    "             .reset_index(name='contagem'))\n",
    "\n",
    "tabela = resultado.pivot(index='sentiment_output', columns='app_version_agrupada', values='contagem').fillna(0)\n",
    "tabela\n"
   ]
  },
  {
   "cell_type": "markdown",
   "id": "ee3d5305",
   "metadata": {},
   "source": [
    "### Sentimentos"
   ]
  },
  {
   "cell_type": "code",
   "execution_count": 150,
   "id": "68b3f5a8",
   "metadata": {},
   "outputs": [
    {
     "data": {
      "image/png": "[encoded data removed]",
      "text/plain": [
       "<Figure size 1000x600 with 1 Axes>"
      ]
     },
     "metadata": {},
     "output_type": "display_data"
    }
   ],
   "source": [
    "def map_sentiment(sent):\n",
    "    if sent in ['NEG', 'negativo']:\n",
    "        return 'Negativo'\n",
    "    elif sent in ['NEU', 'neutro']:\n",
    "        return 'Neutro'\n",
    "    elif sent in ['POS', 'positivo']:\n",
    "        return 'Positivo'\n",
    "    else:\n",
    "        return 'Outro'\n",
    "\n",
    "df['sentimento_simplificado'] = df['sentiment_output'].apply(map_sentiment)\n",
    "\n",
    "sns.set_style(\"darkgrid\")\n",
    "plt.figure(figsize=(10, 6))\n",
    "\n",
    "sns.countplot(\n",
    "    data=df,\n",
    "    x='app',\n",
    "    hue='sentimento_simplificado',\n",
    "    palette={'Negativo': '#FF4C4C', 'Neutro': '#FFFB00', 'Positivo': '#4CAF50'},\n",
    "    hue_order=['Negativo', 'Neutro', 'Positivo']\n",
    ")\n",
    "\n",
    "plt.title(\"Distribuição de Sentimentos por Operadora\", loc=\"center\")\n",
    "plt.xlabel(\"Operadora\")\n",
    "plt.ylabel(\"Quantidade de Comentários\")\n",
    "plt.legend(title=\"Sentimento\")\n",
    "\n",
    "plt.show()\n"
   ]
  },
  {
   "cell_type": "code",
   "execution_count": 149,
   "id": "a3951862",
   "metadata": {},
   "outputs": [
    {
     "data": {
      "image/png": "[encoded data removed]",
      "text/plain": [
       "<Figure size 1000x600 with 1 Axes>"
      ]
     },
     "metadata": {},
     "output_type": "display_data"
    }
   ],
   "source": [
    "def map_sentiment(row):\n",
    "    sentiment = row['sentiment_output']\n",
    "    if sentiment == \"NEG\":\n",
    "        prob = row.get('sentiment_NEG', 0)\n",
    "        if prob < 0.8:\n",
    "            return \"Negativo\"\n",
    "        else:\n",
    "            return \"Muito Negativo\"\n",
    "    elif sentiment == \"POS\":\n",
    "        prob = row.get('sentiment_POS', 0)\n",
    "        if prob < 0.8:\n",
    "            return \"Positivo\"\n",
    "        else:\n",
    "            return \"Muito Positivo\"\n",
    "    elif sentiment == \"NEU\":\n",
    "        return \"Neutro\"\n",
    "    else:\n",
    "        return sentiment\n",
    "df['sentimento_complexo'] = df.apply(map_sentiment, axis=1)\n",
    "\n",
    "sns.set_style(\"darkgrid\")\n",
    "plt.figure(figsize=(10, 6))\n",
    "\n",
    "sns.countplot(\n",
    "    data=df,\n",
    "    x='app',\n",
    "    hue='sentimento_complexo',\n",
    "    palette={'Muito Negativo': '#FF4C4C', 'Negativo': '#FFA500', 'Neutro': \"#FFFB00\",\n",
    "             'Positivo': \"#A0E95C\", 'Muito Positivo': '#4CAF50'},\n",
    "    hue_order=['Muito Negativo', 'Negativo', 'Neutro', 'Positivo', 'Muito Positivo']\n",
    ")\n",
    "\n",
    "plt.title(\"Distribuição de Sentimentos por Operadora\", loc=\"center\")\n",
    "plt.xlabel(\"Operadora\")\n",
    "plt.ylabel(\"Quantidade de Comentários\")\n",
    "plt.legend(title=\"Sentimento\")\n",
    "\n",
    "plt.show()"
   ]
  },
  {
   "cell_type": "code",
   "execution_count": 123,
   "id": "239c269e",
   "metadata": {},
   "outputs": [
    {
     "data": {
      "application/vnd.plotly.v1+json": {
       "config": {
        "plotlyServerURL": "https://plot.ly"
       },
       "data": [
        {
         "fill": "toself",
         "line": {
          "color": "royalblue"
         },
         "name": "Vivo",
         "opacity": 0.7,
         "r": [
          0.7159632245666362,
          0.054383718509626484,
          0.11289252719874057,
          0.01211670939212745,
          0.012956488672533305,
          0.023480171821015392,
          0.011396653284110653,
          0.19967048893171013
         ],
         "subplot": "polar",
         "theta": [
          "Alegria",
          "Tristeza",
          "Raiva",
          "Medo",
          "Surpresa",
          "Confiança",
          "Confusão",
          "Neutro"
         ],
         "type": "scatterpolar"
        },
        {
         "fill": "toself",
         "line": {
          "color": "firebrick"
         },
         "name": "TIM",
         "opacity": 0.7,
         "r": [
          0.3518158580096398,
          0.1478542973367392,
          0.34345240418107353,
          0.04265737704012499,
          0.020794271914464115,
          0.045154565369948975,
          0.02699702967156627,
          0.23506801073068054
         ],
         "subplot": "polar2",
         "theta": [
          "Alegria",
          "Tristeza",
          "Raiva",
          "Medo",
          "Surpresa",
          "Confiança",
          "Confusão",
          "Neutro"
         ],
         "type": "scatterpolar"
        },
        {
         "fill": "toself",
         "line": {
          "color": "darkgreen"
         },
         "name": "Claro",
         "opacity": 0.7,
         "r": [
          0.7393236717093121,
          0.047936929481787044,
          0.09807875661273283,
          0.010016843304505892,
          0.013045375688707644,
          0.025792808406194672,
          0.011415777708424139,
          0.20061929107075557
         ],
         "subplot": "polar3",
         "theta": [
          "Alegria",
          "Tristeza",
          "Raiva",
          "Medo",
          "Surpresa",
          "Confiança",
          "Confusão",
          "Neutro"
         ],
         "type": "scatterpolar"
        }
       ],
       "layout": {
        "annotations": [
         {
          "font": {
           "size": 16
          },
          "showarrow": false,
          "text": "Vivo",
          "x": 0.13,
          "xref": "paper",
          "y": 1.1,
          "yref": "paper"
         },
         {
          "font": {
           "size": 16
          },
          "showarrow": false,
          "text": "TIM",
          "x": 0.5,
          "xref": "paper",
          "y": 1.1,
          "yref": "paper"
         },
         {
          "font": {
           "size": 16
          },
          "showarrow": false,
          "text": "Claro",
          "x": 0.87,
          "xref": "paper",
          "y": 1.1,
          "yref": "paper"
         }
        ],
        "height": 650,
        "polar": {
         "domain": {
          "x": [
           0,
           0.2888888888888889
          ],
          "y": [
           0,
           1
          ]
         },
         "radialaxis": {
          "visible": false
         }
        },
        "polar2": {
         "domain": {
          "x": [
           0.35555555555555557,
           0.6444444444444445
          ],
          "y": [
           0,
           1
          ]
         },
         "radialaxis": {
          "visible": false
         }
        },
        "polar3": {
         "domain": {
          "x": [
           0.7111111111111111,
           1
          ],
          "y": [
           0,
           1
          ]
         },
         "radialaxis": {
          "visible": false
         }
        },
        "showlegend": false,
        "template": {
         "data": {
          "bar": [
           {
            "error_x": {
             "color": "#2a3f5f"
            },
            "error_y": {
             "color": "#2a3f5f"
            },
            "marker": {
             "line": {
              "color": "#E5ECF6",
              "width": 0.5
             },
             "pattern": {
              "fillmode": "overlay",
              "size": 10,
              "solidity": 0.2
             }
            },
            "type": "bar"
           }
          ],
          "barpolar": [
           {
            "marker": {
             "line": {
              "color": "#E5ECF6",
              "width": 0.5
             },
             "pattern": {
              "fillmode": "overlay",
              "size": 10,
              "solidity": 0.2
             }
            },
            "type": "barpolar"
           }
          ],
          "carpet": [
           {
            "aaxis": {
             "endlinecolor": "#2a3f5f",
             "gridcolor": "white",
             "linecolor": "white",
             "minorgridcolor": "white",
             "startlinecolor": "#2a3f5f"
            },
            "baxis": {
             "endlinecolor": "#2a3f5f",
             "gridcolor": "white",
             "linecolor": "white",
             "minorgridcolor": "white",
             "startlinecolor": "#2a3f5f"
            },
            "type": "carpet"
           }
          ],
          "choropleth": [
           {
            "colorbar": {
             "outlinewidth": 0,
             "ticks": ""
            },
            "type": "choropleth"
           }
          ],
          "contour": [
           {
            "colorbar": {
             "outlinewidth": 0,
             "ticks": ""
            },
            "colorscale": [
             [
              0,
              "#0d0887"
             ],
             [
              0.1111111111111111,
              "#46039f"
             ],
             [
              0.2222222222222222,
              "#7201a8"
             ],
             [
              0.3333333333333333,
              "#9c179e"
             ],
             [
              0.4444444444444444,
              "#bd3786"
             ],
             [
              0.5555555555555556,
              "#d8576b"
             ],
             [
              0.6666666666666666,
              "#ed7953"
             ],
             [
              0.7777777777777778,
              "#fb9f3a"
             ],
             [
              0.8888888888888888,
              "#fdca26"
             ],
             [
              1,
              "#f0f921"
             ]
            ],
            "type": "contour"
           }
          ],
          "contourcarpet": [
           {
            "colorbar": {
             "outlinewidth": 0,
             "ticks": ""
            },
            "type": "contourcarpet"
           }
          ],
          "heatmap": [
           {
            "colorbar": {
             "outlinewidth": 0,
             "ticks": ""
            },
            "colorscale": [
             [
              0,
              "#0d0887"
             ],
             [
              0.1111111111111111,
              "#46039f"
             ],
             [
              0.2222222222222222,
              "#7201a8"
             ],
             [
              0.3333333333333333,
              "#9c179e"
             ],
             [
              0.4444444444444444,
              "#bd3786"
             ],
             [
              0.5555555555555556,
              "#d8576b"
             ],
             [
              0.6666666666666666,
              "#ed7953"
             ],
             [
              0.7777777777777778,
              "#fb9f3a"
             ],
             [
              0.8888888888888888,
              "#fdca26"
             ],
             [
              1,
              "#f0f921"
             ]
            ],
            "type": "heatmap"
           }
          ],
          "histogram": [
           {
            "marker": {
             "pattern": {
              "fillmode": "overlay",
              "size": 10,
              "solidity": 0.2
             }
            },
            "type": "histogram"
           }
          ],
          "histogram2d": [
           {
            "colorbar": {
             "outlinewidth": 0,
             "ticks": ""
            },
            "colorscale": [
             [
              0,
              "#0d0887"
             ],
             [
              0.1111111111111111,
              "#46039f"
             ],
             [
              0.2222222222222222,
              "#7201a8"
             ],
             [
              0.3333333333333333,
              "#9c179e"
             ],
             [
              0.4444444444444444,
              "#bd3786"
             ],
             [
              0.5555555555555556,
              "#d8576b"
             ],
             [
              0.6666666666666666,
              "#ed7953"
             ],
             [
              0.7777777777777778,
              "#fb9f3a"
             ],
             [
              0.8888888888888888,
              "#fdca26"
             ],
             [
              1,
              "#f0f921"
             ]
            ],
            "type": "histogram2d"
           }
          ],
          "histogram2dcontour": [
           {
            "colorbar": {
             "outlinewidth": 0,
             "ticks": ""
            },
            "colorscale": [
             [
              0,
              "#0d0887"
             ],
             [
              0.1111111111111111,
              "#46039f"
             ],
             [
              0.2222222222222222,
              "#7201a8"
             ],
             [
              0.3333333333333333,
              "#9c179e"
             ],
             [
              0.4444444444444444,
              "#bd3786"
             ],
             [
              0.5555555555555556,
              "#d8576b"
             ],
             [
              0.6666666666666666,
              "#ed7953"
             ],
             [
              0.7777777777777778,
              "#fb9f3a"
             ],
             [
              0.8888888888888888,
              "#fdca26"
             ],
             [
              1,
              "#f0f921"
             ]
            ],
            "type": "histogram2dcontour"
           }
          ],
          "mesh3d": [
           {
            "colorbar": {
             "outlinewidth": 0,
             "ticks": ""
            },
            "type": "mesh3d"
           }
          ],
          "parcoords": [
           {
            "line": {
             "colorbar": {
              "outlinewidth": 0,
              "ticks": ""
             }
            },
            "type": "parcoords"
           }
          ],
          "pie": [
           {
            "automargin": true,
            "type": "pie"
           }
          ],
          "scatter": [
           {
            "fillpattern": {
             "fillmode": "overlay",
             "size": 10,
             "solidity": 0.2
            },
            "type": "scatter"
           }
          ],
          "scatter3d": [
           {
            "line": {
             "colorbar": {
              "outlinewidth": 0,
              "ticks": ""
             }
            },
            "marker": {
             "colorbar": {
              "outlinewidth": 0,
              "ticks": ""
             }
            },
            "type": "scatter3d"
           }
          ],
          "scattercarpet": [
           {
            "marker": {
             "colorbar": {
              "outlinewidth": 0,
              "ticks": ""
             }
            },
            "type": "scattercarpet"
           }
          ],
          "scattergeo": [
           {
            "marker": {
             "colorbar": {
              "outlinewidth": 0,
              "ticks": ""
             }
            },
            "type": "scattergeo"
           }
          ],
          "scattergl": [
           {
            "marker": {
             "colorbar": {
              "outlinewidth": 0,
              "ticks": ""
             }
            },
            "type": "scattergl"
           }
          ],
          "scattermap": [
           {
            "marker": {
             "colorbar": {
              "outlinewidth": 0,
              "ticks": ""
             }
            },
            "type": "scattermap"
           }
          ],
          "scattermapbox": [
           {
            "marker": {
             "colorbar": {
              "outlinewidth": 0,
              "ticks": ""
             }
            },
            "type": "scattermapbox"
           }
          ],
          "scatterpolar": [
           {
            "marker": {
             "colorbar": {
              "outlinewidth": 0,
              "ticks": ""
             }
            },
            "type": "scatterpolar"
           }
          ],
          "scatterpolargl": [
           {
            "marker": {
             "colorbar": {
              "outlinewidth": 0,
              "ticks": ""
             }
            },
            "type": "scatterpolargl"
           }
          ],
          "scatterternary": [
           {
            "marker": {
             "colorbar": {
              "outlinewidth": 0,
              "ticks": ""
             }
            },
            "type": "scatterternary"
           }
          ],
          "surface": [
           {
            "colorbar": {
             "outlinewidth": 0,
             "ticks": ""
            },
            "colorscale": [
             [
              0,
              "#0d0887"
             ],
             [
              0.1111111111111111,
              "#46039f"
             ],
             [
              0.2222222222222222,
              "#7201a8"
             ],
             [
              0.3333333333333333,
              "#9c179e"
             ],
             [
              0.4444444444444444,
              "#bd3786"
             ],
             [
              0.5555555555555556,
              "#d8576b"
             ],
             [
              0.6666666666666666,
              "#ed7953"
             ],
             [
              0.7777777777777778,
              "#fb9f3a"
             ],
             [
              0.8888888888888888,
              "#fdca26"
             ],
             [
              1,
              "#f0f921"
             ]
            ],
            "type": "surface"
           }
          ],
          "table": [
           {
            "cells": {
             "fill": {
              "color": "#EBF0F8"
             },
             "line": {
              "color": "white"
             }
            },
            "header": {
             "fill": {
              "color": "#C8D4E3"
             },
             "line": {
              "color": "white"
             }
            },
            "type": "table"
           }
          ]
         },
         "layout": {
          "annotationdefaults": {
           "arrowcolor": "#2a3f5f",
           "arrowhead": 0,
           "arrowwidth": 1
          },
          "autotypenumbers": "strict",
          "coloraxis": {
           "colorbar": {
            "outlinewidth": 0,
            "ticks": ""
           }
          },
          "colorscale": {
           "diverging": [
            [
             0,
             "#8e0152"
            ],
            [
             0.1,
             "#c51b7d"
            ],
            [
             0.2,
             "#de77ae"
            ],
            [
             0.3,
             "#f1b6da"
            ],
            [
             0.4,
             "#fde0ef"
            ],
            [
             0.5,
             "#f7f7f7"
            ],
            [
             0.6,
             "#e6f5d0"
            ],
            [
             0.7,
             "#b8e186"
            ],
            [
             0.8,
             "#7fbc41"
            ],
            [
             0.9,
             "#4d9221"
            ],
            [
             1,
             "#276419"
            ]
           ],
           "sequential": [
            [
             0,
             "#0d0887"
            ],
            [
             0.1111111111111111,
             "#46039f"
            ],
            [
             0.2222222222222222,
             "#7201a8"
            ],
            [
             0.3333333333333333,
             "#9c179e"
            ],
            [
             0.4444444444444444,
             "#bd3786"
            ],
            [
             0.5555555555555556,
             "#d8576b"
            ],
            [
             0.6666666666666666,
             "#ed7953"
            ],
            [
             0.7777777777777778,
             "#fb9f3a"
            ],
            [
             0.8888888888888888,
             "#fdca26"
            ],
            [
             1,
             "#f0f921"
            ]
           ],
           "sequentialminus": [
            [
             0,
             "#0d0887"
            ],
            [
             0.1111111111111111,
             "#46039f"
            ],
            [
             0.2222222222222222,
             "#7201a8"
            ],
            [
             0.3333333333333333,
             "#9c179e"
            ],
            [
             0.4444444444444444,
             "#bd3786"
            ],
            [
             0.5555555555555556,
             "#d8576b"
            ],
            [
             0.6666666666666666,
             "#ed7953"
            ],
            [
             0.7777777777777778,
             "#fb9f3a"
            ],
            [
             0.8888888888888888,
             "#fdca26"
            ],
            [
             1,
             "#f0f921"
            ]
           ]
          },
          "colorway": [
           "#636efa",
           "#EF553B",
           "#00cc96",
           "#ab63fa",
           "#FFA15A",
           "#19d3f3",
           "#FF6692",
           "#B6E880",
           "#FF97FF",
           "#FECB52"
          ],
          "font": {
           "color": "#2a3f5f"
          },
          "geo": {
           "bgcolor": "white",
           "lakecolor": "white",
           "landcolor": "#E5ECF6",
           "showlakes": true,
           "showland": true,
           "subunitcolor": "white"
          },
          "hoverlabel": {
           "align": "left"
          },
          "hovermode": "closest",
          "mapbox": {
           "style": "light"
          },
          "paper_bgcolor": "white",
          "plot_bgcolor": "#E5ECF6",
          "polar": {
           "angularaxis": {
            "gridcolor": "white",
            "linecolor": "white",
            "ticks": ""
           },
           "bgcolor": "#E5ECF6",
           "radialaxis": {
            "gridcolor": "white",
            "linecolor": "white",
            "ticks": ""
           }
          },
          "scene": {
           "xaxis": {
            "backgroundcolor": "#E5ECF6",
            "gridcolor": "white",
            "gridwidth": 2,
            "linecolor": "white",
            "showbackground": true,
            "ticks": "",
            "zerolinecolor": "white"
           },
           "yaxis": {
            "backgroundcolor": "#E5ECF6",
            "gridcolor": "white",
            "gridwidth": 2,
            "linecolor": "white",
            "showbackground": true,
            "ticks": "",
            "zerolinecolor": "white"
           },
           "zaxis": {
            "backgroundcolor": "#E5ECF6",
            "gridcolor": "white",
            "gridwidth": 2,
            "linecolor": "white",
            "showbackground": true,
            "ticks": "",
            "zerolinecolor": "white"
           }
          },
          "shapedefaults": {
           "line": {
            "color": "#2a3f5f"
           }
          },
          "ternary": {
           "aaxis": {
            "gridcolor": "white",
            "linecolor": "white",
            "ticks": ""
           },
           "baxis": {
            "gridcolor": "white",
            "linecolor": "white",
            "ticks": ""
           },
           "bgcolor": "#E5ECF6",
           "caxis": {
            "gridcolor": "white",
            "linecolor": "white",
            "ticks": ""
           }
          },
          "title": {
           "x": 0.05
          },
          "xaxis": {
           "automargin": true,
           "gridcolor": "white",
           "linecolor": "white",
           "ticks": "",
           "title": {
            "standoff": 15
           },
           "zerolinecolor": "white",
           "zerolinewidth": 2
          },
          "yaxis": {
           "automargin": true,
           "gridcolor": "white",
           "linecolor": "white",
           "ticks": "",
           "title": {
            "standoff": 15
           },
           "zerolinecolor": "white",
           "zerolinewidth": 2
          }
         }
        },
        "title": {
         "text": "Distribuição de Emoções por Operadora"
        },
        "width": 1800
       }
      }
     },
     "metadata": {},
     "output_type": "display_data"
    }
   ],
   "source": [
    "values_claro = df[df['app'] == 'Claro'][['emotion_alegria', 'emotion_tristeza', 'emotion_raiva',\n",
    "              'emotion_medo', 'emotion_surpresa', 'emotion_confianca',\n",
    "              'emotion_confusao', 'emotion_neutro']].mean().tolist()\n",
    "\n",
    "values_tim = df[df['app'] == 'TIM'][['emotion_alegria', 'emotion_tristeza', 'emotion_raiva',\n",
    "              'emotion_medo', 'emotion_surpresa', 'emotion_confianca',\n",
    "              'emotion_confusao', 'emotion_neutro']].mean().tolist()\n",
    "\n",
    "values_vivo = df[df['app'] == 'Vivo'][['emotion_alegria', 'emotion_tristeza', 'emotion_raiva',\n",
    "              'emotion_medo', 'emotion_surpresa', 'emotion_confianca',\n",
    "              'emotion_confusao', 'emotion_neutro']].mean().tolist()\n",
    "\n",
    "categories = ['Alegria', 'Tristeza', 'Raiva', 'Medo', 'Surpresa', 'Confiança', 'Confusão', 'Neutro']\n",
    "\n",
    "# Valores de exemplo para cada operadora\n",
    "values_vivo = values_vivo\n",
    "values_tim = values_tim\n",
    "values_claro = values_claro\n",
    "\n",
    "# Criar subplots\n",
    "fig = make_subplots(\n",
    "    rows=1, cols=3,\n",
    "    specs=[[{'type': 'polar'}, {'type': 'polar'}, {'type': 'polar'}]]\n",
    ")\n",
    "\n",
    "# Gráfico Vivo\n",
    "fig.add_trace(go.Scatterpolar(\n",
    "    r=values_vivo,  # Não fechando a linha\n",
    "    theta=categories,\n",
    "    fill='toself',\n",
    "    name='Vivo',\n",
    "    line=dict(color='royalblue'),\n",
    "    opacity=0.7\n",
    "), row=1, col=1)\n",
    "\n",
    "# Gráfico TIM\n",
    "fig.add_trace(go.Scatterpolar(\n",
    "    r=values_tim,\n",
    "    theta=categories,\n",
    "    fill='toself',\n",
    "    name='TIM',\n",
    "    line=dict(color='firebrick'),\n",
    "    opacity=0.7\n",
    "), row=1, col=2)\n",
    "\n",
    "# Gráfico Claro\n",
    "fig.add_trace(go.Scatterpolar(\n",
    "    r=values_claro,\n",
    "    theta=categories,\n",
    "    fill='toself',\n",
    "    name='Claro',\n",
    "    line=dict(color='darkgreen'),\n",
    "    opacity=0.7\n",
    "), row=1, col=3)\n",
    "\n",
    "# Ajustar o layout geral\n",
    "fig.update_layout(\n",
    "    showlegend=False,\n",
    "    title_text=\"Distribuição de Emoções por Operadora\",\n",
    "    height=650, width=1800,\n",
    ")\n",
    "\n",
    "fig.update_layout(\n",
    "    polar=dict(radialaxis=dict(visible=False)),\n",
    "    polar2=dict(radialaxis=dict(visible=False)),\n",
    "    polar3=dict(radialaxis=dict(visible=False))\n",
    ")\n",
    "\n",
    "\n",
    "# Ajuste do posicionamento dos títulos: mais para cima\n",
    "fig.add_annotation(dict(font=dict(size=16),\n",
    "                        x=0.13,\n",
    "                        y=1.1,\n",
    "                        showarrow=False,\n",
    "                        text=\"Vivo\",\n",
    "                        xref=\"paper\",\n",
    "                        yref=\"paper\"))\n",
    "\n",
    "fig.add_annotation(dict(font=dict(size=16),\n",
    "                        x=0.5,\n",
    "                        y=1.1,\n",
    "                        showarrow=False,\n",
    "                        text=\"TIM\",\n",
    "                        xref=\"paper\",\n",
    "                        yref=\"paper\"))\n",
    "\n",
    "fig.add_annotation(dict(font=dict(size=16),\n",
    "                        x=0.87,\n",
    "                        y=1.1,\n",
    "                        showarrow=False,\n",
    "                        text=\"Claro\",\n",
    "                        xref=\"paper\",\n",
    "                        yref=\"paper\"))\n",
    "\n",
    "fig.show()\n"
   ]
  },
  {
   "cell_type": "markdown",
   "id": "4c620f72",
   "metadata": {},
   "source": [
    "# Classificação de Temas\n",
    "\n",
    "passar todo o tratamento no NLTK ou outras libs para fazer uma word cloud e saber os principais temas aboradas nos comentários\n"
   ]
  },
  {
   "cell_type": "code",
   "execution_count": null,
   "id": "7dbcd206",
   "metadata": {},
   "outputs": [],
   "source": []
  },
  {
   "cell_type": "markdown",
   "id": "c0534cab",
   "metadata": {},
   "source": [
    "# Próximas Etapas a serem feitas\n",
    "\n",
    "### Tratamentos\n",
    "- **OK** - Extração 10k comentários\n",
    "- **OK** - Apenas comentários de Android\n",
    "- **OK** - Data mínima e máxima dos comentários de cada app, estão coesas\n",
    "- **OK** - Ortográfia\n",
    "- **OK** - Emoji\n",
    "- **NOTOK** - Abreviações e gírias - Muito complicado para fazer\n",
    "\n",
    "### Análise Exploratória\n",
    "- **OK** - Data mínima e máxima dos comentários de cada app, estão coesas\n",
    "- **OK** - Sentimento Geral por versão\n",
    "- **OK** - Volume geral por versão do app\n",
    "- **OK** - Nota média dos comentários por versão\n",
    "- **NOTOK** - Ironia, classificou tudo como ironia\n",
    "- **OK** - Os sentimentos como neutros tem a classificação entre 0,3 e 1,0. Não teria como classficar em positivos ou negativos\n",
    "- **OK** - Separação de positivos e negativos fortes e fracos\n",
    "- **WIP** - Periodicidade dos comentários para realizar uma análise ao decorrer do tempo de sentimento\n",
    "\n",
    "### Análise Exploratória\n",
    "- **WIP** - classificar os temas gerais\n",
    "- **WIP** - classificar os temas de neutros\n",
    "- **WIP** - scatterplot vendo o volume de temas\n",
    "- **WIP** - mapa de wordcloud"
   ]
  }
 ],
 "metadata": {
  "kernelspec": {
   "display_name": "Python 3",
   "language": "python",
   "name": "python3"
  },
  "language_info": {
   "codemirror_mode": {
    "name": "ipython",
    "version": 3
   },
   "file_extension": ".py",
   "mimetype": "text/x-python",
   "name": "python",
   "nbconvert_exporter": "python",
   "pygments_lexer": "ipython3",
   "version": "3.10.0"
  }
 },
 "nbformat": 4,
 "nbformat_minor": 5
}
