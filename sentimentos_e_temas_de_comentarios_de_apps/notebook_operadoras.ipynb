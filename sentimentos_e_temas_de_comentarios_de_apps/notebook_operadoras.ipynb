{
 "cells": [
  {
   "cell_type": "markdown",
   "id": "10f7e140",
   "metadata": {},
   "source": [
    "# Análise de Sentimento e Classificação de Temas\n",
    "\n",
    "**Resumo dos passos**\n",
    "\n",
    "- **Extração e Tratamentos de Texto**\n",
    "    - Extração de 15 mil comentários por empresa na Play Store\n",
    "    - Função de tratamento de texto: tradução de emojis, remoção de stopwords, lemmentização e etc\n",
    "- **Análise de Sentimentos e Emoções**\n",
    "    - Verifiicação do período de comentários para cada empresa\n",
    "    - Aplicação da função com os modelos de sentimento e emoção do Pysentimiento\n",
    "    - Análise por agrupamento por notas (não é tão eficiente)\n",
    "    - Análise por agrupamento por versão (não é tão eficiente)\n",
    "    - Análise por sentimento: visão geral, reclassificação para sentimento menos ou mais forte e sentimentos neutros para positivos e negativos\n",
    "    - Análise por emoção: aplicação da função de emoções em grandes sentimentos e visão geral\n",
    "- **Classificação de Temas**\n",
    "    - Criação manual dos temas e aplicação da função de classificação de temas\n",
    "    - Geração do sentimento médio por tema e visão em gráfico de dispersão\n",
    "    - Análise em amostra de comentários positivos e negativos\n",
    "- **Passos Pensados, mas não eficientes**\n",
    "    - Tratamento de abreviações e gírias seria algo muito complexo\n",
    "    - Aplicação da análise de ironia, classificou quase todos comentários como ironicos\n",
    "    - A classificação de temas para sentimento não fez tanto sentido por conta de estarmos usando o sentimento médio por tema (neg, neu, pos)\n",
    "    - Gráficos de wordcloud não foram eficiente para identificar os principais assuntos por temas\n",
    "- **Etapas Futuras**\n",
    "    - Reaplicar a análise futuramente para entender a evolução dos sentimentos"
   ]
  },
  {
   "cell_type": "code",
   "execution_count": 1,
   "id": "eaed7d80",
   "metadata": {},
   "outputs": [
    {
     "name": "stderr",
     "output_type": "stream",
     "text": [
      "c:\\Users\\Computador\\AppData\\Local\\Programs\\Python\\Python310\\lib\\site-packages\\tqdm\\auto.py:21: TqdmWarning: IProgress not found. Please update jupyter and ipywidgets. See https://ipywidgets.readthedocs.io/en/stable/user_install.html\n",
      "  from .autonotebook import tqdm as notebook_tqdm\n"
     ]
    }
   ],
   "source": [
    "#Para realizar paralelismo\n",
    "import swifter\n",
    "\n",
    "#Coletados Comentários\n",
    "from google_play_scraper import Sort, reviews\n",
    "\n",
    "#Armazenamento em DF\n",
    "import pandas as pd\n",
    "pd.set_option('display.max_rows', 50)\n",
    "pd.set_option('display.max_columns', None)\n",
    "pd.set_option('display.max_colwidth', 1000)\n",
    "\n",
    "#Transformar a coluna de versões para fazer filtro melhores\n",
    "from packaging.version import parse\n",
    "\n",
    "#Tratamentos\n",
    "import re\n",
    "import emoji\n",
    "import nltk\n",
    "from nltk.corpus import stopwords\n",
    "import stanza\n",
    "\n",
    "#Sentimentos dos Comentários\n",
    "from pysentimiento import create_analyzer\n",
    "\n",
    "#Gráficos\n",
    "import matplotlib.pyplot as plt\n",
    "import seaborn as sns\n",
    "import plotly.graph_objects as go\n",
    "from plotly.subplots import make_subplots\n",
    "import plotly.express as px"
   ]
  },
  {
   "cell_type": "code",
   "execution_count": 17,
   "id": "f3ef61de",
   "metadata": {},
   "outputs": [
    {
     "name": "stderr",
     "output_type": "stream",
     "text": [
      "[nltk_data] Downloading package stopwords to\n",
      "[nltk_data]     C:\\Users\\Computador\\AppData\\Roaming\\nltk_data...\n",
      "[nltk_data]   Package stopwords is already up-to-date!\n",
      "Downloading https://raw.githubusercontent.com/stanfordnlp/stanza-resources/main/resources_1.10.0.json: 428kB [00:00, 50.3MB/s]                    \n",
      "2025-06-10 16:24:06 INFO: Downloaded file to C:\\Users\\Computador\\stanza_resources\\resources.json\n",
      "2025-06-10 16:24:06 INFO: Downloading default packages for language: pt (Portuguese) ...\n",
      "2025-06-10 16:24:07 INFO: File exists: C:\\Users\\Computador\\stanza_resources\\pt\\default.zip\n",
      "2025-06-10 16:24:10 INFO: Finished downloading models and saved to C:\\Users\\Computador\\stanza_resources\n",
      "2025-06-10 16:24:10 INFO: Checking for updates to resources.json in case models have been updated.  Note: this behavior can be turned off with download_method=None or download_method=DownloadMethod.REUSE_RESOURCES\n",
      "Downloading https://raw.githubusercontent.com/stanfordnlp/stanza-resources/main/resources_1.10.0.json: 428kB [00:00, 24.7MB/s]                    \n",
      "2025-06-10 16:24:10 INFO: Downloaded file to C:\\Users\\Computador\\stanza_resources\\resources.json\n",
      "2025-06-10 16:24:11 INFO: Loading these models for language: pt (Portuguese):\n",
      "===============================\n",
      "| Processor | Package         |\n",
      "-------------------------------\n",
      "| tokenize  | bosque          |\n",
      "| mwt       | bosque          |\n",
      "| pos       | bosque_charlm   |\n",
      "| lemma     | bosque_nocharlm |\n",
      "===============================\n",
      "\n",
      "2025-06-10 16:24:11 INFO: Using device: cpu\n",
      "2025-06-10 16:24:11 INFO: Loading: tokenize\n",
      "2025-06-10 16:24:11 INFO: Loading: mwt\n",
      "2025-06-10 16:24:11 INFO: Loading: pos\n",
      "2025-06-10 16:24:14 INFO: Loading: lemma\n",
      "2025-06-10 16:24:15 INFO: Done loading processors!\n"
     ]
    }
   ],
   "source": [
    "#Download de pacotes\n",
    "nltk.download(\"stopwords\")\n",
    "stanza.download('pt')\n",
    "\n",
    "nlp = stanza.Pipeline(lang='pt', processors='tokenize,mwt,pos,lemma')"
   ]
  },
  {
   "cell_type": "markdown",
   "id": "87ebd0fd",
   "metadata": {},
   "source": [
    "## Funções \n",
    "**tratamento_de_texto**: Funciona para realizar limpezas com o nome da operados para o termo \"operados\", porque a Claro e a Vivo podem ter algum tipo de conotação específica se interpretadas pelo modelo sentimento, transformação dos emojis para formatos textuais e qualquer coisa relacionadas a possíveis links nos comentaráios. Além da lemmatização dos comentários para um formato mais geral das palavras. \n",
    "\n",
    "**classificar_tema**: Após testar alguns modelos de classificação de tópicos, optei por fazer a classificação manual dos temas mais falados com uma lista de termos agrupados em grandes temas gerais que ocorrem com esse setor.\n",
    "\n",
    "**analisar_sentimento_todos**: O Pysentimiento possui 4 funções de análise de sentimento, optei de realizar a análise sentimento e emoção. Para as emoções, que são gerados diversas emoções em inglês, optei por agrupar em 8 grandes emoções para melhorar a análise."
   ]
  },
  {
   "cell_type": "code",
   "execution_count": 18,
   "id": "8c42cce8",
   "metadata": {},
   "outputs": [],
   "source": [
    "stopwords_pt = set(stopwords.words(\"portuguese\"))"
   ]
  },
  {
   "cell_type": "code",
   "execution_count": 19,
   "id": "3df3e4ff",
   "metadata": {},
   "outputs": [],
   "source": [
    "def tratamento_de_texto(texto):\n",
    "    texto = emoji.demojize(texto, language=\"pt\")\n",
    "    texto = texto.lower()\n",
    "    texto = re.sub(r'\\b(vivo|claro|tim)\\b', 'operadora', texto)\n",
    "    texto = re.sub(r'(:[^:\\s]+:)', r' \\1 ', texto)\n",
    "    texto = re.sub(r\"http\\S+|www\\S+|https\\S+\", \"\", texto)\n",
    "    texto = re.sub(r\"[^a-zá-úà-üç\\s]\", \"\", texto)\n",
    "    texto = re.sub(r'\\s+', ' ', texto).strip()\n",
    "\n",
    "    doc = nlp(texto)\n",
    "    \n",
    "    lemmas = [word.lemma for sent in doc.sentences for word in sent.words if word.lemma not in stopwords_pt and len(word.lemma) > 2]\n",
    "    \n",
    "    return \" \".join(lemmas)"
   ]
  },
  {
   "cell_type": "code",
   "execution_count": 35,
   "id": "eaad442b",
   "metadata": {},
   "outputs": [],
   "source": [
    "temas_manuais = {\n",
    "    \"Operadora\": [r\"operadora\"],\n",
    "    \"App\": [r\"\\bapp\\b\", r\"\\baplicativo\\b\"],\n",
    "    \"Login\": [r\"logar\", r\"\\blogin\\b\", r\"acessar\", r\"entrar\", r\"cadastrar\", r\"cadastro\"],\n",
    "    \"Atendimento\": [r\"atendimento\", r\"chat\", r\"suporte\", r\"atendente\", r\"fale conosco\", r\"não responde\", r\"reclame\"],\n",
    "    \"Usabilidade\": [r\"interface\", r\"usabilidade\", r\"navegação\", r\"botão\", r\"menu\", r\"layout\", r\"tela\", r\"confuso\", r\"difícil\"],\n",
    "    \"Conta\": [r\"fatura\", r\"boleto\", r\"cobrança\", r\"pagamento\", r\"conta\", r\"valor indevido\", r\"preço errado\"],\n",
    "    \"Plano\": [r\"serviço\", r\"plano\", r\"contrato\", r\"assinatura\", r\"benefício\", r\"pacote\", r\"promoção\", r\"desconto\", r\"benefício\", r\"cashback\", r\"oferta\"],\n",
    "    \"Internet\": [r\"internet\", r\"sinal\", r\"conexão\", r\"velocidade\", r\"3g\", r\"4g\", r\"5g\", r\"wi[- ]?fi\", r\"queda\", r\"recarga\", r\"créditos\", r\"saldo\"],\n",
    "    \"Desempenho\": [r\"bug\", r\"erro\", r\"trava\", r\"lento\", r\"crash\", r\"problema\", r\"instabilidade\", r\"atualização\", r\"atualizei\", r\"versão\", r\"nova versão\", r\"última atualização\"],\n",
    "    \"Notificações\": [r\"notificação\", r\"alerta\", r\"mensagem push\", r\"aviso\", r\"push\", r\"mensagem\", r\"sms\"]\n",
    "}"
   ]
  },
  {
   "cell_type": "code",
   "execution_count": 57,
   "id": "4740b034",
   "metadata": {},
   "outputs": [],
   "source": [
    "temas_manuais_abrevidado = {\n",
    "    \"Op.\": [r\"operadora\"],\n",
    "    \"App\": [r\"\\bapp\\b\", r\"\\baplicativo\\b\"],\n",
    "    \"Login\": [r\"logar\", r\"\\blogin\\b\", r\"acessar\", r\"entrar\", r\"cadastrar\", r\"cadastro\"],\n",
    "    \"Atend.\": [r\"atendimento\", r\"chat\", r\"suporte\", r\"atendente\", r\"fale conosco\", r\"não responde\", r\"reclame\"],\n",
    "    \"Usab.\": [r\"interface\", r\"usabilidade\", r\"navegação\", r\"botão\", r\"menu\", r\"layout\", r\"tela\", r\"confuso\", r\"difícil\"],\n",
    "    \"Conta\": [r\"fatura\", r\"boleto\", r\"cobrança\", r\"pagamento\", r\"conta\", r\"valor indevido\", r\"preço errado\"],\n",
    "    \"Plano\": [r\"serviço\", r\"plano\", r\"contrato\", r\"assinatura\", r\"benefício\", r\"pacote\", r\"promoção\", r\"desconto\", r\"benefício\", r\"cashback\", r\"oferta\"],\n",
    "    \"Net\": [r\"internet\", r\"sinal\", r\"conexão\", r\"velocidade\", r\"3g\", r\"4g\", r\"5g\", r\"wi[- ]?fi\", r\"queda\", r\"recarga\", r\"créditos\", r\"saldo\"],\n",
    "    \"Desemp.\": [r\"bug\", r\"erro\", r\"trava\", r\"lento\", r\"crash\", r\"problema\", r\"instabilidade\", r\"atualização\", r\"atualizei\", r\"versão\", r\"nova versão\", r\"última atualização\"],\n",
    "    \"Not.\": [r\"notificação\", r\"alerta\", r\"mensagem push\", r\"aviso\", r\"push\", r\"mensagem\", r\"sms\"]\n",
    "}"
   ]
  },
  {
   "cell_type": "code",
   "execution_count": 37,
   "id": "9e22df22",
   "metadata": {},
   "outputs": [],
   "source": [
    "def classificar_tema(texto, temas_dict):\n",
    "    texto = texto.lower()\n",
    "    temas_encontrados = []\n",
    "    for tema, padroes in temas_dict.items():\n",
    "        for padrao in padroes:\n",
    "            if re.search(padrao, texto):\n",
    "                temas_encontrados.append(tema)\n",
    "                break  # Evita múltiplas adições do mesmo tema\n",
    "    return temas_encontrados  # Sem categoria 'Outro'"
   ]
  },
  {
   "cell_type": "code",
   "execution_count": 22,
   "id": "4079f315",
   "metadata": {},
   "outputs": [],
   "source": [
    "analyzers = {\n",
    "    \"sentiment\": create_analyzer(task=\"sentiment\", lang=\"pt\"),\n",
    "    \"emotion\": create_analyzer(task=\"emotion\", lang=\"pt\"),\n",
    "}\n",
    "\n",
    "# Grupos para emoções resumidas\n",
    "grupos_emocoes = {\n",
    "    \"alegria\": [\"admiration\", \"amusement\", \"approval\", \"excitement\",\n",
    "                \"gratitude\", \"joy\", \"love\", \"optimism\", \"pride\"],\n",
    "    \"tristeza\": [\"disappointment\", \"remorse\", \"sadness\"],\n",
    "    \"raiva\": [\"anger\", \"annoyance\", \"disapproval\", \"disgust\"],\n",
    "    \"medo\": [\"fear\", \"nervousness\", \"embarrassment\"],\n",
    "    \"surpresa\": [\"surprise\", \"realization\"],\n",
    "    \"confianca\": [\"curiosity\", \"desire\", \"caring\"],\n",
    "    \"confusao\": [\"confusion\"],\n",
    "    \"neutro\": [\"neutral\", None]\n",
    "}\n",
    "\n",
    "def analisar_sentimento_todos(texto, analyzers=analyzers):\n",
    "    if not isinstance(texto, str) or not texto.strip():\n",
    "        return pd.Series()\n",
    "\n",
    "    dados = {}\n",
    "\n",
    "    for tipo, analyzer in analyzers.items():\n",
    "        resultado = analyzer.predict(texto)\n",
    "\n",
    "        # Ajuste seguro do output\n",
    "        if isinstance(resultado.output, list):\n",
    "            saida = resultado.output[0] if resultado.output else None\n",
    "        else:\n",
    "            saida = resultado.output\n",
    "\n",
    "        # Para emoção, substituir output pela categoria agregada\n",
    "        if tipo == \"emotion\":\n",
    "            # Pós-processamento: agregando emoções\n",
    "            grupo_probs = {}\n",
    "            for grupo, emocoes in grupos_emocoes.items():\n",
    "                soma = sum(resultado.probas.get(e, 0) for e in emocoes)\n",
    "                dados[f\"{tipo}_{grupo}\"] = soma\n",
    "                grupo_probs[grupo] = soma\n",
    "            \n",
    "            # Encontrar o grupo com maior probabilidade\n",
    "            if grupo_probs:\n",
    "                grupo_principal = max(grupo_probs, key=grupo_probs.get)\n",
    "            else:\n",
    "                grupo_principal = None\n",
    "\n",
    "            dados[f\"{tipo}_output\"] = grupo_principal\n",
    "        else:\n",
    "            # Mantém output original\n",
    "            dados[f\"{tipo}_output\"] = saida\n",
    "            # Mantém probas originais\n",
    "            for k, v in resultado.probas.items():\n",
    "                dados[f\"{tipo}_{k}\"] = v\n",
    "\n",
    "    return pd.Series(dados)\n"
   ]
  },
  {
   "cell_type": "markdown",
   "id": "df0cb6d8",
   "metadata": {},
   "source": [
    "---\n",
    "# Extração de Comentários\n",
    "Aproveitando um script feito em outro [notebook]('https://github.com/PedroReste/data_eng_insights/tree/main/web_scraping_comentarios_apps), será coletado aproximadamente 15 mil comentários de cada aplicativo na Play Store pela consistência dos dados em relação ao iOS. Além do caso brasileiro de exister, de forma majoritária, mais usuários de Android do que iOS."
   ]
  },
  {
   "cell_type": "code",
   "execution_count": null,
   "id": "08603872",
   "metadata": {},
   "outputs": [],
   "source": [
    "qtd_comentarios = 15000\n",
    "\n",
    "dados_android = []\n",
    "\n",
    "apps = {\n",
    "    \"Claro\": \"com.nvt.cs\",\n",
    "    \"TIM\": \"br.com.timbrasil.meutim\",\n",
    "    \"Vivo\": \"br.com.vivo\"\n",
    "}"
   ]
  },
  {
   "cell_type": "code",
   "execution_count": 24,
   "id": "f0aea699",
   "metadata": {},
   "outputs": [],
   "source": [
    "for app, app_id in apps.items():\n",
    "    result, _ = reviews(\n",
    "        app_id,\n",
    "        lang='pt',\n",
    "        country='br',\n",
    "        sort=Sort.NEWEST,\n",
    "        count=qtd_comentarios\n",
    "    )\n",
    "        \n",
    "    for review in result:\n",
    "        dados_android.append({\n",
    "            \"app\": app,\n",
    "            \"score\": review.get(\"score\", None),\n",
    "            \"content\": review.get(\"content\", None),\n",
    "            \"app_version\": review.get(\"appVersion\", None),\n",
    "            \"date\": review.get(\"at\", None),\n",
    "            \"reply_content\": review.get(\"replyContent\", None),\n",
    "            \"reply_date\": review.get(\"repliedAt\", None)\n",
    "        })"
   ]
  },
  {
   "cell_type": "code",
   "execution_count": 25,
   "id": "a879ccc5",
   "metadata": {},
   "outputs": [
    {
     "data": {
      "text/plain": [
       "(45000, 5)"
      ]
     },
     "execution_count": 25,
     "metadata": {},
     "output_type": "execute_result"
    }
   ],
   "source": [
    "comentarios_android = pd.DataFrame(dados_android, columns=[\"date\", \"score\", \"app_version\", \"app\",  \"content\"])\n",
    "comentarios_android.to_csv(\"comentarios.csv\", index=False)\n",
    "comentarios_android.shape"
   ]
  },
  {
   "cell_type": "markdown",
   "id": "c5cf1980",
   "metadata": {},
   "source": [
    "---\n",
    "# Análise de Sentimento\n",
    "Nessa seção será aplicado os tratamentos necessários aos comentários extraídos da Play Store, aplicação dos modelos do Pysentimiento para entender os sentimentos e emoções do comentários e uma análise encima das informações extraidas da store e da aplicação dos modelos.\n",
    "\n",
    "**Insights**\n",
    "- O período dos comentários dos apps é próximo, estando entre 10/dez/2024 e 09/jun/2025, com 15 mil comentários cada. Exceto a Vivo, que o perído é entre 13/abr/2025 e 09/jun/2025.\n",
    "\n",
    "- Notas\n",
    "    - Observando o geral das notas dos comentários do período, para todos os apps, se destaca a quantidade de avaliações máximas.\n",
    "    - Exceto a TIM, que também tem muitas avaliações máximas, as avaliações de 1, são maiores.\n",
    "    - Observando as notas dos comentários ao decorrer dos meses, o comportamento do geral se mantém para os meses também.\n",
    "    - Não fez tanto sentido tentar verificar a nota média por versão do app que usuários tinham quando comentaram.\n",
    "- Sentimentos por Versão\n",
    "    - Os apps lançam muitas versão intermediárias, que dificutam uma análise mais aprofundada a partir dos comentários. Nesse caso, não foi tão relevante assim.\n",
    "- Sentimentos \n",
    "    - Em um primeiro momento, encontrei diversos comentários compostos de de frases curtas ou de uma ou duas palavras que foram classificados como neutros, mas poderiam ser possitivos ou negativos.\n",
    "    - Estabelecendo um limite probabildiade, comentários neutros acima 70% de serem neutros se matiam e abaixos, eram reclassificados como positivos ou negativos.\n",
    "    - Com a reclassificação geral, houve um crescimento maior de sentimentos positivos para a Claro e a Vivo, enquanto cresceu mais os sentimento negativos para a TIM.\n",
    "    - Detalhando os sentimentos negativos e positivos entre muito ou moderado, utilizando a mesma regra de 70% de probabilidade. A Vivo e Claro, possuem um comportamento muito semelhante.\n",
    "    - No caso de TIM, se mantem distoante, com comentários muito negativos na maioria.\n",
    "    - Nas emoções gerais, Vivo e Claro seguem um comportamento parecido, tendo como principal emoção a **alegria**, em seguida da **neutralidade**. Enquanto as demais emoções não possuem expressividade.\n",
    "    - A TIM distoa, tendo como principal emoção a **netrualidade**, seguido de **alegria** e **raiva**, refletindo o sentimento geral dos comentários."
   ]
  },
  {
   "cell_type": "markdown",
   "id": "645ebdbf",
   "metadata": {},
   "source": [
    "### Informações Gerais"
   ]
  },
  {
   "cell_type": "code",
   "execution_count": 26,
   "id": "9acff674",
   "metadata": {},
   "outputs": [
    {
     "name": "stderr",
     "output_type": "stream",
     "text": [
      "Pandas Apply: 100%|██████████| 45000/45000 [1:12:54<00:00, 10.29it/s]\n"
     ]
    }
   ],
   "source": [
    "comentarios_android[\"content_proc\"] = comentarios_android[\"content\"].swifter.apply(tratamento_de_texto)"
   ]
  },
  {
   "cell_type": "code",
   "execution_count": 27,
   "id": "ef44563f",
   "metadata": {},
   "outputs": [
    {
     "name": "stderr",
     "output_type": "stream",
     "text": [
      "Pandas Apply: 100%|██████████| 45000/45000 [51:36<00:00, 14.53it/s]  \n"
     ]
    }
   ],
   "source": [
    "resultados = comentarios_android[\"content_proc\"].swifter.apply(analisar_sentimento_todos)\n",
    "df = pd.concat([comentarios_android, resultados], axis=1)"
   ]
  },
  {
   "cell_type": "code",
   "execution_count": 102,
   "id": "f07f0130",
   "metadata": {},
   "outputs": [
    {
     "name": "stdout",
     "output_type": "stream",
     "text": [
      "Data mínima da Claro:  2024-12-11 11:32:18\n",
      "Data mínima da TIM:  2024-12-12 11:37:05\n",
      "Data mínima da Vivo:  2025-04-13 12:18:16\n",
      "Data máxima da Claro:  2025-06-09 16:14:31\n",
      "Data máxima da TIM:  2025-06-09 16:05:37\n",
      "Data máxima da Vivo:  2025-06-09 16:22:06\n"
     ]
    }
   ],
   "source": [
    "print(\"Data mínima da Claro: \", df[df['app']=='Claro']['date'].min())\n",
    "print(\"Data mínima da TIM: \", df[df['app']=='TIM']['date'].min())\n",
    "print(\"Data mínima da Vivo: \", df[df['app']=='Vivo']['date'].min())\n",
    "print(\"Data máxima da Claro: \", df[df['app']=='Claro']['date'].max())\n",
    "print(\"Data máxima da TIM: \", df[df['app']=='TIM']['date'].max())\n",
    "print(\"Data máxima da Vivo: \", df[df['app']=='Vivo']['date'].max())"
   ]
  },
  {
   "cell_type": "code",
   "execution_count": null,
   "id": "efef9c46",
   "metadata": {},
   "outputs": [
    {
     "data": {
      "text/html": [
       "<div>\n",
       "<style scoped>\n",
       "    .dataframe tbody tr th:only-of-type {\n",
       "        vertical-align: middle;\n",
       "    }\n",
       "\n",
       "    .dataframe tbody tr th {\n",
       "        vertical-align: top;\n",
       "    }\n",
       "\n",
       "    .dataframe thead th {\n",
       "        text-align: right;\n",
       "    }\n",
       "</style>\n",
       "<table border=\"1\" class=\"dataframe\">\n",
       "  <thead>\n",
       "    <tr style=\"text-align: right;\">\n",
       "      <th></th>\n",
       "      <th>app</th>\n",
       "      <th>volume</th>\n",
       "      <th>sentimento_medio</th>\n",
       "    </tr>\n",
       "  </thead>\n",
       "  <tbody>\n",
       "    <tr>\n",
       "      <th>0</th>\n",
       "      <td>Claro</td>\n",
       "      <td>15000</td>\n",
       "      <td>0.268696</td>\n",
       "    </tr>\n",
       "    <tr>\n",
       "      <th>1</th>\n",
       "      <td>TIM</td>\n",
       "      <td>15000</td>\n",
       "      <td>-0.223043</td>\n",
       "    </tr>\n",
       "    <tr>\n",
       "      <th>2</th>\n",
       "      <td>Vivo</td>\n",
       "      <td>15000</td>\n",
       "      <td>0.229890</td>\n",
       "    </tr>\n",
       "  </tbody>\n",
       "</table>\n",
       "</div>"
      ],
      "text/plain": [
       "     app  volume  sentimento_medio\n",
       "0  Claro   15000          0.268696\n",
       "1    TIM   15000         -0.223043\n",
       "2   Vivo   15000          0.229890"
      ]
     },
     "execution_count": 5,
     "metadata": {},
     "output_type": "execute_result"
    }
   ],
   "source": [
    "#Sentimento Geral do App\n",
    "df_explodido = df.explode('app')\n",
    "\n",
    "df_explodido['sentimento_continuo'] = (\n",
    "    df_explodido['sentiment_POS'] * 1 +\n",
    "    df_explodido['sentiment_NEU'] * 0 +\n",
    "    df_explodido['sentiment_NEG'] * -1\n",
    ")\n",
    "\n",
    "df_tema = df_explodido.groupby('app').agg(\n",
    "    volume=('app', 'count'),\n",
    "    sentimento_medio=('sentimento_continuo', 'mean')\n",
    ").reset_index()\n",
    "\n",
    "df_tema"
   ]
  },
  {
   "cell_type": "markdown",
   "id": "ebc9cb96",
   "metadata": {},
   "source": [
    "### Notas\n",
    "- Observando o geral das notas dos comentários do período, para todos os apps, se destaca a quantidade de avaliações máximas.\n",
    "- Exceto a TIM, que também tem muitas avaliações máximas, as avaliações de 1, são maiores.\n",
    "- Observando as notas dos comentários ao decorrer dos meses, o comportamento do geral se mantém para os meses também.\n",
    "- Não fez tanto sentido tentar verificar a nota média por versão do app que usuários tinham quando comentaram."
   ]
  },
  {
   "cell_type": "code",
   "execution_count": 30,
   "id": "7c1994df",
   "metadata": {},
   "outputs": [
    {
     "data": {
      "image/png": "[encoded data removed]",
      "text/plain": [
       "<Figure size 1000x600 with 1 Axes>"
      ]
     },
     "metadata": {},
     "output_type": "display_data"
    }
   ],
   "source": [
    "sns.set_style(\"darkgrid\")\n",
    "plt.figure(figsize=(10, 6))\n",
    "\n",
    "# Plotar gráfico com hue simplificado\n",
    "sns.countplot(\n",
    "    data=df,\n",
    "    x='app',\n",
    "    hue='score',\n",
    "    palette={1: '#FF4C4C', 2: '#FFA500', 3: \"#FFFB00\", 4: \"#A0E95C\", 5: '#4CAF50'},\n",
    "    hue_order=[1, 2, 3, 4, 5]\n",
    ")\n",
    "\n",
    "plt.title(\"Notas dos Comentários Recentes por Operadora\", loc=\"center\")\n",
    "plt.xlabel(\"Operadora\")\n",
    "plt.ylabel(\"Qtd Comentários por Nota\")\n",
    "plt.legend(title=\"Nota\")\n",
    "\n",
    "plt.show()"
   ]
  },
  {
   "cell_type": "code",
   "execution_count": null,
   "id": "1a1efdb4",
   "metadata": {},
   "outputs": [
    {
     "data": {
      "image/png": "[encoded data removed]",
      "text/plain": [
       "<Figure size 1200x1500 with 3 Axes>"
      ]
     },
     "metadata": {},
     "output_type": "display_data"
    }
   ],
   "source": [
    "df['date'] = pd.to_datetime(df['date'])\n",
    "df['mes'] = df['date'].dt.to_period('M').astype(str)\n",
    "todos_meses = sorted(df['mes'].unique())\n",
    "\n",
    "cores = {1: '#FF4C4C', 2: '#FFA500', 3: \"#FFFB00\", 4: \"#A0E95C\", 5: '#4CAF50'}\n",
    "apps = df['app'].unique()\n",
    "n_apps = len(apps)\n",
    "\n",
    "fig, axes = plt.subplots(n_apps, 1, figsize=(12, 5 * n_apps), sharex=True)\n",
    "\n",
    "for i, app in enumerate(apps):\n",
    "    df_app = df[df['app'] == app]\n",
    "\n",
    "    dados = df_app.groupby(['mes', 'score']).size().unstack(fill_value=0)\n",
    "    dados = dados.reindex(todos_meses, fill_value=0)\n",
    "    \n",
    "    for score in [1, 2, 3, 4, 5]:\n",
    "        if score not in dados.columns:\n",
    "            dados[score] = 0\n",
    "    \n",
    "    dados = dados[[1, 2, 3, 4, 5]]\n",
    "\n",
    "    ax = axes[i] if n_apps > 1 else axes\n",
    "    dados.plot(\n",
    "        kind='bar',\n",
    "        stacked=True,\n",
    "        color=[cores[n] for n in dados.columns],\n",
    "        ax=ax,\n",
    "        title=f\"Notas por Mês - {app}\"\n",
    "    )\n",
    "    ax.set_ylabel(\"Qtd Comentários\")\n",
    "    ax.legend(title=\"Nota\", loc='upper right')\n",
    "\n",
    "plt.xlabel(\"Mês\")\n",
    "plt.tight_layout()\n",
    "plt.show()\n"
   ]
  },
  {
   "cell_type": "code",
   "execution_count": 31,
   "id": "a54a626e",
   "metadata": {},
   "outputs": [
    {
     "data": {
      "image/png": "[encoded data removed]",
      "text/plain": [
       "<Figure size 1200x600 with 1 Axes>"
      ]
     },
     "metadata": {},
     "output_type": "display_data"
    }
   ],
   "source": [
    "def agrupa_versao(v):\n",
    "    if pd.isnull(v):\n",
    "        return 'Outros'\n",
    "    try:\n",
    "        return v if parse(str(v)) >= parse('17.0') else 'Outros'\n",
    "    except:\n",
    "        return 'Outros'\n",
    "\n",
    "resultado = df[df['app'] == 'Claro'].copy()\n",
    "resultado['app_version'] = resultado['app_version'].fillna('0')\n",
    "resultado['app_version_agrupada'] = resultado['app_version'].apply(agrupa_versao)\n",
    "\n",
    "media_por_versao = resultado.groupby('app_version_agrupada')['score'].mean().reset_index()\n",
    "\n",
    "# 4. Gráfico de barras da nota média por versão\n",
    "plt.figure(figsize=(12,6))\n",
    "sns.barplot(data=media_por_versao, x='app_version_agrupada', y='score', palette='viridis')\n",
    "\n",
    "plt.xticks(rotation=45, ha='right')  # gira as labels para melhor visualização\n",
    "plt.xlabel('Versão do App')\n",
    "plt.ylabel('Nota Média')\n",
    "plt.title('Nota Média por Versão do App - Claro')\n",
    "plt.tight_layout()\n",
    "plt.show()\n"
   ]
  },
  {
   "cell_type": "code",
   "execution_count": 32,
   "id": "a05ff96d",
   "metadata": {},
   "outputs": [
    {
     "data": {
      "image/png": "[encoded data removed]",
      "text/plain": [
       "<Figure size 1200x600 with 1 Axes>"
      ]
     },
     "metadata": {},
     "output_type": "display_data"
    }
   ],
   "source": [
    "def agrupa_versao(v):\n",
    "    if pd.isnull(v):\n",
    "        return 'Outros'\n",
    "    try:\n",
    "        return v if parse(str(v)) >= parse('7.0') else 'Outros'\n",
    "    except:\n",
    "        return 'Outros'\n",
    "\n",
    "resultado = df[df['app'] == 'TIM'].copy()\n",
    "resultado['app_version'] = resultado['app_version'].fillna('0')\n",
    "resultado['app_version_agrupada'] = resultado['app_version'].apply(agrupa_versao)\n",
    "\n",
    "media_por_versao = resultado.groupby('app_version_agrupada')['score'].mean().reset_index()\n",
    "\n",
    "# 4. Gráfico de barras da nota média por versão\n",
    "plt.figure(figsize=(12,6))\n",
    "sns.barplot(data=media_por_versao, x='app_version_agrupada', y='score', palette='viridis')\n",
    "\n",
    "plt.xticks(rotation=45, ha='right')  # gira as labels para melhor visualização\n",
    "plt.xlabel('Versão do App')\n",
    "plt.ylabel('Nota Média')\n",
    "plt.title('Nota Média por Versão do App - TIM')\n",
    "plt.tight_layout()\n",
    "plt.show()"
   ]
  },
  {
   "cell_type": "code",
   "execution_count": 33,
   "id": "e99efc76",
   "metadata": {},
   "outputs": [
    {
     "data": {
      "image/png": "[encoded data removed]",
      "text/plain": [
       "<Figure size 1200x600 with 1 Axes>"
      ]
     },
     "metadata": {},
     "output_type": "display_data"
    }
   ],
   "source": [
    "def agrupa_versao(v):\n",
    "    if pd.isnull(v):\n",
    "        return 'Outros'\n",
    "    try:\n",
    "        return v if parse(str(v)) >= parse('20.0') else 'Outros'\n",
    "    except:\n",
    "        return 'Outros'\n",
    "\n",
    "resultado = df[df['app'] == 'Vivo'].copy()\n",
    "resultado['app_version'] = resultado['app_version'].fillna('0')\n",
    "resultado['app_version_agrupada'] = resultado['app_version'].apply(agrupa_versao)\n",
    "\n",
    "media_por_versao = resultado.groupby('app_version_agrupada')['score'].mean().reset_index()\n",
    "\n",
    "# 4. Gráfico de barras da nota média por versão\n",
    "plt.figure(figsize=(12,6))\n",
    "sns.barplot(data=media_por_versao, x='app_version_agrupada', y='score', palette='viridis')\n",
    "\n",
    "plt.xticks(rotation=45, ha='right')  # gira as labels para melhor visualização\n",
    "plt.xlabel('Versão do App')\n",
    "plt.ylabel('Nota Média')\n",
    "plt.title('Nota Média por Versão do App - Vivo')\n",
    "plt.tight_layout()\n",
    "plt.show()"
   ]
  },
  {
   "cell_type": "markdown",
   "id": "5fe94cf6",
   "metadata": {},
   "source": [
    "### Sentimentos por Versão\n",
    "- Os apps lançam muitas versão intermediárias, que dificutam uma análise mais aprofundada a partir dos comentários. Nesse caso, não foi tão relevante assim."
   ]
  },
  {
   "cell_type": "markdown",
   "id": "8c19ca2a",
   "metadata": {},
   "source": [
    "#### Claro"
   ]
  },
  {
   "cell_type": "code",
   "execution_count": 34,
   "id": "21f45263",
   "metadata": {},
   "outputs": [
    {
     "data": {
      "text/html": [
       "<div>\n",
       "<style scoped>\n",
       "    .dataframe tbody tr th:only-of-type {\n",
       "        vertical-align: middle;\n",
       "    }\n",
       "\n",
       "    .dataframe tbody tr th {\n",
       "        vertical-align: top;\n",
       "    }\n",
       "\n",
       "    .dataframe thead th {\n",
       "        text-align: right;\n",
       "    }\n",
       "</style>\n",
       "<table border=\"1\" class=\"dataframe\">\n",
       "  <thead>\n",
       "    <tr style=\"text-align: right;\">\n",
       "      <th>app_version_agrupada</th>\n",
       "      <th>17.10.0</th>\n",
       "      <th>17.10.2</th>\n",
       "      <th>17.13.0</th>\n",
       "      <th>17.14.0</th>\n",
       "      <th>17.14.1</th>\n",
       "      <th>17.16.0</th>\n",
       "      <th>17.17.0</th>\n",
       "      <th>17.17.1</th>\n",
       "      <th>17.18.0</th>\n",
       "      <th>17.19.2</th>\n",
       "      <th>17.20.1</th>\n",
       "      <th>17.21.0</th>\n",
       "      <th>17.22.0</th>\n",
       "      <th>17.22.1</th>\n",
       "      <th>17.23.0</th>\n",
       "      <th>17.24.0</th>\n",
       "      <th>17.25.0</th>\n",
       "      <th>17.26.0</th>\n",
       "      <th>17.27.0</th>\n",
       "      <th>17.29.0</th>\n",
       "      <th>17.3.0</th>\n",
       "      <th>17.30.0</th>\n",
       "      <th>17.31.0</th>\n",
       "      <th>17.33.0</th>\n",
       "      <th>17.34.0</th>\n",
       "      <th>17.35.0</th>\n",
       "      <th>17.36.0</th>\n",
       "      <th>17.37.0</th>\n",
       "      <th>17.39.0</th>\n",
       "      <th>17.41.0</th>\n",
       "      <th>17.42.0</th>\n",
       "      <th>17.43.0</th>\n",
       "      <th>17.44.0</th>\n",
       "      <th>17.44.1</th>\n",
       "      <th>17.45.0</th>\n",
       "      <th>17.45.2</th>\n",
       "      <th>17.46.0</th>\n",
       "      <th>17.47.1</th>\n",
       "      <th>17.48.0</th>\n",
       "      <th>17.49.0</th>\n",
       "      <th>17.5.0</th>\n",
       "      <th>17.50.0</th>\n",
       "      <th>17.51.0</th>\n",
       "      <th>17.52.0</th>\n",
       "      <th>17.53.0</th>\n",
       "      <th>17.54.0</th>\n",
       "      <th>17.55.0</th>\n",
       "      <th>17.56.0</th>\n",
       "      <th>17.6.0</th>\n",
       "      <th>17.7.0</th>\n",
       "      <th>18.0.0</th>\n",
       "      <th>18.1.0</th>\n",
       "      <th>18.2.0</th>\n",
       "      <th>18.3.0</th>\n",
       "      <th>18.4.0</th>\n",
       "      <th>18.5.0</th>\n",
       "      <th>18.6.0</th>\n",
       "      <th>18.7.0</th>\n",
       "      <th>18.8.0</th>\n",
       "      <th>18.9.0</th>\n",
       "      <th>Outros</th>\n",
       "    </tr>\n",
       "    <tr>\n",
       "      <th>sentiment_output</th>\n",
       "      <th></th>\n",
       "      <th></th>\n",
       "      <th></th>\n",
       "      <th></th>\n",
       "      <th></th>\n",
       "      <th></th>\n",
       "      <th></th>\n",
       "      <th></th>\n",
       "      <th></th>\n",
       "      <th></th>\n",
       "      <th></th>\n",
       "      <th></th>\n",
       "      <th></th>\n",
       "      <th></th>\n",
       "      <th></th>\n",
       "      <th></th>\n",
       "      <th></th>\n",
       "      <th></th>\n",
       "      <th></th>\n",
       "      <th></th>\n",
       "      <th></th>\n",
       "      <th></th>\n",
       "      <th></th>\n",
       "      <th></th>\n",
       "      <th></th>\n",
       "      <th></th>\n",
       "      <th></th>\n",
       "      <th></th>\n",
       "      <th></th>\n",
       "      <th></th>\n",
       "      <th></th>\n",
       "      <th></th>\n",
       "      <th></th>\n",
       "      <th></th>\n",
       "      <th></th>\n",
       "      <th></th>\n",
       "      <th></th>\n",
       "      <th></th>\n",
       "      <th></th>\n",
       "      <th></th>\n",
       "      <th></th>\n",
       "      <th></th>\n",
       "      <th></th>\n",
       "      <th></th>\n",
       "      <th></th>\n",
       "      <th></th>\n",
       "      <th></th>\n",
       "      <th></th>\n",
       "      <th></th>\n",
       "      <th></th>\n",
       "      <th></th>\n",
       "      <th></th>\n",
       "      <th></th>\n",
       "      <th></th>\n",
       "      <th></th>\n",
       "      <th></th>\n",
       "      <th></th>\n",
       "      <th></th>\n",
       "      <th></th>\n",
       "      <th></th>\n",
       "      <th></th>\n",
       "    </tr>\n",
       "  </thead>\n",
       "  <tbody>\n",
       "    <tr>\n",
       "      <th>NEG</th>\n",
       "      <td>0.0</td>\n",
       "      <td>0.0</td>\n",
       "      <td>0.0</td>\n",
       "      <td>0.0</td>\n",
       "      <td>0.0</td>\n",
       "      <td>1.0</td>\n",
       "      <td>2.0</td>\n",
       "      <td>1.0</td>\n",
       "      <td>0.0</td>\n",
       "      <td>0.0</td>\n",
       "      <td>0.0</td>\n",
       "      <td>2.0</td>\n",
       "      <td>2.0</td>\n",
       "      <td>0.0</td>\n",
       "      <td>1.0</td>\n",
       "      <td>0.0</td>\n",
       "      <td>0.0</td>\n",
       "      <td>1.0</td>\n",
       "      <td>2.0</td>\n",
       "      <td>1.0</td>\n",
       "      <td>3.0</td>\n",
       "      <td>2.0</td>\n",
       "      <td>0.0</td>\n",
       "      <td>2.0</td>\n",
       "      <td>2.0</td>\n",
       "      <td>0.0</td>\n",
       "      <td>2.0</td>\n",
       "      <td>7.0</td>\n",
       "      <td>6.0</td>\n",
       "      <td>0.0</td>\n",
       "      <td>3.0</td>\n",
       "      <td>9.0</td>\n",
       "      <td>0.0</td>\n",
       "      <td>81.0</td>\n",
       "      <td>11.0</td>\n",
       "      <td>40.0</td>\n",
       "      <td>43.0</td>\n",
       "      <td>137.0</td>\n",
       "      <td>189.0</td>\n",
       "      <td>105.0</td>\n",
       "      <td>1.0</td>\n",
       "      <td>59.0</td>\n",
       "      <td>19.0</td>\n",
       "      <td>61.0</td>\n",
       "      <td>79.0</td>\n",
       "      <td>188.0</td>\n",
       "      <td>59.0</td>\n",
       "      <td>138.0</td>\n",
       "      <td>0.0</td>\n",
       "      <td>1.0</td>\n",
       "      <td>86.0</td>\n",
       "      <td>24.0</td>\n",
       "      <td>41.0</td>\n",
       "      <td>75.0</td>\n",
       "      <td>124.0</td>\n",
       "      <td>121.0</td>\n",
       "      <td>71.0</td>\n",
       "      <td>41.0</td>\n",
       "      <td>71.0</td>\n",
       "      <td>3.0</td>\n",
       "      <td>400.0</td>\n",
       "    </tr>\n",
       "    <tr>\n",
       "      <th>NEU</th>\n",
       "      <td>2.0</td>\n",
       "      <td>1.0</td>\n",
       "      <td>1.0</td>\n",
       "      <td>2.0</td>\n",
       "      <td>3.0</td>\n",
       "      <td>1.0</td>\n",
       "      <td>1.0</td>\n",
       "      <td>1.0</td>\n",
       "      <td>3.0</td>\n",
       "      <td>1.0</td>\n",
       "      <td>2.0</td>\n",
       "      <td>2.0</td>\n",
       "      <td>0.0</td>\n",
       "      <td>2.0</td>\n",
       "      <td>0.0</td>\n",
       "      <td>3.0</td>\n",
       "      <td>2.0</td>\n",
       "      <td>2.0</td>\n",
       "      <td>3.0</td>\n",
       "      <td>3.0</td>\n",
       "      <td>0.0</td>\n",
       "      <td>8.0</td>\n",
       "      <td>2.0</td>\n",
       "      <td>7.0</td>\n",
       "      <td>1.0</td>\n",
       "      <td>1.0</td>\n",
       "      <td>2.0</td>\n",
       "      <td>9.0</td>\n",
       "      <td>11.0</td>\n",
       "      <td>0.0</td>\n",
       "      <td>7.0</td>\n",
       "      <td>23.0</td>\n",
       "      <td>2.0</td>\n",
       "      <td>332.0</td>\n",
       "      <td>17.0</td>\n",
       "      <td>173.0</td>\n",
       "      <td>192.0</td>\n",
       "      <td>518.0</td>\n",
       "      <td>522.0</td>\n",
       "      <td>419.0</td>\n",
       "      <td>3.0</td>\n",
       "      <td>209.0</td>\n",
       "      <td>88.0</td>\n",
       "      <td>226.0</td>\n",
       "      <td>325.0</td>\n",
       "      <td>637.0</td>\n",
       "      <td>176.0</td>\n",
       "      <td>432.0</td>\n",
       "      <td>2.0</td>\n",
       "      <td>0.0</td>\n",
       "      <td>325.0</td>\n",
       "      <td>74.0</td>\n",
       "      <td>171.0</td>\n",
       "      <td>275.0</td>\n",
       "      <td>460.0</td>\n",
       "      <td>365.0</td>\n",
       "      <td>269.0</td>\n",
       "      <td>134.0</td>\n",
       "      <td>315.0</td>\n",
       "      <td>18.0</td>\n",
       "      <td>456.0</td>\n",
       "    </tr>\n",
       "    <tr>\n",
       "      <th>POS</th>\n",
       "      <td>2.0</td>\n",
       "      <td>2.0</td>\n",
       "      <td>0.0</td>\n",
       "      <td>2.0</td>\n",
       "      <td>0.0</td>\n",
       "      <td>1.0</td>\n",
       "      <td>1.0</td>\n",
       "      <td>0.0</td>\n",
       "      <td>1.0</td>\n",
       "      <td>0.0</td>\n",
       "      <td>3.0</td>\n",
       "      <td>0.0</td>\n",
       "      <td>0.0</td>\n",
       "      <td>2.0</td>\n",
       "      <td>0.0</td>\n",
       "      <td>0.0</td>\n",
       "      <td>0.0</td>\n",
       "      <td>0.0</td>\n",
       "      <td>2.0</td>\n",
       "      <td>1.0</td>\n",
       "      <td>1.0</td>\n",
       "      <td>3.0</td>\n",
       "      <td>0.0</td>\n",
       "      <td>3.0</td>\n",
       "      <td>1.0</td>\n",
       "      <td>0.0</td>\n",
       "      <td>1.0</td>\n",
       "      <td>5.0</td>\n",
       "      <td>2.0</td>\n",
       "      <td>2.0</td>\n",
       "      <td>3.0</td>\n",
       "      <td>11.0</td>\n",
       "      <td>1.0</td>\n",
       "      <td>266.0</td>\n",
       "      <td>26.0</td>\n",
       "      <td>130.0</td>\n",
       "      <td>161.0</td>\n",
       "      <td>425.0</td>\n",
       "      <td>356.0</td>\n",
       "      <td>317.0</td>\n",
       "      <td>1.0</td>\n",
       "      <td>169.0</td>\n",
       "      <td>71.0</td>\n",
       "      <td>182.0</td>\n",
       "      <td>193.0</td>\n",
       "      <td>495.0</td>\n",
       "      <td>138.0</td>\n",
       "      <td>367.0</td>\n",
       "      <td>1.0</td>\n",
       "      <td>0.0</td>\n",
       "      <td>237.0</td>\n",
       "      <td>48.0</td>\n",
       "      <td>114.0</td>\n",
       "      <td>206.0</td>\n",
       "      <td>348.0</td>\n",
       "      <td>298.0</td>\n",
       "      <td>178.0</td>\n",
       "      <td>95.0</td>\n",
       "      <td>189.0</td>\n",
       "      <td>9.0</td>\n",
       "      <td>254.0</td>\n",
       "    </tr>\n",
       "  </tbody>\n",
       "</table>\n",
       "</div>"
      ],
      "text/plain": [
       "app_version_agrupada  17.10.0  17.10.2  17.13.0  17.14.0  17.14.1  17.16.0  \\\n",
       "sentiment_output                                                             \n",
       "NEG                       0.0      0.0      0.0      0.0      0.0      1.0   \n",
       "NEU                       2.0      1.0      1.0      2.0      3.0      1.0   \n",
       "POS                       2.0      2.0      0.0      2.0      0.0      1.0   \n",
       "\n",
       "app_version_agrupada  17.17.0  17.17.1  17.18.0  17.19.2  17.20.1  17.21.0  \\\n",
       "sentiment_output                                                             \n",
       "NEG                       2.0      1.0      0.0      0.0      0.0      2.0   \n",
       "NEU                       1.0      1.0      3.0      1.0      2.0      2.0   \n",
       "POS                       1.0      0.0      1.0      0.0      3.0      0.0   \n",
       "\n",
       "app_version_agrupada  17.22.0  17.22.1  17.23.0  17.24.0  17.25.0  17.26.0  \\\n",
       "sentiment_output                                                             \n",
       "NEG                       2.0      0.0      1.0      0.0      0.0      1.0   \n",
       "NEU                       0.0      2.0      0.0      3.0      2.0      2.0   \n",
       "POS                       0.0      2.0      0.0      0.0      0.0      0.0   \n",
       "\n",
       "app_version_agrupada  17.27.0  17.29.0  17.3.0  17.30.0  17.31.0  17.33.0  \\\n",
       "sentiment_output                                                            \n",
       "NEG                       2.0      1.0     3.0      2.0      0.0      2.0   \n",
       "NEU                       3.0      3.0     0.0      8.0      2.0      7.0   \n",
       "POS                       2.0      1.0     1.0      3.0      0.0      3.0   \n",
       "\n",
       "app_version_agrupada  17.34.0  17.35.0  17.36.0  17.37.0  17.39.0  17.41.0  \\\n",
       "sentiment_output                                                             \n",
       "NEG                       2.0      0.0      2.0      7.0      6.0      0.0   \n",
       "NEU                       1.0      1.0      2.0      9.0     11.0      0.0   \n",
       "POS                       1.0      0.0      1.0      5.0      2.0      2.0   \n",
       "\n",
       "app_version_agrupada  17.42.0  17.43.0  17.44.0  17.44.1  17.45.0  17.45.2  \\\n",
       "sentiment_output                                                             \n",
       "NEG                       3.0      9.0      0.0     81.0     11.0     40.0   \n",
       "NEU                       7.0     23.0      2.0    332.0     17.0    173.0   \n",
       "POS                       3.0     11.0      1.0    266.0     26.0    130.0   \n",
       "\n",
       "app_version_agrupada  17.46.0  17.47.1  17.48.0  17.49.0  17.5.0  17.50.0  \\\n",
       "sentiment_output                                                            \n",
       "NEG                      43.0    137.0    189.0    105.0     1.0     59.0   \n",
       "NEU                     192.0    518.0    522.0    419.0     3.0    209.0   \n",
       "POS                     161.0    425.0    356.0    317.0     1.0    169.0   \n",
       "\n",
       "app_version_agrupada  17.51.0  17.52.0  17.53.0  17.54.0  17.55.0  17.56.0  \\\n",
       "sentiment_output                                                             \n",
       "NEG                      19.0     61.0     79.0    188.0     59.0    138.0   \n",
       "NEU                      88.0    226.0    325.0    637.0    176.0    432.0   \n",
       "POS                      71.0    182.0    193.0    495.0    138.0    367.0   \n",
       "\n",
       "app_version_agrupada  17.6.0  17.7.0  18.0.0  18.1.0  18.2.0  18.3.0  18.4.0  \\\n",
       "sentiment_output                                                               \n",
       "NEG                      0.0     1.0    86.0    24.0    41.0    75.0   124.0   \n",
       "NEU                      2.0     0.0   325.0    74.0   171.0   275.0   460.0   \n",
       "POS                      1.0     0.0   237.0    48.0   114.0   206.0   348.0   \n",
       "\n",
       "app_version_agrupada  18.5.0  18.6.0  18.7.0  18.8.0  18.9.0  Outros  \n",
       "sentiment_output                                                      \n",
       "NEG                    121.0    71.0    41.0    71.0     3.0   400.0  \n",
       "NEU                    365.0   269.0   134.0   315.0    18.0   456.0  \n",
       "POS                    298.0   178.0    95.0   189.0     9.0   254.0  "
      ]
     },
     "execution_count": 34,
     "metadata": {},
     "output_type": "execute_result"
    }
   ],
   "source": [
    "def agrupa_versao(v):\n",
    "    if pd.isnull(v):\n",
    "        return 'Outros'\n",
    "    try:\n",
    "        return v if parse(str(v)) >= parse('17.0.0') else 'Outros'\n",
    "    except:\n",
    "        return 'Outros'\n",
    "\n",
    "resultado = df[df['app'] == 'Claro'].copy()\n",
    "resultado['app_version'] = resultado['app_version'].fillna('0')\n",
    "resultado['app_version_agrupada'] = resultado['app_version'].apply(agrupa_versao)\n",
    "\n",
    "resultado_grouped = (resultado\n",
    "                     .groupby(['sentiment_output', 'app_version_agrupada'])\n",
    "                     .size()\n",
    "                     .reset_index(name='contagem'))\n",
    "\n",
    "tabela = resultado_grouped.pivot(index='sentiment_output',\n",
    "                                 columns='app_version_agrupada',\n",
    "                                 values='contagem').fillna(0)\n",
    "\n",
    "tabela"
   ]
  },
  {
   "cell_type": "code",
   "execution_count": 35,
   "id": "ae4b9115",
   "metadata": {},
   "outputs": [
    {
     "data": {
      "text/html": [
       "<div>\n",
       "<style scoped>\n",
       "    .dataframe tbody tr th:only-of-type {\n",
       "        vertical-align: middle;\n",
       "    }\n",
       "\n",
       "    .dataframe tbody tr th {\n",
       "        vertical-align: top;\n",
       "    }\n",
       "\n",
       "    .dataframe thead th {\n",
       "        text-align: right;\n",
       "    }\n",
       "</style>\n",
       "<table border=\"1\" class=\"dataframe\">\n",
       "  <thead>\n",
       "    <tr style=\"text-align: right;\">\n",
       "      <th>app_version_agrupada</th>\n",
       "      <th>17.44.1</th>\n",
       "      <th>17.45.2</th>\n",
       "      <th>17.46.0</th>\n",
       "      <th>17.47.1</th>\n",
       "      <th>17.48.0</th>\n",
       "      <th>17.49.0</th>\n",
       "      <th>17.50.0</th>\n",
       "      <th>17.52.0</th>\n",
       "      <th>17.53.0</th>\n",
       "      <th>17.54.0</th>\n",
       "      <th>17.55.0</th>\n",
       "      <th>17.56.0</th>\n",
       "      <th>18.0.0</th>\n",
       "      <th>18.2.0</th>\n",
       "      <th>18.3.0</th>\n",
       "      <th>18.4.0</th>\n",
       "      <th>18.5.0</th>\n",
       "      <th>18.6.0</th>\n",
       "      <th>18.7.0</th>\n",
       "      <th>18.8.0</th>\n",
       "      <th>Outros</th>\n",
       "    </tr>\n",
       "    <tr>\n",
       "      <th>sentiment_output</th>\n",
       "      <th></th>\n",
       "      <th></th>\n",
       "      <th></th>\n",
       "      <th></th>\n",
       "      <th></th>\n",
       "      <th></th>\n",
       "      <th></th>\n",
       "      <th></th>\n",
       "      <th></th>\n",
       "      <th></th>\n",
       "      <th></th>\n",
       "      <th></th>\n",
       "      <th></th>\n",
       "      <th></th>\n",
       "      <th></th>\n",
       "      <th></th>\n",
       "      <th></th>\n",
       "      <th></th>\n",
       "      <th></th>\n",
       "      <th></th>\n",
       "      <th></th>\n",
       "    </tr>\n",
       "  </thead>\n",
       "  <tbody>\n",
       "    <tr>\n",
       "      <th>NEG</th>\n",
       "      <td>81</td>\n",
       "      <td>40</td>\n",
       "      <td>43</td>\n",
       "      <td>137</td>\n",
       "      <td>189</td>\n",
       "      <td>105</td>\n",
       "      <td>59</td>\n",
       "      <td>61</td>\n",
       "      <td>79</td>\n",
       "      <td>188</td>\n",
       "      <td>59</td>\n",
       "      <td>138</td>\n",
       "      <td>86</td>\n",
       "      <td>41</td>\n",
       "      <td>75</td>\n",
       "      <td>124</td>\n",
       "      <td>121</td>\n",
       "      <td>71</td>\n",
       "      <td>41</td>\n",
       "      <td>71</td>\n",
       "      <td>167</td>\n",
       "    </tr>\n",
       "    <tr>\n",
       "      <th>NEU</th>\n",
       "      <td>332</td>\n",
       "      <td>173</td>\n",
       "      <td>192</td>\n",
       "      <td>518</td>\n",
       "      <td>522</td>\n",
       "      <td>419</td>\n",
       "      <td>209</td>\n",
       "      <td>226</td>\n",
       "      <td>325</td>\n",
       "      <td>637</td>\n",
       "      <td>176</td>\n",
       "      <td>432</td>\n",
       "      <td>325</td>\n",
       "      <td>171</td>\n",
       "      <td>275</td>\n",
       "      <td>460</td>\n",
       "      <td>365</td>\n",
       "      <td>269</td>\n",
       "      <td>134</td>\n",
       "      <td>315</td>\n",
       "      <td>353</td>\n",
       "    </tr>\n",
       "    <tr>\n",
       "      <th>POS</th>\n",
       "      <td>266</td>\n",
       "      <td>130</td>\n",
       "      <td>161</td>\n",
       "      <td>425</td>\n",
       "      <td>356</td>\n",
       "      <td>317</td>\n",
       "      <td>169</td>\n",
       "      <td>182</td>\n",
       "      <td>193</td>\n",
       "      <td>495</td>\n",
       "      <td>138</td>\n",
       "      <td>367</td>\n",
       "      <td>237</td>\n",
       "      <td>114</td>\n",
       "      <td>206</td>\n",
       "      <td>348</td>\n",
       "      <td>298</td>\n",
       "      <td>178</td>\n",
       "      <td>95</td>\n",
       "      <td>189</td>\n",
       "      <td>234</td>\n",
       "    </tr>\n",
       "  </tbody>\n",
       "</table>\n",
       "</div>"
      ],
      "text/plain": [
       "app_version_agrupada  17.44.1  17.45.2  17.46.0  17.47.1  17.48.0  17.49.0  \\\n",
       "sentiment_output                                                             \n",
       "NEG                        81       40       43      137      189      105   \n",
       "NEU                       332      173      192      518      522      419   \n",
       "POS                       266      130      161      425      356      317   \n",
       "\n",
       "app_version_agrupada  17.50.0  17.52.0  17.53.0  17.54.0  17.55.0  17.56.0  \\\n",
       "sentiment_output                                                             \n",
       "NEG                        59       61       79      188       59      138   \n",
       "NEU                       209      226      325      637      176      432   \n",
       "POS                       169      182      193      495      138      367   \n",
       "\n",
       "app_version_agrupada  18.0.0  18.2.0  18.3.0  18.4.0  18.5.0  18.6.0  18.7.0  \\\n",
       "sentiment_output                                                               \n",
       "NEG                       86      41      75     124     121      71      41   \n",
       "NEU                      325     171     275     460     365     269     134   \n",
       "POS                      237     114     206     348     298     178      95   \n",
       "\n",
       "app_version_agrupada  18.8.0  Outros  \n",
       "sentiment_output                      \n",
       "NEG                       71     167  \n",
       "NEU                      315     353  \n",
       "POS                      189     234  "
      ]
     },
     "execution_count": 35,
     "metadata": {},
     "output_type": "execute_result"
    }
   ],
   "source": [
    "frequencias = df[df['app'] == 'Claro']['app_version'].value_counts()\n",
    "\n",
    "limiar = 200\n",
    "versoes_rare = frequencias[frequencias < limiar].index\n",
    "\n",
    "df['app_version_agrupada'] = df['app_version'].where(~df['app_version'].isin(versoes_rare), 'Outros')\n",
    "\n",
    "resultado = (df[df['app'] == 'Claro']\n",
    "             .groupby(['sentiment_output', 'app_version_agrupada'])\n",
    "             .size()\n",
    "             .reset_index(name='contagem'))\n",
    "\n",
    "tabela = resultado.pivot(index='sentiment_output', columns='app_version_agrupada', values='contagem').fillna(0)\n",
    "tabela\n"
   ]
  },
  {
   "cell_type": "markdown",
   "id": "e168d7a0",
   "metadata": {},
   "source": [
    "#### TIM"
   ]
  },
  {
   "cell_type": "code",
   "execution_count": 36,
   "id": "d8d20213",
   "metadata": {},
   "outputs": [
    {
     "data": {
      "text/html": [
       "<div>\n",
       "<style scoped>\n",
       "    .dataframe tbody tr th:only-of-type {\n",
       "        vertical-align: middle;\n",
       "    }\n",
       "\n",
       "    .dataframe tbody tr th {\n",
       "        vertical-align: top;\n",
       "    }\n",
       "\n",
       "    .dataframe thead th {\n",
       "        text-align: right;\n",
       "    }\n",
       "</style>\n",
       "<table border=\"1\" class=\"dataframe\">\n",
       "  <thead>\n",
       "    <tr style=\"text-align: right;\">\n",
       "      <th>app_version_agrupada</th>\n",
       "      <th>7.1.4</th>\n",
       "      <th>7.2.25</th>\n",
       "      <th>7.2.30</th>\n",
       "      <th>7.2.34</th>\n",
       "      <th>7.2.39</th>\n",
       "      <th>7.4.21</th>\n",
       "      <th>7.4.31</th>\n",
       "      <th>7.4.39</th>\n",
       "      <th>7.5.13</th>\n",
       "      <th>7.5.14</th>\n",
       "      <th>7.5.16</th>\n",
       "      <th>7.5.18</th>\n",
       "      <th>7.5.19</th>\n",
       "      <th>7.5.7</th>\n",
       "      <th>7.5.9</th>\n",
       "      <th>7.6.0</th>\n",
       "      <th>7.6.3</th>\n",
       "      <th>7.7.5</th>\n",
       "      <th>7.7.9</th>\n",
       "      <th>7.8.4</th>\n",
       "      <th>7.9.0</th>\n",
       "      <th>7.9.12</th>\n",
       "      <th>7.9.13</th>\n",
       "      <th>7.9.14</th>\n",
       "      <th>7.9.15</th>\n",
       "      <th>7.9.16</th>\n",
       "      <th>7.9.18</th>\n",
       "      <th>7.9.20</th>\n",
       "      <th>7.9.3</th>\n",
       "      <th>7.9.6</th>\n",
       "      <th>8.0.0</th>\n",
       "      <th>8.0.2</th>\n",
       "      <th>8.1.0</th>\n",
       "      <th>8.2.0</th>\n",
       "      <th>8.4.0</th>\n",
       "      <th>8.5.0</th>\n",
       "      <th>8.6.0</th>\n",
       "      <th>8.7.0</th>\n",
       "      <th>8.8.1</th>\n",
       "      <th>8.8.2</th>\n",
       "      <th>Outros</th>\n",
       "    </tr>\n",
       "    <tr>\n",
       "      <th>sentiment_output</th>\n",
       "      <th></th>\n",
       "      <th></th>\n",
       "      <th></th>\n",
       "      <th></th>\n",
       "      <th></th>\n",
       "      <th></th>\n",
       "      <th></th>\n",
       "      <th></th>\n",
       "      <th></th>\n",
       "      <th></th>\n",
       "      <th></th>\n",
       "      <th></th>\n",
       "      <th></th>\n",
       "      <th></th>\n",
       "      <th></th>\n",
       "      <th></th>\n",
       "      <th></th>\n",
       "      <th></th>\n",
       "      <th></th>\n",
       "      <th></th>\n",
       "      <th></th>\n",
       "      <th></th>\n",
       "      <th></th>\n",
       "      <th></th>\n",
       "      <th></th>\n",
       "      <th></th>\n",
       "      <th></th>\n",
       "      <th></th>\n",
       "      <th></th>\n",
       "      <th></th>\n",
       "      <th></th>\n",
       "      <th></th>\n",
       "      <th></th>\n",
       "      <th></th>\n",
       "      <th></th>\n",
       "      <th></th>\n",
       "      <th></th>\n",
       "      <th></th>\n",
       "      <th></th>\n",
       "      <th></th>\n",
       "      <th></th>\n",
       "    </tr>\n",
       "  </thead>\n",
       "  <tbody>\n",
       "    <tr>\n",
       "      <th>NEG</th>\n",
       "      <td>4.0</td>\n",
       "      <td>2.0</td>\n",
       "      <td>1.0</td>\n",
       "      <td>6.0</td>\n",
       "      <td>2.0</td>\n",
       "      <td>5.0</td>\n",
       "      <td>15.0</td>\n",
       "      <td>17.0</td>\n",
       "      <td>1.0</td>\n",
       "      <td>19.0</td>\n",
       "      <td>2.0</td>\n",
       "      <td>9.0</td>\n",
       "      <td>11.0</td>\n",
       "      <td>6.0</td>\n",
       "      <td>35.0</td>\n",
       "      <td>13.0</td>\n",
       "      <td>6.0</td>\n",
       "      <td>3.0</td>\n",
       "      <td>3.0</td>\n",
       "      <td>7.0</td>\n",
       "      <td>0.0</td>\n",
       "      <td>0.0</td>\n",
       "      <td>0.0</td>\n",
       "      <td>3.0</td>\n",
       "      <td>31.0</td>\n",
       "      <td>277.0</td>\n",
       "      <td>312.0</td>\n",
       "      <td>508.0</td>\n",
       "      <td>46.0</td>\n",
       "      <td>2.0</td>\n",
       "      <td>4.0</td>\n",
       "      <td>1127.0</td>\n",
       "      <td>559.0</td>\n",
       "      <td>955.0</td>\n",
       "      <td>310.0</td>\n",
       "      <td>196.0</td>\n",
       "      <td>490.0</td>\n",
       "      <td>294.0</td>\n",
       "      <td>91.0</td>\n",
       "      <td>5.0</td>\n",
       "      <td>1277.0</td>\n",
       "    </tr>\n",
       "    <tr>\n",
       "      <th>NEU</th>\n",
       "      <td>3.0</td>\n",
       "      <td>1.0</td>\n",
       "      <td>0.0</td>\n",
       "      <td>6.0</td>\n",
       "      <td>5.0</td>\n",
       "      <td>6.0</td>\n",
       "      <td>5.0</td>\n",
       "      <td>6.0</td>\n",
       "      <td>3.0</td>\n",
       "      <td>13.0</td>\n",
       "      <td>1.0</td>\n",
       "      <td>9.0</td>\n",
       "      <td>12.0</td>\n",
       "      <td>3.0</td>\n",
       "      <td>12.0</td>\n",
       "      <td>6.0</td>\n",
       "      <td>12.0</td>\n",
       "      <td>1.0</td>\n",
       "      <td>6.0</td>\n",
       "      <td>13.0</td>\n",
       "      <td>1.0</td>\n",
       "      <td>2.0</td>\n",
       "      <td>0.0</td>\n",
       "      <td>5.0</td>\n",
       "      <td>31.0</td>\n",
       "      <td>316.0</td>\n",
       "      <td>501.0</td>\n",
       "      <td>784.0</td>\n",
       "      <td>40.0</td>\n",
       "      <td>0.0</td>\n",
       "      <td>2.0</td>\n",
       "      <td>512.0</td>\n",
       "      <td>250.0</td>\n",
       "      <td>641.0</td>\n",
       "      <td>281.0</td>\n",
       "      <td>224.0</td>\n",
       "      <td>681.0</td>\n",
       "      <td>332.0</td>\n",
       "      <td>186.0</td>\n",
       "      <td>5.0</td>\n",
       "      <td>898.0</td>\n",
       "    </tr>\n",
       "    <tr>\n",
       "      <th>POS</th>\n",
       "      <td>3.0</td>\n",
       "      <td>1.0</td>\n",
       "      <td>0.0</td>\n",
       "      <td>0.0</td>\n",
       "      <td>1.0</td>\n",
       "      <td>2.0</td>\n",
       "      <td>1.0</td>\n",
       "      <td>6.0</td>\n",
       "      <td>2.0</td>\n",
       "      <td>1.0</td>\n",
       "      <td>2.0</td>\n",
       "      <td>3.0</td>\n",
       "      <td>4.0</td>\n",
       "      <td>2.0</td>\n",
       "      <td>4.0</td>\n",
       "      <td>3.0</td>\n",
       "      <td>3.0</td>\n",
       "      <td>2.0</td>\n",
       "      <td>2.0</td>\n",
       "      <td>4.0</td>\n",
       "      <td>0.0</td>\n",
       "      <td>0.0</td>\n",
       "      <td>1.0</td>\n",
       "      <td>3.0</td>\n",
       "      <td>14.0</td>\n",
       "      <td>104.0</td>\n",
       "      <td>279.0</td>\n",
       "      <td>436.0</td>\n",
       "      <td>19.0</td>\n",
       "      <td>1.0</td>\n",
       "      <td>0.0</td>\n",
       "      <td>147.0</td>\n",
       "      <td>60.0</td>\n",
       "      <td>174.0</td>\n",
       "      <td>158.0</td>\n",
       "      <td>102.0</td>\n",
       "      <td>323.0</td>\n",
       "      <td>203.0</td>\n",
       "      <td>66.0</td>\n",
       "      <td>1.0</td>\n",
       "      <td>316.0</td>\n",
       "    </tr>\n",
       "  </tbody>\n",
       "</table>\n",
       "</div>"
      ],
      "text/plain": [
       "app_version_agrupada  7.1.4  7.2.25  7.2.30  7.2.34  7.2.39  7.4.21  7.4.31  \\\n",
       "sentiment_output                                                              \n",
       "NEG                     4.0     2.0     1.0     6.0     2.0     5.0    15.0   \n",
       "NEU                     3.0     1.0     0.0     6.0     5.0     6.0     5.0   \n",
       "POS                     3.0     1.0     0.0     0.0     1.0     2.0     1.0   \n",
       "\n",
       "app_version_agrupada  7.4.39  7.5.13  7.5.14  7.5.16  7.5.18  7.5.19  7.5.7  \\\n",
       "sentiment_output                                                              \n",
       "NEG                     17.0     1.0    19.0     2.0     9.0    11.0    6.0   \n",
       "NEU                      6.0     3.0    13.0     1.0     9.0    12.0    3.0   \n",
       "POS                      6.0     2.0     1.0     2.0     3.0     4.0    2.0   \n",
       "\n",
       "app_version_agrupada  7.5.9  7.6.0  7.6.3  7.7.5  7.7.9  7.8.4  7.9.0  7.9.12  \\\n",
       "sentiment_output                                                                \n",
       "NEG                    35.0   13.0    6.0    3.0    3.0    7.0    0.0     0.0   \n",
       "NEU                    12.0    6.0   12.0    1.0    6.0   13.0    1.0     2.0   \n",
       "POS                     4.0    3.0    3.0    2.0    2.0    4.0    0.0     0.0   \n",
       "\n",
       "app_version_agrupada  7.9.13  7.9.14  7.9.15  7.9.16  7.9.18  7.9.20  7.9.3  \\\n",
       "sentiment_output                                                              \n",
       "NEG                      0.0     3.0    31.0   277.0   312.0   508.0   46.0   \n",
       "NEU                      0.0     5.0    31.0   316.0   501.0   784.0   40.0   \n",
       "POS                      1.0     3.0    14.0   104.0   279.0   436.0   19.0   \n",
       "\n",
       "app_version_agrupada  7.9.6  8.0.0   8.0.2  8.1.0  8.2.0  8.4.0  8.5.0  8.6.0  \\\n",
       "sentiment_output                                                                \n",
       "NEG                     2.0    4.0  1127.0  559.0  955.0  310.0  196.0  490.0   \n",
       "NEU                     0.0    2.0   512.0  250.0  641.0  281.0  224.0  681.0   \n",
       "POS                     1.0    0.0   147.0   60.0  174.0  158.0  102.0  323.0   \n",
       "\n",
       "app_version_agrupada  8.7.0  8.8.1  8.8.2  Outros  \n",
       "sentiment_output                                   \n",
       "NEG                   294.0   91.0    5.0  1277.0  \n",
       "NEU                   332.0  186.0    5.0   898.0  \n",
       "POS                   203.0   66.0    1.0   316.0  "
      ]
     },
     "execution_count": 36,
     "metadata": {},
     "output_type": "execute_result"
    }
   ],
   "source": [
    "def agrupa_versao(v):\n",
    "    if pd.isnull(v):\n",
    "        return 'Outros'\n",
    "    try:\n",
    "        return v if parse(str(v)) >= parse('7.0') else 'Outros'\n",
    "    except:\n",
    "        return 'Outros'\n",
    "\n",
    "resultado = df[df['app'] == 'TIM'].copy()\n",
    "resultado['app_version'] = resultado['app_version'].fillna('0')\n",
    "resultado['app_version_agrupada'] = resultado['app_version'].apply(agrupa_versao)\n",
    "\n",
    "resultado_grouped = (resultado\n",
    "                     .groupby(['sentiment_output', 'app_version_agrupada'])\n",
    "                     .size()\n",
    "                     .reset_index(name='contagem'))\n",
    "\n",
    "tabela = resultado_grouped.pivot(index='sentiment_output',\n",
    "                                 columns='app_version_agrupada',\n",
    "                                 values='contagem').fillna(0)\n",
    "\n",
    "tabela"
   ]
  },
  {
   "cell_type": "code",
   "execution_count": 37,
   "id": "8a9f7f13",
   "metadata": {},
   "outputs": [
    {
     "data": {
      "text/html": [
       "<div>\n",
       "<style scoped>\n",
       "    .dataframe tbody tr th:only-of-type {\n",
       "        vertical-align: middle;\n",
       "    }\n",
       "\n",
       "    .dataframe tbody tr th {\n",
       "        vertical-align: top;\n",
       "    }\n",
       "\n",
       "    .dataframe thead th {\n",
       "        text-align: right;\n",
       "    }\n",
       "</style>\n",
       "<table border=\"1\" class=\"dataframe\">\n",
       "  <thead>\n",
       "    <tr style=\"text-align: right;\">\n",
       "      <th>app_version_agrupada</th>\n",
       "      <th>7.9.16</th>\n",
       "      <th>7.9.18</th>\n",
       "      <th>7.9.20</th>\n",
       "      <th>8.0.2</th>\n",
       "      <th>8.1.0</th>\n",
       "      <th>8.2.0</th>\n",
       "      <th>8.4.0</th>\n",
       "      <th>8.5.0</th>\n",
       "      <th>8.6.0</th>\n",
       "      <th>8.7.0</th>\n",
       "      <th>8.8.1</th>\n",
       "      <th>Outros</th>\n",
       "    </tr>\n",
       "    <tr>\n",
       "      <th>sentiment_output</th>\n",
       "      <th></th>\n",
       "      <th></th>\n",
       "      <th></th>\n",
       "      <th></th>\n",
       "      <th></th>\n",
       "      <th></th>\n",
       "      <th></th>\n",
       "      <th></th>\n",
       "      <th></th>\n",
       "      <th></th>\n",
       "      <th></th>\n",
       "      <th></th>\n",
       "    </tr>\n",
       "  </thead>\n",
       "  <tbody>\n",
       "    <tr>\n",
       "      <th>NEG</th>\n",
       "      <td>277</td>\n",
       "      <td>312</td>\n",
       "      <td>508</td>\n",
       "      <td>1127</td>\n",
       "      <td>559</td>\n",
       "      <td>955</td>\n",
       "      <td>310</td>\n",
       "      <td>196</td>\n",
       "      <td>490</td>\n",
       "      <td>294</td>\n",
       "      <td>91</td>\n",
       "      <td>433</td>\n",
       "    </tr>\n",
       "    <tr>\n",
       "      <th>NEU</th>\n",
       "      <td>316</td>\n",
       "      <td>501</td>\n",
       "      <td>784</td>\n",
       "      <td>512</td>\n",
       "      <td>250</td>\n",
       "      <td>641</td>\n",
       "      <td>281</td>\n",
       "      <td>224</td>\n",
       "      <td>681</td>\n",
       "      <td>332</td>\n",
       "      <td>186</td>\n",
       "      <td>317</td>\n",
       "    </tr>\n",
       "    <tr>\n",
       "      <th>POS</th>\n",
       "      <td>104</td>\n",
       "      <td>279</td>\n",
       "      <td>436</td>\n",
       "      <td>147</td>\n",
       "      <td>60</td>\n",
       "      <td>174</td>\n",
       "      <td>158</td>\n",
       "      <td>102</td>\n",
       "      <td>323</td>\n",
       "      <td>203</td>\n",
       "      <td>66</td>\n",
       "      <td>128</td>\n",
       "    </tr>\n",
       "  </tbody>\n",
       "</table>\n",
       "</div>"
      ],
      "text/plain": [
       "app_version_agrupada  7.9.16  7.9.18  7.9.20  8.0.2  8.1.0  8.2.0  8.4.0  \\\n",
       "sentiment_output                                                           \n",
       "NEG                      277     312     508   1127    559    955    310   \n",
       "NEU                      316     501     784    512    250    641    281   \n",
       "POS                      104     279     436    147     60    174    158   \n",
       "\n",
       "app_version_agrupada  8.5.0  8.6.0  8.7.0  8.8.1  Outros  \n",
       "sentiment_output                                          \n",
       "NEG                     196    490    294     91     433  \n",
       "NEU                     224    681    332    186     317  \n",
       "POS                     102    323    203     66     128  "
      ]
     },
     "execution_count": 37,
     "metadata": {},
     "output_type": "execute_result"
    }
   ],
   "source": [
    "frequencias = df[df['app'] == 'TIM']['app_version'].value_counts()\n",
    "\n",
    "limiar = 200\n",
    "versoes_rare = frequencias[frequencias < limiar].index\n",
    "\n",
    "df['app_version_agrupada'] = df['app_version'].where(~df['app_version'].isin(versoes_rare), 'Outros')\n",
    "\n",
    "resultado = (df[df['app'] == 'TIM']\n",
    "             .groupby(['sentiment_output', 'app_version_agrupada'])\n",
    "             .size()\n",
    "             .reset_index(name='contagem'))\n",
    "\n",
    "tabela = resultado.pivot(index='sentiment_output', columns='app_version_agrupada', values='contagem').fillna(0)\n",
    "tabela\n"
   ]
  },
  {
   "cell_type": "markdown",
   "id": "cd29f441",
   "metadata": {},
   "source": [
    "#### Vivo"
   ]
  },
  {
   "cell_type": "code",
   "execution_count": 38,
   "id": "193f6d32",
   "metadata": {},
   "outputs": [
    {
     "data": {
      "text/html": [
       "<div>\n",
       "<style scoped>\n",
       "    .dataframe tbody tr th:only-of-type {\n",
       "        vertical-align: middle;\n",
       "    }\n",
       "\n",
       "    .dataframe tbody tr th {\n",
       "        vertical-align: top;\n",
       "    }\n",
       "\n",
       "    .dataframe thead th {\n",
       "        text-align: right;\n",
       "    }\n",
       "</style>\n",
       "<table border=\"1\" class=\"dataframe\">\n",
       "  <thead>\n",
       "    <tr style=\"text-align: right;\">\n",
       "      <th>app_version_agrupada</th>\n",
       "      <th>24.0.30</th>\n",
       "      <th>24.1.20</th>\n",
       "      <th>24.10.26</th>\n",
       "      <th>24.11.19</th>\n",
       "      <th>24.12.17</th>\n",
       "      <th>24.2.15</th>\n",
       "      <th>24.2.16</th>\n",
       "      <th>24.3.19</th>\n",
       "      <th>24.4.22</th>\n",
       "      <th>24.5.20</th>\n",
       "      <th>24.6.22</th>\n",
       "      <th>24.7.14</th>\n",
       "      <th>24.9.24</th>\n",
       "      <th>25.1.29</th>\n",
       "      <th>25.1.30</th>\n",
       "      <th>25.2.24</th>\n",
       "      <th>25.3.18</th>\n",
       "      <th>25.4.24</th>\n",
       "      <th>25.5.23</th>\n",
       "      <th>Outros</th>\n",
       "    </tr>\n",
       "    <tr>\n",
       "      <th>sentiment_output</th>\n",
       "      <th></th>\n",
       "      <th></th>\n",
       "      <th></th>\n",
       "      <th></th>\n",
       "      <th></th>\n",
       "      <th></th>\n",
       "      <th></th>\n",
       "      <th></th>\n",
       "      <th></th>\n",
       "      <th></th>\n",
       "      <th></th>\n",
       "      <th></th>\n",
       "      <th></th>\n",
       "      <th></th>\n",
       "      <th></th>\n",
       "      <th></th>\n",
       "      <th></th>\n",
       "      <th></th>\n",
       "      <th></th>\n",
       "      <th></th>\n",
       "    </tr>\n",
       "  </thead>\n",
       "  <tbody>\n",
       "    <tr>\n",
       "      <th>NEG</th>\n",
       "      <td>1.0</td>\n",
       "      <td>1.0</td>\n",
       "      <td>8.0</td>\n",
       "      <td>12.0</td>\n",
       "      <td>10.0</td>\n",
       "      <td>0.0</td>\n",
       "      <td>0.0</td>\n",
       "      <td>2.0</td>\n",
       "      <td>1.0</td>\n",
       "      <td>4.0</td>\n",
       "      <td>0.0</td>\n",
       "      <td>6.0</td>\n",
       "      <td>11.0</td>\n",
       "      <td>1.0</td>\n",
       "      <td>28.0</td>\n",
       "      <td>44.0</td>\n",
       "      <td>792.0</td>\n",
       "      <td>550.0</td>\n",
       "      <td>538.0</td>\n",
       "      <td>486.0</td>\n",
       "    </tr>\n",
       "    <tr>\n",
       "      <th>NEU</th>\n",
       "      <td>4.0</td>\n",
       "      <td>2.0</td>\n",
       "      <td>8.0</td>\n",
       "      <td>15.0</td>\n",
       "      <td>19.0</td>\n",
       "      <td>1.0</td>\n",
       "      <td>1.0</td>\n",
       "      <td>6.0</td>\n",
       "      <td>5.0</td>\n",
       "      <td>7.0</td>\n",
       "      <td>6.0</td>\n",
       "      <td>7.0</td>\n",
       "      <td>10.0</td>\n",
       "      <td>3.0</td>\n",
       "      <td>55.0</td>\n",
       "      <td>83.0</td>\n",
       "      <td>2483.0</td>\n",
       "      <td>1916.0</td>\n",
       "      <td>1985.0</td>\n",
       "      <td>999.0</td>\n",
       "    </tr>\n",
       "    <tr>\n",
       "      <th>POS</th>\n",
       "      <td>1.0</td>\n",
       "      <td>0.0</td>\n",
       "      <td>0.0</td>\n",
       "      <td>4.0</td>\n",
       "      <td>7.0</td>\n",
       "      <td>3.0</td>\n",
       "      <td>1.0</td>\n",
       "      <td>1.0</td>\n",
       "      <td>4.0</td>\n",
       "      <td>3.0</td>\n",
       "      <td>1.0</td>\n",
       "      <td>2.0</td>\n",
       "      <td>6.0</td>\n",
       "      <td>0.0</td>\n",
       "      <td>25.0</td>\n",
       "      <td>54.0</td>\n",
       "      <td>1516.0</td>\n",
       "      <td>1225.0</td>\n",
       "      <td>1317.0</td>\n",
       "      <td>587.0</td>\n",
       "    </tr>\n",
       "  </tbody>\n",
       "</table>\n",
       "</div>"
      ],
      "text/plain": [
       "app_version_agrupada  24.0.30  24.1.20  24.10.26  24.11.19  24.12.17  24.2.15  \\\n",
       "sentiment_output                                                                \n",
       "NEG                       1.0      1.0       8.0      12.0      10.0      0.0   \n",
       "NEU                       4.0      2.0       8.0      15.0      19.0      1.0   \n",
       "POS                       1.0      0.0       0.0       4.0       7.0      3.0   \n",
       "\n",
       "app_version_agrupada  24.2.16  24.3.19  24.4.22  24.5.20  24.6.22  24.7.14  \\\n",
       "sentiment_output                                                             \n",
       "NEG                       0.0      2.0      1.0      4.0      0.0      6.0   \n",
       "NEU                       1.0      6.0      5.0      7.0      6.0      7.0   \n",
       "POS                       1.0      1.0      4.0      3.0      1.0      2.0   \n",
       "\n",
       "app_version_agrupada  24.9.24  25.1.29  25.1.30  25.2.24  25.3.18  25.4.24  \\\n",
       "sentiment_output                                                             \n",
       "NEG                      11.0      1.0     28.0     44.0    792.0    550.0   \n",
       "NEU                      10.0      3.0     55.0     83.0   2483.0   1916.0   \n",
       "POS                       6.0      0.0     25.0     54.0   1516.0   1225.0   \n",
       "\n",
       "app_version_agrupada  25.5.23  Outros  \n",
       "sentiment_output                       \n",
       "NEG                     538.0   486.0  \n",
       "NEU                    1985.0   999.0  \n",
       "POS                    1317.0   587.0  "
      ]
     },
     "execution_count": 38,
     "metadata": {},
     "output_type": "execute_result"
    }
   ],
   "source": [
    "def agrupa_versao(v):\n",
    "    if pd.isnull(v):\n",
    "        return 'Outros'\n",
    "    try:\n",
    "        return v if parse(str(v)) >= parse('20.0') else 'Outros'\n",
    "    except:\n",
    "        return 'Outros'\n",
    "\n",
    "resultado = df[df['app'] == 'Vivo'].copy()\n",
    "resultado['app_version'] = resultado['app_version'].fillna('0')\n",
    "resultado['app_version_agrupada'] = resultado['app_version'].apply(agrupa_versao)\n",
    "\n",
    "resultado_grouped = (resultado\n",
    "                     .groupby(['sentiment_output', 'app_version_agrupada'])\n",
    "                     .size()\n",
    "                     .reset_index(name='contagem'))\n",
    "\n",
    "tabela = resultado_grouped.pivot(index='sentiment_output',\n",
    "                                 columns='app_version_agrupada',\n",
    "                                 values='contagem').fillna(0)\n",
    "\n",
    "tabela"
   ]
  },
  {
   "cell_type": "code",
   "execution_count": 39,
   "id": "ac2305fb",
   "metadata": {},
   "outputs": [
    {
     "data": {
      "text/html": [
       "<div>\n",
       "<style scoped>\n",
       "    .dataframe tbody tr th:only-of-type {\n",
       "        vertical-align: middle;\n",
       "    }\n",
       "\n",
       "    .dataframe tbody tr th {\n",
       "        vertical-align: top;\n",
       "    }\n",
       "\n",
       "    .dataframe thead th {\n",
       "        text-align: right;\n",
       "    }\n",
       "</style>\n",
       "<table border=\"1\" class=\"dataframe\">\n",
       "  <thead>\n",
       "    <tr style=\"text-align: right;\">\n",
       "      <th>app_version_agrupada</th>\n",
       "      <th>25.1.30</th>\n",
       "      <th>25.2.24</th>\n",
       "      <th>25.3.18</th>\n",
       "      <th>25.4.24</th>\n",
       "      <th>25.5.23</th>\n",
       "      <th>Outros</th>\n",
       "    </tr>\n",
       "    <tr>\n",
       "      <th>sentiment_output</th>\n",
       "      <th></th>\n",
       "      <th></th>\n",
       "      <th></th>\n",
       "      <th></th>\n",
       "      <th></th>\n",
       "      <th></th>\n",
       "    </tr>\n",
       "  </thead>\n",
       "  <tbody>\n",
       "    <tr>\n",
       "      <th>NEG</th>\n",
       "      <td>28</td>\n",
       "      <td>44</td>\n",
       "      <td>792</td>\n",
       "      <td>550</td>\n",
       "      <td>538</td>\n",
       "      <td>116</td>\n",
       "    </tr>\n",
       "    <tr>\n",
       "      <th>NEU</th>\n",
       "      <td>55</td>\n",
       "      <td>83</td>\n",
       "      <td>2483</td>\n",
       "      <td>1916</td>\n",
       "      <td>1985</td>\n",
       "      <td>159</td>\n",
       "    </tr>\n",
       "    <tr>\n",
       "      <th>POS</th>\n",
       "      <td>25</td>\n",
       "      <td>54</td>\n",
       "      <td>1516</td>\n",
       "      <td>1225</td>\n",
       "      <td>1317</td>\n",
       "      <td>74</td>\n",
       "    </tr>\n",
       "  </tbody>\n",
       "</table>\n",
       "</div>"
      ],
      "text/plain": [
       "app_version_agrupada  25.1.30  25.2.24  25.3.18  25.4.24  25.5.23  Outros\n",
       "sentiment_output                                                         \n",
       "NEG                        28       44      792      550      538     116\n",
       "NEU                        55       83     2483     1916     1985     159\n",
       "POS                        25       54     1516     1225     1317      74"
      ]
     },
     "execution_count": 39,
     "metadata": {},
     "output_type": "execute_result"
    }
   ],
   "source": [
    "frequencias = df[df['app'] == 'Vivo']['app_version'].value_counts()\n",
    "\n",
    "limiar = 50\n",
    "versoes_rare = frequencias[frequencias < limiar].index\n",
    "\n",
    "df['app_version_agrupada'] = df['app_version'].where(~df['app_version'].isin(versoes_rare), 'Outros')\n",
    "\n",
    "resultado = (df[df['app'] == 'Vivo']\n",
    "             .groupby(['sentiment_output', 'app_version_agrupada'])\n",
    "             .size()\n",
    "             .reset_index(name='contagem'))\n",
    "\n",
    "tabela = resultado.pivot(index='sentiment_output', columns='app_version_agrupada', values='contagem').fillna(0)\n",
    "tabela\n"
   ]
  },
  {
   "cell_type": "markdown",
   "id": "ee3d5305",
   "metadata": {},
   "source": [
    "### Sentimentos"
   ]
  },
  {
   "cell_type": "markdown",
   "id": "5c5dbfb1",
   "metadata": {},
   "source": [
    "Nesse primeiro gráfico, apenas substitui o nome original para um nome mais visível"
   ]
  },
  {
   "cell_type": "code",
   "execution_count": 76,
   "id": "68b3f5a8",
   "metadata": {},
   "outputs": [
    {
     "data": {
      "image/png": "[encoded data removed]",
      "text/plain": [
       "<Figure size 1000x600 with 1 Axes>"
      ]
     },
     "metadata": {},
     "output_type": "display_data"
    }
   ],
   "source": [
    "def map_sentiment(sent):\n",
    "    if sent in ['NEG', 'negativo']:\n",
    "        return 'Negativo'\n",
    "    elif sent in ['NEU', 'neutro']:\n",
    "        return 'Neutro'\n",
    "    elif sent in ['POS', 'positivo']:\n",
    "        return 'Positivo'\n",
    "    else:\n",
    "        return 'Outro'\n",
    "\n",
    "df['sentimento_simplificado'] = df['sentiment_output'].apply(map_sentiment)\n",
    "\n",
    "sns.set_style(\"darkgrid\")\n",
    "plt.figure(figsize=(10, 6))\n",
    "\n",
    "sns.countplot(\n",
    "    data=df,\n",
    "    x='app',\n",
    "    hue='sentimento_simplificado',\n",
    "    palette={'Negativo': '#FF4C4C', 'Neutro': '#FFFB00', 'Positivo': '#4CAF50'},\n",
    "    hue_order=['Negativo', 'Neutro', 'Positivo']\n",
    ")\n",
    "\n",
    "plt.title(\"Distribuição de Sentimentos por Operadora\", loc=\"center\")\n",
    "plt.xlabel(\"Operadora\")\n",
    "plt.ylabel(\"Quantidade de Comentários\")\n",
    "plt.ylim(0, 10000)\n",
    "plt.legend(title=\"Sentimento\")\n",
    "\n",
    "plt.show()\n"
   ]
  },
  {
   "cell_type": "markdown",
   "id": "706297f7",
   "metadata": {},
   "source": [
    "Também investiguei os comentários comentados como **Neutros**, pela sua alta quantidade, encontrei diversos comentários compostos de de frases curtas ou de uma ou duas palavras que foram classificados como neutros, mas poderiam ser possitivos ou negativos. \\\n",
    "\n",
    "Nesse caso, além do tratamento do nome, realizei um teste para manter apenas como neutros apenas os comentários que tinha a probabilidade acima 70% de serem neutros. Os comentários que eram netruos e abaixo de 70%, foram reclassificados com o segundo sentimento mais provável, positivo ou negativo.\n",
    "Após essa reclassificação, houve um crescimento maior de sentimentos positivos para a Claro e a Vivo, enquanto cresceu mais os sentimento negativos para a TIM.\n"
   ]
  },
  {
   "cell_type": "code",
   "execution_count": 80,
   "id": "0ec643c5",
   "metadata": {},
   "outputs": [
    {
     "data": {
      "text/html": [
       "<div>\n",
       "<style scoped>\n",
       "    .dataframe tbody tr th:only-of-type {\n",
       "        vertical-align: middle;\n",
       "    }\n",
       "\n",
       "    .dataframe tbody tr th {\n",
       "        vertical-align: top;\n",
       "    }\n",
       "\n",
       "    .dataframe thead th {\n",
       "        text-align: right;\n",
       "    }\n",
       "</style>\n",
       "<table border=\"1\" class=\"dataframe\">\n",
       "  <thead>\n",
       "    <tr style=\"text-align: right;\">\n",
       "      <th></th>\n",
       "      <th>content</th>\n",
       "      <th>content_proc</th>\n",
       "      <th>sentiment_output</th>\n",
       "    </tr>\n",
       "  </thead>\n",
       "  <tbody>\n",
       "    <tr>\n",
       "      <th>107</th>\n",
       "      <td>🤬</td>\n",
       "      <td>rostocomsímbolosnabo</td>\n",
       "      <td>NEU</td>\n",
       "    </tr>\n",
       "    <tr>\n",
       "      <th>139</th>\n",
       "      <td>gostei</td>\n",
       "      <td>gostar</td>\n",
       "      <td>NEU</td>\n",
       "    </tr>\n",
       "    <tr>\n",
       "      <th>276</th>\n",
       "      <td>ia fechar um plano pós, vendedora atendeu mal ...</td>\n",
       "      <td>fechar plano pós vendedor atender mal desistir...</td>\n",
       "      <td>NEU</td>\n",
       "    </tr>\n",
       "    <tr>\n",
       "      <th>330</th>\n",
       "      <td>estou gostando</td>\n",
       "      <td>gostar</td>\n",
       "      <td>NEU</td>\n",
       "    </tr>\n",
       "    <tr>\n",
       "      <th>332</th>\n",
       "      <td>Anúncios demais</td>\n",
       "      <td>anúncio demais</td>\n",
       "      <td>NEU</td>\n",
       "    </tr>\n",
       "  </tbody>\n",
       "</table>\n",
       "</div>"
      ],
      "text/plain": [
       "                                               content  \\\n",
       "107                                                  🤬   \n",
       "139                                             gostei   \n",
       "276  ia fechar um plano pós, vendedora atendeu mal ...   \n",
       "330                                     estou gostando   \n",
       "332                                    Anúncios demais   \n",
       "\n",
       "                                          content_proc sentiment_output  \n",
       "107                               rostocomsímbolosnabo              NEU  \n",
       "139                                             gostar              NEU  \n",
       "276  fechar plano pós vendedor atender mal desistir...              NEU  \n",
       "330                                             gostar              NEU  \n",
       "332                                     anúncio demais              NEU  "
      ]
     },
     "execution_count": 80,
     "metadata": {},
     "output_type": "execute_result"
    }
   ],
   "source": [
    "#Exemplo de alguns comentarios classificados como neutros e que poderiam estar em outra classificação\n",
    "df[(df[\"sentiment_output\"] == \"NEU\") & (df[\"sentiment_NEU\"] < 0.5)][['content', 'content_proc', 'sentiment_output']].head()"
   ]
  },
  {
   "cell_type": "code",
   "execution_count": 77,
   "id": "4dc979bb",
   "metadata": {},
   "outputs": [
    {
     "data": {
      "image/png": "[encoded data removed]",
      "text/plain": [
       "<Figure size 1000x600 with 1 Axes>"
      ]
     },
     "metadata": {},
     "output_type": "display_data"
    }
   ],
   "source": [
    "def map_sentiment(row, limiar_neu=0.7):\n",
    "    sentiment = row.get('sentiment_output', '')\n",
    "    if sentiment == 'NEG':\n",
    "        return 'Negativo'\n",
    "    elif sentiment == 'POS':\n",
    "        return 'Positivo'\n",
    "    elif sentiment == 'NEU':\n",
    "        prob_pos = row.get('sentiment_POS', 0)\n",
    "        prob_neu = row.get('sentiment_NEU', 0)\n",
    "        prob_neg = row.get('sentiment_NEG', 0)\n",
    "        if prob_neu >= limiar_neu:\n",
    "            return \"Neutro\"\n",
    "        return \"Positivo\" if prob_pos > prob_neg else \"Negativo\"\n",
    "    else:\n",
    "        return sentiment\n",
    "\n",
    "df['sentimento_simplificado'] = df.apply(map_sentiment, axis=1)\n",
    "\n",
    "sns.set_style(\"darkgrid\")\n",
    "plt.figure(figsize=(10, 6))\n",
    "\n",
    "sns.countplot(\n",
    "    data=df,\n",
    "    x='app',\n",
    "    hue='sentimento_simplificado',\n",
    "    palette={'Negativo': '#FF4C4C', 'Neutro': '#FFFB00', 'Positivo': '#4CAF50'},\n",
    "    hue_order=['Negativo', 'Neutro', 'Positivo']\n",
    ")\n",
    "\n",
    "plt.title(\"Distribuição de Sentimentos por Operadora\", loc=\"center\")\n",
    "plt.xlabel(\"Operadora\")\n",
    "plt.ylabel(\"Quantidade de Comentários\")\n",
    "plt.ylim(0, 10000)\n",
    "plt.legend(title=\"Sentimento\")\n",
    "\n",
    "plt.show()"
   ]
  },
  {
   "cell_type": "code",
   "execution_count": 8,
   "id": "a3951862",
   "metadata": {},
   "outputs": [
    {
     "data": {
      "image/png": "[encoded data removed]",
      "text/plain": [
       "<Figure size 1000x600 with 1 Axes>"
      ]
     },
     "metadata": {},
     "output_type": "display_data"
    }
   ],
   "source": [
    "def map_sentiment(row):\n",
    "    sentiment = row['sentiment_output']\n",
    "    if sentiment == \"NEG\":\n",
    "        prob = row.get('sentiment_NEG', 0)\n",
    "        if prob < 0.7:\n",
    "            return \"Negativo\"\n",
    "        else:\n",
    "            return \"Muito Negativo\"\n",
    "    elif sentiment == \"POS\":\n",
    "        prob = row.get('sentiment_POS', 0)\n",
    "        if prob < 0.7:\n",
    "            return \"Positivo\"\n",
    "        else:\n",
    "            return \"Muito Positivo\"\n",
    "    elif sentiment == \"NEU\":\n",
    "        return \"Neutro\"\n",
    "    else:\n",
    "        return sentiment\n",
    "df['sentimento_complexo'] = df.apply(map_sentiment, axis=1)\n",
    "\n",
    "sns.set_style(\"darkgrid\")\n",
    "plt.figure(figsize=(10, 6))\n",
    "\n",
    "sns.countplot(\n",
    "    data=df,\n",
    "    x='app',\n",
    "    hue='sentimento_complexo',\n",
    "    palette={'Muito Negativo': '#FF4C4C', 'Negativo': '#FFA500', 'Neutro': \"#FFFB00\",\n",
    "             'Positivo': \"#A0E95C\", 'Muito Positivo': '#4CAF50'},\n",
    "    hue_order=['Muito Negativo', 'Negativo', 'Neutro', 'Positivo', 'Muito Positivo']\n",
    ")\n",
    "\n",
    "plt.title(\"Distribuição de Sentimentos por Operadora\", loc=\"center\")\n",
    "plt.xlabel(\"Operadora\")\n",
    "plt.ylabel(\"Quantidade de Comentários\")\n",
    "plt.ylim(0, 10000)\n",
    "plt.legend(title=\"Sentimento\")\n",
    "\n",
    "plt.show()"
   ]
  },
  {
   "cell_type": "code",
   "execution_count": 6,
   "id": "e560bad9",
   "metadata": {},
   "outputs": [
    {
     "data": {
      "image/png": "[encoded data removed]",
      "text/plain": [
       "<Figure size 1000x600 with 1 Axes>"
      ]
     },
     "metadata": {},
     "output_type": "display_data"
    }
   ],
   "source": [
    "def map_sentiment(row):\n",
    "    sentiment = row['sentiment_output']\n",
    "    if sentiment == \"NEG\":\n",
    "        prob = row.get('sentiment_NEG', 0)\n",
    "        if prob < 0.7:\n",
    "            return \"Negativo\"\n",
    "        else:\n",
    "            return \"Muito Negativo\"\n",
    "    elif sentiment == \"POS\":\n",
    "        prob = row.get('sentiment_POS', 0)\n",
    "        if prob < 0.7:\n",
    "            return \"Positivo\"\n",
    "        else:\n",
    "            return \"Muito Positivo\"\n",
    "    elif sentiment == \"NEU\":\n",
    "        prob_pos = row.get('sentiment_POS', 0)\n",
    "        prob_neu = row.get('sentiment_NEU', 0)\n",
    "        prob_neg = row.get('sentiment_NEG', 0)\n",
    "        if prob_neu >= 0.7:\n",
    "            return \"Neutro\"\n",
    "        return \"Positivo\" if prob_pos > prob_neg else \"Negativo\"\n",
    "    else:\n",
    "        return sentiment\n",
    "df['sentimento_complexo'] = df.apply(map_sentiment, axis=1)\n",
    "\n",
    "sns.set_style(\"darkgrid\")\n",
    "plt.figure(figsize=(10, 6))\n",
    "\n",
    "sns.countplot(\n",
    "    data=df,\n",
    "    x='app',\n",
    "    hue='sentimento_complexo',\n",
    "    palette={'Muito Negativo': '#FF4C4C', 'Negativo': '#FFA500', 'Neutro': \"#FFFB00\",\n",
    "             'Positivo': \"#A0E95C\", 'Muito Positivo': '#4CAF50'},\n",
    "    hue_order=['Muito Negativo', 'Negativo', 'Neutro', 'Positivo', 'Muito Positivo']\n",
    ")\n",
    "\n",
    "plt.title(\"Distribuição de Sentimentos por Operadora\", loc=\"center\")\n",
    "plt.xlabel(\"Operadora\")\n",
    "plt.ylabel(\"Quantidade de Comentários\")\n",
    "plt.ylim(0, 10000)\n",
    "plt.legend(title=\"Sentimento\")\n",
    "\n",
    "plt.show()"
   ]
  },
  {
   "cell_type": "code",
   "execution_count": 11,
   "id": "239c269e",
   "metadata": {},
   "outputs": [
    {
     "data": {
      "application/vnd.plotly.v1+json": {
       "config": {
        "plotlyServerURL": "https://plot.ly"
       },
       "data": [
        {
         "fill": "toself",
         "line": {
          "color": "purple"
         },
         "name": "Vivo",
         "opacity": 0.7,
         "r": [
          0.642198329988818,
          0.033064733404463906,
          0.0746887894610638,
          0.010356960730725619,
          0.0062733046351855495,
          0.015257036251341548,
          0.004467513447203024,
          0.3222226550916255
         ],
         "subplot": "polar",
         "theta": [
          "Alegria",
          "Tristeza",
          "Raiva",
          "Medo",
          "Surpresa",
          "Confiança",
          "Confusão",
          "Neutro"
         ],
         "type": "scatterpolar"
        },
        {
         "fill": "toself",
         "line": {
          "color": "royalblue"
         },
         "name": "TIM",
         "opacity": 0.7,
         "r": [
          0.35472134708665004,
          0.07511301822698815,
          0.20640174111880139,
          0.03151445264689996,
          0.007720749251382715,
          0.014836837169390119,
          0.0059719409290730245,
          0.4317885358965747
         ],
         "subplot": "polar2",
         "theta": [
          "Alegria",
          "Tristeza",
          "Raiva",
          "Medo",
          "Surpresa",
          "Confiança",
          "Confusão",
          "Neutro"
         ],
         "type": "scatterpolar"
        },
        {
         "fill": "toself",
         "line": {
          "color": "red"
         },
         "name": "Claro",
         "opacity": 0.7,
         "r": [
          0.650116683466629,
          0.03257462439255844,
          0.06714585141101272,
          0.008101047219656772,
          0.007337648664929712,
          0.016131035485205763,
          0.0035271888837484083,
          0.3219057177821145
         ],
         "subplot": "polar3",
         "theta": [
          "Alegria",
          "Tristeza",
          "Raiva",
          "Medo",
          "Surpresa",
          "Confiança",
          "Confusão",
          "Neutro"
         ],
         "type": "scatterpolar"
        }
       ],
       "layout": {
        "annotations": [
         {
          "font": {
           "size": 16
          },
          "showarrow": false,
          "text": "Vivo",
          "x": 0.13,
          "xref": "paper",
          "y": 1.1,
          "yref": "paper"
         },
         {
          "font": {
           "size": 16
          },
          "showarrow": false,
          "text": "TIM",
          "x": 0.5,
          "xref": "paper",
          "y": 1.1,
          "yref": "paper"
         },
         {
          "font": {
           "size": 16
          },
          "showarrow": false,
          "text": "Claro",
          "x": 0.87,
          "xref": "paper",
          "y": 1.1,
          "yref": "paper"
         }
        ],
        "height": 650,
        "polar": {
         "domain": {
          "x": [
           0,
           0.2888888888888889
          ],
          "y": [
           0,
           1
          ]
         },
         "radialaxis": {
          "visible": false
         }
        },
        "polar2": {
         "domain": {
          "x": [
           0.35555555555555557,
           0.6444444444444445
          ],
          "y": [
           0,
           1
          ]
         },
         "radialaxis": {
          "visible": false
         }
        },
        "polar3": {
         "domain": {
          "x": [
           0.7111111111111111,
           1
          ],
          "y": [
           0,
           1
          ]
         },
         "radialaxis": {
          "visible": false
         }
        },
        "showlegend": false,
        "template": {
         "data": {
          "bar": [
           {
            "error_x": {
             "color": "#2a3f5f"
            },
            "error_y": {
             "color": "#2a3f5f"
            },
            "marker": {
             "line": {
              "color": "#E5ECF6",
              "width": 0.5
             },
             "pattern": {
              "fillmode": "overlay",
              "size": 10,
              "solidity": 0.2
             }
            },
            "type": "bar"
           }
          ],
          "barpolar": [
           {
            "marker": {
             "line": {
              "color": "#E5ECF6",
              "width": 0.5
             },
             "pattern": {
              "fillmode": "overlay",
              "size": 10,
              "solidity": 0.2
             }
            },
            "type": "barpolar"
           }
          ],
          "carpet": [
           {
            "aaxis": {
             "endlinecolor": "#2a3f5f",
             "gridcolor": "white",
             "linecolor": "white",
             "minorgridcolor": "white",
             "startlinecolor": "#2a3f5f"
            },
            "baxis": {
             "endlinecolor": "#2a3f5f",
             "gridcolor": "white",
             "linecolor": "white",
             "minorgridcolor": "white",
             "startlinecolor": "#2a3f5f"
            },
            "type": "carpet"
           }
          ],
          "choropleth": [
           {
            "colorbar": {
             "outlinewidth": 0,
             "ticks": ""
            },
            "type": "choropleth"
           }
          ],
          "contour": [
           {
            "colorbar": {
             "outlinewidth": 0,
             "ticks": ""
            },
            "colorscale": [
             [
              0,
              "#0d0887"
             ],
             [
              0.1111111111111111,
              "#46039f"
             ],
             [
              0.2222222222222222,
              "#7201a8"
             ],
             [
              0.3333333333333333,
              "#9c179e"
             ],
             [
              0.4444444444444444,
              "#bd3786"
             ],
             [
              0.5555555555555556,
              "#d8576b"
             ],
             [
              0.6666666666666666,
              "#ed7953"
             ],
             [
              0.7777777777777778,
              "#fb9f3a"
             ],
             [
              0.8888888888888888,
              "#fdca26"
             ],
             [
              1,
              "#f0f921"
             ]
            ],
            "type": "contour"
           }
          ],
          "contourcarpet": [
           {
            "colorbar": {
             "outlinewidth": 0,
             "ticks": ""
            },
            "type": "contourcarpet"
           }
          ],
          "heatmap": [
           {
            "colorbar": {
             "outlinewidth": 0,
             "ticks": ""
            },
            "colorscale": [
             [
              0,
              "#0d0887"
             ],
             [
              0.1111111111111111,
              "#46039f"
             ],
             [
              0.2222222222222222,
              "#7201a8"
             ],
             [
              0.3333333333333333,
              "#9c179e"
             ],
             [
              0.4444444444444444,
              "#bd3786"
             ],
             [
              0.5555555555555556,
              "#d8576b"
             ],
             [
              0.6666666666666666,
              "#ed7953"
             ],
             [
              0.7777777777777778,
              "#fb9f3a"
             ],
             [
              0.8888888888888888,
              "#fdca26"
             ],
             [
              1,
              "#f0f921"
             ]
            ],
            "type": "heatmap"
           }
          ],
          "histogram": [
           {
            "marker": {
             "pattern": {
              "fillmode": "overlay",
              "size": 10,
              "solidity": 0.2
             }
            },
            "type": "histogram"
           }
          ],
          "histogram2d": [
           {
            "colorbar": {
             "outlinewidth": 0,
             "ticks": ""
            },
            "colorscale": [
             [
              0,
              "#0d0887"
             ],
             [
              0.1111111111111111,
              "#46039f"
             ],
             [
              0.2222222222222222,
              "#7201a8"
             ],
             [
              0.3333333333333333,
              "#9c179e"
             ],
             [
              0.4444444444444444,
              "#bd3786"
             ],
             [
              0.5555555555555556,
              "#d8576b"
             ],
             [
              0.6666666666666666,
              "#ed7953"
             ],
             [
              0.7777777777777778,
              "#fb9f3a"
             ],
             [
              0.8888888888888888,
              "#fdca26"
             ],
             [
              1,
              "#f0f921"
             ]
            ],
            "type": "histogram2d"
           }
          ],
          "histogram2dcontour": [
           {
            "colorbar": {
             "outlinewidth": 0,
             "ticks": ""
            },
            "colorscale": [
             [
              0,
              "#0d0887"
             ],
             [
              0.1111111111111111,
              "#46039f"
             ],
             [
              0.2222222222222222,
              "#7201a8"
             ],
             [
              0.3333333333333333,
              "#9c179e"
             ],
             [
              0.4444444444444444,
              "#bd3786"
             ],
             [
              0.5555555555555556,
              "#d8576b"
             ],
             [
              0.6666666666666666,
              "#ed7953"
             ],
             [
              0.7777777777777778,
              "#fb9f3a"
             ],
             [
              0.8888888888888888,
              "#fdca26"
             ],
             [
              1,
              "#f0f921"
             ]
            ],
            "type": "histogram2dcontour"
           }
          ],
          "mesh3d": [
           {
            "colorbar": {
             "outlinewidth": 0,
             "ticks": ""
            },
            "type": "mesh3d"
           }
          ],
          "parcoords": [
           {
            "line": {
             "colorbar": {
              "outlinewidth": 0,
              "ticks": ""
             }
            },
            "type": "parcoords"
           }
          ],
          "pie": [
           {
            "automargin": true,
            "type": "pie"
           }
          ],
          "scatter": [
           {
            "fillpattern": {
             "fillmode": "overlay",
             "size": 10,
             "solidity": 0.2
            },
            "type": "scatter"
           }
          ],
          "scatter3d": [
           {
            "line": {
             "colorbar": {
              "outlinewidth": 0,
              "ticks": ""
             }
            },
            "marker": {
             "colorbar": {
              "outlinewidth": 0,
              "ticks": ""
             }
            },
            "type": "scatter3d"
           }
          ],
          "scattercarpet": [
           {
            "marker": {
             "colorbar": {
              "outlinewidth": 0,
              "ticks": ""
             }
            },
            "type": "scattercarpet"
           }
          ],
          "scattergeo": [
           {
            "marker": {
             "colorbar": {
              "outlinewidth": 0,
              "ticks": ""
             }
            },
            "type": "scattergeo"
           }
          ],
          "scattergl": [
           {
            "marker": {
             "colorbar": {
              "outlinewidth": 0,
              "ticks": ""
             }
            },
            "type": "scattergl"
           }
          ],
          "scattermap": [
           {
            "marker": {
             "colorbar": {
              "outlinewidth": 0,
              "ticks": ""
             }
            },
            "type": "scattermap"
           }
          ],
          "scattermapbox": [
           {
            "marker": {
             "colorbar": {
              "outlinewidth": 0,
              "ticks": ""
             }
            },
            "type": "scattermapbox"
           }
          ],
          "scatterpolar": [
           {
            "marker": {
             "colorbar": {
              "outlinewidth": 0,
              "ticks": ""
             }
            },
            "type": "scatterpolar"
           }
          ],
          "scatterpolargl": [
           {
            "marker": {
             "colorbar": {
              "outlinewidth": 0,
              "ticks": ""
             }
            },
            "type": "scatterpolargl"
           }
          ],
          "scatterternary": [
           {
            "marker": {
             "colorbar": {
              "outlinewidth": 0,
              "ticks": ""
             }
            },
            "type": "scatterternary"
           }
          ],
          "surface": [
           {
            "colorbar": {
             "outlinewidth": 0,
             "ticks": ""
            },
            "colorscale": [
             [
              0,
              "#0d0887"
             ],
             [
              0.1111111111111111,
              "#46039f"
             ],
             [
              0.2222222222222222,
              "#7201a8"
             ],
             [
              0.3333333333333333,
              "#9c179e"
             ],
             [
              0.4444444444444444,
              "#bd3786"
             ],
             [
              0.5555555555555556,
              "#d8576b"
             ],
             [
              0.6666666666666666,
              "#ed7953"
             ],
             [
              0.7777777777777778,
              "#fb9f3a"
             ],
             [
              0.8888888888888888,
              "#fdca26"
             ],
             [
              1,
              "#f0f921"
             ]
            ],
            "type": "surface"
           }
          ],
          "table": [
           {
            "cells": {
             "fill": {
              "color": "#EBF0F8"
             },
             "line": {
              "color": "white"
             }
            },
            "header": {
             "fill": {
              "color": "#C8D4E3"
             },
             "line": {
              "color": "white"
             }
            },
            "type": "table"
           }
          ]
         },
         "layout": {
          "annotationdefaults": {
           "arrowcolor": "#2a3f5f",
           "arrowhead": 0,
           "arrowwidth": 1
          },
          "autotypenumbers": "strict",
          "coloraxis": {
           "colorbar": {
            "outlinewidth": 0,
            "ticks": ""
           }
          },
          "colorscale": {
           "diverging": [
            [
             0,
             "#8e0152"
            ],
            [
             0.1,
             "#c51b7d"
            ],
            [
             0.2,
             "#de77ae"
            ],
            [
             0.3,
             "#f1b6da"
            ],
            [
             0.4,
             "#fde0ef"
            ],
            [
             0.5,
             "#f7f7f7"
            ],
            [
             0.6,
             "#e6f5d0"
            ],
            [
             0.7,
             "#b8e186"
            ],
            [
             0.8,
             "#7fbc41"
            ],
            [
             0.9,
             "#4d9221"
            ],
            [
             1,
             "#276419"
            ]
           ],
           "sequential": [
            [
             0,
             "#0d0887"
            ],
            [
             0.1111111111111111,
             "#46039f"
            ],
            [
             0.2222222222222222,
             "#7201a8"
            ],
            [
             0.3333333333333333,
             "#9c179e"
            ],
            [
             0.4444444444444444,
             "#bd3786"
            ],
            [
             0.5555555555555556,
             "#d8576b"
            ],
            [
             0.6666666666666666,
             "#ed7953"
            ],
            [
             0.7777777777777778,
             "#fb9f3a"
            ],
            [
             0.8888888888888888,
             "#fdca26"
            ],
            [
             1,
             "#f0f921"
            ]
           ],
           "sequentialminus": [
            [
             0,
             "#0d0887"
            ],
            [
             0.1111111111111111,
             "#46039f"
            ],
            [
             0.2222222222222222,
             "#7201a8"
            ],
            [
             0.3333333333333333,
             "#9c179e"
            ],
            [
             0.4444444444444444,
             "#bd3786"
            ],
            [
             0.5555555555555556,
             "#d8576b"
            ],
            [
             0.6666666666666666,
             "#ed7953"
            ],
            [
             0.7777777777777778,
             "#fb9f3a"
            ],
            [
             0.8888888888888888,
             "#fdca26"
            ],
            [
             1,
             "#f0f921"
            ]
           ]
          },
          "colorway": [
           "#636efa",
           "#EF553B",
           "#00cc96",
           "#ab63fa",
           "#FFA15A",
           "#19d3f3",
           "#FF6692",
           "#B6E880",
           "#FF97FF",
           "#FECB52"
          ],
          "font": {
           "color": "#2a3f5f"
          },
          "geo": {
           "bgcolor": "white",
           "lakecolor": "white",
           "landcolor": "#E5ECF6",
           "showlakes": true,
           "showland": true,
           "subunitcolor": "white"
          },
          "hoverlabel": {
           "align": "left"
          },
          "hovermode": "closest",
          "mapbox": {
           "style": "light"
          },
          "paper_bgcolor": "white",
          "plot_bgcolor": "#E5ECF6",
          "polar": {
           "angularaxis": {
            "gridcolor": "white",
            "linecolor": "white",
            "ticks": ""
           },
           "bgcolor": "#E5ECF6",
           "radialaxis": {
            "gridcolor": "white",
            "linecolor": "white",
            "ticks": ""
           }
          },
          "scene": {
           "xaxis": {
            "backgroundcolor": "#E5ECF6",
            "gridcolor": "white",
            "gridwidth": 2,
            "linecolor": "white",
            "showbackground": true,
            "ticks": "",
            "zerolinecolor": "white"
           },
           "yaxis": {
            "backgroundcolor": "#E5ECF6",
            "gridcolor": "white",
            "gridwidth": 2,
            "linecolor": "white",
            "showbackground": true,
            "ticks": "",
            "zerolinecolor": "white"
           },
           "zaxis": {
            "backgroundcolor": "#E5ECF6",
            "gridcolor": "white",
            "gridwidth": 2,
            "linecolor": "white",
            "showbackground": true,
            "ticks": "",
            "zerolinecolor": "white"
           }
          },
          "shapedefaults": {
           "line": {
            "color": "#2a3f5f"
           }
          },
          "ternary": {
           "aaxis": {
            "gridcolor": "white",
            "linecolor": "white",
            "ticks": ""
           },
           "baxis": {
            "gridcolor": "white",
            "linecolor": "white",
            "ticks": ""
           },
           "bgcolor": "#E5ECF6",
           "caxis": {
            "gridcolor": "white",
            "linecolor": "white",
            "ticks": ""
           }
          },
          "title": {
           "x": 0.05
          },
          "xaxis": {
           "automargin": true,
           "gridcolor": "white",
           "linecolor": "white",
           "ticks": "",
           "title": {
            "standoff": 15
           },
           "zerolinecolor": "white",
           "zerolinewidth": 2
          },
          "yaxis": {
           "automargin": true,
           "gridcolor": "white",
           "linecolor": "white",
           "ticks": "",
           "title": {
            "standoff": 15
           },
           "zerolinecolor": "white",
           "zerolinewidth": 2
          }
         }
        },
        "title": {
         "text": "Distribuição de Emoções por Operadora"
        },
        "width": 1800
       }
      }
     },
     "metadata": {},
     "output_type": "display_data"
    }
   ],
   "source": [
    "values_claro = df[df['app'] == 'Claro'][['emotion_alegria', 'emotion_tristeza', 'emotion_raiva',\n",
    "              'emotion_medo', 'emotion_surpresa', 'emotion_confianca',\n",
    "              'emotion_confusao', 'emotion_neutro']].mean().tolist()\n",
    "\n",
    "values_tim = df[df['app'] == 'TIM'][['emotion_alegria', 'emotion_tristeza', 'emotion_raiva',\n",
    "              'emotion_medo', 'emotion_surpresa', 'emotion_confianca',\n",
    "              'emotion_confusao', 'emotion_neutro']].mean().tolist()\n",
    "\n",
    "values_vivo = df[df['app'] == 'Vivo'][['emotion_alegria', 'emotion_tristeza', 'emotion_raiva',\n",
    "              'emotion_medo', 'emotion_surpresa', 'emotion_confianca',\n",
    "              'emotion_confusao', 'emotion_neutro']].mean().tolist()\n",
    "\n",
    "categories = ['Alegria', 'Tristeza', 'Raiva', 'Medo', 'Surpresa', 'Confiança', 'Confusão', 'Neutro']\n",
    "\n",
    "# Valores de exemplo para cada operadora\n",
    "values_vivo = values_vivo\n",
    "values_tim = values_tim\n",
    "values_claro = values_claro\n",
    "\n",
    "# Criar subplots\n",
    "fig = make_subplots(\n",
    "    rows=1, cols=3,\n",
    "    specs=[[{'type': 'polar'}, {'type': 'polar'}, {'type': 'polar'}]]\n",
    ")\n",
    "\n",
    "# Gráfico Vivo\n",
    "fig.add_trace(go.Scatterpolar(\n",
    "    r=values_vivo,\n",
    "    theta=categories,\n",
    "    fill='toself',\n",
    "    name='Vivo',\n",
    "    line=dict(color='purple'),\n",
    "    opacity=0.7\n",
    "), row=1, col=1)\n",
    "\n",
    "# Gráfico TIM\n",
    "fig.add_trace(go.Scatterpolar(\n",
    "    r=values_tim,\n",
    "    theta=categories,\n",
    "    fill='toself',\n",
    "    name='TIM',\n",
    "    line=dict(color='royalblue'),\n",
    "    opacity=0.7\n",
    "), row=1, col=2)\n",
    "\n",
    "# Gráfico Claro\n",
    "fig.add_trace(go.Scatterpolar(\n",
    "    r=values_claro,\n",
    "    theta=categories,\n",
    "    fill='toself',\n",
    "    name='Claro',\n",
    "    line=dict(color='red'),\n",
    "    opacity=0.7\n",
    "), row=1, col=3)\n",
    "\n",
    "# Ajustar o layout geral\n",
    "fig.update_layout(\n",
    "    showlegend=False,\n",
    "    title_text=\"Distribuição de Emoções por Operadora\",\n",
    "    height=650, width=1800,\n",
    ")\n",
    "\n",
    "fig.update_layout(\n",
    "    polar=dict(radialaxis=dict(visible=False)),\n",
    "    polar2=dict(radialaxis=dict(visible=False)),\n",
    "    polar3=dict(radialaxis=dict(visible=False))\n",
    ")\n",
    "\n",
    "\n",
    "# Ajuste do posicionamento dos títulos: mais para cima\n",
    "fig.add_annotation(dict(font=dict(size=16),\n",
    "                        x=0.13,\n",
    "                        y=1.1,\n",
    "                        showarrow=False,\n",
    "                        text=\"Vivo\",\n",
    "                        xref=\"paper\",\n",
    "                        yref=\"paper\"))\n",
    "\n",
    "fig.add_annotation(dict(font=dict(size=16),\n",
    "                        x=0.5,\n",
    "                        y=1.1,\n",
    "                        showarrow=False,\n",
    "                        text=\"TIM\",\n",
    "                        xref=\"paper\",\n",
    "                        yref=\"paper\"))\n",
    "\n",
    "fig.add_annotation(dict(font=dict(size=16),\n",
    "                        x=0.87,\n",
    "                        y=1.1,\n",
    "                        showarrow=False,\n",
    "                        text=\"Claro\",\n",
    "                        xref=\"paper\",\n",
    "                        yref=\"paper\"))\n",
    "\n",
    "fig.show()"
   ]
  },
  {
   "cell_type": "markdown",
   "id": "4c620f72",
   "metadata": {},
   "source": [
    "---\n",
    "# Classificação de Temas\n",
    "Nessa seção, o objetivo principal é classificar os principais temas comentados, de maneira manual, e entender o sentimento médio sobre os temas. Aproveitando a aplicação dos modelos de sentimentos e emoções aos comentários, com suas probabilidades.\n",
    "\n",
    "**Insights** \\\n",
    "Numa visão consolidada, as três operadoras tiveram um desempenho semelhante nos temas classificados. As três não tiveram sentimentos positivos em nenhum tema, apenas sentimentos que tendem a serem negativos. \\\n",
    "\n",
    "**Claro** \\\n",
    "Entre os 10 temas catalogados, **Operadora** e **App** tiveram um sentimento neutro, **Plano**, **Internet**, **Atendimento** e **Conta** foram um pouco negativo, e **Usuabilidade**, **Login**, **Desempenho** e **Notificações** foram negativos.\n",
    "- Quando buscam atendimento via aplicativo, usuários têm dificuldades para se manter no chat ou ter retorno de solicitações abertas.\n",
    "- Relacionado com o atendimento, usuários comentaram sobre faturas que já foram pagas sendo cobradas novamente ou que não aparece a fatura para pagar.\n",
    "- Existe sentimentos mistos relacionados a recargas e a velocidade da internet.\n",
    "- Usuários reportam muitos erros ao tentar logar no app, com tentativa de login manual ou reconhecimento de chip.\n",
    "- Usuários apotam sobre o uso alto de propagandas feitas dentro do app, sms e outras formas que incomodam no dia a dia. Alguns apontam que chega afetar o desempenho do app com a publicidade apresentada.\n",
    "\n",
    "**TIM** \\\n",
    "A TIM tem um comportamento distinto da Claro, os 10 temas ficaram como negativos e tiveram muitos comentários sobre **Operadora** e **App**.\n",
    "- Os usuários da TIM apontam problemas estruturais do app em diversas áreas, em internet, erros, login, benefícios e etc. Parece o caso de erros nas versões mais recentes que precisam de correções imediatas.\n",
    "- Como os sentimentos são mais negativos no geral, esses problemas acabam generalizando para todos os temas classificados.\n",
    "\n",
    "**Vivo** \\\n",
    "A Vivo tem um comporamento semelhante com a Claro com as categorias sobre **Operadora** e **App**, sendo os temas com sentimentos mais medianos entre os 10 classificados. Também se reflete nos demais temas, com **Plano**, **Internet**, **Atendimento** e **Conta** com sentimentos um pouco negativos, e **Usuabilidade**, **Login**, **Desempenho** e **Notificações** com sentimento negativos.\n",
    "- Os problemas apontados são bastante semelhantes aos apontados para o app da Claro e da TIM."
   ]
  },
  {
   "cell_type": "markdown",
   "id": "be65db0b",
   "metadata": {},
   "source": [
    "## Aplicações gerais\n",
    "Na célula abaixo é removido os poucos comentários que não foiram possíveis serem trados e ficaram vazios \\\n",
    "Aplicação da classificação manual dos temas, buscando nos comentários as palavras selecionadas e agrupando em temas gerais \\\n",
    "E o cálculo por linha, utilizando as probabilidades de sentimento, para verificar um sentimento médio."
   ]
  },
  {
   "cell_type": "code",
   "execution_count": 53,
   "id": "84efa4e4",
   "metadata": {},
   "outputs": [
    {
     "name": "stderr",
     "output_type": "stream",
     "text": [
      "Pandas Apply: 100%|██████████| 44671/44671 [00:02<00:00, 18384.03it/s]\n"
     ]
    }
   ],
   "source": [
    "df.dropna(subset=\"content_proc\", inplace=True)\n",
    "\n",
    "df['tema_manual'] = df['content_proc'].swifter.apply(lambda x: classificar_tema(x, temas_manuais))\n",
    "\n",
    "df_explodido = df.explode('tema_manual').dropna(subset=['tema_manual'])\n",
    "\n",
    "df_explodido['sentimento_continuo'] = (\n",
    "    df_explodido['sentiment_POS'] * 1 +\n",
    "    df_explodido['sentiment_NEU'] * 0 +\n",
    "    df_explodido['sentiment_NEG'] * -1\n",
    ")"
   ]
  },
  {
   "cell_type": "markdown",
   "id": "b59823d4",
   "metadata": {},
   "source": [
    "**Gráfico Operadoras**"
   ]
  },
  {
   "cell_type": "code",
   "execution_count": null,
   "id": "31066251",
   "metadata": {},
   "outputs": [],
   "source": [
    "df['tema_manual_abreviado'] = df['content_proc'].swifter.apply(lambda x: classificar_tema(x, temas_manuais_abrevidado))\n",
    "df_explodido_geral = df.explode('tema_manual_abreviado').dropna(subset=['tema_manual_abreviado'])\n",
    "\n",
    "df_explodido_geral['sentimento_continuo'] = (\n",
    "    df_explodido_geral['sentiment_POS'] * 1 +\n",
    "    df_explodido_geral['sentiment_NEU'] * 0 +\n",
    "    df_explodido_geral['sentiment_NEG'] * -1\n",
    ")\n",
    "\n",
    "#Agrupamento por tema\n",
    "df_tema = df_explodido_geral.groupby(['app', 'tema_manual_abreviado']).agg(\n",
    "    volume=('tema_manual_abreviado', 'count'),\n",
    "    sentimento_medio=('sentimento_continuo', 'mean')\n",
    ").reset_index()\n",
    "\n",
    "# Normaliza o volume para tamanho dos pontos no gráfico\n",
    "df_tema['tamanho'] = df_tema['volume'] * 20"
   ]
  },
  {
   "cell_type": "code",
   "execution_count": null,
   "id": "1532da53",
   "metadata": {},
   "outputs": [
    {
     "data": {
      "application/vnd.plotly.v1+json": {
       "config": {
        "plotlyServerURL": "https://plot.ly"
       },
       "data": [
        {
         "hovertemplate": "app=Claro<br>volume=%{x}<br>sentimento_medio=%{marker.color}<br>tamanho=%{marker.size}<br>tema_manual_abreviado=%{text}<extra></extra>",
         "legendgroup": "Claro",
         "marker": {
          "color": {
           "bdata": "pgKI2VHYoz/E4W2JA9LLv1FuHGfcqdO/GmHqqjX24L95GNuw+cHgv9rw/FXZIcq/1H7S5Z634r9EaYf2QyaqP8mzpDoTScC/dYvUXMpw3b8=",
           "dtype": "f8"
          },
          "coloraxis": "coloraxis",
          "size": {
           "bdata": "BLUAAFwmAACkPQAAgEgAAHwzAAD4ZgAAhAgAADifAADgUQAAFBQAAA==",
           "dtype": "i4"
          },
          "sizemode": "area",
          "sizeref": 224.95,
          "symbol": "circle"
         },
         "mode": "markers+text",
         "name": "Claro",
         "orientation": "v",
         "showlegend": true,
         "text": [
          "App",
          "Atend.",
          "Conta",
          "Desemp.",
          "Login",
          "Net",
          "Not.",
          "Op.",
          "Plano",
          "Usab."
         ],
         "textposition": "top center",
         "type": "scatter",
         "x": {
          "bdata": "DQnrARUDoAOTAiYFbQD2BxgEAQE=",
          "dtype": "i2"
         },
         "xaxis": "x",
         "y": {
          "bdata": "pgKI2VHYoz/E4W2JA9LLv1FuHGfcqdO/GmHqqjX24L95GNuw+cHgv9rw/FXZIcq/1H7S5Z634r9EaYf2QyaqP8mzpDoTScC/dYvUXMpw3b8=",
          "dtype": "f8"
         },
         "yaxis": "y"
        },
        {
         "hovertemplate": "app=TIM<br>volume=%{x}<br>sentimento_medio=%{marker.color}<br>tamanho=%{marker.size}<br>tema_manual_abreviado=%{text}<extra></extra>",
         "legendgroup": "TIM",
         "marker": {
          "color": {
           "bdata": "EtSrxhS84b8QqqtxCbvkv1mJU1vSg+K/nC75IQN45r9jlU+Ji/vjv6HDmpsmlOO/OmIA3MgO5b8x3ZLgnpvbvwk2yDPrkuG/cSvcQbPp5r8=",
           "dtype": "f8"
          },
          "coloraxis": "coloraxis",
          "size": {
           "bdata": "fF8BAERNAAB4oAAAZMgAAAxdAADwqgAAlCAAAJzvAAAElwAAkDMAAA==",
           "dtype": "i4"
          },
          "sizemode": "area",
          "sizeref": 224.95,
          "symbol": "diamond"
         },
         "mode": "markers+text",
         "name": "TIM",
         "orientation": "v",
         "showlegend": true,
         "text": [
          "App",
          "Atend.",
          "Conta",
          "Desemp.",
          "Login",
          "Net",
          "Not.",
          "Op.",
          "Plano",
          "Usab."
         ],
         "textposition": "top center",
         "type": "scatter",
         "x": {
          "bdata": "kxHdAwYIBQqnBIwIoQH7C40HlAI=",
          "dtype": "i2"
         },
         "xaxis": "x",
         "y": {
          "bdata": "EtSrxhS84b8QqqtxCbvkv1mJU1vSg+K/nC75IQN45r9jlU+Ji/vjv6HDmpsmlOO/OmIA3MgO5b8x3ZLgnpvbvwk2yDPrkuG/cSvcQbPp5r8=",
          "dtype": "f8"
         },
         "yaxis": "y"
        },
        {
         "hovertemplate": "app=Vivo<br>volume=%{x}<br>sentimento_medio=%{marker.color}<br>tamanho=%{marker.size}<br>tema_manual_abreviado=%{text}<extra></extra>",
         "legendgroup": "Vivo",
         "marker": {
          "color": {
           "bdata": "jW/aY3fIo7/+VMKiz1q7vw16LSEEi9a/0ETk4vgZ478WkuBeqwHfv++BaP4x/9W/PzRmMXAT5r9w4W3b6rqVv4wLs82quM+/VlBbhi0A378=",
           "dtype": "f8"
          },
          "coloraxis": "coloraxis",
          "size": {
           "bdata": "WOMAAJgmAAC0VQAA5E0AAPQ4AACUTQAAqAcAAGyJAAAERwAArBIAAA==",
           "dtype": "i4"
          },
          "sizemode": "area",
          "sizeref": 224.95,
          "symbol": "square"
         },
         "mode": "markers+text",
         "name": "Vivo",
         "orientation": "v",
         "showlegend": true,
         "text": [
          "App",
          "Atend.",
          "Conta",
          "Desemp.",
          "Login",
          "Net",
          "Not.",
          "Op.",
          "Plano",
          "Usab."
         ],
         "textposition": "top center",
         "type": "scatter",
         "x": {
          "bdata": "XgvuAUkE5QPZAuEDYgDfBo0D7wA=",
          "dtype": "i2"
         },
         "xaxis": "x",
         "y": {
          "bdata": "jW/aY3fIo7/+VMKiz1q7vw16LSEEi9a/0ETk4vgZ478WkuBeqwHfv++BaP4x/9W/PzRmMXAT5r9w4W3b6rqVv4wLs82quM+/VlBbhi0A378=",
          "dtype": "f8"
         },
         "yaxis": "y"
        }
       ],
       "layout": {
        "coloraxis": {
         "cmax": 1,
         "cmin": -1,
         "colorbar": {
          "title": {
           "text": "Sentimento"
          }
         },
         "colorscale": [
          [
           0,
           "#F74A4A"
          ],
          [
           0.5,
           "#FFFB00"
          ],
          [
           1,
           "#4CAF50"
          ]
         ]
        },
        "height": 700,
        "legend": {
         "font": {
          "size": 12
         },
         "itemsizing": "constant",
         "orientation": "v",
         "title": {
          "text": "Operadora"
         },
         "tracegroupgap": 0,
         "x": 0.075,
         "xanchor": "center",
         "y": 0.835,
         "yanchor": "bottom"
        },
        "template": {
         "data": {
          "bar": [
           {
            "error_x": {
             "color": "rgb(36,36,36)"
            },
            "error_y": {
             "color": "rgb(36,36,36)"
            },
            "marker": {
             "line": {
              "color": "rgb(234,234,242)",
              "width": 0.5
             },
             "pattern": {
              "fillmode": "overlay",
              "size": 10,
              "solidity": 0.2
             }
            },
            "type": "bar"
           }
          ],
          "barpolar": [
           {
            "marker": {
             "line": {
              "color": "rgb(234,234,242)",
              "width": 0.5
             },
             "pattern": {
              "fillmode": "overlay",
              "size": 10,
              "solidity": 0.2
             }
            },
            "type": "barpolar"
           }
          ],
          "carpet": [
           {
            "aaxis": {
             "endlinecolor": "rgb(36,36,36)",
             "gridcolor": "white",
             "linecolor": "white",
             "minorgridcolor": "white",
             "startlinecolor": "rgb(36,36,36)"
            },
            "baxis": {
             "endlinecolor": "rgb(36,36,36)",
             "gridcolor": "white",
             "linecolor": "white",
             "minorgridcolor": "white",
             "startlinecolor": "rgb(36,36,36)"
            },
            "type": "carpet"
           }
          ],
          "choropleth": [
           {
            "colorbar": {
             "outlinewidth": 0,
             "tickcolor": "rgb(36,36,36)",
             "ticklen": 8,
             "ticks": "outside",
             "tickwidth": 2
            },
            "type": "choropleth"
           }
          ],
          "contour": [
           {
            "colorbar": {
             "outlinewidth": 0,
             "tickcolor": "rgb(36,36,36)",
             "ticklen": 8,
             "ticks": "outside",
             "tickwidth": 2
            },
            "colorscale": [
             [
              0,
              "rgb(2,4,25)"
             ],
             [
              0.06274509803921569,
              "rgb(24,15,41)"
             ],
             [
              0.12549019607843137,
              "rgb(47,23,57)"
             ],
             [
              0.18823529411764706,
              "rgb(71,28,72)"
             ],
             [
              0.25098039215686274,
              "rgb(97,30,82)"
             ],
             [
              0.3137254901960784,
              "rgb(123,30,89)"
             ],
             [
              0.3764705882352941,
              "rgb(150,27,91)"
             ],
             [
              0.4392156862745098,
              "rgb(177,22,88)"
             ],
             [
              0.5019607843137255,
              "rgb(203,26,79)"
             ],
             [
              0.5647058823529412,
              "rgb(223,47,67)"
             ],
             [
              0.6274509803921569,
              "rgb(236,76,61)"
             ],
             [
              0.6901960784313725,
              "rgb(242,107,73)"
             ],
             [
              0.7529411764705882,
              "rgb(244,135,95)"
             ],
             [
              0.8156862745098039,
              "rgb(245,162,122)"
             ],
             [
              0.8784313725490196,
              "rgb(246,188,153)"
             ],
             [
              0.9411764705882353,
              "rgb(247,212,187)"
             ],
             [
              1,
              "rgb(250,234,220)"
             ]
            ],
            "type": "contour"
           }
          ],
          "contourcarpet": [
           {
            "colorbar": {
             "outlinewidth": 0,
             "tickcolor": "rgb(36,36,36)",
             "ticklen": 8,
             "ticks": "outside",
             "tickwidth": 2
            },
            "type": "contourcarpet"
           }
          ],
          "heatmap": [
           {
            "colorbar": {
             "outlinewidth": 0,
             "tickcolor": "rgb(36,36,36)",
             "ticklen": 8,
             "ticks": "outside",
             "tickwidth": 2
            },
            "colorscale": [
             [
              0,
              "rgb(2,4,25)"
             ],
             [
              0.06274509803921569,
              "rgb(24,15,41)"
             ],
             [
              0.12549019607843137,
              "rgb(47,23,57)"
             ],
             [
              0.18823529411764706,
              "rgb(71,28,72)"
             ],
             [
              0.25098039215686274,
              "rgb(97,30,82)"
             ],
             [
              0.3137254901960784,
              "rgb(123,30,89)"
             ],
             [
              0.3764705882352941,
              "rgb(150,27,91)"
             ],
             [
              0.4392156862745098,
              "rgb(177,22,88)"
             ],
             [
              0.5019607843137255,
              "rgb(203,26,79)"
             ],
             [
              0.5647058823529412,
              "rgb(223,47,67)"
             ],
             [
              0.6274509803921569,
              "rgb(236,76,61)"
             ],
             [
              0.6901960784313725,
              "rgb(242,107,73)"
             ],
             [
              0.7529411764705882,
              "rgb(244,135,95)"
             ],
             [
              0.8156862745098039,
              "rgb(245,162,122)"
             ],
             [
              0.8784313725490196,
              "rgb(246,188,153)"
             ],
             [
              0.9411764705882353,
              "rgb(247,212,187)"
             ],
             [
              1,
              "rgb(250,234,220)"
             ]
            ],
            "type": "heatmap"
           }
          ],
          "histogram": [
           {
            "marker": {
             "pattern": {
              "fillmode": "overlay",
              "size": 10,
              "solidity": 0.2
             }
            },
            "type": "histogram"
           }
          ],
          "histogram2d": [
           {
            "colorbar": {
             "outlinewidth": 0,
             "tickcolor": "rgb(36,36,36)",
             "ticklen": 8,
             "ticks": "outside",
             "tickwidth": 2
            },
            "colorscale": [
             [
              0,
              "rgb(2,4,25)"
             ],
             [
              0.06274509803921569,
              "rgb(24,15,41)"
             ],
             [
              0.12549019607843137,
              "rgb(47,23,57)"
             ],
             [
              0.18823529411764706,
              "rgb(71,28,72)"
             ],
             [
              0.25098039215686274,
              "rgb(97,30,82)"
             ],
             [
              0.3137254901960784,
              "rgb(123,30,89)"
             ],
             [
              0.3764705882352941,
              "rgb(150,27,91)"
             ],
             [
              0.4392156862745098,
              "rgb(177,22,88)"
             ],
             [
              0.5019607843137255,
              "rgb(203,26,79)"
             ],
             [
              0.5647058823529412,
              "rgb(223,47,67)"
             ],
             [
              0.6274509803921569,
              "rgb(236,76,61)"
             ],
             [
              0.6901960784313725,
              "rgb(242,107,73)"
             ],
             [
              0.7529411764705882,
              "rgb(244,135,95)"
             ],
             [
              0.8156862745098039,
              "rgb(245,162,122)"
             ],
             [
              0.8784313725490196,
              "rgb(246,188,153)"
             ],
             [
              0.9411764705882353,
              "rgb(247,212,187)"
             ],
             [
              1,
              "rgb(250,234,220)"
             ]
            ],
            "type": "histogram2d"
           }
          ],
          "histogram2dcontour": [
           {
            "colorbar": {
             "outlinewidth": 0,
             "tickcolor": "rgb(36,36,36)",
             "ticklen": 8,
             "ticks": "outside",
             "tickwidth": 2
            },
            "colorscale": [
             [
              0,
              "rgb(2,4,25)"
             ],
             [
              0.06274509803921569,
              "rgb(24,15,41)"
             ],
             [
              0.12549019607843137,
              "rgb(47,23,57)"
             ],
             [
              0.18823529411764706,
              "rgb(71,28,72)"
             ],
             [
              0.25098039215686274,
              "rgb(97,30,82)"
             ],
             [
              0.3137254901960784,
              "rgb(123,30,89)"
             ],
             [
              0.3764705882352941,
              "rgb(150,27,91)"
             ],
             [
              0.4392156862745098,
              "rgb(177,22,88)"
             ],
             [
              0.5019607843137255,
              "rgb(203,26,79)"
             ],
             [
              0.5647058823529412,
              "rgb(223,47,67)"
             ],
             [
              0.6274509803921569,
              "rgb(236,76,61)"
             ],
             [
              0.6901960784313725,
              "rgb(242,107,73)"
             ],
             [
              0.7529411764705882,
              "rgb(244,135,95)"
             ],
             [
              0.8156862745098039,
              "rgb(245,162,122)"
             ],
             [
              0.8784313725490196,
              "rgb(246,188,153)"
             ],
             [
              0.9411764705882353,
              "rgb(247,212,187)"
             ],
             [
              1,
              "rgb(250,234,220)"
             ]
            ],
            "type": "histogram2dcontour"
           }
          ],
          "mesh3d": [
           {
            "colorbar": {
             "outlinewidth": 0,
             "tickcolor": "rgb(36,36,36)",
             "ticklen": 8,
             "ticks": "outside",
             "tickwidth": 2
            },
            "type": "mesh3d"
           }
          ],
          "parcoords": [
           {
            "line": {
             "colorbar": {
              "outlinewidth": 0,
              "tickcolor": "rgb(36,36,36)",
              "ticklen": 8,
              "ticks": "outside",
              "tickwidth": 2
             }
            },
            "type": "parcoords"
           }
          ],
          "pie": [
           {
            "automargin": true,
            "type": "pie"
           }
          ],
          "scatter": [
           {
            "fillpattern": {
             "fillmode": "overlay",
             "size": 10,
             "solidity": 0.2
            },
            "type": "scatter"
           }
          ],
          "scatter3d": [
           {
            "line": {
             "colorbar": {
              "outlinewidth": 0,
              "tickcolor": "rgb(36,36,36)",
              "ticklen": 8,
              "ticks": "outside",
              "tickwidth": 2
             }
            },
            "marker": {
             "colorbar": {
              "outlinewidth": 0,
              "tickcolor": "rgb(36,36,36)",
              "ticklen": 8,
              "ticks": "outside",
              "tickwidth": 2
             }
            },
            "type": "scatter3d"
           }
          ],
          "scattercarpet": [
           {
            "marker": {
             "colorbar": {
              "outlinewidth": 0,
              "tickcolor": "rgb(36,36,36)",
              "ticklen": 8,
              "ticks": "outside",
              "tickwidth": 2
             }
            },
            "type": "scattercarpet"
           }
          ],
          "scattergeo": [
           {
            "marker": {
             "colorbar": {
              "outlinewidth": 0,
              "tickcolor": "rgb(36,36,36)",
              "ticklen": 8,
              "ticks": "outside",
              "tickwidth": 2
             }
            },
            "type": "scattergeo"
           }
          ],
          "scattergl": [
           {
            "marker": {
             "colorbar": {
              "outlinewidth": 0,
              "tickcolor": "rgb(36,36,36)",
              "ticklen": 8,
              "ticks": "outside",
              "tickwidth": 2
             }
            },
            "type": "scattergl"
           }
          ],
          "scattermap": [
           {
            "marker": {
             "colorbar": {
              "outlinewidth": 0,
              "tickcolor": "rgb(36,36,36)",
              "ticklen": 8,
              "ticks": "outside",
              "tickwidth": 2
             }
            },
            "type": "scattermap"
           }
          ],
          "scattermapbox": [
           {
            "marker": {
             "colorbar": {
              "outlinewidth": 0,
              "tickcolor": "rgb(36,36,36)",
              "ticklen": 8,
              "ticks": "outside",
              "tickwidth": 2
             }
            },
            "type": "scattermapbox"
           }
          ],
          "scatterpolar": [
           {
            "marker": {
             "colorbar": {
              "outlinewidth": 0,
              "tickcolor": "rgb(36,36,36)",
              "ticklen": 8,
              "ticks": "outside",
              "tickwidth": 2
             }
            },
            "type": "scatterpolar"
           }
          ],
          "scatterpolargl": [
           {
            "marker": {
             "colorbar": {
              "outlinewidth": 0,
              "tickcolor": "rgb(36,36,36)",
              "ticklen": 8,
              "ticks": "outside",
              "tickwidth": 2
             }
            },
            "type": "scatterpolargl"
           }
          ],
          "scatterternary": [
           {
            "marker": {
             "colorbar": {
              "outlinewidth": 0,
              "tickcolor": "rgb(36,36,36)",
              "ticklen": 8,
              "ticks": "outside",
              "tickwidth": 2
             }
            },
            "type": "scatterternary"
           }
          ],
          "surface": [
           {
            "colorbar": {
             "outlinewidth": 0,
             "tickcolor": "rgb(36,36,36)",
             "ticklen": 8,
             "ticks": "outside",
             "tickwidth": 2
            },
            "colorscale": [
             [
              0,
              "rgb(2,4,25)"
             ],
             [
              0.06274509803921569,
              "rgb(24,15,41)"
             ],
             [
              0.12549019607843137,
              "rgb(47,23,57)"
             ],
             [
              0.18823529411764706,
              "rgb(71,28,72)"
             ],
             [
              0.25098039215686274,
              "rgb(97,30,82)"
             ],
             [
              0.3137254901960784,
              "rgb(123,30,89)"
             ],
             [
              0.3764705882352941,
              "rgb(150,27,91)"
             ],
             [
              0.4392156862745098,
              "rgb(177,22,88)"
             ],
             [
              0.5019607843137255,
              "rgb(203,26,79)"
             ],
             [
              0.5647058823529412,
              "rgb(223,47,67)"
             ],
             [
              0.6274509803921569,
              "rgb(236,76,61)"
             ],
             [
              0.6901960784313725,
              "rgb(242,107,73)"
             ],
             [
              0.7529411764705882,
              "rgb(244,135,95)"
             ],
             [
              0.8156862745098039,
              "rgb(245,162,122)"
             ],
             [
              0.8784313725490196,
              "rgb(246,188,153)"
             ],
             [
              0.9411764705882353,
              "rgb(247,212,187)"
             ],
             [
              1,
              "rgb(250,234,220)"
             ]
            ],
            "type": "surface"
           }
          ],
          "table": [
           {
            "cells": {
             "fill": {
              "color": "rgb(231,231,240)"
             },
             "line": {
              "color": "white"
             }
            },
            "header": {
             "fill": {
              "color": "rgb(183,183,191)"
             },
             "line": {
              "color": "white"
             }
            },
            "type": "table"
           }
          ]
         },
         "layout": {
          "annotationdefaults": {
           "arrowcolor": "rgb(67,103,167)"
          },
          "autotypenumbers": "strict",
          "coloraxis": {
           "colorbar": {
            "outlinewidth": 0,
            "tickcolor": "rgb(36,36,36)",
            "ticklen": 8,
            "ticks": "outside",
            "tickwidth": 2
           }
          },
          "colorscale": {
           "sequential": [
            [
             0,
             "rgb(2,4,25)"
            ],
            [
             0.06274509803921569,
             "rgb(24,15,41)"
            ],
            [
             0.12549019607843137,
             "rgb(47,23,57)"
            ],
            [
             0.18823529411764706,
             "rgb(71,28,72)"
            ],
            [
             0.25098039215686274,
             "rgb(97,30,82)"
            ],
            [
             0.3137254901960784,
             "rgb(123,30,89)"
            ],
            [
             0.3764705882352941,
             "rgb(150,27,91)"
            ],
            [
             0.4392156862745098,
             "rgb(177,22,88)"
            ],
            [
             0.5019607843137255,
             "rgb(203,26,79)"
            ],
            [
             0.5647058823529412,
             "rgb(223,47,67)"
            ],
            [
             0.6274509803921569,
             "rgb(236,76,61)"
            ],
            [
             0.6901960784313725,
             "rgb(242,107,73)"
            ],
            [
             0.7529411764705882,
             "rgb(244,135,95)"
            ],
            [
             0.8156862745098039,
             "rgb(245,162,122)"
            ],
            [
             0.8784313725490196,
             "rgb(246,188,153)"
            ],
            [
             0.9411764705882353,
             "rgb(247,212,187)"
            ],
            [
             1,
             "rgb(250,234,220)"
            ]
           ],
           "sequentialminus": [
            [
             0,
             "rgb(2,4,25)"
            ],
            [
             0.06274509803921569,
             "rgb(24,15,41)"
            ],
            [
             0.12549019607843137,
             "rgb(47,23,57)"
            ],
            [
             0.18823529411764706,
             "rgb(71,28,72)"
            ],
            [
             0.25098039215686274,
             "rgb(97,30,82)"
            ],
            [
             0.3137254901960784,
             "rgb(123,30,89)"
            ],
            [
             0.3764705882352941,
             "rgb(150,27,91)"
            ],
            [
             0.4392156862745098,
             "rgb(177,22,88)"
            ],
            [
             0.5019607843137255,
             "rgb(203,26,79)"
            ],
            [
             0.5647058823529412,
             "rgb(223,47,67)"
            ],
            [
             0.6274509803921569,
             "rgb(236,76,61)"
            ],
            [
             0.6901960784313725,
             "rgb(242,107,73)"
            ],
            [
             0.7529411764705882,
             "rgb(244,135,95)"
            ],
            [
             0.8156862745098039,
             "rgb(245,162,122)"
            ],
            [
             0.8784313725490196,
             "rgb(246,188,153)"
            ],
            [
             0.9411764705882353,
             "rgb(247,212,187)"
            ],
            [
             1,
             "rgb(250,234,220)"
            ]
           ]
          },
          "colorway": [
           "rgb(76,114,176)",
           "rgb(221,132,82)",
           "rgb(85,168,104)",
           "rgb(196,78,82)",
           "rgb(129,114,179)",
           "rgb(147,120,96)",
           "rgb(218,139,195)",
           "rgb(140,140,140)",
           "rgb(204,185,116)",
           "rgb(100,181,205)"
          ],
          "font": {
           "color": "rgb(36,36,36)"
          },
          "geo": {
           "bgcolor": "white",
           "lakecolor": "white",
           "landcolor": "rgb(234,234,242)",
           "showlakes": true,
           "showland": true,
           "subunitcolor": "white"
          },
          "hoverlabel": {
           "align": "left"
          },
          "hovermode": "closest",
          "paper_bgcolor": "white",
          "plot_bgcolor": "rgb(234,234,242)",
          "polar": {
           "angularaxis": {
            "gridcolor": "white",
            "linecolor": "white",
            "showgrid": true,
            "ticks": ""
           },
           "bgcolor": "rgb(234,234,242)",
           "radialaxis": {
            "gridcolor": "white",
            "linecolor": "white",
            "showgrid": true,
            "ticks": ""
           }
          },
          "scene": {
           "xaxis": {
            "backgroundcolor": "rgb(234,234,242)",
            "gridcolor": "white",
            "gridwidth": 2,
            "linecolor": "white",
            "showbackground": true,
            "showgrid": true,
            "ticks": "",
            "zerolinecolor": "white"
           },
           "yaxis": {
            "backgroundcolor": "rgb(234,234,242)",
            "gridcolor": "white",
            "gridwidth": 2,
            "linecolor": "white",
            "showbackground": true,
            "showgrid": true,
            "ticks": "",
            "zerolinecolor": "white"
           },
           "zaxis": {
            "backgroundcolor": "rgb(234,234,242)",
            "gridcolor": "white",
            "gridwidth": 2,
            "linecolor": "white",
            "showbackground": true,
            "showgrid": true,
            "ticks": "",
            "zerolinecolor": "white"
           }
          },
          "shapedefaults": {
           "fillcolor": "rgb(67,103,167)",
           "line": {
            "width": 0
           },
           "opacity": 0.5
          },
          "ternary": {
           "aaxis": {
            "gridcolor": "white",
            "linecolor": "white",
            "showgrid": true,
            "ticks": ""
           },
           "baxis": {
            "gridcolor": "white",
            "linecolor": "white",
            "showgrid": true,
            "ticks": ""
           },
           "bgcolor": "rgb(234,234,242)",
           "caxis": {
            "gridcolor": "white",
            "linecolor": "white",
            "showgrid": true,
            "ticks": ""
           }
          },
          "xaxis": {
           "automargin": true,
           "gridcolor": "white",
           "linecolor": "white",
           "showgrid": true,
           "ticks": "",
           "title": {
            "standoff": 15
           },
           "zerolinecolor": "white"
          },
          "yaxis": {
           "automargin": true,
           "gridcolor": "white",
           "linecolor": "white",
           "showgrid": true,
           "ticks": "",
           "title": {
            "standoff": 15
           },
           "zerolinecolor": "white"
          }
         }
        },
        "title": {
         "font": {
          "family": "Arial",
          "size": 24
         },
         "text": "<b>Temas + Falados - Operadoras</b>",
         "x": 0.5,
         "xanchor": "center",
         "y": 0.9
        },
        "width": 700,
        "xaxis": {
         "anchor": "y",
         "domain": [
          0,
          1
         ],
         "range": [
          -200,
          5000
         ],
         "title": {
          "text": "Qtd Comentários"
         }
        },
        "yaxis": {
         "anchor": "x",
         "domain": [
          0,
          1
         ],
         "range": [
          -1,
          1
         ],
         "title": {
          "text": "Sentimento"
         }
        }
       }
      }
     },
     "metadata": {},
     "output_type": "display_data"
    }
   ],
   "source": [
    "fig = px.scatter(\n",
    "    df_tema,\n",
    "    x=\"volume\",\n",
    "    y=\"sentimento_medio\",\n",
    "    size=\"tamanho\",\n",
    "    color=\"sentimento_medio\",\n",
    "    symbol='app',\n",
    "    text=\"tema_manual_abreviado\",\n",
    "    color_continuous_scale= [\"#F74A4A\", '#FFFB00', '#4CAF50'],\n",
    "    range_y=[-1, 1],\n",
    "    range_x=[-200, 5000],\n",
    "    title=\"<b>Temas + Falados - Operadoras</b>\"\n",
    ")\n",
    "\n",
    "# Ajustes visuais\n",
    "fig.update_traces(textposition='top center')\n",
    "fig.update_layout(\n",
    "    width=700,\n",
    "    height=700,\n",
    "    xaxis_title=\"Qtd Comentários\",\n",
    "    yaxis_title=\"Sentimento\",\n",
    "    coloraxis_colorbar=dict(title=\"Sentimento\"),\n",
    "    coloraxis=dict(cmin=-1, cmax=1),\n",
    "    template=\"seaborn\",\n",
    "    title={'font':{\n",
    "            'size': 24,\n",
    "            'family': 'Arial'},\n",
    "        'x': 0.5,\n",
    "        'xanchor': 'center',\n",
    "        'y': 0.9,\n",
    "    },\n",
    "    legend_title_text='Operadora',\n",
    "    legend=dict(\n",
    "        orientation=\"v\",\n",
    "        yanchor=\"bottom\",\n",
    "        y=0.835,\n",
    "        xanchor=\"center\",\n",
    "        x=0.075,\n",
    "        font=dict(size=12))\n",
    ")\n",
    "\n",
    "fig.show()"
   ]
  },
  {
   "cell_type": "code",
   "execution_count": null,
   "id": "1b1007e5",
   "metadata": {},
   "outputs": [
    {
     "data": {
      "application/vnd.plotly.v1+json": {
       "config": {
        "plotlyServerURL": "https://plot.ly"
       },
       "data": [
        {
         "hovertemplate": "app=Claro<br>volume=%{x}<br>sentimento_medio=%{marker.color}<br>tamanho=%{marker.size}<br>tema_manual_abreviado=%{text}<extra></extra>",
         "legendgroup": "Claro",
         "marker": {
          "color": {
           "bdata": "pgKI2VHYoz/E4W2JA9LLv1FuHGfcqdO/GmHqqjX24L95GNuw+cHgv9rw/FXZIcq/1H7S5Z634r9EaYf2QyaqP8mzpDoTScC/dYvUXMpw3b8=",
           "dtype": "f8"
          },
          "coloraxis": "coloraxis",
          "size": {
           "bdata": "BLUAAFwmAACkPQAAgEgAAHwzAAD4ZgAAhAgAADifAADgUQAAFBQAAA==",
           "dtype": "i4"
          },
          "sizemode": "area",
          "sizeref": 224.95,
          "symbol": "circle"
         },
         "mode": "markers+text",
         "name": "Claro",
         "orientation": "v",
         "showlegend": true,
         "text": [
          "App",
          "Atend.",
          "Conta",
          "Desemp.",
          "Login",
          "Net",
          "Not.",
          "Op.",
          "Plano",
          "Usab."
         ],
         "textposition": "top center",
         "type": "scatter",
         "x": {
          "bdata": "DQnrARUDoAOTAiYFbQD2BxgEAQE=",
          "dtype": "i2"
         },
         "xaxis": "x",
         "y": {
          "bdata": "pgKI2VHYoz/E4W2JA9LLv1FuHGfcqdO/GmHqqjX24L95GNuw+cHgv9rw/FXZIcq/1H7S5Z634r9EaYf2QyaqP8mzpDoTScC/dYvUXMpw3b8=",
          "dtype": "f8"
         },
         "yaxis": "y"
        },
        {
         "hovertemplate": "app=TIM<br>volume=%{x}<br>sentimento_medio=%{marker.color}<br>tamanho=%{marker.size}<br>tema_manual_abreviado=%{text}<extra></extra>",
         "legendgroup": "TIM",
         "marker": {
          "color": {
           "bdata": "EtSrxhS84b8QqqtxCbvkv1mJU1vSg+K/nC75IQN45r9jlU+Ji/vjv6HDmpsmlOO/OmIA3MgO5b8x3ZLgnpvbvwk2yDPrkuG/cSvcQbPp5r8=",
           "dtype": "f8"
          },
          "coloraxis": "coloraxis",
          "size": {
           "bdata": "fF8BAERNAAB4oAAAZMgAAAxdAADwqgAAlCAAAJzvAAAElwAAkDMAAA==",
           "dtype": "i4"
          },
          "sizemode": "area",
          "sizeref": 224.95,
          "symbol": "diamond"
         },
         "mode": "markers+text",
         "name": "TIM",
         "orientation": "v",
         "showlegend": true,
         "text": [
          "App",
          "Atend.",
          "Conta",
          "Desemp.",
          "Login",
          "Net",
          "Not.",
          "Op.",
          "Plano",
          "Usab."
         ],
         "textposition": "top center",
         "type": "scatter",
         "x": {
          "bdata": "kxHdAwYIBQqnBIwIoQH7C40HlAI=",
          "dtype": "i2"
         },
         "xaxis": "x",
         "y": {
          "bdata": "EtSrxhS84b8QqqtxCbvkv1mJU1vSg+K/nC75IQN45r9jlU+Ji/vjv6HDmpsmlOO/OmIA3MgO5b8x3ZLgnpvbvwk2yDPrkuG/cSvcQbPp5r8=",
          "dtype": "f8"
         },
         "yaxis": "y"
        },
        {
         "hovertemplate": "app=Vivo<br>volume=%{x}<br>sentimento_medio=%{marker.color}<br>tamanho=%{marker.size}<br>tema_manual_abreviado=%{text}<extra></extra>",
         "legendgroup": "Vivo",
         "marker": {
          "color": {
           "bdata": "jW/aY3fIo7/+VMKiz1q7vw16LSEEi9a/0ETk4vgZ478WkuBeqwHfv++BaP4x/9W/PzRmMXAT5r9w4W3b6rqVv4wLs82quM+/VlBbhi0A378=",
           "dtype": "f8"
          },
          "coloraxis": "coloraxis",
          "size": {
           "bdata": "WOMAAJgmAAC0VQAA5E0AAPQ4AACUTQAAqAcAAGyJAAAERwAArBIAAA==",
           "dtype": "i4"
          },
          "sizemode": "area",
          "sizeref": 224.95,
          "symbol": "square"
         },
         "mode": "markers+text",
         "name": "Vivo",
         "orientation": "v",
         "showlegend": true,
         "text": [
          "App",
          "Atend.",
          "Conta",
          "Desemp.",
          "Login",
          "Net",
          "Not.",
          "Op.",
          "Plano",
          "Usab."
         ],
         "textposition": "top center",
         "type": "scatter",
         "x": {
          "bdata": "XgvuAUkE5QPZAuEDYgDfBo0D7wA=",
          "dtype": "i2"
         },
         "xaxis": "x",
         "y": {
          "bdata": "jW/aY3fIo7/+VMKiz1q7vw16LSEEi9a/0ETk4vgZ478WkuBeqwHfv++BaP4x/9W/PzRmMXAT5r9w4W3b6rqVv4wLs82quM+/VlBbhi0A378=",
          "dtype": "f8"
         },
         "yaxis": "y"
        }
       ],
       "layout": {
        "coloraxis": {
         "cmax": 1,
         "cmin": -1,
         "colorbar": {
          "title": {
           "text": "Sentimento"
          }
         },
         "colorscale": [
          [
           0,
           "#F74A4A"
          ],
          [
           0.5,
           "#FFFB00"
          ],
          [
           1,
           "#4CAF50"
          ]
         ]
        },
        "height": 700,
        "legend": {
         "font": {
          "size": 12
         },
         "itemsizing": "constant",
         "orientation": "v",
         "title": {
          "text": "Operadora"
         },
         "tracegroupgap": 0,
         "x": 0.075,
         "xanchor": "center",
         "y": 0.835,
         "yanchor": "bottom"
        },
        "template": {
         "data": {
          "bar": [
           {
            "error_x": {
             "color": "rgb(36,36,36)"
            },
            "error_y": {
             "color": "rgb(36,36,36)"
            },
            "marker": {
             "line": {
              "color": "rgb(234,234,242)",
              "width": 0.5
             },
             "pattern": {
              "fillmode": "overlay",
              "size": 10,
              "solidity": 0.2
             }
            },
            "type": "bar"
           }
          ],
          "barpolar": [
           {
            "marker": {
             "line": {
              "color": "rgb(234,234,242)",
              "width": 0.5
             },
             "pattern": {
              "fillmode": "overlay",
              "size": 10,
              "solidity": 0.2
             }
            },
            "type": "barpolar"
           }
          ],
          "carpet": [
           {
            "aaxis": {
             "endlinecolor": "rgb(36,36,36)",
             "gridcolor": "white",
             "linecolor": "white",
             "minorgridcolor": "white",
             "startlinecolor": "rgb(36,36,36)"
            },
            "baxis": {
             "endlinecolor": "rgb(36,36,36)",
             "gridcolor": "white",
             "linecolor": "white",
             "minorgridcolor": "white",
             "startlinecolor": "rgb(36,36,36)"
            },
            "type": "carpet"
           }
          ],
          "choropleth": [
           {
            "colorbar": {
             "outlinewidth": 0,
             "tickcolor": "rgb(36,36,36)",
             "ticklen": 8,
             "ticks": "outside",
             "tickwidth": 2
            },
            "type": "choropleth"
           }
          ],
          "contour": [
           {
            "colorbar": {
             "outlinewidth": 0,
             "tickcolor": "rgb(36,36,36)",
             "ticklen": 8,
             "ticks": "outside",
             "tickwidth": 2
            },
            "colorscale": [
             [
              0,
              "rgb(2,4,25)"
             ],
             [
              0.06274509803921569,
              "rgb(24,15,41)"
             ],
             [
              0.12549019607843137,
              "rgb(47,23,57)"
             ],
             [
              0.18823529411764706,
              "rgb(71,28,72)"
             ],
             [
              0.25098039215686274,
              "rgb(97,30,82)"
             ],
             [
              0.3137254901960784,
              "rgb(123,30,89)"
             ],
             [
              0.3764705882352941,
              "rgb(150,27,91)"
             ],
             [
              0.4392156862745098,
              "rgb(177,22,88)"
             ],
             [
              0.5019607843137255,
              "rgb(203,26,79)"
             ],
             [
              0.5647058823529412,
              "rgb(223,47,67)"
             ],
             [
              0.6274509803921569,
              "rgb(236,76,61)"
             ],
             [
              0.6901960784313725,
              "rgb(242,107,73)"
             ],
             [
              0.7529411764705882,
              "rgb(244,135,95)"
             ],
             [
              0.8156862745098039,
              "rgb(245,162,122)"
             ],
             [
              0.8784313725490196,
              "rgb(246,188,153)"
             ],
             [
              0.9411764705882353,
              "rgb(247,212,187)"
             ],
             [
              1,
              "rgb(250,234,220)"
             ]
            ],
            "type": "contour"
           }
          ],
          "contourcarpet": [
           {
            "colorbar": {
             "outlinewidth": 0,
             "tickcolor": "rgb(36,36,36)",
             "ticklen": 8,
             "ticks": "outside",
             "tickwidth": 2
            },
            "type": "contourcarpet"
           }
          ],
          "heatmap": [
           {
            "colorbar": {
             "outlinewidth": 0,
             "tickcolor": "rgb(36,36,36)",
             "ticklen": 8,
             "ticks": "outside",
             "tickwidth": 2
            },
            "colorscale": [
             [
              0,
              "rgb(2,4,25)"
             ],
             [
              0.06274509803921569,
              "rgb(24,15,41)"
             ],
             [
              0.12549019607843137,
              "rgb(47,23,57)"
             ],
             [
              0.18823529411764706,
              "rgb(71,28,72)"
             ],
             [
              0.25098039215686274,
              "rgb(97,30,82)"
             ],
             [
              0.3137254901960784,
              "rgb(123,30,89)"
             ],
             [
              0.3764705882352941,
              "rgb(150,27,91)"
             ],
             [
              0.4392156862745098,
              "rgb(177,22,88)"
             ],
             [
              0.5019607843137255,
              "rgb(203,26,79)"
             ],
             [
              0.5647058823529412,
              "rgb(223,47,67)"
             ],
             [
              0.6274509803921569,
              "rgb(236,76,61)"
             ],
             [
              0.6901960784313725,
              "rgb(242,107,73)"
             ],
             [
              0.7529411764705882,
              "rgb(244,135,95)"
             ],
             [
              0.8156862745098039,
              "rgb(245,162,122)"
             ],
             [
              0.8784313725490196,
              "rgb(246,188,153)"
             ],
             [
              0.9411764705882353,
              "rgb(247,212,187)"
             ],
             [
              1,
              "rgb(250,234,220)"
             ]
            ],
            "type": "heatmap"
           }
          ],
          "histogram": [
           {
            "marker": {
             "pattern": {
              "fillmode": "overlay",
              "size": 10,
              "solidity": 0.2
             }
            },
            "type": "histogram"
           }
          ],
          "histogram2d": [
           {
            "colorbar": {
             "outlinewidth": 0,
             "tickcolor": "rgb(36,36,36)",
             "ticklen": 8,
             "ticks": "outside",
             "tickwidth": 2
            },
            "colorscale": [
             [
              0,
              "rgb(2,4,25)"
             ],
             [
              0.06274509803921569,
              "rgb(24,15,41)"
             ],
             [
              0.12549019607843137,
              "rgb(47,23,57)"
             ],
             [
              0.18823529411764706,
              "rgb(71,28,72)"
             ],
             [
              0.25098039215686274,
              "rgb(97,30,82)"
             ],
             [
              0.3137254901960784,
              "rgb(123,30,89)"
             ],
             [
              0.3764705882352941,
              "rgb(150,27,91)"
             ],
             [
              0.4392156862745098,
              "rgb(177,22,88)"
             ],
             [
              0.5019607843137255,
              "rgb(203,26,79)"
             ],
             [
              0.5647058823529412,
              "rgb(223,47,67)"
             ],
             [
              0.6274509803921569,
              "rgb(236,76,61)"
             ],
             [
              0.6901960784313725,
              "rgb(242,107,73)"
             ],
             [
              0.7529411764705882,
              "rgb(244,135,95)"
             ],
             [
              0.8156862745098039,
              "rgb(245,162,122)"
             ],
             [
              0.8784313725490196,
              "rgb(246,188,153)"
             ],
             [
              0.9411764705882353,
              "rgb(247,212,187)"
             ],
             [
              1,
              "rgb(250,234,220)"
             ]
            ],
            "type": "histogram2d"
           }
          ],
          "histogram2dcontour": [
           {
            "colorbar": {
             "outlinewidth": 0,
             "tickcolor": "rgb(36,36,36)",
             "ticklen": 8,
             "ticks": "outside",
             "tickwidth": 2
            },
            "colorscale": [
             [
              0,
              "rgb(2,4,25)"
             ],
             [
              0.06274509803921569,
              "rgb(24,15,41)"
             ],
             [
              0.12549019607843137,
              "rgb(47,23,57)"
             ],
             [
              0.18823529411764706,
              "rgb(71,28,72)"
             ],
             [
              0.25098039215686274,
              "rgb(97,30,82)"
             ],
             [
              0.3137254901960784,
              "rgb(123,30,89)"
             ],
             [
              0.3764705882352941,
              "rgb(150,27,91)"
             ],
             [
              0.4392156862745098,
              "rgb(177,22,88)"
             ],
             [
              0.5019607843137255,
              "rgb(203,26,79)"
             ],
             [
              0.5647058823529412,
              "rgb(223,47,67)"
             ],
             [
              0.6274509803921569,
              "rgb(236,76,61)"
             ],
             [
              0.6901960784313725,
              "rgb(242,107,73)"
             ],
             [
              0.7529411764705882,
              "rgb(244,135,95)"
             ],
             [
              0.8156862745098039,
              "rgb(245,162,122)"
             ],
             [
              0.8784313725490196,
              "rgb(246,188,153)"
             ],
             [
              0.9411764705882353,
              "rgb(247,212,187)"
             ],
             [
              1,
              "rgb(250,234,220)"
             ]
            ],
            "type": "histogram2dcontour"
           }
          ],
          "mesh3d": [
           {
            "colorbar": {
             "outlinewidth": 0,
             "tickcolor": "rgb(36,36,36)",
             "ticklen": 8,
             "ticks": "outside",
             "tickwidth": 2
            },
            "type": "mesh3d"
           }
          ],
          "parcoords": [
           {
            "line": {
             "colorbar": {
              "outlinewidth": 0,
              "tickcolor": "rgb(36,36,36)",
              "ticklen": 8,
              "ticks": "outside",
              "tickwidth": 2
             }
            },
            "type": "parcoords"
           }
          ],
          "pie": [
           {
            "automargin": true,
            "type": "pie"
           }
          ],
          "scatter": [
           {
            "fillpattern": {
             "fillmode": "overlay",
             "size": 10,
             "solidity": 0.2
            },
            "type": "scatter"
           }
          ],
          "scatter3d": [
           {
            "line": {
             "colorbar": {
              "outlinewidth": 0,
              "tickcolor": "rgb(36,36,36)",
              "ticklen": 8,
              "ticks": "outside",
              "tickwidth": 2
             }
            },
            "marker": {
             "colorbar": {
              "outlinewidth": 0,
              "tickcolor": "rgb(36,36,36)",
              "ticklen": 8,
              "ticks": "outside",
              "tickwidth": 2
             }
            },
            "type": "scatter3d"
           }
          ],
          "scattercarpet": [
           {
            "marker": {
             "colorbar": {
              "outlinewidth": 0,
              "tickcolor": "rgb(36,36,36)",
              "ticklen": 8,
              "ticks": "outside",
              "tickwidth": 2
             }
            },
            "type": "scattercarpet"
           }
          ],
          "scattergeo": [
           {
            "marker": {
             "colorbar": {
              "outlinewidth": 0,
              "tickcolor": "rgb(36,36,36)",
              "ticklen": 8,
              "ticks": "outside",
              "tickwidth": 2
             }
            },
            "type": "scattergeo"
           }
          ],
          "scattergl": [
           {
            "marker": {
             "colorbar": {
              "outlinewidth": 0,
              "tickcolor": "rgb(36,36,36)",
              "ticklen": 8,
              "ticks": "outside",
              "tickwidth": 2
             }
            },
            "type": "scattergl"
           }
          ],
          "scattermap": [
           {
            "marker": {
             "colorbar": {
              "outlinewidth": 0,
              "tickcolor": "rgb(36,36,36)",
              "ticklen": 8,
              "ticks": "outside",
              "tickwidth": 2
             }
            },
            "type": "scattermap"
           }
          ],
          "scattermapbox": [
           {
            "marker": {
             "colorbar": {
              "outlinewidth": 0,
              "tickcolor": "rgb(36,36,36)",
              "ticklen": 8,
              "ticks": "outside",
              "tickwidth": 2
             }
            },
            "type": "scattermapbox"
           }
          ],
          "scatterpolar": [
           {
            "marker": {
             "colorbar": {
              "outlinewidth": 0,
              "tickcolor": "rgb(36,36,36)",
              "ticklen": 8,
              "ticks": "outside",
              "tickwidth": 2
             }
            },
            "type": "scatterpolar"
           }
          ],
          "scatterpolargl": [
           {
            "marker": {
             "colorbar": {
              "outlinewidth": 0,
              "tickcolor": "rgb(36,36,36)",
              "ticklen": 8,
              "ticks": "outside",
              "tickwidth": 2
             }
            },
            "type": "scatterpolargl"
           }
          ],
          "scatterternary": [
           {
            "marker": {
             "colorbar": {
              "outlinewidth": 0,
              "tickcolor": "rgb(36,36,36)",
              "ticklen": 8,
              "ticks": "outside",
              "tickwidth": 2
             }
            },
            "type": "scatterternary"
           }
          ],
          "surface": [
           {
            "colorbar": {
             "outlinewidth": 0,
             "tickcolor": "rgb(36,36,36)",
             "ticklen": 8,
             "ticks": "outside",
             "tickwidth": 2
            },
            "colorscale": [
             [
              0,
              "rgb(2,4,25)"
             ],
             [
              0.06274509803921569,
              "rgb(24,15,41)"
             ],
             [
              0.12549019607843137,
              "rgb(47,23,57)"
             ],
             [
              0.18823529411764706,
              "rgb(71,28,72)"
             ],
             [
              0.25098039215686274,
              "rgb(97,30,82)"
             ],
             [
              0.3137254901960784,
              "rgb(123,30,89)"
             ],
             [
              0.3764705882352941,
              "rgb(150,27,91)"
             ],
             [
              0.4392156862745098,
              "rgb(177,22,88)"
             ],
             [
              0.5019607843137255,
              "rgb(203,26,79)"
             ],
             [
              0.5647058823529412,
              "rgb(223,47,67)"
             ],
             [
              0.6274509803921569,
              "rgb(236,76,61)"
             ],
             [
              0.6901960784313725,
              "rgb(242,107,73)"
             ],
             [
              0.7529411764705882,
              "rgb(244,135,95)"
             ],
             [
              0.8156862745098039,
              "rgb(245,162,122)"
             ],
             [
              0.8784313725490196,
              "rgb(246,188,153)"
             ],
             [
              0.9411764705882353,
              "rgb(247,212,187)"
             ],
             [
              1,
              "rgb(250,234,220)"
             ]
            ],
            "type": "surface"
           }
          ],
          "table": [
           {
            "cells": {
             "fill": {
              "color": "rgb(231,231,240)"
             },
             "line": {
              "color": "white"
             }
            },
            "header": {
             "fill": {
              "color": "rgb(183,183,191)"
             },
             "line": {
              "color": "white"
             }
            },
            "type": "table"
           }
          ]
         },
         "layout": {
          "annotationdefaults": {
           "arrowcolor": "rgb(67,103,167)"
          },
          "autotypenumbers": "strict",
          "coloraxis": {
           "colorbar": {
            "outlinewidth": 0,
            "tickcolor": "rgb(36,36,36)",
            "ticklen": 8,
            "ticks": "outside",
            "tickwidth": 2
           }
          },
          "colorscale": {
           "sequential": [
            [
             0,
             "rgb(2,4,25)"
            ],
            [
             0.06274509803921569,
             "rgb(24,15,41)"
            ],
            [
             0.12549019607843137,
             "rgb(47,23,57)"
            ],
            [
             0.18823529411764706,
             "rgb(71,28,72)"
            ],
            [
             0.25098039215686274,
             "rgb(97,30,82)"
            ],
            [
             0.3137254901960784,
             "rgb(123,30,89)"
            ],
            [
             0.3764705882352941,
             "rgb(150,27,91)"
            ],
            [
             0.4392156862745098,
             "rgb(177,22,88)"
            ],
            [
             0.5019607843137255,
             "rgb(203,26,79)"
            ],
            [
             0.5647058823529412,
             "rgb(223,47,67)"
            ],
            [
             0.6274509803921569,
             "rgb(236,76,61)"
            ],
            [
             0.6901960784313725,
             "rgb(242,107,73)"
            ],
            [
             0.7529411764705882,
             "rgb(244,135,95)"
            ],
            [
             0.8156862745098039,
             "rgb(245,162,122)"
            ],
            [
             0.8784313725490196,
             "rgb(246,188,153)"
            ],
            [
             0.9411764705882353,
             "rgb(247,212,187)"
            ],
            [
             1,
             "rgb(250,234,220)"
            ]
           ],
           "sequentialminus": [
            [
             0,
             "rgb(2,4,25)"
            ],
            [
             0.06274509803921569,
             "rgb(24,15,41)"
            ],
            [
             0.12549019607843137,
             "rgb(47,23,57)"
            ],
            [
             0.18823529411764706,
             "rgb(71,28,72)"
            ],
            [
             0.25098039215686274,
             "rgb(97,30,82)"
            ],
            [
             0.3137254901960784,
             "rgb(123,30,89)"
            ],
            [
             0.3764705882352941,
             "rgb(150,27,91)"
            ],
            [
             0.4392156862745098,
             "rgb(177,22,88)"
            ],
            [
             0.5019607843137255,
             "rgb(203,26,79)"
            ],
            [
             0.5647058823529412,
             "rgb(223,47,67)"
            ],
            [
             0.6274509803921569,
             "rgb(236,76,61)"
            ],
            [
             0.6901960784313725,
             "rgb(242,107,73)"
            ],
            [
             0.7529411764705882,
             "rgb(244,135,95)"
            ],
            [
             0.8156862745098039,
             "rgb(245,162,122)"
            ],
            [
             0.8784313725490196,
             "rgb(246,188,153)"
            ],
            [
             0.9411764705882353,
             "rgb(247,212,187)"
            ],
            [
             1,
             "rgb(250,234,220)"
            ]
           ]
          },
          "colorway": [
           "rgb(76,114,176)",
           "rgb(221,132,82)",
           "rgb(85,168,104)",
           "rgb(196,78,82)",
           "rgb(129,114,179)",
           "rgb(147,120,96)",
           "rgb(218,139,195)",
           "rgb(140,140,140)",
           "rgb(204,185,116)",
           "rgb(100,181,205)"
          ],
          "font": {
           "color": "rgb(36,36,36)"
          },
          "geo": {
           "bgcolor": "white",
           "lakecolor": "white",
           "landcolor": "rgb(234,234,242)",
           "showlakes": true,
           "showland": true,
           "subunitcolor": "white"
          },
          "hoverlabel": {
           "align": "left"
          },
          "hovermode": "closest",
          "paper_bgcolor": "white",
          "plot_bgcolor": "rgb(234,234,242)",
          "polar": {
           "angularaxis": {
            "gridcolor": "white",
            "linecolor": "white",
            "showgrid": true,
            "ticks": ""
           },
           "bgcolor": "rgb(234,234,242)",
           "radialaxis": {
            "gridcolor": "white",
            "linecolor": "white",
            "showgrid": true,
            "ticks": ""
           }
          },
          "scene": {
           "xaxis": {
            "backgroundcolor": "rgb(234,234,242)",
            "gridcolor": "white",
            "gridwidth": 2,
            "linecolor": "white",
            "showbackground": true,
            "showgrid": true,
            "ticks": "",
            "zerolinecolor": "white"
           },
           "yaxis": {
            "backgroundcolor": "rgb(234,234,242)",
            "gridcolor": "white",
            "gridwidth": 2,
            "linecolor": "white",
            "showbackground": true,
            "showgrid": true,
            "ticks": "",
            "zerolinecolor": "white"
           },
           "zaxis": {
            "backgroundcolor": "rgb(234,234,242)",
            "gridcolor": "white",
            "gridwidth": 2,
            "linecolor": "white",
            "showbackground": true,
            "showgrid": true,
            "ticks": "",
            "zerolinecolor": "white"
           }
          },
          "shapedefaults": {
           "fillcolor": "rgb(67,103,167)",
           "line": {
            "width": 0
           },
           "opacity": 0.5
          },
          "ternary": {
           "aaxis": {
            "gridcolor": "white",
            "linecolor": "white",
            "showgrid": true,
            "ticks": ""
           },
           "baxis": {
            "gridcolor": "white",
            "linecolor": "white",
            "showgrid": true,
            "ticks": ""
           },
           "bgcolor": "rgb(234,234,242)",
           "caxis": {
            "gridcolor": "white",
            "linecolor": "white",
            "showgrid": true,
            "ticks": ""
           }
          },
          "xaxis": {
           "automargin": true,
           "gridcolor": "white",
           "linecolor": "white",
           "showgrid": true,
           "ticks": "",
           "title": {
            "standoff": 15
           },
           "zerolinecolor": "white"
          },
          "yaxis": {
           "automargin": true,
           "gridcolor": "white",
           "linecolor": "white",
           "showgrid": true,
           "ticks": "",
           "title": {
            "standoff": 15
           },
           "zerolinecolor": "white"
          }
         }
        },
        "title": {
         "font": {
          "family": "Arial",
          "size": 24
         },
         "text": "<b>Temas + Falados - Operadoras</b>",
         "x": 0.5,
         "xanchor": "center",
         "y": 0.9
        },
        "width": 700,
        "xaxis": {
         "anchor": "y",
         "domain": [
          0,
          1
         ],
         "range": [
          -200,
          2400
         ],
         "title": {
          "text": "Qtd Comentários"
         }
        },
        "yaxis": {
         "anchor": "x",
         "domain": [
          0,
          1
         ],
         "range": [
          -0.8,
          0.2
         ],
         "title": {
          "text": "Sentimento"
         }
        }
       }
      }
     },
     "metadata": {},
     "output_type": "display_data"
    }
   ],
   "source": [
    "fig = px.scatter(\n",
    "    df_tema,\n",
    "    x=\"volume\",\n",
    "    y=\"sentimento_medio\",\n",
    "    size=\"tamanho\",\n",
    "    color=\"sentimento_medio\",\n",
    "    symbol='app',\n",
    "    text=\"tema_manual_abreviado\",\n",
    "    color_continuous_scale= [\"#F74A4A\", '#FFFB00', '#4CAF50'],\n",
    "    range_y=[-0.8, 0.2],\n",
    "    range_x=[-200, 2400],\n",
    "    title=\"<b>Temas + Falados - Operadoras</b>\"\n",
    ")\n",
    "\n",
    "# Ajustes visuais\n",
    "fig.update_traces(textposition='top center')\n",
    "fig.update_layout(\n",
    "    width=700,\n",
    "    height=700,\n",
    "    xaxis_title=\"Qtd Comentários\",\n",
    "    yaxis_title=\"Sentimento\",\n",
    "    coloraxis_colorbar=dict(title=\"Sentimento\"),\n",
    "    coloraxis=dict(cmin=-1, cmax=1),\n",
    "    template=\"seaborn\",\n",
    "    title={'font':{\n",
    "            'size': 24,\n",
    "            'family': 'Arial'},\n",
    "        'x': 0.5,\n",
    "        'xanchor': 'center',\n",
    "        'y': 0.9,\n",
    "    },\n",
    "    legend_title_text='Operadora',\n",
    "    legend=dict(\n",
    "        orientation=\"v\",\n",
    "        yanchor=\"bottom\",\n",
    "        y=0.835,\n",
    "        xanchor=\"center\",\n",
    "        x=0.075,\n",
    "        font=dict(size=12))\n",
    ")\n",
    "\n",
    "fig.show()"
   ]
  },
  {
   "cell_type": "markdown",
   "id": "431c3c1f",
   "metadata": {},
   "source": [
    "## Claro"
   ]
  },
  {
   "cell_type": "code",
   "execution_count": 26,
   "id": "29599a42",
   "metadata": {},
   "outputs": [
    {
     "data": {
      "application/vnd.plotly.v1+json": {
       "config": {
        "plotlyServerURL": "https://plot.ly"
       },
       "data": [
        {
         "hovertemplate": "volume=%{x}<br>sentimento_medio=%{marker.color}<br>tamanho=%{marker.size}<br>tema_manual=%{text}<extra></extra>",
         "legendgroup": "",
         "marker": {
          "color": {
           "bdata": "pgKI2VHYoz/E4W2JA9LLv1FuHGfcqdO/GmHqqjX24L/a8PxV2SHKv3kY27D5weC/1H7S5Z634r9EaYf2QyaqP8mzpDoTScC/dYvUXMpw3b8=",
           "dtype": "f8"
          },
          "coloraxis": "coloraxis",
          "size": {
           "bdata": "BLUAAFwmAACkPQAAgEgAAPhmAAB8MwAAhAgAADifAADgUQAAFBQAAA==",
           "dtype": "i4"
          },
          "sizemode": "area",
          "sizeref": 115.85,
          "symbol": "circle"
         },
         "mode": "markers+text",
         "name": "",
         "orientation": "v",
         "showlegend": false,
         "text": [
          "App",
          "Atendimento",
          "Conta",
          "Desempenho",
          "Internet",
          "Login",
          "Notificações",
          "Operadora",
          "Plano",
          "Usabilidade"
         ],
         "textposition": "top center",
         "type": "scatter",
         "x": {
          "bdata": "DQnrARUDoAMmBZMCbQD2BxgEAQE=",
          "dtype": "i2"
         },
         "xaxis": "x",
         "y": {
          "bdata": "pgKI2VHYoz/E4W2JA9LLv1FuHGfcqdO/GmHqqjX24L/a8PxV2SHKv3kY27D5weC/1H7S5Z634r9EaYf2QyaqP8mzpDoTScC/dYvUXMpw3b8=",
          "dtype": "f8"
         },
         "yaxis": "y"
        }
       ],
       "layout": {
        "coloraxis": {
         "cmax": 1,
         "cmin": -1,
         "colorbar": {
          "title": {
           "text": "Sentimento"
          }
         },
         "colorscale": [
          [
           0,
           "#F74A4A"
          ],
          [
           0.5,
           "#FFFB00"
          ],
          [
           1,
           "#4CAF50"
          ]
         ]
        },
        "height": 700,
        "legend": {
         "itemsizing": "constant",
         "tracegroupgap": 0
        },
        "template": {
         "data": {
          "bar": [
           {
            "error_x": {
             "color": "rgb(36,36,36)"
            },
            "error_y": {
             "color": "rgb(36,36,36)"
            },
            "marker": {
             "line": {
              "color": "rgb(234,234,242)",
              "width": 0.5
             },
             "pattern": {
              "fillmode": "overlay",
              "size": 10,
              "solidity": 0.2
             }
            },
            "type": "bar"
           }
          ],
          "barpolar": [
           {
            "marker": {
             "line": {
              "color": "rgb(234,234,242)",
              "width": 0.5
             },
             "pattern": {
              "fillmode": "overlay",
              "size": 10,
              "solidity": 0.2
             }
            },
            "type": "barpolar"
           }
          ],
          "carpet": [
           {
            "aaxis": {
             "endlinecolor": "rgb(36,36,36)",
             "gridcolor": "white",
             "linecolor": "white",
             "minorgridcolor": "white",
             "startlinecolor": "rgb(36,36,36)"
            },
            "baxis": {
             "endlinecolor": "rgb(36,36,36)",
             "gridcolor": "white",
             "linecolor": "white",
             "minorgridcolor": "white",
             "startlinecolor": "rgb(36,36,36)"
            },
            "type": "carpet"
           }
          ],
          "choropleth": [
           {
            "colorbar": {
             "outlinewidth": 0,
             "tickcolor": "rgb(36,36,36)",
             "ticklen": 8,
             "ticks": "outside",
             "tickwidth": 2
            },
            "type": "choropleth"
           }
          ],
          "contour": [
           {
            "colorbar": {
             "outlinewidth": 0,
             "tickcolor": "rgb(36,36,36)",
             "ticklen": 8,
             "ticks": "outside",
             "tickwidth": 2
            },
            "colorscale": [
             [
              0,
              "rgb(2,4,25)"
             ],
             [
              0.06274509803921569,
              "rgb(24,15,41)"
             ],
             [
              0.12549019607843137,
              "rgb(47,23,57)"
             ],
             [
              0.18823529411764706,
              "rgb(71,28,72)"
             ],
             [
              0.25098039215686274,
              "rgb(97,30,82)"
             ],
             [
              0.3137254901960784,
              "rgb(123,30,89)"
             ],
             [
              0.3764705882352941,
              "rgb(150,27,91)"
             ],
             [
              0.4392156862745098,
              "rgb(177,22,88)"
             ],
             [
              0.5019607843137255,
              "rgb(203,26,79)"
             ],
             [
              0.5647058823529412,
              "rgb(223,47,67)"
             ],
             [
              0.6274509803921569,
              "rgb(236,76,61)"
             ],
             [
              0.6901960784313725,
              "rgb(242,107,73)"
             ],
             [
              0.7529411764705882,
              "rgb(244,135,95)"
             ],
             [
              0.8156862745098039,
              "rgb(245,162,122)"
             ],
             [
              0.8784313725490196,
              "rgb(246,188,153)"
             ],
             [
              0.9411764705882353,
              "rgb(247,212,187)"
             ],
             [
              1,
              "rgb(250,234,220)"
             ]
            ],
            "type": "contour"
           }
          ],
          "contourcarpet": [
           {
            "colorbar": {
             "outlinewidth": 0,
             "tickcolor": "rgb(36,36,36)",
             "ticklen": 8,
             "ticks": "outside",
             "tickwidth": 2
            },
            "type": "contourcarpet"
           }
          ],
          "heatmap": [
           {
            "colorbar": {
             "outlinewidth": 0,
             "tickcolor": "rgb(36,36,36)",
             "ticklen": 8,
             "ticks": "outside",
             "tickwidth": 2
            },
            "colorscale": [
             [
              0,
              "rgb(2,4,25)"
             ],
             [
              0.06274509803921569,
              "rgb(24,15,41)"
             ],
             [
              0.12549019607843137,
              "rgb(47,23,57)"
             ],
             [
              0.18823529411764706,
              "rgb(71,28,72)"
             ],
             [
              0.25098039215686274,
              "rgb(97,30,82)"
             ],
             [
              0.3137254901960784,
              "rgb(123,30,89)"
             ],
             [
              0.3764705882352941,
              "rgb(150,27,91)"
             ],
             [
              0.4392156862745098,
              "rgb(177,22,88)"
             ],
             [
              0.5019607843137255,
              "rgb(203,26,79)"
             ],
             [
              0.5647058823529412,
              "rgb(223,47,67)"
             ],
             [
              0.6274509803921569,
              "rgb(236,76,61)"
             ],
             [
              0.6901960784313725,
              "rgb(242,107,73)"
             ],
             [
              0.7529411764705882,
              "rgb(244,135,95)"
             ],
             [
              0.8156862745098039,
              "rgb(245,162,122)"
             ],
             [
              0.8784313725490196,
              "rgb(246,188,153)"
             ],
             [
              0.9411764705882353,
              "rgb(247,212,187)"
             ],
             [
              1,
              "rgb(250,234,220)"
             ]
            ],
            "type": "heatmap"
           }
          ],
          "histogram": [
           {
            "marker": {
             "pattern": {
              "fillmode": "overlay",
              "size": 10,
              "solidity": 0.2
             }
            },
            "type": "histogram"
           }
          ],
          "histogram2d": [
           {
            "colorbar": {
             "outlinewidth": 0,
             "tickcolor": "rgb(36,36,36)",
             "ticklen": 8,
             "ticks": "outside",
             "tickwidth": 2
            },
            "colorscale": [
             [
              0,
              "rgb(2,4,25)"
             ],
             [
              0.06274509803921569,
              "rgb(24,15,41)"
             ],
             [
              0.12549019607843137,
              "rgb(47,23,57)"
             ],
             [
              0.18823529411764706,
              "rgb(71,28,72)"
             ],
             [
              0.25098039215686274,
              "rgb(97,30,82)"
             ],
             [
              0.3137254901960784,
              "rgb(123,30,89)"
             ],
             [
              0.3764705882352941,
              "rgb(150,27,91)"
             ],
             [
              0.4392156862745098,
              "rgb(177,22,88)"
             ],
             [
              0.5019607843137255,
              "rgb(203,26,79)"
             ],
             [
              0.5647058823529412,
              "rgb(223,47,67)"
             ],
             [
              0.6274509803921569,
              "rgb(236,76,61)"
             ],
             [
              0.6901960784313725,
              "rgb(242,107,73)"
             ],
             [
              0.7529411764705882,
              "rgb(244,135,95)"
             ],
             [
              0.8156862745098039,
              "rgb(245,162,122)"
             ],
             [
              0.8784313725490196,
              "rgb(246,188,153)"
             ],
             [
              0.9411764705882353,
              "rgb(247,212,187)"
             ],
             [
              1,
              "rgb(250,234,220)"
             ]
            ],
            "type": "histogram2d"
           }
          ],
          "histogram2dcontour": [
           {
            "colorbar": {
             "outlinewidth": 0,
             "tickcolor": "rgb(36,36,36)",
             "ticklen": 8,
             "ticks": "outside",
             "tickwidth": 2
            },
            "colorscale": [
             [
              0,
              "rgb(2,4,25)"
             ],
             [
              0.06274509803921569,
              "rgb(24,15,41)"
             ],
             [
              0.12549019607843137,
              "rgb(47,23,57)"
             ],
             [
              0.18823529411764706,
              "rgb(71,28,72)"
             ],
             [
              0.25098039215686274,
              "rgb(97,30,82)"
             ],
             [
              0.3137254901960784,
              "rgb(123,30,89)"
             ],
             [
              0.3764705882352941,
              "rgb(150,27,91)"
             ],
             [
              0.4392156862745098,
              "rgb(177,22,88)"
             ],
             [
              0.5019607843137255,
              "rgb(203,26,79)"
             ],
             [
              0.5647058823529412,
              "rgb(223,47,67)"
             ],
             [
              0.6274509803921569,
              "rgb(236,76,61)"
             ],
             [
              0.6901960784313725,
              "rgb(242,107,73)"
             ],
             [
              0.7529411764705882,
              "rgb(244,135,95)"
             ],
             [
              0.8156862745098039,
              "rgb(245,162,122)"
             ],
             [
              0.8784313725490196,
              "rgb(246,188,153)"
             ],
             [
              0.9411764705882353,
              "rgb(247,212,187)"
             ],
             [
              1,
              "rgb(250,234,220)"
             ]
            ],
            "type": "histogram2dcontour"
           }
          ],
          "mesh3d": [
           {
            "colorbar": {
             "outlinewidth": 0,
             "tickcolor": "rgb(36,36,36)",
             "ticklen": 8,
             "ticks": "outside",
             "tickwidth": 2
            },
            "type": "mesh3d"
           }
          ],
          "parcoords": [
           {
            "line": {
             "colorbar": {
              "outlinewidth": 0,
              "tickcolor": "rgb(36,36,36)",
              "ticklen": 8,
              "ticks": "outside",
              "tickwidth": 2
             }
            },
            "type": "parcoords"
           }
          ],
          "pie": [
           {
            "automargin": true,
            "type": "pie"
           }
          ],
          "scatter": [
           {
            "fillpattern": {
             "fillmode": "overlay",
             "size": 10,
             "solidity": 0.2
            },
            "type": "scatter"
           }
          ],
          "scatter3d": [
           {
            "line": {
             "colorbar": {
              "outlinewidth": 0,
              "tickcolor": "rgb(36,36,36)",
              "ticklen": 8,
              "ticks": "outside",
              "tickwidth": 2
             }
            },
            "marker": {
             "colorbar": {
              "outlinewidth": 0,
              "tickcolor": "rgb(36,36,36)",
              "ticklen": 8,
              "ticks": "outside",
              "tickwidth": 2
             }
            },
            "type": "scatter3d"
           }
          ],
          "scattercarpet": [
           {
            "marker": {
             "colorbar": {
              "outlinewidth": 0,
              "tickcolor": "rgb(36,36,36)",
              "ticklen": 8,
              "ticks": "outside",
              "tickwidth": 2
             }
            },
            "type": "scattercarpet"
           }
          ],
          "scattergeo": [
           {
            "marker": {
             "colorbar": {
              "outlinewidth": 0,
              "tickcolor": "rgb(36,36,36)",
              "ticklen": 8,
              "ticks": "outside",
              "tickwidth": 2
             }
            },
            "type": "scattergeo"
           }
          ],
          "scattergl": [
           {
            "marker": {
             "colorbar": {
              "outlinewidth": 0,
              "tickcolor": "rgb(36,36,36)",
              "ticklen": 8,
              "ticks": "outside",
              "tickwidth": 2
             }
            },
            "type": "scattergl"
           }
          ],
          "scattermap": [
           {
            "marker": {
             "colorbar": {
              "outlinewidth": 0,
              "tickcolor": "rgb(36,36,36)",
              "ticklen": 8,
              "ticks": "outside",
              "tickwidth": 2
             }
            },
            "type": "scattermap"
           }
          ],
          "scattermapbox": [
           {
            "marker": {
             "colorbar": {
              "outlinewidth": 0,
              "tickcolor": "rgb(36,36,36)",
              "ticklen": 8,
              "ticks": "outside",
              "tickwidth": 2
             }
            },
            "type": "scattermapbox"
           }
          ],
          "scatterpolar": [
           {
            "marker": {
             "colorbar": {
              "outlinewidth": 0,
              "tickcolor": "rgb(36,36,36)",
              "ticklen": 8,
              "ticks": "outside",
              "tickwidth": 2
             }
            },
            "type": "scatterpolar"
           }
          ],
          "scatterpolargl": [
           {
            "marker": {
             "colorbar": {
              "outlinewidth": 0,
              "tickcolor": "rgb(36,36,36)",
              "ticklen": 8,
              "ticks": "outside",
              "tickwidth": 2
             }
            },
            "type": "scatterpolargl"
           }
          ],
          "scatterternary": [
           {
            "marker": {
             "colorbar": {
              "outlinewidth": 0,
              "tickcolor": "rgb(36,36,36)",
              "ticklen": 8,
              "ticks": "outside",
              "tickwidth": 2
             }
            },
            "type": "scatterternary"
           }
          ],
          "surface": [
           {
            "colorbar": {
             "outlinewidth": 0,
             "tickcolor": "rgb(36,36,36)",
             "ticklen": 8,
             "ticks": "outside",
             "tickwidth": 2
            },
            "colorscale": [
             [
              0,
              "rgb(2,4,25)"
             ],
             [
              0.06274509803921569,
              "rgb(24,15,41)"
             ],
             [
              0.12549019607843137,
              "rgb(47,23,57)"
             ],
             [
              0.18823529411764706,
              "rgb(71,28,72)"
             ],
             [
              0.25098039215686274,
              "rgb(97,30,82)"
             ],
             [
              0.3137254901960784,
              "rgb(123,30,89)"
             ],
             [
              0.3764705882352941,
              "rgb(150,27,91)"
             ],
             [
              0.4392156862745098,
              "rgb(177,22,88)"
             ],
             [
              0.5019607843137255,
              "rgb(203,26,79)"
             ],
             [
              0.5647058823529412,
              "rgb(223,47,67)"
             ],
             [
              0.6274509803921569,
              "rgb(236,76,61)"
             ],
             [
              0.6901960784313725,
              "rgb(242,107,73)"
             ],
             [
              0.7529411764705882,
              "rgb(244,135,95)"
             ],
             [
              0.8156862745098039,
              "rgb(245,162,122)"
             ],
             [
              0.8784313725490196,
              "rgb(246,188,153)"
             ],
             [
              0.9411764705882353,
              "rgb(247,212,187)"
             ],
             [
              1,
              "rgb(250,234,220)"
             ]
            ],
            "type": "surface"
           }
          ],
          "table": [
           {
            "cells": {
             "fill": {
              "color": "rgb(231,231,240)"
             },
             "line": {
              "color": "white"
             }
            },
            "header": {
             "fill": {
              "color": "rgb(183,183,191)"
             },
             "line": {
              "color": "white"
             }
            },
            "type": "table"
           }
          ]
         },
         "layout": {
          "annotationdefaults": {
           "arrowcolor": "rgb(67,103,167)"
          },
          "autotypenumbers": "strict",
          "coloraxis": {
           "colorbar": {
            "outlinewidth": 0,
            "tickcolor": "rgb(36,36,36)",
            "ticklen": 8,
            "ticks": "outside",
            "tickwidth": 2
           }
          },
          "colorscale": {
           "sequential": [
            [
             0,
             "rgb(2,4,25)"
            ],
            [
             0.06274509803921569,
             "rgb(24,15,41)"
            ],
            [
             0.12549019607843137,
             "rgb(47,23,57)"
            ],
            [
             0.18823529411764706,
             "rgb(71,28,72)"
            ],
            [
             0.25098039215686274,
             "rgb(97,30,82)"
            ],
            [
             0.3137254901960784,
             "rgb(123,30,89)"
            ],
            [
             0.3764705882352941,
             "rgb(150,27,91)"
            ],
            [
             0.4392156862745098,
             "rgb(177,22,88)"
            ],
            [
             0.5019607843137255,
             "rgb(203,26,79)"
            ],
            [
             0.5647058823529412,
             "rgb(223,47,67)"
            ],
            [
             0.6274509803921569,
             "rgb(236,76,61)"
            ],
            [
             0.6901960784313725,
             "rgb(242,107,73)"
            ],
            [
             0.7529411764705882,
             "rgb(244,135,95)"
            ],
            [
             0.8156862745098039,
             "rgb(245,162,122)"
            ],
            [
             0.8784313725490196,
             "rgb(246,188,153)"
            ],
            [
             0.9411764705882353,
             "rgb(247,212,187)"
            ],
            [
             1,
             "rgb(250,234,220)"
            ]
           ],
           "sequentialminus": [
            [
             0,
             "rgb(2,4,25)"
            ],
            [
             0.06274509803921569,
             "rgb(24,15,41)"
            ],
            [
             0.12549019607843137,
             "rgb(47,23,57)"
            ],
            [
             0.18823529411764706,
             "rgb(71,28,72)"
            ],
            [
             0.25098039215686274,
             "rgb(97,30,82)"
            ],
            [
             0.3137254901960784,
             "rgb(123,30,89)"
            ],
            [
             0.3764705882352941,
             "rgb(150,27,91)"
            ],
            [
             0.4392156862745098,
             "rgb(177,22,88)"
            ],
            [
             0.5019607843137255,
             "rgb(203,26,79)"
            ],
            [
             0.5647058823529412,
             "rgb(223,47,67)"
            ],
            [
             0.6274509803921569,
             "rgb(236,76,61)"
            ],
            [
             0.6901960784313725,
             "rgb(242,107,73)"
            ],
            [
             0.7529411764705882,
             "rgb(244,135,95)"
            ],
            [
             0.8156862745098039,
             "rgb(245,162,122)"
            ],
            [
             0.8784313725490196,
             "rgb(246,188,153)"
            ],
            [
             0.9411764705882353,
             "rgb(247,212,187)"
            ],
            [
             1,
             "rgb(250,234,220)"
            ]
           ]
          },
          "colorway": [
           "rgb(76,114,176)",
           "rgb(221,132,82)",
           "rgb(85,168,104)",
           "rgb(196,78,82)",
           "rgb(129,114,179)",
           "rgb(147,120,96)",
           "rgb(218,139,195)",
           "rgb(140,140,140)",
           "rgb(204,185,116)",
           "rgb(100,181,205)"
          ],
          "font": {
           "color": "rgb(36,36,36)"
          },
          "geo": {
           "bgcolor": "white",
           "lakecolor": "white",
           "landcolor": "rgb(234,234,242)",
           "showlakes": true,
           "showland": true,
           "subunitcolor": "white"
          },
          "hoverlabel": {
           "align": "left"
          },
          "hovermode": "closest",
          "paper_bgcolor": "white",
          "plot_bgcolor": "rgb(234,234,242)",
          "polar": {
           "angularaxis": {
            "gridcolor": "white",
            "linecolor": "white",
            "showgrid": true,
            "ticks": ""
           },
           "bgcolor": "rgb(234,234,242)",
           "radialaxis": {
            "gridcolor": "white",
            "linecolor": "white",
            "showgrid": true,
            "ticks": ""
           }
          },
          "scene": {
           "xaxis": {
            "backgroundcolor": "rgb(234,234,242)",
            "gridcolor": "white",
            "gridwidth": 2,
            "linecolor": "white",
            "showbackground": true,
            "showgrid": true,
            "ticks": "",
            "zerolinecolor": "white"
           },
           "yaxis": {
            "backgroundcolor": "rgb(234,234,242)",
            "gridcolor": "white",
            "gridwidth": 2,
            "linecolor": "white",
            "showbackground": true,
            "showgrid": true,
            "ticks": "",
            "zerolinecolor": "white"
           },
           "zaxis": {
            "backgroundcolor": "rgb(234,234,242)",
            "gridcolor": "white",
            "gridwidth": 2,
            "linecolor": "white",
            "showbackground": true,
            "showgrid": true,
            "ticks": "",
            "zerolinecolor": "white"
           }
          },
          "shapedefaults": {
           "fillcolor": "rgb(67,103,167)",
           "line": {
            "width": 0
           },
           "opacity": 0.5
          },
          "ternary": {
           "aaxis": {
            "gridcolor": "white",
            "linecolor": "white",
            "showgrid": true,
            "ticks": ""
           },
           "baxis": {
            "gridcolor": "white",
            "linecolor": "white",
            "showgrid": true,
            "ticks": ""
           },
           "bgcolor": "rgb(234,234,242)",
           "caxis": {
            "gridcolor": "white",
            "linecolor": "white",
            "showgrid": true,
            "ticks": ""
           }
          },
          "xaxis": {
           "automargin": true,
           "gridcolor": "white",
           "linecolor": "white",
           "showgrid": true,
           "ticks": "",
           "title": {
            "standoff": 15
           },
           "zerolinecolor": "white"
          },
          "yaxis": {
           "automargin": true,
           "gridcolor": "white",
           "linecolor": "white",
           "showgrid": true,
           "ticks": "",
           "title": {
            "standoff": 15
           },
           "zerolinecolor": "white"
          }
         }
        },
        "title": {
         "font": {
          "family": "Arial",
          "size": 24
         },
         "text": "<b>Temas + Falados - Claro</b>",
         "x": 0.5,
         "xanchor": "center",
         "y": 0.9
        },
        "width": 700,
        "xaxis": {
         "anchor": "y",
         "domain": [
          0,
          1
         ],
         "range": [
          -200,
          2500
         ],
         "title": {
          "text": "Qtd Comentários"
         }
        },
        "yaxis": {
         "anchor": "x",
         "domain": [
          0,
          1
         ],
         "range": [
          -1,
          1
         ],
         "title": {
          "text": "Sentimento"
         }
        }
       }
      }
     },
     "metadata": {},
     "output_type": "display_data"
    }
   ],
   "source": [
    "df_claro = df_explodido[df_explodido[\"app\"] == \"Claro\"]\n",
    "\n",
    "#Agrupamento por tema\n",
    "df_tema = df_claro.groupby('tema_manual').agg(\n",
    "    volume=('tema_manual', 'count'),\n",
    "    sentimento_medio=('sentimento_continuo', 'mean')\n",
    ").reset_index()\n",
    "\n",
    "# Normaliza o volume para tamanho dos pontos no gráfico\n",
    "df_tema['tamanho'] = df_tema['volume'] * 20\n",
    "\n",
    "fig = px.scatter(\n",
    "    df_tema,\n",
    "    x=\"volume\",\n",
    "    y=\"sentimento_medio\",\n",
    "    size=\"tamanho\",\n",
    "    color=\"sentimento_medio\",\n",
    "    text=\"tema_manual\",\n",
    "    color_continuous_scale= [\"#F74A4A\", '#FFFB00', '#4CAF50'],\n",
    "    range_y=[-1, 1],\n",
    "    range_x=[-200, 2500],\n",
    "    title=\"<b>Temas + Falados - Claro</b>\"\n",
    ")\n",
    "\n",
    "# Ajustes visuais\n",
    "fig.update_traces(textposition='top center')\n",
    "fig.update_layout(\n",
    "    width=700,\n",
    "    height=700,\n",
    "    xaxis_title=\"Qtd Comentários\",\n",
    "    yaxis_title=\"Sentimento\",\n",
    "    coloraxis_colorbar=dict(title=\"Sentimento\"),\n",
    "    coloraxis=dict(cmin=-1, cmax=1),\n",
    "    template=\"seaborn\",\n",
    "    title={'font':{\n",
    "            'size': 24,\n",
    "            'family': 'Arial'},\n",
    "        'x': 0.5,\n",
    "        'xanchor': 'center',\n",
    "        'y': 0.9,\n",
    "    }\n",
    ")\n",
    "\n",
    "fig.show()"
   ]
  },
  {
   "cell_type": "code",
   "execution_count": 42,
   "id": "e50c4469",
   "metadata": {},
   "outputs": [
    {
     "data": {
      "text/html": [
       "<div>\n",
       "<style scoped>\n",
       "    .dataframe tbody tr th:only-of-type {\n",
       "        vertical-align: middle;\n",
       "    }\n",
       "\n",
       "    .dataframe tbody tr th {\n",
       "        vertical-align: top;\n",
       "    }\n",
       "\n",
       "    .dataframe thead th {\n",
       "        text-align: right;\n",
       "    }\n",
       "</style>\n",
       "<table border=\"1\" class=\"dataframe\">\n",
       "  <thead>\n",
       "    <tr style=\"text-align: right;\">\n",
       "      <th></th>\n",
       "      <th>content</th>\n",
       "      <th>sentiment_NEG</th>\n",
       "    </tr>\n",
       "  </thead>\n",
       "  <tbody>\n",
       "    <tr>\n",
       "      <th>15</th>\n",
       "      <td>A atualização estou dazerdo agora não vou opinar. mas os serviços da Claro foram nota zero, de claro não tem nada.</td>\n",
       "      <td>0.967428</td>\n",
       "    </tr>\n",
       "    <tr>\n",
       "      <th>21</th>\n",
       "      <td>não tô conseguindo acessar o app tá dando erro</td>\n",
       "      <td>0.837974</td>\n",
       "    </tr>\n",
       "    <tr>\n",
       "      <th>37</th>\n",
       "      <td>ruim, apresenta erro direto...</td>\n",
       "      <td>0.980942</td>\n",
       "    </tr>\n",
       "    <tr>\n",
       "      <th>53</th>\n",
       "      <td>inadmissível o serviço da Claro péssimo. a light retira um poste e causa a ruptura do meu serviço de internet e tv a cabo , e já são uma semana , a cada dia dão. parecer diferente , não dão a opção de um técnico para vir resolver o problema. dizem que está resolvendo e é enganoso a informação. pois já vai para uma semana . essa empresa não cumpre com sua palavra . uma vergonha. a Net era muito melhor que a claro não</td>\n",
       "      <td>0.989120</td>\n",
       "    </tr>\n",
       "    <tr>\n",
       "      <th>91</th>\n",
       "      <td>Claro -Bauru sp perturbando com ligações indesejadas. Burlando o sistema do \"não me pertuebe \" Internet lenta, rápida só no consumo . YouTube consumindo toda Internet. Prezão YouTube 3Gb, somente para \"devorar\" sua Internet. A operadora claro continua devorando Internet dos clientes através desse YouTube 3gb. Claro papa internet</td>\n",
       "      <td>0.900400</td>\n",
       "    </tr>\n",
       "    <tr>\n",
       "      <th>105</th>\n",
       "      <td>Experiência muito ruim, é muito lento o meu wi -fi . No aplicativo aparece tudo bem, mas continua travando e o pior , para solicitar o técnico, preciso pagar .</td>\n",
       "      <td>0.975513</td>\n",
       "    </tr>\n",
       "    <tr>\n",
       "      <th>106</th>\n",
       "      <td>O APP está travando na tela da promoção impedindo que consiga fazer a recarga. Já atualizei, reinstalei e contínua dando este erro.</td>\n",
       "      <td>0.853088</td>\n",
       "    </tr>\n",
       "    <tr>\n",
       "      <th>142</th>\n",
       "      <td>Aplicativo lento e ultrapassado, mas o pior é a postura da operadora que envia mensagem que irá cortar linha sendo que fatura está paga, inclusive com tal informação já no aplicativo. A postura inaceitável me levou a fazer portabilidade para a TIM.</td>\n",
       "      <td>0.987966</td>\n",
       "    </tr>\n",
       "    <tr>\n",
       "      <th>161</th>\n",
       "      <td>o app está bugando, está horrível, coloco login e senha e fica girando e não sai disso, não consigo ter acesso ao app. péssimo</td>\n",
       "      <td>0.988710</td>\n",
       "    </tr>\n",
       "    <tr>\n",
       "      <th>166</th>\n",
       "      <td>Serviço horrível e app pior ainda, cada vez mais lento e ineficaz.</td>\n",
       "      <td>0.993584</td>\n",
       "    </tr>\n",
       "    <tr>\n",
       "      <th>206</th>\n",
       "      <td>app era bom, mais há dias está travado em uma tela sem funcionar</td>\n",
       "      <td>0.973365</td>\n",
       "    </tr>\n",
       "    <tr>\n",
       "      <th>232</th>\n",
       "      <td>o app está péssimo quando vou fazer login não reconhece meus dados! só aparece que tem instabilidade, não encontra os dados e não cumpre o que promete</td>\n",
       "      <td>0.972249</td>\n",
       "    </tr>\n",
       "    <tr>\n",
       "      <th>271</th>\n",
       "      <td>desde que instalei a claro não consigo pegar fatura para pagar ,não me mandam a fatura nem no imail nem pelk app,tenho muito problema para pagar pois a fatura não tem como pagar, estou muito triste! por enquanto é única reclamação que me entristece!!</td>\n",
       "      <td>0.876512</td>\n",
       "    </tr>\n",
       "    <tr>\n",
       "      <th>308</th>\n",
       "      <td>Esse lixo desse app! Toda vez fica dando erro para entrar, burocracia do crlh para ter que acessar algo que tinha que ser mais fácil. Nem operadora sabe tratar cliente!</td>\n",
       "      <td>0.984969</td>\n",
       "    </tr>\n",
       "    <tr>\n",
       "      <th>316</th>\n",
       "      <td>Ops... tivemos um problema. Deixo o aplicativo sempre logado, visto que logar por senha ou reconhecimento de chip é um verdadeiro inferno. Aplicativo muito ruim.</td>\n",
       "      <td>0.985046</td>\n",
       "    </tr>\n",
       "  </tbody>\n",
       "</table>\n",
       "</div>"
      ],
      "text/plain": [
       "                                                                                                                                                                                                                                                                                                                                                                                                                                 content  \\\n",
       "15                                                                                                                                                                                                                                                                                                                    A atualização estou dazerdo agora não vou opinar. mas os serviços da Claro foram nota zero, de claro não tem nada.   \n",
       "21                                                                                                                                                                                                                                                                                                                                                                                        não tô conseguindo acessar o app tá dando erro   \n",
       "37                                                                                                                                                                                                                                                                                                                                                                                                        ruim, apresenta erro direto...   \n",
       "53   inadmissível o serviço da Claro péssimo. a light retira um poste e causa a ruptura do meu serviço de internet e tv a cabo , e já são uma semana , a cada dia dão. parecer diferente , não dão a opção de um técnico para vir resolver o problema. dizem que está resolvendo e é enganoso a informação. pois já vai para uma semana . essa empresa não cumpre com sua palavra . uma vergonha. a Net era muito melhor que a claro não   \n",
       "91                                                                                            Claro -Bauru sp perturbando com ligações indesejadas. Burlando o sistema do \"não me pertuebe \" Internet lenta, rápida só no consumo . YouTube consumindo toda Internet. Prezão YouTube 3Gb, somente para \"devorar\" sua Internet. A operadora claro continua devorando Internet dos clientes através desse YouTube 3gb. Claro papa internet   \n",
       "105                                                                                                                                                                                                                                                                      Experiência muito ruim, é muito lento o meu wi -fi . No aplicativo aparece tudo bem, mas continua travando e o pior , para solicitar o técnico, preciso pagar .   \n",
       "106                                                                                                                                                                                                                                                                                                  O APP está travando na tela da promoção impedindo que consiga fazer a recarga. Já atualizei, reinstalei e contínua dando este erro.   \n",
       "142                                                                                                                                                                             Aplicativo lento e ultrapassado, mas o pior é a postura da operadora que envia mensagem que irá cortar linha sendo que fatura está paga, inclusive com tal informação já no aplicativo. A postura inaceitável me levou a fazer portabilidade para a TIM.   \n",
       "161                                                                                                                                                                                                                                                                                                       o app está bugando, está horrível, coloco login e senha e fica girando e não sai disso, não consigo ter acesso ao app. péssimo   \n",
       "166                                                                                                                                                                                                                                                                                                                                                                   Serviço horrível e app pior ainda, cada vez mais lento e ineficaz.   \n",
       "206                                                                                                                                                                                                                                                                                                                                                                     app era bom, mais há dias está travado em uma tela sem funcionar   \n",
       "232                                                                                                                                                                                                                                                                               o app está péssimo quando vou fazer login não reconhece meus dados! só aparece que tem instabilidade, não encontra os dados e não cumpre o que promete   \n",
       "271                                                                                                                                                                           desde que instalei a claro não consigo pegar fatura para pagar ,não me mandam a fatura nem no imail nem pelk app,tenho muito problema para pagar pois a fatura não tem como pagar, estou muito triste! por enquanto é única reclamação que me entristece!!   \n",
       "308                                                                                                                                                                                                                                                             Esse lixo desse app! Toda vez fica dando erro para entrar, burocracia do crlh para ter que acessar algo que tinha que ser mais fácil. Nem operadora sabe tratar cliente!   \n",
       "316                                                                                                                                                                                                                                                                    Ops... tivemos um problema. Deixo o aplicativo sempre logado, visto que logar por senha ou reconhecimento de chip é um verdadeiro inferno. Aplicativo muito ruim.   \n",
       "\n",
       "     sentiment_NEG  \n",
       "15        0.967428  \n",
       "21        0.837974  \n",
       "37        0.980942  \n",
       "53        0.989120  \n",
       "91        0.900400  \n",
       "105       0.975513  \n",
       "106       0.853088  \n",
       "142       0.987966  \n",
       "161       0.988710  \n",
       "166       0.993584  \n",
       "206       0.973365  \n",
       "232       0.972249  \n",
       "271       0.876512  \n",
       "308       0.984969  \n",
       "316       0.985046  "
      ]
     },
     "execution_count": 42,
     "metadata": {},
     "output_type": "execute_result"
    }
   ],
   "source": [
    "#Sentimento Negativo\n",
    "operadora = df[\"app\"]==\"Claro\"\n",
    "tema = df[\"tema_manual\"].apply(lambda x: isinstance(x, list) and \"Desempenho\" in x)\n",
    "sentimento = df[\"sentiment_NEG\"] > 0.8\n",
    "\n",
    "dados_filtrados = df[(operadora) & (tema) & (sentimento)]\n",
    "dados_filtrados[[\"content\", \"sentiment_NEG\"]].head(15)"
   ]
  },
  {
   "cell_type": "code",
   "execution_count": 43,
   "id": "86637b39",
   "metadata": {},
   "outputs": [
    {
     "data": {
      "text/html": [
       "<div>\n",
       "<style scoped>\n",
       "    .dataframe tbody tr th:only-of-type {\n",
       "        vertical-align: middle;\n",
       "    }\n",
       "\n",
       "    .dataframe tbody tr th {\n",
       "        vertical-align: top;\n",
       "    }\n",
       "\n",
       "    .dataframe thead th {\n",
       "        text-align: right;\n",
       "    }\n",
       "</style>\n",
       "<table border=\"1\" class=\"dataframe\">\n",
       "  <thead>\n",
       "    <tr style=\"text-align: right;\">\n",
       "      <th></th>\n",
       "      <th>content</th>\n",
       "      <th>sentiment_POS</th>\n",
       "    </tr>\n",
       "  </thead>\n",
       "  <tbody>\n",
       "    <tr>\n",
       "      <th>648</th>\n",
       "      <td>o aplicativo e ótimo,não trava e super ágil e facil de usar</td>\n",
       "      <td>0.988951</td>\n",
       "    </tr>\n",
       "    <tr>\n",
       "      <th>681</th>\n",
       "      <td>Excelente aplicativo. Melhorando a cada atualização.</td>\n",
       "      <td>0.992432</td>\n",
       "    </tr>\n",
       "    <tr>\n",
       "      <th>1183</th>\n",
       "      <td>muito bom o aplicativo resolve meus problemas.</td>\n",
       "      <td>0.839797</td>\n",
       "    </tr>\n",
       "    <tr>\n",
       "      <th>1382</th>\n",
       "      <td>o aplicativo é incrível mas as vezes ocorre um tipo de instabilidade para acessar automaticamente com a rede da Claro mas tirando isso é incrível você consegue saber tudo da sua linha e acompanhar o consumo.</td>\n",
       "      <td>0.965163</td>\n",
       "    </tr>\n",
       "    <tr>\n",
       "      <th>1471</th>\n",
       "      <td>perfeito para o Meu Uso sem Problemas Celular Wi-Fi TV.</td>\n",
       "      <td>0.989365</td>\n",
       "    </tr>\n",
       "    <tr>\n",
       "      <th>1513</th>\n",
       "      <td>excelente;o app é muito rápido e a solução de qualquer problema é resolvido de imediato .</td>\n",
       "      <td>0.989202</td>\n",
       "    </tr>\n",
       "    <tr>\n",
       "      <th>1806</th>\n",
       "      <td>ótimo aplicativo mais toda vez que vou pagar a fatura pede cartão de crédito eu sempre pago via Pix e outro problema não está aparecendo a opção de fatura para pagar a claro é uma excelente operadora mais vê se resolve esses problemas</td>\n",
       "      <td>0.946404</td>\n",
       "    </tr>\n",
       "    <tr>\n",
       "      <th>2019</th>\n",
       "      <td>ótimo serviço mas travou não consegui atualizar número de celular novo em uma opção do App .</td>\n",
       "      <td>0.916730</td>\n",
       "    </tr>\n",
       "    <tr>\n",
       "      <th>2023</th>\n",
       "      <td>O app é ótimo,faço meus pagamentos todo mês sem ter nenhum ripo de problema</td>\n",
       "      <td>0.969830</td>\n",
       "    </tr>\n",
       "    <tr>\n",
       "      <th>2380</th>\n",
       "      <td>cancelei uma visita técnica sem problemas e bem rapido. inesperadamente chegaram visitas em minha casa e precisava dar atenção. parabéns pela agilidade do serviço claronet. me surpreendeu.</td>\n",
       "      <td>0.947605</td>\n",
       "    </tr>\n",
       "    <tr>\n",
       "      <th>2721</th>\n",
       "      <td>melhor que na atualização passada, melhoraram</td>\n",
       "      <td>0.979225</td>\n",
       "    </tr>\n",
       "    <tr>\n",
       "      <th>2748</th>\n",
       "      <td>Sou Cliente Claro a 20 anos e não tenho do que reclamar! Estou satisfeita com os serviços oferecidos,nunca tive problemas com faturas ou outros tipos! Parabéns</td>\n",
       "      <td>0.881666</td>\n",
       "    </tr>\n",
       "    <tr>\n",
       "      <th>4678</th>\n",
       "      <td>As atualizações estão sendo bem satisfatórias</td>\n",
       "      <td>0.983714</td>\n",
       "    </tr>\n",
       "    <tr>\n",
       "      <th>4969</th>\n",
       "      <td>Aplicativo bem intuitivo, consigo resolver todos meus problemas por ele, de uma forma rápida e prática! Recomendo usarem, da para resolver até pagamento por ele.</td>\n",
       "      <td>0.858789</td>\n",
       "    </tr>\n",
       "    <tr>\n",
       "      <th>5419</th>\n",
       "      <td>Melhorou bastante nas últimas atualizações. Os técnicos estão de parabéns!</td>\n",
       "      <td>0.989854</td>\n",
       "    </tr>\n",
       "  </tbody>\n",
       "</table>\n",
       "</div>"
      ],
      "text/plain": [
       "                                                                                                                                                                                                                                         content  \\\n",
       "648                                                                                                                                                                                  o aplicativo e ótimo,não trava e super ágil e facil de usar   \n",
       "681                                                                                                                                                                                         Excelente aplicativo. Melhorando a cada atualização.   \n",
       "1183                                                                                                                                                                                              muito bom o aplicativo resolve meus problemas.   \n",
       "1382                             o aplicativo é incrível mas as vezes ocorre um tipo de instabilidade para acessar automaticamente com a rede da Claro mas tirando isso é incrível você consegue saber tudo da sua linha e acompanhar o consumo.   \n",
       "1471                                                                                                                                                                                     perfeito para o Meu Uso sem Problemas Celular Wi-Fi TV.   \n",
       "1513                                                                                                                                                   excelente;o app é muito rápido e a solução de qualquer problema é resolvido de imediato .   \n",
       "1806  ótimo aplicativo mais toda vez que vou pagar a fatura pede cartão de crédito eu sempre pago via Pix e outro problema não está aparecendo a opção de fatura para pagar a claro é uma excelente operadora mais vê se resolve esses problemas   \n",
       "2019                                                                                                                                                ótimo serviço mas travou não consegui atualizar número de celular novo em uma opção do App .   \n",
       "2023                                                                                                                                                                 O app é ótimo,faço meus pagamentos todo mês sem ter nenhum ripo de problema   \n",
       "2380                                                cancelei uma visita técnica sem problemas e bem rapido. inesperadamente chegaram visitas em minha casa e precisava dar atenção. parabéns pela agilidade do serviço claronet. me surpreendeu.   \n",
       "2721                                                                                                                                                                                               melhor que na atualização passada, melhoraram   \n",
       "2748                                                                             Sou Cliente Claro a 20 anos e não tenho do que reclamar! Estou satisfeita com os serviços oferecidos,nunca tive problemas com faturas ou outros tipos! Parabéns   \n",
       "4678                                                                                                                                                                                               As atualizações estão sendo bem satisfatórias   \n",
       "4969                                                                           Aplicativo bem intuitivo, consigo resolver todos meus problemas por ele, de uma forma rápida e prática! Recomendo usarem, da para resolver até pagamento por ele.   \n",
       "5419                                                                                                                                                                  Melhorou bastante nas últimas atualizações. Os técnicos estão de parabéns!   \n",
       "\n",
       "      sentiment_POS  \n",
       "648        0.988951  \n",
       "681        0.992432  \n",
       "1183       0.839797  \n",
       "1382       0.965163  \n",
       "1471       0.989365  \n",
       "1513       0.989202  \n",
       "1806       0.946404  \n",
       "2019       0.916730  \n",
       "2023       0.969830  \n",
       "2380       0.947605  \n",
       "2721       0.979225  \n",
       "2748       0.881666  \n",
       "4678       0.983714  \n",
       "4969       0.858789  \n",
       "5419       0.989854  "
      ]
     },
     "execution_count": 43,
     "metadata": {},
     "output_type": "execute_result"
    }
   ],
   "source": [
    "#Sentimento Positivo\n",
    "tema = df[\"tema_manual\"].apply(lambda x: isinstance(x, list) and \"Desempenho\" in x)\n",
    "sentimento = df[\"sentiment_POS\"] > 0.8\n",
    "\n",
    "dados_filtrados = df[(operadora) & (tema) & (sentimento)]\n",
    "dados_filtrados[[\"content\", \"sentiment_POS\"]].head(15)"
   ]
  },
  {
   "cell_type": "markdown",
   "id": "0bde1929",
   "metadata": {},
   "source": [
    "## TIM"
   ]
  },
  {
   "cell_type": "code",
   "execution_count": 15,
   "id": "071edc58",
   "metadata": {},
   "outputs": [
    {
     "data": {
      "application/vnd.plotly.v1+json": {
       "config": {
        "plotlyServerURL": "https://plot.ly"
       },
       "data": [
        {
         "hovertemplate": "volume=%{x}<br>sentimento_medio=%{marker.color}<br>tamanho=%{marker.size}<br>tema_manual=%{text}<extra></extra>",
         "legendgroup": "",
         "marker": {
          "color": {
           "bdata": "EtSrxhS84b8QqqtxCbvkv1mJU1vSg+K/nC75IQN45r+hw5qbJpTjv2OVT4mL++O/OmIA3MgO5b8x3ZLgnpvbvwk2yDPrkuG/cSvcQbPp5r8=",
           "dtype": "f8"
          },
          "coloraxis": "coloraxis",
          "size": {
           "bdata": "fF8BAERNAAB4oAAAZMgAAPCqAAAMXQAAlCAAAJzvAAAElwAAkDMAAA==",
           "dtype": "i4"
          },
          "sizemode": "area",
          "sizeref": 224.95,
          "symbol": "circle"
         },
         "mode": "markers+text",
         "name": "",
         "orientation": "v",
         "showlegend": false,
         "text": [
          "App",
          "Atendimento",
          "Conta",
          "Desempenho",
          "Internet",
          "Login",
          "Notificações",
          "Operadora",
          "Plano",
          "Usabilidade"
         ],
         "textposition": "top center",
         "type": "scatter",
         "x": {
          "bdata": "kxHdAwYIBQqMCKcEoQH7C40HlAI=",
          "dtype": "i2"
         },
         "xaxis": "x",
         "y": {
          "bdata": "EtSrxhS84b8QqqtxCbvkv1mJU1vSg+K/nC75IQN45r+hw5qbJpTjv2OVT4mL++O/OmIA3MgO5b8x3ZLgnpvbvwk2yDPrkuG/cSvcQbPp5r8=",
          "dtype": "f8"
         },
         "yaxis": "y"
        }
       ],
       "layout": {
        "coloraxis": {
         "cmax": 1,
         "cmin": -1,
         "colorbar": {
          "title": {
           "text": "Sentimento"
          }
         },
         "colorscale": [
          [
           0,
           "#F74A4A"
          ],
          [
           0.5,
           "#FFFB00"
          ],
          [
           1,
           "#4CAF50"
          ]
         ]
        },
        "height": 700,
        "legend": {
         "itemsizing": "constant",
         "tracegroupgap": 0
        },
        "template": {
         "data": {
          "bar": [
           {
            "error_x": {
             "color": "rgb(36,36,36)"
            },
            "error_y": {
             "color": "rgb(36,36,36)"
            },
            "marker": {
             "line": {
              "color": "rgb(234,234,242)",
              "width": 0.5
             },
             "pattern": {
              "fillmode": "overlay",
              "size": 10,
              "solidity": 0.2
             }
            },
            "type": "bar"
           }
          ],
          "barpolar": [
           {
            "marker": {
             "line": {
              "color": "rgb(234,234,242)",
              "width": 0.5
             },
             "pattern": {
              "fillmode": "overlay",
              "size": 10,
              "solidity": 0.2
             }
            },
            "type": "barpolar"
           }
          ],
          "carpet": [
           {
            "aaxis": {
             "endlinecolor": "rgb(36,36,36)",
             "gridcolor": "white",
             "linecolor": "white",
             "minorgridcolor": "white",
             "startlinecolor": "rgb(36,36,36)"
            },
            "baxis": {
             "endlinecolor": "rgb(36,36,36)",
             "gridcolor": "white",
             "linecolor": "white",
             "minorgridcolor": "white",
             "startlinecolor": "rgb(36,36,36)"
            },
            "type": "carpet"
           }
          ],
          "choropleth": [
           {
            "colorbar": {
             "outlinewidth": 0,
             "tickcolor": "rgb(36,36,36)",
             "ticklen": 8,
             "ticks": "outside",
             "tickwidth": 2
            },
            "type": "choropleth"
           }
          ],
          "contour": [
           {
            "colorbar": {
             "outlinewidth": 0,
             "tickcolor": "rgb(36,36,36)",
             "ticklen": 8,
             "ticks": "outside",
             "tickwidth": 2
            },
            "colorscale": [
             [
              0,
              "rgb(2,4,25)"
             ],
             [
              0.06274509803921569,
              "rgb(24,15,41)"
             ],
             [
              0.12549019607843137,
              "rgb(47,23,57)"
             ],
             [
              0.18823529411764706,
              "rgb(71,28,72)"
             ],
             [
              0.25098039215686274,
              "rgb(97,30,82)"
             ],
             [
              0.3137254901960784,
              "rgb(123,30,89)"
             ],
             [
              0.3764705882352941,
              "rgb(150,27,91)"
             ],
             [
              0.4392156862745098,
              "rgb(177,22,88)"
             ],
             [
              0.5019607843137255,
              "rgb(203,26,79)"
             ],
             [
              0.5647058823529412,
              "rgb(223,47,67)"
             ],
             [
              0.6274509803921569,
              "rgb(236,76,61)"
             ],
             [
              0.6901960784313725,
              "rgb(242,107,73)"
             ],
             [
              0.7529411764705882,
              "rgb(244,135,95)"
             ],
             [
              0.8156862745098039,
              "rgb(245,162,122)"
             ],
             [
              0.8784313725490196,
              "rgb(246,188,153)"
             ],
             [
              0.9411764705882353,
              "rgb(247,212,187)"
             ],
             [
              1,
              "rgb(250,234,220)"
             ]
            ],
            "type": "contour"
           }
          ],
          "contourcarpet": [
           {
            "colorbar": {
             "outlinewidth": 0,
             "tickcolor": "rgb(36,36,36)",
             "ticklen": 8,
             "ticks": "outside",
             "tickwidth": 2
            },
            "type": "contourcarpet"
           }
          ],
          "heatmap": [
           {
            "colorbar": {
             "outlinewidth": 0,
             "tickcolor": "rgb(36,36,36)",
             "ticklen": 8,
             "ticks": "outside",
             "tickwidth": 2
            },
            "colorscale": [
             [
              0,
              "rgb(2,4,25)"
             ],
             [
              0.06274509803921569,
              "rgb(24,15,41)"
             ],
             [
              0.12549019607843137,
              "rgb(47,23,57)"
             ],
             [
              0.18823529411764706,
              "rgb(71,28,72)"
             ],
             [
              0.25098039215686274,
              "rgb(97,30,82)"
             ],
             [
              0.3137254901960784,
              "rgb(123,30,89)"
             ],
             [
              0.3764705882352941,
              "rgb(150,27,91)"
             ],
             [
              0.4392156862745098,
              "rgb(177,22,88)"
             ],
             [
              0.5019607843137255,
              "rgb(203,26,79)"
             ],
             [
              0.5647058823529412,
              "rgb(223,47,67)"
             ],
             [
              0.6274509803921569,
              "rgb(236,76,61)"
             ],
             [
              0.6901960784313725,
              "rgb(242,107,73)"
             ],
             [
              0.7529411764705882,
              "rgb(244,135,95)"
             ],
             [
              0.8156862745098039,
              "rgb(245,162,122)"
             ],
             [
              0.8784313725490196,
              "rgb(246,188,153)"
             ],
             [
              0.9411764705882353,
              "rgb(247,212,187)"
             ],
             [
              1,
              "rgb(250,234,220)"
             ]
            ],
            "type": "heatmap"
           }
          ],
          "histogram": [
           {
            "marker": {
             "pattern": {
              "fillmode": "overlay",
              "size": 10,
              "solidity": 0.2
             }
            },
            "type": "histogram"
           }
          ],
          "histogram2d": [
           {
            "colorbar": {
             "outlinewidth": 0,
             "tickcolor": "rgb(36,36,36)",
             "ticklen": 8,
             "ticks": "outside",
             "tickwidth": 2
            },
            "colorscale": [
             [
              0,
              "rgb(2,4,25)"
             ],
             [
              0.06274509803921569,
              "rgb(24,15,41)"
             ],
             [
              0.12549019607843137,
              "rgb(47,23,57)"
             ],
             [
              0.18823529411764706,
              "rgb(71,28,72)"
             ],
             [
              0.25098039215686274,
              "rgb(97,30,82)"
             ],
             [
              0.3137254901960784,
              "rgb(123,30,89)"
             ],
             [
              0.3764705882352941,
              "rgb(150,27,91)"
             ],
             [
              0.4392156862745098,
              "rgb(177,22,88)"
             ],
             [
              0.5019607843137255,
              "rgb(203,26,79)"
             ],
             [
              0.5647058823529412,
              "rgb(223,47,67)"
             ],
             [
              0.6274509803921569,
              "rgb(236,76,61)"
             ],
             [
              0.6901960784313725,
              "rgb(242,107,73)"
             ],
             [
              0.7529411764705882,
              "rgb(244,135,95)"
             ],
             [
              0.8156862745098039,
              "rgb(245,162,122)"
             ],
             [
              0.8784313725490196,
              "rgb(246,188,153)"
             ],
             [
              0.9411764705882353,
              "rgb(247,212,187)"
             ],
             [
              1,
              "rgb(250,234,220)"
             ]
            ],
            "type": "histogram2d"
           }
          ],
          "histogram2dcontour": [
           {
            "colorbar": {
             "outlinewidth": 0,
             "tickcolor": "rgb(36,36,36)",
             "ticklen": 8,
             "ticks": "outside",
             "tickwidth": 2
            },
            "colorscale": [
             [
              0,
              "rgb(2,4,25)"
             ],
             [
              0.06274509803921569,
              "rgb(24,15,41)"
             ],
             [
              0.12549019607843137,
              "rgb(47,23,57)"
             ],
             [
              0.18823529411764706,
              "rgb(71,28,72)"
             ],
             [
              0.25098039215686274,
              "rgb(97,30,82)"
             ],
             [
              0.3137254901960784,
              "rgb(123,30,89)"
             ],
             [
              0.3764705882352941,
              "rgb(150,27,91)"
             ],
             [
              0.4392156862745098,
              "rgb(177,22,88)"
             ],
             [
              0.5019607843137255,
              "rgb(203,26,79)"
             ],
             [
              0.5647058823529412,
              "rgb(223,47,67)"
             ],
             [
              0.6274509803921569,
              "rgb(236,76,61)"
             ],
             [
              0.6901960784313725,
              "rgb(242,107,73)"
             ],
             [
              0.7529411764705882,
              "rgb(244,135,95)"
             ],
             [
              0.8156862745098039,
              "rgb(245,162,122)"
             ],
             [
              0.8784313725490196,
              "rgb(246,188,153)"
             ],
             [
              0.9411764705882353,
              "rgb(247,212,187)"
             ],
             [
              1,
              "rgb(250,234,220)"
             ]
            ],
            "type": "histogram2dcontour"
           }
          ],
          "mesh3d": [
           {
            "colorbar": {
             "outlinewidth": 0,
             "tickcolor": "rgb(36,36,36)",
             "ticklen": 8,
             "ticks": "outside",
             "tickwidth": 2
            },
            "type": "mesh3d"
           }
          ],
          "parcoords": [
           {
            "line": {
             "colorbar": {
              "outlinewidth": 0,
              "tickcolor": "rgb(36,36,36)",
              "ticklen": 8,
              "ticks": "outside",
              "tickwidth": 2
             }
            },
            "type": "parcoords"
           }
          ],
          "pie": [
           {
            "automargin": true,
            "type": "pie"
           }
          ],
          "scatter": [
           {
            "fillpattern": {
             "fillmode": "overlay",
             "size": 10,
             "solidity": 0.2
            },
            "type": "scatter"
           }
          ],
          "scatter3d": [
           {
            "line": {
             "colorbar": {
              "outlinewidth": 0,
              "tickcolor": "rgb(36,36,36)",
              "ticklen": 8,
              "ticks": "outside",
              "tickwidth": 2
             }
            },
            "marker": {
             "colorbar": {
              "outlinewidth": 0,
              "tickcolor": "rgb(36,36,36)",
              "ticklen": 8,
              "ticks": "outside",
              "tickwidth": 2
             }
            },
            "type": "scatter3d"
           }
          ],
          "scattercarpet": [
           {
            "marker": {
             "colorbar": {
              "outlinewidth": 0,
              "tickcolor": "rgb(36,36,36)",
              "ticklen": 8,
              "ticks": "outside",
              "tickwidth": 2
             }
            },
            "type": "scattercarpet"
           }
          ],
          "scattergeo": [
           {
            "marker": {
             "colorbar": {
              "outlinewidth": 0,
              "tickcolor": "rgb(36,36,36)",
              "ticklen": 8,
              "ticks": "outside",
              "tickwidth": 2
             }
            },
            "type": "scattergeo"
           }
          ],
          "scattergl": [
           {
            "marker": {
             "colorbar": {
              "outlinewidth": 0,
              "tickcolor": "rgb(36,36,36)",
              "ticklen": 8,
              "ticks": "outside",
              "tickwidth": 2
             }
            },
            "type": "scattergl"
           }
          ],
          "scattermap": [
           {
            "marker": {
             "colorbar": {
              "outlinewidth": 0,
              "tickcolor": "rgb(36,36,36)",
              "ticklen": 8,
              "ticks": "outside",
              "tickwidth": 2
             }
            },
            "type": "scattermap"
           }
          ],
          "scattermapbox": [
           {
            "marker": {
             "colorbar": {
              "outlinewidth": 0,
              "tickcolor": "rgb(36,36,36)",
              "ticklen": 8,
              "ticks": "outside",
              "tickwidth": 2
             }
            },
            "type": "scattermapbox"
           }
          ],
          "scatterpolar": [
           {
            "marker": {
             "colorbar": {
              "outlinewidth": 0,
              "tickcolor": "rgb(36,36,36)",
              "ticklen": 8,
              "ticks": "outside",
              "tickwidth": 2
             }
            },
            "type": "scatterpolar"
           }
          ],
          "scatterpolargl": [
           {
            "marker": {
             "colorbar": {
              "outlinewidth": 0,
              "tickcolor": "rgb(36,36,36)",
              "ticklen": 8,
              "ticks": "outside",
              "tickwidth": 2
             }
            },
            "type": "scatterpolargl"
           }
          ],
          "scatterternary": [
           {
            "marker": {
             "colorbar": {
              "outlinewidth": 0,
              "tickcolor": "rgb(36,36,36)",
              "ticklen": 8,
              "ticks": "outside",
              "tickwidth": 2
             }
            },
            "type": "scatterternary"
           }
          ],
          "surface": [
           {
            "colorbar": {
             "outlinewidth": 0,
             "tickcolor": "rgb(36,36,36)",
             "ticklen": 8,
             "ticks": "outside",
             "tickwidth": 2
            },
            "colorscale": [
             [
              0,
              "rgb(2,4,25)"
             ],
             [
              0.06274509803921569,
              "rgb(24,15,41)"
             ],
             [
              0.12549019607843137,
              "rgb(47,23,57)"
             ],
             [
              0.18823529411764706,
              "rgb(71,28,72)"
             ],
             [
              0.25098039215686274,
              "rgb(97,30,82)"
             ],
             [
              0.3137254901960784,
              "rgb(123,30,89)"
             ],
             [
              0.3764705882352941,
              "rgb(150,27,91)"
             ],
             [
              0.4392156862745098,
              "rgb(177,22,88)"
             ],
             [
              0.5019607843137255,
              "rgb(203,26,79)"
             ],
             [
              0.5647058823529412,
              "rgb(223,47,67)"
             ],
             [
              0.6274509803921569,
              "rgb(236,76,61)"
             ],
             [
              0.6901960784313725,
              "rgb(242,107,73)"
             ],
             [
              0.7529411764705882,
              "rgb(244,135,95)"
             ],
             [
              0.8156862745098039,
              "rgb(245,162,122)"
             ],
             [
              0.8784313725490196,
              "rgb(246,188,153)"
             ],
             [
              0.9411764705882353,
              "rgb(247,212,187)"
             ],
             [
              1,
              "rgb(250,234,220)"
             ]
            ],
            "type": "surface"
           }
          ],
          "table": [
           {
            "cells": {
             "fill": {
              "color": "rgb(231,231,240)"
             },
             "line": {
              "color": "white"
             }
            },
            "header": {
             "fill": {
              "color": "rgb(183,183,191)"
             },
             "line": {
              "color": "white"
             }
            },
            "type": "table"
           }
          ]
         },
         "layout": {
          "annotationdefaults": {
           "arrowcolor": "rgb(67,103,167)"
          },
          "autotypenumbers": "strict",
          "coloraxis": {
           "colorbar": {
            "outlinewidth": 0,
            "tickcolor": "rgb(36,36,36)",
            "ticklen": 8,
            "ticks": "outside",
            "tickwidth": 2
           }
          },
          "colorscale": {
           "sequential": [
            [
             0,
             "rgb(2,4,25)"
            ],
            [
             0.06274509803921569,
             "rgb(24,15,41)"
            ],
            [
             0.12549019607843137,
             "rgb(47,23,57)"
            ],
            [
             0.18823529411764706,
             "rgb(71,28,72)"
            ],
            [
             0.25098039215686274,
             "rgb(97,30,82)"
            ],
            [
             0.3137254901960784,
             "rgb(123,30,89)"
            ],
            [
             0.3764705882352941,
             "rgb(150,27,91)"
            ],
            [
             0.4392156862745098,
             "rgb(177,22,88)"
            ],
            [
             0.5019607843137255,
             "rgb(203,26,79)"
            ],
            [
             0.5647058823529412,
             "rgb(223,47,67)"
            ],
            [
             0.6274509803921569,
             "rgb(236,76,61)"
            ],
            [
             0.6901960784313725,
             "rgb(242,107,73)"
            ],
            [
             0.7529411764705882,
             "rgb(244,135,95)"
            ],
            [
             0.8156862745098039,
             "rgb(245,162,122)"
            ],
            [
             0.8784313725490196,
             "rgb(246,188,153)"
            ],
            [
             0.9411764705882353,
             "rgb(247,212,187)"
            ],
            [
             1,
             "rgb(250,234,220)"
            ]
           ],
           "sequentialminus": [
            [
             0,
             "rgb(2,4,25)"
            ],
            [
             0.06274509803921569,
             "rgb(24,15,41)"
            ],
            [
             0.12549019607843137,
             "rgb(47,23,57)"
            ],
            [
             0.18823529411764706,
             "rgb(71,28,72)"
            ],
            [
             0.25098039215686274,
             "rgb(97,30,82)"
            ],
            [
             0.3137254901960784,
             "rgb(123,30,89)"
            ],
            [
             0.3764705882352941,
             "rgb(150,27,91)"
            ],
            [
             0.4392156862745098,
             "rgb(177,22,88)"
            ],
            [
             0.5019607843137255,
             "rgb(203,26,79)"
            ],
            [
             0.5647058823529412,
             "rgb(223,47,67)"
            ],
            [
             0.6274509803921569,
             "rgb(236,76,61)"
            ],
            [
             0.6901960784313725,
             "rgb(242,107,73)"
            ],
            [
             0.7529411764705882,
             "rgb(244,135,95)"
            ],
            [
             0.8156862745098039,
             "rgb(245,162,122)"
            ],
            [
             0.8784313725490196,
             "rgb(246,188,153)"
            ],
            [
             0.9411764705882353,
             "rgb(247,212,187)"
            ],
            [
             1,
             "rgb(250,234,220)"
            ]
           ]
          },
          "colorway": [
           "rgb(76,114,176)",
           "rgb(221,132,82)",
           "rgb(85,168,104)",
           "rgb(196,78,82)",
           "rgb(129,114,179)",
           "rgb(147,120,96)",
           "rgb(218,139,195)",
           "rgb(140,140,140)",
           "rgb(204,185,116)",
           "rgb(100,181,205)"
          ],
          "font": {
           "color": "rgb(36,36,36)"
          },
          "geo": {
           "bgcolor": "white",
           "lakecolor": "white",
           "landcolor": "rgb(234,234,242)",
           "showlakes": true,
           "showland": true,
           "subunitcolor": "white"
          },
          "hoverlabel": {
           "align": "left"
          },
          "hovermode": "closest",
          "paper_bgcolor": "white",
          "plot_bgcolor": "rgb(234,234,242)",
          "polar": {
           "angularaxis": {
            "gridcolor": "white",
            "linecolor": "white",
            "showgrid": true,
            "ticks": ""
           },
           "bgcolor": "rgb(234,234,242)",
           "radialaxis": {
            "gridcolor": "white",
            "linecolor": "white",
            "showgrid": true,
            "ticks": ""
           }
          },
          "scene": {
           "xaxis": {
            "backgroundcolor": "rgb(234,234,242)",
            "gridcolor": "white",
            "gridwidth": 2,
            "linecolor": "white",
            "showbackground": true,
            "showgrid": true,
            "ticks": "",
            "zerolinecolor": "white"
           },
           "yaxis": {
            "backgroundcolor": "rgb(234,234,242)",
            "gridcolor": "white",
            "gridwidth": 2,
            "linecolor": "white",
            "showbackground": true,
            "showgrid": true,
            "ticks": "",
            "zerolinecolor": "white"
           },
           "zaxis": {
            "backgroundcolor": "rgb(234,234,242)",
            "gridcolor": "white",
            "gridwidth": 2,
            "linecolor": "white",
            "showbackground": true,
            "showgrid": true,
            "ticks": "",
            "zerolinecolor": "white"
           }
          },
          "shapedefaults": {
           "fillcolor": "rgb(67,103,167)",
           "line": {
            "width": 0
           },
           "opacity": 0.5
          },
          "ternary": {
           "aaxis": {
            "gridcolor": "white",
            "linecolor": "white",
            "showgrid": true,
            "ticks": ""
           },
           "baxis": {
            "gridcolor": "white",
            "linecolor": "white",
            "showgrid": true,
            "ticks": ""
           },
           "bgcolor": "rgb(234,234,242)",
           "caxis": {
            "gridcolor": "white",
            "linecolor": "white",
            "showgrid": true,
            "ticks": ""
           }
          },
          "xaxis": {
           "automargin": true,
           "gridcolor": "white",
           "linecolor": "white",
           "showgrid": true,
           "ticks": "",
           "title": {
            "standoff": 15
           },
           "zerolinecolor": "white"
          },
          "yaxis": {
           "automargin": true,
           "gridcolor": "white",
           "linecolor": "white",
           "showgrid": true,
           "ticks": "",
           "title": {
            "standoff": 15
           },
           "zerolinecolor": "white"
          }
         }
        },
        "title": {
         "font": {
          "family": "Arial",
          "size": 24
         },
         "text": "<b>Temas + Falados - TIM</b>",
         "x": 0.5,
         "xanchor": "center",
         "y": 0.9
        },
        "width": 700,
        "xaxis": {
         "anchor": "y",
         "domain": [
          0,
          1
         ],
         "range": [
          -200,
          5000
         ],
         "title": {
          "text": "Qtd Comentários"
         }
        },
        "yaxis": {
         "anchor": "x",
         "domain": [
          0,
          1
         ],
         "range": [
          -1,
          1
         ],
         "title": {
          "text": "Sentimento"
         }
        }
       }
      }
     },
     "metadata": {},
     "output_type": "display_data"
    }
   ],
   "source": [
    "df_tim = df_explodido[df_explodido[\"app\"] == \"TIM\"]\n",
    "\n",
    "#Agrupamento por tema\n",
    "df_tema = df_tim.groupby('tema_manual').agg(\n",
    "    volume=('tema_manual', 'count'),\n",
    "    sentimento_medio=('sentimento_continuo', 'mean')\n",
    ").reset_index()\n",
    "\n",
    "# Normaliza o volume para tamanho dos pontos no gráfico\n",
    "df_tema['tamanho'] = df_tema['volume'] * 20  # Ajuste conforme necessário\n",
    "\n",
    "fig = px.scatter(\n",
    "    df_tema,\n",
    "    x=\"volume\",\n",
    "    y=\"sentimento_medio\",\n",
    "    size=\"tamanho\",\n",
    "    color=\"sentimento_medio\",\n",
    "    text=\"tema_manual\",\n",
    "    color_continuous_scale= [\"#F74A4A\", '#FFFB00', '#4CAF50'],\n",
    "    range_y=[-1, 1],\n",
    "    range_x=[-200, 5000],\n",
    "    title=\"<b>Temas + Falados - TIM</b>\"\n",
    ")\n",
    "\n",
    "# Ajustes visuais\n",
    "fig.update_traces(textposition='top center')\n",
    "fig.update_layout(\n",
    "    width=700,\n",
    "    height=700,\n",
    "    xaxis_title=\"Qtd Comentários\",\n",
    "    yaxis_title=\"Sentimento\",\n",
    "    coloraxis_colorbar=dict(title=\"Sentimento\"),\n",
    "    coloraxis=dict(cmin=-1, cmax=1),\n",
    "    template=\"seaborn\",\n",
    "    title={'font':{\n",
    "            'size': 24,\n",
    "            'family': 'Arial'},\n",
    "        'x': 0.5,\n",
    "        'xanchor': 'center',\n",
    "        'y': 0.9,\n",
    "    }\n",
    ")\n",
    "\n",
    "fig.show()"
   ]
  },
  {
   "cell_type": "code",
   "execution_count": 18,
   "id": "e47925f8",
   "metadata": {},
   "outputs": [
    {
     "data": {
      "application/vnd.plotly.v1+json": {
       "config": {
        "plotlyServerURL": "https://plot.ly"
       },
       "data": [
        {
         "hovertemplate": "volume=%{x}<br>sentimento_medio=%{marker.color}<br>tamanho=%{marker.size}<br>tema_manual=%{text}<extra></extra>",
         "legendgroup": "",
         "marker": {
          "color": {
           "bdata": "EtSrxhS84b8QqqtxCbvkv1mJU1vSg+K/nC75IQN45r+hw5qbJpTjv2OVT4mL++O/OmIA3MgO5b8x3ZLgnpvbvwk2yDPrkuG/cSvcQbPp5r8=",
           "dtype": "f8"
          },
          "coloraxis": "coloraxis",
          "size": {
           "bdata": "fF8BAERNAAB4oAAAZMgAAPCqAAAMXQAAlCAAAJzvAAAElwAAkDMAAA==",
           "dtype": "i4"
          },
          "sizemode": "area",
          "sizeref": 224.95,
          "symbol": "circle"
         },
         "mode": "markers+text",
         "name": "",
         "orientation": "v",
         "showlegend": false,
         "text": [
          "App",
          "Atendimento",
          "Conta",
          "Desempenho",
          "Internet",
          "Login",
          "Notificações",
          "Operadora",
          "Plano",
          "Usabilidade"
         ],
         "textposition": "top center",
         "type": "scatter",
         "x": {
          "bdata": "kxHdAwYIBQqMCKcEoQH7C40HlAI=",
          "dtype": "i2"
         },
         "xaxis": "x",
         "y": {
          "bdata": "EtSrxhS84b8QqqtxCbvkv1mJU1vSg+K/nC75IQN45r+hw5qbJpTjv2OVT4mL++O/OmIA3MgO5b8x3ZLgnpvbvwk2yDPrkuG/cSvcQbPp5r8=",
          "dtype": "f8"
         },
         "yaxis": "y"
        }
       ],
       "layout": {
        "coloraxis": {
         "cmax": 1,
         "cmin": -1,
         "colorbar": {
          "title": {
           "text": "Sentimento"
          }
         },
         "colorscale": [
          [
           0,
           "#F74A4A"
          ],
          [
           0.5,
           "#FFFB00"
          ],
          [
           1,
           "#4CAF50"
          ]
         ]
        },
        "height": 700,
        "legend": {
         "itemsizing": "constant",
         "tracegroupgap": 0
        },
        "template": {
         "data": {
          "bar": [
           {
            "error_x": {
             "color": "rgb(36,36,36)"
            },
            "error_y": {
             "color": "rgb(36,36,36)"
            },
            "marker": {
             "line": {
              "color": "rgb(234,234,242)",
              "width": 0.5
             },
             "pattern": {
              "fillmode": "overlay",
              "size": 10,
              "solidity": 0.2
             }
            },
            "type": "bar"
           }
          ],
          "barpolar": [
           {
            "marker": {
             "line": {
              "color": "rgb(234,234,242)",
              "width": 0.5
             },
             "pattern": {
              "fillmode": "overlay",
              "size": 10,
              "solidity": 0.2
             }
            },
            "type": "barpolar"
           }
          ],
          "carpet": [
           {
            "aaxis": {
             "endlinecolor": "rgb(36,36,36)",
             "gridcolor": "white",
             "linecolor": "white",
             "minorgridcolor": "white",
             "startlinecolor": "rgb(36,36,36)"
            },
            "baxis": {
             "endlinecolor": "rgb(36,36,36)",
             "gridcolor": "white",
             "linecolor": "white",
             "minorgridcolor": "white",
             "startlinecolor": "rgb(36,36,36)"
            },
            "type": "carpet"
           }
          ],
          "choropleth": [
           {
            "colorbar": {
             "outlinewidth": 0,
             "tickcolor": "rgb(36,36,36)",
             "ticklen": 8,
             "ticks": "outside",
             "tickwidth": 2
            },
            "type": "choropleth"
           }
          ],
          "contour": [
           {
            "colorbar": {
             "outlinewidth": 0,
             "tickcolor": "rgb(36,36,36)",
             "ticklen": 8,
             "ticks": "outside",
             "tickwidth": 2
            },
            "colorscale": [
             [
              0,
              "rgb(2,4,25)"
             ],
             [
              0.06274509803921569,
              "rgb(24,15,41)"
             ],
             [
              0.12549019607843137,
              "rgb(47,23,57)"
             ],
             [
              0.18823529411764706,
              "rgb(71,28,72)"
             ],
             [
              0.25098039215686274,
              "rgb(97,30,82)"
             ],
             [
              0.3137254901960784,
              "rgb(123,30,89)"
             ],
             [
              0.3764705882352941,
              "rgb(150,27,91)"
             ],
             [
              0.4392156862745098,
              "rgb(177,22,88)"
             ],
             [
              0.5019607843137255,
              "rgb(203,26,79)"
             ],
             [
              0.5647058823529412,
              "rgb(223,47,67)"
             ],
             [
              0.6274509803921569,
              "rgb(236,76,61)"
             ],
             [
              0.6901960784313725,
              "rgb(242,107,73)"
             ],
             [
              0.7529411764705882,
              "rgb(244,135,95)"
             ],
             [
              0.8156862745098039,
              "rgb(245,162,122)"
             ],
             [
              0.8784313725490196,
              "rgb(246,188,153)"
             ],
             [
              0.9411764705882353,
              "rgb(247,212,187)"
             ],
             [
              1,
              "rgb(250,234,220)"
             ]
            ],
            "type": "contour"
           }
          ],
          "contourcarpet": [
           {
            "colorbar": {
             "outlinewidth": 0,
             "tickcolor": "rgb(36,36,36)",
             "ticklen": 8,
             "ticks": "outside",
             "tickwidth": 2
            },
            "type": "contourcarpet"
           }
          ],
          "heatmap": [
           {
            "colorbar": {
             "outlinewidth": 0,
             "tickcolor": "rgb(36,36,36)",
             "ticklen": 8,
             "ticks": "outside",
             "tickwidth": 2
            },
            "colorscale": [
             [
              0,
              "rgb(2,4,25)"
             ],
             [
              0.06274509803921569,
              "rgb(24,15,41)"
             ],
             [
              0.12549019607843137,
              "rgb(47,23,57)"
             ],
             [
              0.18823529411764706,
              "rgb(71,28,72)"
             ],
             [
              0.25098039215686274,
              "rgb(97,30,82)"
             ],
             [
              0.3137254901960784,
              "rgb(123,30,89)"
             ],
             [
              0.3764705882352941,
              "rgb(150,27,91)"
             ],
             [
              0.4392156862745098,
              "rgb(177,22,88)"
             ],
             [
              0.5019607843137255,
              "rgb(203,26,79)"
             ],
             [
              0.5647058823529412,
              "rgb(223,47,67)"
             ],
             [
              0.6274509803921569,
              "rgb(236,76,61)"
             ],
             [
              0.6901960784313725,
              "rgb(242,107,73)"
             ],
             [
              0.7529411764705882,
              "rgb(244,135,95)"
             ],
             [
              0.8156862745098039,
              "rgb(245,162,122)"
             ],
             [
              0.8784313725490196,
              "rgb(246,188,153)"
             ],
             [
              0.9411764705882353,
              "rgb(247,212,187)"
             ],
             [
              1,
              "rgb(250,234,220)"
             ]
            ],
            "type": "heatmap"
           }
          ],
          "histogram": [
           {
            "marker": {
             "pattern": {
              "fillmode": "overlay",
              "size": 10,
              "solidity": 0.2
             }
            },
            "type": "histogram"
           }
          ],
          "histogram2d": [
           {
            "colorbar": {
             "outlinewidth": 0,
             "tickcolor": "rgb(36,36,36)",
             "ticklen": 8,
             "ticks": "outside",
             "tickwidth": 2
            },
            "colorscale": [
             [
              0,
              "rgb(2,4,25)"
             ],
             [
              0.06274509803921569,
              "rgb(24,15,41)"
             ],
             [
              0.12549019607843137,
              "rgb(47,23,57)"
             ],
             [
              0.18823529411764706,
              "rgb(71,28,72)"
             ],
             [
              0.25098039215686274,
              "rgb(97,30,82)"
             ],
             [
              0.3137254901960784,
              "rgb(123,30,89)"
             ],
             [
              0.3764705882352941,
              "rgb(150,27,91)"
             ],
             [
              0.4392156862745098,
              "rgb(177,22,88)"
             ],
             [
              0.5019607843137255,
              "rgb(203,26,79)"
             ],
             [
              0.5647058823529412,
              "rgb(223,47,67)"
             ],
             [
              0.6274509803921569,
              "rgb(236,76,61)"
             ],
             [
              0.6901960784313725,
              "rgb(242,107,73)"
             ],
             [
              0.7529411764705882,
              "rgb(244,135,95)"
             ],
             [
              0.8156862745098039,
              "rgb(245,162,122)"
             ],
             [
              0.8784313725490196,
              "rgb(246,188,153)"
             ],
             [
              0.9411764705882353,
              "rgb(247,212,187)"
             ],
             [
              1,
              "rgb(250,234,220)"
             ]
            ],
            "type": "histogram2d"
           }
          ],
          "histogram2dcontour": [
           {
            "colorbar": {
             "outlinewidth": 0,
             "tickcolor": "rgb(36,36,36)",
             "ticklen": 8,
             "ticks": "outside",
             "tickwidth": 2
            },
            "colorscale": [
             [
              0,
              "rgb(2,4,25)"
             ],
             [
              0.06274509803921569,
              "rgb(24,15,41)"
             ],
             [
              0.12549019607843137,
              "rgb(47,23,57)"
             ],
             [
              0.18823529411764706,
              "rgb(71,28,72)"
             ],
             [
              0.25098039215686274,
              "rgb(97,30,82)"
             ],
             [
              0.3137254901960784,
              "rgb(123,30,89)"
             ],
             [
              0.3764705882352941,
              "rgb(150,27,91)"
             ],
             [
              0.4392156862745098,
              "rgb(177,22,88)"
             ],
             [
              0.5019607843137255,
              "rgb(203,26,79)"
             ],
             [
              0.5647058823529412,
              "rgb(223,47,67)"
             ],
             [
              0.6274509803921569,
              "rgb(236,76,61)"
             ],
             [
              0.6901960784313725,
              "rgb(242,107,73)"
             ],
             [
              0.7529411764705882,
              "rgb(244,135,95)"
             ],
             [
              0.8156862745098039,
              "rgb(245,162,122)"
             ],
             [
              0.8784313725490196,
              "rgb(246,188,153)"
             ],
             [
              0.9411764705882353,
              "rgb(247,212,187)"
             ],
             [
              1,
              "rgb(250,234,220)"
             ]
            ],
            "type": "histogram2dcontour"
           }
          ],
          "mesh3d": [
           {
            "colorbar": {
             "outlinewidth": 0,
             "tickcolor": "rgb(36,36,36)",
             "ticklen": 8,
             "ticks": "outside",
             "tickwidth": 2
            },
            "type": "mesh3d"
           }
          ],
          "parcoords": [
           {
            "line": {
             "colorbar": {
              "outlinewidth": 0,
              "tickcolor": "rgb(36,36,36)",
              "ticklen": 8,
              "ticks": "outside",
              "tickwidth": 2
             }
            },
            "type": "parcoords"
           }
          ],
          "pie": [
           {
            "automargin": true,
            "type": "pie"
           }
          ],
          "scatter": [
           {
            "fillpattern": {
             "fillmode": "overlay",
             "size": 10,
             "solidity": 0.2
            },
            "type": "scatter"
           }
          ],
          "scatter3d": [
           {
            "line": {
             "colorbar": {
              "outlinewidth": 0,
              "tickcolor": "rgb(36,36,36)",
              "ticklen": 8,
              "ticks": "outside",
              "tickwidth": 2
             }
            },
            "marker": {
             "colorbar": {
              "outlinewidth": 0,
              "tickcolor": "rgb(36,36,36)",
              "ticklen": 8,
              "ticks": "outside",
              "tickwidth": 2
             }
            },
            "type": "scatter3d"
           }
          ],
          "scattercarpet": [
           {
            "marker": {
             "colorbar": {
              "outlinewidth": 0,
              "tickcolor": "rgb(36,36,36)",
              "ticklen": 8,
              "ticks": "outside",
              "tickwidth": 2
             }
            },
            "type": "scattercarpet"
           }
          ],
          "scattergeo": [
           {
            "marker": {
             "colorbar": {
              "outlinewidth": 0,
              "tickcolor": "rgb(36,36,36)",
              "ticklen": 8,
              "ticks": "outside",
              "tickwidth": 2
             }
            },
            "type": "scattergeo"
           }
          ],
          "scattergl": [
           {
            "marker": {
             "colorbar": {
              "outlinewidth": 0,
              "tickcolor": "rgb(36,36,36)",
              "ticklen": 8,
              "ticks": "outside",
              "tickwidth": 2
             }
            },
            "type": "scattergl"
           }
          ],
          "scattermap": [
           {
            "marker": {
             "colorbar": {
              "outlinewidth": 0,
              "tickcolor": "rgb(36,36,36)",
              "ticklen": 8,
              "ticks": "outside",
              "tickwidth": 2
             }
            },
            "type": "scattermap"
           }
          ],
          "scattermapbox": [
           {
            "marker": {
             "colorbar": {
              "outlinewidth": 0,
              "tickcolor": "rgb(36,36,36)",
              "ticklen": 8,
              "ticks": "outside",
              "tickwidth": 2
             }
            },
            "type": "scattermapbox"
           }
          ],
          "scatterpolar": [
           {
            "marker": {
             "colorbar": {
              "outlinewidth": 0,
              "tickcolor": "rgb(36,36,36)",
              "ticklen": 8,
              "ticks": "outside",
              "tickwidth": 2
             }
            },
            "type": "scatterpolar"
           }
          ],
          "scatterpolargl": [
           {
            "marker": {
             "colorbar": {
              "outlinewidth": 0,
              "tickcolor": "rgb(36,36,36)",
              "ticklen": 8,
              "ticks": "outside",
              "tickwidth": 2
             }
            },
            "type": "scatterpolargl"
           }
          ],
          "scatterternary": [
           {
            "marker": {
             "colorbar": {
              "outlinewidth": 0,
              "tickcolor": "rgb(36,36,36)",
              "ticklen": 8,
              "ticks": "outside",
              "tickwidth": 2
             }
            },
            "type": "scatterternary"
           }
          ],
          "surface": [
           {
            "colorbar": {
             "outlinewidth": 0,
             "tickcolor": "rgb(36,36,36)",
             "ticklen": 8,
             "ticks": "outside",
             "tickwidth": 2
            },
            "colorscale": [
             [
              0,
              "rgb(2,4,25)"
             ],
             [
              0.06274509803921569,
              "rgb(24,15,41)"
             ],
             [
              0.12549019607843137,
              "rgb(47,23,57)"
             ],
             [
              0.18823529411764706,
              "rgb(71,28,72)"
             ],
             [
              0.25098039215686274,
              "rgb(97,30,82)"
             ],
             [
              0.3137254901960784,
              "rgb(123,30,89)"
             ],
             [
              0.3764705882352941,
              "rgb(150,27,91)"
             ],
             [
              0.4392156862745098,
              "rgb(177,22,88)"
             ],
             [
              0.5019607843137255,
              "rgb(203,26,79)"
             ],
             [
              0.5647058823529412,
              "rgb(223,47,67)"
             ],
             [
              0.6274509803921569,
              "rgb(236,76,61)"
             ],
             [
              0.6901960784313725,
              "rgb(242,107,73)"
             ],
             [
              0.7529411764705882,
              "rgb(244,135,95)"
             ],
             [
              0.8156862745098039,
              "rgb(245,162,122)"
             ],
             [
              0.8784313725490196,
              "rgb(246,188,153)"
             ],
             [
              0.9411764705882353,
              "rgb(247,212,187)"
             ],
             [
              1,
              "rgb(250,234,220)"
             ]
            ],
            "type": "surface"
           }
          ],
          "table": [
           {
            "cells": {
             "fill": {
              "color": "rgb(231,231,240)"
             },
             "line": {
              "color": "white"
             }
            },
            "header": {
             "fill": {
              "color": "rgb(183,183,191)"
             },
             "line": {
              "color": "white"
             }
            },
            "type": "table"
           }
          ]
         },
         "layout": {
          "annotationdefaults": {
           "arrowcolor": "rgb(67,103,167)"
          },
          "autotypenumbers": "strict",
          "coloraxis": {
           "colorbar": {
            "outlinewidth": 0,
            "tickcolor": "rgb(36,36,36)",
            "ticklen": 8,
            "ticks": "outside",
            "tickwidth": 2
           }
          },
          "colorscale": {
           "sequential": [
            [
             0,
             "rgb(2,4,25)"
            ],
            [
             0.06274509803921569,
             "rgb(24,15,41)"
            ],
            [
             0.12549019607843137,
             "rgb(47,23,57)"
            ],
            [
             0.18823529411764706,
             "rgb(71,28,72)"
            ],
            [
             0.25098039215686274,
             "rgb(97,30,82)"
            ],
            [
             0.3137254901960784,
             "rgb(123,30,89)"
            ],
            [
             0.3764705882352941,
             "rgb(150,27,91)"
            ],
            [
             0.4392156862745098,
             "rgb(177,22,88)"
            ],
            [
             0.5019607843137255,
             "rgb(203,26,79)"
            ],
            [
             0.5647058823529412,
             "rgb(223,47,67)"
            ],
            [
             0.6274509803921569,
             "rgb(236,76,61)"
            ],
            [
             0.6901960784313725,
             "rgb(242,107,73)"
            ],
            [
             0.7529411764705882,
             "rgb(244,135,95)"
            ],
            [
             0.8156862745098039,
             "rgb(245,162,122)"
            ],
            [
             0.8784313725490196,
             "rgb(246,188,153)"
            ],
            [
             0.9411764705882353,
             "rgb(247,212,187)"
            ],
            [
             1,
             "rgb(250,234,220)"
            ]
           ],
           "sequentialminus": [
            [
             0,
             "rgb(2,4,25)"
            ],
            [
             0.06274509803921569,
             "rgb(24,15,41)"
            ],
            [
             0.12549019607843137,
             "rgb(47,23,57)"
            ],
            [
             0.18823529411764706,
             "rgb(71,28,72)"
            ],
            [
             0.25098039215686274,
             "rgb(97,30,82)"
            ],
            [
             0.3137254901960784,
             "rgb(123,30,89)"
            ],
            [
             0.3764705882352941,
             "rgb(150,27,91)"
            ],
            [
             0.4392156862745098,
             "rgb(177,22,88)"
            ],
            [
             0.5019607843137255,
             "rgb(203,26,79)"
            ],
            [
             0.5647058823529412,
             "rgb(223,47,67)"
            ],
            [
             0.6274509803921569,
             "rgb(236,76,61)"
            ],
            [
             0.6901960784313725,
             "rgb(242,107,73)"
            ],
            [
             0.7529411764705882,
             "rgb(244,135,95)"
            ],
            [
             0.8156862745098039,
             "rgb(245,162,122)"
            ],
            [
             0.8784313725490196,
             "rgb(246,188,153)"
            ],
            [
             0.9411764705882353,
             "rgb(247,212,187)"
            ],
            [
             1,
             "rgb(250,234,220)"
            ]
           ]
          },
          "colorway": [
           "rgb(76,114,176)",
           "rgb(221,132,82)",
           "rgb(85,168,104)",
           "rgb(196,78,82)",
           "rgb(129,114,179)",
           "rgb(147,120,96)",
           "rgb(218,139,195)",
           "rgb(140,140,140)",
           "rgb(204,185,116)",
           "rgb(100,181,205)"
          ],
          "font": {
           "color": "rgb(36,36,36)"
          },
          "geo": {
           "bgcolor": "white",
           "lakecolor": "white",
           "landcolor": "rgb(234,234,242)",
           "showlakes": true,
           "showland": true,
           "subunitcolor": "white"
          },
          "hoverlabel": {
           "align": "left"
          },
          "hovermode": "closest",
          "paper_bgcolor": "white",
          "plot_bgcolor": "rgb(234,234,242)",
          "polar": {
           "angularaxis": {
            "gridcolor": "white",
            "linecolor": "white",
            "showgrid": true,
            "ticks": ""
           },
           "bgcolor": "rgb(234,234,242)",
           "radialaxis": {
            "gridcolor": "white",
            "linecolor": "white",
            "showgrid": true,
            "ticks": ""
           }
          },
          "scene": {
           "xaxis": {
            "backgroundcolor": "rgb(234,234,242)",
            "gridcolor": "white",
            "gridwidth": 2,
            "linecolor": "white",
            "showbackground": true,
            "showgrid": true,
            "ticks": "",
            "zerolinecolor": "white"
           },
           "yaxis": {
            "backgroundcolor": "rgb(234,234,242)",
            "gridcolor": "white",
            "gridwidth": 2,
            "linecolor": "white",
            "showbackground": true,
            "showgrid": true,
            "ticks": "",
            "zerolinecolor": "white"
           },
           "zaxis": {
            "backgroundcolor": "rgb(234,234,242)",
            "gridcolor": "white",
            "gridwidth": 2,
            "linecolor": "white",
            "showbackground": true,
            "showgrid": true,
            "ticks": "",
            "zerolinecolor": "white"
           }
          },
          "shapedefaults": {
           "fillcolor": "rgb(67,103,167)",
           "line": {
            "width": 0
           },
           "opacity": 0.5
          },
          "ternary": {
           "aaxis": {
            "gridcolor": "white",
            "linecolor": "white",
            "showgrid": true,
            "ticks": ""
           },
           "baxis": {
            "gridcolor": "white",
            "linecolor": "white",
            "showgrid": true,
            "ticks": ""
           },
           "bgcolor": "rgb(234,234,242)",
           "caxis": {
            "gridcolor": "white",
            "linecolor": "white",
            "showgrid": true,
            "ticks": ""
           }
          },
          "xaxis": {
           "automargin": true,
           "gridcolor": "white",
           "linecolor": "white",
           "showgrid": true,
           "ticks": "",
           "title": {
            "standoff": 15
           },
           "zerolinecolor": "white"
          },
          "yaxis": {
           "automargin": true,
           "gridcolor": "white",
           "linecolor": "white",
           "showgrid": true,
           "ticks": "",
           "title": {
            "standoff": 15
           },
           "zerolinecolor": "white"
          }
         }
        },
        "title": {
         "font": {
          "family": "Arial",
          "size": 24
         },
         "text": "<b>Temas + Falados - TIM (s/ Operadora, App e Desempenho)</b>",
         "x": 0.5,
         "xanchor": "center",
         "y": 0.9
        },
        "width": 700,
        "xaxis": {
         "anchor": "y",
         "domain": [
          0,
          1
         ],
         "range": [
          -200,
          2500
         ],
         "title": {
          "text": "Qtd Comentários"
         }
        },
        "yaxis": {
         "anchor": "x",
         "domain": [
          0,
          1
         ],
         "range": [
          -1,
          1
         ],
         "title": {
          "text": "Sentimento"
         }
        }
       }
      }
     },
     "metadata": {},
     "output_type": "display_data"
    }
   ],
   "source": [
    "df_tim = df_explodido[df_explodido[\"app\"] == \"TIM\"]\n",
    "\n",
    "#Agrupamento por tema\n",
    "df_tema = df_tim.groupby('tema_manual').agg(\n",
    "    volume=('tema_manual', 'count'),\n",
    "    sentimento_medio=('sentimento_continuo', 'mean')\n",
    ").reset_index()\n",
    "\n",
    "# Normaliza o volume para tamanho dos pontos no gráfico\n",
    "df_tema['tamanho'] = df_tema['volume'] * 20  # Ajuste conforme necessário\n",
    "\n",
    "fig = px.scatter(\n",
    "    df_tema,\n",
    "    x=\"volume\",\n",
    "    y=\"sentimento_medio\",\n",
    "    size=\"tamanho\",\n",
    "    color=\"sentimento_medio\",\n",
    "    text=\"tema_manual\",\n",
    "    color_continuous_scale= [\"#F74A4A\", '#FFFB00', '#4CAF50'],\n",
    "    range_y=[-1, 1],\n",
    "    range_x=[-200, 2500],\n",
    "    title=\"<b>Temas + Falados - TIM (s/ Operadora, App e Desempenho)</b>\"\n",
    ")\n",
    "\n",
    "# Ajustes visuais\n",
    "fig.update_traces(textposition='top center')\n",
    "fig.update_layout(\n",
    "    width=700,\n",
    "    height=700,\n",
    "    xaxis_title=\"Qtd Comentários\",\n",
    "    yaxis_title=\"Sentimento\",\n",
    "    coloraxis_colorbar=dict(title=\"Sentimento\"),\n",
    "    coloraxis=dict(cmin=-1, cmax=1),\n",
    "    template=\"seaborn\",\n",
    "    title={'font':{\n",
    "            'size': 24,\n",
    "            'family': 'Arial'},\n",
    "        'x': 0.5,\n",
    "        'xanchor': 'center',\n",
    "        'y': 0.9,\n",
    "    }\n",
    ")\n",
    "\n",
    "fig.show()"
   ]
  },
  {
   "cell_type": "code",
   "execution_count": 49,
   "id": "30a4fa22",
   "metadata": {},
   "outputs": [
    {
     "data": {
      "text/html": [
       "<div>\n",
       "<style scoped>\n",
       "    .dataframe tbody tr th:only-of-type {\n",
       "        vertical-align: middle;\n",
       "    }\n",
       "\n",
       "    .dataframe tbody tr th {\n",
       "        vertical-align: top;\n",
       "    }\n",
       "\n",
       "    .dataframe thead th {\n",
       "        text-align: right;\n",
       "    }\n",
       "</style>\n",
       "<table border=\"1\" class=\"dataframe\">\n",
       "  <thead>\n",
       "    <tr style=\"text-align: right;\">\n",
       "      <th></th>\n",
       "      <th>content</th>\n",
       "      <th>sentiment_NEG</th>\n",
       "    </tr>\n",
       "  </thead>\n",
       "  <tbody>\n",
       "    <tr>\n",
       "      <th>15001</th>\n",
       "      <td>empresa péssima em relação ao atendimento</td>\n",
       "      <td>0.991633</td>\n",
       "    </tr>\n",
       "    <tr>\n",
       "      <th>15017</th>\n",
       "      <td>Quer mudar o plano da OI Fixo para portabilidade TIM fuxo e não consigo falar com ninguém. O atendimento digital é irritante.</td>\n",
       "      <td>0.987004</td>\n",
       "    </tr>\n",
       "    <tr>\n",
       "      <th>15040</th>\n",
       "      <td>A operadora de plano mais caro que já vi. Já tentei cancelar meu plano e não consigo . Oferecem um plano caro, com dados móveis que praticamente não pegam em lugar nenhum. E o atendimento pela operadora é péssimo e ainda deixa a gente sem resposta e sem solução para o problema</td>\n",
       "      <td>0.984908</td>\n",
       "    </tr>\n",
       "    <tr>\n",
       "      <th>15094</th>\n",
       "      <td>Péssimo. Fiz a portabilidade da Claro para Tim a 2 meses e até agora não consegui usar, fechei um plano para usar benefícios e nada. Via telefone não consigo atendimento e já tenho 3 protocolos da loja.</td>\n",
       "      <td>0.976924</td>\n",
       "    </tr>\n",
       "    <tr>\n",
       "      <th>15185</th>\n",
       "      <td>péssimo atendimento horrível</td>\n",
       "      <td>0.993200</td>\n",
       "    </tr>\n",
       "    <tr>\n",
       "      <th>15248</th>\n",
       "      <td>Meu plano era 80gb, baixaram em menos de 1 ano para 76gb e agora mudaram meu plano para 15gb. Aumentaram o valor do plano em menos de 1 ano, você não pode mandar áudio, nem imagem comprovando, atendente humana não aparece, desligam na sua cara... Eu tou passando mal aqui... DESCASO TOTAL com o cliente, quero cancelar wifi e 4g dessa operadora diabólica 😡... NÃO ENTREM É FURADA!</td>\n",
       "      <td>0.959955</td>\n",
       "    </tr>\n",
       "    <tr>\n",
       "      <th>15263</th>\n",
       "      <td>Pior operadora, só uso porque a única que pega na região em que moro hje. SINAL horrível, atendimento péssimo.</td>\n",
       "      <td>0.992129</td>\n",
       "    </tr>\n",
       "    <tr>\n",
       "      <th>15361</th>\n",
       "      <td>se tornou o pior atendimento de todos uma grande vergonha péssima operadora, quando renova a internet o sinal some , trinta dias de uso nunca chegou quando da a data de vencimento a internet vai embora junto vergonhoso.</td>\n",
       "      <td>0.992178</td>\n",
       "    </tr>\n",
       "    <tr>\n",
       "      <th>15412</th>\n",
       "      <td>pra ficar ruim tem que melhorar muito. trava toda hora, diz que tem uma atualização mais quando tento atualizar volta pra página inicial. Quando abre sempre diz que estou sem saldo. E uma observação, no atendimento por telefone*144 o atendimento é pior ainda. Não tem opção de falar com o atendente. Como falei no começo, para ficar ruim tem que melhorar muito, infelizmente.</td>\n",
       "      <td>0.964840</td>\n",
       "    </tr>\n",
       "    <tr>\n",
       "      <th>15421</th>\n",
       "      <td>péssimo app difícil atendimento</td>\n",
       "      <td>0.991736</td>\n",
       "    </tr>\n",
       "    <tr>\n",
       "      <th>15509</th>\n",
       "      <td>Estou chatiado por não mandarem minha conta telefonica nem via correio e nem via e-mail. Cordialmente Martins</td>\n",
       "      <td>0.953771</td>\n",
       "    </tr>\n",
       "    <tr>\n",
       "      <th>15584</th>\n",
       "      <td>A Tim presta um serviço péssimo (se é que pode-se chamar isso de serviço). Estou há 3 meses sem internet em casa, não consigo falar com ninguém e nada, absolutamente nada é feito. Nas lojas as atendentes parecem estar me fazendo um favor (sinceramente, não sei em que local essas atendentes foram encontradas e postas para trabalhar). Cada técnico que vai à minha residência diz algo e nada é feito. Não sei mais o que fazer. Aos estrumes incompetentes da Tim, espero que leiam esse comentário.</td>\n",
       "      <td>0.967600</td>\n",
       "    </tr>\n",
       "    <tr>\n",
       "      <th>15600</th>\n",
       "      <td>quando preciso, difícil ter acesso a um atendente humano. isso e péssimo.</td>\n",
       "      <td>0.992473</td>\n",
       "    </tr>\n",
       "    <tr>\n",
       "      <th>15618</th>\n",
       "      <td>falta torre e internet no meu plano É o seguinte, o ano de 2024 meu plano ligações ilimitada me garantia internet o mês todo, a partir de janeiro de 2025 além de me darem o golpe no preço que ano passado era de 35,10 reais, passou para 39,99, mesmo vcs mandando mensagem dizendo que subiria sim o preço mas, apenas 3 reais que, chegaria a 38,10 reais. então preço subio mais que devia e a internet diminuiu. E o pior de tudo é que não consigo falar com atendente de vcs.</td>\n",
       "      <td>0.845854</td>\n",
       "    </tr>\n",
       "    <tr>\n",
       "      <th>15755</th>\n",
       "      <td>péssimo,não tem como falar com atendentepra ser resolvido qualquer problema</td>\n",
       "      <td>0.971210</td>\n",
       "    </tr>\n",
       "  </tbody>\n",
       "</table>\n",
       "</div>"
      ],
      "text/plain": [
       "                                                                                                                                                                                                                                                                                                                                                                                                                                                                                                              content  \\\n",
       "15001                                                                                                                                                                                                                                                                                                                                                                                                                                                                       empresa péssima em relação ao atendimento   \n",
       "15017                                                                                                                                                                                                                                                                                                                                                                                   Quer mudar o plano da OI Fixo para portabilidade TIM fuxo e não consigo falar com ninguém. O atendimento digital é irritante.   \n",
       "15040                                                                                                                                                                                                                           A operadora de plano mais caro que já vi. Já tentei cancelar meu plano e não consigo . Oferecem um plano caro, com dados móveis que praticamente não pegam em lugar nenhum. E o atendimento pela operadora é péssimo e ainda deixa a gente sem resposta e sem solução para o problema   \n",
       "15094                                                                                                                                                                                                                                                                                                      Péssimo. Fiz a portabilidade da Claro para Tim a 2 meses e até agora não consegui usar, fechei um plano para usar benefícios e nada. Via telefone não consigo atendimento e já tenho 3 protocolos da loja.   \n",
       "15185                                                                                                                                                                                                                                                                                                                                                                                                                                                                                    péssimo atendimento horrível   \n",
       "15248                                                                                                                    Meu plano era 80gb, baixaram em menos de 1 ano para 76gb e agora mudaram meu plano para 15gb. Aumentaram o valor do plano em menos de 1 ano, você não pode mandar áudio, nem imagem comprovando, atendente humana não aparece, desligam na sua cara... Eu tou passando mal aqui... DESCASO TOTAL com o cliente, quero cancelar wifi e 4g dessa operadora diabólica 😡... NÃO ENTREM É FURADA!   \n",
       "15263                                                                                                                                                                                                                                                                                                                                                                                                  Pior operadora, só uso porque a única que pega na região em que moro hje. SINAL horrível, atendimento péssimo.   \n",
       "15361                                                                                                                                                                                                                                                                                     se tornou o pior atendimento de todos uma grande vergonha péssima operadora, quando renova a internet o sinal some , trinta dias de uso nunca chegou quando da a data de vencimento a internet vai embora junto vergonhoso.   \n",
       "15412                                                                                                                         pra ficar ruim tem que melhorar muito. trava toda hora, diz que tem uma atualização mais quando tento atualizar volta pra página inicial. Quando abre sempre diz que estou sem saldo. E uma observação, no atendimento por telefone*144 o atendimento é pior ainda. Não tem opção de falar com o atendente. Como falei no começo, para ficar ruim tem que melhorar muito, infelizmente.   \n",
       "15421                                                                                                                                                                                                                                                                                                                                                                                                                                                                                 péssimo app difícil atendimento   \n",
       "15509                                                                                                                                                                                                                                                                                                                                                                                                   Estou chatiado por não mandarem minha conta telefonica nem via correio e nem via e-mail. Cordialmente Martins   \n",
       "15584  A Tim presta um serviço péssimo (se é que pode-se chamar isso de serviço). Estou há 3 meses sem internet em casa, não consigo falar com ninguém e nada, absolutamente nada é feito. Nas lojas as atendentes parecem estar me fazendo um favor (sinceramente, não sei em que local essas atendentes foram encontradas e postas para trabalhar). Cada técnico que vai à minha residência diz algo e nada é feito. Não sei mais o que fazer. Aos estrumes incompetentes da Tim, espero que leiam esse comentário.   \n",
       "15600                                                                                                                                                                                                                                                                                                                                                                                                                                       quando preciso, difícil ter acesso a um atendente humano. isso e péssimo.   \n",
       "15618                          falta torre e internet no meu plano É o seguinte, o ano de 2024 meu plano ligações ilimitada me garantia internet o mês todo, a partir de janeiro de 2025 além de me darem o golpe no preço que ano passado era de 35,10 reais, passou para 39,99, mesmo vcs mandando mensagem dizendo que subiria sim o preço mas, apenas 3 reais que, chegaria a 38,10 reais. então preço subio mais que devia e a internet diminuiu. E o pior de tudo é que não consigo falar com atendente de vcs.   \n",
       "15755                                                                                                                                                                                                                                                                                                                                                                                                                                     péssimo,não tem como falar com atendentepra ser resolvido qualquer problema   \n",
       "\n",
       "       sentiment_NEG  \n",
       "15001       0.991633  \n",
       "15017       0.987004  \n",
       "15040       0.984908  \n",
       "15094       0.976924  \n",
       "15185       0.993200  \n",
       "15248       0.959955  \n",
       "15263       0.992129  \n",
       "15361       0.992178  \n",
       "15412       0.964840  \n",
       "15421       0.991736  \n",
       "15509       0.953771  \n",
       "15584       0.967600  \n",
       "15600       0.992473  \n",
       "15618       0.845854  \n",
       "15755       0.971210  "
      ]
     },
     "execution_count": 49,
     "metadata": {},
     "output_type": "execute_result"
    }
   ],
   "source": [
    "#Sentimento Negativo\n",
    "operadora = df[\"app\"]==\"TIM\"\n",
    "tema = df[\"tema_manual\"].apply(lambda x: isinstance(x, list) and \"Atendimento\" in x)\n",
    "sentimento = df[\"sentiment_NEG\"] > 0.8\n",
    "\n",
    "dados_filtrados = df[(operadora) & (tema) & (sentimento)]\n",
    "dados_filtrados[[\"content\", \"sentiment_NEG\"]].head(15)"
   ]
  },
  {
   "cell_type": "code",
   "execution_count": 48,
   "id": "d33b9615",
   "metadata": {},
   "outputs": [
    {
     "data": {
      "text/html": [
       "<div>\n",
       "<style scoped>\n",
       "    .dataframe tbody tr th:only-of-type {\n",
       "        vertical-align: middle;\n",
       "    }\n",
       "\n",
       "    .dataframe tbody tr th {\n",
       "        vertical-align: top;\n",
       "    }\n",
       "\n",
       "    .dataframe thead th {\n",
       "        text-align: right;\n",
       "    }\n",
       "</style>\n",
       "<table border=\"1\" class=\"dataframe\">\n",
       "  <thead>\n",
       "    <tr style=\"text-align: right;\">\n",
       "      <th></th>\n",
       "      <th>content</th>\n",
       "      <th>sentiment_POS</th>\n",
       "    </tr>\n",
       "  </thead>\n",
       "  <tbody>\n",
       "    <tr>\n",
       "      <th>15002</th>\n",
       "      <td>quase o melhor atendimento falta só menos anúncios</td>\n",
       "      <td>0.953299</td>\n",
       "    </tr>\n",
       "    <tr>\n",
       "      <th>15020</th>\n",
       "      <td>Bom serviço de atendimento</td>\n",
       "      <td>0.981695</td>\n",
       "    </tr>\n",
       "    <tr>\n",
       "      <th>15089</th>\n",
       "      <td>bom atendimento</td>\n",
       "      <td>0.969055</td>\n",
       "    </tr>\n",
       "    <tr>\n",
       "      <th>15368</th>\n",
       "      <td>Atendimento ímpar.</td>\n",
       "      <td>0.990155</td>\n",
       "    </tr>\n",
       "    <tr>\n",
       "      <th>15921</th>\n",
       "      <td>Bom atendimento muito bom 👍</td>\n",
       "      <td>0.939548</td>\n",
       "    </tr>\n",
       "    <tr>\n",
       "      <th>16175</th>\n",
       "      <td>Nada a reclamar. A Tim tem me dado bastante benefícios. Atendimento rápido e eficaz! App eficaz.</td>\n",
       "      <td>0.979279</td>\n",
       "    </tr>\n",
       "    <tr>\n",
       "      <th>16294</th>\n",
       "      <td>Gostei muito do atendimento.</td>\n",
       "      <td>0.978974</td>\n",
       "    </tr>\n",
       "    <tr>\n",
       "      <th>16321</th>\n",
       "      <td>ótima o atendimento obrigado</td>\n",
       "      <td>0.982661</td>\n",
       "    </tr>\n",
       "    <tr>\n",
       "      <th>16562</th>\n",
       "      <td>o atendimento pessoal é bom</td>\n",
       "      <td>0.986668</td>\n",
       "    </tr>\n",
       "    <tr>\n",
       "      <th>16747</th>\n",
       "      <td>Gostei bastante,mas o atendimento ao cliente é demorado para falar com um dos atende dentes.</td>\n",
       "      <td>0.806056</td>\n",
       "    </tr>\n",
       "    <tr>\n",
       "      <th>16920</th>\n",
       "      <td>Ótimo atendimento e muito boas as opções de pagamento</td>\n",
       "      <td>0.931763</td>\n",
       "    </tr>\n",
       "    <tr>\n",
       "      <th>17131</th>\n",
       "      <td>eu só tenho que agradecer a Tim por bom atendimento</td>\n",
       "      <td>0.947490</td>\n",
       "    </tr>\n",
       "    <tr>\n",
       "      <th>17271</th>\n",
       "      <td>otima ou MUITO bom atendimento</td>\n",
       "      <td>0.986618</td>\n",
       "    </tr>\n",
       "    <tr>\n",
       "      <th>17407</th>\n",
       "      <td>ótimo atendimento</td>\n",
       "      <td>0.969055</td>\n",
       "    </tr>\n",
       "    <tr>\n",
       "      <th>17430</th>\n",
       "      <td>parabéns belo atendimento</td>\n",
       "      <td>0.990095</td>\n",
       "    </tr>\n",
       "  </tbody>\n",
       "</table>\n",
       "</div>"
      ],
      "text/plain": [
       "                                                                                                content  \\\n",
       "15002                                                quase o melhor atendimento falta só menos anúncios   \n",
       "15020                                                                        Bom serviço de atendimento   \n",
       "15089                                                                                   bom atendimento   \n",
       "15368                                                                                Atendimento ímpar.   \n",
       "15921                                                                       Bom atendimento muito bom 👍   \n",
       "16175  Nada a reclamar. A Tim tem me dado bastante benefícios. Atendimento rápido e eficaz! App eficaz.   \n",
       "16294                                                                      Gostei muito do atendimento.   \n",
       "16321                                                                      ótima o atendimento obrigado   \n",
       "16562                                                                       o atendimento pessoal é bom   \n",
       "16747      Gostei bastante,mas o atendimento ao cliente é demorado para falar com um dos atende dentes.   \n",
       "16920                                             Ótimo atendimento e muito boas as opções de pagamento   \n",
       "17131                                               eu só tenho que agradecer a Tim por bom atendimento   \n",
       "17271                                                                    otima ou MUITO bom atendimento   \n",
       "17407                                                                                 ótimo atendimento   \n",
       "17430                                                                         parabéns belo atendimento   \n",
       "\n",
       "       sentiment_POS  \n",
       "15002       0.953299  \n",
       "15020       0.981695  \n",
       "15089       0.969055  \n",
       "15368       0.990155  \n",
       "15921       0.939548  \n",
       "16175       0.979279  \n",
       "16294       0.978974  \n",
       "16321       0.982661  \n",
       "16562       0.986668  \n",
       "16747       0.806056  \n",
       "16920       0.931763  \n",
       "17131       0.947490  \n",
       "17271       0.986618  \n",
       "17407       0.969055  \n",
       "17430       0.990095  "
      ]
     },
     "execution_count": 48,
     "metadata": {},
     "output_type": "execute_result"
    }
   ],
   "source": [
    "#Sentimento Positivo\n",
    "tema = df[\"tema_manual\"].apply(lambda x: isinstance(x, list) and \"Atendimento\" in x)\n",
    "sentimento = df[\"sentiment_POS\"] > 0.8\n",
    "\n",
    "dados_filtrados = df[(operadora) & (tema) & (sentimento)]\n",
    "dados_filtrados[[\"content\", \"sentiment_POS\"]].head(15)"
   ]
  },
  {
   "cell_type": "markdown",
   "id": "d0836838",
   "metadata": {},
   "source": [
    "## Vivo"
   ]
  },
  {
   "cell_type": "code",
   "execution_count": 21,
   "id": "2960f2b0",
   "metadata": {},
   "outputs": [
    {
     "data": {
      "application/vnd.plotly.v1+json": {
       "config": {
        "plotlyServerURL": "https://plot.ly"
       },
       "data": [
        {
         "hovertemplate": "volume=%{x}<br>sentimento_medio=%{marker.color}<br>tamanho=%{marker.size}<br>tema_manual=%{text}<extra></extra>",
         "legendgroup": "",
         "marker": {
          "color": {
           "bdata": "jW/aY3fIo7/+VMKiz1q7vw16LSEEi9a/0ETk4vgZ47/vgWj+Mf/VvxaS4F6rAd+/PzRmMXAT5r9w4W3b6rqVv4wLs82quM+/VlBbhi0A378=",
           "dtype": "f8"
          },
          "coloraxis": "coloraxis",
          "size": {
           "bdata": "WOMAAJgmAAC0VQAA5E0AAJRNAAD0OAAAqAcAAGyJAAAERwAArBIAAA==",
           "dtype": "i4"
          },
          "sizemode": "area",
          "sizeref": 145.5,
          "symbol": "circle"
         },
         "mode": "markers+text",
         "name": "",
         "orientation": "v",
         "showlegend": false,
         "text": [
          "App",
          "Atendimento",
          "Conta",
          "Desempenho",
          "Internet",
          "Login",
          "Notificações",
          "Operadora",
          "Plano",
          "Usabilidade"
         ],
         "textposition": "top center",
         "type": "scatter",
         "x": {
          "bdata": "XgvuAUkE5QPhA9kCYgDfBo0D7wA=",
          "dtype": "i2"
         },
         "xaxis": "x",
         "y": {
          "bdata": "jW/aY3fIo7/+VMKiz1q7vw16LSEEi9a/0ETk4vgZ47/vgWj+Mf/VvxaS4F6rAd+/PzRmMXAT5r9w4W3b6rqVv4wLs82quM+/VlBbhi0A378=",
          "dtype": "f8"
         },
         "yaxis": "y"
        }
       ],
       "layout": {
        "coloraxis": {
         "cmax": 1,
         "cmin": -1,
         "colorbar": {
          "title": {
           "text": "Sentimento"
          }
         },
         "colorscale": [
          [
           0,
           "#F74A4A"
          ],
          [
           0.5,
           "#FFFB00"
          ],
          [
           1,
           "#4CAF50"
          ]
         ]
        },
        "height": 700,
        "legend": {
         "itemsizing": "constant",
         "tracegroupgap": 0
        },
        "template": {
         "data": {
          "bar": [
           {
            "error_x": {
             "color": "rgb(36,36,36)"
            },
            "error_y": {
             "color": "rgb(36,36,36)"
            },
            "marker": {
             "line": {
              "color": "rgb(234,234,242)",
              "width": 0.5
             },
             "pattern": {
              "fillmode": "overlay",
              "size": 10,
              "solidity": 0.2
             }
            },
            "type": "bar"
           }
          ],
          "barpolar": [
           {
            "marker": {
             "line": {
              "color": "rgb(234,234,242)",
              "width": 0.5
             },
             "pattern": {
              "fillmode": "overlay",
              "size": 10,
              "solidity": 0.2
             }
            },
            "type": "barpolar"
           }
          ],
          "carpet": [
           {
            "aaxis": {
             "endlinecolor": "rgb(36,36,36)",
             "gridcolor": "white",
             "linecolor": "white",
             "minorgridcolor": "white",
             "startlinecolor": "rgb(36,36,36)"
            },
            "baxis": {
             "endlinecolor": "rgb(36,36,36)",
             "gridcolor": "white",
             "linecolor": "white",
             "minorgridcolor": "white",
             "startlinecolor": "rgb(36,36,36)"
            },
            "type": "carpet"
           }
          ],
          "choropleth": [
           {
            "colorbar": {
             "outlinewidth": 0,
             "tickcolor": "rgb(36,36,36)",
             "ticklen": 8,
             "ticks": "outside",
             "tickwidth": 2
            },
            "type": "choropleth"
           }
          ],
          "contour": [
           {
            "colorbar": {
             "outlinewidth": 0,
             "tickcolor": "rgb(36,36,36)",
             "ticklen": 8,
             "ticks": "outside",
             "tickwidth": 2
            },
            "colorscale": [
             [
              0,
              "rgb(2,4,25)"
             ],
             [
              0.06274509803921569,
              "rgb(24,15,41)"
             ],
             [
              0.12549019607843137,
              "rgb(47,23,57)"
             ],
             [
              0.18823529411764706,
              "rgb(71,28,72)"
             ],
             [
              0.25098039215686274,
              "rgb(97,30,82)"
             ],
             [
              0.3137254901960784,
              "rgb(123,30,89)"
             ],
             [
              0.3764705882352941,
              "rgb(150,27,91)"
             ],
             [
              0.4392156862745098,
              "rgb(177,22,88)"
             ],
             [
              0.5019607843137255,
              "rgb(203,26,79)"
             ],
             [
              0.5647058823529412,
              "rgb(223,47,67)"
             ],
             [
              0.6274509803921569,
              "rgb(236,76,61)"
             ],
             [
              0.6901960784313725,
              "rgb(242,107,73)"
             ],
             [
              0.7529411764705882,
              "rgb(244,135,95)"
             ],
             [
              0.8156862745098039,
              "rgb(245,162,122)"
             ],
             [
              0.8784313725490196,
              "rgb(246,188,153)"
             ],
             [
              0.9411764705882353,
              "rgb(247,212,187)"
             ],
             [
              1,
              "rgb(250,234,220)"
             ]
            ],
            "type": "contour"
           }
          ],
          "contourcarpet": [
           {
            "colorbar": {
             "outlinewidth": 0,
             "tickcolor": "rgb(36,36,36)",
             "ticklen": 8,
             "ticks": "outside",
             "tickwidth": 2
            },
            "type": "contourcarpet"
           }
          ],
          "heatmap": [
           {
            "colorbar": {
             "outlinewidth": 0,
             "tickcolor": "rgb(36,36,36)",
             "ticklen": 8,
             "ticks": "outside",
             "tickwidth": 2
            },
            "colorscale": [
             [
              0,
              "rgb(2,4,25)"
             ],
             [
              0.06274509803921569,
              "rgb(24,15,41)"
             ],
             [
              0.12549019607843137,
              "rgb(47,23,57)"
             ],
             [
              0.18823529411764706,
              "rgb(71,28,72)"
             ],
             [
              0.25098039215686274,
              "rgb(97,30,82)"
             ],
             [
              0.3137254901960784,
              "rgb(123,30,89)"
             ],
             [
              0.3764705882352941,
              "rgb(150,27,91)"
             ],
             [
              0.4392156862745098,
              "rgb(177,22,88)"
             ],
             [
              0.5019607843137255,
              "rgb(203,26,79)"
             ],
             [
              0.5647058823529412,
              "rgb(223,47,67)"
             ],
             [
              0.6274509803921569,
              "rgb(236,76,61)"
             ],
             [
              0.6901960784313725,
              "rgb(242,107,73)"
             ],
             [
              0.7529411764705882,
              "rgb(244,135,95)"
             ],
             [
              0.8156862745098039,
              "rgb(245,162,122)"
             ],
             [
              0.8784313725490196,
              "rgb(246,188,153)"
             ],
             [
              0.9411764705882353,
              "rgb(247,212,187)"
             ],
             [
              1,
              "rgb(250,234,220)"
             ]
            ],
            "type": "heatmap"
           }
          ],
          "histogram": [
           {
            "marker": {
             "pattern": {
              "fillmode": "overlay",
              "size": 10,
              "solidity": 0.2
             }
            },
            "type": "histogram"
           }
          ],
          "histogram2d": [
           {
            "colorbar": {
             "outlinewidth": 0,
             "tickcolor": "rgb(36,36,36)",
             "ticklen": 8,
             "ticks": "outside",
             "tickwidth": 2
            },
            "colorscale": [
             [
              0,
              "rgb(2,4,25)"
             ],
             [
              0.06274509803921569,
              "rgb(24,15,41)"
             ],
             [
              0.12549019607843137,
              "rgb(47,23,57)"
             ],
             [
              0.18823529411764706,
              "rgb(71,28,72)"
             ],
             [
              0.25098039215686274,
              "rgb(97,30,82)"
             ],
             [
              0.3137254901960784,
              "rgb(123,30,89)"
             ],
             [
              0.3764705882352941,
              "rgb(150,27,91)"
             ],
             [
              0.4392156862745098,
              "rgb(177,22,88)"
             ],
             [
              0.5019607843137255,
              "rgb(203,26,79)"
             ],
             [
              0.5647058823529412,
              "rgb(223,47,67)"
             ],
             [
              0.6274509803921569,
              "rgb(236,76,61)"
             ],
             [
              0.6901960784313725,
              "rgb(242,107,73)"
             ],
             [
              0.7529411764705882,
              "rgb(244,135,95)"
             ],
             [
              0.8156862745098039,
              "rgb(245,162,122)"
             ],
             [
              0.8784313725490196,
              "rgb(246,188,153)"
             ],
             [
              0.9411764705882353,
              "rgb(247,212,187)"
             ],
             [
              1,
              "rgb(250,234,220)"
             ]
            ],
            "type": "histogram2d"
           }
          ],
          "histogram2dcontour": [
           {
            "colorbar": {
             "outlinewidth": 0,
             "tickcolor": "rgb(36,36,36)",
             "ticklen": 8,
             "ticks": "outside",
             "tickwidth": 2
            },
            "colorscale": [
             [
              0,
              "rgb(2,4,25)"
             ],
             [
              0.06274509803921569,
              "rgb(24,15,41)"
             ],
             [
              0.12549019607843137,
              "rgb(47,23,57)"
             ],
             [
              0.18823529411764706,
              "rgb(71,28,72)"
             ],
             [
              0.25098039215686274,
              "rgb(97,30,82)"
             ],
             [
              0.3137254901960784,
              "rgb(123,30,89)"
             ],
             [
              0.3764705882352941,
              "rgb(150,27,91)"
             ],
             [
              0.4392156862745098,
              "rgb(177,22,88)"
             ],
             [
              0.5019607843137255,
              "rgb(203,26,79)"
             ],
             [
              0.5647058823529412,
              "rgb(223,47,67)"
             ],
             [
              0.6274509803921569,
              "rgb(236,76,61)"
             ],
             [
              0.6901960784313725,
              "rgb(242,107,73)"
             ],
             [
              0.7529411764705882,
              "rgb(244,135,95)"
             ],
             [
              0.8156862745098039,
              "rgb(245,162,122)"
             ],
             [
              0.8784313725490196,
              "rgb(246,188,153)"
             ],
             [
              0.9411764705882353,
              "rgb(247,212,187)"
             ],
             [
              1,
              "rgb(250,234,220)"
             ]
            ],
            "type": "histogram2dcontour"
           }
          ],
          "mesh3d": [
           {
            "colorbar": {
             "outlinewidth": 0,
             "tickcolor": "rgb(36,36,36)",
             "ticklen": 8,
             "ticks": "outside",
             "tickwidth": 2
            },
            "type": "mesh3d"
           }
          ],
          "parcoords": [
           {
            "line": {
             "colorbar": {
              "outlinewidth": 0,
              "tickcolor": "rgb(36,36,36)",
              "ticklen": 8,
              "ticks": "outside",
              "tickwidth": 2
             }
            },
            "type": "parcoords"
           }
          ],
          "pie": [
           {
            "automargin": true,
            "type": "pie"
           }
          ],
          "scatter": [
           {
            "fillpattern": {
             "fillmode": "overlay",
             "size": 10,
             "solidity": 0.2
            },
            "type": "scatter"
           }
          ],
          "scatter3d": [
           {
            "line": {
             "colorbar": {
              "outlinewidth": 0,
              "tickcolor": "rgb(36,36,36)",
              "ticklen": 8,
              "ticks": "outside",
              "tickwidth": 2
             }
            },
            "marker": {
             "colorbar": {
              "outlinewidth": 0,
              "tickcolor": "rgb(36,36,36)",
              "ticklen": 8,
              "ticks": "outside",
              "tickwidth": 2
             }
            },
            "type": "scatter3d"
           }
          ],
          "scattercarpet": [
           {
            "marker": {
             "colorbar": {
              "outlinewidth": 0,
              "tickcolor": "rgb(36,36,36)",
              "ticklen": 8,
              "ticks": "outside",
              "tickwidth": 2
             }
            },
            "type": "scattercarpet"
           }
          ],
          "scattergeo": [
           {
            "marker": {
             "colorbar": {
              "outlinewidth": 0,
              "tickcolor": "rgb(36,36,36)",
              "ticklen": 8,
              "ticks": "outside",
              "tickwidth": 2
             }
            },
            "type": "scattergeo"
           }
          ],
          "scattergl": [
           {
            "marker": {
             "colorbar": {
              "outlinewidth": 0,
              "tickcolor": "rgb(36,36,36)",
              "ticklen": 8,
              "ticks": "outside",
              "tickwidth": 2
             }
            },
            "type": "scattergl"
           }
          ],
          "scattermap": [
           {
            "marker": {
             "colorbar": {
              "outlinewidth": 0,
              "tickcolor": "rgb(36,36,36)",
              "ticklen": 8,
              "ticks": "outside",
              "tickwidth": 2
             }
            },
            "type": "scattermap"
           }
          ],
          "scattermapbox": [
           {
            "marker": {
             "colorbar": {
              "outlinewidth": 0,
              "tickcolor": "rgb(36,36,36)",
              "ticklen": 8,
              "ticks": "outside",
              "tickwidth": 2
             }
            },
            "type": "scattermapbox"
           }
          ],
          "scatterpolar": [
           {
            "marker": {
             "colorbar": {
              "outlinewidth": 0,
              "tickcolor": "rgb(36,36,36)",
              "ticklen": 8,
              "ticks": "outside",
              "tickwidth": 2
             }
            },
            "type": "scatterpolar"
           }
          ],
          "scatterpolargl": [
           {
            "marker": {
             "colorbar": {
              "outlinewidth": 0,
              "tickcolor": "rgb(36,36,36)",
              "ticklen": 8,
              "ticks": "outside",
              "tickwidth": 2
             }
            },
            "type": "scatterpolargl"
           }
          ],
          "scatterternary": [
           {
            "marker": {
             "colorbar": {
              "outlinewidth": 0,
              "tickcolor": "rgb(36,36,36)",
              "ticklen": 8,
              "ticks": "outside",
              "tickwidth": 2
             }
            },
            "type": "scatterternary"
           }
          ],
          "surface": [
           {
            "colorbar": {
             "outlinewidth": 0,
             "tickcolor": "rgb(36,36,36)",
             "ticklen": 8,
             "ticks": "outside",
             "tickwidth": 2
            },
            "colorscale": [
             [
              0,
              "rgb(2,4,25)"
             ],
             [
              0.06274509803921569,
              "rgb(24,15,41)"
             ],
             [
              0.12549019607843137,
              "rgb(47,23,57)"
             ],
             [
              0.18823529411764706,
              "rgb(71,28,72)"
             ],
             [
              0.25098039215686274,
              "rgb(97,30,82)"
             ],
             [
              0.3137254901960784,
              "rgb(123,30,89)"
             ],
             [
              0.3764705882352941,
              "rgb(150,27,91)"
             ],
             [
              0.4392156862745098,
              "rgb(177,22,88)"
             ],
             [
              0.5019607843137255,
              "rgb(203,26,79)"
             ],
             [
              0.5647058823529412,
              "rgb(223,47,67)"
             ],
             [
              0.6274509803921569,
              "rgb(236,76,61)"
             ],
             [
              0.6901960784313725,
              "rgb(242,107,73)"
             ],
             [
              0.7529411764705882,
              "rgb(244,135,95)"
             ],
             [
              0.8156862745098039,
              "rgb(245,162,122)"
             ],
             [
              0.8784313725490196,
              "rgb(246,188,153)"
             ],
             [
              0.9411764705882353,
              "rgb(247,212,187)"
             ],
             [
              1,
              "rgb(250,234,220)"
             ]
            ],
            "type": "surface"
           }
          ],
          "table": [
           {
            "cells": {
             "fill": {
              "color": "rgb(231,231,240)"
             },
             "line": {
              "color": "white"
             }
            },
            "header": {
             "fill": {
              "color": "rgb(183,183,191)"
             },
             "line": {
              "color": "white"
             }
            },
            "type": "table"
           }
          ]
         },
         "layout": {
          "annotationdefaults": {
           "arrowcolor": "rgb(67,103,167)"
          },
          "autotypenumbers": "strict",
          "coloraxis": {
           "colorbar": {
            "outlinewidth": 0,
            "tickcolor": "rgb(36,36,36)",
            "ticklen": 8,
            "ticks": "outside",
            "tickwidth": 2
           }
          },
          "colorscale": {
           "sequential": [
            [
             0,
             "rgb(2,4,25)"
            ],
            [
             0.06274509803921569,
             "rgb(24,15,41)"
            ],
            [
             0.12549019607843137,
             "rgb(47,23,57)"
            ],
            [
             0.18823529411764706,
             "rgb(71,28,72)"
            ],
            [
             0.25098039215686274,
             "rgb(97,30,82)"
            ],
            [
             0.3137254901960784,
             "rgb(123,30,89)"
            ],
            [
             0.3764705882352941,
             "rgb(150,27,91)"
            ],
            [
             0.4392156862745098,
             "rgb(177,22,88)"
            ],
            [
             0.5019607843137255,
             "rgb(203,26,79)"
            ],
            [
             0.5647058823529412,
             "rgb(223,47,67)"
            ],
            [
             0.6274509803921569,
             "rgb(236,76,61)"
            ],
            [
             0.6901960784313725,
             "rgb(242,107,73)"
            ],
            [
             0.7529411764705882,
             "rgb(244,135,95)"
            ],
            [
             0.8156862745098039,
             "rgb(245,162,122)"
            ],
            [
             0.8784313725490196,
             "rgb(246,188,153)"
            ],
            [
             0.9411764705882353,
             "rgb(247,212,187)"
            ],
            [
             1,
             "rgb(250,234,220)"
            ]
           ],
           "sequentialminus": [
            [
             0,
             "rgb(2,4,25)"
            ],
            [
             0.06274509803921569,
             "rgb(24,15,41)"
            ],
            [
             0.12549019607843137,
             "rgb(47,23,57)"
            ],
            [
             0.18823529411764706,
             "rgb(71,28,72)"
            ],
            [
             0.25098039215686274,
             "rgb(97,30,82)"
            ],
            [
             0.3137254901960784,
             "rgb(123,30,89)"
            ],
            [
             0.3764705882352941,
             "rgb(150,27,91)"
            ],
            [
             0.4392156862745098,
             "rgb(177,22,88)"
            ],
            [
             0.5019607843137255,
             "rgb(203,26,79)"
            ],
            [
             0.5647058823529412,
             "rgb(223,47,67)"
            ],
            [
             0.6274509803921569,
             "rgb(236,76,61)"
            ],
            [
             0.6901960784313725,
             "rgb(242,107,73)"
            ],
            [
             0.7529411764705882,
             "rgb(244,135,95)"
            ],
            [
             0.8156862745098039,
             "rgb(245,162,122)"
            ],
            [
             0.8784313725490196,
             "rgb(246,188,153)"
            ],
            [
             0.9411764705882353,
             "rgb(247,212,187)"
            ],
            [
             1,
             "rgb(250,234,220)"
            ]
           ]
          },
          "colorway": [
           "rgb(76,114,176)",
           "rgb(221,132,82)",
           "rgb(85,168,104)",
           "rgb(196,78,82)",
           "rgb(129,114,179)",
           "rgb(147,120,96)",
           "rgb(218,139,195)",
           "rgb(140,140,140)",
           "rgb(204,185,116)",
           "rgb(100,181,205)"
          ],
          "font": {
           "color": "rgb(36,36,36)"
          },
          "geo": {
           "bgcolor": "white",
           "lakecolor": "white",
           "landcolor": "rgb(234,234,242)",
           "showlakes": true,
           "showland": true,
           "subunitcolor": "white"
          },
          "hoverlabel": {
           "align": "left"
          },
          "hovermode": "closest",
          "paper_bgcolor": "white",
          "plot_bgcolor": "rgb(234,234,242)",
          "polar": {
           "angularaxis": {
            "gridcolor": "white",
            "linecolor": "white",
            "showgrid": true,
            "ticks": ""
           },
           "bgcolor": "rgb(234,234,242)",
           "radialaxis": {
            "gridcolor": "white",
            "linecolor": "white",
            "showgrid": true,
            "ticks": ""
           }
          },
          "scene": {
           "xaxis": {
            "backgroundcolor": "rgb(234,234,242)",
            "gridcolor": "white",
            "gridwidth": 2,
            "linecolor": "white",
            "showbackground": true,
            "showgrid": true,
            "ticks": "",
            "zerolinecolor": "white"
           },
           "yaxis": {
            "backgroundcolor": "rgb(234,234,242)",
            "gridcolor": "white",
            "gridwidth": 2,
            "linecolor": "white",
            "showbackground": true,
            "showgrid": true,
            "ticks": "",
            "zerolinecolor": "white"
           },
           "zaxis": {
            "backgroundcolor": "rgb(234,234,242)",
            "gridcolor": "white",
            "gridwidth": 2,
            "linecolor": "white",
            "showbackground": true,
            "showgrid": true,
            "ticks": "",
            "zerolinecolor": "white"
           }
          },
          "shapedefaults": {
           "fillcolor": "rgb(67,103,167)",
           "line": {
            "width": 0
           },
           "opacity": 0.5
          },
          "ternary": {
           "aaxis": {
            "gridcolor": "white",
            "linecolor": "white",
            "showgrid": true,
            "ticks": ""
           },
           "baxis": {
            "gridcolor": "white",
            "linecolor": "white",
            "showgrid": true,
            "ticks": ""
           },
           "bgcolor": "rgb(234,234,242)",
           "caxis": {
            "gridcolor": "white",
            "linecolor": "white",
            "showgrid": true,
            "ticks": ""
           }
          },
          "xaxis": {
           "automargin": true,
           "gridcolor": "white",
           "linecolor": "white",
           "showgrid": true,
           "ticks": "",
           "title": {
            "standoff": 15
           },
           "zerolinecolor": "white"
          },
          "yaxis": {
           "automargin": true,
           "gridcolor": "white",
           "linecolor": "white",
           "showgrid": true,
           "ticks": "",
           "title": {
            "standoff": 15
           },
           "zerolinecolor": "white"
          }
         }
        },
        "title": {
         "font": {
          "family": "Arial",
          "size": 24
         },
         "text": "<b>Temas + Falados - Vivo</b>",
         "x": 0.5,
         "xanchor": "center",
         "y": 0.9
        },
        "width": 700,
        "xaxis": {
         "anchor": "y",
         "domain": [
          0,
          1
         ],
         "range": [
          -200,
          3000
         ],
         "title": {
          "text": "Qtd Comentários"
         }
        },
        "yaxis": {
         "anchor": "x",
         "domain": [
          0,
          1
         ],
         "range": [
          -1,
          1
         ],
         "title": {
          "text": "Sentimento"
         }
        }
       }
      }
     },
     "metadata": {},
     "output_type": "display_data"
    }
   ],
   "source": [
    "df_vivo = df_explodido[df_explodido[\"app\"] == \"Vivo\"]\n",
    "\n",
    "#Agrupamento por tema\n",
    "df_tema = df_vivo.groupby('tema_manual').agg(\n",
    "    volume=('tema_manual', 'count'),\n",
    "    sentimento_medio=('sentimento_continuo', 'mean')\n",
    ").reset_index()\n",
    "\n",
    "# Normaliza o volume para tamanho dos pontos no gráfico\n",
    "df_tema['tamanho'] = df_tema['volume'] * 20  # Ajuste conforme necessário\n",
    "\n",
    "fig = px.scatter(\n",
    "    df_tema,\n",
    "    x=\"volume\",\n",
    "    y=\"sentimento_medio\",\n",
    "    size=\"tamanho\",\n",
    "    color=\"sentimento_medio\",\n",
    "    text=\"tema_manual\",\n",
    "    color_continuous_scale= [\"#F74A4A\", '#FFFB00', '#4CAF50'],\n",
    "    range_y=[-1, 1],\n",
    "    range_x=[-200, 3000],\n",
    "    title=\"<b>Temas + Falados - Vivo</b>\"\n",
    ")\n",
    "\n",
    "# Ajustes visuais\n",
    "fig.update_traces(textposition='top center')\n",
    "fig.update_layout(\n",
    "    width=700,\n",
    "    height=700,\n",
    "    xaxis_title=\"Qtd Comentários\",\n",
    "    yaxis_title=\"Sentimento\",\n",
    "    coloraxis_colorbar=dict(title=\"Sentimento\"),\n",
    "    coloraxis=dict(cmin=-1, cmax=1),\n",
    "    template=\"seaborn\",\n",
    "    title={'font':{\n",
    "            'size': 24,\n",
    "            'family': 'Arial'},\n",
    "        'x': 0.5,\n",
    "        'xanchor': 'center',\n",
    "        'y': 0.9,\n",
    "    }\n",
    ")\n",
    "\n",
    "fig.show()"
   ]
  },
  {
   "cell_type": "code",
   "execution_count": 22,
   "id": "2b1a8afb",
   "metadata": {},
   "outputs": [
    {
     "data": {
      "application/vnd.plotly.v1+json": {
       "config": {
        "plotlyServerURL": "https://plot.ly"
       },
       "data": [
        {
         "hovertemplate": "volume=%{x}<br>sentimento_medio=%{marker.color}<br>tamanho=%{marker.size}<br>tema_manual=%{text}<extra></extra>",
         "legendgroup": "",
         "marker": {
          "color": {
           "bdata": "jW/aY3fIo7/+VMKiz1q7vw16LSEEi9a/0ETk4vgZ47/vgWj+Mf/VvxaS4F6rAd+/PzRmMXAT5r9w4W3b6rqVv4wLs82quM+/VlBbhi0A378=",
           "dtype": "f8"
          },
          "coloraxis": "coloraxis",
          "size": {
           "bdata": "WOMAAJgmAAC0VQAA5E0AAJRNAAD0OAAAqAcAAGyJAAAERwAArBIAAA==",
           "dtype": "i4"
          },
          "sizemode": "area",
          "sizeref": 145.5,
          "symbol": "circle"
         },
         "mode": "markers+text",
         "name": "",
         "orientation": "v",
         "showlegend": false,
         "text": [
          "App",
          "Atendimento",
          "Conta",
          "Desempenho",
          "Internet",
          "Login",
          "Notificações",
          "Operadora",
          "Plano",
          "Usabilidade"
         ],
         "textposition": "top center",
         "type": "scatter",
         "x": {
          "bdata": "XgvuAUkE5QPhA9kCYgDfBo0D7wA=",
          "dtype": "i2"
         },
         "xaxis": "x",
         "y": {
          "bdata": "jW/aY3fIo7/+VMKiz1q7vw16LSEEi9a/0ETk4vgZ47/vgWj+Mf/VvxaS4F6rAd+/PzRmMXAT5r9w4W3b6rqVv4wLs82quM+/VlBbhi0A378=",
          "dtype": "f8"
         },
         "yaxis": "y"
        }
       ],
       "layout": {
        "coloraxis": {
         "cmax": 1,
         "cmin": -1,
         "colorbar": {
          "title": {
           "text": "Sentimento"
          }
         },
         "colorscale": [
          [
           0,
           "#F74A4A"
          ],
          [
           0.5,
           "#FFFB00"
          ],
          [
           1,
           "#4CAF50"
          ]
         ]
        },
        "height": 700,
        "legend": {
         "itemsizing": "constant",
         "tracegroupgap": 0
        },
        "template": {
         "data": {
          "bar": [
           {
            "error_x": {
             "color": "rgb(36,36,36)"
            },
            "error_y": {
             "color": "rgb(36,36,36)"
            },
            "marker": {
             "line": {
              "color": "rgb(234,234,242)",
              "width": 0.5
             },
             "pattern": {
              "fillmode": "overlay",
              "size": 10,
              "solidity": 0.2
             }
            },
            "type": "bar"
           }
          ],
          "barpolar": [
           {
            "marker": {
             "line": {
              "color": "rgb(234,234,242)",
              "width": 0.5
             },
             "pattern": {
              "fillmode": "overlay",
              "size": 10,
              "solidity": 0.2
             }
            },
            "type": "barpolar"
           }
          ],
          "carpet": [
           {
            "aaxis": {
             "endlinecolor": "rgb(36,36,36)",
             "gridcolor": "white",
             "linecolor": "white",
             "minorgridcolor": "white",
             "startlinecolor": "rgb(36,36,36)"
            },
            "baxis": {
             "endlinecolor": "rgb(36,36,36)",
             "gridcolor": "white",
             "linecolor": "white",
             "minorgridcolor": "white",
             "startlinecolor": "rgb(36,36,36)"
            },
            "type": "carpet"
           }
          ],
          "choropleth": [
           {
            "colorbar": {
             "outlinewidth": 0,
             "tickcolor": "rgb(36,36,36)",
             "ticklen": 8,
             "ticks": "outside",
             "tickwidth": 2
            },
            "type": "choropleth"
           }
          ],
          "contour": [
           {
            "colorbar": {
             "outlinewidth": 0,
             "tickcolor": "rgb(36,36,36)",
             "ticklen": 8,
             "ticks": "outside",
             "tickwidth": 2
            },
            "colorscale": [
             [
              0,
              "rgb(2,4,25)"
             ],
             [
              0.06274509803921569,
              "rgb(24,15,41)"
             ],
             [
              0.12549019607843137,
              "rgb(47,23,57)"
             ],
             [
              0.18823529411764706,
              "rgb(71,28,72)"
             ],
             [
              0.25098039215686274,
              "rgb(97,30,82)"
             ],
             [
              0.3137254901960784,
              "rgb(123,30,89)"
             ],
             [
              0.3764705882352941,
              "rgb(150,27,91)"
             ],
             [
              0.4392156862745098,
              "rgb(177,22,88)"
             ],
             [
              0.5019607843137255,
              "rgb(203,26,79)"
             ],
             [
              0.5647058823529412,
              "rgb(223,47,67)"
             ],
             [
              0.6274509803921569,
              "rgb(236,76,61)"
             ],
             [
              0.6901960784313725,
              "rgb(242,107,73)"
             ],
             [
              0.7529411764705882,
              "rgb(244,135,95)"
             ],
             [
              0.8156862745098039,
              "rgb(245,162,122)"
             ],
             [
              0.8784313725490196,
              "rgb(246,188,153)"
             ],
             [
              0.9411764705882353,
              "rgb(247,212,187)"
             ],
             [
              1,
              "rgb(250,234,220)"
             ]
            ],
            "type": "contour"
           }
          ],
          "contourcarpet": [
           {
            "colorbar": {
             "outlinewidth": 0,
             "tickcolor": "rgb(36,36,36)",
             "ticklen": 8,
             "ticks": "outside",
             "tickwidth": 2
            },
            "type": "contourcarpet"
           }
          ],
          "heatmap": [
           {
            "colorbar": {
             "outlinewidth": 0,
             "tickcolor": "rgb(36,36,36)",
             "ticklen": 8,
             "ticks": "outside",
             "tickwidth": 2
            },
            "colorscale": [
             [
              0,
              "rgb(2,4,25)"
             ],
             [
              0.06274509803921569,
              "rgb(24,15,41)"
             ],
             [
              0.12549019607843137,
              "rgb(47,23,57)"
             ],
             [
              0.18823529411764706,
              "rgb(71,28,72)"
             ],
             [
              0.25098039215686274,
              "rgb(97,30,82)"
             ],
             [
              0.3137254901960784,
              "rgb(123,30,89)"
             ],
             [
              0.3764705882352941,
              "rgb(150,27,91)"
             ],
             [
              0.4392156862745098,
              "rgb(177,22,88)"
             ],
             [
              0.5019607843137255,
              "rgb(203,26,79)"
             ],
             [
              0.5647058823529412,
              "rgb(223,47,67)"
             ],
             [
              0.6274509803921569,
              "rgb(236,76,61)"
             ],
             [
              0.6901960784313725,
              "rgb(242,107,73)"
             ],
             [
              0.7529411764705882,
              "rgb(244,135,95)"
             ],
             [
              0.8156862745098039,
              "rgb(245,162,122)"
             ],
             [
              0.8784313725490196,
              "rgb(246,188,153)"
             ],
             [
              0.9411764705882353,
              "rgb(247,212,187)"
             ],
             [
              1,
              "rgb(250,234,220)"
             ]
            ],
            "type": "heatmap"
           }
          ],
          "histogram": [
           {
            "marker": {
             "pattern": {
              "fillmode": "overlay",
              "size": 10,
              "solidity": 0.2
             }
            },
            "type": "histogram"
           }
          ],
          "histogram2d": [
           {
            "colorbar": {
             "outlinewidth": 0,
             "tickcolor": "rgb(36,36,36)",
             "ticklen": 8,
             "ticks": "outside",
             "tickwidth": 2
            },
            "colorscale": [
             [
              0,
              "rgb(2,4,25)"
             ],
             [
              0.06274509803921569,
              "rgb(24,15,41)"
             ],
             [
              0.12549019607843137,
              "rgb(47,23,57)"
             ],
             [
              0.18823529411764706,
              "rgb(71,28,72)"
             ],
             [
              0.25098039215686274,
              "rgb(97,30,82)"
             ],
             [
              0.3137254901960784,
              "rgb(123,30,89)"
             ],
             [
              0.3764705882352941,
              "rgb(150,27,91)"
             ],
             [
              0.4392156862745098,
              "rgb(177,22,88)"
             ],
             [
              0.5019607843137255,
              "rgb(203,26,79)"
             ],
             [
              0.5647058823529412,
              "rgb(223,47,67)"
             ],
             [
              0.6274509803921569,
              "rgb(236,76,61)"
             ],
             [
              0.6901960784313725,
              "rgb(242,107,73)"
             ],
             [
              0.7529411764705882,
              "rgb(244,135,95)"
             ],
             [
              0.8156862745098039,
              "rgb(245,162,122)"
             ],
             [
              0.8784313725490196,
              "rgb(246,188,153)"
             ],
             [
              0.9411764705882353,
              "rgb(247,212,187)"
             ],
             [
              1,
              "rgb(250,234,220)"
             ]
            ],
            "type": "histogram2d"
           }
          ],
          "histogram2dcontour": [
           {
            "colorbar": {
             "outlinewidth": 0,
             "tickcolor": "rgb(36,36,36)",
             "ticklen": 8,
             "ticks": "outside",
             "tickwidth": 2
            },
            "colorscale": [
             [
              0,
              "rgb(2,4,25)"
             ],
             [
              0.06274509803921569,
              "rgb(24,15,41)"
             ],
             [
              0.12549019607843137,
              "rgb(47,23,57)"
             ],
             [
              0.18823529411764706,
              "rgb(71,28,72)"
             ],
             [
              0.25098039215686274,
              "rgb(97,30,82)"
             ],
             [
              0.3137254901960784,
              "rgb(123,30,89)"
             ],
             [
              0.3764705882352941,
              "rgb(150,27,91)"
             ],
             [
              0.4392156862745098,
              "rgb(177,22,88)"
             ],
             [
              0.5019607843137255,
              "rgb(203,26,79)"
             ],
             [
              0.5647058823529412,
              "rgb(223,47,67)"
             ],
             [
              0.6274509803921569,
              "rgb(236,76,61)"
             ],
             [
              0.6901960784313725,
              "rgb(242,107,73)"
             ],
             [
              0.7529411764705882,
              "rgb(244,135,95)"
             ],
             [
              0.8156862745098039,
              "rgb(245,162,122)"
             ],
             [
              0.8784313725490196,
              "rgb(246,188,153)"
             ],
             [
              0.9411764705882353,
              "rgb(247,212,187)"
             ],
             [
              1,
              "rgb(250,234,220)"
             ]
            ],
            "type": "histogram2dcontour"
           }
          ],
          "mesh3d": [
           {
            "colorbar": {
             "outlinewidth": 0,
             "tickcolor": "rgb(36,36,36)",
             "ticklen": 8,
             "ticks": "outside",
             "tickwidth": 2
            },
            "type": "mesh3d"
           }
          ],
          "parcoords": [
           {
            "line": {
             "colorbar": {
              "outlinewidth": 0,
              "tickcolor": "rgb(36,36,36)",
              "ticklen": 8,
              "ticks": "outside",
              "tickwidth": 2
             }
            },
            "type": "parcoords"
           }
          ],
          "pie": [
           {
            "automargin": true,
            "type": "pie"
           }
          ],
          "scatter": [
           {
            "fillpattern": {
             "fillmode": "overlay",
             "size": 10,
             "solidity": 0.2
            },
            "type": "scatter"
           }
          ],
          "scatter3d": [
           {
            "line": {
             "colorbar": {
              "outlinewidth": 0,
              "tickcolor": "rgb(36,36,36)",
              "ticklen": 8,
              "ticks": "outside",
              "tickwidth": 2
             }
            },
            "marker": {
             "colorbar": {
              "outlinewidth": 0,
              "tickcolor": "rgb(36,36,36)",
              "ticklen": 8,
              "ticks": "outside",
              "tickwidth": 2
             }
            },
            "type": "scatter3d"
           }
          ],
          "scattercarpet": [
           {
            "marker": {
             "colorbar": {
              "outlinewidth": 0,
              "tickcolor": "rgb(36,36,36)",
              "ticklen": 8,
              "ticks": "outside",
              "tickwidth": 2
             }
            },
            "type": "scattercarpet"
           }
          ],
          "scattergeo": [
           {
            "marker": {
             "colorbar": {
              "outlinewidth": 0,
              "tickcolor": "rgb(36,36,36)",
              "ticklen": 8,
              "ticks": "outside",
              "tickwidth": 2
             }
            },
            "type": "scattergeo"
           }
          ],
          "scattergl": [
           {
            "marker": {
             "colorbar": {
              "outlinewidth": 0,
              "tickcolor": "rgb(36,36,36)",
              "ticklen": 8,
              "ticks": "outside",
              "tickwidth": 2
             }
            },
            "type": "scattergl"
           }
          ],
          "scattermap": [
           {
            "marker": {
             "colorbar": {
              "outlinewidth": 0,
              "tickcolor": "rgb(36,36,36)",
              "ticklen": 8,
              "ticks": "outside",
              "tickwidth": 2
             }
            },
            "type": "scattermap"
           }
          ],
          "scattermapbox": [
           {
            "marker": {
             "colorbar": {
              "outlinewidth": 0,
              "tickcolor": "rgb(36,36,36)",
              "ticklen": 8,
              "ticks": "outside",
              "tickwidth": 2
             }
            },
            "type": "scattermapbox"
           }
          ],
          "scatterpolar": [
           {
            "marker": {
             "colorbar": {
              "outlinewidth": 0,
              "tickcolor": "rgb(36,36,36)",
              "ticklen": 8,
              "ticks": "outside",
              "tickwidth": 2
             }
            },
            "type": "scatterpolar"
           }
          ],
          "scatterpolargl": [
           {
            "marker": {
             "colorbar": {
              "outlinewidth": 0,
              "tickcolor": "rgb(36,36,36)",
              "ticklen": 8,
              "ticks": "outside",
              "tickwidth": 2
             }
            },
            "type": "scatterpolargl"
           }
          ],
          "scatterternary": [
           {
            "marker": {
             "colorbar": {
              "outlinewidth": 0,
              "tickcolor": "rgb(36,36,36)",
              "ticklen": 8,
              "ticks": "outside",
              "tickwidth": 2
             }
            },
            "type": "scatterternary"
           }
          ],
          "surface": [
           {
            "colorbar": {
             "outlinewidth": 0,
             "tickcolor": "rgb(36,36,36)",
             "ticklen": 8,
             "ticks": "outside",
             "tickwidth": 2
            },
            "colorscale": [
             [
              0,
              "rgb(2,4,25)"
             ],
             [
              0.06274509803921569,
              "rgb(24,15,41)"
             ],
             [
              0.12549019607843137,
              "rgb(47,23,57)"
             ],
             [
              0.18823529411764706,
              "rgb(71,28,72)"
             ],
             [
              0.25098039215686274,
              "rgb(97,30,82)"
             ],
             [
              0.3137254901960784,
              "rgb(123,30,89)"
             ],
             [
              0.3764705882352941,
              "rgb(150,27,91)"
             ],
             [
              0.4392156862745098,
              "rgb(177,22,88)"
             ],
             [
              0.5019607843137255,
              "rgb(203,26,79)"
             ],
             [
              0.5647058823529412,
              "rgb(223,47,67)"
             ],
             [
              0.6274509803921569,
              "rgb(236,76,61)"
             ],
             [
              0.6901960784313725,
              "rgb(242,107,73)"
             ],
             [
              0.7529411764705882,
              "rgb(244,135,95)"
             ],
             [
              0.8156862745098039,
              "rgb(245,162,122)"
             ],
             [
              0.8784313725490196,
              "rgb(246,188,153)"
             ],
             [
              0.9411764705882353,
              "rgb(247,212,187)"
             ],
             [
              1,
              "rgb(250,234,220)"
             ]
            ],
            "type": "surface"
           }
          ],
          "table": [
           {
            "cells": {
             "fill": {
              "color": "rgb(231,231,240)"
             },
             "line": {
              "color": "white"
             }
            },
            "header": {
             "fill": {
              "color": "rgb(183,183,191)"
             },
             "line": {
              "color": "white"
             }
            },
            "type": "table"
           }
          ]
         },
         "layout": {
          "annotationdefaults": {
           "arrowcolor": "rgb(67,103,167)"
          },
          "autotypenumbers": "strict",
          "coloraxis": {
           "colorbar": {
            "outlinewidth": 0,
            "tickcolor": "rgb(36,36,36)",
            "ticklen": 8,
            "ticks": "outside",
            "tickwidth": 2
           }
          },
          "colorscale": {
           "sequential": [
            [
             0,
             "rgb(2,4,25)"
            ],
            [
             0.06274509803921569,
             "rgb(24,15,41)"
            ],
            [
             0.12549019607843137,
             "rgb(47,23,57)"
            ],
            [
             0.18823529411764706,
             "rgb(71,28,72)"
            ],
            [
             0.25098039215686274,
             "rgb(97,30,82)"
            ],
            [
             0.3137254901960784,
             "rgb(123,30,89)"
            ],
            [
             0.3764705882352941,
             "rgb(150,27,91)"
            ],
            [
             0.4392156862745098,
             "rgb(177,22,88)"
            ],
            [
             0.5019607843137255,
             "rgb(203,26,79)"
            ],
            [
             0.5647058823529412,
             "rgb(223,47,67)"
            ],
            [
             0.6274509803921569,
             "rgb(236,76,61)"
            ],
            [
             0.6901960784313725,
             "rgb(242,107,73)"
            ],
            [
             0.7529411764705882,
             "rgb(244,135,95)"
            ],
            [
             0.8156862745098039,
             "rgb(245,162,122)"
            ],
            [
             0.8784313725490196,
             "rgb(246,188,153)"
            ],
            [
             0.9411764705882353,
             "rgb(247,212,187)"
            ],
            [
             1,
             "rgb(250,234,220)"
            ]
           ],
           "sequentialminus": [
            [
             0,
             "rgb(2,4,25)"
            ],
            [
             0.06274509803921569,
             "rgb(24,15,41)"
            ],
            [
             0.12549019607843137,
             "rgb(47,23,57)"
            ],
            [
             0.18823529411764706,
             "rgb(71,28,72)"
            ],
            [
             0.25098039215686274,
             "rgb(97,30,82)"
            ],
            [
             0.3137254901960784,
             "rgb(123,30,89)"
            ],
            [
             0.3764705882352941,
             "rgb(150,27,91)"
            ],
            [
             0.4392156862745098,
             "rgb(177,22,88)"
            ],
            [
             0.5019607843137255,
             "rgb(203,26,79)"
            ],
            [
             0.5647058823529412,
             "rgb(223,47,67)"
            ],
            [
             0.6274509803921569,
             "rgb(236,76,61)"
            ],
            [
             0.6901960784313725,
             "rgb(242,107,73)"
            ],
            [
             0.7529411764705882,
             "rgb(244,135,95)"
            ],
            [
             0.8156862745098039,
             "rgb(245,162,122)"
            ],
            [
             0.8784313725490196,
             "rgb(246,188,153)"
            ],
            [
             0.9411764705882353,
             "rgb(247,212,187)"
            ],
            [
             1,
             "rgb(250,234,220)"
            ]
           ]
          },
          "colorway": [
           "rgb(76,114,176)",
           "rgb(221,132,82)",
           "rgb(85,168,104)",
           "rgb(196,78,82)",
           "rgb(129,114,179)",
           "rgb(147,120,96)",
           "rgb(218,139,195)",
           "rgb(140,140,140)",
           "rgb(204,185,116)",
           "rgb(100,181,205)"
          ],
          "font": {
           "color": "rgb(36,36,36)"
          },
          "geo": {
           "bgcolor": "white",
           "lakecolor": "white",
           "landcolor": "rgb(234,234,242)",
           "showlakes": true,
           "showland": true,
           "subunitcolor": "white"
          },
          "hoverlabel": {
           "align": "left"
          },
          "hovermode": "closest",
          "paper_bgcolor": "white",
          "plot_bgcolor": "rgb(234,234,242)",
          "polar": {
           "angularaxis": {
            "gridcolor": "white",
            "linecolor": "white",
            "showgrid": true,
            "ticks": ""
           },
           "bgcolor": "rgb(234,234,242)",
           "radialaxis": {
            "gridcolor": "white",
            "linecolor": "white",
            "showgrid": true,
            "ticks": ""
           }
          },
          "scene": {
           "xaxis": {
            "backgroundcolor": "rgb(234,234,242)",
            "gridcolor": "white",
            "gridwidth": 2,
            "linecolor": "white",
            "showbackground": true,
            "showgrid": true,
            "ticks": "",
            "zerolinecolor": "white"
           },
           "yaxis": {
            "backgroundcolor": "rgb(234,234,242)",
            "gridcolor": "white",
            "gridwidth": 2,
            "linecolor": "white",
            "showbackground": true,
            "showgrid": true,
            "ticks": "",
            "zerolinecolor": "white"
           },
           "zaxis": {
            "backgroundcolor": "rgb(234,234,242)",
            "gridcolor": "white",
            "gridwidth": 2,
            "linecolor": "white",
            "showbackground": true,
            "showgrid": true,
            "ticks": "",
            "zerolinecolor": "white"
           }
          },
          "shapedefaults": {
           "fillcolor": "rgb(67,103,167)",
           "line": {
            "width": 0
           },
           "opacity": 0.5
          },
          "ternary": {
           "aaxis": {
            "gridcolor": "white",
            "linecolor": "white",
            "showgrid": true,
            "ticks": ""
           },
           "baxis": {
            "gridcolor": "white",
            "linecolor": "white",
            "showgrid": true,
            "ticks": ""
           },
           "bgcolor": "rgb(234,234,242)",
           "caxis": {
            "gridcolor": "white",
            "linecolor": "white",
            "showgrid": true,
            "ticks": ""
           }
          },
          "xaxis": {
           "automargin": true,
           "gridcolor": "white",
           "linecolor": "white",
           "showgrid": true,
           "ticks": "",
           "title": {
            "standoff": 15
           },
           "zerolinecolor": "white"
          },
          "yaxis": {
           "automargin": true,
           "gridcolor": "white",
           "linecolor": "white",
           "showgrid": true,
           "ticks": "",
           "title": {
            "standoff": 15
           },
           "zerolinecolor": "white"
          }
         }
        },
        "title": {
         "font": {
          "family": "Arial",
          "size": 24
         },
         "text": "<b>Temas + Falados - Vivo (s/ App)</b>",
         "x": 0.5,
         "xanchor": "center",
         "y": 0.9
        },
        "width": 700,
        "xaxis": {
         "anchor": "y",
         "domain": [
          0,
          1
         ],
         "range": [
          -200,
          2500
         ],
         "title": {
          "text": "Qtd Comentários"
         }
        },
        "yaxis": {
         "anchor": "x",
         "domain": [
          0,
          1
         ],
         "range": [
          -1,
          1
         ],
         "title": {
          "text": "Sentimento"
         }
        }
       }
      }
     },
     "metadata": {},
     "output_type": "display_data"
    }
   ],
   "source": [
    "df_vivo = df_explodido[df_explodido[\"app\"] == \"Vivo\"]\n",
    "\n",
    "#Agrupamento por tema\n",
    "df_tema = df_vivo.groupby('tema_manual').agg(\n",
    "    volume=('tema_manual', 'count'),\n",
    "    sentimento_medio=('sentimento_continuo', 'mean')\n",
    ").reset_index()\n",
    "\n",
    "# Normaliza o volume para tamanho dos pontos no gráfico\n",
    "df_tema['tamanho'] = df_tema['volume'] * 20  # Ajuste conforme necessário\n",
    "\n",
    "fig = px.scatter(\n",
    "    df_tema,\n",
    "    x=\"volume\",\n",
    "    y=\"sentimento_medio\",\n",
    "    size=\"tamanho\",\n",
    "    color=\"sentimento_medio\",\n",
    "    text=\"tema_manual\",\n",
    "    color_continuous_scale= [\"#F74A4A\", '#FFFB00', '#4CAF50'],\n",
    "    range_y=[-1, 1],\n",
    "    range_x=[-200, 2500],\n",
    "    title=\"<b>Temas + Falados - Vivo (s/ App)</b>\"\n",
    ")\n",
    "\n",
    "# Ajustes visuais\n",
    "fig.update_traces(textposition='top center')\n",
    "fig.update_layout(\n",
    "    width=700,\n",
    "    height=700,\n",
    "    xaxis_title=\"Qtd Comentários\",\n",
    "    yaxis_title=\"Sentimento\",\n",
    "    coloraxis_colorbar=dict(title=\"Sentimento\"),\n",
    "    coloraxis=dict(cmin=-1, cmax=1),\n",
    "    template=\"seaborn\",\n",
    "    title={'font':{\n",
    "            'size': 24,\n",
    "            'family': 'Arial'},\n",
    "        'x': 0.5,\n",
    "        'xanchor': 'center',\n",
    "        'y': 0.9,\n",
    "    }\n",
    ")\n",
    "\n",
    "fig.show()"
   ]
  },
  {
   "cell_type": "code",
   "execution_count": 54,
   "id": "4dabcf70",
   "metadata": {},
   "outputs": [
    {
     "data": {
      "text/html": [
       "<div>\n",
       "<style scoped>\n",
       "    .dataframe tbody tr th:only-of-type {\n",
       "        vertical-align: middle;\n",
       "    }\n",
       "\n",
       "    .dataframe tbody tr th {\n",
       "        vertical-align: top;\n",
       "    }\n",
       "\n",
       "    .dataframe thead th {\n",
       "        text-align: right;\n",
       "    }\n",
       "</style>\n",
       "<table border=\"1\" class=\"dataframe\">\n",
       "  <thead>\n",
       "    <tr style=\"text-align: right;\">\n",
       "      <th></th>\n",
       "      <th>content</th>\n",
       "      <th>sentiment_NEG</th>\n",
       "    </tr>\n",
       "  </thead>\n",
       "  <tbody>\n",
       "    <tr>\n",
       "      <th>30055</th>\n",
       "      <td>péssima. o app é lento e confuso é repetitivo</td>\n",
       "      <td>0.992501</td>\n",
       "    </tr>\n",
       "    <tr>\n",
       "      <th>30101</th>\n",
       "      <td>não consigo acessar o app de jeito nenhum pra pagar minha fatura ,estou tentando entrar no app e só dá erro ,coloco meu CPF nada ,meu celular nada ,tá horrível</td>\n",
       "      <td>0.977096</td>\n",
       "    </tr>\n",
       "    <tr>\n",
       "      <th>30108</th>\n",
       "      <td>Aplicativo sempre falha e os itens inacessíveis, nem o saldo consigo consultar e esses problemas acontecem há mais de 3 anos. APP atualizado como praxe, assim como a resposta genérica de retorno.</td>\n",
       "      <td>0.912551</td>\n",
       "    </tr>\n",
       "    <tr>\n",
       "      <th>30242</th>\n",
       "      <td>essa aplicativo está horrível!! as abas ficam demorando a carregar e nem Internet está enviando mais, só fica dando: algo deu errado, tente novamente ou volte para o início. aí alguém pode dizer, é seu wifi que está ruim. bom, se eu dentro de casa com o sinal completo do wifi foi o problema, então pq quando eu liguei os dados móveis (INTERNET DELES) que aparentemente estava funcionando deu a mesma coisa!? 🤔 esse app está péssimo. na verdade, essa operadora com fama ladrona em si!</td>\n",
       "      <td>0.983585</td>\n",
       "    </tr>\n",
       "    <tr>\n",
       "      <th>30262</th>\n",
       "      <td>trava toda vez que entra, sem conseguir acessar o serviço.</td>\n",
       "      <td>0.813425</td>\n",
       "    </tr>\n",
       "    <tr>\n",
       "      <th>30296</th>\n",
       "      <td>o app tá bugando na hora de enviar internet marca que o saldo da gente tá vazio</td>\n",
       "      <td>0.925603</td>\n",
       "    </tr>\n",
       "    <tr>\n",
       "      <th>30315</th>\n",
       "      <td>Hoje 08/06/2025 qualidade imagem ruim. O aplicativo é uma piada não ajuda no atendimento. Lamentável o serviço é aplicativo. Instável o sinal de Internet e TV. Sempre que há uma ação da Ability no condomínio acontece. Hoje 23/05 sem sinal e Internet. No aplicativo só dá erro inesperado. Lamentável ser cliente vivo.</td>\n",
       "      <td>0.988179</td>\n",
       "    </tr>\n",
       "    <tr>\n",
       "      <th>30334</th>\n",
       "      <td>Esse aplicativo É HORRÍVEL!!! Não funciona e trava toda hora!</td>\n",
       "      <td>0.991571</td>\n",
       "    </tr>\n",
       "    <tr>\n",
       "      <th>30381</th>\n",
       "      <td>Não consigo alterar o endereço pelo aplicativo, sempre dá erro. Irritante isso.</td>\n",
       "      <td>0.987904</td>\n",
       "    </tr>\n",
       "    <tr>\n",
       "      <th>30388</th>\n",
       "      <td>aplicativo toda hora aparece um.erro</td>\n",
       "      <td>0.896050</td>\n",
       "    </tr>\n",
       "    <tr>\n",
       "      <th>30403</th>\n",
       "      <td>O aplicativo não atualiza nenhuma informação da fatura e, ao sair, não é possível entrar novamente devido a um erro interno, que pede para tentar novamente em alguns minutos. Já se passaram horas e nada mudou. Não é a primeira vez que isso acontece. São erros recorrentes que comprometem bastante a experiência de uso.</td>\n",
       "      <td>0.846677</td>\n",
       "    </tr>\n",
       "    <tr>\n",
       "      <th>30433</th>\n",
       "      <td>Esse aplicativo da VIVO é horrível, simplesmente não consigo nem abrir... Vive travando e o maior trabalho para tira o boleto da fatura. Depois que a vivo comprou a OI nada presta. Estou muito insatisfeito vou fazer portabilidade para a TIM.</td>\n",
       "      <td>0.978139</td>\n",
       "    </tr>\n",
       "    <tr>\n",
       "      <th>30481</th>\n",
       "      <td>APLICATIVO EXTREMAMENTE DEFEITUOSO, estou indignado faz mas de meses que tento acessar meu aplicativo e ele não deixa eu acessa de forma alguma falando que deu erro, pra aproveitar todas as vezes eu faço recarga dupla e só aceita uma e a outra n conta ou seja 40 reais gasto e só pego 20 reais de uma recarga, pelo amor de Deus arrumem esse aplicativo está me deixando muito preocupado e me fazendo ter q troca de operadora</td>\n",
       "      <td>0.979995</td>\n",
       "    </tr>\n",
       "    <tr>\n",
       "      <th>30507</th>\n",
       "      <td>o aplicativo e bom mas as vezes fica lento.</td>\n",
       "      <td>0.921259</td>\n",
       "    </tr>\n",
       "    <tr>\n",
       "      <th>30535</th>\n",
       "      <td>Ta muito ruim a cada atualização eles estraga mais.</td>\n",
       "      <td>0.991395</td>\n",
       "    </tr>\n",
       "  </tbody>\n",
       "</table>\n",
       "</div>"
      ],
      "text/plain": [
       "                                                                                                                                                                                                                                                                                                                                                                                                                                                                                                    content  \\\n",
       "30055                                                                                                                                                                                                                                                                                                                                                                                                                                                         péssima. o app é lento e confuso é repetitivo   \n",
       "30101                                                                                                                                                                                                                                                                                                                                       não consigo acessar o app de jeito nenhum pra pagar minha fatura ,estou tentando entrar no app e só dá erro ,coloco meu CPF nada ,meu celular nada ,tá horrível   \n",
       "30108                                                                                                                                                                                                                                                                                                   Aplicativo sempre falha e os itens inacessíveis, nem o saldo consigo consultar e esses problemas acontecem há mais de 3 anos. APP atualizado como praxe, assim como a resposta genérica de retorno.   \n",
       "30242  essa aplicativo está horrível!! as abas ficam demorando a carregar e nem Internet está enviando mais, só fica dando: algo deu errado, tente novamente ou volte para o início. aí alguém pode dizer, é seu wifi que está ruim. bom, se eu dentro de casa com o sinal completo do wifi foi o problema, então pq quando eu liguei os dados móveis (INTERNET DELES) que aparentemente estava funcionando deu a mesma coisa!? 🤔 esse app está péssimo. na verdade, essa operadora com fama ladrona em si!   \n",
       "30262                                                                                                                                                                                                                                                                                                                                                                                                                                            trava toda vez que entra, sem conseguir acessar o serviço.   \n",
       "30296                                                                                                                                                                                                                                                                                                                                                                                                                       o app tá bugando na hora de enviar internet marca que o saldo da gente tá vazio   \n",
       "30315                                                                                                                                                                          Hoje 08/06/2025 qualidade imagem ruim. O aplicativo é uma piada não ajuda no atendimento. Lamentável o serviço é aplicativo. Instável o sinal de Internet e TV. Sempre que há uma ação da Ability no condomínio acontece. Hoje 23/05 sem sinal e Internet. No aplicativo só dá erro inesperado. Lamentável ser cliente vivo.   \n",
       "30334                                                                                                                                                                                                                                                                                                                                                                                                                                         Esse aplicativo É HORRÍVEL!!! Não funciona e trava toda hora!   \n",
       "30381                                                                                                                                                                                                                                                                                                                                                                                                                       Não consigo alterar o endereço pelo aplicativo, sempre dá erro. Irritante isso.   \n",
       "30388                                                                                                                                                                                                                                                                                                                                                                                                                                                                  aplicativo toda hora aparece um.erro   \n",
       "30403                                                                                                                                                                        O aplicativo não atualiza nenhuma informação da fatura e, ao sair, não é possível entrar novamente devido a um erro interno, que pede para tentar novamente em alguns minutos. Já se passaram horas e nada mudou. Não é a primeira vez que isso acontece. São erros recorrentes que comprometem bastante a experiência de uso.   \n",
       "30433                                                                                                                                                                                                                                                     Esse aplicativo da VIVO é horrível, simplesmente não consigo nem abrir... Vive travando e o maior trabalho para tira o boleto da fatura. Depois que a vivo comprou a OI nada presta. Estou muito insatisfeito vou fazer portabilidade para a TIM.   \n",
       "30481                                                               APLICATIVO EXTREMAMENTE DEFEITUOSO, estou indignado faz mas de meses que tento acessar meu aplicativo e ele não deixa eu acessa de forma alguma falando que deu erro, pra aproveitar todas as vezes eu faço recarga dupla e só aceita uma e a outra n conta ou seja 40 reais gasto e só pego 20 reais de uma recarga, pelo amor de Deus arrumem esse aplicativo está me deixando muito preocupado e me fazendo ter q troca de operadora   \n",
       "30507                                                                                                                                                                                                                                                                                                                                                                                                                                                           o aplicativo e bom mas as vezes fica lento.   \n",
       "30535                                                                                                                                                                                                                                                                                                                                                                                                                                                   Ta muito ruim a cada atualização eles estraga mais.   \n",
       "\n",
       "       sentiment_NEG  \n",
       "30055       0.992501  \n",
       "30101       0.977096  \n",
       "30108       0.912551  \n",
       "30242       0.983585  \n",
       "30262       0.813425  \n",
       "30296       0.925603  \n",
       "30315       0.988179  \n",
       "30334       0.991571  \n",
       "30381       0.987904  \n",
       "30388       0.896050  \n",
       "30403       0.846677  \n",
       "30433       0.978139  \n",
       "30481       0.979995  \n",
       "30507       0.921259  \n",
       "30535       0.991395  "
      ]
     },
     "execution_count": 54,
     "metadata": {},
     "output_type": "execute_result"
    }
   ],
   "source": [
    "#Sentimento Negativo\n",
    "operadora = df[\"app\"]==\"Vivo\"\n",
    "tema = df[\"tema_manual\"].apply(lambda x: isinstance(x, list) and \"Desempenho\" in x)\n",
    "sentimento = df[\"sentiment_NEG\"] > 0.8\n",
    "\n",
    "dados_filtrados = df[(operadora) & (tema) & (sentimento)]\n",
    "dados_filtrados[[\"content\", \"sentiment_NEG\"]].head(15)"
   ]
  },
  {
   "cell_type": "code",
   "execution_count": 55,
   "id": "1bb5deb6",
   "metadata": {},
   "outputs": [
    {
     "data": {
      "text/html": [
       "<div>\n",
       "<style scoped>\n",
       "    .dataframe tbody tr th:only-of-type {\n",
       "        vertical-align: middle;\n",
       "    }\n",
       "\n",
       "    .dataframe tbody tr th {\n",
       "        vertical-align: top;\n",
       "    }\n",
       "\n",
       "    .dataframe thead th {\n",
       "        text-align: right;\n",
       "    }\n",
       "</style>\n",
       "<table border=\"1\" class=\"dataframe\">\n",
       "  <thead>\n",
       "    <tr style=\"text-align: right;\">\n",
       "      <th></th>\n",
       "      <th>content</th>\n",
       "      <th>sentiment_POS</th>\n",
       "    </tr>\n",
       "  </thead>\n",
       "  <tbody>\n",
       "    <tr>\n",
       "      <th>30157</th>\n",
       "      <td>Agora sim, a análise remota de problemas da Vivo consertou tudo! Ficou uma beleza... 👏</td>\n",
       "      <td>0.860003</td>\n",
       "    </tr>\n",
       "    <tr>\n",
       "      <th>30662</th>\n",
       "      <td>Ótimo, nunca tive problemas! Faço tudo pelo app é super fácil.</td>\n",
       "      <td>0.894991</td>\n",
       "    </tr>\n",
       "    <tr>\n",
       "      <th>31826</th>\n",
       "      <td>Não tenho o que questionar, nunca tive problemas.\"Parabéns pelo excelente aplicativo! É uma ferramenta incrível e muito útil!</td>\n",
       "      <td>0.988535</td>\n",
       "    </tr>\n",
       "    <tr>\n",
       "      <th>32137</th>\n",
       "      <td>muito bom pode resolver todos os problemas ok obrigado</td>\n",
       "      <td>0.953129</td>\n",
       "    </tr>\n",
       "    <tr>\n",
       "      <th>32750</th>\n",
       "      <td>bem legal o aplicativo não tenho nenhum problema em relação ao uso apenas gostaria que que a Vivo disponibilizasse Internet liberada para jogos seria bem legal.....as vezes acaba muito rápido ..Só uma dica seria legal....valeu 😌👋</td>\n",
       "      <td>0.977024</td>\n",
       "    </tr>\n",
       "    <tr>\n",
       "      <th>33429</th>\n",
       "      <td>excelente trabalho nenhum problema</td>\n",
       "      <td>0.982819</td>\n",
       "    </tr>\n",
       "    <tr>\n",
       "      <th>34129</th>\n",
       "      <td>Quero registrar meus parabéns pelo atendende de hoje 27/05/2025...exelente atendimento e resolveu meu problema que a anos não era resolvido...PARABÉNS!!!</td>\n",
       "      <td>0.991294</td>\n",
       "    </tr>\n",
       "    <tr>\n",
       "      <th>34242</th>\n",
       "      <td>o app era ótimo, conseguia editar senha e ver quem está conectado a minha rede, mas com a atualização de hoje tiraram essa função e passaram essas funções para o smart wifi, que simplesmente não funciona, pois agora não consigo desbloquear dispositivos quando quero, sendo assim, irei cancelar minha assinatura vivo</td>\n",
       "      <td>0.885241</td>\n",
       "    </tr>\n",
       "    <tr>\n",
       "      <th>34553</th>\n",
       "      <td>Adoro usar o app da Vivo, apesar das instabilidade da Internet de vez enquanto. Gostaria de deixar uma sugestão, consigo fazer quase tudo pelo app, gostaria de fazer transferência de crédito tbm pelo app, até pq o 7000, na maioria das vezes não funciona, e se esse serviço pudesse ser feito pelo app tbm seria maravilhoso. #fica a dica</td>\n",
       "      <td>0.959931</td>\n",
       "    </tr>\n",
       "    <tr>\n",
       "      <th>34874</th>\n",
       "      <td>excelente aplicativo 🤩 não tenho problemas com a vivo,,,, parabéns continue assim</td>\n",
       "      <td>0.990668</td>\n",
       "    </tr>\n",
       "    <tr>\n",
       "      <th>36185</th>\n",
       "      <td>melhor app, não trava e consigo resolver tudo que preciso.</td>\n",
       "      <td>0.986224</td>\n",
       "    </tr>\n",
       "    <tr>\n",
       "      <th>37143</th>\n",
       "      <td>O aplicativo funciona bem e sem travamentos no Poco F6. Bom trabalho equipe de desenvolvedores! 😊</td>\n",
       "      <td>0.866583</td>\n",
       "    </tr>\n",
       "    <tr>\n",
       "      <th>37329</th>\n",
       "      <td>Bom demais, mas a Internet esta muito lenta!!!</td>\n",
       "      <td>0.903467</td>\n",
       "    </tr>\n",
       "    <tr>\n",
       "      <th>38227</th>\n",
       "      <td>O app é bom, só é um pouco lento. Se melhorasse essa questão seria perfeito!!</td>\n",
       "      <td>0.863609</td>\n",
       "    </tr>\n",
       "    <tr>\n",
       "      <th>38475</th>\n",
       "      <td>É uma rede muito boa que continua com essa qualidade de rede para nossas casas rede vivo a minha família gosta e na minha região de Mauá sp está pegando bem a Internet agora eu posso assistir e trabalhar sem travar os meus planos de serviço com meu celular obrigado rede vivo para proporcionar essa rede na minha casa e no meu bairro espero que venha mais promoções para mim vou adorar, e o pessoal da minha região vão adorar as notícias dessa rede maravilhosa e sempre que poder eu vou compartilhar.</td>\n",
       "      <td>0.974852</td>\n",
       "    </tr>\n",
       "  </tbody>\n",
       "</table>\n",
       "</div>"
      ],
      "text/plain": [
       "                                                                                                                                                                                                                                                                                                                                                                                                                                                                                                                    content  \\\n",
       "30157                                                                                                                                                                                                                                                                                                                                                                                                                                Agora sim, a análise remota de problemas da Vivo consertou tudo! Ficou uma beleza... 👏   \n",
       "30662                                                                                                                                                                                                                                                                                                                                                                                                                                                        Ótimo, nunca tive problemas! Faço tudo pelo app é super fácil.   \n",
       "31826                                                                                                                                                                                                                                                                                                                                                                                         Não tenho o que questionar, nunca tive problemas.\"Parabéns pelo excelente aplicativo! É uma ferramenta incrível e muito útil!   \n",
       "32137                                                                                                                                                                                                                                                                                                                                                                                                                                                                muito bom pode resolver todos os problemas ok obrigado   \n",
       "32750                                                                                                                                                                                                                                                                                 bem legal o aplicativo não tenho nenhum problema em relação ao uso apenas gostaria que que a Vivo disponibilizasse Internet liberada para jogos seria bem legal.....as vezes acaba muito rápido ..Só uma dica seria legal....valeu 😌👋   \n",
       "33429                                                                                                                                                                                                                                                                                                                                                                                                                                                                                    excelente trabalho nenhum problema   \n",
       "34129                                                                                                                                                                                                                                                                                                                                                             Quero registrar meus parabéns pelo atendende de hoje 27/05/2025...exelente atendimento e resolveu meu problema que a anos não era resolvido...PARABÉNS!!!   \n",
       "34242                                                                                                                                                                                           o app era ótimo, conseguia editar senha e ver quem está conectado a minha rede, mas com a atualização de hoje tiraram essa função e passaram essas funções para o smart wifi, que simplesmente não funciona, pois agora não consigo desbloquear dispositivos quando quero, sendo assim, irei cancelar minha assinatura vivo   \n",
       "34553                                                                                                                                                                       Adoro usar o app da Vivo, apesar das instabilidade da Internet de vez enquanto. Gostaria de deixar uma sugestão, consigo fazer quase tudo pelo app, gostaria de fazer transferência de crédito tbm pelo app, até pq o 7000, na maioria das vezes não funciona, e se esse serviço pudesse ser feito pelo app tbm seria maravilhoso. #fica a dica   \n",
       "34874                                                                                                                                                                                                                                                                                                                                                                                                                                     excelente aplicativo 🤩 não tenho problemas com a vivo,,,, parabéns continue assim   \n",
       "36185                                                                                                                                                                                                                                                                                                                                                                                                                                                            melhor app, não trava e consigo resolver tudo que preciso.   \n",
       "37143                                                                                                                                                                                                                                                                                                                                                                                                                     O aplicativo funciona bem e sem travamentos no Poco F6. Bom trabalho equipe de desenvolvedores! 😊   \n",
       "37329                                                                                                                                                                                                                                                                                                                                                                                                                                                                        Bom demais, mas a Internet esta muito lenta!!!   \n",
       "38227                                                                                                                                                                                                                                                                                                                                                                                                                                         O app é bom, só é um pouco lento. Se melhorasse essa questão seria perfeito!!   \n",
       "38475  É uma rede muito boa que continua com essa qualidade de rede para nossas casas rede vivo a minha família gosta e na minha região de Mauá sp está pegando bem a Internet agora eu posso assistir e trabalhar sem travar os meus planos de serviço com meu celular obrigado rede vivo para proporcionar essa rede na minha casa e no meu bairro espero que venha mais promoções para mim vou adorar, e o pessoal da minha região vão adorar as notícias dessa rede maravilhosa e sempre que poder eu vou compartilhar.   \n",
       "\n",
       "       sentiment_POS  \n",
       "30157       0.860003  \n",
       "30662       0.894991  \n",
       "31826       0.988535  \n",
       "32137       0.953129  \n",
       "32750       0.977024  \n",
       "33429       0.982819  \n",
       "34129       0.991294  \n",
       "34242       0.885241  \n",
       "34553       0.959931  \n",
       "34874       0.990668  \n",
       "36185       0.986224  \n",
       "37143       0.866583  \n",
       "37329       0.903467  \n",
       "38227       0.863609  \n",
       "38475       0.974852  "
      ]
     },
     "execution_count": 55,
     "metadata": {},
     "output_type": "execute_result"
    }
   ],
   "source": [
    "#Sentimento Positivo\n",
    "tema = df[\"tema_manual\"].apply(lambda x: isinstance(x, list) and \"Desempenho\" in x)\n",
    "sentimento = df[\"sentiment_POS\"] > 0.8\n",
    "\n",
    "dados_filtrados = df[(operadora) & (tema) & (sentimento)]\n",
    "dados_filtrados[[\"content\", \"sentiment_POS\"]].head(15)"
   ]
  }
 ],
 "metadata": {
  "kernelspec": {
   "display_name": "Python 3",
   "language": "python",
   "name": "python3"
  },
  "language_info": {
   "codemirror_mode": {
    "name": "ipython",
    "version": 3
   },
   "file_extension": ".py",
   "mimetype": "text/x-python",
   "name": "python",
   "nbconvert_exporter": "python",
   "pygments_lexer": "ipython3",
   "version": "3.10.0"
  }
 },
 "nbformat": 4,
 "nbformat_minor": 5
}
